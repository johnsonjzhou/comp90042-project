{
 "cells": [
  {
   "attachments": {},
   "cell_type": "markdown",
   "metadata": {},
   "source": [
    "# Model 02: Fast evidence shortlisting by information extraction"
   ]
  },
  {
   "attachments": {},
   "cell_type": "markdown",
   "metadata": {},
   "source": [
    "This is actually not as good as 02a"
   ]
  },
  {
   "cell_type": "code",
   "execution_count": 3,
   "metadata": {},
   "outputs": [],
   "source": [
    "# Change the working directory to project root\n",
    "from pathlib import Path\n",
    "import os\n",
    "ROOT_DIR = Path.cwd()\n",
    "while not ROOT_DIR.joinpath(\"src\").exists():\n",
    "    ROOT_DIR = ROOT_DIR.parent\n",
    "os.chdir(ROOT_DIR)"
   ]
  },
  {
   "cell_type": "code",
   "execution_count": 4,
   "metadata": {},
   "outputs": [],
   "source": [
    "# Dependencies\n",
    "import json\n",
    "from sklearn.model_selection import ParameterGrid\n",
    "import numpy as np\n",
    "import pandas as pd\n",
    "import matplotlib.pyplot as plt\n",
    "from collections import defaultdict, Counter\n",
    "from typing import List, Dict, DefaultDict\n",
    "from dataclasses import dataclass\n",
    "from tqdm import tqdm\n",
    "from multiprocessing.pool import ThreadPool as Pool\n",
    "from math import floor\n",
    "\n",
    "from src.data import load_as_dataframe, slice_by_claim, SetEncoder\n",
    "from src.normalize import normalize_pipeline\n",
    "from src.ner import \\\n",
    "    train_noun_relations, \\\n",
    "    get_evidence_by_noun, \\\n",
    "    retrieve_claim_evidence_by_noun, \\\n",
    "    view_claim_noun_phrases"
   ]
  },
  {
   "cell_type": "code",
   "execution_count": 5,
   "metadata": {},
   "outputs": [
    {
     "name": "stderr",
     "output_type": "stream",
     "text": [
      "/opt/homebrew/Caskroom/miniconda/base/envs/comp90042_project/lib/python3.8/site-packages/tqdm/auto.py:21: TqdmWarning: IProgress not found. Please update jupyter and ipywidgets. See https://ipywidgets.readthedocs.io/en/stable/user_install.html\n",
      "  from .autonotebook import tqdm as notebook_tqdm\n"
     ]
    },
    {
     "data": {
      "text/plain": [
       "['tok2vec', 'tagger', 'parser', 'attribute_ruler', 'lemmatizer', 'ner']"
      ]
     },
     "execution_count": 5,
     "metadata": {},
     "output_type": "execute_result"
    }
   ],
   "source": [
    "import spacy\n",
    "from spacy import displacy\n",
    "nlp = spacy.load(\"en_core_web_sm\")\n",
    "nlp.pipe_names"
   ]
  },
  {
   "cell_type": "code",
   "execution_count": 6,
   "metadata": {},
   "outputs": [],
   "source": [
    "test = nlp(\"there\")"
   ]
  },
  {
   "cell_type": "code",
   "execution_count": 7,
   "metadata": {},
   "outputs": [
    {
     "name": "stdout",
     "output_type": "stream",
     "text": [
      "ADV\n"
     ]
    }
   ],
   "source": [
    "for t in test:\n",
    "    print(t.pos_)"
   ]
  },
  {
   "attachments": {},
   "cell_type": "markdown",
   "metadata": {},
   "source": [
    "# Load datasets"
   ]
  },
  {
   "cell_type": "code",
   "execution_count": 8,
   "metadata": {},
   "outputs": [
    {
     "name": "stdout",
     "output_type": "stream",
     "text": [
      "Loaded train-claims\n",
      "Loaded dev-claims\n",
      "Loaded evidence\n"
     ]
    }
   ],
   "source": [
    "data_names = [\"train-claims\", \"dev-claims\", \"evidence\"]\n",
    "train_claims, dev_claims, all_evidences \\\n",
    "    = load_as_dataframe(data_names, full_evidence=True)"
   ]
  },
  {
   "attachments": {},
   "cell_type": "markdown",
   "metadata": {},
   "source": [
    "## Visualise dependencies"
   ]
  },
  {
   "cell_type": "code",
   "execution_count": 9,
   "metadata": {},
   "outputs": [
    {
     "data": {
      "text/html": [
       "<div>\n",
       "<style scoped>\n",
       "    .dataframe tbody tr th:only-of-type {\n",
       "        vertical-align: middle;\n",
       "    }\n",
       "\n",
       "    .dataframe tbody tr th {\n",
       "        vertical-align: top;\n",
       "    }\n",
       "\n",
       "    .dataframe thead th {\n",
       "        text-align: right;\n",
       "    }\n",
       "</style>\n",
       "<table border=\"1\" class=\"dataframe\">\n",
       "  <thead>\n",
       "    <tr style=\"text-align: right;\">\n",
       "      <th></th>\n",
       "      <th>claim_text</th>\n",
       "      <th>claim_label</th>\n",
       "      <th>evidences</th>\n",
       "      <th>evidence_text</th>\n",
       "    </tr>\n",
       "  </thead>\n",
       "  <tbody>\n",
       "    <tr>\n",
       "      <th>0</th>\n",
       "      <td>Greg Hunt CSIRO research shows carbon emission...</td>\n",
       "      <td>NOT_ENOUGH_INFO</td>\n",
       "      <td>evidence-798121</td>\n",
       "      <td>To further reduce U.S. carbon dioxide emission...</td>\n",
       "    </tr>\n",
       "    <tr>\n",
       "      <th>1</th>\n",
       "      <td>Greg Hunt CSIRO research shows carbon emission...</td>\n",
       "      <td>NOT_ENOUGH_INFO</td>\n",
       "      <td>evidence-305800</td>\n",
       "      <td>Almost 20 percent (8 GtCO2/year) of total gree...</td>\n",
       "    </tr>\n",
       "    <tr>\n",
       "      <th>2</th>\n",
       "      <td>Greg Hunt CSIRO research shows carbon emission...</td>\n",
       "      <td>NOT_ENOUGH_INFO</td>\n",
       "      <td>evidence-108068</td>\n",
       "      <td>It is estimated that increasing the carbon con...</td>\n",
       "    </tr>\n",
       "    <tr>\n",
       "      <th>3</th>\n",
       "      <td>Greg Hunt CSIRO research shows carbon emission...</td>\n",
       "      <td>NOT_ENOUGH_INFO</td>\n",
       "      <td>evidence-234076</td>\n",
       "      <td>There is a large potential for future reductio...</td>\n",
       "    </tr>\n",
       "    <tr>\n",
       "      <th>4</th>\n",
       "      <td>Greg Hunt CSIRO research shows carbon emission...</td>\n",
       "      <td>NOT_ENOUGH_INFO</td>\n",
       "      <td>evidence-1111240</td>\n",
       "      <td>\"Ireland to Plant 440 Million Trees in 20 Year...</td>\n",
       "    </tr>\n",
       "  </tbody>\n",
       "</table>\n",
       "</div>"
      ],
      "text/plain": [
       "                                          claim_text      claim_label   \n",
       "0  Greg Hunt CSIRO research shows carbon emission...  NOT_ENOUGH_INFO  \\\n",
       "1  Greg Hunt CSIRO research shows carbon emission...  NOT_ENOUGH_INFO   \n",
       "2  Greg Hunt CSIRO research shows carbon emission...  NOT_ENOUGH_INFO   \n",
       "3  Greg Hunt CSIRO research shows carbon emission...  NOT_ENOUGH_INFO   \n",
       "4  Greg Hunt CSIRO research shows carbon emission...  NOT_ENOUGH_INFO   \n",
       "\n",
       "          evidences                                      evidence_text  \n",
       "0   evidence-798121  To further reduce U.S. carbon dioxide emission...  \n",
       "1   evidence-305800  Almost 20 percent (8 GtCO2/year) of total gree...  \n",
       "2   evidence-108068  It is estimated that increasing the carbon con...  \n",
       "3   evidence-234076  There is a large potential for future reductio...  \n",
       "4  evidence-1111240  \"Ireland to Plant 440 Million Trees in 20 Year...  "
      ]
     },
     "execution_count": 9,
     "metadata": {},
     "output_type": "execute_result"
    }
   ],
   "source": [
    "pairs = dev_claims.loc[\"claim-1896\"].reset_index()\n",
    "pair_index = 0\n",
    "# pairs = train_claims.loc[\"claim-126\"].reset_index()\n",
    "# pair_index = 1\n",
    "# pairs = train_claims.loc[\"claim-1937\"].reset_index()\n",
    "# pair_index = 2\n",
    "# pairs = train_claims.loc[\"claim-2510\"].reset_index()\n",
    "# pair_index = 0\n",
    "# pairs = dev_claims.loc[\"claim-2062\"].reset_index()\n",
    "# pair_index = 0\n",
    "# pairs = dev_claims.loc[\"claim-139\"].reset_index()\n",
    "# pair_index = 0\n",
    "# pairs = dev_claims.loc[\"claim-752\"].reset_index()\n",
    "# pair_index = 0\n",
    "# pairs = dev_claims.loc[\"claim-506\"].reset_index()\n",
    "# pair_index = 4\n",
    "# pairs = dev_claims.loc[\"claim-1975\"].reset_index()\n",
    "# pair_index = 0\n",
    "pairs"
   ]
  },
  {
   "cell_type": "code",
   "execution_count": 10,
   "metadata": {},
   "outputs": [
    {
     "data": {
      "text/html": [
       "<span class=\"tex2jax_ignore\"><svg xmlns=\"http://www.w3.org/2000/svg\" xmlns:xlink=\"http://www.w3.org/1999/xlink\" xml:lang=\"en\" id=\"82a645031ad746e3a20c8160b484e904-0\" class=\"displacy\" width=\"3900\" height=\"574.5\" direction=\"ltr\" style=\"max-width: none; height: 574.5px; color: #000000; background: #ffffff; font-family: Arial; direction: ltr\">\n",
       "<text class=\"displacy-token\" fill=\"currentColor\" text-anchor=\"middle\" y=\"484.5\">\n",
       "    <tspan class=\"displacy-word\" fill=\"currentColor\" x=\"50\">greg</tspan>\n",
       "    <tspan class=\"displacy-tag\" dy=\"2em\" fill=\"currentColor\" x=\"50\">PROPN</tspan>\n",
       "</text>\n",
       "\n",
       "<text class=\"displacy-token\" fill=\"currentColor\" text-anchor=\"middle\" y=\"484.5\">\n",
       "    <tspan class=\"displacy-word\" fill=\"currentColor\" x=\"225\">hunt</tspan>\n",
       "    <tspan class=\"displacy-tag\" dy=\"2em\" fill=\"currentColor\" x=\"225\">PROPN</tspan>\n",
       "</text>\n",
       "\n",
       "<text class=\"displacy-token\" fill=\"currentColor\" text-anchor=\"middle\" y=\"484.5\">\n",
       "    <tspan class=\"displacy-word\" fill=\"currentColor\" x=\"400\">csiro</tspan>\n",
       "    <tspan class=\"displacy-tag\" dy=\"2em\" fill=\"currentColor\" x=\"400\">PROPN</tspan>\n",
       "</text>\n",
       "\n",
       "<text class=\"displacy-token\" fill=\"currentColor\" text-anchor=\"middle\" y=\"484.5\">\n",
       "    <tspan class=\"displacy-word\" fill=\"currentColor\" x=\"575\">research</tspan>\n",
       "    <tspan class=\"displacy-tag\" dy=\"2em\" fill=\"currentColor\" x=\"575\">NOUN</tspan>\n",
       "</text>\n",
       "\n",
       "<text class=\"displacy-token\" fill=\"currentColor\" text-anchor=\"middle\" y=\"484.5\">\n",
       "    <tspan class=\"displacy-word\" fill=\"currentColor\" x=\"750\">shows</tspan>\n",
       "    <tspan class=\"displacy-tag\" dy=\"2em\" fill=\"currentColor\" x=\"750\">VERB</tspan>\n",
       "</text>\n",
       "\n",
       "<text class=\"displacy-token\" fill=\"currentColor\" text-anchor=\"middle\" y=\"484.5\">\n",
       "    <tspan class=\"displacy-word\" fill=\"currentColor\" x=\"925\">carbon</tspan>\n",
       "    <tspan class=\"displacy-tag\" dy=\"2em\" fill=\"currentColor\" x=\"925\">NOUN</tspan>\n",
       "</text>\n",
       "\n",
       "<text class=\"displacy-token\" fill=\"currentColor\" text-anchor=\"middle\" y=\"484.5\">\n",
       "    <tspan class=\"displacy-word\" fill=\"currentColor\" x=\"1100\">emissions</tspan>\n",
       "    <tspan class=\"displacy-tag\" dy=\"2em\" fill=\"currentColor\" x=\"1100\">NOUN</tspan>\n",
       "</text>\n",
       "\n",
       "<text class=\"displacy-token\" fill=\"currentColor\" text-anchor=\"middle\" y=\"484.5\">\n",
       "    <tspan class=\"displacy-word\" fill=\"currentColor\" x=\"1275\">can</tspan>\n",
       "    <tspan class=\"displacy-tag\" dy=\"2em\" fill=\"currentColor\" x=\"1275\">AUX</tspan>\n",
       "</text>\n",
       "\n",
       "<text class=\"displacy-token\" fill=\"currentColor\" text-anchor=\"middle\" y=\"484.5\">\n",
       "    <tspan class=\"displacy-word\" fill=\"currentColor\" x=\"1450\">be</tspan>\n",
       "    <tspan class=\"displacy-tag\" dy=\"2em\" fill=\"currentColor\" x=\"1450\">AUX</tspan>\n",
       "</text>\n",
       "\n",
       "<text class=\"displacy-token\" fill=\"currentColor\" text-anchor=\"middle\" y=\"484.5\">\n",
       "    <tspan class=\"displacy-word\" fill=\"currentColor\" x=\"1625\">reduced</tspan>\n",
       "    <tspan class=\"displacy-tag\" dy=\"2em\" fill=\"currentColor\" x=\"1625\">VERB</tspan>\n",
       "</text>\n",
       "\n",
       "<text class=\"displacy-token\" fill=\"currentColor\" text-anchor=\"middle\" y=\"484.5\">\n",
       "    <tspan class=\"displacy-word\" fill=\"currentColor\" x=\"1800\">by</tspan>\n",
       "    <tspan class=\"displacy-tag\" dy=\"2em\" fill=\"currentColor\" x=\"1800\">ADP</tspan>\n",
       "</text>\n",
       "\n",
       "<text class=\"displacy-token\" fill=\"currentColor\" text-anchor=\"middle\" y=\"484.5\">\n",
       "    <tspan class=\"displacy-word\" fill=\"currentColor\" x=\"1975\">20</tspan>\n",
       "    <tspan class=\"displacy-tag\" dy=\"2em\" fill=\"currentColor\" x=\"1975\">NUM</tspan>\n",
       "</text>\n",
       "\n",
       "<text class=\"displacy-token\" fill=\"currentColor\" text-anchor=\"middle\" y=\"484.5\">\n",
       "    <tspan class=\"displacy-word\" fill=\"currentColor\" x=\"2150\">per</tspan>\n",
       "    <tspan class=\"displacy-tag\" dy=\"2em\" fill=\"currentColor\" x=\"2150\">ADP</tspan>\n",
       "</text>\n",
       "\n",
       "<text class=\"displacy-token\" fill=\"currentColor\" text-anchor=\"middle\" y=\"484.5\">\n",
       "    <tspan class=\"displacy-word\" fill=\"currentColor\" x=\"2325\">cent</tspan>\n",
       "    <tspan class=\"displacy-tag\" dy=\"2em\" fill=\"currentColor\" x=\"2325\">NOUN</tspan>\n",
       "</text>\n",
       "\n",
       "<text class=\"displacy-token\" fill=\"currentColor\" text-anchor=\"middle\" y=\"484.5\">\n",
       "    <tspan class=\"displacy-word\" fill=\"currentColor\" x=\"2500\">over</tspan>\n",
       "    <tspan class=\"displacy-tag\" dy=\"2em\" fill=\"currentColor\" x=\"2500\">ADP</tspan>\n",
       "</text>\n",
       "\n",
       "<text class=\"displacy-token\" fill=\"currentColor\" text-anchor=\"middle\" y=\"484.5\">\n",
       "    <tspan class=\"displacy-word\" fill=\"currentColor\" x=\"2675\">40</tspan>\n",
       "    <tspan class=\"displacy-tag\" dy=\"2em\" fill=\"currentColor\" x=\"2675\">NUM</tspan>\n",
       "</text>\n",
       "\n",
       "<text class=\"displacy-token\" fill=\"currentColor\" text-anchor=\"middle\" y=\"484.5\">\n",
       "    <tspan class=\"displacy-word\" fill=\"currentColor\" x=\"2850\">years</tspan>\n",
       "    <tspan class=\"displacy-tag\" dy=\"2em\" fill=\"currentColor\" x=\"2850\">NOUN</tspan>\n",
       "</text>\n",
       "\n",
       "<text class=\"displacy-token\" fill=\"currentColor\" text-anchor=\"middle\" y=\"484.5\">\n",
       "    <tspan class=\"displacy-word\" fill=\"currentColor\" x=\"3025\">using</tspan>\n",
       "    <tspan class=\"displacy-tag\" dy=\"2em\" fill=\"currentColor\" x=\"3025\">VERB</tspan>\n",
       "</text>\n",
       "\n",
       "<text class=\"displacy-token\" fill=\"currentColor\" text-anchor=\"middle\" y=\"484.5\">\n",
       "    <tspan class=\"displacy-word\" fill=\"currentColor\" x=\"3200\">nature</tspan>\n",
       "    <tspan class=\"displacy-tag\" dy=\"2em\" fill=\"currentColor\" x=\"3200\">NOUN</tspan>\n",
       "</text>\n",
       "\n",
       "<text class=\"displacy-token\" fill=\"currentColor\" text-anchor=\"middle\" y=\"484.5\">\n",
       "    <tspan class=\"displacy-word\" fill=\"currentColor\" x=\"3375\">soils</tspan>\n",
       "    <tspan class=\"displacy-tag\" dy=\"2em\" fill=\"currentColor\" x=\"3375\">NOUN</tspan>\n",
       "</text>\n",
       "\n",
       "<text class=\"displacy-token\" fill=\"currentColor\" text-anchor=\"middle\" y=\"484.5\">\n",
       "    <tspan class=\"displacy-word\" fill=\"currentColor\" x=\"3550\">and</tspan>\n",
       "    <tspan class=\"displacy-tag\" dy=\"2em\" fill=\"currentColor\" x=\"3550\">CCONJ</tspan>\n",
       "</text>\n",
       "\n",
       "<text class=\"displacy-token\" fill=\"currentColor\" text-anchor=\"middle\" y=\"484.5\">\n",
       "    <tspan class=\"displacy-word\" fill=\"currentColor\" x=\"3725\">trees</tspan>\n",
       "    <tspan class=\"displacy-tag\" dy=\"2em\" fill=\"currentColor\" x=\"3725\">NOUN</tspan>\n",
       "</text>\n",
       "\n",
       "<g class=\"displacy-arrow\">\n",
       "    <path class=\"displacy-arc\" id=\"arrow-82a645031ad746e3a20c8160b484e904-0-0\" stroke-width=\"2px\" d=\"M70,439.5 C70,177.0 565.0,177.0 565.0,439.5\" fill=\"none\" stroke=\"currentColor\"/>\n",
       "    <text dy=\"1.25em\" style=\"font-size: 0.8em; letter-spacing: 1px\">\n",
       "        <textPath xlink:href=\"#arrow-82a645031ad746e3a20c8160b484e904-0-0\" class=\"displacy-label\" startOffset=\"50%\" side=\"left\" fill=\"currentColor\" text-anchor=\"middle\">compound</textPath>\n",
       "    </text>\n",
       "    <path class=\"displacy-arrowhead\" d=\"M70,441.5 L62,429.5 78,429.5\" fill=\"currentColor\"/>\n",
       "</g>\n",
       "\n",
       "<g class=\"displacy-arrow\">\n",
       "    <path class=\"displacy-arc\" id=\"arrow-82a645031ad746e3a20c8160b484e904-0-1\" stroke-width=\"2px\" d=\"M245,439.5 C245,264.5 560.0,264.5 560.0,439.5\" fill=\"none\" stroke=\"currentColor\"/>\n",
       "    <text dy=\"1.25em\" style=\"font-size: 0.8em; letter-spacing: 1px\">\n",
       "        <textPath xlink:href=\"#arrow-82a645031ad746e3a20c8160b484e904-0-1\" class=\"displacy-label\" startOffset=\"50%\" side=\"left\" fill=\"currentColor\" text-anchor=\"middle\">compound</textPath>\n",
       "    </text>\n",
       "    <path class=\"displacy-arrowhead\" d=\"M245,441.5 L237,429.5 253,429.5\" fill=\"currentColor\"/>\n",
       "</g>\n",
       "\n",
       "<g class=\"displacy-arrow\">\n",
       "    <path class=\"displacy-arc\" id=\"arrow-82a645031ad746e3a20c8160b484e904-0-2\" stroke-width=\"2px\" d=\"M420,439.5 C420,352.0 555.0,352.0 555.0,439.5\" fill=\"none\" stroke=\"currentColor\"/>\n",
       "    <text dy=\"1.25em\" style=\"font-size: 0.8em; letter-spacing: 1px\">\n",
       "        <textPath xlink:href=\"#arrow-82a645031ad746e3a20c8160b484e904-0-2\" class=\"displacy-label\" startOffset=\"50%\" side=\"left\" fill=\"currentColor\" text-anchor=\"middle\">compound</textPath>\n",
       "    </text>\n",
       "    <path class=\"displacy-arrowhead\" d=\"M420,441.5 L412,429.5 428,429.5\" fill=\"currentColor\"/>\n",
       "</g>\n",
       "\n",
       "<g class=\"displacy-arrow\">\n",
       "    <path class=\"displacy-arc\" id=\"arrow-82a645031ad746e3a20c8160b484e904-0-3\" stroke-width=\"2px\" d=\"M595,439.5 C595,352.0 730.0,352.0 730.0,439.5\" fill=\"none\" stroke=\"currentColor\"/>\n",
       "    <text dy=\"1.25em\" style=\"font-size: 0.8em; letter-spacing: 1px\">\n",
       "        <textPath xlink:href=\"#arrow-82a645031ad746e3a20c8160b484e904-0-3\" class=\"displacy-label\" startOffset=\"50%\" side=\"left\" fill=\"currentColor\" text-anchor=\"middle\">nsubj</textPath>\n",
       "    </text>\n",
       "    <path class=\"displacy-arrowhead\" d=\"M595,441.5 L587,429.5 603,429.5\" fill=\"currentColor\"/>\n",
       "</g>\n",
       "\n",
       "<g class=\"displacy-arrow\">\n",
       "    <path class=\"displacy-arc\" id=\"arrow-82a645031ad746e3a20c8160b484e904-0-4\" stroke-width=\"2px\" d=\"M945,439.5 C945,352.0 1080.0,352.0 1080.0,439.5\" fill=\"none\" stroke=\"currentColor\"/>\n",
       "    <text dy=\"1.25em\" style=\"font-size: 0.8em; letter-spacing: 1px\">\n",
       "        <textPath xlink:href=\"#arrow-82a645031ad746e3a20c8160b484e904-0-4\" class=\"displacy-label\" startOffset=\"50%\" side=\"left\" fill=\"currentColor\" text-anchor=\"middle\">compound</textPath>\n",
       "    </text>\n",
       "    <path class=\"displacy-arrowhead\" d=\"M945,441.5 L937,429.5 953,429.5\" fill=\"currentColor\"/>\n",
       "</g>\n",
       "\n",
       "<g class=\"displacy-arrow\">\n",
       "    <path class=\"displacy-arc\" id=\"arrow-82a645031ad746e3a20c8160b484e904-0-5\" stroke-width=\"2px\" d=\"M1120,439.5 C1120,177.0 1615.0,177.0 1615.0,439.5\" fill=\"none\" stroke=\"currentColor\"/>\n",
       "    <text dy=\"1.25em\" style=\"font-size: 0.8em; letter-spacing: 1px\">\n",
       "        <textPath xlink:href=\"#arrow-82a645031ad746e3a20c8160b484e904-0-5\" class=\"displacy-label\" startOffset=\"50%\" side=\"left\" fill=\"currentColor\" text-anchor=\"middle\">nsubjpass</textPath>\n",
       "    </text>\n",
       "    <path class=\"displacy-arrowhead\" d=\"M1120,441.5 L1112,429.5 1128,429.5\" fill=\"currentColor\"/>\n",
       "</g>\n",
       "\n",
       "<g class=\"displacy-arrow\">\n",
       "    <path class=\"displacy-arc\" id=\"arrow-82a645031ad746e3a20c8160b484e904-0-6\" stroke-width=\"2px\" d=\"M1295,439.5 C1295,264.5 1610.0,264.5 1610.0,439.5\" fill=\"none\" stroke=\"currentColor\"/>\n",
       "    <text dy=\"1.25em\" style=\"font-size: 0.8em; letter-spacing: 1px\">\n",
       "        <textPath xlink:href=\"#arrow-82a645031ad746e3a20c8160b484e904-0-6\" class=\"displacy-label\" startOffset=\"50%\" side=\"left\" fill=\"currentColor\" text-anchor=\"middle\">aux</textPath>\n",
       "    </text>\n",
       "    <path class=\"displacy-arrowhead\" d=\"M1295,441.5 L1287,429.5 1303,429.5\" fill=\"currentColor\"/>\n",
       "</g>\n",
       "\n",
       "<g class=\"displacy-arrow\">\n",
       "    <path class=\"displacy-arc\" id=\"arrow-82a645031ad746e3a20c8160b484e904-0-7\" stroke-width=\"2px\" d=\"M1470,439.5 C1470,352.0 1605.0,352.0 1605.0,439.5\" fill=\"none\" stroke=\"currentColor\"/>\n",
       "    <text dy=\"1.25em\" style=\"font-size: 0.8em; letter-spacing: 1px\">\n",
       "        <textPath xlink:href=\"#arrow-82a645031ad746e3a20c8160b484e904-0-7\" class=\"displacy-label\" startOffset=\"50%\" side=\"left\" fill=\"currentColor\" text-anchor=\"middle\">auxpass</textPath>\n",
       "    </text>\n",
       "    <path class=\"displacy-arrowhead\" d=\"M1470,441.5 L1462,429.5 1478,429.5\" fill=\"currentColor\"/>\n",
       "</g>\n",
       "\n",
       "<g class=\"displacy-arrow\">\n",
       "    <path class=\"displacy-arc\" id=\"arrow-82a645031ad746e3a20c8160b484e904-0-8\" stroke-width=\"2px\" d=\"M770,439.5 C770,89.5 1620.0,89.5 1620.0,439.5\" fill=\"none\" stroke=\"currentColor\"/>\n",
       "    <text dy=\"1.25em\" style=\"font-size: 0.8em; letter-spacing: 1px\">\n",
       "        <textPath xlink:href=\"#arrow-82a645031ad746e3a20c8160b484e904-0-8\" class=\"displacy-label\" startOffset=\"50%\" side=\"left\" fill=\"currentColor\" text-anchor=\"middle\">ccomp</textPath>\n",
       "    </text>\n",
       "    <path class=\"displacy-arrowhead\" d=\"M1620.0,441.5 L1628.0,429.5 1612.0,429.5\" fill=\"currentColor\"/>\n",
       "</g>\n",
       "\n",
       "<g class=\"displacy-arrow\">\n",
       "    <path class=\"displacy-arc\" id=\"arrow-82a645031ad746e3a20c8160b484e904-0-9\" stroke-width=\"2px\" d=\"M1645,439.5 C1645,352.0 1780.0,352.0 1780.0,439.5\" fill=\"none\" stroke=\"currentColor\"/>\n",
       "    <text dy=\"1.25em\" style=\"font-size: 0.8em; letter-spacing: 1px\">\n",
       "        <textPath xlink:href=\"#arrow-82a645031ad746e3a20c8160b484e904-0-9\" class=\"displacy-label\" startOffset=\"50%\" side=\"left\" fill=\"currentColor\" text-anchor=\"middle\">prep</textPath>\n",
       "    </text>\n",
       "    <path class=\"displacy-arrowhead\" d=\"M1780.0,441.5 L1788.0,429.5 1772.0,429.5\" fill=\"currentColor\"/>\n",
       "</g>\n",
       "\n",
       "<g class=\"displacy-arrow\">\n",
       "    <path class=\"displacy-arc\" id=\"arrow-82a645031ad746e3a20c8160b484e904-0-10\" stroke-width=\"2px\" d=\"M1995,439.5 C1995,264.5 2310.0,264.5 2310.0,439.5\" fill=\"none\" stroke=\"currentColor\"/>\n",
       "    <text dy=\"1.25em\" style=\"font-size: 0.8em; letter-spacing: 1px\">\n",
       "        <textPath xlink:href=\"#arrow-82a645031ad746e3a20c8160b484e904-0-10\" class=\"displacy-label\" startOffset=\"50%\" side=\"left\" fill=\"currentColor\" text-anchor=\"middle\">nummod</textPath>\n",
       "    </text>\n",
       "    <path class=\"displacy-arrowhead\" d=\"M1995,441.5 L1987,429.5 2003,429.5\" fill=\"currentColor\"/>\n",
       "</g>\n",
       "\n",
       "<g class=\"displacy-arrow\">\n",
       "    <path class=\"displacy-arc\" id=\"arrow-82a645031ad746e3a20c8160b484e904-0-11\" stroke-width=\"2px\" d=\"M2170,439.5 C2170,352.0 2305.0,352.0 2305.0,439.5\" fill=\"none\" stroke=\"currentColor\"/>\n",
       "    <text dy=\"1.25em\" style=\"font-size: 0.8em; letter-spacing: 1px\">\n",
       "        <textPath xlink:href=\"#arrow-82a645031ad746e3a20c8160b484e904-0-11\" class=\"displacy-label\" startOffset=\"50%\" side=\"left\" fill=\"currentColor\" text-anchor=\"middle\">compound</textPath>\n",
       "    </text>\n",
       "    <path class=\"displacy-arrowhead\" d=\"M2170,441.5 L2162,429.5 2178,429.5\" fill=\"currentColor\"/>\n",
       "</g>\n",
       "\n",
       "<g class=\"displacy-arrow\">\n",
       "    <path class=\"displacy-arc\" id=\"arrow-82a645031ad746e3a20c8160b484e904-0-12\" stroke-width=\"2px\" d=\"M1820,439.5 C1820,177.0 2315.0,177.0 2315.0,439.5\" fill=\"none\" stroke=\"currentColor\"/>\n",
       "    <text dy=\"1.25em\" style=\"font-size: 0.8em; letter-spacing: 1px\">\n",
       "        <textPath xlink:href=\"#arrow-82a645031ad746e3a20c8160b484e904-0-12\" class=\"displacy-label\" startOffset=\"50%\" side=\"left\" fill=\"currentColor\" text-anchor=\"middle\">pobj</textPath>\n",
       "    </text>\n",
       "    <path class=\"displacy-arrowhead\" d=\"M2315.0,441.5 L2323.0,429.5 2307.0,429.5\" fill=\"currentColor\"/>\n",
       "</g>\n",
       "\n",
       "<g class=\"displacy-arrow\">\n",
       "    <path class=\"displacy-arc\" id=\"arrow-82a645031ad746e3a20c8160b484e904-0-13\" stroke-width=\"2px\" d=\"M2520,439.5 C2520,352.0 2655.0,352.0 2655.0,439.5\" fill=\"none\" stroke=\"currentColor\"/>\n",
       "    <text dy=\"1.25em\" style=\"font-size: 0.8em; letter-spacing: 1px\">\n",
       "        <textPath xlink:href=\"#arrow-82a645031ad746e3a20c8160b484e904-0-13\" class=\"displacy-label\" startOffset=\"50%\" side=\"left\" fill=\"currentColor\" text-anchor=\"middle\">quantmod</textPath>\n",
       "    </text>\n",
       "    <path class=\"displacy-arrowhead\" d=\"M2520,441.5 L2512,429.5 2528,429.5\" fill=\"currentColor\"/>\n",
       "</g>\n",
       "\n",
       "<g class=\"displacy-arrow\">\n",
       "    <path class=\"displacy-arc\" id=\"arrow-82a645031ad746e3a20c8160b484e904-0-14\" stroke-width=\"2px\" d=\"M2695,439.5 C2695,352.0 2830.0,352.0 2830.0,439.5\" fill=\"none\" stroke=\"currentColor\"/>\n",
       "    <text dy=\"1.25em\" style=\"font-size: 0.8em; letter-spacing: 1px\">\n",
       "        <textPath xlink:href=\"#arrow-82a645031ad746e3a20c8160b484e904-0-14\" class=\"displacy-label\" startOffset=\"50%\" side=\"left\" fill=\"currentColor\" text-anchor=\"middle\">nummod</textPath>\n",
       "    </text>\n",
       "    <path class=\"displacy-arrowhead\" d=\"M2695,441.5 L2687,429.5 2703,429.5\" fill=\"currentColor\"/>\n",
       "</g>\n",
       "\n",
       "<g class=\"displacy-arrow\">\n",
       "    <path class=\"displacy-arc\" id=\"arrow-82a645031ad746e3a20c8160b484e904-0-15\" stroke-width=\"2px\" d=\"M1645,439.5 C1645,89.5 2845.0,89.5 2845.0,439.5\" fill=\"none\" stroke=\"currentColor\"/>\n",
       "    <text dy=\"1.25em\" style=\"font-size: 0.8em; letter-spacing: 1px\">\n",
       "        <textPath xlink:href=\"#arrow-82a645031ad746e3a20c8160b484e904-0-15\" class=\"displacy-label\" startOffset=\"50%\" side=\"left\" fill=\"currentColor\" text-anchor=\"middle\">npadvmod</textPath>\n",
       "    </text>\n",
       "    <path class=\"displacy-arrowhead\" d=\"M2845.0,441.5 L2853.0,429.5 2837.0,429.5\" fill=\"currentColor\"/>\n",
       "</g>\n",
       "\n",
       "<g class=\"displacy-arrow\">\n",
       "    <path class=\"displacy-arc\" id=\"arrow-82a645031ad746e3a20c8160b484e904-0-16\" stroke-width=\"2px\" d=\"M1645,439.5 C1645,2.0 3025.0,2.0 3025.0,439.5\" fill=\"none\" stroke=\"currentColor\"/>\n",
       "    <text dy=\"1.25em\" style=\"font-size: 0.8em; letter-spacing: 1px\">\n",
       "        <textPath xlink:href=\"#arrow-82a645031ad746e3a20c8160b484e904-0-16\" class=\"displacy-label\" startOffset=\"50%\" side=\"left\" fill=\"currentColor\" text-anchor=\"middle\">advcl</textPath>\n",
       "    </text>\n",
       "    <path class=\"displacy-arrowhead\" d=\"M3025.0,441.5 L3033.0,429.5 3017.0,429.5\" fill=\"currentColor\"/>\n",
       "</g>\n",
       "\n",
       "<g class=\"displacy-arrow\">\n",
       "    <path class=\"displacy-arc\" id=\"arrow-82a645031ad746e3a20c8160b484e904-0-17\" stroke-width=\"2px\" d=\"M3220,439.5 C3220,352.0 3355.0,352.0 3355.0,439.5\" fill=\"none\" stroke=\"currentColor\"/>\n",
       "    <text dy=\"1.25em\" style=\"font-size: 0.8em; letter-spacing: 1px\">\n",
       "        <textPath xlink:href=\"#arrow-82a645031ad746e3a20c8160b484e904-0-17\" class=\"displacy-label\" startOffset=\"50%\" side=\"left\" fill=\"currentColor\" text-anchor=\"middle\">compound</textPath>\n",
       "    </text>\n",
       "    <path class=\"displacy-arrowhead\" d=\"M3220,441.5 L3212,429.5 3228,429.5\" fill=\"currentColor\"/>\n",
       "</g>\n",
       "\n",
       "<g class=\"displacy-arrow\">\n",
       "    <path class=\"displacy-arc\" id=\"arrow-82a645031ad746e3a20c8160b484e904-0-18\" stroke-width=\"2px\" d=\"M3045,439.5 C3045,264.5 3360.0,264.5 3360.0,439.5\" fill=\"none\" stroke=\"currentColor\"/>\n",
       "    <text dy=\"1.25em\" style=\"font-size: 0.8em; letter-spacing: 1px\">\n",
       "        <textPath xlink:href=\"#arrow-82a645031ad746e3a20c8160b484e904-0-18\" class=\"displacy-label\" startOffset=\"50%\" side=\"left\" fill=\"currentColor\" text-anchor=\"middle\">dobj</textPath>\n",
       "    </text>\n",
       "    <path class=\"displacy-arrowhead\" d=\"M3360.0,441.5 L3368.0,429.5 3352.0,429.5\" fill=\"currentColor\"/>\n",
       "</g>\n",
       "\n",
       "<g class=\"displacy-arrow\">\n",
       "    <path class=\"displacy-arc\" id=\"arrow-82a645031ad746e3a20c8160b484e904-0-19\" stroke-width=\"2px\" d=\"M3395,439.5 C3395,352.0 3530.0,352.0 3530.0,439.5\" fill=\"none\" stroke=\"currentColor\"/>\n",
       "    <text dy=\"1.25em\" style=\"font-size: 0.8em; letter-spacing: 1px\">\n",
       "        <textPath xlink:href=\"#arrow-82a645031ad746e3a20c8160b484e904-0-19\" class=\"displacy-label\" startOffset=\"50%\" side=\"left\" fill=\"currentColor\" text-anchor=\"middle\">cc</textPath>\n",
       "    </text>\n",
       "    <path class=\"displacy-arrowhead\" d=\"M3530.0,441.5 L3538.0,429.5 3522.0,429.5\" fill=\"currentColor\"/>\n",
       "</g>\n",
       "\n",
       "<g class=\"displacy-arrow\">\n",
       "    <path class=\"displacy-arc\" id=\"arrow-82a645031ad746e3a20c8160b484e904-0-20\" stroke-width=\"2px\" d=\"M3395,439.5 C3395,264.5 3710.0,264.5 3710.0,439.5\" fill=\"none\" stroke=\"currentColor\"/>\n",
       "    <text dy=\"1.25em\" style=\"font-size: 0.8em; letter-spacing: 1px\">\n",
       "        <textPath xlink:href=\"#arrow-82a645031ad746e3a20c8160b484e904-0-20\" class=\"displacy-label\" startOffset=\"50%\" side=\"left\" fill=\"currentColor\" text-anchor=\"middle\">conj</textPath>\n",
       "    </text>\n",
       "    <path class=\"displacy-arrowhead\" d=\"M3710.0,441.5 L3718.0,429.5 3702.0,429.5\" fill=\"currentColor\"/>\n",
       "</g>\n",
       "</svg></span>"
      ],
      "text/plain": [
       "<IPython.core.display.HTML object>"
      ]
     },
     "metadata": {},
     "output_type": "display_data"
    },
    {
     "data": {
      "text/html": [
       "<span class=\"tex2jax_ignore\"><svg xmlns=\"http://www.w3.org/2000/svg\" xmlns:xlink=\"http://www.w3.org/1999/xlink\" xml:lang=\"en\" id=\"2e2a35f0871040edbf709268af7dd57c-0\" class=\"displacy\" width=\"6700\" height=\"662.0\" direction=\"ltr\" style=\"max-width: none; height: 662.0px; color: #000000; background: #ffffff; font-family: Arial; direction: ltr\">\n",
       "<text class=\"displacy-token\" fill=\"currentColor\" text-anchor=\"middle\" y=\"572.0\">\n",
       "    <tspan class=\"displacy-word\" fill=\"currentColor\" x=\"50\">to</tspan>\n",
       "    <tspan class=\"displacy-tag\" dy=\"2em\" fill=\"currentColor\" x=\"50\">PART</tspan>\n",
       "</text>\n",
       "\n",
       "<text class=\"displacy-token\" fill=\"currentColor\" text-anchor=\"middle\" y=\"572.0\">\n",
       "    <tspan class=\"displacy-word\" fill=\"currentColor\" x=\"225\">further</tspan>\n",
       "    <tspan class=\"displacy-tag\" dy=\"2em\" fill=\"currentColor\" x=\"225\">ADV</tspan>\n",
       "</text>\n",
       "\n",
       "<text class=\"displacy-token\" fill=\"currentColor\" text-anchor=\"middle\" y=\"572.0\">\n",
       "    <tspan class=\"displacy-word\" fill=\"currentColor\" x=\"400\">reduce</tspan>\n",
       "    <tspan class=\"displacy-tag\" dy=\"2em\" fill=\"currentColor\" x=\"400\">VERB</tspan>\n",
       "</text>\n",
       "\n",
       "<text class=\"displacy-token\" fill=\"currentColor\" text-anchor=\"middle\" y=\"572.0\">\n",
       "    <tspan class=\"displacy-word\" fill=\"currentColor\" x=\"575\">u</tspan>\n",
       "    <tspan class=\"displacy-tag\" dy=\"2em\" fill=\"currentColor\" x=\"575\">PROPN</tspan>\n",
       "</text>\n",
       "\n",
       "<text class=\"displacy-token\" fill=\"currentColor\" text-anchor=\"middle\" y=\"572.0\">\n",
       "    <tspan class=\"displacy-word\" fill=\"currentColor\" x=\"750\">s</tspan>\n",
       "    <tspan class=\"displacy-tag\" dy=\"2em\" fill=\"currentColor\" x=\"750\">PART</tspan>\n",
       "</text>\n",
       "\n",
       "<text class=\"displacy-token\" fill=\"currentColor\" text-anchor=\"middle\" y=\"572.0\">\n",
       "    <tspan class=\"displacy-word\" fill=\"currentColor\" x=\"925\">carbon</tspan>\n",
       "    <tspan class=\"displacy-tag\" dy=\"2em\" fill=\"currentColor\" x=\"925\">NOUN</tspan>\n",
       "</text>\n",
       "\n",
       "<text class=\"displacy-token\" fill=\"currentColor\" text-anchor=\"middle\" y=\"572.0\">\n",
       "    <tspan class=\"displacy-word\" fill=\"currentColor\" x=\"1100\">dioxide</tspan>\n",
       "    <tspan class=\"displacy-tag\" dy=\"2em\" fill=\"currentColor\" x=\"1100\">NOUN</tspan>\n",
       "</text>\n",
       "\n",
       "<text class=\"displacy-token\" fill=\"currentColor\" text-anchor=\"middle\" y=\"572.0\">\n",
       "    <tspan class=\"displacy-word\" fill=\"currentColor\" x=\"1275\">emissions</tspan>\n",
       "    <tspan class=\"displacy-tag\" dy=\"2em\" fill=\"currentColor\" x=\"1275\">NOUN</tspan>\n",
       "</text>\n",
       "\n",
       "<text class=\"displacy-token\" fill=\"currentColor\" text-anchor=\"middle\" y=\"572.0\">\n",
       "    <tspan class=\"displacy-word\" fill=\"currentColor\" x=\"1450\">by</tspan>\n",
       "    <tspan class=\"displacy-tag\" dy=\"2em\" fill=\"currentColor\" x=\"1450\">ADP</tspan>\n",
       "</text>\n",
       "\n",
       "<text class=\"displacy-token\" fill=\"currentColor\" text-anchor=\"middle\" y=\"572.0\">\n",
       "    <tspan class=\"displacy-word\" fill=\"currentColor\" x=\"1625\">7</tspan>\n",
       "    <tspan class=\"displacy-tag\" dy=\"2em\" fill=\"currentColor\" x=\"1625\">NUM</tspan>\n",
       "</text>\n",
       "\n",
       "<text class=\"displacy-token\" fill=\"currentColor\" text-anchor=\"middle\" y=\"572.0\">\n",
       "    <tspan class=\"displacy-word\" fill=\"currentColor\" x=\"1800\">percent</tspan>\n",
       "    <tspan class=\"displacy-tag\" dy=\"2em\" fill=\"currentColor\" x=\"1800\">NOUN</tspan>\n",
       "</text>\n",
       "\n",
       "<text class=\"displacy-token\" fill=\"currentColor\" text-anchor=\"middle\" y=\"572.0\">\n",
       "    <tspan class=\"displacy-word\" fill=\"currentColor\" x=\"1975\">as</tspan>\n",
       "    <tspan class=\"displacy-tag\" dy=\"2em\" fill=\"currentColor\" x=\"1975\">SCONJ</tspan>\n",
       "</text>\n",
       "\n",
       "<text class=\"displacy-token\" fill=\"currentColor\" text-anchor=\"middle\" y=\"572.0\">\n",
       "    <tspan class=\"displacy-word\" fill=\"currentColor\" x=\"2150\">stipulated</tspan>\n",
       "    <tspan class=\"displacy-tag\" dy=\"2em\" fill=\"currentColor\" x=\"2150\">VERB</tspan>\n",
       "</text>\n",
       "\n",
       "<text class=\"displacy-token\" fill=\"currentColor\" text-anchor=\"middle\" y=\"572.0\">\n",
       "    <tspan class=\"displacy-word\" fill=\"currentColor\" x=\"2325\">by</tspan>\n",
       "    <tspan class=\"displacy-tag\" dy=\"2em\" fill=\"currentColor\" x=\"2325\">ADP</tspan>\n",
       "</text>\n",
       "\n",
       "<text class=\"displacy-token\" fill=\"currentColor\" text-anchor=\"middle\" y=\"572.0\">\n",
       "    <tspan class=\"displacy-word\" fill=\"currentColor\" x=\"2500\">the</tspan>\n",
       "    <tspan class=\"displacy-tag\" dy=\"2em\" fill=\"currentColor\" x=\"2500\">DET</tspan>\n",
       "</text>\n",
       "\n",
       "<text class=\"displacy-token\" fill=\"currentColor\" text-anchor=\"middle\" y=\"572.0\">\n",
       "    <tspan class=\"displacy-word\" fill=\"currentColor\" x=\"2675\">kyoto</tspan>\n",
       "    <tspan class=\"displacy-tag\" dy=\"2em\" fill=\"currentColor\" x=\"2675\">NOUN</tspan>\n",
       "</text>\n",
       "\n",
       "<text class=\"displacy-token\" fill=\"currentColor\" text-anchor=\"middle\" y=\"572.0\">\n",
       "    <tspan class=\"displacy-word\" fill=\"currentColor\" x=\"2850\">protocol</tspan>\n",
       "    <tspan class=\"displacy-tag\" dy=\"2em\" fill=\"currentColor\" x=\"2850\">NOUN</tspan>\n",
       "</text>\n",
       "\n",
       "<text class=\"displacy-token\" fill=\"currentColor\" text-anchor=\"middle\" y=\"572.0\">\n",
       "    <tspan class=\"displacy-word\" fill=\"currentColor\" x=\"3025\">would</tspan>\n",
       "    <tspan class=\"displacy-tag\" dy=\"2em\" fill=\"currentColor\" x=\"3025\">AUX</tspan>\n",
       "</text>\n",
       "\n",
       "<text class=\"displacy-token\" fill=\"currentColor\" text-anchor=\"middle\" y=\"572.0\">\n",
       "    <tspan class=\"displacy-word\" fill=\"currentColor\" x=\"3200\">require</tspan>\n",
       "    <tspan class=\"displacy-tag\" dy=\"2em\" fill=\"currentColor\" x=\"3200\">VERB</tspan>\n",
       "</text>\n",
       "\n",
       "<text class=\"displacy-token\" fill=\"currentColor\" text-anchor=\"middle\" y=\"572.0\">\n",
       "    <tspan class=\"displacy-word\" fill=\"currentColor\" x=\"3375\">the</tspan>\n",
       "    <tspan class=\"displacy-tag\" dy=\"2em\" fill=\"currentColor\" x=\"3375\">DET</tspan>\n",
       "</text>\n",
       "\n",
       "<text class=\"displacy-token\" fill=\"currentColor\" text-anchor=\"middle\" y=\"572.0\">\n",
       "    <tspan class=\"displacy-word\" fill=\"currentColor\" x=\"3550\">planting</tspan>\n",
       "    <tspan class=\"displacy-tag\" dy=\"2em\" fill=\"currentColor\" x=\"3550\">NOUN</tspan>\n",
       "</text>\n",
       "\n",
       "<text class=\"displacy-token\" fill=\"currentColor\" text-anchor=\"middle\" y=\"572.0\">\n",
       "    <tspan class=\"displacy-word\" fill=\"currentColor\" x=\"3725\">of</tspan>\n",
       "    <tspan class=\"displacy-tag\" dy=\"2em\" fill=\"currentColor\" x=\"3725\">ADP</tspan>\n",
       "</text>\n",
       "\n",
       "<text class=\"displacy-token\" fill=\"currentColor\" text-anchor=\"middle\" y=\"572.0\">\n",
       "    <tspan class=\"displacy-word\" fill=\"currentColor\" x=\"3900\">an</tspan>\n",
       "    <tspan class=\"displacy-tag\" dy=\"2em\" fill=\"currentColor\" x=\"3900\">DET</tspan>\n",
       "</text>\n",
       "\n",
       "<text class=\"displacy-token\" fill=\"currentColor\" text-anchor=\"middle\" y=\"572.0\">\n",
       "    <tspan class=\"displacy-word\" fill=\"currentColor\" x=\"4075\">area</tspan>\n",
       "    <tspan class=\"displacy-tag\" dy=\"2em\" fill=\"currentColor\" x=\"4075\">NOUN</tspan>\n",
       "</text>\n",
       "\n",
       "<text class=\"displacy-token\" fill=\"currentColor\" text-anchor=\"middle\" y=\"572.0\">\n",
       "    <tspan class=\"displacy-word\" fill=\"currentColor\" x=\"4250\">the</tspan>\n",
       "    <tspan class=\"displacy-tag\" dy=\"2em\" fill=\"currentColor\" x=\"4250\">DET</tspan>\n",
       "</text>\n",
       "\n",
       "<text class=\"displacy-token\" fill=\"currentColor\" text-anchor=\"middle\" y=\"572.0\">\n",
       "    <tspan class=\"displacy-word\" fill=\"currentColor\" x=\"4425\">size</tspan>\n",
       "    <tspan class=\"displacy-tag\" dy=\"2em\" fill=\"currentColor\" x=\"4425\">NOUN</tspan>\n",
       "</text>\n",
       "\n",
       "<text class=\"displacy-token\" fill=\"currentColor\" text-anchor=\"middle\" y=\"572.0\">\n",
       "    <tspan class=\"displacy-word\" fill=\"currentColor\" x=\"4600\">of</tspan>\n",
       "    <tspan class=\"displacy-tag\" dy=\"2em\" fill=\"currentColor\" x=\"4600\">ADP</tspan>\n",
       "</text>\n",
       "\n",
       "<text class=\"displacy-token\" fill=\"currentColor\" text-anchor=\"middle\" y=\"572.0\">\n",
       "    <tspan class=\"displacy-word\" fill=\"currentColor\" x=\"4775\">texas</tspan>\n",
       "    <tspan class=\"displacy-tag\" dy=\"2em\" fill=\"currentColor\" x=\"4775\">PROPN</tspan>\n",
       "</text>\n",
       "\n",
       "<text class=\"displacy-token\" fill=\"currentColor\" text-anchor=\"middle\" y=\"572.0\">\n",
       "    <tspan class=\"displacy-word\" fill=\"currentColor\" x=\"4950\">8</tspan>\n",
       "    <tspan class=\"displacy-tag\" dy=\"2em\" fill=\"currentColor\" x=\"4950\">NUM</tspan>\n",
       "</text>\n",
       "\n",
       "<text class=\"displacy-token\" fill=\"currentColor\" text-anchor=\"middle\" y=\"572.0\">\n",
       "    <tspan class=\"displacy-word\" fill=\"currentColor\" x=\"5125\">percent</tspan>\n",
       "    <tspan class=\"displacy-tag\" dy=\"2em\" fill=\"currentColor\" x=\"5125\">NOUN</tspan>\n",
       "</text>\n",
       "\n",
       "<text class=\"displacy-token\" fill=\"currentColor\" text-anchor=\"middle\" y=\"572.0\">\n",
       "    <tspan class=\"displacy-word\" fill=\"currentColor\" x=\"5300\">of</tspan>\n",
       "    <tspan class=\"displacy-tag\" dy=\"2em\" fill=\"currentColor\" x=\"5300\">ADP</tspan>\n",
       "</text>\n",
       "\n",
       "<text class=\"displacy-token\" fill=\"currentColor\" text-anchor=\"middle\" y=\"572.0\">\n",
       "    <tspan class=\"displacy-word\" fill=\"currentColor\" x=\"5475\">the</tspan>\n",
       "    <tspan class=\"displacy-tag\" dy=\"2em\" fill=\"currentColor\" x=\"5475\">DET</tspan>\n",
       "</text>\n",
       "\n",
       "<text class=\"displacy-token\" fill=\"currentColor\" text-anchor=\"middle\" y=\"572.0\">\n",
       "    <tspan class=\"displacy-word\" fill=\"currentColor\" x=\"5650\">area</tspan>\n",
       "    <tspan class=\"displacy-tag\" dy=\"2em\" fill=\"currentColor\" x=\"5650\">NOUN</tspan>\n",
       "</text>\n",
       "\n",
       "<text class=\"displacy-token\" fill=\"currentColor\" text-anchor=\"middle\" y=\"572.0\">\n",
       "    <tspan class=\"displacy-word\" fill=\"currentColor\" x=\"5825\">of</tspan>\n",
       "    <tspan class=\"displacy-tag\" dy=\"2em\" fill=\"currentColor\" x=\"5825\">ADP</tspan>\n",
       "</text>\n",
       "\n",
       "<text class=\"displacy-token\" fill=\"currentColor\" text-anchor=\"middle\" y=\"572.0\">\n",
       "    <tspan class=\"displacy-word\" fill=\"currentColor\" x=\"6000\">brazil</tspan>\n",
       "    <tspan class=\"displacy-tag\" dy=\"2em\" fill=\"currentColor\" x=\"6000\">PROPN</tspan>\n",
       "</text>\n",
       "\n",
       "<text class=\"displacy-token\" fill=\"currentColor\" text-anchor=\"middle\" y=\"572.0\">\n",
       "    <tspan class=\"displacy-word\" fill=\"currentColor\" x=\"6175\">every</tspan>\n",
       "    <tspan class=\"displacy-tag\" dy=\"2em\" fill=\"currentColor\" x=\"6175\">DET</tspan>\n",
       "</text>\n",
       "\n",
       "<text class=\"displacy-token\" fill=\"currentColor\" text-anchor=\"middle\" y=\"572.0\">\n",
       "    <tspan class=\"displacy-word\" fill=\"currentColor\" x=\"6350\">30</tspan>\n",
       "    <tspan class=\"displacy-tag\" dy=\"2em\" fill=\"currentColor\" x=\"6350\">NUM</tspan>\n",
       "</text>\n",
       "\n",
       "<text class=\"displacy-token\" fill=\"currentColor\" text-anchor=\"middle\" y=\"572.0\">\n",
       "    <tspan class=\"displacy-word\" fill=\"currentColor\" x=\"6525\">years</tspan>\n",
       "    <tspan class=\"displacy-tag\" dy=\"2em\" fill=\"currentColor\" x=\"6525\">NOUN</tspan>\n",
       "</text>\n",
       "\n",
       "<g class=\"displacy-arrow\">\n",
       "    <path class=\"displacy-arc\" id=\"arrow-2e2a35f0871040edbf709268af7dd57c-0-0\" stroke-width=\"2px\" d=\"M70,527.0 C70,352.0 380.0,352.0 380.0,527.0\" fill=\"none\" stroke=\"currentColor\"/>\n",
       "    <text dy=\"1.25em\" style=\"font-size: 0.8em; letter-spacing: 1px\">\n",
       "        <textPath xlink:href=\"#arrow-2e2a35f0871040edbf709268af7dd57c-0-0\" class=\"displacy-label\" startOffset=\"50%\" side=\"left\" fill=\"currentColor\" text-anchor=\"middle\">aux</textPath>\n",
       "    </text>\n",
       "    <path class=\"displacy-arrowhead\" d=\"M70,529.0 L62,517.0 78,517.0\" fill=\"currentColor\"/>\n",
       "</g>\n",
       "\n",
       "<g class=\"displacy-arrow\">\n",
       "    <path class=\"displacy-arc\" id=\"arrow-2e2a35f0871040edbf709268af7dd57c-0-1\" stroke-width=\"2px\" d=\"M245,527.0 C245,439.5 375.0,439.5 375.0,527.0\" fill=\"none\" stroke=\"currentColor\"/>\n",
       "    <text dy=\"1.25em\" style=\"font-size: 0.8em; letter-spacing: 1px\">\n",
       "        <textPath xlink:href=\"#arrow-2e2a35f0871040edbf709268af7dd57c-0-1\" class=\"displacy-label\" startOffset=\"50%\" side=\"left\" fill=\"currentColor\" text-anchor=\"middle\">advmod</textPath>\n",
       "    </text>\n",
       "    <path class=\"displacy-arrowhead\" d=\"M245,529.0 L237,517.0 253,517.0\" fill=\"currentColor\"/>\n",
       "</g>\n",
       "\n",
       "<g class=\"displacy-arrow\">\n",
       "    <path class=\"displacy-arc\" id=\"arrow-2e2a35f0871040edbf709268af7dd57c-0-2\" stroke-width=\"2px\" d=\"M420,527.0 C420,2.0 3200.0,2.0 3200.0,527.0\" fill=\"none\" stroke=\"currentColor\"/>\n",
       "    <text dy=\"1.25em\" style=\"font-size: 0.8em; letter-spacing: 1px\">\n",
       "        <textPath xlink:href=\"#arrow-2e2a35f0871040edbf709268af7dd57c-0-2\" class=\"displacy-label\" startOffset=\"50%\" side=\"left\" fill=\"currentColor\" text-anchor=\"middle\">csubj</textPath>\n",
       "    </text>\n",
       "    <path class=\"displacy-arrowhead\" d=\"M420,529.0 L412,517.0 428,517.0\" fill=\"currentColor\"/>\n",
       "</g>\n",
       "\n",
       "<g class=\"displacy-arrow\">\n",
       "    <path class=\"displacy-arc\" id=\"arrow-2e2a35f0871040edbf709268af7dd57c-0-3\" stroke-width=\"2px\" d=\"M595,527.0 C595,352.0 1255.0,352.0 1255.0,527.0\" fill=\"none\" stroke=\"currentColor\"/>\n",
       "    <text dy=\"1.25em\" style=\"font-size: 0.8em; letter-spacing: 1px\">\n",
       "        <textPath xlink:href=\"#arrow-2e2a35f0871040edbf709268af7dd57c-0-3\" class=\"displacy-label\" startOffset=\"50%\" side=\"left\" fill=\"currentColor\" text-anchor=\"middle\">poss</textPath>\n",
       "    </text>\n",
       "    <path class=\"displacy-arrowhead\" d=\"M595,529.0 L587,517.0 603,517.0\" fill=\"currentColor\"/>\n",
       "</g>\n",
       "\n",
       "<g class=\"displacy-arrow\">\n",
       "    <path class=\"displacy-arc\" id=\"arrow-2e2a35f0871040edbf709268af7dd57c-0-4\" stroke-width=\"2px\" d=\"M595,527.0 C595,439.5 725.0,439.5 725.0,527.0\" fill=\"none\" stroke=\"currentColor\"/>\n",
       "    <text dy=\"1.25em\" style=\"font-size: 0.8em; letter-spacing: 1px\">\n",
       "        <textPath xlink:href=\"#arrow-2e2a35f0871040edbf709268af7dd57c-0-4\" class=\"displacy-label\" startOffset=\"50%\" side=\"left\" fill=\"currentColor\" text-anchor=\"middle\">case</textPath>\n",
       "    </text>\n",
       "    <path class=\"displacy-arrowhead\" d=\"M725.0,529.0 L733.0,517.0 717.0,517.0\" fill=\"currentColor\"/>\n",
       "</g>\n",
       "\n",
       "<g class=\"displacy-arrow\">\n",
       "    <path class=\"displacy-arc\" id=\"arrow-2e2a35f0871040edbf709268af7dd57c-0-5\" stroke-width=\"2px\" d=\"M945,527.0 C945,439.5 1075.0,439.5 1075.0,527.0\" fill=\"none\" stroke=\"currentColor\"/>\n",
       "    <text dy=\"1.25em\" style=\"font-size: 0.8em; letter-spacing: 1px\">\n",
       "        <textPath xlink:href=\"#arrow-2e2a35f0871040edbf709268af7dd57c-0-5\" class=\"displacy-label\" startOffset=\"50%\" side=\"left\" fill=\"currentColor\" text-anchor=\"middle\">compound</textPath>\n",
       "    </text>\n",
       "    <path class=\"displacy-arrowhead\" d=\"M945,529.0 L937,517.0 953,517.0\" fill=\"currentColor\"/>\n",
       "</g>\n",
       "\n",
       "<g class=\"displacy-arrow\">\n",
       "    <path class=\"displacy-arc\" id=\"arrow-2e2a35f0871040edbf709268af7dd57c-0-6\" stroke-width=\"2px\" d=\"M1120,527.0 C1120,439.5 1250.0,439.5 1250.0,527.0\" fill=\"none\" stroke=\"currentColor\"/>\n",
       "    <text dy=\"1.25em\" style=\"font-size: 0.8em; letter-spacing: 1px\">\n",
       "        <textPath xlink:href=\"#arrow-2e2a35f0871040edbf709268af7dd57c-0-6\" class=\"displacy-label\" startOffset=\"50%\" side=\"left\" fill=\"currentColor\" text-anchor=\"middle\">compound</textPath>\n",
       "    </text>\n",
       "    <path class=\"displacy-arrowhead\" d=\"M1120,529.0 L1112,517.0 1128,517.0\" fill=\"currentColor\"/>\n",
       "</g>\n",
       "\n",
       "<g class=\"displacy-arrow\">\n",
       "    <path class=\"displacy-arc\" id=\"arrow-2e2a35f0871040edbf709268af7dd57c-0-7\" stroke-width=\"2px\" d=\"M420,527.0 C420,264.5 1260.0,264.5 1260.0,527.0\" fill=\"none\" stroke=\"currentColor\"/>\n",
       "    <text dy=\"1.25em\" style=\"font-size: 0.8em; letter-spacing: 1px\">\n",
       "        <textPath xlink:href=\"#arrow-2e2a35f0871040edbf709268af7dd57c-0-7\" class=\"displacy-label\" startOffset=\"50%\" side=\"left\" fill=\"currentColor\" text-anchor=\"middle\">dobj</textPath>\n",
       "    </text>\n",
       "    <path class=\"displacy-arrowhead\" d=\"M1260.0,529.0 L1268.0,517.0 1252.0,517.0\" fill=\"currentColor\"/>\n",
       "</g>\n",
       "\n",
       "<g class=\"displacy-arrow\">\n",
       "    <path class=\"displacy-arc\" id=\"arrow-2e2a35f0871040edbf709268af7dd57c-0-8\" stroke-width=\"2px\" d=\"M420,527.0 C420,177.0 1440.0,177.0 1440.0,527.0\" fill=\"none\" stroke=\"currentColor\"/>\n",
       "    <text dy=\"1.25em\" style=\"font-size: 0.8em; letter-spacing: 1px\">\n",
       "        <textPath xlink:href=\"#arrow-2e2a35f0871040edbf709268af7dd57c-0-8\" class=\"displacy-label\" startOffset=\"50%\" side=\"left\" fill=\"currentColor\" text-anchor=\"middle\">prep</textPath>\n",
       "    </text>\n",
       "    <path class=\"displacy-arrowhead\" d=\"M1440.0,529.0 L1448.0,517.0 1432.0,517.0\" fill=\"currentColor\"/>\n",
       "</g>\n",
       "\n",
       "<g class=\"displacy-arrow\">\n",
       "    <path class=\"displacy-arc\" id=\"arrow-2e2a35f0871040edbf709268af7dd57c-0-9\" stroke-width=\"2px\" d=\"M1645,527.0 C1645,439.5 1775.0,439.5 1775.0,527.0\" fill=\"none\" stroke=\"currentColor\"/>\n",
       "    <text dy=\"1.25em\" style=\"font-size: 0.8em; letter-spacing: 1px\">\n",
       "        <textPath xlink:href=\"#arrow-2e2a35f0871040edbf709268af7dd57c-0-9\" class=\"displacy-label\" startOffset=\"50%\" side=\"left\" fill=\"currentColor\" text-anchor=\"middle\">nummod</textPath>\n",
       "    </text>\n",
       "    <path class=\"displacy-arrowhead\" d=\"M1645,529.0 L1637,517.0 1653,517.0\" fill=\"currentColor\"/>\n",
       "</g>\n",
       "\n",
       "<g class=\"displacy-arrow\">\n",
       "    <path class=\"displacy-arc\" id=\"arrow-2e2a35f0871040edbf709268af7dd57c-0-10\" stroke-width=\"2px\" d=\"M1470,527.0 C1470,352.0 1780.0,352.0 1780.0,527.0\" fill=\"none\" stroke=\"currentColor\"/>\n",
       "    <text dy=\"1.25em\" style=\"font-size: 0.8em; letter-spacing: 1px\">\n",
       "        <textPath xlink:href=\"#arrow-2e2a35f0871040edbf709268af7dd57c-0-10\" class=\"displacy-label\" startOffset=\"50%\" side=\"left\" fill=\"currentColor\" text-anchor=\"middle\">pobj</textPath>\n",
       "    </text>\n",
       "    <path class=\"displacy-arrowhead\" d=\"M1780.0,529.0 L1788.0,517.0 1772.0,517.0\" fill=\"currentColor\"/>\n",
       "</g>\n",
       "\n",
       "<g class=\"displacy-arrow\">\n",
       "    <path class=\"displacy-arc\" id=\"arrow-2e2a35f0871040edbf709268af7dd57c-0-11\" stroke-width=\"2px\" d=\"M1995,527.0 C1995,439.5 2125.0,439.5 2125.0,527.0\" fill=\"none\" stroke=\"currentColor\"/>\n",
       "    <text dy=\"1.25em\" style=\"font-size: 0.8em; letter-spacing: 1px\">\n",
       "        <textPath xlink:href=\"#arrow-2e2a35f0871040edbf709268af7dd57c-0-11\" class=\"displacy-label\" startOffset=\"50%\" side=\"left\" fill=\"currentColor\" text-anchor=\"middle\">mark</textPath>\n",
       "    </text>\n",
       "    <path class=\"displacy-arrowhead\" d=\"M1995,529.0 L1987,517.0 2003,517.0\" fill=\"currentColor\"/>\n",
       "</g>\n",
       "\n",
       "<g class=\"displacy-arrow\">\n",
       "    <path class=\"displacy-arc\" id=\"arrow-2e2a35f0871040edbf709268af7dd57c-0-12\" stroke-width=\"2px\" d=\"M420,527.0 C420,89.5 2145.0,89.5 2145.0,527.0\" fill=\"none\" stroke=\"currentColor\"/>\n",
       "    <text dy=\"1.25em\" style=\"font-size: 0.8em; letter-spacing: 1px\">\n",
       "        <textPath xlink:href=\"#arrow-2e2a35f0871040edbf709268af7dd57c-0-12\" class=\"displacy-label\" startOffset=\"50%\" side=\"left\" fill=\"currentColor\" text-anchor=\"middle\">advcl</textPath>\n",
       "    </text>\n",
       "    <path class=\"displacy-arrowhead\" d=\"M2145.0,529.0 L2153.0,517.0 2137.0,517.0\" fill=\"currentColor\"/>\n",
       "</g>\n",
       "\n",
       "<g class=\"displacy-arrow\">\n",
       "    <path class=\"displacy-arc\" id=\"arrow-2e2a35f0871040edbf709268af7dd57c-0-13\" stroke-width=\"2px\" d=\"M2170,527.0 C2170,439.5 2300.0,439.5 2300.0,527.0\" fill=\"none\" stroke=\"currentColor\"/>\n",
       "    <text dy=\"1.25em\" style=\"font-size: 0.8em; letter-spacing: 1px\">\n",
       "        <textPath xlink:href=\"#arrow-2e2a35f0871040edbf709268af7dd57c-0-13\" class=\"displacy-label\" startOffset=\"50%\" side=\"left\" fill=\"currentColor\" text-anchor=\"middle\">agent</textPath>\n",
       "    </text>\n",
       "    <path class=\"displacy-arrowhead\" d=\"M2300.0,529.0 L2308.0,517.0 2292.0,517.0\" fill=\"currentColor\"/>\n",
       "</g>\n",
       "\n",
       "<g class=\"displacy-arrow\">\n",
       "    <path class=\"displacy-arc\" id=\"arrow-2e2a35f0871040edbf709268af7dd57c-0-14\" stroke-width=\"2px\" d=\"M2520,527.0 C2520,352.0 2830.0,352.0 2830.0,527.0\" fill=\"none\" stroke=\"currentColor\"/>\n",
       "    <text dy=\"1.25em\" style=\"font-size: 0.8em; letter-spacing: 1px\">\n",
       "        <textPath xlink:href=\"#arrow-2e2a35f0871040edbf709268af7dd57c-0-14\" class=\"displacy-label\" startOffset=\"50%\" side=\"left\" fill=\"currentColor\" text-anchor=\"middle\">det</textPath>\n",
       "    </text>\n",
       "    <path class=\"displacy-arrowhead\" d=\"M2520,529.0 L2512,517.0 2528,517.0\" fill=\"currentColor\"/>\n",
       "</g>\n",
       "\n",
       "<g class=\"displacy-arrow\">\n",
       "    <path class=\"displacy-arc\" id=\"arrow-2e2a35f0871040edbf709268af7dd57c-0-15\" stroke-width=\"2px\" d=\"M2695,527.0 C2695,439.5 2825.0,439.5 2825.0,527.0\" fill=\"none\" stroke=\"currentColor\"/>\n",
       "    <text dy=\"1.25em\" style=\"font-size: 0.8em; letter-spacing: 1px\">\n",
       "        <textPath xlink:href=\"#arrow-2e2a35f0871040edbf709268af7dd57c-0-15\" class=\"displacy-label\" startOffset=\"50%\" side=\"left\" fill=\"currentColor\" text-anchor=\"middle\">compound</textPath>\n",
       "    </text>\n",
       "    <path class=\"displacy-arrowhead\" d=\"M2695,529.0 L2687,517.0 2703,517.0\" fill=\"currentColor\"/>\n",
       "</g>\n",
       "\n",
       "<g class=\"displacy-arrow\">\n",
       "    <path class=\"displacy-arc\" id=\"arrow-2e2a35f0871040edbf709268af7dd57c-0-16\" stroke-width=\"2px\" d=\"M2345,527.0 C2345,264.5 2835.0,264.5 2835.0,527.0\" fill=\"none\" stroke=\"currentColor\"/>\n",
       "    <text dy=\"1.25em\" style=\"font-size: 0.8em; letter-spacing: 1px\">\n",
       "        <textPath xlink:href=\"#arrow-2e2a35f0871040edbf709268af7dd57c-0-16\" class=\"displacy-label\" startOffset=\"50%\" side=\"left\" fill=\"currentColor\" text-anchor=\"middle\">pobj</textPath>\n",
       "    </text>\n",
       "    <path class=\"displacy-arrowhead\" d=\"M2835.0,529.0 L2843.0,517.0 2827.0,517.0\" fill=\"currentColor\"/>\n",
       "</g>\n",
       "\n",
       "<g class=\"displacy-arrow\">\n",
       "    <path class=\"displacy-arc\" id=\"arrow-2e2a35f0871040edbf709268af7dd57c-0-17\" stroke-width=\"2px\" d=\"M3045,527.0 C3045,439.5 3175.0,439.5 3175.0,527.0\" fill=\"none\" stroke=\"currentColor\"/>\n",
       "    <text dy=\"1.25em\" style=\"font-size: 0.8em; letter-spacing: 1px\">\n",
       "        <textPath xlink:href=\"#arrow-2e2a35f0871040edbf709268af7dd57c-0-17\" class=\"displacy-label\" startOffset=\"50%\" side=\"left\" fill=\"currentColor\" text-anchor=\"middle\">aux</textPath>\n",
       "    </text>\n",
       "    <path class=\"displacy-arrowhead\" d=\"M3045,529.0 L3037,517.0 3053,517.0\" fill=\"currentColor\"/>\n",
       "</g>\n",
       "\n",
       "<g class=\"displacy-arrow\">\n",
       "    <path class=\"displacy-arc\" id=\"arrow-2e2a35f0871040edbf709268af7dd57c-0-18\" stroke-width=\"2px\" d=\"M3395,527.0 C3395,439.5 3525.0,439.5 3525.0,527.0\" fill=\"none\" stroke=\"currentColor\"/>\n",
       "    <text dy=\"1.25em\" style=\"font-size: 0.8em; letter-spacing: 1px\">\n",
       "        <textPath xlink:href=\"#arrow-2e2a35f0871040edbf709268af7dd57c-0-18\" class=\"displacy-label\" startOffset=\"50%\" side=\"left\" fill=\"currentColor\" text-anchor=\"middle\">det</textPath>\n",
       "    </text>\n",
       "    <path class=\"displacy-arrowhead\" d=\"M3395,529.0 L3387,517.0 3403,517.0\" fill=\"currentColor\"/>\n",
       "</g>\n",
       "\n",
       "<g class=\"displacy-arrow\">\n",
       "    <path class=\"displacy-arc\" id=\"arrow-2e2a35f0871040edbf709268af7dd57c-0-19\" stroke-width=\"2px\" d=\"M3220,527.0 C3220,352.0 3530.0,352.0 3530.0,527.0\" fill=\"none\" stroke=\"currentColor\"/>\n",
       "    <text dy=\"1.25em\" style=\"font-size: 0.8em; letter-spacing: 1px\">\n",
       "        <textPath xlink:href=\"#arrow-2e2a35f0871040edbf709268af7dd57c-0-19\" class=\"displacy-label\" startOffset=\"50%\" side=\"left\" fill=\"currentColor\" text-anchor=\"middle\">dobj</textPath>\n",
       "    </text>\n",
       "    <path class=\"displacy-arrowhead\" d=\"M3530.0,529.0 L3538.0,517.0 3522.0,517.0\" fill=\"currentColor\"/>\n",
       "</g>\n",
       "\n",
       "<g class=\"displacy-arrow\">\n",
       "    <path class=\"displacy-arc\" id=\"arrow-2e2a35f0871040edbf709268af7dd57c-0-20\" stroke-width=\"2px\" d=\"M3570,527.0 C3570,439.5 3700.0,439.5 3700.0,527.0\" fill=\"none\" stroke=\"currentColor\"/>\n",
       "    <text dy=\"1.25em\" style=\"font-size: 0.8em; letter-spacing: 1px\">\n",
       "        <textPath xlink:href=\"#arrow-2e2a35f0871040edbf709268af7dd57c-0-20\" class=\"displacy-label\" startOffset=\"50%\" side=\"left\" fill=\"currentColor\" text-anchor=\"middle\">prep</textPath>\n",
       "    </text>\n",
       "    <path class=\"displacy-arrowhead\" d=\"M3700.0,529.0 L3708.0,517.0 3692.0,517.0\" fill=\"currentColor\"/>\n",
       "</g>\n",
       "\n",
       "<g class=\"displacy-arrow\">\n",
       "    <path class=\"displacy-arc\" id=\"arrow-2e2a35f0871040edbf709268af7dd57c-0-21\" stroke-width=\"2px\" d=\"M3920,527.0 C3920,439.5 4050.0,439.5 4050.0,527.0\" fill=\"none\" stroke=\"currentColor\"/>\n",
       "    <text dy=\"1.25em\" style=\"font-size: 0.8em; letter-spacing: 1px\">\n",
       "        <textPath xlink:href=\"#arrow-2e2a35f0871040edbf709268af7dd57c-0-21\" class=\"displacy-label\" startOffset=\"50%\" side=\"left\" fill=\"currentColor\" text-anchor=\"middle\">det</textPath>\n",
       "    </text>\n",
       "    <path class=\"displacy-arrowhead\" d=\"M3920,529.0 L3912,517.0 3928,517.0\" fill=\"currentColor\"/>\n",
       "</g>\n",
       "\n",
       "<g class=\"displacy-arrow\">\n",
       "    <path class=\"displacy-arc\" id=\"arrow-2e2a35f0871040edbf709268af7dd57c-0-22\" stroke-width=\"2px\" d=\"M3745,527.0 C3745,352.0 4055.0,352.0 4055.0,527.0\" fill=\"none\" stroke=\"currentColor\"/>\n",
       "    <text dy=\"1.25em\" style=\"font-size: 0.8em; letter-spacing: 1px\">\n",
       "        <textPath xlink:href=\"#arrow-2e2a35f0871040edbf709268af7dd57c-0-22\" class=\"displacy-label\" startOffset=\"50%\" side=\"left\" fill=\"currentColor\" text-anchor=\"middle\">pobj</textPath>\n",
       "    </text>\n",
       "    <path class=\"displacy-arrowhead\" d=\"M4055.0,529.0 L4063.0,517.0 4047.0,517.0\" fill=\"currentColor\"/>\n",
       "</g>\n",
       "\n",
       "<g class=\"displacy-arrow\">\n",
       "    <path class=\"displacy-arc\" id=\"arrow-2e2a35f0871040edbf709268af7dd57c-0-23\" stroke-width=\"2px\" d=\"M4270,527.0 C4270,439.5 4400.0,439.5 4400.0,527.0\" fill=\"none\" stroke=\"currentColor\"/>\n",
       "    <text dy=\"1.25em\" style=\"font-size: 0.8em; letter-spacing: 1px\">\n",
       "        <textPath xlink:href=\"#arrow-2e2a35f0871040edbf709268af7dd57c-0-23\" class=\"displacy-label\" startOffset=\"50%\" side=\"left\" fill=\"currentColor\" text-anchor=\"middle\">det</textPath>\n",
       "    </text>\n",
       "    <path class=\"displacy-arrowhead\" d=\"M4270,529.0 L4262,517.0 4278,517.0\" fill=\"currentColor\"/>\n",
       "</g>\n",
       "\n",
       "<g class=\"displacy-arrow\">\n",
       "    <path class=\"displacy-arc\" id=\"arrow-2e2a35f0871040edbf709268af7dd57c-0-24\" stroke-width=\"2px\" d=\"M3220,527.0 C3220,264.5 4410.0,264.5 4410.0,527.0\" fill=\"none\" stroke=\"currentColor\"/>\n",
       "    <text dy=\"1.25em\" style=\"font-size: 0.8em; letter-spacing: 1px\">\n",
       "        <textPath xlink:href=\"#arrow-2e2a35f0871040edbf709268af7dd57c-0-24\" class=\"displacy-label\" startOffset=\"50%\" side=\"left\" fill=\"currentColor\" text-anchor=\"middle\">dobj</textPath>\n",
       "    </text>\n",
       "    <path class=\"displacy-arrowhead\" d=\"M4410.0,529.0 L4418.0,517.0 4402.0,517.0\" fill=\"currentColor\"/>\n",
       "</g>\n",
       "\n",
       "<g class=\"displacy-arrow\">\n",
       "    <path class=\"displacy-arc\" id=\"arrow-2e2a35f0871040edbf709268af7dd57c-0-25\" stroke-width=\"2px\" d=\"M4445,527.0 C4445,439.5 4575.0,439.5 4575.0,527.0\" fill=\"none\" stroke=\"currentColor\"/>\n",
       "    <text dy=\"1.25em\" style=\"font-size: 0.8em; letter-spacing: 1px\">\n",
       "        <textPath xlink:href=\"#arrow-2e2a35f0871040edbf709268af7dd57c-0-25\" class=\"displacy-label\" startOffset=\"50%\" side=\"left\" fill=\"currentColor\" text-anchor=\"middle\">prep</textPath>\n",
       "    </text>\n",
       "    <path class=\"displacy-arrowhead\" d=\"M4575.0,529.0 L4583.0,517.0 4567.0,517.0\" fill=\"currentColor\"/>\n",
       "</g>\n",
       "\n",
       "<g class=\"displacy-arrow\">\n",
       "    <path class=\"displacy-arc\" id=\"arrow-2e2a35f0871040edbf709268af7dd57c-0-26\" stroke-width=\"2px\" d=\"M4795,527.0 C4795,352.0 5105.0,352.0 5105.0,527.0\" fill=\"none\" stroke=\"currentColor\"/>\n",
       "    <text dy=\"1.25em\" style=\"font-size: 0.8em; letter-spacing: 1px\">\n",
       "        <textPath xlink:href=\"#arrow-2e2a35f0871040edbf709268af7dd57c-0-26\" class=\"displacy-label\" startOffset=\"50%\" side=\"left\" fill=\"currentColor\" text-anchor=\"middle\">nmod</textPath>\n",
       "    </text>\n",
       "    <path class=\"displacy-arrowhead\" d=\"M4795,529.0 L4787,517.0 4803,517.0\" fill=\"currentColor\"/>\n",
       "</g>\n",
       "\n",
       "<g class=\"displacy-arrow\">\n",
       "    <path class=\"displacy-arc\" id=\"arrow-2e2a35f0871040edbf709268af7dd57c-0-27\" stroke-width=\"2px\" d=\"M4970,527.0 C4970,439.5 5100.0,439.5 5100.0,527.0\" fill=\"none\" stroke=\"currentColor\"/>\n",
       "    <text dy=\"1.25em\" style=\"font-size: 0.8em; letter-spacing: 1px\">\n",
       "        <textPath xlink:href=\"#arrow-2e2a35f0871040edbf709268af7dd57c-0-27\" class=\"displacy-label\" startOffset=\"50%\" side=\"left\" fill=\"currentColor\" text-anchor=\"middle\">nummod</textPath>\n",
       "    </text>\n",
       "    <path class=\"displacy-arrowhead\" d=\"M4970,529.0 L4962,517.0 4978,517.0\" fill=\"currentColor\"/>\n",
       "</g>\n",
       "\n",
       "<g class=\"displacy-arrow\">\n",
       "    <path class=\"displacy-arc\" id=\"arrow-2e2a35f0871040edbf709268af7dd57c-0-28\" stroke-width=\"2px\" d=\"M4620,527.0 C4620,264.5 5110.0,264.5 5110.0,527.0\" fill=\"none\" stroke=\"currentColor\"/>\n",
       "    <text dy=\"1.25em\" style=\"font-size: 0.8em; letter-spacing: 1px\">\n",
       "        <textPath xlink:href=\"#arrow-2e2a35f0871040edbf709268af7dd57c-0-28\" class=\"displacy-label\" startOffset=\"50%\" side=\"left\" fill=\"currentColor\" text-anchor=\"middle\">pobj</textPath>\n",
       "    </text>\n",
       "    <path class=\"displacy-arrowhead\" d=\"M5110.0,529.0 L5118.0,517.0 5102.0,517.0\" fill=\"currentColor\"/>\n",
       "</g>\n",
       "\n",
       "<g class=\"displacy-arrow\">\n",
       "    <path class=\"displacy-arc\" id=\"arrow-2e2a35f0871040edbf709268af7dd57c-0-29\" stroke-width=\"2px\" d=\"M5145,527.0 C5145,439.5 5275.0,439.5 5275.0,527.0\" fill=\"none\" stroke=\"currentColor\"/>\n",
       "    <text dy=\"1.25em\" style=\"font-size: 0.8em; letter-spacing: 1px\">\n",
       "        <textPath xlink:href=\"#arrow-2e2a35f0871040edbf709268af7dd57c-0-29\" class=\"displacy-label\" startOffset=\"50%\" side=\"left\" fill=\"currentColor\" text-anchor=\"middle\">prep</textPath>\n",
       "    </text>\n",
       "    <path class=\"displacy-arrowhead\" d=\"M5275.0,529.0 L5283.0,517.0 5267.0,517.0\" fill=\"currentColor\"/>\n",
       "</g>\n",
       "\n",
       "<g class=\"displacy-arrow\">\n",
       "    <path class=\"displacy-arc\" id=\"arrow-2e2a35f0871040edbf709268af7dd57c-0-30\" stroke-width=\"2px\" d=\"M5495,527.0 C5495,439.5 5625.0,439.5 5625.0,527.0\" fill=\"none\" stroke=\"currentColor\"/>\n",
       "    <text dy=\"1.25em\" style=\"font-size: 0.8em; letter-spacing: 1px\">\n",
       "        <textPath xlink:href=\"#arrow-2e2a35f0871040edbf709268af7dd57c-0-30\" class=\"displacy-label\" startOffset=\"50%\" side=\"left\" fill=\"currentColor\" text-anchor=\"middle\">det</textPath>\n",
       "    </text>\n",
       "    <path class=\"displacy-arrowhead\" d=\"M5495,529.0 L5487,517.0 5503,517.0\" fill=\"currentColor\"/>\n",
       "</g>\n",
       "\n",
       "<g class=\"displacy-arrow\">\n",
       "    <path class=\"displacy-arc\" id=\"arrow-2e2a35f0871040edbf709268af7dd57c-0-31\" stroke-width=\"2px\" d=\"M5320,527.0 C5320,352.0 5630.0,352.0 5630.0,527.0\" fill=\"none\" stroke=\"currentColor\"/>\n",
       "    <text dy=\"1.25em\" style=\"font-size: 0.8em; letter-spacing: 1px\">\n",
       "        <textPath xlink:href=\"#arrow-2e2a35f0871040edbf709268af7dd57c-0-31\" class=\"displacy-label\" startOffset=\"50%\" side=\"left\" fill=\"currentColor\" text-anchor=\"middle\">pobj</textPath>\n",
       "    </text>\n",
       "    <path class=\"displacy-arrowhead\" d=\"M5630.0,529.0 L5638.0,517.0 5622.0,517.0\" fill=\"currentColor\"/>\n",
       "</g>\n",
       "\n",
       "<g class=\"displacy-arrow\">\n",
       "    <path class=\"displacy-arc\" id=\"arrow-2e2a35f0871040edbf709268af7dd57c-0-32\" stroke-width=\"2px\" d=\"M5670,527.0 C5670,439.5 5800.0,439.5 5800.0,527.0\" fill=\"none\" stroke=\"currentColor\"/>\n",
       "    <text dy=\"1.25em\" style=\"font-size: 0.8em; letter-spacing: 1px\">\n",
       "        <textPath xlink:href=\"#arrow-2e2a35f0871040edbf709268af7dd57c-0-32\" class=\"displacy-label\" startOffset=\"50%\" side=\"left\" fill=\"currentColor\" text-anchor=\"middle\">prep</textPath>\n",
       "    </text>\n",
       "    <path class=\"displacy-arrowhead\" d=\"M5800.0,529.0 L5808.0,517.0 5792.0,517.0\" fill=\"currentColor\"/>\n",
       "</g>\n",
       "\n",
       "<g class=\"displacy-arrow\">\n",
       "    <path class=\"displacy-arc\" id=\"arrow-2e2a35f0871040edbf709268af7dd57c-0-33\" stroke-width=\"2px\" d=\"M5845,527.0 C5845,439.5 5975.0,439.5 5975.0,527.0\" fill=\"none\" stroke=\"currentColor\"/>\n",
       "    <text dy=\"1.25em\" style=\"font-size: 0.8em; letter-spacing: 1px\">\n",
       "        <textPath xlink:href=\"#arrow-2e2a35f0871040edbf709268af7dd57c-0-33\" class=\"displacy-label\" startOffset=\"50%\" side=\"left\" fill=\"currentColor\" text-anchor=\"middle\">pobj</textPath>\n",
       "    </text>\n",
       "    <path class=\"displacy-arrowhead\" d=\"M5975.0,529.0 L5983.0,517.0 5967.0,517.0\" fill=\"currentColor\"/>\n",
       "</g>\n",
       "\n",
       "<g class=\"displacy-arrow\">\n",
       "    <path class=\"displacy-arc\" id=\"arrow-2e2a35f0871040edbf709268af7dd57c-0-34\" stroke-width=\"2px\" d=\"M6195,527.0 C6195,352.0 6505.0,352.0 6505.0,527.0\" fill=\"none\" stroke=\"currentColor\"/>\n",
       "    <text dy=\"1.25em\" style=\"font-size: 0.8em; letter-spacing: 1px\">\n",
       "        <textPath xlink:href=\"#arrow-2e2a35f0871040edbf709268af7dd57c-0-34\" class=\"displacy-label\" startOffset=\"50%\" side=\"left\" fill=\"currentColor\" text-anchor=\"middle\">det</textPath>\n",
       "    </text>\n",
       "    <path class=\"displacy-arrowhead\" d=\"M6195,529.0 L6187,517.0 6203,517.0\" fill=\"currentColor\"/>\n",
       "</g>\n",
       "\n",
       "<g class=\"displacy-arrow\">\n",
       "    <path class=\"displacy-arc\" id=\"arrow-2e2a35f0871040edbf709268af7dd57c-0-35\" stroke-width=\"2px\" d=\"M6370,527.0 C6370,439.5 6500.0,439.5 6500.0,527.0\" fill=\"none\" stroke=\"currentColor\"/>\n",
       "    <text dy=\"1.25em\" style=\"font-size: 0.8em; letter-spacing: 1px\">\n",
       "        <textPath xlink:href=\"#arrow-2e2a35f0871040edbf709268af7dd57c-0-35\" class=\"displacy-label\" startOffset=\"50%\" side=\"left\" fill=\"currentColor\" text-anchor=\"middle\">nummod</textPath>\n",
       "    </text>\n",
       "    <path class=\"displacy-arrowhead\" d=\"M6370,529.0 L6362,517.0 6378,517.0\" fill=\"currentColor\"/>\n",
       "</g>\n",
       "\n",
       "<g class=\"displacy-arrow\">\n",
       "    <path class=\"displacy-arc\" id=\"arrow-2e2a35f0871040edbf709268af7dd57c-0-36\" stroke-width=\"2px\" d=\"M3220,527.0 C3220,177.0 6515.0,177.0 6515.0,527.0\" fill=\"none\" stroke=\"currentColor\"/>\n",
       "    <text dy=\"1.25em\" style=\"font-size: 0.8em; letter-spacing: 1px\">\n",
       "        <textPath xlink:href=\"#arrow-2e2a35f0871040edbf709268af7dd57c-0-36\" class=\"displacy-label\" startOffset=\"50%\" side=\"left\" fill=\"currentColor\" text-anchor=\"middle\">npadvmod</textPath>\n",
       "    </text>\n",
       "    <path class=\"displacy-arrowhead\" d=\"M6515.0,529.0 L6523.0,517.0 6507.0,517.0\" fill=\"currentColor\"/>\n",
       "</g>\n",
       "</svg></span>"
      ],
      "text/plain": [
       "<IPython.core.display.HTML object>"
      ]
     },
     "metadata": {},
     "output_type": "display_data"
    }
   ],
   "source": [
    "claim_doc = nlp(normalize_pipeline(pairs.iloc[pair_index][\"claim_text\"]))\n",
    "evidence_doc = nlp(normalize_pipeline(pairs.iloc[pair_index][\"evidence_text\"]))\n",
    "displacy.render(claim_doc, style=\"dep\")\n",
    "displacy.render(evidence_doc, style=\"dep\")"
   ]
  },
  {
   "attachments": {},
   "cell_type": "markdown",
   "metadata": {},
   "source": [
    "## Info Tag extraction"
   ]
  },
  {
   "cell_type": "code",
   "execution_count": 11,
   "metadata": {},
   "outputs": [],
   "source": [
    "@dataclass\n",
    "class InfoTag:\n",
    "    tag:str\n",
    "    verb_pos:int = 0"
   ]
  },
  {
   "cell_type": "code",
   "execution_count": 12,
   "metadata": {},
   "outputs": [],
   "source": [
    "def get_info_tags(doc, go_nouns:List[str] = []) -> List[InfoTag]:\n",
    "    \n",
    "    info_tags = list()\n",
    "    seen = list()\n",
    "    seen_tags = list()\n",
    "    \n",
    "    def add_tag(tag_txt:str, info_tags=info_tags, seen_tags=seen_tags):\n",
    "        if tag_txt not in seen_tags:\n",
    "            info_tags += [InfoTag(tag = tag_txt, verb_pos=verb_pos)]\n",
    "            seen_tags += [tag_txt]\n",
    "        return\n",
    "    \n",
    "    verb_pos = 0\n",
    "    for token in (doc):\n",
    "        \n",
    "        # Skip if we have seen the token before\n",
    "        if token.lemma_ in seen:\n",
    "            continue\n",
    "        \n",
    "        # Increment the relative verb position\n",
    "        if token.pos_ in [\"VERB\"]:\n",
    "            verb_pos += 1\n",
    "        \n",
    "        # Include it if it is in the whitelist of go_nouns\n",
    "        if token.lemma_ in go_nouns:\n",
    "            # info_tags += [InfoTag(tag=token.lemma_, verb_pos=verb_pos)]\n",
    "            tag_txt = token.lemma_\n",
    "            add_tag(tag_txt)\n",
    "        \n",
    "        # Include it if it is a (proper)noun\n",
    "        if token.pos_ in [\"PROPN\", \"NOUN\"]:\n",
    "            # info_tags += [InfoTag(tag=token.lemma_, verb_pos=verb_pos)]\n",
    "            tag_txt = token.lemma_\n",
    "            add_tag(tag_txt)\n",
    "        \n",
    "        # Merge proper noun compounds\n",
    "        if token.pos_ in [\"PROPN\"]:\n",
    "            tag = [token.lemma_]\n",
    "            seen += [token.lemma_]\n",
    "            this_token = token\n",
    "            while this_token.dep_ in [\"compound\"]:\n",
    "                this_token = this_token.head\n",
    "                tag += [this_token.lemma_]\n",
    "                seen += [this_token.lemma_]\n",
    "            tag_txt = \" \".join(tag)\n",
    "            add_tag(tag_txt)\n",
    "            # continue\n",
    "        \n",
    "        # Merge noun compounds\n",
    "        if (token.pos_ in [\"NOUN\"]\n",
    "            and token.dep_ in [\"compound\"]\n",
    "            and token.head.pos_ == \"NOUN\"\n",
    "        ):\n",
    "            tag = [token.lemma_, token.head.lemma_]\n",
    "            seen += tag\n",
    "            # info_tags += [InfoTag(tag = \" \".join(tag), verb_pos=verb_pos)]\n",
    "            tag_txt = \" \".join(tag)\n",
    "            add_tag(tag_txt)\n",
    "            # continue\n",
    "        \n",
    "        # Add possessive or subject nouns/pronouns\n",
    "        # if (\n",
    "        #     token.pos_ in [\"NOUN\"]\n",
    "        #     and token.dep_ in [\"poss\", \"nsubj\", \"expl\"]\n",
    "        # ):\n",
    "        #     tag = [token.lemma_]\n",
    "        #     seen += tag\n",
    "        #     info_tags += [InfoTag(tag = \" \".join(tag), verb_pos=verb_pos)]\n",
    "            # continue\n",
    "        \n",
    "        # Add nouns with determiners\n",
    "        # if (\n",
    "        #     token.pos_ in [\"DET\"]\n",
    "        #     and token.dep_ in [\"det\"]\n",
    "        #     and token.head.pos_ in [\"NOUN\"]\n",
    "        # ):\n",
    "        #     tag = [token.head.lemma_]\n",
    "        #     seen += tag\n",
    "        #     info_tags += [InfoTag(tag = \" \".join(tag), verb_pos=verb_pos)]\n",
    "            # continue\n",
    "        \n",
    "        # Add root nouns\n",
    "        # if (\n",
    "        #     token.pos_ in [\"NOUN\"]\n",
    "        #     and token.dep_ in [\"ROOT\"]\n",
    "        # ):\n",
    "        #     tag = [token.lemma_]\n",
    "        #     seen += tag\n",
    "        #     info_tags += [InfoTag(tag = \" \".join(tag), verb_pos=verb_pos)]\n",
    "            # continue\n",
    "        \n",
    "        # Merge Nouns with adjective modifiers\n",
    "        if (\n",
    "            token.pos_ in [\"ADJ\"]\n",
    "            and token.dep_ in [\"amod\"]\n",
    "            and token.head.pos_ in [\"NOUN\"]\n",
    "            and token.head.dep_ not in [\"compound\"]\n",
    "        ):\n",
    "            tag = [token.lemma_, token.head.lemma_]\n",
    "            seen += tag\n",
    "            # info_tags += [InfoTag(tag = \" \".join(tag), verb_pos=verb_pos)]\n",
    "            tag_txt = \" \".join(tag)\n",
    "            add_tag(tag_txt)\n",
    "            # continue\n",
    "        \n",
    "        # Adjectives linked to verbs and nouns\n",
    "        if (\n",
    "            token.pos_ in [\"ADJ\"]\n",
    "            and token.head.pos_ in [\"VERB\", \"NOUN\"]\n",
    "        ):\n",
    "            tag = [token.lemma_]\n",
    "            seen += tag\n",
    "            # info_tags += [InfoTag(tag = \" \".join(tag), verb_pos=verb_pos)]\n",
    "            tag_txt = \" \".join(tag)\n",
    "            add_tag(tag_txt)\n",
    "            # continue\n",
    "        \n",
    "        continue\n",
    "\n",
    "    return info_tags\n"
   ]
  },
  {
   "cell_type": "code",
   "execution_count": 13,
   "metadata": {},
   "outputs": [],
   "source": [
    "go_nouns = [\n",
    "    'warming',\n",
    "    'climate',\n",
    "    'temperature',\n",
    "    'CO2',\n",
    "    'level',\n",
    "    'ice',\n",
    "    'change',\n",
    "    'sea',\n",
    "    'carbon',\n",
    "    'scientist',\n",
    "    'absorb'\n",
    "]"
   ]
  },
  {
   "cell_type": "code",
   "execution_count": 14,
   "metadata": {},
   "outputs": [
    {
     "data": {
      "text/plain": [
       "[InfoTag(tag='greg', verb_pos=0),\n",
       " InfoTag(tag='greg research', verb_pos=0),\n",
       " InfoTag(tag='hunt', verb_pos=0),\n",
       " InfoTag(tag='hunt research', verb_pos=0),\n",
       " InfoTag(tag='csiro', verb_pos=0),\n",
       " InfoTag(tag='csiro research', verb_pos=0),\n",
       " InfoTag(tag='carbon', verb_pos=1),\n",
       " InfoTag(tag='carbon emission', verb_pos=1),\n",
       " InfoTag(tag='cent', verb_pos=2),\n",
       " InfoTag(tag='year', verb_pos=2),\n",
       " InfoTag(tag='nature', verb_pos=3),\n",
       " InfoTag(tag='nature soil', verb_pos=3),\n",
       " InfoTag(tag='tree', verb_pos=3)]"
      ]
     },
     "execution_count": 14,
     "metadata": {},
     "output_type": "execute_result"
    }
   ],
   "source": [
    "claim_tags = get_info_tags(claim_doc, go_nouns=go_nouns)\n",
    "claim_tags"
   ]
  },
  {
   "cell_type": "code",
   "execution_count": 15,
   "metadata": {},
   "outputs": [
    {
     "data": {
      "text/plain": [
       "[InfoTag(tag='u', verb_pos=1),\n",
       " InfoTag(tag='carbon', verb_pos=1),\n",
       " InfoTag(tag='carbon dioxide', verb_pos=1),\n",
       " InfoTag(tag='emission', verb_pos=1),\n",
       " InfoTag(tag='percent', verb_pos=1),\n",
       " InfoTag(tag='kyoto', verb_pos=2),\n",
       " InfoTag(tag='kyoto protocol', verb_pos=2),\n",
       " InfoTag(tag='planting', verb_pos=3),\n",
       " InfoTag(tag='area', verb_pos=3),\n",
       " InfoTag(tag='size', verb_pos=3),\n",
       " InfoTag(tag='texas', verb_pos=3),\n",
       " InfoTag(tag='brazil', verb_pos=3),\n",
       " InfoTag(tag='year', verb_pos=3)]"
      ]
     },
     "execution_count": 15,
     "metadata": {},
     "output_type": "execute_result"
    }
   ],
   "source": [
    "evidence_tags = get_info_tags(evidence_doc, go_nouns=go_nouns)\n",
    "evidence_tags"
   ]
  },
  {
   "attachments": {},
   "cell_type": "markdown",
   "metadata": {},
   "source": [
    "## Map subject relations"
   ]
  },
  {
   "cell_type": "code",
   "execution_count": 16,
   "metadata": {},
   "outputs": [],
   "source": [
    "from collections import defaultdict\n",
    "def map_subject_relation(\n",
    "    claim_tags:InfoTag,\n",
    "    evidence_tags:InfoTag,\n",
    "    verb_pos_threshold:int=0\n",
    ") -> defaultdict:\n",
    "    subj_relations = defaultdict(list)\n",
    "    for c_tag in claim_tags:\n",
    "        # if c_tag.verb_pos > verb_pos_threshold:\n",
    "        #     continue\n",
    "        for e_tag in evidence_tags:\n",
    "            # if e_tag.verb_pos > verb_pos_threshold:\n",
    "            #     continue\n",
    "            subj_relations[c_tag.tag].append(e_tag.tag)\n",
    "            subj_relations[e_tag.tag].append(c_tag.tag)\n",
    "    return subj_relations\n",
    "    "
   ]
  },
  {
   "cell_type": "code",
   "execution_count": 17,
   "metadata": {},
   "outputs": [
    {
     "data": {
      "text/plain": [
       "defaultdict(list,\n",
       "            {'greg': ['u',\n",
       "              'carbon',\n",
       "              'carbon dioxide',\n",
       "              'emission',\n",
       "              'percent',\n",
       "              'kyoto',\n",
       "              'kyoto protocol',\n",
       "              'planting',\n",
       "              'area',\n",
       "              'size',\n",
       "              'texas',\n",
       "              'brazil',\n",
       "              'year'],\n",
       "             'u': ['greg',\n",
       "              'greg research',\n",
       "              'hunt',\n",
       "              'hunt research',\n",
       "              'csiro',\n",
       "              'csiro research',\n",
       "              'carbon',\n",
       "              'carbon emission',\n",
       "              'cent',\n",
       "              'year',\n",
       "              'nature',\n",
       "              'nature soil',\n",
       "              'tree'],\n",
       "             'carbon': ['greg',\n",
       "              'greg research',\n",
       "              'hunt',\n",
       "              'hunt research',\n",
       "              'csiro',\n",
       "              'csiro research',\n",
       "              'u',\n",
       "              'carbon',\n",
       "              'carbon',\n",
       "              'carbon dioxide',\n",
       "              'emission',\n",
       "              'percent',\n",
       "              'kyoto',\n",
       "              'kyoto protocol',\n",
       "              'planting',\n",
       "              'area',\n",
       "              'size',\n",
       "              'texas',\n",
       "              'brazil',\n",
       "              'year',\n",
       "              'carbon emission',\n",
       "              'cent',\n",
       "              'year',\n",
       "              'nature',\n",
       "              'nature soil',\n",
       "              'tree'],\n",
       "             'carbon dioxide': ['greg',\n",
       "              'greg research',\n",
       "              'hunt',\n",
       "              'hunt research',\n",
       "              'csiro',\n",
       "              'csiro research',\n",
       "              'carbon',\n",
       "              'carbon emission',\n",
       "              'cent',\n",
       "              'year',\n",
       "              'nature',\n",
       "              'nature soil',\n",
       "              'tree'],\n",
       "             'emission': ['greg',\n",
       "              'greg research',\n",
       "              'hunt',\n",
       "              'hunt research',\n",
       "              'csiro',\n",
       "              'csiro research',\n",
       "              'carbon',\n",
       "              'carbon emission',\n",
       "              'cent',\n",
       "              'year',\n",
       "              'nature',\n",
       "              'nature soil',\n",
       "              'tree'],\n",
       "             'percent': ['greg',\n",
       "              'greg research',\n",
       "              'hunt',\n",
       "              'hunt research',\n",
       "              'csiro',\n",
       "              'csiro research',\n",
       "              'carbon',\n",
       "              'carbon emission',\n",
       "              'cent',\n",
       "              'year',\n",
       "              'nature',\n",
       "              'nature soil',\n",
       "              'tree'],\n",
       "             'kyoto': ['greg',\n",
       "              'greg research',\n",
       "              'hunt',\n",
       "              'hunt research',\n",
       "              'csiro',\n",
       "              'csiro research',\n",
       "              'carbon',\n",
       "              'carbon emission',\n",
       "              'cent',\n",
       "              'year',\n",
       "              'nature',\n",
       "              'nature soil',\n",
       "              'tree'],\n",
       "             'kyoto protocol': ['greg',\n",
       "              'greg research',\n",
       "              'hunt',\n",
       "              'hunt research',\n",
       "              'csiro',\n",
       "              'csiro research',\n",
       "              'carbon',\n",
       "              'carbon emission',\n",
       "              'cent',\n",
       "              'year',\n",
       "              'nature',\n",
       "              'nature soil',\n",
       "              'tree'],\n",
       "             'planting': ['greg',\n",
       "              'greg research',\n",
       "              'hunt',\n",
       "              'hunt research',\n",
       "              'csiro',\n",
       "              'csiro research',\n",
       "              'carbon',\n",
       "              'carbon emission',\n",
       "              'cent',\n",
       "              'year',\n",
       "              'nature',\n",
       "              'nature soil',\n",
       "              'tree'],\n",
       "             'area': ['greg',\n",
       "              'greg research',\n",
       "              'hunt',\n",
       "              'hunt research',\n",
       "              'csiro',\n",
       "              'csiro research',\n",
       "              'carbon',\n",
       "              'carbon emission',\n",
       "              'cent',\n",
       "              'year',\n",
       "              'nature',\n",
       "              'nature soil',\n",
       "              'tree'],\n",
       "             'size': ['greg',\n",
       "              'greg research',\n",
       "              'hunt',\n",
       "              'hunt research',\n",
       "              'csiro',\n",
       "              'csiro research',\n",
       "              'carbon',\n",
       "              'carbon emission',\n",
       "              'cent',\n",
       "              'year',\n",
       "              'nature',\n",
       "              'nature soil',\n",
       "              'tree'],\n",
       "             'texas': ['greg',\n",
       "              'greg research',\n",
       "              'hunt',\n",
       "              'hunt research',\n",
       "              'csiro',\n",
       "              'csiro research',\n",
       "              'carbon',\n",
       "              'carbon emission',\n",
       "              'cent',\n",
       "              'year',\n",
       "              'nature',\n",
       "              'nature soil',\n",
       "              'tree'],\n",
       "             'brazil': ['greg',\n",
       "              'greg research',\n",
       "              'hunt',\n",
       "              'hunt research',\n",
       "              'csiro',\n",
       "              'csiro research',\n",
       "              'carbon',\n",
       "              'carbon emission',\n",
       "              'cent',\n",
       "              'year',\n",
       "              'nature',\n",
       "              'nature soil',\n",
       "              'tree'],\n",
       "             'year': ['greg',\n",
       "              'greg research',\n",
       "              'hunt',\n",
       "              'hunt research',\n",
       "              'csiro',\n",
       "              'csiro research',\n",
       "              'carbon',\n",
       "              'carbon emission',\n",
       "              'cent',\n",
       "              'u',\n",
       "              'carbon',\n",
       "              'carbon dioxide',\n",
       "              'emission',\n",
       "              'percent',\n",
       "              'kyoto',\n",
       "              'kyoto protocol',\n",
       "              'planting',\n",
       "              'area',\n",
       "              'size',\n",
       "              'texas',\n",
       "              'brazil',\n",
       "              'year',\n",
       "              'year',\n",
       "              'nature',\n",
       "              'nature soil',\n",
       "              'tree'],\n",
       "             'greg research': ['u',\n",
       "              'carbon',\n",
       "              'carbon dioxide',\n",
       "              'emission',\n",
       "              'percent',\n",
       "              'kyoto',\n",
       "              'kyoto protocol',\n",
       "              'planting',\n",
       "              'area',\n",
       "              'size',\n",
       "              'texas',\n",
       "              'brazil',\n",
       "              'year'],\n",
       "             'hunt': ['u',\n",
       "              'carbon',\n",
       "              'carbon dioxide',\n",
       "              'emission',\n",
       "              'percent',\n",
       "              'kyoto',\n",
       "              'kyoto protocol',\n",
       "              'planting',\n",
       "              'area',\n",
       "              'size',\n",
       "              'texas',\n",
       "              'brazil',\n",
       "              'year'],\n",
       "             'hunt research': ['u',\n",
       "              'carbon',\n",
       "              'carbon dioxide',\n",
       "              'emission',\n",
       "              'percent',\n",
       "              'kyoto',\n",
       "              'kyoto protocol',\n",
       "              'planting',\n",
       "              'area',\n",
       "              'size',\n",
       "              'texas',\n",
       "              'brazil',\n",
       "              'year'],\n",
       "             'csiro': ['u',\n",
       "              'carbon',\n",
       "              'carbon dioxide',\n",
       "              'emission',\n",
       "              'percent',\n",
       "              'kyoto',\n",
       "              'kyoto protocol',\n",
       "              'planting',\n",
       "              'area',\n",
       "              'size',\n",
       "              'texas',\n",
       "              'brazil',\n",
       "              'year'],\n",
       "             'csiro research': ['u',\n",
       "              'carbon',\n",
       "              'carbon dioxide',\n",
       "              'emission',\n",
       "              'percent',\n",
       "              'kyoto',\n",
       "              'kyoto protocol',\n",
       "              'planting',\n",
       "              'area',\n",
       "              'size',\n",
       "              'texas',\n",
       "              'brazil',\n",
       "              'year'],\n",
       "             'carbon emission': ['u',\n",
       "              'carbon',\n",
       "              'carbon dioxide',\n",
       "              'emission',\n",
       "              'percent',\n",
       "              'kyoto',\n",
       "              'kyoto protocol',\n",
       "              'planting',\n",
       "              'area',\n",
       "              'size',\n",
       "              'texas',\n",
       "              'brazil',\n",
       "              'year'],\n",
       "             'cent': ['u',\n",
       "              'carbon',\n",
       "              'carbon dioxide',\n",
       "              'emission',\n",
       "              'percent',\n",
       "              'kyoto',\n",
       "              'kyoto protocol',\n",
       "              'planting',\n",
       "              'area',\n",
       "              'size',\n",
       "              'texas',\n",
       "              'brazil',\n",
       "              'year'],\n",
       "             'nature': ['u',\n",
       "              'carbon',\n",
       "              'carbon dioxide',\n",
       "              'emission',\n",
       "              'percent',\n",
       "              'kyoto',\n",
       "              'kyoto protocol',\n",
       "              'planting',\n",
       "              'area',\n",
       "              'size',\n",
       "              'texas',\n",
       "              'brazil',\n",
       "              'year'],\n",
       "             'nature soil': ['u',\n",
       "              'carbon',\n",
       "              'carbon dioxide',\n",
       "              'emission',\n",
       "              'percent',\n",
       "              'kyoto',\n",
       "              'kyoto protocol',\n",
       "              'planting',\n",
       "              'area',\n",
       "              'size',\n",
       "              'texas',\n",
       "              'brazil',\n",
       "              'year'],\n",
       "             'tree': ['u',\n",
       "              'carbon',\n",
       "              'carbon dioxide',\n",
       "              'emission',\n",
       "              'percent',\n",
       "              'kyoto',\n",
       "              'kyoto protocol',\n",
       "              'planting',\n",
       "              'area',\n",
       "              'size',\n",
       "              'texas',\n",
       "              'brazil',\n",
       "              'year']})"
      ]
     },
     "execution_count": 17,
     "metadata": {},
     "output_type": "execute_result"
    }
   ],
   "source": [
    "map_subject_relation(claim_tags, evidence_tags)"
   ]
  },
  {
   "attachments": {},
   "cell_type": "markdown",
   "metadata": {},
   "source": [
    "## Training"
   ]
  },
  {
   "cell_type": "code",
   "execution_count": 18,
   "metadata": {},
   "outputs": [],
   "source": [
    "DATA_PATH = ROOT_DIR.joinpath(\"./data/*\")\n",
    "SAVE_PATH = ROOT_DIR.joinpath(\"./result/pipeline/shortlisting_v3/*\")"
   ]
  },
  {
   "attachments": {},
   "cell_type": "markdown",
   "metadata": {},
   "source": [
    "### Info tag pipeline"
   ]
  },
  {
   "cell_type": "code",
   "execution_count": 19,
   "metadata": {},
   "outputs": [],
   "source": [
    "def info_tag_pipeline(\n",
    "    text:str,\n",
    "    go_nouns:list = [],\n",
    "    return_doc:bool=False\n",
    ") -> List[InfoTag]:\n",
    "    text = normalize_pipeline(text)\n",
    "    doc = nlp(text)\n",
    "    tags = get_info_tags(doc, go_nouns=go_nouns)\n",
    "    \n",
    "    if return_doc:\n",
    "        return tags, doc\n",
    "    else:\n",
    "        return tags"
   ]
  },
  {
   "attachments": {},
   "cell_type": "markdown",
   "metadata": {},
   "source": [
    "### Get top nouns"
   ]
  },
  {
   "cell_type": "code",
   "execution_count": 20,
   "metadata": {},
   "outputs": [],
   "source": [
    "def get_top_nouns(\n",
    "    claims_paths:List[Path],\n",
    "    save_path:Path = None,\n",
    "    k:int = 10,\n",
    "    stop_nouns:list = [],\n",
    "    with_counts:bool = True,\n",
    "    verbose:bool = True\n",
    "):\n",
    "    # Load the claims file\n",
    "    claims = dict()\n",
    "    for claims_path in claims_paths:\n",
    "        with open(claims_path, mode=\"r\") as f:\n",
    "            claims.update(json.load(f))\n",
    "    \n",
    "    # Cumulator\n",
    "    noun_counts = Counter()\n",
    "    \n",
    "    claim_obj = tqdm(claims.values(), desc=\"claims\", disable=not verbose)\n",
    "    for claim in claim_obj:\n",
    "        claim_text = claim[\"claim_text\"]\n",
    "        claim_doc = nlp(claim_text)\n",
    "        for token in claim_doc:\n",
    "            if token.pos_ in [\"NOUN\", \"PROPN\"] \\\n",
    "                and token.lemma_ not in stop_nouns:\n",
    "                noun_counts[token.lemma_] += 1\n",
    "    \n",
    "    top_k_nouns_counts = noun_counts.most_common(k)\n",
    "    top_k_nouns = [noun_count[0] for noun_count in top_k_nouns_counts]\n",
    "\n",
    "    if save_path:\n",
    "        with open(save_path, mode=\"w\") as f:\n",
    "            json.dump(obj=top_k_nouns, fp=f, cls=SetEncoder)\n",
    "            print(f\"saved to: {save_path}\")\n",
    "    \n",
    "    if with_counts:\n",
    "        return top_k_nouns_counts\n",
    "    else:\n",
    "        return top_k_nouns"
   ]
  },
  {
   "cell_type": "code",
   "execution_count": 21,
   "metadata": {},
   "outputs": [
    {
     "name": "stdout",
     "output_type": "stream",
     "text": [
      "existing found: /Users/johnsonzhou/git/comp90042-project/result/pipeline/shortlisting_v3/train_top_k_nouns.json\n",
      "loaded: /Users/johnsonzhou/git/comp90042-project/result/pipeline/shortlisting_v3/train_top_k_nouns.json\n"
     ]
    }
   ],
   "source": [
    "top_k_nouns_path = SAVE_PATH.with_name(\"train_top_k_nouns.json\")\n",
    "\n",
    "if top_k_nouns_path.exists():\n",
    "    print(f\"existing found: {top_k_nouns_path}\")\n",
    "    \n",
    "    with open(top_k_nouns_path, mode=\"r\") as f:\n",
    "        top_k_nouns = json.load(f)\n",
    "        print(f\"loaded: {top_k_nouns_path}\")\n",
    "        \n",
    "else:\n",
    "    \n",
    "    top_k_nouns = get_top_nouns(\n",
    "        claims_paths=[DATA_PATH.with_name(\"train-claims.json\")],\n",
    "        save_path=top_k_nouns_path,\n",
    "        k=50,\n",
    "        stop_nouns=[\"year\"],\n",
    "        with_counts=True,\n",
    "    )\n",
    "# top_k_nouns"
   ]
  },
  {
   "attachments": {},
   "cell_type": "markdown",
   "metadata": {},
   "source": [
    "### Train subject relations"
   ]
  },
  {
   "cell_type": "code",
   "execution_count": 22,
   "metadata": {},
   "outputs": [],
   "source": [
    "def train_subject_relations(\n",
    "    claims_paths:List[Path],\n",
    "    evidence_path:Path,\n",
    "    save_path:Path = None,\n",
    "    verb_pos_threshold:int=0,\n",
    "    verbose:bool = True\n",
    ") -> DefaultDict[str, set]:\n",
    "    # Load the claims file\n",
    "    claims = dict()\n",
    "    for claims_path in claims_paths:\n",
    "        with open(claims_path, mode=\"r\") as f:\n",
    "            claims.update(json.load(f))\n",
    "    \n",
    "    # Load the evidence file\n",
    "    with open(evidence_path, mode=\"r\") as f:\n",
    "        evidences = json.load(f)\n",
    "    \n",
    "    # Cumulator\n",
    "    subject_relations = defaultdict(set) #todo\n",
    "    \n",
    "    claim_obj = tqdm(claims.values(), desc=\"claims\", disable=not verbose)\n",
    "    for claim in claim_obj:\n",
    "        claim_text = claim[\"claim_text\"]\n",
    "        for evidence_id in claim[\"evidences\"]:\n",
    "            evidence_text = evidences[evidence_id]\n",
    "            \n",
    "            claim_tags = info_tag_pipeline(text=claim_text)\n",
    "            evidence_tags = info_tag_pipeline(text=evidence_text)\n",
    "            \n",
    "            related_tags = map_subject_relation(\n",
    "                claim_tags=claim_tags,\n",
    "                evidence_tags=evidence_tags,\n",
    "                verb_pos_threshold=verb_pos_threshold\n",
    "            )\n",
    "            \n",
    "            for tag, related_tags in related_tags.items():\n",
    "                claim_obj.postfix = f\"n_rel: {len(related_tags)}\"\n",
    "                subject_relations[tag].update(related_tags) #todo\n",
    "    \n",
    "    if save_path:\n",
    "        with open(save_path, mode=\"w\") as f:\n",
    "            json.dump(obj=subject_relations, fp=f, cls=SetEncoder)\n",
    "            print(f\"saved to: {save_path}\")\n",
    "            \n",
    "    return subject_relations"
   ]
  },
  {
   "cell_type": "code",
   "execution_count": 23,
   "metadata": {},
   "outputs": [
    {
     "name": "stdout",
     "output_type": "stream",
     "text": [
      "existing found: /Users/johnsonzhou/git/comp90042-project/result/pipeline/shortlisting_v3/train_subject_relations.json\n"
     ]
    }
   ],
   "source": [
    "relation_save_path = SAVE_PATH.with_name(\"train_subject_relations.json\")\n",
    "\n",
    "if relation_save_path.exists():\n",
    "    print(f\"existing found: {relation_save_path}\")\n",
    "    \n",
    "    # with open(relation_save_path, mode=\"r\") as f:\n",
    "    #     subject_relations = json.load(f)\n",
    "    #     print(f\"loaded: {relation_save_path}\")\n",
    "        \n",
    "else:\n",
    "    \n",
    "    subject_relations = train_subject_relations(\n",
    "        claims_paths=[DATA_PATH.with_name(\"train-claims.json\")],\n",
    "        evidence_path=DATA_PATH.with_name(\"evidence.json\"),\n",
    "        save_path=relation_save_path\n",
    "    )\n",
    "# subject_relations"
   ]
  },
  {
   "attachments": {},
   "cell_type": "markdown",
   "metadata": {},
   "source": [
    "### Tag evidences"
   ]
  },
  {
   "cell_type": "code",
   "execution_count": 24,
   "metadata": {},
   "outputs": [],
   "source": [
    "# For multiprocessing\n",
    "def get_evidence_tags_pool(\n",
    "    evidence,\n",
    "    info_tag_pipeline=info_tag_pipeline,\n",
    "    go_nouns=top_k_nouns\n",
    "):\n",
    "    evidence_id, evidence_text = evidence\n",
    "        \n",
    "    tags = info_tag_pipeline(text=evidence_text, go_nouns=go_nouns)\n",
    "\n",
    "    return evidence_id, tags"
   ]
  },
  {
   "cell_type": "code",
   "execution_count": 25,
   "metadata": {},
   "outputs": [],
   "source": [
    "def tag_evidences(\n",
    "    evidence_path:Path,\n",
    "    top_k_nouns_path:Path,\n",
    "    save_path:Path = None,\n",
    "    processes:int = 8,\n",
    "    verbose:bool = True\n",
    ") -> DefaultDict[str, set]:\n",
    "    \n",
    "    # Load the evidence file\n",
    "    with open(evidence_path, mode=\"r\") as f:\n",
    "        evidences = json.load(f)\n",
    "        \n",
    "    # Load the top k nouns file\n",
    "    with open(top_k_nouns_path, mode=\"r\") as f:\n",
    "        top_k_nouns = json.load(f)\n",
    "    \n",
    "    # Cumulator\n",
    "    evidence_tags = defaultdict(set)\n",
    "    \n",
    "    # Multiprocessing, can't get it to work\n",
    "    # evidences_iter = \\\n",
    "    #     tqdm([evidences.items()], desc=\"evidence\", disable=not verbose, leave=False)\n",
    "    \n",
    "    # with Pool(processes=processes) as pool:\n",
    "    #     pooled_evidence_tags = pool.imap(get_evidence_tags_pool, evidences_iter)\n",
    "        \n",
    "    # evidence_tags_iter = \\\n",
    "    #     tqdm(pooled_evidence_tags, desc=\"evidence tags\", disable=not verbose)\n",
    "    # for tags, evidence_id in evidence_tags_iter:\n",
    "    #     for tag in tags:\n",
    "    #         evidence_tags[tag.tag].add(evidence_id)\n",
    "    \n",
    "    evidences_iter = tqdm(evidences.items(), desc=\"claims\", disable=not verbose)\n",
    "    for evidence_id, evidence_text in evidences_iter:\n",
    "        \n",
    "        tags = info_tag_pipeline(text=evidence_text, go_nouns=top_k_nouns)\n",
    "        \n",
    "        for tag in tags:\n",
    "            evidence_tags[tag.tag].add(evidence_id)\n",
    "        \n",
    "        evidences_iter.postfix = f\"n_tags: {len(tags)}\"\n",
    "        \n",
    "        continue\n",
    "    \n",
    "    if save_path:\n",
    "        with open(save_path, mode=\"w\") as f:\n",
    "            json.dump(obj=evidence_tags, fp=f, cls=SetEncoder)\n",
    "            print(f\"saved to: {save_path}\")\n",
    "\n",
    "    return evidence_tags\n"
   ]
  },
  {
   "cell_type": "code",
   "execution_count": 26,
   "metadata": {},
   "outputs": [
    {
     "name": "stdout",
     "output_type": "stream",
     "text": [
      "existing found: /Users/johnsonzhou/git/comp90042-project/result/pipeline/shortlisting_v3/tagged_evidences.json\n"
     ]
    }
   ],
   "source": [
    "tagged_evidences_path = SAVE_PATH.with_name(\"tagged_evidences.json\")\n",
    "\n",
    "if tagged_evidences_path.exists():\n",
    "    print(f\"existing found: {tagged_evidences_path}\")\n",
    "    \n",
    "    # with open(tagged_evidences_path, mode=\"r\") as f:\n",
    "    #     tagged_evidences = json.load(f)\n",
    "    #     print(f\"loaded: {tagged_evidences_path}\")\n",
    "        \n",
    "else:\n",
    "    \n",
    "    tagged_evidences = tag_evidences(\n",
    "        evidence_path=DATA_PATH.with_name(\"evidence.json\"),\n",
    "        top_k_nouns_path=top_k_nouns_path,\n",
    "        save_path=tagged_evidences_path\n",
    "    )\n",
    "# tagged_evidences"
   ]
  },
  {
   "attachments": {},
   "cell_type": "markdown",
   "metadata": {},
   "source": [
    "### Tag evidences with char n-gram"
   ]
  },
  {
   "cell_type": "code",
   "execution_count": 27,
   "metadata": {},
   "outputs": [],
   "source": [
    "def get_bidirectional_n_grams(doc, n:int=4):\n",
    "    fwd_ngrams = [token.lemma_[:n] for token in doc if len(token.lemma_) >= n]\n",
    "    rev_ngrams = [token.lemma_[-n:] for token in doc if len(token.lemma_) >= n]\n",
    "    return fwd_ngrams, rev_ngrams"
   ]
  },
  {
   "cell_type": "code",
   "execution_count": 28,
   "metadata": {},
   "outputs": [],
   "source": [
    "def get_ngram_evidences(\n",
    "    evidence_path:Path,\n",
    "    n_list:list = [4, 5, 6],\n",
    "    save_path_fwd:Path = None,\n",
    "    save_path_rev:Path = None,\n",
    "    verbose:bool = True\n",
    "):\n",
    "    # Load the evidence file\n",
    "    with open(evidence_path, mode=\"r\") as f:\n",
    "        evidences = json.load(f)\n",
    "    \n",
    "    # Cumulator\n",
    "    fwd_evidence_ngrams = defaultdict(set)\n",
    "    rev_evidence_ngrams = defaultdict(set)\n",
    "    \n",
    "    evidences_iter = tqdm(evidences.items(), desc=\"claims\", disable=not verbose)\n",
    "    for evidence_id, evidence_text in evidences_iter:\n",
    "        \n",
    "        text = normalize_pipeline(evidence_text)\n",
    "        doc = nlp(text)\n",
    "        \n",
    "        for n in n_list:\n",
    "            fwd_ngrams, rev_ngrams = get_bidirectional_n_grams(doc, n=n)\n",
    "            \n",
    "            for ngram in fwd_ngrams:\n",
    "                fwd_evidence_ngrams[ngram].add(evidence_id)\n",
    "                \n",
    "            for ngram in rev_ngrams:\n",
    "                rev_evidence_ngrams[ngram].add(evidence_id)\n",
    "            \n",
    "        continue\n",
    "    \n",
    "    if save_path_fwd and save_path_rev:\n",
    "        with open(save_path_fwd, mode=\"w\") as f:\n",
    "            json.dump(obj=fwd_evidence_ngrams, fp=f, cls=SetEncoder)\n",
    "            print(f\"saved to: {save_path_fwd}\")\n",
    "        with open(save_path_rev, mode=\"w\") as f:\n",
    "            json.dump(obj=rev_evidence_ngrams, fp=f, cls=SetEncoder)\n",
    "            print(f\"saved to: {save_path_rev}\")\n",
    "    \n",
    "    return fwd_evidence_ngrams, rev_evidence_ngrams"
   ]
  },
  {
   "cell_type": "code",
   "execution_count": 29,
   "metadata": {},
   "outputs": [
    {
     "name": "stdout",
     "output_type": "stream",
     "text": [
      "existing found: /Users/johnsonzhou/git/comp90042-project/result/pipeline/shortlisting_v3/train_fwd_ngram_evidences.json\n"
     ]
    }
   ],
   "source": [
    "fwd_ngram_evidences_path = SAVE_PATH.with_name(\"train_fwd_ngram_evidences.json\")\n",
    "rev_ngram_evidences_path = SAVE_PATH.with_name(\"train_rev_ngram_evidences.json\")\n",
    "\n",
    "if fwd_ngram_evidences_path.exists():\n",
    "    print(f\"existing found: {fwd_ngram_evidences_path}\")\n",
    "    \n",
    "    # with open(fwd_ngram_evidences_path, mode=\"r\") as f:\n",
    "    #     fwd_ngram_evidences = json.load(f)\n",
    "    #     print(f\"loaded: {fwd_ngram_evidences_path}\")\n",
    "        \n",
    "    # with open(rev_ngram_evidences_path, mode=\"r\") as f:\n",
    "    #     rev_ngram_evidences = json.load(f)\n",
    "    #     print(f\"loaded: {rev_ngram_evidences_path}\")\n",
    "\n",
    "else:\n",
    "    \n",
    "    fwd_ngram_evidences, rev_ngram_evidences = get_ngram_evidences(\n",
    "        evidence_path=DATA_PATH.with_name(\"evidence.json\"),\n",
    "        n_list=[3, 4, 5, 6, 7, 8],\n",
    "        save_path_fwd=fwd_ngram_evidences_path,\n",
    "        save_path_rev=rev_ngram_evidences_path\n",
    "    )\n",
    "    \n",
    "# fwd_ngram_evidences"
   ]
  },
  {
   "attachments": {},
   "cell_type": "markdown",
   "metadata": {},
   "source": [
    "### Get evidence shortlist by claim"
   ]
  },
  {
   "cell_type": "code",
   "execution_count": 49,
   "metadata": {},
   "outputs": [],
   "source": [
    "def get_evidence_shortlist(\n",
    "    claims_paths:List[Path],\n",
    "    related_tags_path:Path,\n",
    "    tagged_evidence_path:Path,\n",
    "    fwd_ngram_evidences_path:Path,\n",
    "    rev_ngram_evidences_path:Path,\n",
    "    ngram_list:list = [3, 4, 5, 6, 7, 8],\n",
    "    save_path:Path = None,\n",
    "    evidence_count_threshold:int=999,\n",
    "    ngram_evidence_count_threshold:int=10,\n",
    "    verb_pos_threshold:int=0,\n",
    "    min_tag_match_threshold:int=2,\n",
    "    min_ngram_match_threshold:int=2,\n",
    "    min_all_match_threshold:int=2,\n",
    "    min_tag_match_ratio:float=0.6,\n",
    "    min_tag_match_offset:int=2,\n",
    "    max_retrieved:int=1000,\n",
    "    stop_tags:list=[],\n",
    "    verbose:bool = True\n",
    "):\n",
    "    # Load the claims file\n",
    "    claims = dict()\n",
    "    for claims_path in claims_paths:\n",
    "        with open(claims_path, mode=\"r\") as f:\n",
    "            claims.update(json.load(f))\n",
    "    \n",
    "    # Load the related tags file\n",
    "    with open(related_tags_path, mode=\"r\") as f:\n",
    "        related_tags = json.load(f)\n",
    "        \n",
    "    # Load the tagged evidences file\n",
    "    with open(tagged_evidence_path, mode=\"r\") as f:\n",
    "        tagged_evidences = json.load(f)\n",
    "    \n",
    "    # Load the evidence ngrams files\n",
    "    with open(fwd_ngram_evidences_path, mode=\"r\") as f:\n",
    "        fwd_ngram_evidences = json.load(f)\n",
    "        print(f\"loaded: {fwd_ngram_evidences_path}\")\n",
    "\n",
    "    with open(rev_ngram_evidences_path, mode=\"r\") as f:\n",
    "        rev_ngram_evidences = json.load(f)\n",
    "        print(f\"loaded: {rev_ngram_evidences_path}\")\n",
    "    \n",
    "    # Cumulator\n",
    "    claim_evidences = defaultdict(set)\n",
    "    missed_retrievals = defaultdict(set)\n",
    "    retrieval_counts = []\n",
    "    retrieval_recalls = []\n",
    "    all_unique_tags = set()\n",
    "    \n",
    "    claim_obj = tqdm(claims.items(), desc=\"claims\", disable=not verbose)\n",
    "    iter_count = 0\n",
    "    for claim_id, claim in claim_obj:\n",
    "        # if iter_count >= 10:\n",
    "        #     break\n",
    "        \n",
    "        # iter_count += 1\n",
    "        \n",
    "        # if claim_id not in [\"claim-1160\"]:\n",
    "        #     continue\n",
    "        \n",
    "        interest_e_ids = [\n",
    "            \"evidence-76391\",\n",
    "            # \"evidence-578305\",\n",
    "        ]\n",
    "        \n",
    "        #! Keywords\n",
    "        claim_keywords_evidences = defaultdict(set)\n",
    "        \n",
    "        #! Link to below\n",
    "        staged_retrievals = set()\n",
    "        \n",
    "        # Get claim direct tags\n",
    "        tags = set()\n",
    "        \n",
    "        claim_text = claim[\"claim_text\"]\n",
    "        claim_tags, claim_doc = info_tag_pipeline(text=claim_text, return_doc=True)\n",
    "        for tag in claim_tags:\n",
    "            tags.add(tag.tag)\n",
    "            all_unique_tags.add(tag.tag) #!\n",
    "        \n",
    "        original_tags = tags.copy() #!\n",
    "\n",
    "        # Keep a count of how many tags each evidence relates to\n",
    "        retrieved_evidence_counts = Counter()\n",
    "        \n",
    "        # Match tags -----------------------------------------------------\n",
    "        \n",
    "        # Keep a count of how many tags each evidence relates to\n",
    "        retrieved_tag_evidence_counts = Counter()\n",
    "        \n",
    "        #! Get tags for which there is a subject relation\n",
    "        # This step is to improve recall\n",
    "        # for c_tag in claim_tags:\n",
    "        #     # Verb position threshold for subject attention\n",
    "        #     if c_tag.verb_pos > verb_pos_threshold:\n",
    "        #         continue\n",
    "        #     subject_tags = set(related_tags.get(c_tag.tag, []))\n",
    "        #     # expanded_tags = tags.intersection(subject_tags)\n",
    "        #     tags.update(subject_tags)\n",
    "        \n",
    "        # Go through all the tags then retrieve evidences\n",
    "        for tag in tags:\n",
    "            \n",
    "            # Stop tags\n",
    "            # if tag in stop_tags:\n",
    "            #     continue\n",
    "            \n",
    "            evidence_ids = list(set(tagged_evidences.get(tag, [])))\n",
    "            n_evidence_ids = len(evidence_ids)\n",
    "            \n",
    "            # Count threshold\n",
    "            # if n_evidence_ids < evidence_count_threshold:\n",
    "                # print(f\"skipping tag {tag} with n={n_evidence_ids}\")\n",
    "                #! claim_evidences[claim_id].update(evidence_ids)\n",
    "            for e_id in evidence_ids:\n",
    "                retrieved_evidence_counts[e_id] += 1\n",
    "                # retrieved_tag_evidence_counts[e_id] += 1\n",
    "                \n",
    "                #! Test to see if we have the pos e_ids in here\n",
    "                #! We do!\n",
    "                # if e_id in interest_e_ids:\n",
    "                #     print(tag, e_id, len(evidence_ids))\n",
    "                \n",
    "                #! Keywords\n",
    "                claim_keywords_evidences[tag].add(e_id)\n",
    "                \n",
    "                #! Immediately stage if direct tag match is less than\n",
    "                #! max_retrieved\n",
    "                # if len(staged_retrievals) < max_retrieved \\\n",
    "                #     and len(evidence_ids) < max_retrieved:\n",
    "                    \n",
    "                #     staged_retrievals.update(evidence_ids)\n",
    "            \n",
    "            continue\n",
    "        \n",
    "            \n",
    "        \n",
    "        # Go through the retrieved evidences and add it to the claim\n",
    "        # if it meets the minimum tag association threshold\n",
    "        # this step is to improve precision\n",
    "        # for e_id, e_count in sorted(\n",
    "        #     retrieved_tag_evidence_counts.items(),\n",
    "        #     key=lambda x: x[1], reverse=True\n",
    "        # ):\n",
    "        #     n_orig_tags = len(original_tags)\n",
    "        #     # count_threshold = floor(min_tag_match_ratio * n_orig_tags) \\\n",
    "        #     #     if n_orig_tags > 3 else 0\n",
    "        #     count_threshold = min_tag_match_threshold\n",
    "        #     # count_threshold = n_orig_tags - min_tag_match_offset\n",
    "        #     if e_count < count_threshold:\n",
    "        #         continue\n",
    "        #     claim_evidences[claim_id].add(e_id)\n",
    "        #     continue\n",
    "        \n",
    "        \n",
    "        # Match ngrams ------------------------------------------------------\n",
    "        \n",
    "        # Keep a count of how many tags each evidence relates to\n",
    "        retrieved_ngram_evidence_counts = Counter()\n",
    "        \n",
    "        # Ensure to match each token once, forwards and reverse, longest first\n",
    "        fwd_ngram_matched_tokens = set()\n",
    "        rev_ngram_matched_tokens = set()\n",
    "        \n",
    "        for token in claim_doc:\n",
    "            token_lemma = token.lemma_\n",
    "            \n",
    "            for n in sorted(ngram_list, reverse=True):\n",
    "                ngram_matched_evidence_ids = set()\n",
    "                \n",
    "                # ngram_evidence_count_cutoff = \\\n",
    "                #     ngram_evidence_count_threshold if n == 6 \\\n",
    "                #     else ngram_evidence_count_threshold * 1 if n == 5 \\\n",
    "                #     else ngram_evidence_count_threshold * 1\n",
    "                \n",
    "                # Match forward\n",
    "                fwd_lemma = token_lemma[:n]\n",
    "                fwd_evidences = fwd_ngram_evidences.get(fwd_lemma, [])\n",
    "                # if len(fwd_evidences) <= ngram_evidence_count_cutoff \\\n",
    "                #     and len(fwd_evidences) > 0 \\\n",
    "                #     and token_lemma not in fwd_ngram_matched_tokens:\n",
    "                ngram_matched_evidence_ids.update(fwd_evidences)\n",
    "                fwd_ngram_matched_tokens.add(token_lemma)\n",
    "                \n",
    "                #! NEW Keyword\n",
    "                claim_keywords_evidences[fwd_lemma].update(fwd_evidences)\n",
    "                    \n",
    "                # Match reverse\n",
    "                rev_lemma = token_lemma[-n:0]\n",
    "                rev_evidences = rev_ngram_evidences.get(rev_lemma, [])\n",
    "                # if len(rev_evidences) <= ngram_evidence_count_cutoff \\\n",
    "                #     and len(rev_evidences) > 0 \\\n",
    "                #     and token_lemma not in rev_ngram_matched_tokens:\n",
    "                ngram_matched_evidence_ids.update(rev_evidences)\n",
    "                rev_ngram_matched_tokens.add(token_lemma)\n",
    "                \n",
    "                #! NEW Keyword\n",
    "                claim_keywords_evidences[rev_lemma].update(rev_evidences)\n",
    "                    \n",
    "                for e_id in ngram_matched_evidence_ids:\n",
    "                    # retrieved_ngram_evidence_counts[e_id] += 1\n",
    "                    retrieved_evidence_counts[e_id] += 1\n",
    "                    \n",
    "\n",
    "        \n",
    "        # Wrapping up ------------------------------------------------------\n",
    "            \n",
    "        # # Dynamically find the cutoff to return the maximum specified\n",
    "        # # number of evidences\n",
    "        # if len(retrieved_evidence_counts.keys()) > 1:\n",
    "        #     retrieved_cut_cutoff = 1\n",
    "        #     staged_retrievals = []\n",
    "        #     searching_cutoff = True\n",
    "        #     while searching_cutoff:\n",
    "        #         current_staged_retrievals = [\n",
    "        #             e_id\n",
    "        #             for e_id, e_count in sorted(\n",
    "        #                 retrieved_evidence_counts.items(),\n",
    "        #                 key=lambda x: x[1], reverse=True\n",
    "        #             )\n",
    "        #             if e_count >= retrieved_cut_cutoff\n",
    "        #         ]\n",
    "                \n",
    "        #         if len(current_staged_retrievals) < 1:\n",
    "        #             searching_cutoff = False\n",
    "                \n",
    "        #         staged_retrievals = current_staged_retrievals\n",
    "                \n",
    "        #         #! Check at each stage whether we still have the pos e_ids\n",
    "        #         # print(retrieved_cut_cutoff, len(staged_retrievals), set(staged_retrievals).intersection(interest_e_ids))\n",
    "                \n",
    "        #         if len(current_staged_retrievals) > max_retrieved:\n",
    "        #             retrieved_cut_cutoff += 1\n",
    "        #             continue\n",
    "            \n",
    "        #         searching_cutoff = False\n",
    "            \n",
    "        #     # Add staged retrievals against the claim_id\n",
    "        #     for e_id in staged_retrievals:\n",
    "        #         claim_evidences[claim_id].add(e_id)\n",
    "                \n",
    "        \n",
    "        #! NEW Keywords intersection algorithm NEW\n",
    "        claim_bigram_keyword_evidences = defaultdict(set)\n",
    "        \n",
    "        for kw, e_id in claim_keywords_evidences.items():\n",
    "            for kw_, e_id_ in claim_keywords_evidences.items():\n",
    "                if (kw, kw_) in claim_bigram_keyword_evidences.keys() \\\n",
    "                    or (kw_, kw) in claim_bigram_keyword_evidences.keys():\n",
    "                        continue\n",
    "                        \n",
    "                e_intersect = set(e_id).intersection(set(e_id_))\n",
    "                \n",
    "                # if len(e_intersect.intersection(set(interest_e_ids))) > 1:\n",
    "                #     print(kw, kw_, e_intersect)\n",
    "                # has_interest = set(interest_e_ids).intersection(e_intersect)\n",
    "                # if len(has_interest) > 0:\n",
    "                #     print(kw, kw_, len(has_interest), len(e_intersect))\n",
    "                if len(e_intersect) > 0 and len(e_intersect) < max_retrieved:\n",
    "                    claim_bigram_keyword_evidences[(kw, kw_)] = e_intersect\n",
    "                    \n",
    "        #! Triplet keywords -- incomplete\n",
    "        # claim_bigram_keyword_evidences = defaultdict(set)\n",
    "        \n",
    "        # for kw, e_id in claim_keywords_evidences.items():\n",
    "        #     for kw_, e_id_ in claim_keywords_evidences.items():\n",
    "        #         for kw__, e_id__ in claim_keywords_evidences.items():\n",
    "        #             if (kw, kw_) in claim_bigram_keyword_evidences \\\n",
    "        #                 or (kw_, kw) in claim_bigram_keyword_evidences:\n",
    "        #                     continue\n",
    "                        \n",
    "        #         e_intersect = set(e_id).intersection(set(e_id_))\n",
    "        #         # has_interest = set(interest_e_ids).intersection(e_intersect)\n",
    "        #         # if len(has_interest) > 0:\n",
    "        #         #     print(kw, kw_, len(has_interest), len(e_intersect))\n",
    "        #         if len(e_intersect) > 0 and len(e_intersect) < max_retrieved:\n",
    "        #             claim_bigram_keyword_evidences[(kw, kw_)] = e_intersect\n",
    "                \n",
    "        # opportunity = sorted(\n",
    "        #     claim_bigram_keyword_evidences.items(),\n",
    "        #     key=lambda x: len(x[1]),\n",
    "        # )\n",
    "        # for kw, e_ids in opportunity:\n",
    "        #     print(kw, len(e_ids))\n",
    "        \n",
    "        # staged_retrievals = set() #! Moved to top\n",
    "        searching_cutoff = True\n",
    "        \n",
    "        for bigram_kw, e_ids in sorted(\n",
    "            claim_bigram_keyword_evidences.items(),\n",
    "            key=lambda x: len(x[1]),\n",
    "        ):\n",
    "            if searching_cutoff == False:\n",
    "                break\n",
    "            \n",
    "            if len(staged_retrievals) < max_retrieved:\n",
    "                staged_retrievals.update(e_ids)\n",
    "            else:\n",
    "                searching_cutoff = True\n",
    "        \n",
    "        # Add staged retrievals against the claim_id\n",
    "        for e_id in staged_retrievals:\n",
    "            claim_evidences[claim_id].add(e_id)\n",
    "\n",
    "        \n",
    "        # Count how many evidences have been retrieved for this claim\n",
    "        n_retrieved = len(claim_evidences[claim_id])\n",
    "        \n",
    "        # if n_retrieved < 1:\n",
    "        #     print(claim_id, n_retrieved)\n",
    "        \n",
    "        # Calculate some statistics\n",
    "        recall = 1\n",
    "        if \"evidences\" in claim.keys():\n",
    "            truth_evidences = set(claim[\"evidences\"])\n",
    "            retrieved_evidences = set(claim_evidences[claim_id])\n",
    "            missed = truth_evidences.difference(retrieved_evidences)\n",
    "            recall = (len(truth_evidences) - len(missed)) / len(truth_evidences)\n",
    "            \n",
    "            if recall < 0.5:\n",
    "                print(claim_id, recall, original_tags)\n",
    "                \n",
    "            missed_retrievals[claim_id].update(missed)\n",
    "        \n",
    "        retrieval_counts.append(n_retrieved)\n",
    "        retrieval_recalls.append(recall)\n",
    "        claim_obj.postfix = f\"n_retrieved: {n_retrieved}, recall: {recall}\"\n",
    "        \n",
    "        continue\n",
    "    \n",
    "    if save_path:\n",
    "        with open(save_path, mode=\"w\") as f:\n",
    "            json.dump(obj=claim_evidences, fp=f, cls=SetEncoder)\n",
    "            print(f\"saved to: {save_path}\")\n",
    "    \n",
    "    return claim_evidences, missed_retrievals, retrieval_counts, retrieval_recalls, all_unique_tags"
   ]
  },
  {
   "cell_type": "code",
   "execution_count": 52,
   "metadata": {},
   "outputs": [
    {
     "name": "stdout",
     "output_type": "stream",
     "text": [
      "loaded: /Users/johnsonzhou/git/comp90042-project/result/pipeline/shortlisting_v3/train_fwd_ngram_evidences.json\n",
      "loaded: /Users/johnsonzhou/git/comp90042-project/result/pipeline/shortlisting_v3/train_rev_ngram_evidences.json\n"
     ]
    },
    {
     "name": "stderr",
     "output_type": "stream",
     "text": [
      "claims:   1%|▏         | 2/154 [00:09<11:57,  4.72s/it, n_retrieved: 758, recall: 0.4]"
     ]
    },
    {
     "name": "stdout",
     "output_type": "stream",
     "text": [
      "claim-375 0.4 {'reductio\\xadn', 'carbon dioxide', 'carbon', 'amount', 'human', 'climate', 'total', 'total emission', 'cent', 'effect', 'prod\\xaduce', 'annual emission', 'annual', 'global', 'global emission', 'australia'}\n"
     ]
    },
    {
     "name": "stderr",
     "output_type": "stream",
     "text": [
      "claims:  11%|█         | 17/154 [01:25<14:46,  6.47s/it, n_retrieved: 757, recall: 0.0]"
     ]
    },
    {
     "name": "stdout",
     "output_type": "stream",
     "text": [
      "claim-161 0.0 {'pressure', 'climate', 'continent', 'change', 'extreme', 'extreme melting', 'ground'}\n"
     ]
    },
    {
     "name": "stderr",
     "output_type": "stream",
     "text": [
      "claims:  16%|█▌        | 24/154 [02:10<09:57,  4.60s/it, n_retrieved: 816, recall: 0.3333333333333333]"
     ]
    },
    {
     "name": "stdout",
     "output_type": "stream",
     "text": [
      "claim-104 0.3333333333333333 {'carbon dioxide', 'carbon', 'atmospheric', 'increase', 'atmospheric dioxide', 'temperature'}\n"
     ]
    },
    {
     "name": "stderr",
     "output_type": "stream",
     "text": [
      "claims:  19%|█▉        | 30/154 [03:05<20:24,  9.88s/it, n_retrieved: 751, recall: 0.0]               "
     ]
    },
    {
     "name": "stdout",
     "output_type": "stream",
     "text": [
      "claim-2662 0.0 {'contention', 'level', 'carbon dioxide', 'carbon', 'earth', 'jr', 'university', 'wolfgang', 'atmosphere', 'wolfgang knorr', 'year', 'ken', 'ken ward', 'department', 'science', 'england', 'bristol'}\n"
     ]
    },
    {
     "name": "stderr",
     "output_type": "stream",
     "text": [
      "claims:  21%|██        | 32/154 [03:18<15:41,  7.72s/it, n_retrieved: 773, recall: 0.3333333333333333]"
     ]
    },
    {
     "name": "stdout",
     "output_type": "stream",
     "text": [
      "claim-2768 0.3333333333333333 {'term', 'albedo', 'term trend', 'long'}\n"
     ]
    },
    {
     "name": "stderr",
     "output_type": "stream",
     "text": [
      "claims:  22%|██▏       | 34/154 [03:24<11:25,  5.71s/it, n_retrieved: 752, recall: 0.2]               "
     ]
    },
    {
     "name": "stdout",
     "output_type": "stream",
     "text": [
      "claim-785 0.2 {'other case', 'many', 'particular', 'many case', 'global', 'particular trend', 'other', 'example', 'global warming', 'hurricane', 'linkage'}\n"
     ]
    },
    {
     "name": "stderr",
     "output_type": "stream",
     "text": [
      "claims:  23%|██▎       | 35/154 [03:25<08:40,  4.38s/it, n_retrieved: 755, recall: 0.0]"
     ]
    },
    {
     "name": "stdout",
     "output_type": "stream",
     "text": [
      "claim-2426 0.0 {'twentieth', 'global warming', 'global', 'twentieth century'}\n"
     ]
    },
    {
     "name": "stderr",
     "output_type": "stream",
     "text": [
      "claims:  27%|██▋       | 42/154 [04:27<15:16,  8.18s/it, n_retrieved: 800, recall: 0.4]"
     ]
    },
    {
     "name": "stdout",
     "output_type": "stream",
     "text": [
      "claim-540 0.4 {'just 1c', 'just', 'heatwave', 'europe'}\n"
     ]
    },
    {
     "name": "stderr",
     "output_type": "stream",
     "text": [
      "claims:  29%|██▊       | 44/154 [04:39<12:39,  6.91s/it, n_retrieved: 750, recall: 0.0] "
     ]
    },
    {
     "name": "stdout",
     "output_type": "stream",
     "text": [
      "claim-1407 0.0 {'weight', 'book', 'canadian researcher', 'award', 'ross mckitrick', 'canadian', 'amount', 'height', 'ross', 'christopher', 'essex', 'temperature', 'storm'}\n"
     ]
    },
    {
     "name": "stderr",
     "output_type": "stream",
     "text": [
      "claims:  29%|██▉       | 45/154 [04:42<10:31,  5.79s/it, n_retrieved: 750, recall: 0.2]"
     ]
    },
    {
     "name": "stdout",
     "output_type": "stream",
     "text": [
      "claim-3070 0.2 {'tough', 'million', 'tough situation', 'family', 'government', 'bad', 'household', 'australia', 'risk', 'industry'}\n"
     ]
    },
    {
     "name": "stderr",
     "output_type": "stream",
     "text": [
      "claims:  31%|███       | 47/154 [04:50<08:22,  4.70s/it, n_retrieved: 750, recall: 0.4]"
     ]
    },
    {
     "name": "stdout",
     "output_type": "stream",
     "text": [
      "claim-1515 0.4 {'temperature record', 'global', 'one', 'global record', 'last', 'last year', 'temperature'}\n"
     ]
    },
    {
     "name": "stderr",
     "output_type": "stream",
     "text": [
      "claims:  35%|███▌      | 54/154 [05:57<12:18,  7.38s/it, n_retrieved: 778, recall: 0.3333333333333333]"
     ]
    },
    {
     "name": "stdout",
     "output_type": "stream",
     "text": [
      "claim-2611 0.3333333333333333 {'final', 'atmosphere', 'carbon dioxide', 'carbon', 'final amount', 'extra dioxide', 'century', 'extra', 'time', 'time scale'}\n"
     ]
    },
    {
     "name": "stderr",
     "output_type": "stream",
     "text": [
      "claims:  37%|███▋      | 57/154 [06:16<11:28,  7.09s/it, n_retrieved: 751, recall: 0.4]               "
     ]
    },
    {
     "name": "stdout",
     "output_type": "stream",
     "text": [
      "claim-1087 0.4 {'record temperature', 'way', 'overpeck', 'cold', 'particular', 'stratosphere', 'record', 'last', 'particular signature', 'last year', 'warming', 'cold temperature'}\n"
     ]
    },
    {
     "name": "stderr",
     "output_type": "stream",
     "text": [
      "claims:  38%|███▊      | 59/154 [06:28<10:21,  6.54s/it, n_retrieved: 791, recall: 0.2]"
     ]
    },
    {
     "name": "stdout",
     "output_type": "stream",
     "text": [
      "claim-2300 0.2 {'early', 'history', 'austria', 'mountain', 'early snowfall', 'centimetre', 'today'}\n"
     ]
    },
    {
     "name": "stderr",
     "output_type": "stream",
     "text": [
      "claims:  40%|████      | 62/154 [07:15<19:14, 12.55s/it, n_retrieved: 751, recall: 0.0]               "
     ]
    },
    {
     "name": "stdout",
     "output_type": "stream",
     "text": [
      "claim-3051 0.0 {'termperature', 'human contribution', 'el nino', 'termperature record', 'significant change', 'human', 'climate', 'significant', 'la nina', 'natural', 'el', 'la', 'recent', 'impact', 'evidence', 'climate change', 'natural influence', 'recent record'}\n"
     ]
    },
    {
     "name": "stderr",
     "output_type": "stream",
     "text": [
      "claims:  43%|████▎     | 66/154 [07:37<11:20,  7.74s/it, n_retrieved: 781, recall: 0.3333333333333333]"
     ]
    },
    {
     "name": "stdout",
     "output_type": "stream",
     "text": [
      "claim-2579 0.3333333333333333 {'past year', 'human', 'atmosphere', 'carbon dioxide', 'carbon', 'past', 'part'}\n"
     ]
    },
    {
     "name": "stderr",
     "output_type": "stream",
     "text": [
      "claims:  45%|████▌     | 70/154 [08:11<10:22,  7.42s/it, n_retrieved: 766, recall: 0.2]               "
     ]
    },
    {
     "name": "stdout",
     "output_type": "stream",
     "text": [
      "claim-1896 0.2 {'cent', 'greg research', 'nature', 'carbon', 'tree', 'carbon emission', 'year', 'csiro research', 'greg', 'nature soil', 'csiro', 'hunt', 'hunt research'}\n"
     ]
    },
    {
     "name": "stderr",
     "output_type": "stream",
     "text": [
      "claims:  51%|█████     | 78/154 [08:59<07:19,  5.78s/it, n_retrieved: 772, recall: 0.0]"
     ]
    },
    {
     "name": "stdout",
     "output_type": "stream",
     "text": [
      "claim-342 0.0 {'weather extreme', 'change', 'medium', 'such claim', 'member', 'different story', 'such', 'weather', 'evidence', 'different'}\n"
     ]
    },
    {
     "name": "stderr",
     "output_type": "stream",
     "text": [
      "claims:  52%|█████▏    | 80/154 [09:11<07:34,  6.15s/it, n_retrieved: 752, recall: 0.0]"
     ]
    },
    {
     "name": "stdout",
     "output_type": "stream",
     "text": [
      "claim-578 0.0 {'grown', 'young son', 'grown man', 'extreme heat', 'greenhouse', 'past summer', 'norm', 'young', 'extreme', 'past', 'emission', 'greenhouse gas', 'kind'}\n"
     ]
    },
    {
     "name": "stderr",
     "output_type": "stream",
     "text": [
      "claims:  57%|█████▋    | 88/154 [10:26<10:41,  9.72s/it, n_retrieved: 768, recall: 0.4]"
     ]
    },
    {
     "name": "stdout",
     "output_type": "stream",
     "text": [
      "claim-2577 0.4 {'recent article', 'alarmist', 'coral reef', 'recent', 'world climate report', 'greenhouse', 'world', 'reason', 'buildup', 'greenhouse gas', 'coral', 'deep trouble', 'deep'}\n"
     ]
    },
    {
     "name": "stderr",
     "output_type": "stream",
     "text": [
      "claims:  62%|██████▏   | 95/154 [11:09<05:15,  5.35s/it, n_retrieved: 750, recall: 0.0]"
     ]
    },
    {
     "name": "stdout",
     "output_type": "stream",
     "text": [
      "claim-1689 0.0 {'net feedback', 'evidence', 'cloud', 'net', 'cloud feedback'}\n"
     ]
    },
    {
     "name": "stderr",
     "output_type": "stream",
     "text": [
      "claims:  62%|██████▏   | 96/154 [11:19<06:25,  6.64s/it, n_retrieved: 770, recall: 0.0]"
     ]
    },
    {
     "name": "stdout",
     "output_type": "stream",
     "text": [
      "claim-443 0.0 {'overall picture', 'level', 'carbon dioxide', 'carbon', 'atmosphere', 'small part', 'overall', 'climate', 'climate scientist', 'today', 'small'}\n"
     ]
    },
    {
     "name": "stderr",
     "output_type": "stream",
     "text": [
      "claims:  67%|██████▋   | 103/154 [12:01<05:16,  6.21s/it, n_retrieved: 764, recall: 0.0]"
     ]
    },
    {
     "name": "stdout",
     "output_type": "stream",
     "text": [
      "claim-38 0.0 {'next', 'rise', 'sea', 'antarctica ice', 'antarctica', 'sea ice', 'next age', 'accumulation', 'scientist'}\n"
     ]
    },
    {
     "name": "stderr",
     "output_type": "stream",
     "text": [
      "claims:  68%|██████▊   | 104/154 [12:03<04:06,  4.93s/it, n_retrieved: 829, recall: 0.25]"
     ]
    },
    {
     "name": "stdout",
     "output_type": "stream",
     "text": [
      "claim-1643 0.25 {'book', 'al gore', 'al', 'contrarian', 'contrarian book'}\n"
     ]
    },
    {
     "name": "stderr",
     "output_type": "stream",
     "text": [
      "claims:  69%|██████▉   | 106/154 [12:19<04:31,  5.66s/it, n_retrieved: 758, recall: 0.25]"
     ]
    },
    {
     "name": "stdout",
     "output_type": "stream",
     "text": [
      "claim-1605 0.25 {'claim', 'sea', 'sea level', 'scientist'}\n"
     ]
    },
    {
     "name": "stderr",
     "output_type": "stream",
     "text": [
      "claims:  71%|███████▏  | 110/154 [12:54<06:05,  8.31s/it, n_retrieved: 769, recall: 0.0] "
     ]
    },
    {
     "name": "stdout",
     "output_type": "stream",
     "text": [
      "claim-392 0.0 {'global', 'study', 'manmade', 'whole', 'whole concept', 'global warming'}\n"
     ]
    },
    {
     "name": "stderr",
     "output_type": "stream",
     "text": [
      "claims:  73%|███████▎  | 113/154 [13:12<04:39,  6.82s/it, n_retrieved: 755, recall: 0.2] "
     ]
    },
    {
     "name": "stdout",
     "output_type": "stream",
     "text": [
      "claim-2583 0.2 {'impact', 'less', 'atmosphere', 'carbon dioxide', 'carbon', 'warming', 'unit'}\n"
     ]
    },
    {
     "name": "stderr",
     "output_type": "stream",
     "text": [
      "claims:  75%|███████▍  | 115/154 [13:26<04:29,  6.92s/it, n_retrieved: 761, recall: 0.2]"
     ]
    },
    {
     "name": "stdout",
     "output_type": "stream",
     "text": [
      "claim-492 0.2 {'natural', 'most', 'real effect', 'most claim', 'natural pattern', 'weather', 'global', 'real', 'weather pattern', 'global warming'}\n"
     ]
    },
    {
     "name": "stderr",
     "output_type": "stream",
     "text": [
      "claims:  75%|███████▌  | 116/154 [13:36<04:57,  7.83s/it, n_retrieved: 775, recall: 0.0]"
     ]
    },
    {
     "name": "stdout",
     "output_type": "stream",
     "text": [
      "claim-1420 0.0 {'warmth', 'atmosphere', 'ray', 'sun', 'earth', 'space', 'gas'}\n"
     ]
    },
    {
     "name": "stderr",
     "output_type": "stream",
     "text": [
      "claims:  76%|███████▌  | 117/154 [14:07<09:09, 14.86s/it, n_retrieved: 751, recall: 0.25]"
     ]
    },
    {
     "name": "stdout",
     "output_type": "stream",
     "text": [
      "claim-1089 0.25 {'monthly', 'sea ice', 'coral', 'bleaching', 'monthly low', 'coast', 'arctic', 'bad', 'january', 'record low', 'sea', 'large', 'barrier reef', 'regular low', 'warmth', 'death', 'tropical', 'record', 'regular', 'last', 'bleaching event', 'planet', 'last year', 'overall temperature', 'northeastern', 'ocean water', 'bad event', 'ocean', 'great reef', 'barrier', 'overall', 'large scale', 'september', 'northeastern australia', 'great', 'warm'}\n"
     ]
    },
    {
     "name": "stderr",
     "output_type": "stream",
     "text": [
      "claims:  77%|███████▋  | 118/154 [14:15<07:40, 12.79s/it, n_retrieved: 754, recall: 0.4] "
     ]
    },
    {
     "name": "stdout",
     "output_type": "stream",
     "text": [
      "claim-1467 0.4 {'upper', 'carbon dioxide', 'carbon', 'ocean', 'upper layer', 'amount', 'year', 'ton'}\n"
     ]
    },
    {
     "name": "stderr",
     "output_type": "stream",
     "text": [
      "claims:  79%|███████▊  | 121/154 [14:29<04:13,  7.67s/it, n_retrieved: 1209, recall: 1.0]"
     ]
    },
    {
     "name": "stdout",
     "output_type": "stream",
     "text": [
      "claim-803 0.25 {'intergovernmental', 'change', 'hiatus', 'temperature', 'ipcc', 'temperature increase', 'change model', '21st', 'climate', 'team', 'beginning', '21st century', 'ipcc model', 'climate scientist', 'intergovernmental panel'}\n"
     ]
    },
    {
     "name": "stderr",
     "output_type": "stream",
     "text": [
      "claims:  80%|███████▉  | 123/154 [14:44<04:09,  8.04s/it, n_retrieved: 752, recall: 0.0] "
     ]
    },
    {
     "name": "stdout",
     "output_type": "stream",
     "text": [
      "claim-846 0.0 {'gas', 'much', 'atmosphere', 'warming power', 'arctic', 'form', 'other', 'arctic permafrost', 'time', 'planet', 'warming', 'date', 'much carbon', 'other word'}\n"
     ]
    },
    {
     "name": "stderr",
     "output_type": "stream",
     "text": [
      "claims:  84%|████████▍ | 129/154 [15:00<01:09,  2.78s/it, n_retrieved: 873, recall: 0.4]"
     ]
    },
    {
     "name": "stdout",
     "output_type": "stream",
     "text": [
      "claim-181 0.4 {'basic food', 'basic', 'carbon dioxide', 'carbon', 'reef'}\n"
     ]
    },
    {
     "name": "stderr",
     "output_type": "stream",
     "text": [
      "claims:  84%|████████▍ | 130/154 [15:09<01:48,  4.52s/it, n_retrieved: 760, recall: 0.0]"
     ]
    },
    {
     "name": "stdout",
     "output_type": "stream",
     "text": [
      "claim-281 0.0 {'dr', 'bbc', 'scandal', 'global', 'dr jones', 'significant', 'significant warming', 'interview', 'global warming'}\n"
     ]
    },
    {
     "name": "stderr",
     "output_type": "stream",
     "text": [
      "claims:  85%|████████▌ | 131/154 [15:22<02:42,  7.07s/it, n_retrieved: 756, recall: 0.0]"
     ]
    },
    {
     "name": "stdout",
     "output_type": "stream",
     "text": [
      "claim-2809 0.0 {'massive', 'motion', 'heat', 'massive ocean', 'surface', 'century', 'year', 'deep layer', 'time', 'variability', 'time scale', 'deep'}\n"
     ]
    },
    {
     "name": "stderr",
     "output_type": "stream",
     "text": [
      "claims:  88%|████████▊ | 135/154 [15:36<01:28,  4.64s/it, n_retrieved: 760, recall: 0.2]"
     ]
    },
    {
     "name": "stdout",
     "output_type": "stream",
     "text": [
      "claim-988 0.2 {'unlikely', 'unlikely scenario', 'probable', 'say', 'sweet'}\n"
     ]
    },
    {
     "name": "stderr",
     "output_type": "stream",
     "text": [
      "claims:  89%|████████▉ | 137/154 [15:46<01:19,  4.67s/it, n_retrieved: 751, recall: 0.0]"
     ]
    },
    {
     "name": "stdout",
     "output_type": "stream",
     "text": [
      "claim-2282 0.0 {'overwhelming trend', 'overwhelming', 'retreat', 'isolated case', 'glacier', 'isolated'}\n"
     ]
    },
    {
     "name": "stderr",
     "output_type": "stream",
     "text": [
      "claims:  92%|█████████▏| 142/154 [16:07<00:44,  3.72s/it, n_retrieved: 686, recall: 0.4]"
     ]
    },
    {
     "name": "stdout",
     "output_type": "stream",
     "text": [
      "claim-897 0.0 {'world', 'united states', 'pollutionfree', 'report', 'pollutionfree nation', 'united'}\n",
      "claim-3063 0.4 {'global', 'warming', 'warming myth'}\n"
     ]
    },
    {
     "name": "stderr",
     "output_type": "stream",
     "text": [
      "claims:  98%|█████████▊| 151/154 [17:29<00:18,  6.07s/it, n_retrieved: 756, recall: 0.4]               "
     ]
    },
    {
     "name": "stdout",
     "output_type": "stream",
     "text": [
      "claim-204 0.4 {'natural', 'atmospheric content', 'carbon dioxide', 'carbon', 'atmospheric', 'natural content', 'year'}\n"
     ]
    },
    {
     "name": "stderr",
     "output_type": "stream",
     "text": [
      "claims:  99%|█████████▊| 152/154 [17:33<00:10,  5.47s/it, n_retrieved: 796, recall: 0.4]"
     ]
    },
    {
     "name": "stdout",
     "output_type": "stream",
     "text": [
      "claim-1426 0.4 {'world', 'coral', 'constant decline', 'coral reef', 'constant', 'state'}\n"
     ]
    },
    {
     "name": "stderr",
     "output_type": "stream",
     "text": [
      "claims:  99%|█████████▉| 153/154 [17:48<00:08,  8.40s/it, n_retrieved: 755, recall: 0.0]"
     ]
    },
    {
     "name": "stdout",
     "output_type": "stream",
     "text": [
      "claim-698 0.0 {'hot', 'overestimation', 'systematic', 'ben santer', 'external', 'national laboratory climate scientist santer', 'national', 'model simulation', 'model', 'lawrence livermore scientist santer', 'post', 'systematic deficiency', 'recent', 'lawrence', 'ben', 'recent study', 'external forcing'}\n"
     ]
    },
    {
     "name": "stderr",
     "output_type": "stream",
     "text": [
      "claims: 100%|██████████| 154/154 [17:57<00:00,  7.00s/it, n_retrieved: 752, recall: 1.0]\n"
     ]
    },
    {
     "name": "stdout",
     "output_type": "stream",
     "text": [
      "saved to: /Users/johnsonzhou/git/comp90042-project/result/pipeline/shortlisting_v3/dev_retrieved_evidences_max_750_set_intersect_no_rel.json\n"
     ]
    }
   ],
   "source": [
    "max_retrieval = 750\n",
    "retrieved_evidences_path = SAVE_PATH.with_name(f\"dev_retrieved_evidences_max_{max_retrieval}_set_intersect_no_rel.json\")\n",
    "\n",
    "if retrieved_evidences_path.exists():\n",
    "    \n",
    "    with open(retrieved_evidences_path, mode=\"r\") as f:\n",
    "        retrieved_evidences = json.load(f)\n",
    "        print(f\"loaded: {retrieved_evidences_path}\")\n",
    "        \n",
    "else:\n",
    "    \n",
    "    retrieved_evidences, missed_retrievals, retrievals_counts, retrieval_recalls, all_unique_tags = \\\n",
    "    get_evidence_shortlist(\n",
    "        # claims_paths=[DATA_PATH.with_name(\"train-claims.json\")],\n",
    "        claims_paths=[DATA_PATH.with_name(\"dev-claims.json\")],\n",
    "        # claims_paths=[DATA_PATH.with_name(\"train-claims.json\"), DATA_PATH.with_name(\"dev-claims.json\")],\n",
    "        related_tags_path=relation_save_path,\n",
    "        tagged_evidence_path=tagged_evidences_path,\n",
    "        fwd_ngram_evidences_path=fwd_ngram_evidences_path,\n",
    "        rev_ngram_evidences_path=rev_ngram_evidences_path,\n",
    "        ngram_list=[4, 5, 6, 7, 8],\n",
    "        min_ngram_match_threshold=1,\n",
    "        ngram_evidence_count_threshold=1000000,\n",
    "        # tagged_evidence_path=Path(\"./result/ner/evidence_by_noun.json\"),\n",
    "        save_path=retrieved_evidences_path,\n",
    "        evidence_count_threshold=1000000,\n",
    "        verb_pos_threshold=0,\n",
    "        min_tag_match_threshold=1,\n",
    "        min_all_match_threshold=4,\n",
    "        max_retrieved=max_retrieval,\n",
    "        stop_tags=[]\n",
    "    )\n",
    "# retrieved_evidences"
   ]
  },
  {
   "cell_type": "code",
   "execution_count": 53,
   "metadata": {},
   "outputs": [
    {
     "name": "stdout",
     "output_type": "stream",
     "text": [
      "avg recall: 0.6691558441558442\n",
      "min recall: 0.0\n",
      "avg retrieved: 775.077922077922\n",
      "max retrieved: 1209\n"
     ]
    }
   ],
   "source": [
    "print(f\"avg recall: {np.mean(retrieval_recalls)}\")\n",
    "print(f\"min recall: {np.min(retrieval_recalls)}\")\n",
    "print(f\"avg retrieved: {np.mean(retrievals_counts)}\")\n",
    "print(f\"max retrieved: {np.max(retrievals_counts)}\")"
   ]
  },
  {
   "cell_type": "code",
   "execution_count": 72,
   "metadata": {},
   "outputs": [],
   "source": [
    "# len(all_unique_tags)"
   ]
  },
  {
   "cell_type": "code",
   "execution_count": 73,
   "metadata": {},
   "outputs": [],
   "source": [
    "# len(fwd_ngram_evidences[\"elect\"])"
   ]
  },
  {
   "cell_type": "code",
   "execution_count": 74,
   "metadata": {},
   "outputs": [],
   "source": [
    "# len(tagged_evidences[\"south australia\"])"
   ]
  },
  {
   "cell_type": "code",
   "execution_count": 75,
   "metadata": {},
   "outputs": [],
   "source": [
    "# len(tagged_evidences.keys())"
   ]
  },
  {
   "cell_type": "code",
   "execution_count": 76,
   "metadata": {},
   "outputs": [],
   "source": [
    "# [(tag, len(e)) for tag, e in sorted(tagged_evidences.items(), key=lambda x: len(x[1]), reverse=True)]"
   ]
  }
 ],
 "metadata": {
  "kernelspec": {
   "display_name": "comp90042_project",
   "language": "python",
   "name": "python3"
  },
  "language_info": {
   "codemirror_mode": {
    "name": "ipython",
    "version": 3
   },
   "file_extension": ".py",
   "mimetype": "text/x-python",
   "name": "python",
   "nbconvert_exporter": "python",
   "pygments_lexer": "ipython3",
   "version": "3.8.16"
  },
  "orig_nbformat": 4
 },
 "nbformat": 4,
 "nbformat_minor": 2
}
