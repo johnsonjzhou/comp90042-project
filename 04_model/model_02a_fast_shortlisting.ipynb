{
 "cells": [
  {
   "attachments": {},
   "cell_type": "markdown",
   "metadata": {},
   "source": [
    "# Model 02: Fast evidence shortlisting by information extraction"
   ]
  },
  {
   "attachments": {},
   "cell_type": "markdown",
   "metadata": {},
   "source": [
    "- [Universal dependencies scheme](https://universaldependencies.org/u/pos/)"
   ]
  },
  {
   "cell_type": "code",
   "execution_count": 1,
   "metadata": {},
   "outputs": [],
   "source": [
    "# Change the working directory to project root\n",
    "from pathlib import Path\n",
    "import os\n",
    "ROOT_DIR = Path.cwd()\n",
    "while not ROOT_DIR.joinpath(\"src\").exists():\n",
    "    ROOT_DIR = ROOT_DIR.parent\n",
    "os.chdir(ROOT_DIR)"
   ]
  },
  {
   "cell_type": "code",
   "execution_count": 2,
   "metadata": {},
   "outputs": [],
   "source": [
    "# Dependencies\n",
    "import json\n",
    "from sklearn.model_selection import ParameterGrid\n",
    "import numpy as np\n",
    "import pandas as pd\n",
    "import matplotlib.pyplot as plt\n",
    "from collections import defaultdict, Counter\n",
    "from typing import List, Dict, DefaultDict\n",
    "from dataclasses import dataclass\n",
    "from tqdm import tqdm\n",
    "from multiprocessing.pool import ThreadPool as Pool\n",
    "from math import floor\n",
    "\n",
    "from src.data import load_as_dataframe, slice_by_claim, SetEncoder\n",
    "from src.normalize import normalize_pipeline\n",
    "from src.ner import \\\n",
    "    train_noun_relations, \\\n",
    "    get_evidence_by_noun, \\\n",
    "    retrieve_claim_evidence_by_noun, \\\n",
    "    view_claim_noun_phrases"
   ]
  },
  {
   "cell_type": "code",
   "execution_count": 3,
   "metadata": {},
   "outputs": [
    {
     "name": "stderr",
     "output_type": "stream",
     "text": [
      "/opt/homebrew/Caskroom/miniconda/base/envs/comp90042_project/lib/python3.8/site-packages/tqdm/auto.py:21: TqdmWarning: IProgress not found. Please update jupyter and ipywidgets. See https://ipywidgets.readthedocs.io/en/stable/user_install.html\n",
      "  from .autonotebook import tqdm as notebook_tqdm\n"
     ]
    },
    {
     "data": {
      "text/plain": [
       "['tok2vec', 'tagger', 'parser', 'attribute_ruler', 'lemmatizer', 'ner']"
      ]
     },
     "execution_count": 3,
     "metadata": {},
     "output_type": "execute_result"
    }
   ],
   "source": [
    "import spacy\n",
    "from spacy import displacy\n",
    "nlp = spacy.load(\"en_core_web_sm\")\n",
    "nlp.pipe_names"
   ]
  },
  {
   "cell_type": "code",
   "execution_count": 4,
   "metadata": {},
   "outputs": [],
   "source": [
    "test = nlp(\"there\")"
   ]
  },
  {
   "cell_type": "code",
   "execution_count": 5,
   "metadata": {},
   "outputs": [
    {
     "name": "stdout",
     "output_type": "stream",
     "text": [
      "ADV\n"
     ]
    }
   ],
   "source": [
    "for t in test:\n",
    "    print(t.pos_)"
   ]
  },
  {
   "attachments": {},
   "cell_type": "markdown",
   "metadata": {},
   "source": [
    "# Load datasets"
   ]
  },
  {
   "cell_type": "code",
   "execution_count": 6,
   "metadata": {},
   "outputs": [
    {
     "name": "stdout",
     "output_type": "stream",
     "text": [
      "Loaded train-claims\n",
      "Loaded dev-claims\n",
      "Loaded evidence\n"
     ]
    }
   ],
   "source": [
    "data_names = [\"train-claims\", \"dev-claims\", \"evidence\"]\n",
    "train_claims, dev_claims, all_evidences \\\n",
    "    = load_as_dataframe(data_names, full_evidence=True)"
   ]
  },
  {
   "attachments": {},
   "cell_type": "markdown",
   "metadata": {},
   "source": [
    "## Visualise dependencies"
   ]
  },
  {
   "cell_type": "code",
   "execution_count": 7,
   "metadata": {},
   "outputs": [
    {
     "data": {
      "text/html": [
       "<div>\n",
       "<style scoped>\n",
       "    .dataframe tbody tr th:only-of-type {\n",
       "        vertical-align: middle;\n",
       "    }\n",
       "\n",
       "    .dataframe tbody tr th {\n",
       "        vertical-align: top;\n",
       "    }\n",
       "\n",
       "    .dataframe thead th {\n",
       "        text-align: right;\n",
       "    }\n",
       "</style>\n",
       "<table border=\"1\" class=\"dataframe\">\n",
       "  <thead>\n",
       "    <tr style=\"text-align: right;\">\n",
       "      <th></th>\n",
       "      <th>claim_text</th>\n",
       "      <th>claim_label</th>\n",
       "      <th>evidences</th>\n",
       "      <th>evidence_text</th>\n",
       "    </tr>\n",
       "  </thead>\n",
       "  <tbody>\n",
       "    <tr>\n",
       "      <th>0</th>\n",
       "      <td>Greg Hunt CSIRO research shows carbon emission...</td>\n",
       "      <td>NOT_ENOUGH_INFO</td>\n",
       "      <td>evidence-798121</td>\n",
       "      <td>To further reduce U.S. carbon dioxide emission...</td>\n",
       "    </tr>\n",
       "    <tr>\n",
       "      <th>1</th>\n",
       "      <td>Greg Hunt CSIRO research shows carbon emission...</td>\n",
       "      <td>NOT_ENOUGH_INFO</td>\n",
       "      <td>evidence-305800</td>\n",
       "      <td>Almost 20 percent (8 GtCO2/year) of total gree...</td>\n",
       "    </tr>\n",
       "    <tr>\n",
       "      <th>2</th>\n",
       "      <td>Greg Hunt CSIRO research shows carbon emission...</td>\n",
       "      <td>NOT_ENOUGH_INFO</td>\n",
       "      <td>evidence-108068</td>\n",
       "      <td>It is estimated that increasing the carbon con...</td>\n",
       "    </tr>\n",
       "    <tr>\n",
       "      <th>3</th>\n",
       "      <td>Greg Hunt CSIRO research shows carbon emission...</td>\n",
       "      <td>NOT_ENOUGH_INFO</td>\n",
       "      <td>evidence-234076</td>\n",
       "      <td>There is a large potential for future reductio...</td>\n",
       "    </tr>\n",
       "    <tr>\n",
       "      <th>4</th>\n",
       "      <td>Greg Hunt CSIRO research shows carbon emission...</td>\n",
       "      <td>NOT_ENOUGH_INFO</td>\n",
       "      <td>evidence-1111240</td>\n",
       "      <td>\"Ireland to Plant 440 Million Trees in 20 Year...</td>\n",
       "    </tr>\n",
       "  </tbody>\n",
       "</table>\n",
       "</div>"
      ],
      "text/plain": [
       "                                          claim_text      claim_label   \n",
       "0  Greg Hunt CSIRO research shows carbon emission...  NOT_ENOUGH_INFO  \\\n",
       "1  Greg Hunt CSIRO research shows carbon emission...  NOT_ENOUGH_INFO   \n",
       "2  Greg Hunt CSIRO research shows carbon emission...  NOT_ENOUGH_INFO   \n",
       "3  Greg Hunt CSIRO research shows carbon emission...  NOT_ENOUGH_INFO   \n",
       "4  Greg Hunt CSIRO research shows carbon emission...  NOT_ENOUGH_INFO   \n",
       "\n",
       "          evidences                                      evidence_text  \n",
       "0   evidence-798121  To further reduce U.S. carbon dioxide emission...  \n",
       "1   evidence-305800  Almost 20 percent (8 GtCO2/year) of total gree...  \n",
       "2   evidence-108068  It is estimated that increasing the carbon con...  \n",
       "3   evidence-234076  There is a large potential for future reductio...  \n",
       "4  evidence-1111240  \"Ireland to Plant 440 Million Trees in 20 Year...  "
      ]
     },
     "execution_count": 7,
     "metadata": {},
     "output_type": "execute_result"
    }
   ],
   "source": [
    "pairs = dev_claims.loc[\"claim-1896\"].reset_index()\n",
    "pair_index = 0\n",
    "# pairs = train_claims.loc[\"claim-126\"].reset_index()\n",
    "# pair_index = 1\n",
    "# pairs = train_claims.loc[\"claim-1937\"].reset_index()\n",
    "# pair_index = 2\n",
    "# pairs = train_claims.loc[\"claim-2510\"].reset_index()\n",
    "# pair_index = 0\n",
    "# pairs = dev_claims.loc[\"claim-2062\"].reset_index()\n",
    "# pair_index = 0\n",
    "# pairs = dev_claims.loc[\"claim-139\"].reset_index()\n",
    "# pair_index = 0\n",
    "# pairs = dev_claims.loc[\"claim-752\"].reset_index()\n",
    "# pair_index = 0\n",
    "# pairs = dev_claims.loc[\"claim-506\"].reset_index()\n",
    "# pair_index = 4\n",
    "# pairs = dev_claims.loc[\"claim-1975\"].reset_index()\n",
    "# pair_index = 0\n",
    "pairs"
   ]
  },
  {
   "cell_type": "code",
   "execution_count": 8,
   "metadata": {},
   "outputs": [
    {
     "data": {
      "text/html": [
       "<span class=\"tex2jax_ignore\"><svg xmlns=\"http://www.w3.org/2000/svg\" xmlns:xlink=\"http://www.w3.org/1999/xlink\" xml:lang=\"en\" id=\"9bcf3a12e5064381b60b89df3b0c75c5-0\" class=\"displacy\" width=\"3900\" height=\"574.5\" direction=\"ltr\" style=\"max-width: none; height: 574.5px; color: #000000; background: #ffffff; font-family: Arial; direction: ltr\">\n",
       "<text class=\"displacy-token\" fill=\"currentColor\" text-anchor=\"middle\" y=\"484.5\">\n",
       "    <tspan class=\"displacy-word\" fill=\"currentColor\" x=\"50\">greg</tspan>\n",
       "    <tspan class=\"displacy-tag\" dy=\"2em\" fill=\"currentColor\" x=\"50\">PROPN</tspan>\n",
       "</text>\n",
       "\n",
       "<text class=\"displacy-token\" fill=\"currentColor\" text-anchor=\"middle\" y=\"484.5\">\n",
       "    <tspan class=\"displacy-word\" fill=\"currentColor\" x=\"225\">hunt</tspan>\n",
       "    <tspan class=\"displacy-tag\" dy=\"2em\" fill=\"currentColor\" x=\"225\">PROPN</tspan>\n",
       "</text>\n",
       "\n",
       "<text class=\"displacy-token\" fill=\"currentColor\" text-anchor=\"middle\" y=\"484.5\">\n",
       "    <tspan class=\"displacy-word\" fill=\"currentColor\" x=\"400\">csiro</tspan>\n",
       "    <tspan class=\"displacy-tag\" dy=\"2em\" fill=\"currentColor\" x=\"400\">PROPN</tspan>\n",
       "</text>\n",
       "\n",
       "<text class=\"displacy-token\" fill=\"currentColor\" text-anchor=\"middle\" y=\"484.5\">\n",
       "    <tspan class=\"displacy-word\" fill=\"currentColor\" x=\"575\">research</tspan>\n",
       "    <tspan class=\"displacy-tag\" dy=\"2em\" fill=\"currentColor\" x=\"575\">NOUN</tspan>\n",
       "</text>\n",
       "\n",
       "<text class=\"displacy-token\" fill=\"currentColor\" text-anchor=\"middle\" y=\"484.5\">\n",
       "    <tspan class=\"displacy-word\" fill=\"currentColor\" x=\"750\">shows</tspan>\n",
       "    <tspan class=\"displacy-tag\" dy=\"2em\" fill=\"currentColor\" x=\"750\">VERB</tspan>\n",
       "</text>\n",
       "\n",
       "<text class=\"displacy-token\" fill=\"currentColor\" text-anchor=\"middle\" y=\"484.5\">\n",
       "    <tspan class=\"displacy-word\" fill=\"currentColor\" x=\"925\">carbon</tspan>\n",
       "    <tspan class=\"displacy-tag\" dy=\"2em\" fill=\"currentColor\" x=\"925\">NOUN</tspan>\n",
       "</text>\n",
       "\n",
       "<text class=\"displacy-token\" fill=\"currentColor\" text-anchor=\"middle\" y=\"484.5\">\n",
       "    <tspan class=\"displacy-word\" fill=\"currentColor\" x=\"1100\">emissions</tspan>\n",
       "    <tspan class=\"displacy-tag\" dy=\"2em\" fill=\"currentColor\" x=\"1100\">NOUN</tspan>\n",
       "</text>\n",
       "\n",
       "<text class=\"displacy-token\" fill=\"currentColor\" text-anchor=\"middle\" y=\"484.5\">\n",
       "    <tspan class=\"displacy-word\" fill=\"currentColor\" x=\"1275\">can</tspan>\n",
       "    <tspan class=\"displacy-tag\" dy=\"2em\" fill=\"currentColor\" x=\"1275\">AUX</tspan>\n",
       "</text>\n",
       "\n",
       "<text class=\"displacy-token\" fill=\"currentColor\" text-anchor=\"middle\" y=\"484.5\">\n",
       "    <tspan class=\"displacy-word\" fill=\"currentColor\" x=\"1450\">be</tspan>\n",
       "    <tspan class=\"displacy-tag\" dy=\"2em\" fill=\"currentColor\" x=\"1450\">AUX</tspan>\n",
       "</text>\n",
       "\n",
       "<text class=\"displacy-token\" fill=\"currentColor\" text-anchor=\"middle\" y=\"484.5\">\n",
       "    <tspan class=\"displacy-word\" fill=\"currentColor\" x=\"1625\">reduced</tspan>\n",
       "    <tspan class=\"displacy-tag\" dy=\"2em\" fill=\"currentColor\" x=\"1625\">VERB</tspan>\n",
       "</text>\n",
       "\n",
       "<text class=\"displacy-token\" fill=\"currentColor\" text-anchor=\"middle\" y=\"484.5\">\n",
       "    <tspan class=\"displacy-word\" fill=\"currentColor\" x=\"1800\">by</tspan>\n",
       "    <tspan class=\"displacy-tag\" dy=\"2em\" fill=\"currentColor\" x=\"1800\">ADP</tspan>\n",
       "</text>\n",
       "\n",
       "<text class=\"displacy-token\" fill=\"currentColor\" text-anchor=\"middle\" y=\"484.5\">\n",
       "    <tspan class=\"displacy-word\" fill=\"currentColor\" x=\"1975\">20</tspan>\n",
       "    <tspan class=\"displacy-tag\" dy=\"2em\" fill=\"currentColor\" x=\"1975\">NUM</tspan>\n",
       "</text>\n",
       "\n",
       "<text class=\"displacy-token\" fill=\"currentColor\" text-anchor=\"middle\" y=\"484.5\">\n",
       "    <tspan class=\"displacy-word\" fill=\"currentColor\" x=\"2150\">per</tspan>\n",
       "    <tspan class=\"displacy-tag\" dy=\"2em\" fill=\"currentColor\" x=\"2150\">ADP</tspan>\n",
       "</text>\n",
       "\n",
       "<text class=\"displacy-token\" fill=\"currentColor\" text-anchor=\"middle\" y=\"484.5\">\n",
       "    <tspan class=\"displacy-word\" fill=\"currentColor\" x=\"2325\">cent</tspan>\n",
       "    <tspan class=\"displacy-tag\" dy=\"2em\" fill=\"currentColor\" x=\"2325\">NOUN</tspan>\n",
       "</text>\n",
       "\n",
       "<text class=\"displacy-token\" fill=\"currentColor\" text-anchor=\"middle\" y=\"484.5\">\n",
       "    <tspan class=\"displacy-word\" fill=\"currentColor\" x=\"2500\">over</tspan>\n",
       "    <tspan class=\"displacy-tag\" dy=\"2em\" fill=\"currentColor\" x=\"2500\">ADP</tspan>\n",
       "</text>\n",
       "\n",
       "<text class=\"displacy-token\" fill=\"currentColor\" text-anchor=\"middle\" y=\"484.5\">\n",
       "    <tspan class=\"displacy-word\" fill=\"currentColor\" x=\"2675\">40</tspan>\n",
       "    <tspan class=\"displacy-tag\" dy=\"2em\" fill=\"currentColor\" x=\"2675\">NUM</tspan>\n",
       "</text>\n",
       "\n",
       "<text class=\"displacy-token\" fill=\"currentColor\" text-anchor=\"middle\" y=\"484.5\">\n",
       "    <tspan class=\"displacy-word\" fill=\"currentColor\" x=\"2850\">years</tspan>\n",
       "    <tspan class=\"displacy-tag\" dy=\"2em\" fill=\"currentColor\" x=\"2850\">NOUN</tspan>\n",
       "</text>\n",
       "\n",
       "<text class=\"displacy-token\" fill=\"currentColor\" text-anchor=\"middle\" y=\"484.5\">\n",
       "    <tspan class=\"displacy-word\" fill=\"currentColor\" x=\"3025\">using</tspan>\n",
       "    <tspan class=\"displacy-tag\" dy=\"2em\" fill=\"currentColor\" x=\"3025\">VERB</tspan>\n",
       "</text>\n",
       "\n",
       "<text class=\"displacy-token\" fill=\"currentColor\" text-anchor=\"middle\" y=\"484.5\">\n",
       "    <tspan class=\"displacy-word\" fill=\"currentColor\" x=\"3200\">nature</tspan>\n",
       "    <tspan class=\"displacy-tag\" dy=\"2em\" fill=\"currentColor\" x=\"3200\">NOUN</tspan>\n",
       "</text>\n",
       "\n",
       "<text class=\"displacy-token\" fill=\"currentColor\" text-anchor=\"middle\" y=\"484.5\">\n",
       "    <tspan class=\"displacy-word\" fill=\"currentColor\" x=\"3375\">soils</tspan>\n",
       "    <tspan class=\"displacy-tag\" dy=\"2em\" fill=\"currentColor\" x=\"3375\">NOUN</tspan>\n",
       "</text>\n",
       "\n",
       "<text class=\"displacy-token\" fill=\"currentColor\" text-anchor=\"middle\" y=\"484.5\">\n",
       "    <tspan class=\"displacy-word\" fill=\"currentColor\" x=\"3550\">and</tspan>\n",
       "    <tspan class=\"displacy-tag\" dy=\"2em\" fill=\"currentColor\" x=\"3550\">CCONJ</tspan>\n",
       "</text>\n",
       "\n",
       "<text class=\"displacy-token\" fill=\"currentColor\" text-anchor=\"middle\" y=\"484.5\">\n",
       "    <tspan class=\"displacy-word\" fill=\"currentColor\" x=\"3725\">trees</tspan>\n",
       "    <tspan class=\"displacy-tag\" dy=\"2em\" fill=\"currentColor\" x=\"3725\">NOUN</tspan>\n",
       "</text>\n",
       "\n",
       "<g class=\"displacy-arrow\">\n",
       "    <path class=\"displacy-arc\" id=\"arrow-9bcf3a12e5064381b60b89df3b0c75c5-0-0\" stroke-width=\"2px\" d=\"M70,439.5 C70,177.0 565.0,177.0 565.0,439.5\" fill=\"none\" stroke=\"currentColor\"/>\n",
       "    <text dy=\"1.25em\" style=\"font-size: 0.8em; letter-spacing: 1px\">\n",
       "        <textPath xlink:href=\"#arrow-9bcf3a12e5064381b60b89df3b0c75c5-0-0\" class=\"displacy-label\" startOffset=\"50%\" side=\"left\" fill=\"currentColor\" text-anchor=\"middle\">compound</textPath>\n",
       "    </text>\n",
       "    <path class=\"displacy-arrowhead\" d=\"M70,441.5 L62,429.5 78,429.5\" fill=\"currentColor\"/>\n",
       "</g>\n",
       "\n",
       "<g class=\"displacy-arrow\">\n",
       "    <path class=\"displacy-arc\" id=\"arrow-9bcf3a12e5064381b60b89df3b0c75c5-0-1\" stroke-width=\"2px\" d=\"M245,439.5 C245,264.5 560.0,264.5 560.0,439.5\" fill=\"none\" stroke=\"currentColor\"/>\n",
       "    <text dy=\"1.25em\" style=\"font-size: 0.8em; letter-spacing: 1px\">\n",
       "        <textPath xlink:href=\"#arrow-9bcf3a12e5064381b60b89df3b0c75c5-0-1\" class=\"displacy-label\" startOffset=\"50%\" side=\"left\" fill=\"currentColor\" text-anchor=\"middle\">compound</textPath>\n",
       "    </text>\n",
       "    <path class=\"displacy-arrowhead\" d=\"M245,441.5 L237,429.5 253,429.5\" fill=\"currentColor\"/>\n",
       "</g>\n",
       "\n",
       "<g class=\"displacy-arrow\">\n",
       "    <path class=\"displacy-arc\" id=\"arrow-9bcf3a12e5064381b60b89df3b0c75c5-0-2\" stroke-width=\"2px\" d=\"M420,439.5 C420,352.0 555.0,352.0 555.0,439.5\" fill=\"none\" stroke=\"currentColor\"/>\n",
       "    <text dy=\"1.25em\" style=\"font-size: 0.8em; letter-spacing: 1px\">\n",
       "        <textPath xlink:href=\"#arrow-9bcf3a12e5064381b60b89df3b0c75c5-0-2\" class=\"displacy-label\" startOffset=\"50%\" side=\"left\" fill=\"currentColor\" text-anchor=\"middle\">compound</textPath>\n",
       "    </text>\n",
       "    <path class=\"displacy-arrowhead\" d=\"M420,441.5 L412,429.5 428,429.5\" fill=\"currentColor\"/>\n",
       "</g>\n",
       "\n",
       "<g class=\"displacy-arrow\">\n",
       "    <path class=\"displacy-arc\" id=\"arrow-9bcf3a12e5064381b60b89df3b0c75c5-0-3\" stroke-width=\"2px\" d=\"M595,439.5 C595,352.0 730.0,352.0 730.0,439.5\" fill=\"none\" stroke=\"currentColor\"/>\n",
       "    <text dy=\"1.25em\" style=\"font-size: 0.8em; letter-spacing: 1px\">\n",
       "        <textPath xlink:href=\"#arrow-9bcf3a12e5064381b60b89df3b0c75c5-0-3\" class=\"displacy-label\" startOffset=\"50%\" side=\"left\" fill=\"currentColor\" text-anchor=\"middle\">nsubj</textPath>\n",
       "    </text>\n",
       "    <path class=\"displacy-arrowhead\" d=\"M595,441.5 L587,429.5 603,429.5\" fill=\"currentColor\"/>\n",
       "</g>\n",
       "\n",
       "<g class=\"displacy-arrow\">\n",
       "    <path class=\"displacy-arc\" id=\"arrow-9bcf3a12e5064381b60b89df3b0c75c5-0-4\" stroke-width=\"2px\" d=\"M945,439.5 C945,352.0 1080.0,352.0 1080.0,439.5\" fill=\"none\" stroke=\"currentColor\"/>\n",
       "    <text dy=\"1.25em\" style=\"font-size: 0.8em; letter-spacing: 1px\">\n",
       "        <textPath xlink:href=\"#arrow-9bcf3a12e5064381b60b89df3b0c75c5-0-4\" class=\"displacy-label\" startOffset=\"50%\" side=\"left\" fill=\"currentColor\" text-anchor=\"middle\">compound</textPath>\n",
       "    </text>\n",
       "    <path class=\"displacy-arrowhead\" d=\"M945,441.5 L937,429.5 953,429.5\" fill=\"currentColor\"/>\n",
       "</g>\n",
       "\n",
       "<g class=\"displacy-arrow\">\n",
       "    <path class=\"displacy-arc\" id=\"arrow-9bcf3a12e5064381b60b89df3b0c75c5-0-5\" stroke-width=\"2px\" d=\"M1120,439.5 C1120,177.0 1615.0,177.0 1615.0,439.5\" fill=\"none\" stroke=\"currentColor\"/>\n",
       "    <text dy=\"1.25em\" style=\"font-size: 0.8em; letter-spacing: 1px\">\n",
       "        <textPath xlink:href=\"#arrow-9bcf3a12e5064381b60b89df3b0c75c5-0-5\" class=\"displacy-label\" startOffset=\"50%\" side=\"left\" fill=\"currentColor\" text-anchor=\"middle\">nsubjpass</textPath>\n",
       "    </text>\n",
       "    <path class=\"displacy-arrowhead\" d=\"M1120,441.5 L1112,429.5 1128,429.5\" fill=\"currentColor\"/>\n",
       "</g>\n",
       "\n",
       "<g class=\"displacy-arrow\">\n",
       "    <path class=\"displacy-arc\" id=\"arrow-9bcf3a12e5064381b60b89df3b0c75c5-0-6\" stroke-width=\"2px\" d=\"M1295,439.5 C1295,264.5 1610.0,264.5 1610.0,439.5\" fill=\"none\" stroke=\"currentColor\"/>\n",
       "    <text dy=\"1.25em\" style=\"font-size: 0.8em; letter-spacing: 1px\">\n",
       "        <textPath xlink:href=\"#arrow-9bcf3a12e5064381b60b89df3b0c75c5-0-6\" class=\"displacy-label\" startOffset=\"50%\" side=\"left\" fill=\"currentColor\" text-anchor=\"middle\">aux</textPath>\n",
       "    </text>\n",
       "    <path class=\"displacy-arrowhead\" d=\"M1295,441.5 L1287,429.5 1303,429.5\" fill=\"currentColor\"/>\n",
       "</g>\n",
       "\n",
       "<g class=\"displacy-arrow\">\n",
       "    <path class=\"displacy-arc\" id=\"arrow-9bcf3a12e5064381b60b89df3b0c75c5-0-7\" stroke-width=\"2px\" d=\"M1470,439.5 C1470,352.0 1605.0,352.0 1605.0,439.5\" fill=\"none\" stroke=\"currentColor\"/>\n",
       "    <text dy=\"1.25em\" style=\"font-size: 0.8em; letter-spacing: 1px\">\n",
       "        <textPath xlink:href=\"#arrow-9bcf3a12e5064381b60b89df3b0c75c5-0-7\" class=\"displacy-label\" startOffset=\"50%\" side=\"left\" fill=\"currentColor\" text-anchor=\"middle\">auxpass</textPath>\n",
       "    </text>\n",
       "    <path class=\"displacy-arrowhead\" d=\"M1470,441.5 L1462,429.5 1478,429.5\" fill=\"currentColor\"/>\n",
       "</g>\n",
       "\n",
       "<g class=\"displacy-arrow\">\n",
       "    <path class=\"displacy-arc\" id=\"arrow-9bcf3a12e5064381b60b89df3b0c75c5-0-8\" stroke-width=\"2px\" d=\"M770,439.5 C770,89.5 1620.0,89.5 1620.0,439.5\" fill=\"none\" stroke=\"currentColor\"/>\n",
       "    <text dy=\"1.25em\" style=\"font-size: 0.8em; letter-spacing: 1px\">\n",
       "        <textPath xlink:href=\"#arrow-9bcf3a12e5064381b60b89df3b0c75c5-0-8\" class=\"displacy-label\" startOffset=\"50%\" side=\"left\" fill=\"currentColor\" text-anchor=\"middle\">ccomp</textPath>\n",
       "    </text>\n",
       "    <path class=\"displacy-arrowhead\" d=\"M1620.0,441.5 L1628.0,429.5 1612.0,429.5\" fill=\"currentColor\"/>\n",
       "</g>\n",
       "\n",
       "<g class=\"displacy-arrow\">\n",
       "    <path class=\"displacy-arc\" id=\"arrow-9bcf3a12e5064381b60b89df3b0c75c5-0-9\" stroke-width=\"2px\" d=\"M1645,439.5 C1645,352.0 1780.0,352.0 1780.0,439.5\" fill=\"none\" stroke=\"currentColor\"/>\n",
       "    <text dy=\"1.25em\" style=\"font-size: 0.8em; letter-spacing: 1px\">\n",
       "        <textPath xlink:href=\"#arrow-9bcf3a12e5064381b60b89df3b0c75c5-0-9\" class=\"displacy-label\" startOffset=\"50%\" side=\"left\" fill=\"currentColor\" text-anchor=\"middle\">prep</textPath>\n",
       "    </text>\n",
       "    <path class=\"displacy-arrowhead\" d=\"M1780.0,441.5 L1788.0,429.5 1772.0,429.5\" fill=\"currentColor\"/>\n",
       "</g>\n",
       "\n",
       "<g class=\"displacy-arrow\">\n",
       "    <path class=\"displacy-arc\" id=\"arrow-9bcf3a12e5064381b60b89df3b0c75c5-0-10\" stroke-width=\"2px\" d=\"M1995,439.5 C1995,264.5 2310.0,264.5 2310.0,439.5\" fill=\"none\" stroke=\"currentColor\"/>\n",
       "    <text dy=\"1.25em\" style=\"font-size: 0.8em; letter-spacing: 1px\">\n",
       "        <textPath xlink:href=\"#arrow-9bcf3a12e5064381b60b89df3b0c75c5-0-10\" class=\"displacy-label\" startOffset=\"50%\" side=\"left\" fill=\"currentColor\" text-anchor=\"middle\">nummod</textPath>\n",
       "    </text>\n",
       "    <path class=\"displacy-arrowhead\" d=\"M1995,441.5 L1987,429.5 2003,429.5\" fill=\"currentColor\"/>\n",
       "</g>\n",
       "\n",
       "<g class=\"displacy-arrow\">\n",
       "    <path class=\"displacy-arc\" id=\"arrow-9bcf3a12e5064381b60b89df3b0c75c5-0-11\" stroke-width=\"2px\" d=\"M2170,439.5 C2170,352.0 2305.0,352.0 2305.0,439.5\" fill=\"none\" stroke=\"currentColor\"/>\n",
       "    <text dy=\"1.25em\" style=\"font-size: 0.8em; letter-spacing: 1px\">\n",
       "        <textPath xlink:href=\"#arrow-9bcf3a12e5064381b60b89df3b0c75c5-0-11\" class=\"displacy-label\" startOffset=\"50%\" side=\"left\" fill=\"currentColor\" text-anchor=\"middle\">compound</textPath>\n",
       "    </text>\n",
       "    <path class=\"displacy-arrowhead\" d=\"M2170,441.5 L2162,429.5 2178,429.5\" fill=\"currentColor\"/>\n",
       "</g>\n",
       "\n",
       "<g class=\"displacy-arrow\">\n",
       "    <path class=\"displacy-arc\" id=\"arrow-9bcf3a12e5064381b60b89df3b0c75c5-0-12\" stroke-width=\"2px\" d=\"M1820,439.5 C1820,177.0 2315.0,177.0 2315.0,439.5\" fill=\"none\" stroke=\"currentColor\"/>\n",
       "    <text dy=\"1.25em\" style=\"font-size: 0.8em; letter-spacing: 1px\">\n",
       "        <textPath xlink:href=\"#arrow-9bcf3a12e5064381b60b89df3b0c75c5-0-12\" class=\"displacy-label\" startOffset=\"50%\" side=\"left\" fill=\"currentColor\" text-anchor=\"middle\">pobj</textPath>\n",
       "    </text>\n",
       "    <path class=\"displacy-arrowhead\" d=\"M2315.0,441.5 L2323.0,429.5 2307.0,429.5\" fill=\"currentColor\"/>\n",
       "</g>\n",
       "\n",
       "<g class=\"displacy-arrow\">\n",
       "    <path class=\"displacy-arc\" id=\"arrow-9bcf3a12e5064381b60b89df3b0c75c5-0-13\" stroke-width=\"2px\" d=\"M2520,439.5 C2520,352.0 2655.0,352.0 2655.0,439.5\" fill=\"none\" stroke=\"currentColor\"/>\n",
       "    <text dy=\"1.25em\" style=\"font-size: 0.8em; letter-spacing: 1px\">\n",
       "        <textPath xlink:href=\"#arrow-9bcf3a12e5064381b60b89df3b0c75c5-0-13\" class=\"displacy-label\" startOffset=\"50%\" side=\"left\" fill=\"currentColor\" text-anchor=\"middle\">quantmod</textPath>\n",
       "    </text>\n",
       "    <path class=\"displacy-arrowhead\" d=\"M2520,441.5 L2512,429.5 2528,429.5\" fill=\"currentColor\"/>\n",
       "</g>\n",
       "\n",
       "<g class=\"displacy-arrow\">\n",
       "    <path class=\"displacy-arc\" id=\"arrow-9bcf3a12e5064381b60b89df3b0c75c5-0-14\" stroke-width=\"2px\" d=\"M2695,439.5 C2695,352.0 2830.0,352.0 2830.0,439.5\" fill=\"none\" stroke=\"currentColor\"/>\n",
       "    <text dy=\"1.25em\" style=\"font-size: 0.8em; letter-spacing: 1px\">\n",
       "        <textPath xlink:href=\"#arrow-9bcf3a12e5064381b60b89df3b0c75c5-0-14\" class=\"displacy-label\" startOffset=\"50%\" side=\"left\" fill=\"currentColor\" text-anchor=\"middle\">nummod</textPath>\n",
       "    </text>\n",
       "    <path class=\"displacy-arrowhead\" d=\"M2695,441.5 L2687,429.5 2703,429.5\" fill=\"currentColor\"/>\n",
       "</g>\n",
       "\n",
       "<g class=\"displacy-arrow\">\n",
       "    <path class=\"displacy-arc\" id=\"arrow-9bcf3a12e5064381b60b89df3b0c75c5-0-15\" stroke-width=\"2px\" d=\"M1645,439.5 C1645,89.5 2845.0,89.5 2845.0,439.5\" fill=\"none\" stroke=\"currentColor\"/>\n",
       "    <text dy=\"1.25em\" style=\"font-size: 0.8em; letter-spacing: 1px\">\n",
       "        <textPath xlink:href=\"#arrow-9bcf3a12e5064381b60b89df3b0c75c5-0-15\" class=\"displacy-label\" startOffset=\"50%\" side=\"left\" fill=\"currentColor\" text-anchor=\"middle\">npadvmod</textPath>\n",
       "    </text>\n",
       "    <path class=\"displacy-arrowhead\" d=\"M2845.0,441.5 L2853.0,429.5 2837.0,429.5\" fill=\"currentColor\"/>\n",
       "</g>\n",
       "\n",
       "<g class=\"displacy-arrow\">\n",
       "    <path class=\"displacy-arc\" id=\"arrow-9bcf3a12e5064381b60b89df3b0c75c5-0-16\" stroke-width=\"2px\" d=\"M1645,439.5 C1645,2.0 3025.0,2.0 3025.0,439.5\" fill=\"none\" stroke=\"currentColor\"/>\n",
       "    <text dy=\"1.25em\" style=\"font-size: 0.8em; letter-spacing: 1px\">\n",
       "        <textPath xlink:href=\"#arrow-9bcf3a12e5064381b60b89df3b0c75c5-0-16\" class=\"displacy-label\" startOffset=\"50%\" side=\"left\" fill=\"currentColor\" text-anchor=\"middle\">advcl</textPath>\n",
       "    </text>\n",
       "    <path class=\"displacy-arrowhead\" d=\"M3025.0,441.5 L3033.0,429.5 3017.0,429.5\" fill=\"currentColor\"/>\n",
       "</g>\n",
       "\n",
       "<g class=\"displacy-arrow\">\n",
       "    <path class=\"displacy-arc\" id=\"arrow-9bcf3a12e5064381b60b89df3b0c75c5-0-17\" stroke-width=\"2px\" d=\"M3220,439.5 C3220,352.0 3355.0,352.0 3355.0,439.5\" fill=\"none\" stroke=\"currentColor\"/>\n",
       "    <text dy=\"1.25em\" style=\"font-size: 0.8em; letter-spacing: 1px\">\n",
       "        <textPath xlink:href=\"#arrow-9bcf3a12e5064381b60b89df3b0c75c5-0-17\" class=\"displacy-label\" startOffset=\"50%\" side=\"left\" fill=\"currentColor\" text-anchor=\"middle\">compound</textPath>\n",
       "    </text>\n",
       "    <path class=\"displacy-arrowhead\" d=\"M3220,441.5 L3212,429.5 3228,429.5\" fill=\"currentColor\"/>\n",
       "</g>\n",
       "\n",
       "<g class=\"displacy-arrow\">\n",
       "    <path class=\"displacy-arc\" id=\"arrow-9bcf3a12e5064381b60b89df3b0c75c5-0-18\" stroke-width=\"2px\" d=\"M3045,439.5 C3045,264.5 3360.0,264.5 3360.0,439.5\" fill=\"none\" stroke=\"currentColor\"/>\n",
       "    <text dy=\"1.25em\" style=\"font-size: 0.8em; letter-spacing: 1px\">\n",
       "        <textPath xlink:href=\"#arrow-9bcf3a12e5064381b60b89df3b0c75c5-0-18\" class=\"displacy-label\" startOffset=\"50%\" side=\"left\" fill=\"currentColor\" text-anchor=\"middle\">dobj</textPath>\n",
       "    </text>\n",
       "    <path class=\"displacy-arrowhead\" d=\"M3360.0,441.5 L3368.0,429.5 3352.0,429.5\" fill=\"currentColor\"/>\n",
       "</g>\n",
       "\n",
       "<g class=\"displacy-arrow\">\n",
       "    <path class=\"displacy-arc\" id=\"arrow-9bcf3a12e5064381b60b89df3b0c75c5-0-19\" stroke-width=\"2px\" d=\"M3395,439.5 C3395,352.0 3530.0,352.0 3530.0,439.5\" fill=\"none\" stroke=\"currentColor\"/>\n",
       "    <text dy=\"1.25em\" style=\"font-size: 0.8em; letter-spacing: 1px\">\n",
       "        <textPath xlink:href=\"#arrow-9bcf3a12e5064381b60b89df3b0c75c5-0-19\" class=\"displacy-label\" startOffset=\"50%\" side=\"left\" fill=\"currentColor\" text-anchor=\"middle\">cc</textPath>\n",
       "    </text>\n",
       "    <path class=\"displacy-arrowhead\" d=\"M3530.0,441.5 L3538.0,429.5 3522.0,429.5\" fill=\"currentColor\"/>\n",
       "</g>\n",
       "\n",
       "<g class=\"displacy-arrow\">\n",
       "    <path class=\"displacy-arc\" id=\"arrow-9bcf3a12e5064381b60b89df3b0c75c5-0-20\" stroke-width=\"2px\" d=\"M3395,439.5 C3395,264.5 3710.0,264.5 3710.0,439.5\" fill=\"none\" stroke=\"currentColor\"/>\n",
       "    <text dy=\"1.25em\" style=\"font-size: 0.8em; letter-spacing: 1px\">\n",
       "        <textPath xlink:href=\"#arrow-9bcf3a12e5064381b60b89df3b0c75c5-0-20\" class=\"displacy-label\" startOffset=\"50%\" side=\"left\" fill=\"currentColor\" text-anchor=\"middle\">conj</textPath>\n",
       "    </text>\n",
       "    <path class=\"displacy-arrowhead\" d=\"M3710.0,441.5 L3718.0,429.5 3702.0,429.5\" fill=\"currentColor\"/>\n",
       "</g>\n",
       "</svg></span>"
      ],
      "text/plain": [
       "<IPython.core.display.HTML object>"
      ]
     },
     "metadata": {},
     "output_type": "display_data"
    },
    {
     "data": {
      "text/html": [
       "<span class=\"tex2jax_ignore\"><svg xmlns=\"http://www.w3.org/2000/svg\" xmlns:xlink=\"http://www.w3.org/1999/xlink\" xml:lang=\"en\" id=\"9cf110e8f4c44bf88c47fce143d631e3-0\" class=\"displacy\" width=\"6700\" height=\"662.0\" direction=\"ltr\" style=\"max-width: none; height: 662.0px; color: #000000; background: #ffffff; font-family: Arial; direction: ltr\">\n",
       "<text class=\"displacy-token\" fill=\"currentColor\" text-anchor=\"middle\" y=\"572.0\">\n",
       "    <tspan class=\"displacy-word\" fill=\"currentColor\" x=\"50\">to</tspan>\n",
       "    <tspan class=\"displacy-tag\" dy=\"2em\" fill=\"currentColor\" x=\"50\">PART</tspan>\n",
       "</text>\n",
       "\n",
       "<text class=\"displacy-token\" fill=\"currentColor\" text-anchor=\"middle\" y=\"572.0\">\n",
       "    <tspan class=\"displacy-word\" fill=\"currentColor\" x=\"225\">further</tspan>\n",
       "    <tspan class=\"displacy-tag\" dy=\"2em\" fill=\"currentColor\" x=\"225\">ADV</tspan>\n",
       "</text>\n",
       "\n",
       "<text class=\"displacy-token\" fill=\"currentColor\" text-anchor=\"middle\" y=\"572.0\">\n",
       "    <tspan class=\"displacy-word\" fill=\"currentColor\" x=\"400\">reduce</tspan>\n",
       "    <tspan class=\"displacy-tag\" dy=\"2em\" fill=\"currentColor\" x=\"400\">VERB</tspan>\n",
       "</text>\n",
       "\n",
       "<text class=\"displacy-token\" fill=\"currentColor\" text-anchor=\"middle\" y=\"572.0\">\n",
       "    <tspan class=\"displacy-word\" fill=\"currentColor\" x=\"575\">u</tspan>\n",
       "    <tspan class=\"displacy-tag\" dy=\"2em\" fill=\"currentColor\" x=\"575\">PROPN</tspan>\n",
       "</text>\n",
       "\n",
       "<text class=\"displacy-token\" fill=\"currentColor\" text-anchor=\"middle\" y=\"572.0\">\n",
       "    <tspan class=\"displacy-word\" fill=\"currentColor\" x=\"750\">s</tspan>\n",
       "    <tspan class=\"displacy-tag\" dy=\"2em\" fill=\"currentColor\" x=\"750\">PART</tspan>\n",
       "</text>\n",
       "\n",
       "<text class=\"displacy-token\" fill=\"currentColor\" text-anchor=\"middle\" y=\"572.0\">\n",
       "    <tspan class=\"displacy-word\" fill=\"currentColor\" x=\"925\">carbon</tspan>\n",
       "    <tspan class=\"displacy-tag\" dy=\"2em\" fill=\"currentColor\" x=\"925\">NOUN</tspan>\n",
       "</text>\n",
       "\n",
       "<text class=\"displacy-token\" fill=\"currentColor\" text-anchor=\"middle\" y=\"572.0\">\n",
       "    <tspan class=\"displacy-word\" fill=\"currentColor\" x=\"1100\">dioxide</tspan>\n",
       "    <tspan class=\"displacy-tag\" dy=\"2em\" fill=\"currentColor\" x=\"1100\">NOUN</tspan>\n",
       "</text>\n",
       "\n",
       "<text class=\"displacy-token\" fill=\"currentColor\" text-anchor=\"middle\" y=\"572.0\">\n",
       "    <tspan class=\"displacy-word\" fill=\"currentColor\" x=\"1275\">emissions</tspan>\n",
       "    <tspan class=\"displacy-tag\" dy=\"2em\" fill=\"currentColor\" x=\"1275\">NOUN</tspan>\n",
       "</text>\n",
       "\n",
       "<text class=\"displacy-token\" fill=\"currentColor\" text-anchor=\"middle\" y=\"572.0\">\n",
       "    <tspan class=\"displacy-word\" fill=\"currentColor\" x=\"1450\">by</tspan>\n",
       "    <tspan class=\"displacy-tag\" dy=\"2em\" fill=\"currentColor\" x=\"1450\">ADP</tspan>\n",
       "</text>\n",
       "\n",
       "<text class=\"displacy-token\" fill=\"currentColor\" text-anchor=\"middle\" y=\"572.0\">\n",
       "    <tspan class=\"displacy-word\" fill=\"currentColor\" x=\"1625\">7</tspan>\n",
       "    <tspan class=\"displacy-tag\" dy=\"2em\" fill=\"currentColor\" x=\"1625\">NUM</tspan>\n",
       "</text>\n",
       "\n",
       "<text class=\"displacy-token\" fill=\"currentColor\" text-anchor=\"middle\" y=\"572.0\">\n",
       "    <tspan class=\"displacy-word\" fill=\"currentColor\" x=\"1800\">percent</tspan>\n",
       "    <tspan class=\"displacy-tag\" dy=\"2em\" fill=\"currentColor\" x=\"1800\">NOUN</tspan>\n",
       "</text>\n",
       "\n",
       "<text class=\"displacy-token\" fill=\"currentColor\" text-anchor=\"middle\" y=\"572.0\">\n",
       "    <tspan class=\"displacy-word\" fill=\"currentColor\" x=\"1975\">as</tspan>\n",
       "    <tspan class=\"displacy-tag\" dy=\"2em\" fill=\"currentColor\" x=\"1975\">SCONJ</tspan>\n",
       "</text>\n",
       "\n",
       "<text class=\"displacy-token\" fill=\"currentColor\" text-anchor=\"middle\" y=\"572.0\">\n",
       "    <tspan class=\"displacy-word\" fill=\"currentColor\" x=\"2150\">stipulated</tspan>\n",
       "    <tspan class=\"displacy-tag\" dy=\"2em\" fill=\"currentColor\" x=\"2150\">VERB</tspan>\n",
       "</text>\n",
       "\n",
       "<text class=\"displacy-token\" fill=\"currentColor\" text-anchor=\"middle\" y=\"572.0\">\n",
       "    <tspan class=\"displacy-word\" fill=\"currentColor\" x=\"2325\">by</tspan>\n",
       "    <tspan class=\"displacy-tag\" dy=\"2em\" fill=\"currentColor\" x=\"2325\">ADP</tspan>\n",
       "</text>\n",
       "\n",
       "<text class=\"displacy-token\" fill=\"currentColor\" text-anchor=\"middle\" y=\"572.0\">\n",
       "    <tspan class=\"displacy-word\" fill=\"currentColor\" x=\"2500\">the</tspan>\n",
       "    <tspan class=\"displacy-tag\" dy=\"2em\" fill=\"currentColor\" x=\"2500\">DET</tspan>\n",
       "</text>\n",
       "\n",
       "<text class=\"displacy-token\" fill=\"currentColor\" text-anchor=\"middle\" y=\"572.0\">\n",
       "    <tspan class=\"displacy-word\" fill=\"currentColor\" x=\"2675\">kyoto</tspan>\n",
       "    <tspan class=\"displacy-tag\" dy=\"2em\" fill=\"currentColor\" x=\"2675\">NOUN</tspan>\n",
       "</text>\n",
       "\n",
       "<text class=\"displacy-token\" fill=\"currentColor\" text-anchor=\"middle\" y=\"572.0\">\n",
       "    <tspan class=\"displacy-word\" fill=\"currentColor\" x=\"2850\">protocol</tspan>\n",
       "    <tspan class=\"displacy-tag\" dy=\"2em\" fill=\"currentColor\" x=\"2850\">NOUN</tspan>\n",
       "</text>\n",
       "\n",
       "<text class=\"displacy-token\" fill=\"currentColor\" text-anchor=\"middle\" y=\"572.0\">\n",
       "    <tspan class=\"displacy-word\" fill=\"currentColor\" x=\"3025\">would</tspan>\n",
       "    <tspan class=\"displacy-tag\" dy=\"2em\" fill=\"currentColor\" x=\"3025\">AUX</tspan>\n",
       "</text>\n",
       "\n",
       "<text class=\"displacy-token\" fill=\"currentColor\" text-anchor=\"middle\" y=\"572.0\">\n",
       "    <tspan class=\"displacy-word\" fill=\"currentColor\" x=\"3200\">require</tspan>\n",
       "    <tspan class=\"displacy-tag\" dy=\"2em\" fill=\"currentColor\" x=\"3200\">VERB</tspan>\n",
       "</text>\n",
       "\n",
       "<text class=\"displacy-token\" fill=\"currentColor\" text-anchor=\"middle\" y=\"572.0\">\n",
       "    <tspan class=\"displacy-word\" fill=\"currentColor\" x=\"3375\">the</tspan>\n",
       "    <tspan class=\"displacy-tag\" dy=\"2em\" fill=\"currentColor\" x=\"3375\">DET</tspan>\n",
       "</text>\n",
       "\n",
       "<text class=\"displacy-token\" fill=\"currentColor\" text-anchor=\"middle\" y=\"572.0\">\n",
       "    <tspan class=\"displacy-word\" fill=\"currentColor\" x=\"3550\">planting</tspan>\n",
       "    <tspan class=\"displacy-tag\" dy=\"2em\" fill=\"currentColor\" x=\"3550\">NOUN</tspan>\n",
       "</text>\n",
       "\n",
       "<text class=\"displacy-token\" fill=\"currentColor\" text-anchor=\"middle\" y=\"572.0\">\n",
       "    <tspan class=\"displacy-word\" fill=\"currentColor\" x=\"3725\">of</tspan>\n",
       "    <tspan class=\"displacy-tag\" dy=\"2em\" fill=\"currentColor\" x=\"3725\">ADP</tspan>\n",
       "</text>\n",
       "\n",
       "<text class=\"displacy-token\" fill=\"currentColor\" text-anchor=\"middle\" y=\"572.0\">\n",
       "    <tspan class=\"displacy-word\" fill=\"currentColor\" x=\"3900\">an</tspan>\n",
       "    <tspan class=\"displacy-tag\" dy=\"2em\" fill=\"currentColor\" x=\"3900\">DET</tspan>\n",
       "</text>\n",
       "\n",
       "<text class=\"displacy-token\" fill=\"currentColor\" text-anchor=\"middle\" y=\"572.0\">\n",
       "    <tspan class=\"displacy-word\" fill=\"currentColor\" x=\"4075\">area</tspan>\n",
       "    <tspan class=\"displacy-tag\" dy=\"2em\" fill=\"currentColor\" x=\"4075\">NOUN</tspan>\n",
       "</text>\n",
       "\n",
       "<text class=\"displacy-token\" fill=\"currentColor\" text-anchor=\"middle\" y=\"572.0\">\n",
       "    <tspan class=\"displacy-word\" fill=\"currentColor\" x=\"4250\">the</tspan>\n",
       "    <tspan class=\"displacy-tag\" dy=\"2em\" fill=\"currentColor\" x=\"4250\">DET</tspan>\n",
       "</text>\n",
       "\n",
       "<text class=\"displacy-token\" fill=\"currentColor\" text-anchor=\"middle\" y=\"572.0\">\n",
       "    <tspan class=\"displacy-word\" fill=\"currentColor\" x=\"4425\">size</tspan>\n",
       "    <tspan class=\"displacy-tag\" dy=\"2em\" fill=\"currentColor\" x=\"4425\">NOUN</tspan>\n",
       "</text>\n",
       "\n",
       "<text class=\"displacy-token\" fill=\"currentColor\" text-anchor=\"middle\" y=\"572.0\">\n",
       "    <tspan class=\"displacy-word\" fill=\"currentColor\" x=\"4600\">of</tspan>\n",
       "    <tspan class=\"displacy-tag\" dy=\"2em\" fill=\"currentColor\" x=\"4600\">ADP</tspan>\n",
       "</text>\n",
       "\n",
       "<text class=\"displacy-token\" fill=\"currentColor\" text-anchor=\"middle\" y=\"572.0\">\n",
       "    <tspan class=\"displacy-word\" fill=\"currentColor\" x=\"4775\">texas</tspan>\n",
       "    <tspan class=\"displacy-tag\" dy=\"2em\" fill=\"currentColor\" x=\"4775\">PROPN</tspan>\n",
       "</text>\n",
       "\n",
       "<text class=\"displacy-token\" fill=\"currentColor\" text-anchor=\"middle\" y=\"572.0\">\n",
       "    <tspan class=\"displacy-word\" fill=\"currentColor\" x=\"4950\">8</tspan>\n",
       "    <tspan class=\"displacy-tag\" dy=\"2em\" fill=\"currentColor\" x=\"4950\">NUM</tspan>\n",
       "</text>\n",
       "\n",
       "<text class=\"displacy-token\" fill=\"currentColor\" text-anchor=\"middle\" y=\"572.0\">\n",
       "    <tspan class=\"displacy-word\" fill=\"currentColor\" x=\"5125\">percent</tspan>\n",
       "    <tspan class=\"displacy-tag\" dy=\"2em\" fill=\"currentColor\" x=\"5125\">NOUN</tspan>\n",
       "</text>\n",
       "\n",
       "<text class=\"displacy-token\" fill=\"currentColor\" text-anchor=\"middle\" y=\"572.0\">\n",
       "    <tspan class=\"displacy-word\" fill=\"currentColor\" x=\"5300\">of</tspan>\n",
       "    <tspan class=\"displacy-tag\" dy=\"2em\" fill=\"currentColor\" x=\"5300\">ADP</tspan>\n",
       "</text>\n",
       "\n",
       "<text class=\"displacy-token\" fill=\"currentColor\" text-anchor=\"middle\" y=\"572.0\">\n",
       "    <tspan class=\"displacy-word\" fill=\"currentColor\" x=\"5475\">the</tspan>\n",
       "    <tspan class=\"displacy-tag\" dy=\"2em\" fill=\"currentColor\" x=\"5475\">DET</tspan>\n",
       "</text>\n",
       "\n",
       "<text class=\"displacy-token\" fill=\"currentColor\" text-anchor=\"middle\" y=\"572.0\">\n",
       "    <tspan class=\"displacy-word\" fill=\"currentColor\" x=\"5650\">area</tspan>\n",
       "    <tspan class=\"displacy-tag\" dy=\"2em\" fill=\"currentColor\" x=\"5650\">NOUN</tspan>\n",
       "</text>\n",
       "\n",
       "<text class=\"displacy-token\" fill=\"currentColor\" text-anchor=\"middle\" y=\"572.0\">\n",
       "    <tspan class=\"displacy-word\" fill=\"currentColor\" x=\"5825\">of</tspan>\n",
       "    <tspan class=\"displacy-tag\" dy=\"2em\" fill=\"currentColor\" x=\"5825\">ADP</tspan>\n",
       "</text>\n",
       "\n",
       "<text class=\"displacy-token\" fill=\"currentColor\" text-anchor=\"middle\" y=\"572.0\">\n",
       "    <tspan class=\"displacy-word\" fill=\"currentColor\" x=\"6000\">brazil</tspan>\n",
       "    <tspan class=\"displacy-tag\" dy=\"2em\" fill=\"currentColor\" x=\"6000\">PROPN</tspan>\n",
       "</text>\n",
       "\n",
       "<text class=\"displacy-token\" fill=\"currentColor\" text-anchor=\"middle\" y=\"572.0\">\n",
       "    <tspan class=\"displacy-word\" fill=\"currentColor\" x=\"6175\">every</tspan>\n",
       "    <tspan class=\"displacy-tag\" dy=\"2em\" fill=\"currentColor\" x=\"6175\">DET</tspan>\n",
       "</text>\n",
       "\n",
       "<text class=\"displacy-token\" fill=\"currentColor\" text-anchor=\"middle\" y=\"572.0\">\n",
       "    <tspan class=\"displacy-word\" fill=\"currentColor\" x=\"6350\">30</tspan>\n",
       "    <tspan class=\"displacy-tag\" dy=\"2em\" fill=\"currentColor\" x=\"6350\">NUM</tspan>\n",
       "</text>\n",
       "\n",
       "<text class=\"displacy-token\" fill=\"currentColor\" text-anchor=\"middle\" y=\"572.0\">\n",
       "    <tspan class=\"displacy-word\" fill=\"currentColor\" x=\"6525\">years</tspan>\n",
       "    <tspan class=\"displacy-tag\" dy=\"2em\" fill=\"currentColor\" x=\"6525\">NOUN</tspan>\n",
       "</text>\n",
       "\n",
       "<g class=\"displacy-arrow\">\n",
       "    <path class=\"displacy-arc\" id=\"arrow-9cf110e8f4c44bf88c47fce143d631e3-0-0\" stroke-width=\"2px\" d=\"M70,527.0 C70,352.0 380.0,352.0 380.0,527.0\" fill=\"none\" stroke=\"currentColor\"/>\n",
       "    <text dy=\"1.25em\" style=\"font-size: 0.8em; letter-spacing: 1px\">\n",
       "        <textPath xlink:href=\"#arrow-9cf110e8f4c44bf88c47fce143d631e3-0-0\" class=\"displacy-label\" startOffset=\"50%\" side=\"left\" fill=\"currentColor\" text-anchor=\"middle\">aux</textPath>\n",
       "    </text>\n",
       "    <path class=\"displacy-arrowhead\" d=\"M70,529.0 L62,517.0 78,517.0\" fill=\"currentColor\"/>\n",
       "</g>\n",
       "\n",
       "<g class=\"displacy-arrow\">\n",
       "    <path class=\"displacy-arc\" id=\"arrow-9cf110e8f4c44bf88c47fce143d631e3-0-1\" stroke-width=\"2px\" d=\"M245,527.0 C245,439.5 375.0,439.5 375.0,527.0\" fill=\"none\" stroke=\"currentColor\"/>\n",
       "    <text dy=\"1.25em\" style=\"font-size: 0.8em; letter-spacing: 1px\">\n",
       "        <textPath xlink:href=\"#arrow-9cf110e8f4c44bf88c47fce143d631e3-0-1\" class=\"displacy-label\" startOffset=\"50%\" side=\"left\" fill=\"currentColor\" text-anchor=\"middle\">advmod</textPath>\n",
       "    </text>\n",
       "    <path class=\"displacy-arrowhead\" d=\"M245,529.0 L237,517.0 253,517.0\" fill=\"currentColor\"/>\n",
       "</g>\n",
       "\n",
       "<g class=\"displacy-arrow\">\n",
       "    <path class=\"displacy-arc\" id=\"arrow-9cf110e8f4c44bf88c47fce143d631e3-0-2\" stroke-width=\"2px\" d=\"M420,527.0 C420,2.0 3200.0,2.0 3200.0,527.0\" fill=\"none\" stroke=\"currentColor\"/>\n",
       "    <text dy=\"1.25em\" style=\"font-size: 0.8em; letter-spacing: 1px\">\n",
       "        <textPath xlink:href=\"#arrow-9cf110e8f4c44bf88c47fce143d631e3-0-2\" class=\"displacy-label\" startOffset=\"50%\" side=\"left\" fill=\"currentColor\" text-anchor=\"middle\">csubj</textPath>\n",
       "    </text>\n",
       "    <path class=\"displacy-arrowhead\" d=\"M420,529.0 L412,517.0 428,517.0\" fill=\"currentColor\"/>\n",
       "</g>\n",
       "\n",
       "<g class=\"displacy-arrow\">\n",
       "    <path class=\"displacy-arc\" id=\"arrow-9cf110e8f4c44bf88c47fce143d631e3-0-3\" stroke-width=\"2px\" d=\"M595,527.0 C595,352.0 1255.0,352.0 1255.0,527.0\" fill=\"none\" stroke=\"currentColor\"/>\n",
       "    <text dy=\"1.25em\" style=\"font-size: 0.8em; letter-spacing: 1px\">\n",
       "        <textPath xlink:href=\"#arrow-9cf110e8f4c44bf88c47fce143d631e3-0-3\" class=\"displacy-label\" startOffset=\"50%\" side=\"left\" fill=\"currentColor\" text-anchor=\"middle\">poss</textPath>\n",
       "    </text>\n",
       "    <path class=\"displacy-arrowhead\" d=\"M595,529.0 L587,517.0 603,517.0\" fill=\"currentColor\"/>\n",
       "</g>\n",
       "\n",
       "<g class=\"displacy-arrow\">\n",
       "    <path class=\"displacy-arc\" id=\"arrow-9cf110e8f4c44bf88c47fce143d631e3-0-4\" stroke-width=\"2px\" d=\"M595,527.0 C595,439.5 725.0,439.5 725.0,527.0\" fill=\"none\" stroke=\"currentColor\"/>\n",
       "    <text dy=\"1.25em\" style=\"font-size: 0.8em; letter-spacing: 1px\">\n",
       "        <textPath xlink:href=\"#arrow-9cf110e8f4c44bf88c47fce143d631e3-0-4\" class=\"displacy-label\" startOffset=\"50%\" side=\"left\" fill=\"currentColor\" text-anchor=\"middle\">case</textPath>\n",
       "    </text>\n",
       "    <path class=\"displacy-arrowhead\" d=\"M725.0,529.0 L733.0,517.0 717.0,517.0\" fill=\"currentColor\"/>\n",
       "</g>\n",
       "\n",
       "<g class=\"displacy-arrow\">\n",
       "    <path class=\"displacy-arc\" id=\"arrow-9cf110e8f4c44bf88c47fce143d631e3-0-5\" stroke-width=\"2px\" d=\"M945,527.0 C945,439.5 1075.0,439.5 1075.0,527.0\" fill=\"none\" stroke=\"currentColor\"/>\n",
       "    <text dy=\"1.25em\" style=\"font-size: 0.8em; letter-spacing: 1px\">\n",
       "        <textPath xlink:href=\"#arrow-9cf110e8f4c44bf88c47fce143d631e3-0-5\" class=\"displacy-label\" startOffset=\"50%\" side=\"left\" fill=\"currentColor\" text-anchor=\"middle\">compound</textPath>\n",
       "    </text>\n",
       "    <path class=\"displacy-arrowhead\" d=\"M945,529.0 L937,517.0 953,517.0\" fill=\"currentColor\"/>\n",
       "</g>\n",
       "\n",
       "<g class=\"displacy-arrow\">\n",
       "    <path class=\"displacy-arc\" id=\"arrow-9cf110e8f4c44bf88c47fce143d631e3-0-6\" stroke-width=\"2px\" d=\"M1120,527.0 C1120,439.5 1250.0,439.5 1250.0,527.0\" fill=\"none\" stroke=\"currentColor\"/>\n",
       "    <text dy=\"1.25em\" style=\"font-size: 0.8em; letter-spacing: 1px\">\n",
       "        <textPath xlink:href=\"#arrow-9cf110e8f4c44bf88c47fce143d631e3-0-6\" class=\"displacy-label\" startOffset=\"50%\" side=\"left\" fill=\"currentColor\" text-anchor=\"middle\">compound</textPath>\n",
       "    </text>\n",
       "    <path class=\"displacy-arrowhead\" d=\"M1120,529.0 L1112,517.0 1128,517.0\" fill=\"currentColor\"/>\n",
       "</g>\n",
       "\n",
       "<g class=\"displacy-arrow\">\n",
       "    <path class=\"displacy-arc\" id=\"arrow-9cf110e8f4c44bf88c47fce143d631e3-0-7\" stroke-width=\"2px\" d=\"M420,527.0 C420,264.5 1260.0,264.5 1260.0,527.0\" fill=\"none\" stroke=\"currentColor\"/>\n",
       "    <text dy=\"1.25em\" style=\"font-size: 0.8em; letter-spacing: 1px\">\n",
       "        <textPath xlink:href=\"#arrow-9cf110e8f4c44bf88c47fce143d631e3-0-7\" class=\"displacy-label\" startOffset=\"50%\" side=\"left\" fill=\"currentColor\" text-anchor=\"middle\">dobj</textPath>\n",
       "    </text>\n",
       "    <path class=\"displacy-arrowhead\" d=\"M1260.0,529.0 L1268.0,517.0 1252.0,517.0\" fill=\"currentColor\"/>\n",
       "</g>\n",
       "\n",
       "<g class=\"displacy-arrow\">\n",
       "    <path class=\"displacy-arc\" id=\"arrow-9cf110e8f4c44bf88c47fce143d631e3-0-8\" stroke-width=\"2px\" d=\"M420,527.0 C420,177.0 1440.0,177.0 1440.0,527.0\" fill=\"none\" stroke=\"currentColor\"/>\n",
       "    <text dy=\"1.25em\" style=\"font-size: 0.8em; letter-spacing: 1px\">\n",
       "        <textPath xlink:href=\"#arrow-9cf110e8f4c44bf88c47fce143d631e3-0-8\" class=\"displacy-label\" startOffset=\"50%\" side=\"left\" fill=\"currentColor\" text-anchor=\"middle\">prep</textPath>\n",
       "    </text>\n",
       "    <path class=\"displacy-arrowhead\" d=\"M1440.0,529.0 L1448.0,517.0 1432.0,517.0\" fill=\"currentColor\"/>\n",
       "</g>\n",
       "\n",
       "<g class=\"displacy-arrow\">\n",
       "    <path class=\"displacy-arc\" id=\"arrow-9cf110e8f4c44bf88c47fce143d631e3-0-9\" stroke-width=\"2px\" d=\"M1645,527.0 C1645,439.5 1775.0,439.5 1775.0,527.0\" fill=\"none\" stroke=\"currentColor\"/>\n",
       "    <text dy=\"1.25em\" style=\"font-size: 0.8em; letter-spacing: 1px\">\n",
       "        <textPath xlink:href=\"#arrow-9cf110e8f4c44bf88c47fce143d631e3-0-9\" class=\"displacy-label\" startOffset=\"50%\" side=\"left\" fill=\"currentColor\" text-anchor=\"middle\">nummod</textPath>\n",
       "    </text>\n",
       "    <path class=\"displacy-arrowhead\" d=\"M1645,529.0 L1637,517.0 1653,517.0\" fill=\"currentColor\"/>\n",
       "</g>\n",
       "\n",
       "<g class=\"displacy-arrow\">\n",
       "    <path class=\"displacy-arc\" id=\"arrow-9cf110e8f4c44bf88c47fce143d631e3-0-10\" stroke-width=\"2px\" d=\"M1470,527.0 C1470,352.0 1780.0,352.0 1780.0,527.0\" fill=\"none\" stroke=\"currentColor\"/>\n",
       "    <text dy=\"1.25em\" style=\"font-size: 0.8em; letter-spacing: 1px\">\n",
       "        <textPath xlink:href=\"#arrow-9cf110e8f4c44bf88c47fce143d631e3-0-10\" class=\"displacy-label\" startOffset=\"50%\" side=\"left\" fill=\"currentColor\" text-anchor=\"middle\">pobj</textPath>\n",
       "    </text>\n",
       "    <path class=\"displacy-arrowhead\" d=\"M1780.0,529.0 L1788.0,517.0 1772.0,517.0\" fill=\"currentColor\"/>\n",
       "</g>\n",
       "\n",
       "<g class=\"displacy-arrow\">\n",
       "    <path class=\"displacy-arc\" id=\"arrow-9cf110e8f4c44bf88c47fce143d631e3-0-11\" stroke-width=\"2px\" d=\"M1995,527.0 C1995,439.5 2125.0,439.5 2125.0,527.0\" fill=\"none\" stroke=\"currentColor\"/>\n",
       "    <text dy=\"1.25em\" style=\"font-size: 0.8em; letter-spacing: 1px\">\n",
       "        <textPath xlink:href=\"#arrow-9cf110e8f4c44bf88c47fce143d631e3-0-11\" class=\"displacy-label\" startOffset=\"50%\" side=\"left\" fill=\"currentColor\" text-anchor=\"middle\">mark</textPath>\n",
       "    </text>\n",
       "    <path class=\"displacy-arrowhead\" d=\"M1995,529.0 L1987,517.0 2003,517.0\" fill=\"currentColor\"/>\n",
       "</g>\n",
       "\n",
       "<g class=\"displacy-arrow\">\n",
       "    <path class=\"displacy-arc\" id=\"arrow-9cf110e8f4c44bf88c47fce143d631e3-0-12\" stroke-width=\"2px\" d=\"M420,527.0 C420,89.5 2145.0,89.5 2145.0,527.0\" fill=\"none\" stroke=\"currentColor\"/>\n",
       "    <text dy=\"1.25em\" style=\"font-size: 0.8em; letter-spacing: 1px\">\n",
       "        <textPath xlink:href=\"#arrow-9cf110e8f4c44bf88c47fce143d631e3-0-12\" class=\"displacy-label\" startOffset=\"50%\" side=\"left\" fill=\"currentColor\" text-anchor=\"middle\">advcl</textPath>\n",
       "    </text>\n",
       "    <path class=\"displacy-arrowhead\" d=\"M2145.0,529.0 L2153.0,517.0 2137.0,517.0\" fill=\"currentColor\"/>\n",
       "</g>\n",
       "\n",
       "<g class=\"displacy-arrow\">\n",
       "    <path class=\"displacy-arc\" id=\"arrow-9cf110e8f4c44bf88c47fce143d631e3-0-13\" stroke-width=\"2px\" d=\"M2170,527.0 C2170,439.5 2300.0,439.5 2300.0,527.0\" fill=\"none\" stroke=\"currentColor\"/>\n",
       "    <text dy=\"1.25em\" style=\"font-size: 0.8em; letter-spacing: 1px\">\n",
       "        <textPath xlink:href=\"#arrow-9cf110e8f4c44bf88c47fce143d631e3-0-13\" class=\"displacy-label\" startOffset=\"50%\" side=\"left\" fill=\"currentColor\" text-anchor=\"middle\">agent</textPath>\n",
       "    </text>\n",
       "    <path class=\"displacy-arrowhead\" d=\"M2300.0,529.0 L2308.0,517.0 2292.0,517.0\" fill=\"currentColor\"/>\n",
       "</g>\n",
       "\n",
       "<g class=\"displacy-arrow\">\n",
       "    <path class=\"displacy-arc\" id=\"arrow-9cf110e8f4c44bf88c47fce143d631e3-0-14\" stroke-width=\"2px\" d=\"M2520,527.0 C2520,352.0 2830.0,352.0 2830.0,527.0\" fill=\"none\" stroke=\"currentColor\"/>\n",
       "    <text dy=\"1.25em\" style=\"font-size: 0.8em; letter-spacing: 1px\">\n",
       "        <textPath xlink:href=\"#arrow-9cf110e8f4c44bf88c47fce143d631e3-0-14\" class=\"displacy-label\" startOffset=\"50%\" side=\"left\" fill=\"currentColor\" text-anchor=\"middle\">det</textPath>\n",
       "    </text>\n",
       "    <path class=\"displacy-arrowhead\" d=\"M2520,529.0 L2512,517.0 2528,517.0\" fill=\"currentColor\"/>\n",
       "</g>\n",
       "\n",
       "<g class=\"displacy-arrow\">\n",
       "    <path class=\"displacy-arc\" id=\"arrow-9cf110e8f4c44bf88c47fce143d631e3-0-15\" stroke-width=\"2px\" d=\"M2695,527.0 C2695,439.5 2825.0,439.5 2825.0,527.0\" fill=\"none\" stroke=\"currentColor\"/>\n",
       "    <text dy=\"1.25em\" style=\"font-size: 0.8em; letter-spacing: 1px\">\n",
       "        <textPath xlink:href=\"#arrow-9cf110e8f4c44bf88c47fce143d631e3-0-15\" class=\"displacy-label\" startOffset=\"50%\" side=\"left\" fill=\"currentColor\" text-anchor=\"middle\">compound</textPath>\n",
       "    </text>\n",
       "    <path class=\"displacy-arrowhead\" d=\"M2695,529.0 L2687,517.0 2703,517.0\" fill=\"currentColor\"/>\n",
       "</g>\n",
       "\n",
       "<g class=\"displacy-arrow\">\n",
       "    <path class=\"displacy-arc\" id=\"arrow-9cf110e8f4c44bf88c47fce143d631e3-0-16\" stroke-width=\"2px\" d=\"M2345,527.0 C2345,264.5 2835.0,264.5 2835.0,527.0\" fill=\"none\" stroke=\"currentColor\"/>\n",
       "    <text dy=\"1.25em\" style=\"font-size: 0.8em; letter-spacing: 1px\">\n",
       "        <textPath xlink:href=\"#arrow-9cf110e8f4c44bf88c47fce143d631e3-0-16\" class=\"displacy-label\" startOffset=\"50%\" side=\"left\" fill=\"currentColor\" text-anchor=\"middle\">pobj</textPath>\n",
       "    </text>\n",
       "    <path class=\"displacy-arrowhead\" d=\"M2835.0,529.0 L2843.0,517.0 2827.0,517.0\" fill=\"currentColor\"/>\n",
       "</g>\n",
       "\n",
       "<g class=\"displacy-arrow\">\n",
       "    <path class=\"displacy-arc\" id=\"arrow-9cf110e8f4c44bf88c47fce143d631e3-0-17\" stroke-width=\"2px\" d=\"M3045,527.0 C3045,439.5 3175.0,439.5 3175.0,527.0\" fill=\"none\" stroke=\"currentColor\"/>\n",
       "    <text dy=\"1.25em\" style=\"font-size: 0.8em; letter-spacing: 1px\">\n",
       "        <textPath xlink:href=\"#arrow-9cf110e8f4c44bf88c47fce143d631e3-0-17\" class=\"displacy-label\" startOffset=\"50%\" side=\"left\" fill=\"currentColor\" text-anchor=\"middle\">aux</textPath>\n",
       "    </text>\n",
       "    <path class=\"displacy-arrowhead\" d=\"M3045,529.0 L3037,517.0 3053,517.0\" fill=\"currentColor\"/>\n",
       "</g>\n",
       "\n",
       "<g class=\"displacy-arrow\">\n",
       "    <path class=\"displacy-arc\" id=\"arrow-9cf110e8f4c44bf88c47fce143d631e3-0-18\" stroke-width=\"2px\" d=\"M3395,527.0 C3395,439.5 3525.0,439.5 3525.0,527.0\" fill=\"none\" stroke=\"currentColor\"/>\n",
       "    <text dy=\"1.25em\" style=\"font-size: 0.8em; letter-spacing: 1px\">\n",
       "        <textPath xlink:href=\"#arrow-9cf110e8f4c44bf88c47fce143d631e3-0-18\" class=\"displacy-label\" startOffset=\"50%\" side=\"left\" fill=\"currentColor\" text-anchor=\"middle\">det</textPath>\n",
       "    </text>\n",
       "    <path class=\"displacy-arrowhead\" d=\"M3395,529.0 L3387,517.0 3403,517.0\" fill=\"currentColor\"/>\n",
       "</g>\n",
       "\n",
       "<g class=\"displacy-arrow\">\n",
       "    <path class=\"displacy-arc\" id=\"arrow-9cf110e8f4c44bf88c47fce143d631e3-0-19\" stroke-width=\"2px\" d=\"M3220,527.0 C3220,352.0 3530.0,352.0 3530.0,527.0\" fill=\"none\" stroke=\"currentColor\"/>\n",
       "    <text dy=\"1.25em\" style=\"font-size: 0.8em; letter-spacing: 1px\">\n",
       "        <textPath xlink:href=\"#arrow-9cf110e8f4c44bf88c47fce143d631e3-0-19\" class=\"displacy-label\" startOffset=\"50%\" side=\"left\" fill=\"currentColor\" text-anchor=\"middle\">dobj</textPath>\n",
       "    </text>\n",
       "    <path class=\"displacy-arrowhead\" d=\"M3530.0,529.0 L3538.0,517.0 3522.0,517.0\" fill=\"currentColor\"/>\n",
       "</g>\n",
       "\n",
       "<g class=\"displacy-arrow\">\n",
       "    <path class=\"displacy-arc\" id=\"arrow-9cf110e8f4c44bf88c47fce143d631e3-0-20\" stroke-width=\"2px\" d=\"M3570,527.0 C3570,439.5 3700.0,439.5 3700.0,527.0\" fill=\"none\" stroke=\"currentColor\"/>\n",
       "    <text dy=\"1.25em\" style=\"font-size: 0.8em; letter-spacing: 1px\">\n",
       "        <textPath xlink:href=\"#arrow-9cf110e8f4c44bf88c47fce143d631e3-0-20\" class=\"displacy-label\" startOffset=\"50%\" side=\"left\" fill=\"currentColor\" text-anchor=\"middle\">prep</textPath>\n",
       "    </text>\n",
       "    <path class=\"displacy-arrowhead\" d=\"M3700.0,529.0 L3708.0,517.0 3692.0,517.0\" fill=\"currentColor\"/>\n",
       "</g>\n",
       "\n",
       "<g class=\"displacy-arrow\">\n",
       "    <path class=\"displacy-arc\" id=\"arrow-9cf110e8f4c44bf88c47fce143d631e3-0-21\" stroke-width=\"2px\" d=\"M3920,527.0 C3920,439.5 4050.0,439.5 4050.0,527.0\" fill=\"none\" stroke=\"currentColor\"/>\n",
       "    <text dy=\"1.25em\" style=\"font-size: 0.8em; letter-spacing: 1px\">\n",
       "        <textPath xlink:href=\"#arrow-9cf110e8f4c44bf88c47fce143d631e3-0-21\" class=\"displacy-label\" startOffset=\"50%\" side=\"left\" fill=\"currentColor\" text-anchor=\"middle\">det</textPath>\n",
       "    </text>\n",
       "    <path class=\"displacy-arrowhead\" d=\"M3920,529.0 L3912,517.0 3928,517.0\" fill=\"currentColor\"/>\n",
       "</g>\n",
       "\n",
       "<g class=\"displacy-arrow\">\n",
       "    <path class=\"displacy-arc\" id=\"arrow-9cf110e8f4c44bf88c47fce143d631e3-0-22\" stroke-width=\"2px\" d=\"M3745,527.0 C3745,352.0 4055.0,352.0 4055.0,527.0\" fill=\"none\" stroke=\"currentColor\"/>\n",
       "    <text dy=\"1.25em\" style=\"font-size: 0.8em; letter-spacing: 1px\">\n",
       "        <textPath xlink:href=\"#arrow-9cf110e8f4c44bf88c47fce143d631e3-0-22\" class=\"displacy-label\" startOffset=\"50%\" side=\"left\" fill=\"currentColor\" text-anchor=\"middle\">pobj</textPath>\n",
       "    </text>\n",
       "    <path class=\"displacy-arrowhead\" d=\"M4055.0,529.0 L4063.0,517.0 4047.0,517.0\" fill=\"currentColor\"/>\n",
       "</g>\n",
       "\n",
       "<g class=\"displacy-arrow\">\n",
       "    <path class=\"displacy-arc\" id=\"arrow-9cf110e8f4c44bf88c47fce143d631e3-0-23\" stroke-width=\"2px\" d=\"M4270,527.0 C4270,439.5 4400.0,439.5 4400.0,527.0\" fill=\"none\" stroke=\"currentColor\"/>\n",
       "    <text dy=\"1.25em\" style=\"font-size: 0.8em; letter-spacing: 1px\">\n",
       "        <textPath xlink:href=\"#arrow-9cf110e8f4c44bf88c47fce143d631e3-0-23\" class=\"displacy-label\" startOffset=\"50%\" side=\"left\" fill=\"currentColor\" text-anchor=\"middle\">det</textPath>\n",
       "    </text>\n",
       "    <path class=\"displacy-arrowhead\" d=\"M4270,529.0 L4262,517.0 4278,517.0\" fill=\"currentColor\"/>\n",
       "</g>\n",
       "\n",
       "<g class=\"displacy-arrow\">\n",
       "    <path class=\"displacy-arc\" id=\"arrow-9cf110e8f4c44bf88c47fce143d631e3-0-24\" stroke-width=\"2px\" d=\"M3220,527.0 C3220,264.5 4410.0,264.5 4410.0,527.0\" fill=\"none\" stroke=\"currentColor\"/>\n",
       "    <text dy=\"1.25em\" style=\"font-size: 0.8em; letter-spacing: 1px\">\n",
       "        <textPath xlink:href=\"#arrow-9cf110e8f4c44bf88c47fce143d631e3-0-24\" class=\"displacy-label\" startOffset=\"50%\" side=\"left\" fill=\"currentColor\" text-anchor=\"middle\">dobj</textPath>\n",
       "    </text>\n",
       "    <path class=\"displacy-arrowhead\" d=\"M4410.0,529.0 L4418.0,517.0 4402.0,517.0\" fill=\"currentColor\"/>\n",
       "</g>\n",
       "\n",
       "<g class=\"displacy-arrow\">\n",
       "    <path class=\"displacy-arc\" id=\"arrow-9cf110e8f4c44bf88c47fce143d631e3-0-25\" stroke-width=\"2px\" d=\"M4445,527.0 C4445,439.5 4575.0,439.5 4575.0,527.0\" fill=\"none\" stroke=\"currentColor\"/>\n",
       "    <text dy=\"1.25em\" style=\"font-size: 0.8em; letter-spacing: 1px\">\n",
       "        <textPath xlink:href=\"#arrow-9cf110e8f4c44bf88c47fce143d631e3-0-25\" class=\"displacy-label\" startOffset=\"50%\" side=\"left\" fill=\"currentColor\" text-anchor=\"middle\">prep</textPath>\n",
       "    </text>\n",
       "    <path class=\"displacy-arrowhead\" d=\"M4575.0,529.0 L4583.0,517.0 4567.0,517.0\" fill=\"currentColor\"/>\n",
       "</g>\n",
       "\n",
       "<g class=\"displacy-arrow\">\n",
       "    <path class=\"displacy-arc\" id=\"arrow-9cf110e8f4c44bf88c47fce143d631e3-0-26\" stroke-width=\"2px\" d=\"M4795,527.0 C4795,352.0 5105.0,352.0 5105.0,527.0\" fill=\"none\" stroke=\"currentColor\"/>\n",
       "    <text dy=\"1.25em\" style=\"font-size: 0.8em; letter-spacing: 1px\">\n",
       "        <textPath xlink:href=\"#arrow-9cf110e8f4c44bf88c47fce143d631e3-0-26\" class=\"displacy-label\" startOffset=\"50%\" side=\"left\" fill=\"currentColor\" text-anchor=\"middle\">nmod</textPath>\n",
       "    </text>\n",
       "    <path class=\"displacy-arrowhead\" d=\"M4795,529.0 L4787,517.0 4803,517.0\" fill=\"currentColor\"/>\n",
       "</g>\n",
       "\n",
       "<g class=\"displacy-arrow\">\n",
       "    <path class=\"displacy-arc\" id=\"arrow-9cf110e8f4c44bf88c47fce143d631e3-0-27\" stroke-width=\"2px\" d=\"M4970,527.0 C4970,439.5 5100.0,439.5 5100.0,527.0\" fill=\"none\" stroke=\"currentColor\"/>\n",
       "    <text dy=\"1.25em\" style=\"font-size: 0.8em; letter-spacing: 1px\">\n",
       "        <textPath xlink:href=\"#arrow-9cf110e8f4c44bf88c47fce143d631e3-0-27\" class=\"displacy-label\" startOffset=\"50%\" side=\"left\" fill=\"currentColor\" text-anchor=\"middle\">nummod</textPath>\n",
       "    </text>\n",
       "    <path class=\"displacy-arrowhead\" d=\"M4970,529.0 L4962,517.0 4978,517.0\" fill=\"currentColor\"/>\n",
       "</g>\n",
       "\n",
       "<g class=\"displacy-arrow\">\n",
       "    <path class=\"displacy-arc\" id=\"arrow-9cf110e8f4c44bf88c47fce143d631e3-0-28\" stroke-width=\"2px\" d=\"M4620,527.0 C4620,264.5 5110.0,264.5 5110.0,527.0\" fill=\"none\" stroke=\"currentColor\"/>\n",
       "    <text dy=\"1.25em\" style=\"font-size: 0.8em; letter-spacing: 1px\">\n",
       "        <textPath xlink:href=\"#arrow-9cf110e8f4c44bf88c47fce143d631e3-0-28\" class=\"displacy-label\" startOffset=\"50%\" side=\"left\" fill=\"currentColor\" text-anchor=\"middle\">pobj</textPath>\n",
       "    </text>\n",
       "    <path class=\"displacy-arrowhead\" d=\"M5110.0,529.0 L5118.0,517.0 5102.0,517.0\" fill=\"currentColor\"/>\n",
       "</g>\n",
       "\n",
       "<g class=\"displacy-arrow\">\n",
       "    <path class=\"displacy-arc\" id=\"arrow-9cf110e8f4c44bf88c47fce143d631e3-0-29\" stroke-width=\"2px\" d=\"M5145,527.0 C5145,439.5 5275.0,439.5 5275.0,527.0\" fill=\"none\" stroke=\"currentColor\"/>\n",
       "    <text dy=\"1.25em\" style=\"font-size: 0.8em; letter-spacing: 1px\">\n",
       "        <textPath xlink:href=\"#arrow-9cf110e8f4c44bf88c47fce143d631e3-0-29\" class=\"displacy-label\" startOffset=\"50%\" side=\"left\" fill=\"currentColor\" text-anchor=\"middle\">prep</textPath>\n",
       "    </text>\n",
       "    <path class=\"displacy-arrowhead\" d=\"M5275.0,529.0 L5283.0,517.0 5267.0,517.0\" fill=\"currentColor\"/>\n",
       "</g>\n",
       "\n",
       "<g class=\"displacy-arrow\">\n",
       "    <path class=\"displacy-arc\" id=\"arrow-9cf110e8f4c44bf88c47fce143d631e3-0-30\" stroke-width=\"2px\" d=\"M5495,527.0 C5495,439.5 5625.0,439.5 5625.0,527.0\" fill=\"none\" stroke=\"currentColor\"/>\n",
       "    <text dy=\"1.25em\" style=\"font-size: 0.8em; letter-spacing: 1px\">\n",
       "        <textPath xlink:href=\"#arrow-9cf110e8f4c44bf88c47fce143d631e3-0-30\" class=\"displacy-label\" startOffset=\"50%\" side=\"left\" fill=\"currentColor\" text-anchor=\"middle\">det</textPath>\n",
       "    </text>\n",
       "    <path class=\"displacy-arrowhead\" d=\"M5495,529.0 L5487,517.0 5503,517.0\" fill=\"currentColor\"/>\n",
       "</g>\n",
       "\n",
       "<g class=\"displacy-arrow\">\n",
       "    <path class=\"displacy-arc\" id=\"arrow-9cf110e8f4c44bf88c47fce143d631e3-0-31\" stroke-width=\"2px\" d=\"M5320,527.0 C5320,352.0 5630.0,352.0 5630.0,527.0\" fill=\"none\" stroke=\"currentColor\"/>\n",
       "    <text dy=\"1.25em\" style=\"font-size: 0.8em; letter-spacing: 1px\">\n",
       "        <textPath xlink:href=\"#arrow-9cf110e8f4c44bf88c47fce143d631e3-0-31\" class=\"displacy-label\" startOffset=\"50%\" side=\"left\" fill=\"currentColor\" text-anchor=\"middle\">pobj</textPath>\n",
       "    </text>\n",
       "    <path class=\"displacy-arrowhead\" d=\"M5630.0,529.0 L5638.0,517.0 5622.0,517.0\" fill=\"currentColor\"/>\n",
       "</g>\n",
       "\n",
       "<g class=\"displacy-arrow\">\n",
       "    <path class=\"displacy-arc\" id=\"arrow-9cf110e8f4c44bf88c47fce143d631e3-0-32\" stroke-width=\"2px\" d=\"M5670,527.0 C5670,439.5 5800.0,439.5 5800.0,527.0\" fill=\"none\" stroke=\"currentColor\"/>\n",
       "    <text dy=\"1.25em\" style=\"font-size: 0.8em; letter-spacing: 1px\">\n",
       "        <textPath xlink:href=\"#arrow-9cf110e8f4c44bf88c47fce143d631e3-0-32\" class=\"displacy-label\" startOffset=\"50%\" side=\"left\" fill=\"currentColor\" text-anchor=\"middle\">prep</textPath>\n",
       "    </text>\n",
       "    <path class=\"displacy-arrowhead\" d=\"M5800.0,529.0 L5808.0,517.0 5792.0,517.0\" fill=\"currentColor\"/>\n",
       "</g>\n",
       "\n",
       "<g class=\"displacy-arrow\">\n",
       "    <path class=\"displacy-arc\" id=\"arrow-9cf110e8f4c44bf88c47fce143d631e3-0-33\" stroke-width=\"2px\" d=\"M5845,527.0 C5845,439.5 5975.0,439.5 5975.0,527.0\" fill=\"none\" stroke=\"currentColor\"/>\n",
       "    <text dy=\"1.25em\" style=\"font-size: 0.8em; letter-spacing: 1px\">\n",
       "        <textPath xlink:href=\"#arrow-9cf110e8f4c44bf88c47fce143d631e3-0-33\" class=\"displacy-label\" startOffset=\"50%\" side=\"left\" fill=\"currentColor\" text-anchor=\"middle\">pobj</textPath>\n",
       "    </text>\n",
       "    <path class=\"displacy-arrowhead\" d=\"M5975.0,529.0 L5983.0,517.0 5967.0,517.0\" fill=\"currentColor\"/>\n",
       "</g>\n",
       "\n",
       "<g class=\"displacy-arrow\">\n",
       "    <path class=\"displacy-arc\" id=\"arrow-9cf110e8f4c44bf88c47fce143d631e3-0-34\" stroke-width=\"2px\" d=\"M6195,527.0 C6195,352.0 6505.0,352.0 6505.0,527.0\" fill=\"none\" stroke=\"currentColor\"/>\n",
       "    <text dy=\"1.25em\" style=\"font-size: 0.8em; letter-spacing: 1px\">\n",
       "        <textPath xlink:href=\"#arrow-9cf110e8f4c44bf88c47fce143d631e3-0-34\" class=\"displacy-label\" startOffset=\"50%\" side=\"left\" fill=\"currentColor\" text-anchor=\"middle\">det</textPath>\n",
       "    </text>\n",
       "    <path class=\"displacy-arrowhead\" d=\"M6195,529.0 L6187,517.0 6203,517.0\" fill=\"currentColor\"/>\n",
       "</g>\n",
       "\n",
       "<g class=\"displacy-arrow\">\n",
       "    <path class=\"displacy-arc\" id=\"arrow-9cf110e8f4c44bf88c47fce143d631e3-0-35\" stroke-width=\"2px\" d=\"M6370,527.0 C6370,439.5 6500.0,439.5 6500.0,527.0\" fill=\"none\" stroke=\"currentColor\"/>\n",
       "    <text dy=\"1.25em\" style=\"font-size: 0.8em; letter-spacing: 1px\">\n",
       "        <textPath xlink:href=\"#arrow-9cf110e8f4c44bf88c47fce143d631e3-0-35\" class=\"displacy-label\" startOffset=\"50%\" side=\"left\" fill=\"currentColor\" text-anchor=\"middle\">nummod</textPath>\n",
       "    </text>\n",
       "    <path class=\"displacy-arrowhead\" d=\"M6370,529.0 L6362,517.0 6378,517.0\" fill=\"currentColor\"/>\n",
       "</g>\n",
       "\n",
       "<g class=\"displacy-arrow\">\n",
       "    <path class=\"displacy-arc\" id=\"arrow-9cf110e8f4c44bf88c47fce143d631e3-0-36\" stroke-width=\"2px\" d=\"M3220,527.0 C3220,177.0 6515.0,177.0 6515.0,527.0\" fill=\"none\" stroke=\"currentColor\"/>\n",
       "    <text dy=\"1.25em\" style=\"font-size: 0.8em; letter-spacing: 1px\">\n",
       "        <textPath xlink:href=\"#arrow-9cf110e8f4c44bf88c47fce143d631e3-0-36\" class=\"displacy-label\" startOffset=\"50%\" side=\"left\" fill=\"currentColor\" text-anchor=\"middle\">npadvmod</textPath>\n",
       "    </text>\n",
       "    <path class=\"displacy-arrowhead\" d=\"M6515.0,529.0 L6523.0,517.0 6507.0,517.0\" fill=\"currentColor\"/>\n",
       "</g>\n",
       "</svg></span>"
      ],
      "text/plain": [
       "<IPython.core.display.HTML object>"
      ]
     },
     "metadata": {},
     "output_type": "display_data"
    }
   ],
   "source": [
    "claim_doc = nlp(normalize_pipeline(pairs.iloc[pair_index][\"claim_text\"]))\n",
    "evidence_doc = nlp(normalize_pipeline(pairs.iloc[pair_index][\"evidence_text\"]))\n",
    "displacy.render(claim_doc, style=\"dep\")\n",
    "displacy.render(evidence_doc, style=\"dep\")"
   ]
  },
  {
   "attachments": {},
   "cell_type": "markdown",
   "metadata": {},
   "source": [
    "## Info Tag extraction"
   ]
  },
  {
   "cell_type": "code",
   "execution_count": 9,
   "metadata": {},
   "outputs": [],
   "source": [
    "@dataclass\n",
    "class InfoTag:\n",
    "    tag:str\n",
    "    verb_pos:int = 0"
   ]
  },
  {
   "cell_type": "code",
   "execution_count": 10,
   "metadata": {},
   "outputs": [],
   "source": [
    "def get_info_tags(doc, go_nouns:List[str] = []) -> List[InfoTag]:\n",
    "    \n",
    "    info_tags = list()\n",
    "    seen = list()\n",
    "    seen_tags = list()\n",
    "    \n",
    "    def add_tag(tag_txt:str, info_tags=info_tags, seen_tags=seen_tags):\n",
    "        if tag_txt not in seen_tags:\n",
    "            info_tags += [InfoTag(tag = tag_txt, verb_pos=verb_pos)]\n",
    "            seen_tags += [tag_txt]\n",
    "        return\n",
    "    \n",
    "    verb_pos = 0\n",
    "    for token in (doc):\n",
    "        \n",
    "        # Skip if we have seen the token before\n",
    "        if token.lemma_ in seen:\n",
    "            continue\n",
    "        \n",
    "        # Increment the relative verb position\n",
    "        if token.pos_ in [\"VERB\"]:\n",
    "            verb_pos += 1\n",
    "        \n",
    "        # Include it if it is in the whitelist of go_nouns\n",
    "        if token.lemma_ in go_nouns:\n",
    "            # info_tags += [InfoTag(tag=token.lemma_, verb_pos=verb_pos)]\n",
    "            tag_txt = token.lemma_\n",
    "            add_tag(tag_txt)\n",
    "        \n",
    "        # Include it if it is a (proper)noun\n",
    "        if token.pos_ in [\"PROPN\", \"NOUN\"]:\n",
    "            # info_tags += [InfoTag(tag=token.lemma_, verb_pos=verb_pos)]\n",
    "            tag_txt = token.lemma_\n",
    "            add_tag(tag_txt)\n",
    "        \n",
    "        # Merge proper noun compounds\n",
    "        if token.pos_ in [\"PROPN\"]:\n",
    "            tag = [token.lemma_]\n",
    "            seen += [token.lemma_]\n",
    "            this_token = token\n",
    "            while this_token.dep_ in [\"compound\"]:\n",
    "                this_token = this_token.head\n",
    "                tag += [this_token.lemma_]\n",
    "                seen += [this_token.lemma_]\n",
    "            tag_txt = \" \".join(tag)\n",
    "            add_tag(tag_txt)\n",
    "            # continue\n",
    "        \n",
    "        # Merge noun compounds\n",
    "        if (token.pos_ in [\"NOUN\"]\n",
    "            and token.dep_ in [\"compound\"]\n",
    "            and token.head.pos_ == \"NOUN\"\n",
    "        ):\n",
    "            tag = [token.lemma_, token.head.lemma_]\n",
    "            seen += tag\n",
    "            # info_tags += [InfoTag(tag = \" \".join(tag), verb_pos=verb_pos)]\n",
    "            tag_txt = \" \".join(tag)\n",
    "            add_tag(tag_txt)\n",
    "            # continue\n",
    "        \n",
    "        # Add possessive or subject nouns/pronouns\n",
    "        # if (\n",
    "        #     token.pos_ in [\"NOUN\"]\n",
    "        #     and token.dep_ in [\"poss\", \"nsubj\", \"expl\"]\n",
    "        # ):\n",
    "        #     tag = [token.lemma_]\n",
    "        #     seen += tag\n",
    "        #     info_tags += [InfoTag(tag = \" \".join(tag), verb_pos=verb_pos)]\n",
    "            # continue\n",
    "        \n",
    "        # Add nouns with determiners\n",
    "        # if (\n",
    "        #     token.pos_ in [\"DET\"]\n",
    "        #     and token.dep_ in [\"det\"]\n",
    "        #     and token.head.pos_ in [\"NOUN\"]\n",
    "        # ):\n",
    "        #     tag = [token.head.lemma_]\n",
    "        #     seen += tag\n",
    "        #     info_tags += [InfoTag(tag = \" \".join(tag), verb_pos=verb_pos)]\n",
    "            # continue\n",
    "        \n",
    "        # Add root nouns\n",
    "        # if (\n",
    "        #     token.pos_ in [\"NOUN\"]\n",
    "        #     and token.dep_ in [\"ROOT\"]\n",
    "        # ):\n",
    "        #     tag = [token.lemma_]\n",
    "        #     seen += tag\n",
    "        #     info_tags += [InfoTag(tag = \" \".join(tag), verb_pos=verb_pos)]\n",
    "            # continue\n",
    "        \n",
    "        # Merge Nouns with adjective modifiers\n",
    "        if (\n",
    "            token.pos_ in [\"ADJ\"]\n",
    "            and token.dep_ in [\"amod\"]\n",
    "            and token.head.pos_ in [\"NOUN\"]\n",
    "            and token.head.dep_ not in [\"compound\"]\n",
    "        ):\n",
    "            tag = [token.lemma_, token.head.lemma_]\n",
    "            seen += tag\n",
    "            # info_tags += [InfoTag(tag = \" \".join(tag), verb_pos=verb_pos)]\n",
    "            tag_txt = \" \".join(tag)\n",
    "            add_tag(tag_txt)\n",
    "            # continue\n",
    "        \n",
    "        # Adjectives linked to verbs and nouns\n",
    "        if (\n",
    "            token.pos_ in [\"ADJ\"]\n",
    "            and token.head.pos_ in [\"VERB\", \"NOUN\"]\n",
    "        ):\n",
    "            tag = [token.lemma_]\n",
    "            seen += tag\n",
    "            # info_tags += [InfoTag(tag = \" \".join(tag), verb_pos=verb_pos)]\n",
    "            tag_txt = \" \".join(tag)\n",
    "            add_tag(tag_txt)\n",
    "            # continue\n",
    "        \n",
    "        continue\n",
    "\n",
    "    return info_tags\n"
   ]
  },
  {
   "cell_type": "code",
   "execution_count": 11,
   "metadata": {},
   "outputs": [],
   "source": [
    "go_nouns = [\n",
    "    'warming',\n",
    "    'climate',\n",
    "    'temperature',\n",
    "    'CO2',\n",
    "    'level',\n",
    "    'ice',\n",
    "    'change',\n",
    "    'sea',\n",
    "    'carbon',\n",
    "    'scientist',\n",
    "    'absorb'\n",
    "]"
   ]
  },
  {
   "cell_type": "code",
   "execution_count": 12,
   "metadata": {},
   "outputs": [
    {
     "data": {
      "text/plain": [
       "[InfoTag(tag='greg', verb_pos=0),\n",
       " InfoTag(tag='greg research', verb_pos=0),\n",
       " InfoTag(tag='hunt', verb_pos=0),\n",
       " InfoTag(tag='hunt research', verb_pos=0),\n",
       " InfoTag(tag='csiro', verb_pos=0),\n",
       " InfoTag(tag='csiro research', verb_pos=0),\n",
       " InfoTag(tag='carbon', verb_pos=1),\n",
       " InfoTag(tag='carbon emission', verb_pos=1),\n",
       " InfoTag(tag='cent', verb_pos=2),\n",
       " InfoTag(tag='year', verb_pos=2),\n",
       " InfoTag(tag='nature', verb_pos=3),\n",
       " InfoTag(tag='nature soil', verb_pos=3),\n",
       " InfoTag(tag='tree', verb_pos=3)]"
      ]
     },
     "execution_count": 12,
     "metadata": {},
     "output_type": "execute_result"
    }
   ],
   "source": [
    "claim_tags = get_info_tags(claim_doc, go_nouns=go_nouns)\n",
    "claim_tags"
   ]
  },
  {
   "cell_type": "code",
   "execution_count": 13,
   "metadata": {},
   "outputs": [
    {
     "data": {
      "text/plain": [
       "[InfoTag(tag='u', verb_pos=1),\n",
       " InfoTag(tag='carbon', verb_pos=1),\n",
       " InfoTag(tag='carbon dioxide', verb_pos=1),\n",
       " InfoTag(tag='emission', verb_pos=1),\n",
       " InfoTag(tag='percent', verb_pos=1),\n",
       " InfoTag(tag='kyoto', verb_pos=2),\n",
       " InfoTag(tag='kyoto protocol', verb_pos=2),\n",
       " InfoTag(tag='planting', verb_pos=3),\n",
       " InfoTag(tag='area', verb_pos=3),\n",
       " InfoTag(tag='size', verb_pos=3),\n",
       " InfoTag(tag='texas', verb_pos=3),\n",
       " InfoTag(tag='brazil', verb_pos=3),\n",
       " InfoTag(tag='year', verb_pos=3)]"
      ]
     },
     "execution_count": 13,
     "metadata": {},
     "output_type": "execute_result"
    }
   ],
   "source": [
    "evidence_tags = get_info_tags(evidence_doc, go_nouns=go_nouns)\n",
    "evidence_tags"
   ]
  },
  {
   "attachments": {},
   "cell_type": "markdown",
   "metadata": {},
   "source": [
    "## Map subject relations"
   ]
  },
  {
   "cell_type": "code",
   "execution_count": 14,
   "metadata": {},
   "outputs": [],
   "source": [
    "from collections import defaultdict\n",
    "def map_subject_relation(\n",
    "    claim_tags:InfoTag,\n",
    "    evidence_tags:InfoTag,\n",
    "    verb_pos_threshold:int=0\n",
    ") -> defaultdict:\n",
    "    subj_relations = defaultdict(list)\n",
    "    for c_tag in claim_tags:\n",
    "        # if c_tag.verb_pos > verb_pos_threshold:\n",
    "        #     continue\n",
    "        for e_tag in evidence_tags:\n",
    "            # if e_tag.verb_pos > verb_pos_threshold:\n",
    "            #     continue\n",
    "            subj_relations[c_tag.tag].append(e_tag.tag)\n",
    "            subj_relations[e_tag.tag].append(c_tag.tag)\n",
    "    return subj_relations\n",
    "    "
   ]
  },
  {
   "cell_type": "code",
   "execution_count": 15,
   "metadata": {},
   "outputs": [
    {
     "data": {
      "text/plain": [
       "defaultdict(list,\n",
       "            {'greg': ['u',\n",
       "              'carbon',\n",
       "              'carbon dioxide',\n",
       "              'emission',\n",
       "              'percent',\n",
       "              'kyoto',\n",
       "              'kyoto protocol',\n",
       "              'planting',\n",
       "              'area',\n",
       "              'size',\n",
       "              'texas',\n",
       "              'brazil',\n",
       "              'year'],\n",
       "             'u': ['greg',\n",
       "              'greg research',\n",
       "              'hunt',\n",
       "              'hunt research',\n",
       "              'csiro',\n",
       "              'csiro research',\n",
       "              'carbon',\n",
       "              'carbon emission',\n",
       "              'cent',\n",
       "              'year',\n",
       "              'nature',\n",
       "              'nature soil',\n",
       "              'tree'],\n",
       "             'carbon': ['greg',\n",
       "              'greg research',\n",
       "              'hunt',\n",
       "              'hunt research',\n",
       "              'csiro',\n",
       "              'csiro research',\n",
       "              'u',\n",
       "              'carbon',\n",
       "              'carbon',\n",
       "              'carbon dioxide',\n",
       "              'emission',\n",
       "              'percent',\n",
       "              'kyoto',\n",
       "              'kyoto protocol',\n",
       "              'planting',\n",
       "              'area',\n",
       "              'size',\n",
       "              'texas',\n",
       "              'brazil',\n",
       "              'year',\n",
       "              'carbon emission',\n",
       "              'cent',\n",
       "              'year',\n",
       "              'nature',\n",
       "              'nature soil',\n",
       "              'tree'],\n",
       "             'carbon dioxide': ['greg',\n",
       "              'greg research',\n",
       "              'hunt',\n",
       "              'hunt research',\n",
       "              'csiro',\n",
       "              'csiro research',\n",
       "              'carbon',\n",
       "              'carbon emission',\n",
       "              'cent',\n",
       "              'year',\n",
       "              'nature',\n",
       "              'nature soil',\n",
       "              'tree'],\n",
       "             'emission': ['greg',\n",
       "              'greg research',\n",
       "              'hunt',\n",
       "              'hunt research',\n",
       "              'csiro',\n",
       "              'csiro research',\n",
       "              'carbon',\n",
       "              'carbon emission',\n",
       "              'cent',\n",
       "              'year',\n",
       "              'nature',\n",
       "              'nature soil',\n",
       "              'tree'],\n",
       "             'percent': ['greg',\n",
       "              'greg research',\n",
       "              'hunt',\n",
       "              'hunt research',\n",
       "              'csiro',\n",
       "              'csiro research',\n",
       "              'carbon',\n",
       "              'carbon emission',\n",
       "              'cent',\n",
       "              'year',\n",
       "              'nature',\n",
       "              'nature soil',\n",
       "              'tree'],\n",
       "             'kyoto': ['greg',\n",
       "              'greg research',\n",
       "              'hunt',\n",
       "              'hunt research',\n",
       "              'csiro',\n",
       "              'csiro research',\n",
       "              'carbon',\n",
       "              'carbon emission',\n",
       "              'cent',\n",
       "              'year',\n",
       "              'nature',\n",
       "              'nature soil',\n",
       "              'tree'],\n",
       "             'kyoto protocol': ['greg',\n",
       "              'greg research',\n",
       "              'hunt',\n",
       "              'hunt research',\n",
       "              'csiro',\n",
       "              'csiro research',\n",
       "              'carbon',\n",
       "              'carbon emission',\n",
       "              'cent',\n",
       "              'year',\n",
       "              'nature',\n",
       "              'nature soil',\n",
       "              'tree'],\n",
       "             'planting': ['greg',\n",
       "              'greg research',\n",
       "              'hunt',\n",
       "              'hunt research',\n",
       "              'csiro',\n",
       "              'csiro research',\n",
       "              'carbon',\n",
       "              'carbon emission',\n",
       "              'cent',\n",
       "              'year',\n",
       "              'nature',\n",
       "              'nature soil',\n",
       "              'tree'],\n",
       "             'area': ['greg',\n",
       "              'greg research',\n",
       "              'hunt',\n",
       "              'hunt research',\n",
       "              'csiro',\n",
       "              'csiro research',\n",
       "              'carbon',\n",
       "              'carbon emission',\n",
       "              'cent',\n",
       "              'year',\n",
       "              'nature',\n",
       "              'nature soil',\n",
       "              'tree'],\n",
       "             'size': ['greg',\n",
       "              'greg research',\n",
       "              'hunt',\n",
       "              'hunt research',\n",
       "              'csiro',\n",
       "              'csiro research',\n",
       "              'carbon',\n",
       "              'carbon emission',\n",
       "              'cent',\n",
       "              'year',\n",
       "              'nature',\n",
       "              'nature soil',\n",
       "              'tree'],\n",
       "             'texas': ['greg',\n",
       "              'greg research',\n",
       "              'hunt',\n",
       "              'hunt research',\n",
       "              'csiro',\n",
       "              'csiro research',\n",
       "              'carbon',\n",
       "              'carbon emission',\n",
       "              'cent',\n",
       "              'year',\n",
       "              'nature',\n",
       "              'nature soil',\n",
       "              'tree'],\n",
       "             'brazil': ['greg',\n",
       "              'greg research',\n",
       "              'hunt',\n",
       "              'hunt research',\n",
       "              'csiro',\n",
       "              'csiro research',\n",
       "              'carbon',\n",
       "              'carbon emission',\n",
       "              'cent',\n",
       "              'year',\n",
       "              'nature',\n",
       "              'nature soil',\n",
       "              'tree'],\n",
       "             'year': ['greg',\n",
       "              'greg research',\n",
       "              'hunt',\n",
       "              'hunt research',\n",
       "              'csiro',\n",
       "              'csiro research',\n",
       "              'carbon',\n",
       "              'carbon emission',\n",
       "              'cent',\n",
       "              'u',\n",
       "              'carbon',\n",
       "              'carbon dioxide',\n",
       "              'emission',\n",
       "              'percent',\n",
       "              'kyoto',\n",
       "              'kyoto protocol',\n",
       "              'planting',\n",
       "              'area',\n",
       "              'size',\n",
       "              'texas',\n",
       "              'brazil',\n",
       "              'year',\n",
       "              'year',\n",
       "              'nature',\n",
       "              'nature soil',\n",
       "              'tree'],\n",
       "             'greg research': ['u',\n",
       "              'carbon',\n",
       "              'carbon dioxide',\n",
       "              'emission',\n",
       "              'percent',\n",
       "              'kyoto',\n",
       "              'kyoto protocol',\n",
       "              'planting',\n",
       "              'area',\n",
       "              'size',\n",
       "              'texas',\n",
       "              'brazil',\n",
       "              'year'],\n",
       "             'hunt': ['u',\n",
       "              'carbon',\n",
       "              'carbon dioxide',\n",
       "              'emission',\n",
       "              'percent',\n",
       "              'kyoto',\n",
       "              'kyoto protocol',\n",
       "              'planting',\n",
       "              'area',\n",
       "              'size',\n",
       "              'texas',\n",
       "              'brazil',\n",
       "              'year'],\n",
       "             'hunt research': ['u',\n",
       "              'carbon',\n",
       "              'carbon dioxide',\n",
       "              'emission',\n",
       "              'percent',\n",
       "              'kyoto',\n",
       "              'kyoto protocol',\n",
       "              'planting',\n",
       "              'area',\n",
       "              'size',\n",
       "              'texas',\n",
       "              'brazil',\n",
       "              'year'],\n",
       "             'csiro': ['u',\n",
       "              'carbon',\n",
       "              'carbon dioxide',\n",
       "              'emission',\n",
       "              'percent',\n",
       "              'kyoto',\n",
       "              'kyoto protocol',\n",
       "              'planting',\n",
       "              'area',\n",
       "              'size',\n",
       "              'texas',\n",
       "              'brazil',\n",
       "              'year'],\n",
       "             'csiro research': ['u',\n",
       "              'carbon',\n",
       "              'carbon dioxide',\n",
       "              'emission',\n",
       "              'percent',\n",
       "              'kyoto',\n",
       "              'kyoto protocol',\n",
       "              'planting',\n",
       "              'area',\n",
       "              'size',\n",
       "              'texas',\n",
       "              'brazil',\n",
       "              'year'],\n",
       "             'carbon emission': ['u',\n",
       "              'carbon',\n",
       "              'carbon dioxide',\n",
       "              'emission',\n",
       "              'percent',\n",
       "              'kyoto',\n",
       "              'kyoto protocol',\n",
       "              'planting',\n",
       "              'area',\n",
       "              'size',\n",
       "              'texas',\n",
       "              'brazil',\n",
       "              'year'],\n",
       "             'cent': ['u',\n",
       "              'carbon',\n",
       "              'carbon dioxide',\n",
       "              'emission',\n",
       "              'percent',\n",
       "              'kyoto',\n",
       "              'kyoto protocol',\n",
       "              'planting',\n",
       "              'area',\n",
       "              'size',\n",
       "              'texas',\n",
       "              'brazil',\n",
       "              'year'],\n",
       "             'nature': ['u',\n",
       "              'carbon',\n",
       "              'carbon dioxide',\n",
       "              'emission',\n",
       "              'percent',\n",
       "              'kyoto',\n",
       "              'kyoto protocol',\n",
       "              'planting',\n",
       "              'area',\n",
       "              'size',\n",
       "              'texas',\n",
       "              'brazil',\n",
       "              'year'],\n",
       "             'nature soil': ['u',\n",
       "              'carbon',\n",
       "              'carbon dioxide',\n",
       "              'emission',\n",
       "              'percent',\n",
       "              'kyoto',\n",
       "              'kyoto protocol',\n",
       "              'planting',\n",
       "              'area',\n",
       "              'size',\n",
       "              'texas',\n",
       "              'brazil',\n",
       "              'year'],\n",
       "             'tree': ['u',\n",
       "              'carbon',\n",
       "              'carbon dioxide',\n",
       "              'emission',\n",
       "              'percent',\n",
       "              'kyoto',\n",
       "              'kyoto protocol',\n",
       "              'planting',\n",
       "              'area',\n",
       "              'size',\n",
       "              'texas',\n",
       "              'brazil',\n",
       "              'year']})"
      ]
     },
     "execution_count": 15,
     "metadata": {},
     "output_type": "execute_result"
    }
   ],
   "source": [
    "map_subject_relation(claim_tags, evidence_tags)"
   ]
  },
  {
   "attachments": {},
   "cell_type": "markdown",
   "metadata": {},
   "source": [
    "## Training"
   ]
  },
  {
   "cell_type": "code",
   "execution_count": 16,
   "metadata": {},
   "outputs": [],
   "source": [
    "DATA_PATH = ROOT_DIR.joinpath(\"./data/*\")\n",
    "SAVE_PATH = ROOT_DIR.joinpath(\"./result/pipeline/shortlisting_v2/*\")"
   ]
  },
  {
   "attachments": {},
   "cell_type": "markdown",
   "metadata": {},
   "source": [
    "### Info tag pipeline"
   ]
  },
  {
   "cell_type": "code",
   "execution_count": 17,
   "metadata": {},
   "outputs": [],
   "source": [
    "def info_tag_pipeline(\n",
    "    text:str,\n",
    "    go_nouns:list = [],\n",
    "    return_doc:bool=False\n",
    ") -> List[InfoTag]:\n",
    "    text = normalize_pipeline(text)\n",
    "    doc = nlp(text)\n",
    "    tags = get_info_tags(doc, go_nouns=go_nouns)\n",
    "    \n",
    "    if return_doc:\n",
    "        return tags, doc\n",
    "    else:\n",
    "        return tags"
   ]
  },
  {
   "attachments": {},
   "cell_type": "markdown",
   "metadata": {},
   "source": [
    "### Get top nouns"
   ]
  },
  {
   "cell_type": "code",
   "execution_count": 18,
   "metadata": {},
   "outputs": [],
   "source": [
    "def get_top_nouns(\n",
    "    claims_paths:List[Path],\n",
    "    save_path:Path = None,\n",
    "    k:int = 10,\n",
    "    stop_nouns:list = [],\n",
    "    with_counts:bool = True,\n",
    "    verbose:bool = True\n",
    "):\n",
    "    # Load the claims file\n",
    "    claims = dict()\n",
    "    for claims_path in claims_paths:\n",
    "        with open(claims_path, mode=\"r\") as f:\n",
    "            claims.update(json.load(f))\n",
    "    \n",
    "    # Cumulator\n",
    "    noun_counts = Counter()\n",
    "    \n",
    "    claim_obj = tqdm(claims.values(), desc=\"claims\", disable=not verbose)\n",
    "    for claim in claim_obj:\n",
    "        claim_text = claim[\"claim_text\"]\n",
    "        claim_doc = nlp(claim_text)\n",
    "        for token in claim_doc:\n",
    "            if token.pos_ in [\"NOUN\", \"PROPN\"] \\\n",
    "                and token.lemma_ not in stop_nouns:\n",
    "                noun_counts[token.lemma_] += 1\n",
    "    \n",
    "    top_k_nouns_counts = noun_counts.most_common(k)\n",
    "    top_k_nouns = [noun_count[0] for noun_count in top_k_nouns_counts]\n",
    "\n",
    "    if save_path:\n",
    "        with open(save_path, mode=\"w\") as f:\n",
    "            json.dump(obj=top_k_nouns, fp=f, cls=SetEncoder)\n",
    "            print(f\"saved to: {save_path}\")\n",
    "    \n",
    "    if with_counts:\n",
    "        return top_k_nouns_counts\n",
    "    else:\n",
    "        return top_k_nouns"
   ]
  },
  {
   "cell_type": "code",
   "execution_count": 19,
   "metadata": {},
   "outputs": [
    {
     "name": "stdout",
     "output_type": "stream",
     "text": [
      "loaded: /Users/johnsonzhou/git/comp90042-project/result/pipeline/shortlisting_v2/train_top_k_nouns.json\n"
     ]
    }
   ],
   "source": [
    "top_k_nouns_path = SAVE_PATH.with_name(\"train_top_k_nouns.json\")\n",
    "\n",
    "if top_k_nouns_path.exists():\n",
    "    \n",
    "    with open(top_k_nouns_path, mode=\"r\") as f:\n",
    "        top_k_nouns = json.load(f)\n",
    "        print(f\"loaded: {top_k_nouns_path}\")\n",
    "        \n",
    "else:\n",
    "    \n",
    "    top_k_nouns = get_top_nouns(\n",
    "        claims_paths=[DATA_PATH.with_name(\"train-claims.json\")],\n",
    "        save_path=top_k_nouns_path,\n",
    "        k=50,\n",
    "        stop_nouns=[\"year\"],\n",
    "        with_counts=True,\n",
    "    )\n",
    "# top_k_nouns"
   ]
  },
  {
   "attachments": {},
   "cell_type": "markdown",
   "metadata": {},
   "source": [
    "### Train subject relations"
   ]
  },
  {
   "cell_type": "code",
   "execution_count": 20,
   "metadata": {},
   "outputs": [],
   "source": [
    "def train_subject_relations(\n",
    "    claims_paths:List[Path],\n",
    "    evidence_path:Path,\n",
    "    save_path:Path = None,\n",
    "    verb_pos_threshold:int=0,\n",
    "    verbose:bool = True\n",
    ") -> DefaultDict[str, set]:\n",
    "    # Load the claims file\n",
    "    claims = dict()\n",
    "    for claims_path in claims_paths:\n",
    "        with open(claims_path, mode=\"r\") as f:\n",
    "            claims.update(json.load(f))\n",
    "    \n",
    "    # Load the evidence file\n",
    "    with open(evidence_path, mode=\"r\") as f:\n",
    "        evidences = json.load(f)\n",
    "    \n",
    "    # Cumulator\n",
    "    subject_relations = defaultdict(set) #todo\n",
    "    \n",
    "    claim_obj = tqdm(claims.values(), desc=\"claims\", disable=not verbose)\n",
    "    for claim in claim_obj:\n",
    "        claim_text = claim[\"claim_text\"]\n",
    "        for evidence_id in claim[\"evidences\"]:\n",
    "            evidence_text = evidences[evidence_id]\n",
    "            \n",
    "            claim_tags = info_tag_pipeline(text=claim_text)\n",
    "            evidence_tags = info_tag_pipeline(text=evidence_text)\n",
    "            \n",
    "            related_tags = map_subject_relation(\n",
    "                claim_tags=claim_tags,\n",
    "                evidence_tags=evidence_tags,\n",
    "                verb_pos_threshold=verb_pos_threshold\n",
    "            )\n",
    "            \n",
    "            for tag, related_tags in related_tags.items():\n",
    "                claim_obj.postfix = f\"n_rel: {len(related_tags)}\"\n",
    "                subject_relations[tag].update(related_tags) #todo\n",
    "    \n",
    "    if save_path:\n",
    "        with open(save_path, mode=\"w\") as f:\n",
    "            json.dump(obj=subject_relations, fp=f, cls=SetEncoder)\n",
    "            print(f\"saved to: {save_path}\")\n",
    "            \n",
    "    return subject_relations"
   ]
  },
  {
   "cell_type": "code",
   "execution_count": 21,
   "metadata": {},
   "outputs": [
    {
     "name": "stdout",
     "output_type": "stream",
     "text": [
      "loaded: /Users/johnsonzhou/git/comp90042-project/result/pipeline/shortlisting_v2/train_subject_relations.json\n"
     ]
    }
   ],
   "source": [
    "relation_save_path = SAVE_PATH.with_name(\"train_subject_relations.json\")\n",
    "\n",
    "if relation_save_path.exists():\n",
    "    \n",
    "    with open(relation_save_path, mode=\"r\") as f:\n",
    "        subject_relations = json.load(f)\n",
    "        print(f\"loaded: {relation_save_path}\")\n",
    "        \n",
    "else:\n",
    "    \n",
    "    subject_relations = train_subject_relations(\n",
    "        claims_paths=[DATA_PATH.with_name(\"train-claims.json\")],\n",
    "        evidence_path=DATA_PATH.with_name(\"evidence.json\"),\n",
    "        save_path=relation_save_path\n",
    "    )\n",
    "# subject_relations"
   ]
  },
  {
   "attachments": {},
   "cell_type": "markdown",
   "metadata": {},
   "source": [
    "### Tag evidences"
   ]
  },
  {
   "cell_type": "code",
   "execution_count": 22,
   "metadata": {},
   "outputs": [],
   "source": [
    "# For multiprocessing\n",
    "def get_evidence_tags_pool(\n",
    "    evidence,\n",
    "    info_tag_pipeline=info_tag_pipeline,\n",
    "    go_nouns=top_k_nouns\n",
    "):\n",
    "    evidence_id, evidence_text = evidence\n",
    "        \n",
    "    tags = info_tag_pipeline(text=evidence_text, go_nouns=go_nouns)\n",
    "\n",
    "    return evidence_id, tags"
   ]
  },
  {
   "cell_type": "code",
   "execution_count": 23,
   "metadata": {},
   "outputs": [],
   "source": [
    "def tag_evidences(\n",
    "    evidence_path:Path,\n",
    "    top_k_nouns_path:Path,\n",
    "    save_path:Path = None,\n",
    "    processes:int = 8,\n",
    "    verbose:bool = True\n",
    ") -> DefaultDict[str, set]:\n",
    "    \n",
    "    # Load the evidence file\n",
    "    with open(evidence_path, mode=\"r\") as f:\n",
    "        evidences = json.load(f)\n",
    "        \n",
    "    # Load the top k nouns file\n",
    "    with open(top_k_nouns_path, mode=\"r\") as f:\n",
    "        top_k_nouns = json.load(f)\n",
    "    \n",
    "    # Cumulator\n",
    "    evidence_tags = defaultdict(set)\n",
    "    \n",
    "    # Multiprocessing, can't get it to work\n",
    "    # evidences_iter = \\\n",
    "    #     tqdm([evidences.items()], desc=\"evidence\", disable=not verbose, leave=False)\n",
    "    \n",
    "    # with Pool(processes=processes) as pool:\n",
    "    #     pooled_evidence_tags = pool.imap(get_evidence_tags_pool, evidences_iter)\n",
    "        \n",
    "    # evidence_tags_iter = \\\n",
    "    #     tqdm(pooled_evidence_tags, desc=\"evidence tags\", disable=not verbose)\n",
    "    # for tags, evidence_id in evidence_tags_iter:\n",
    "    #     for tag in tags:\n",
    "    #         evidence_tags[tag.tag].add(evidence_id)\n",
    "    \n",
    "    evidences_iter = tqdm(evidences.items(), desc=\"claims\", disable=not verbose)\n",
    "    for evidence_id, evidence_text in evidences_iter:\n",
    "        \n",
    "        tags = info_tag_pipeline(text=evidence_text, go_nouns=top_k_nouns)\n",
    "        \n",
    "        for tag in tags:\n",
    "            evidence_tags[tag.tag].add(evidence_id)\n",
    "        \n",
    "        evidences_iter.postfix = f\"n_tags: {len(tags)}\"\n",
    "        \n",
    "        continue\n",
    "    \n",
    "    if save_path:\n",
    "        with open(save_path, mode=\"w\") as f:\n",
    "            json.dump(obj=evidence_tags, fp=f, cls=SetEncoder)\n",
    "            print(f\"saved to: {save_path}\")\n",
    "\n",
    "    return evidence_tags\n"
   ]
  },
  {
   "cell_type": "code",
   "execution_count": 24,
   "metadata": {},
   "outputs": [
    {
     "name": "stdout",
     "output_type": "stream",
     "text": [
      "loaded: /Users/johnsonzhou/git/comp90042-project/result/pipeline/shortlisting_v2/tagged_evidences.json\n"
     ]
    }
   ],
   "source": [
    "tagged_evidences_path = SAVE_PATH.with_name(\"tagged_evidences.json\")\n",
    "\n",
    "if tagged_evidences_path.exists():\n",
    "    \n",
    "    with open(tagged_evidences_path, mode=\"r\") as f:\n",
    "        tagged_evidences = json.load(f)\n",
    "        print(f\"loaded: {tagged_evidences_path}\")\n",
    "        \n",
    "else:\n",
    "    \n",
    "    tagged_evidences = tag_evidences(\n",
    "        evidence_path=DATA_PATH.with_name(\"evidence.json\"),\n",
    "        top_k_nouns_path=top_k_nouns_path,\n",
    "        save_path=tagged_evidences_path\n",
    "    )\n",
    "# tagged_evidences"
   ]
  },
  {
   "attachments": {},
   "cell_type": "markdown",
   "metadata": {},
   "source": [
    "### Tag evidences with char n-gram"
   ]
  },
  {
   "cell_type": "code",
   "execution_count": 25,
   "metadata": {},
   "outputs": [],
   "source": [
    "def get_bidirectional_n_grams(doc, n:int=4):\n",
    "    fwd_ngrams = [token.lemma_[:n] for token in doc if len(token.lemma_) >= n]\n",
    "    rev_ngrams = [token.lemma_[-n:] for token in doc if len(token.lemma_) >= n]\n",
    "    return fwd_ngrams, rev_ngrams"
   ]
  },
  {
   "cell_type": "code",
   "execution_count": 26,
   "metadata": {},
   "outputs": [],
   "source": [
    "def get_ngram_evidences(\n",
    "    evidence_path:Path,\n",
    "    n_list:list = [4, 5, 6],\n",
    "    save_path_fwd:Path = None,\n",
    "    save_path_rev:Path = None,\n",
    "    verbose:bool = True\n",
    "):\n",
    "    # Load the evidence file\n",
    "    with open(evidence_path, mode=\"r\") as f:\n",
    "        evidences = json.load(f)\n",
    "    \n",
    "    # Cumulator\n",
    "    fwd_evidence_ngrams = defaultdict(set)\n",
    "    rev_evidence_ngrams = defaultdict(set)\n",
    "    \n",
    "    evidences_iter = tqdm(evidences.items(), desc=\"claims\", disable=not verbose)\n",
    "    for evidence_id, evidence_text in evidences_iter:\n",
    "        \n",
    "        text = normalize_pipeline(evidence_text)\n",
    "        doc = nlp(text)\n",
    "        \n",
    "        for n in n_list:\n",
    "            fwd_ngrams, rev_ngrams = get_bidirectional_n_grams(doc, n=n)\n",
    "            \n",
    "            for ngram in fwd_ngrams:\n",
    "                fwd_evidence_ngrams[ngram].add(evidence_id)\n",
    "                \n",
    "            for ngram in rev_ngrams:\n",
    "                rev_evidence_ngrams[ngram].add(evidence_id)\n",
    "            \n",
    "        continue\n",
    "    \n",
    "    if save_path_fwd and save_path_rev:\n",
    "        with open(save_path_fwd, mode=\"w\") as f:\n",
    "            json.dump(obj=fwd_evidence_ngrams, fp=f, cls=SetEncoder)\n",
    "            print(f\"saved to: {save_path_fwd}\")\n",
    "        with open(save_path_rev, mode=\"w\") as f:\n",
    "            json.dump(obj=rev_evidence_ngrams, fp=f, cls=SetEncoder)\n",
    "            print(f\"saved to: {save_path_rev}\")\n",
    "    \n",
    "    return fwd_evidence_ngrams, rev_evidence_ngrams"
   ]
  },
  {
   "cell_type": "code",
   "execution_count": 27,
   "metadata": {},
   "outputs": [
    {
     "name": "stdout",
     "output_type": "stream",
     "text": [
      "loaded: /Users/johnsonzhou/git/comp90042-project/result/pipeline/shortlisting_v2/train_fwd_ngram_evidences.json\n",
      "loaded: /Users/johnsonzhou/git/comp90042-project/result/pipeline/shortlisting_v2/train_rev_ngram_evidences.json\n"
     ]
    }
   ],
   "source": [
    "fwd_ngram_evidences_path = SAVE_PATH.with_name(\"train_fwd_ngram_evidences.json\")\n",
    "rev_ngram_evidences_path = SAVE_PATH.with_name(\"train_rev_ngram_evidences.json\")\n",
    "\n",
    "if fwd_ngram_evidences_path.exists():\n",
    "    \n",
    "    with open(fwd_ngram_evidences_path, mode=\"r\") as f:\n",
    "        fwd_ngram_evidences = json.load(f)\n",
    "        print(f\"loaded: {fwd_ngram_evidences_path}\")\n",
    "        \n",
    "    with open(rev_ngram_evidences_path, mode=\"r\") as f:\n",
    "        rev_ngram_evidences = json.load(f)\n",
    "        print(f\"loaded: {rev_ngram_evidences_path}\")\n",
    "\n",
    "else:\n",
    "    \n",
    "    fwd_ngram_evidences, rev_ngram_evidences = get_ngram_evidences(\n",
    "        evidence_path=DATA_PATH.with_name(\"evidence.json\"),\n",
    "        n_list=[3, 4, 5, 6, 7, 8],\n",
    "        save_path_fwd=fwd_ngram_evidences_path,\n",
    "        save_path_rev=rev_ngram_evidences_path\n",
    "    )\n",
    "    \n",
    "# fwd_ngram_evidences"
   ]
  },
  {
   "attachments": {},
   "cell_type": "markdown",
   "metadata": {},
   "source": [
    "### Get evidence shortlist by claim"
   ]
  },
  {
   "cell_type": "code",
   "execution_count": 39,
   "metadata": {},
   "outputs": [],
   "source": [
    "def get_evidence_shortlist(\n",
    "    claims_paths:List[Path],\n",
    "    related_tags_path:Path,\n",
    "    tagged_evidence_path:Path,\n",
    "    fwd_ngram_evidences_path:Path,\n",
    "    rev_ngram_evidences_path:Path,\n",
    "    ngram_list:list = [3, 4, 5, 6, 7, 8],\n",
    "    save_path:Path = None,\n",
    "    evidence_count_threshold:int=999,\n",
    "    ngram_evidence_count_threshold:int=10,\n",
    "    verb_pos_threshold:int=0,\n",
    "    min_tag_match_threshold:int=2,\n",
    "    min_ngram_match_threshold:int=2,\n",
    "    min_all_match_threshold:int=2,\n",
    "    min_tag_match_ratio:float=0.6,\n",
    "    min_tag_match_offset:int=2,\n",
    "    max_retrieved:int=1000,\n",
    "    stop_tags:list=[],\n",
    "    verbose:bool = True\n",
    "):\n",
    "    # Load the claims file\n",
    "    claims = dict()\n",
    "    for claims_path in claims_paths:\n",
    "        with open(claims_path, mode=\"r\") as f:\n",
    "            claims.update(json.load(f))\n",
    "    \n",
    "    # Load the related tags file\n",
    "    with open(related_tags_path, mode=\"r\") as f:\n",
    "        related_tags = json.load(f)\n",
    "        \n",
    "    # Load the tagged evidences file\n",
    "    with open(tagged_evidence_path, mode=\"r\") as f:\n",
    "        tagged_evidences = json.load(f)\n",
    "    \n",
    "    # Load the evidence ngrams files\n",
    "    with open(fwd_ngram_evidences_path, mode=\"r\") as f:\n",
    "        fwd_ngram_evidences = json.load(f)\n",
    "        print(f\"loaded: {fwd_ngram_evidences_path}\")\n",
    "\n",
    "    with open(rev_ngram_evidences_path, mode=\"r\") as f:\n",
    "        rev_ngram_evidences = json.load(f)\n",
    "        print(f\"loaded: {rev_ngram_evidences_path}\")\n",
    "    \n",
    "    # Cumulator\n",
    "    claim_evidences = defaultdict(set)\n",
    "    missed_retrievals = defaultdict(set)\n",
    "    retrieval_counts = []\n",
    "    retrieval_recalls = []\n",
    "    all_unique_tags = set()\n",
    "    \n",
    "    claim_obj = tqdm(claims.items(), desc=\"claims\", disable=not verbose)\n",
    "    for claim_id, claim in claim_obj:\n",
    "        # Get claim direct tags\n",
    "        tags = set()\n",
    "        claim_text = claim[\"claim_text\"]\n",
    "        claim_tags, claim_doc = info_tag_pipeline(text=claim_text, return_doc=True)\n",
    "        for tag in claim_tags:\n",
    "            tags.add(tag.tag)\n",
    "            all_unique_tags.add(tag.tag) #!\n",
    "        \n",
    "        original_tags = tags.copy() #!\n",
    "            \n",
    "        # if claim_id not in [\"claim-752\"]:\n",
    "        #     continue\n",
    "\n",
    "        # Keep a count of how many tags each evidence relates to\n",
    "        retrieved_evidence_counts = Counter()\n",
    "        \n",
    "        # Match tags -----------------------------------------------------\n",
    "        \n",
    "        # Keep a count of how many tags each evidence relates to\n",
    "        retrieved_tag_evidence_counts = Counter()\n",
    "        \n",
    "        #! Get tags for which there is a subject relation\n",
    "        # This step is to improve recall\n",
    "        # for c_tag in claim_tags:\n",
    "        #     # Verb position threshold for subject attention\n",
    "        #     if c_tag.verb_pos > verb_pos_threshold:\n",
    "        #         continue\n",
    "        #     subject_tags = set(related_tags.get(c_tag.tag, []))\n",
    "        #     # expanded_tags = tags.intersection(subject_tags)\n",
    "        #     tags.update(subject_tags)\n",
    "        \n",
    "        # Go through all the tags then retrieve evidences\n",
    "        for tag in tags:\n",
    "            \n",
    "            # Stop tags\n",
    "            # if tag in stop_tags:\n",
    "            #     continue\n",
    "            \n",
    "            evidence_ids = list(set(tagged_evidences.get(tag, [])))\n",
    "            n_evidence_ids = len(evidence_ids)\n",
    "            \n",
    "            # Count threshold\n",
    "            # if n_evidence_ids < evidence_count_threshold:\n",
    "                # print(f\"skipping tag {tag} with n={n_evidence_ids}\")\n",
    "                #! claim_evidences[claim_id].update(evidence_ids)\n",
    "            for e_id in evidence_ids:\n",
    "                retrieved_evidence_counts[e_id] += 1\n",
    "                # retrieved_tag_evidence_counts[e_id] += 1\n",
    "            \n",
    "            continue\n",
    "        \n",
    "        # Go through the retrieved evidences and add it to the claim\n",
    "        # if it meets the minimum tag association threshold\n",
    "        # this step is to improve precision\n",
    "        # for e_id, e_count in sorted(\n",
    "        #     retrieved_tag_evidence_counts.items(),\n",
    "        #     key=lambda x: x[1], reverse=True\n",
    "        # ):\n",
    "        #     n_orig_tags = len(original_tags)\n",
    "        #     # count_threshold = floor(min_tag_match_ratio * n_orig_tags) \\\n",
    "        #     #     if n_orig_tags > 3 else 0\n",
    "        #     count_threshold = min_tag_match_threshold\n",
    "        #     # count_threshold = n_orig_tags - min_tag_match_offset\n",
    "        #     if e_count < count_threshold:\n",
    "        #         continue\n",
    "        #     claim_evidences[claim_id].add(e_id)\n",
    "        #     continue\n",
    "        \n",
    "        \n",
    "        # Match ngrams ------------------------------------------------------\n",
    "        \n",
    "        # Keep a count of how many tags each evidence relates to\n",
    "        retrieved_ngram_evidence_counts = Counter()\n",
    "        \n",
    "        # Ensure to match each token once, forwards and reverse, longest first\n",
    "        fwd_ngram_matched_tokens = set()\n",
    "        rev_ngram_matched_tokens = set()\n",
    "        \n",
    "        for token in claim_doc:\n",
    "            token_lemma = token.lemma_\n",
    "            \n",
    "            for n in sorted(ngram_list, reverse=True):\n",
    "                ngram_matched_evidence_ids = set()\n",
    "                \n",
    "                # ngram_evidence_count_cutoff = \\\n",
    "                #     ngram_evidence_count_threshold if n == 6 \\\n",
    "                #     else ngram_evidence_count_threshold * 1 if n == 5 \\\n",
    "                #     else ngram_evidence_count_threshold * 1\n",
    "                \n",
    "                # Match forward\n",
    "                fwd_lemma = token_lemma[:n]\n",
    "                fwd_evidences = fwd_ngram_evidences.get(fwd_lemma, [])\n",
    "                # if len(fwd_evidences) <= ngram_evidence_count_cutoff \\\n",
    "                #     and len(fwd_evidences) > 0 \\\n",
    "                #     and token_lemma not in fwd_ngram_matched_tokens:\n",
    "                ngram_matched_evidence_ids.update(fwd_evidences)\n",
    "                fwd_ngram_matched_tokens.add(token_lemma)\n",
    "                    \n",
    "                # Match reverse\n",
    "                rev_lemma = token_lemma[-n:0]\n",
    "                rev_evidences = rev_ngram_evidences.get(rev_lemma, [])\n",
    "                # if len(rev_evidences) <= ngram_evidence_count_cutoff \\\n",
    "                #     and len(rev_evidences) > 0 \\\n",
    "                #     and token_lemma not in rev_ngram_matched_tokens:\n",
    "                ngram_matched_evidence_ids.update(rev_evidences)\n",
    "                rev_ngram_matched_tokens.add(token_lemma)\n",
    "                    \n",
    "                for e_id in ngram_matched_evidence_ids:\n",
    "                    # retrieved_ngram_evidence_counts[e_id] += 1\n",
    "                    retrieved_evidence_counts[e_id] += 1\n",
    "\n",
    "        \n",
    "        # Wrapping up ------------------------------------------------------\n",
    "            \n",
    "        # Dynamically find the cutoff to return the maximum specified\n",
    "        # number of evidences\n",
    "        if len(retrieved_evidence_counts.keys()) > 1:\n",
    "            retrieved_cut_cutoff = 1\n",
    "            staged_retrievals = []\n",
    "            searching_cutoff = True\n",
    "            while searching_cutoff:\n",
    "                current_staged_retrievals = [\n",
    "                    e_id\n",
    "                    for e_id, e_count in sorted(\n",
    "                        retrieved_evidence_counts.items(),\n",
    "                        key=lambda x: x[1], reverse=True\n",
    "                    )\n",
    "                    if e_count >= retrieved_cut_cutoff\n",
    "                ]\n",
    "                \n",
    "                if len(current_staged_retrievals) < 1:\n",
    "                    searching_cutoff = False\n",
    "                \n",
    "                staged_retrievals = current_staged_retrievals\n",
    "                \n",
    "                if len(current_staged_retrievals) > max_retrieved:\n",
    "                    retrieved_cut_cutoff += 1\n",
    "                    continue\n",
    "            \n",
    "                searching_cutoff = False\n",
    "            \n",
    "            # Add staged retrievals against the claim_id\n",
    "            for e_id in staged_retrievals:\n",
    "                claim_evidences[claim_id].add(e_id)\n",
    "\n",
    "        \n",
    "        # Count how many evidences have been retrieved for this claim\n",
    "        n_retrieved = len(claim_evidences[claim_id])\n",
    "        \n",
    "        # if n_retrieved < 1:\n",
    "        #     print(claim_id, n_retrieved)\n",
    "        \n",
    "        # Calculate some statistics\n",
    "        recall = 1\n",
    "        if \"evidences\" in claim.keys():\n",
    "            truth_evidences = set(claim[\"evidences\"])\n",
    "            retrieved_evidences = set(claim_evidences[claim_id])\n",
    "            missed = truth_evidences.difference(retrieved_evidences)\n",
    "            recall = (len(truth_evidences) - len(missed)) / len(truth_evidences)\n",
    "            \n",
    "            if recall < 0.5:\n",
    "                print(claim_id, recall, original_tags)\n",
    "                \n",
    "            missed_retrievals[claim_id].update(missed)\n",
    "        \n",
    "        retrieval_counts.append(n_retrieved)\n",
    "        retrieval_recalls.append(recall)\n",
    "        claim_obj.postfix = f\"n_retrieved: {n_retrieved}, recall: {recall}\"\n",
    "        \n",
    "        continue\n",
    "    \n",
    "    if save_path:\n",
    "        with open(save_path, mode=\"w\") as f:\n",
    "            json.dump(obj=claim_evidences, fp=f, cls=SetEncoder)\n",
    "            print(f\"saved to: {save_path}\")\n",
    "    \n",
    "    return claim_evidences, missed_retrievals, retrieval_counts, retrieval_recalls, all_unique_tags"
   ]
  },
  {
   "cell_type": "code",
   "execution_count": 42,
   "metadata": {},
   "outputs": [
    {
     "name": "stdout",
     "output_type": "stream",
     "text": [
      "loaded: /Users/johnsonzhou/git/comp90042-project/result/pipeline/shortlisting_v2/train_fwd_ngram_evidences.json\n",
      "loaded: /Users/johnsonzhou/git/comp90042-project/result/pipeline/shortlisting_v2/train_rev_ngram_evidences.json\n"
     ]
    },
    {
     "name": "stderr",
     "output_type": "stream",
     "text": [
      "claims:   0%|          | 2/1228 [00:05<47:56,  2.35s/it, n_retrieved: 389, recall: 0.0]  "
     ]
    },
    {
     "name": "stdout",
     "output_type": "stream",
     "text": [
      "claim-126 0.0 {'el nino', 'global', 'emission', 'rise', 'record', 'global temperature', 'el', 'high'}\n"
     ]
    },
    {
     "name": "stderr",
     "output_type": "stream",
     "text": [
      "claims:   0%|          | 4/1228 [00:11<53:06,  2.60s/it, n_retrieved: 319, recall: 0.2]"
     ]
    },
    {
     "name": "stdout",
     "output_type": "stream",
     "text": [
      "claim-2021 0.2 {'global', 'john coleman', 'channel', 'anthropogenic warming', 'evidence', 'john', 'weather', 'anthropogenic', 'channel coleman', 'cofounder', 'cofounder coleman', 'concept', 'global warming'}\n"
     ]
    },
    {
     "name": "stderr",
     "output_type": "stream",
     "text": [
      "claims:   0%|          | 5/1228 [00:15<1:06:51,  3.28s/it, n_retrieved: 499, recall: 0.0]"
     ]
    },
    {
     "name": "stdout",
     "output_type": "stream",
     "text": [
      "claim-2449 0.0 {'global', 'temperature', 'temperature drop', 'major', 'respected indicator', 'respected', 'major indicator', 'month', 'january', 'month period'}\n"
     ]
    },
    {
     "name": "stderr",
     "output_type": "stream",
     "text": [
      "claims:   0%|          | 6/1228 [00:35<2:46:15,  8.16s/it, n_retrieved: 472, recall: 0.0]"
     ]
    },
    {
     "name": "stdout",
     "output_type": "stream",
     "text": [
      "claim-851 0.0 {'planet', 'world', 'extinction event', 'new history', 'extinction', 'major event', 'new', 'hundred', 'last time', 'major', 'ocean', 'peter', 'degree', 'end', 'foot', 'peter brannen', 'last'}\n"
     ]
    },
    {
     "name": "stderr",
     "output_type": "stream",
     "text": [
      "claims:   1%|          | 8/1228 [00:49<2:32:54,  7.52s/it, n_retrieved: 417, recall: 0.0]"
     ]
    },
    {
     "name": "stdout",
     "output_type": "stream",
     "text": [
      "claim-949 0.0 {'ambitious scenario', 'ambitious', 'strong', 'strong likelihood', 'stable', 'antarctica'}\n"
     ]
    },
    {
     "name": "stderr",
     "output_type": "stream",
     "text": [
      "claims:   1%|          | 13/1228 [01:51<3:43:54, 11.06s/it, n_retrieved: 446, recall: 0.0]"
     ]
    },
    {
     "name": "stdout",
     "output_type": "stream",
     "text": [
      "claim-2417 0.0 {'jupiter', 'global', 'warming pointing', 'triton', 'triton pluto', 'global pointing', 'warming', 'climate', 'solar', 'mars pluto', 'influence', 'sun', 'solar system', 'mars'}\n"
     ]
    },
    {
     "name": "stderr",
     "output_type": "stream",
     "text": [
      "claims:   1%|▏         | 17/1228 [02:13<2:12:20,  6.56s/it, n_retrieved: 65, recall: 1.0] "
     ]
    },
    {
     "name": "stdout",
     "output_type": "stream",
     "text": [
      "claim-1066 0.0 {'warm', 'pattern', 'wet year', 'fact', 'condition', 'wet', 'warm year', 'dry year', 'dry', 'frequent'}\n"
     ]
    },
    {
     "name": "stderr",
     "output_type": "stream",
     "text": [
      "claims:   2%|▏         | 24/1228 [03:23<2:39:21,  7.94s/it, n_retrieved: 230, recall: 0.6666666666666666]"
     ]
    },
    {
     "name": "stdout",
     "output_type": "stream",
     "text": [
      "claim-2065 0.0 {'global', 'global warming', 'snow'}\n"
     ]
    },
    {
     "name": "stderr",
     "output_type": "stream",
     "text": [
      "claims:   2%|▏         | 27/1228 [03:41<2:24:12,  7.20s/it, n_retrieved: 201, recall: 0.0]               "
     ]
    },
    {
     "name": "stdout",
     "output_type": "stream",
     "text": [
      "claim-2789 0.0 {'globe', 'time', 'temperature', 'video', 'shopped', 'video movie', 'future behavior', 'congress', 'future', 'model'}\n"
     ]
    },
    {
     "name": "stderr",
     "output_type": "stream",
     "text": [
      "claims:   2%|▏         | 28/1228 [03:52<2:45:19,  8.27s/it, n_retrieved: 296, recall: 0.2]"
     ]
    },
    {
     "name": "stdout",
     "output_type": "stream",
     "text": [
      "claim-1414 0.2 {'mini iceage', 'cold', 'river', 'scientist', 'year', 'earth', 'cold winter', 'mini', 'thame'}\n"
     ]
    },
    {
     "name": "stderr",
     "output_type": "stream",
     "text": [
      "claims:   3%|▎         | 32/1228 [04:11<1:45:17,  5.28s/it, n_retrieved: 465, recall: 0.0]"
     ]
    },
    {
     "name": "stdout",
     "output_type": "stream",
     "text": [
      "claim-1447 0.0 {'carbon dioxide', 'global', 'territory', 'domestic flight', 'carbon', 'united states', 'global passenger', 'twothird', 'airport', 'united', 'domestic', 'onequarter', 'flight', 'percent'}\n",
      "claim-1038 0.0 {'time', 'percent'}\n"
     ]
    },
    {
     "name": "stderr",
     "output_type": "stream",
     "text": [
      "claims:   3%|▎         | 35/1228 [04:35<2:13:21,  6.71s/it, n_retrieved: 194, recall: 0.0]               "
     ]
    },
    {
     "name": "stdout",
     "output_type": "stream",
     "text": [
      "claim-2763 0.0 {'term', 'long', 'albedo', 'term trend'}\n"
     ]
    },
    {
     "name": "stderr",
     "output_type": "stream",
     "text": [
      "claims:   3%|▎         | 40/1228 [05:05<1:56:38,  5.89s/it, n_retrieved: 425, recall: 0.3333333333333333]"
     ]
    },
    {
     "name": "stdout",
     "output_type": "stream",
     "text": [
      "claim-2257 0.3333333333333333 {'carbon dioxide', 'trifling quantity', 'ocean', 'trifling', 'carbon', 'harmless', 'harmless emission'}\n"
     ]
    },
    {
     "name": "stderr",
     "output_type": "stream",
     "text": [
      "claims:   3%|▎         | 41/1228 [05:06<1:26:08,  4.35s/it, n_retrieved: 382, recall: 0.0]               "
     ]
    },
    {
     "name": "stdout",
     "output_type": "stream",
     "text": [
      "claim-646 0.0 {'nitrogen store', 'houlton', 'enormous', 'global', 'warming', 'vast', 'unknown store', 'vast store', 'enormous impact', 'nitrogen', 'unknown', 'true', 'warming prediction'}\n"
     ]
    },
    {
     "name": "stderr",
     "output_type": "stream",
     "text": [
      "claims:   4%|▎         | 44/1228 [05:25<1:47:36,  5.45s/it, n_retrieved: 203, recall: 0.3333333333333333]"
     ]
    },
    {
     "name": "stdout",
     "output_type": "stream",
     "text": [
      "claim-1547 0.3333333333333333 {'greenhouse', 'water', 'water vapor', 'powerful gas', 'greenhouse gas', 'powerful'}\n"
     ]
    },
    {
     "name": "stderr",
     "output_type": "stream",
     "text": [
      "claims:   4%|▎         | 45/1228 [05:35<2:14:04,  6.80s/it, n_retrieved: 469, recall: 0.25]              "
     ]
    },
    {
     "name": "stdout",
     "output_type": "stream",
     "text": [
      "claim-2280 0.25 {'minor error', 'minor', 'main truth', 'global', 'mankind', 'various impact', 'peer', 'inconvenient', 'science', 'evidence', 'main', 'inconvenient truth', 'various', 'global warming'}\n"
     ]
    },
    {
     "name": "stderr",
     "output_type": "stream",
     "text": [
      "claims:   4%|▍         | 47/1228 [05:50<2:18:26,  7.03s/it, n_retrieved: 423, recall: 0.0] "
     ]
    },
    {
     "name": "stdout",
     "output_type": "stream",
     "text": [
      "claim-1357 0.0 {'worldwide weather', 'worldwide', 'testable hypothesis', 'testable', 'notion', 'extreme'}\n"
     ]
    },
    {
     "name": "stderr",
     "output_type": "stream",
     "text": [
      "claims:   4%|▍         | 50/1228 [06:10<2:33:38,  7.83s/it, n_retrieved: 357, recall: 0.2]"
     ]
    },
    {
     "name": "stdout",
     "output_type": "stream",
     "text": [
      "claim-499 0.2 {'recent decade', 'amount', 'vulnerable', 'damage', 'monetary', 'population', 'recent', 'monetary cost', 'population wealth', 'vulnerable infrastructure'}\n"
     ]
    },
    {
     "name": "stderr",
     "output_type": "stream",
     "text": [
      "claims:   4%|▍         | 55/1228 [06:39<2:01:38,  6.22s/it, n_retrieved: 321, recall: 0.0] "
     ]
    },
    {
     "name": "stdout",
     "output_type": "stream",
     "text": [
      "claim-1324 0.0 {'cold death', 'moderate', 'moderate temperature', 'cold'}\n"
     ]
    },
    {
     "name": "stderr",
     "output_type": "stream",
     "text": [
      "claims:   5%|▍         | 56/1228 [06:42<1:40:31,  5.15s/it, n_retrieved: 308, recall: 0.0]"
     ]
    },
    {
     "name": "stdout",
     "output_type": "stream",
     "text": [
      "claim-1980 0.0 {'economic', 'nobel', 'nobel laureate', 'technology', 'carbon', 'economic laureate', 'direct', 'direct investment', 'carbon tax'}\n"
     ]
    },
    {
     "name": "stderr",
     "output_type": "stream",
     "text": [
      "claims:   5%|▍         | 57/1228 [06:52<2:11:10,  6.72s/it, n_retrieved: 427, recall: 0.0]"
     ]
    },
    {
     "name": "stdout",
     "output_type": "stream",
     "text": [
      "claim-409 0.0 {'emission', 'time', 'number', 'fossil fuel', 'record high', 'record', 'fossil', 'time progress', 'low'}\n"
     ]
    },
    {
     "name": "stderr",
     "output_type": "stream",
     "text": [
      "claims:   5%|▍         | 59/1228 [07:11<2:40:15,  8.23s/it, n_retrieved: 420, recall: 0.0]"
     ]
    },
    {
     "name": "stdout",
     "output_type": "stream",
     "text": [
      "claim-3084 0.0 {'place', 'enso event', 'jens jensen', 'second half', '20th century', 'major event', 'step', 'enso', 'temperature', 'temperature increase', 'major', 'raunsø', '20th', 'jens', 'raunsø jensen', 'second'}\n"
     ]
    },
    {
     "name": "stderr",
     "output_type": "stream",
     "text": [
      "claims:   5%|▍         | 60/1228 [07:18<2:31:30,  7.78s/it, n_retrieved: 198, recall: 0.2]"
     ]
    },
    {
     "name": "stdout",
     "output_type": "stream",
     "text": [
      "claim-1227 0.2 {'tidal flood', 'poison well', 'basement', 'traffic', 'poison', 'salt', 'tidal', 'damage', 'foot', 'deep', 'traffic swamp', 'damage car', 'forest', 'basement car', 'lawn'}\n"
     ]
    },
    {
     "name": "stderr",
     "output_type": "stream",
     "text": [
      "claims:   5%|▍         | 61/1228 [07:21<2:01:46,  6.26s/it, n_retrieved: 443, recall: 0.2]"
     ]
    },
    {
     "name": "stdout",
     "output_type": "stream",
     "text": [
      "claim-1499 0.2 {'carbon dioxide', 'ocean', 'sealevel', 'carbon', 'ocean temperature', 'sealevel rise'}\n"
     ]
    },
    {
     "name": "stderr",
     "output_type": "stream",
     "text": [
      "claims:   5%|▌         | 62/1228 [07:41<3:25:58, 10.60s/it, n_retrieved: 497, recall: 0.0]"
     ]
    },
    {
     "name": "stdout",
     "output_type": "stream",
     "text": [
      "claim-1790 0.0 {'study', 'time', 'glacial maximum', 'temperature reconstruction', 'estimate', 'last maximum', 'new reconstruction', 'climate', 'new', 'low probability', 'climate sensitivity', 'low', 'ipcc', 'temperature', 'test', 'glacial', 'last'}\n"
     ]
    },
    {
     "name": "stderr",
     "output_type": "stream",
     "text": [
      "claims:   6%|▌         | 68/1228 [08:15<2:05:18,  6.48s/it, n_retrieved: 496, recall: 0.0]"
     ]
    },
    {
     "name": "stdout",
     "output_type": "stream",
     "text": [
      "claim-2474 0.0 {'model prediction', 'pole', 'surface temperature', 'surface', 'trend', 'model'}\n"
     ]
    },
    {
     "name": "stderr",
     "output_type": "stream",
     "text": [
      "claims:   6%|▌         | 69/1228 [08:23<2:13:24,  6.91s/it, n_retrieved: 308, recall: 0.25]"
     ]
    },
    {
     "name": "stdout",
     "output_type": "stream",
     "text": [
      "claim-2741 0.25 {'past', 'phil', 'significant', 'significant warming', 'past year', 'phil jones'}\n"
     ]
    },
    {
     "name": "stderr",
     "output_type": "stream",
     "text": [
      "claims:   6%|▌         | 70/1228 [08:28<2:01:59,  6.32s/it, n_retrieved: 457, recall: 0.0] "
     ]
    },
    {
     "name": "stdout",
     "output_type": "stream",
     "text": [
      "claim-3102 0.0 {'other occasion', 'similar melt', 'similar', 'anecdotal evidence', 'other', 'anecdotal'}\n"
     ]
    },
    {
     "name": "stderr",
     "output_type": "stream",
     "text": [
      "claims:   6%|▌         | 76/1228 [09:36<3:41:47, 11.55s/it, n_retrieved: 447, recall: 0.25]              "
     ]
    },
    {
     "name": "stdout",
     "output_type": "stream",
     "text": [
      "claim-1142 0.25 {'arctic', 'extent', 'rapid', 'southern hemisphere', 'sea ice', 'sea', 'counterpart', 'past decade', 'rapid decline', 'southern', 'past'}\n"
     ]
    },
    {
     "name": "stderr",
     "output_type": "stream",
     "text": [
      "claims:   6%|▋         | 77/1228 [09:44<3:23:36, 10.61s/it, n_retrieved: 274, recall: 0.0] "
     ]
    },
    {
     "name": "stdout",
     "output_type": "stream",
     "text": [
      "claim-2707 0.0 {'arctic', 'today', 'full', 'latitudes', 'degree', 'north', 'degree latitude', 'full datum', 'north latitude'}\n"
     ]
    },
    {
     "name": "stderr",
     "output_type": "stream",
     "text": [
      "claims:   6%|▋         | 78/1228 [09:58<3:43:38, 11.67s/it, n_retrieved: 452, recall: 0.3333333333333333]"
     ]
    },
    {
     "name": "stdout",
     "output_type": "stream",
     "text": [
      "claim-1260 0.3333333333333333 {'regional exception', 'contrast', 'regional', 'wet', 'precipitation', 'wet region', 'season'}\n"
     ]
    },
    {
     "name": "stderr",
     "output_type": "stream",
     "text": [
      "claims:   6%|▋         | 79/1228 [10:03<3:04:30,  9.63s/it, n_retrieved: 445, recall: 0.0]               "
     ]
    },
    {
     "name": "stdout",
     "output_type": "stream",
     "text": [
      "claim-1163 0.0 {'global', 'climate change', 'human', 'climate', 'lifetime', 'global warming', 'percent'}\n"
     ]
    },
    {
     "name": "stderr",
     "output_type": "stream",
     "text": [
      "claims:   7%|▋         | 80/1228 [10:11<2:53:04,  9.05s/it, n_retrieved: 148, recall: 0.0]"
     ]
    },
    {
     "name": "stdout",
     "output_type": "stream",
     "text": [
      "claim-740 0.0 {'paleotemperature', 'reequilibration', 'ocean'}\n"
     ]
    },
    {
     "name": "stderr",
     "output_type": "stream",
     "text": [
      "claims:   7%|▋         | 83/1228 [10:21<1:37:45,  5.12s/it, n_retrieved: 305, recall: 0.8]"
     ]
    },
    {
     "name": "stdout",
     "output_type": "stream",
     "text": [
      "claim-2283 0.0 {'mid 1970', 'global', 'melt', 'fact', 'mid', 'global rate', 'melt rate'}\n"
     ]
    },
    {
     "name": "stderr",
     "output_type": "stream",
     "text": [
      "claims:   7%|▋         | 84/1228 [10:28<1:48:36,  5.70s/it, n_retrieved: 425, recall: 0.0]"
     ]
    },
    {
     "name": "stdout",
     "output_type": "stream",
     "text": [
      "claim-332 0.0 {'more', 'station', 'sun', 'poor country', 'shelter', 'energy', 'poor'}\n"
     ]
    },
    {
     "name": "stderr",
     "output_type": "stream",
     "text": [
      "claims:   7%|▋         | 85/1228 [10:38<2:13:41,  7.02s/it, n_retrieved: 372, recall: 0.0]"
     ]
    },
    {
     "name": "stdout",
     "output_type": "stream",
     "text": [
      "claim-258 0.0 {'carbon dioxide', 'such warming', 'swift', 'carbon', 'such', 'climate scientist', 'headache', 'swift warming', 'upswell', 'climate', 'period'}\n"
     ]
    },
    {
     "name": "stderr",
     "output_type": "stream",
     "text": [
      "claims:   7%|▋         | 92/1228 [11:47<3:01:13,  9.57s/it, n_retrieved: 335, recall: 0.2]               "
     ]
    },
    {
     "name": "stdout",
     "output_type": "stream",
     "text": [
      "claim-716 0.2 {'pollard', 'scientific', 'emergency mode', 'deconto', 'entire community', 'result', 'scientific community', 'emergency', 'entire', 'model'}\n"
     ]
    },
    {
     "name": "stderr",
     "output_type": "stream",
     "text": [
      "claims:   8%|▊         | 96/1228 [12:18<2:26:49,  7.78s/it, n_retrieved: 290, recall: 0.2]"
     ]
    },
    {
     "name": "stdout",
     "output_type": "stream",
     "text": [
      "claim-61 0.2 {'temperature', 'nasa', 'past'}\n"
     ]
    },
    {
     "name": "stderr",
     "output_type": "stream",
     "text": [
      "claims:   8%|▊         | 98/1228 [12:19<1:14:18,  3.95s/it, n_retrieved: 285, recall: 0.2]"
     ]
    },
    {
     "name": "stdout",
     "output_type": "stream",
     "text": [
      "claim-157 0.2 {'global', 'geological context', 'global warming', 'contemporary', 'geological'}\n"
     ]
    },
    {
     "name": "stderr",
     "output_type": "stream",
     "text": [
      "claims:   8%|▊         | 100/1228 [12:37<2:00:56,  6.43s/it, n_retrieved: 486, recall: 0.3333333333333333]"
     ]
    },
    {
     "name": "stdout",
     "output_type": "stream",
     "text": [
      "claim-1796 0.3333333333333333 {'external', 'warming', 'underlying', 'natural', 'external radiative', 'step change', 'linear trend', 'linear', 'warming trend', 'underlying warming', 'natural cycle', 'step'}\n"
     ]
    },
    {
     "name": "stderr",
     "output_type": "stream",
     "text": [
      "claims:   8%|▊         | 101/1228 [12:51<2:45:17,  8.80s/it, n_retrieved: 258, recall: 0.0]               "
     ]
    },
    {
     "name": "stdout",
     "output_type": "stream",
     "text": [
      "claim-807 0.0 {'warming', 'total', 'united states', 'past year', 'total area', 'united', 'size', 'past'}\n"
     ]
    },
    {
     "name": "stderr",
     "output_type": "stream",
     "text": [
      "claims:   9%|▉         | 111/1228 [13:43<1:38:42,  5.30s/it, n_retrieved: 260, recall: 0.0]               "
     ]
    },
    {
     "name": "stdout",
     "output_type": "stream",
     "text": [
      "claim-957 0.0 {'arctic', 'december temperature', 'december', 'c'}\n"
     ]
    },
    {
     "name": "stderr",
     "output_type": "stream",
     "text": [
      "claims:   9%|▉         | 114/1228 [13:57<1:39:19,  5.35s/it, n_retrieved: 191, recall: 0.2]               "
     ]
    },
    {
     "name": "stdout",
     "output_type": "stream",
     "text": [
      "claim-363 0.2 {'half', 'great river', 'central', 'rainfall', 'monsoon', 'central america', 'asia', 'china', 'great'}\n"
     ]
    },
    {
     "name": "stderr",
     "output_type": "stream",
     "text": [
      "claims:   9%|▉         | 115/1228 [13:58<1:14:56,  4.04s/it, n_retrieved: 491, recall: 0.0]"
     ]
    },
    {
     "name": "stdout",
     "output_type": "stream",
     "text": [
      "claim-2687 0.0 {'planet', 'scientist', 'pluto', 'solar system', 'bit', 'solar', 'few'}\n"
     ]
    },
    {
     "name": "stderr",
     "output_type": "stream",
     "text": [
      "claims:   9%|▉         | 116/1228 [13:58<53:59,  2.91s/it, n_retrieved: 345, recall: 0.0]  "
     ]
    },
    {
     "name": "stdout",
     "output_type": "stream",
     "text": [
      "claim-1294 0.0 {'co2', 'much', 'land', 'fertilizer', 'much half', 'today'}\n"
     ]
    },
    {
     "name": "stderr",
     "output_type": "stream",
     "text": [
      "claims:  10%|▉         | 117/1228 [13:59<45:28,  2.46s/it, n_retrieved: 334, recall: 0.0]"
     ]
    },
    {
     "name": "stdout",
     "output_type": "stream",
     "text": [
      "claim-649 0.0 {'houlton', 'possibility', 'year'}\n"
     ]
    },
    {
     "name": "stderr",
     "output_type": "stream",
     "text": [
      "claims:  10%|▉         | 118/1228 [14:13<1:45:54,  5.72s/it, n_retrieved: 491, recall: 0.0]"
     ]
    },
    {
     "name": "stdout",
     "output_type": "stream",
     "text": [
      "claim-2868 0.0 {'texas governor perry', 'fact', 'rick', 'rick perry', 'spell governor perry', 'scientist', 'group', 'texas', 'fact galileo', 'spell'}\n"
     ]
    },
    {
     "name": "stderr",
     "output_type": "stream",
     "text": [
      "claims:  10%|▉         | 119/1228 [14:17<1:36:56,  5.24s/it, n_retrieved: 249, recall: 0.4]"
     ]
    },
    {
     "name": "stdout",
     "output_type": "stream",
     "text": [
      "claim-1562 0.4 {'only', 'climate change', 'methane', 'climate', 'only cause'}\n"
     ]
    },
    {
     "name": "stderr",
     "output_type": "stream",
     "text": [
      "claims:  10%|▉         | 121/1228 [14:23<1:16:27,  4.14s/it, n_retrieved: 233, recall: 0.0]"
     ]
    },
    {
     "name": "stdout",
     "output_type": "stream",
     "text": [
      "claim-1327 0.0 {'warm', 'migration pattern', 'warm state', 'snowy', 'florida', 'minnesota', 'migration', 'texas', 'michigan', 'people'}\n"
     ]
    },
    {
     "name": "stderr",
     "output_type": "stream",
     "text": [
      "claims:  10%|▉         | 122/1228 [14:23<59:34,  3.23s/it, n_retrieved: 419, recall: 0.0]  "
     ]
    },
    {
     "name": "stdout",
     "output_type": "stream",
     "text": [
      "claim-3103 0.0 {'climate change', 'more', 'pielke', 'jr', 'roger', 'climate', 'disaster'}\n"
     ]
    },
    {
     "name": "stderr",
     "output_type": "stream",
     "text": [
      "claims:  10%|█         | 126/1228 [14:50<1:49:24,  5.96s/it, n_retrieved: 372, recall: 0.0]               "
     ]
    },
    {
     "name": "stdout",
     "output_type": "stream",
     "text": [
      "claim-1116 0.0 {'polar temperature', 'severe winter', 'deadly heatwave', 'polar', 'summer', 'summer heatwave', 'torrential flood', 'snowmageddon', 'torrential', 'deadly', 'severe', 'researcher'}\n"
     ]
    },
    {
     "name": "stderr",
     "output_type": "stream",
     "text": [
      "claims:  10%|█         | 127/1228 [14:55<1:43:07,  5.62s/it, n_retrieved: 441, recall: 0.0]"
     ]
    },
    {
     "name": "stdout",
     "output_type": "stream",
     "text": [
      "claim-3048 0.0 {'carbon', 'question', 'increase', 'carbon dioxide'}\n"
     ]
    },
    {
     "name": "stderr",
     "output_type": "stream",
     "text": [
      "claims:  11%|█         | 129/1228 [14:59<1:12:22,  3.95s/it, n_retrieved: 428, recall: 0.3333333333333333]"
     ]
    },
    {
     "name": "stdout",
     "output_type": "stream",
     "text": [
      "claim-1614 0.3333333333333333 {'arctic sea ice extent', 'arctic', 'past'}\n"
     ]
    },
    {
     "name": "stderr",
     "output_type": "stream",
     "text": [
      "claims:  11%|█         | 131/1228 [15:07<1:13:26,  4.02s/it, n_retrieved: 336, recall: 0.0]               "
     ]
    },
    {
     "name": "stdout",
     "output_type": "stream",
     "text": [
      "claim-593 0.0 {'degree', 'ecs'}\n"
     ]
    },
    {
     "name": "stderr",
     "output_type": "stream",
     "text": [
      "claims:  11%|█         | 134/1228 [15:47<2:52:23,  9.46s/it, n_retrieved: 259, recall: 0.0] "
     ]
    },
    {
     "name": "stdout",
     "output_type": "stream",
     "text": [
      "claim-1339 0.0 {'marine', 'dr browman', 'ocean', 'high level', 'academic', 'dr', 'marine scientist', 'ocean acidification', 'year', 'threat', 'high', 'academic scepticism', 'topic'}\n"
     ]
    },
    {
     "name": "stderr",
     "output_type": "stream",
     "text": [
      "claims:  11%|█         | 136/1228 [15:57<2:01:16,  6.66s/it, n_retrieved: 160, recall: 0.2] "
     ]
    },
    {
     "name": "stdout",
     "output_type": "stream",
     "text": [
      "claim-2120 0.2 {'global warming', 'global', 'phil', 'phil jones'}\n"
     ]
    },
    {
     "name": "stderr",
     "output_type": "stream",
     "text": [
      "claims:  11%|█         | 138/1228 [16:00<1:19:18,  4.37s/it, n_retrieved: 354, recall: 0.25]"
     ]
    },
    {
     "name": "stdout",
     "output_type": "stream",
     "text": [
      "claim-2078 0.25 {'drought', 'flood', 'fossil fuel', 'fossil'}\n"
     ]
    },
    {
     "name": "stderr",
     "output_type": "stream",
     "text": [
      "claims:  11%|█▏        | 139/1228 [16:01<58:13,  3.21s/it, n_retrieved: 374, recall: 0.0]   "
     ]
    },
    {
     "name": "stdout",
     "output_type": "stream",
     "text": [
      "claim-797 0.0 {'climate', 'climate model', 'global', 'global warming'}\n"
     ]
    },
    {
     "name": "stderr",
     "output_type": "stream",
     "text": [
      "claims:  11%|█▏        | 140/1228 [16:09<1:26:56,  4.79s/it, n_retrieved: 277, recall: 0.0]"
     ]
    },
    {
     "name": "stdout",
     "output_type": "stream",
     "text": [
      "claim-1667 0.0 {'jupiter', 'sun', 'mars'}\n"
     ]
    },
    {
     "name": "stderr",
     "output_type": "stream",
     "text": [
      "claims:  11%|█▏        | 141/1228 [16:17<1:44:44,  5.78s/it, n_retrieved: 491, recall: 0.2]"
     ]
    },
    {
     "name": "stdout",
     "output_type": "stream",
     "text": [
      "claim-2553 0.2 {'planetary balance', 'watt', 'energy', 'climate debate', 'discrepancy', 'planetary', 'energy balance', 'reality', 'cent', 'climate', 'square', 'square metre'}\n"
     ]
    },
    {
     "name": "stderr",
     "output_type": "stream",
     "text": [
      "claims:  12%|█▏        | 142/1228 [16:18<1:14:54,  4.14s/it, n_retrieved: 411, recall: 0.0]"
     ]
    },
    {
     "name": "stdout",
     "output_type": "stream",
     "text": [
      "claim-2029 0.0 {'bill', 'climate change', 'bill gates', 'claim', 'climate', 'misery'}\n"
     ]
    },
    {
     "name": "stderr",
     "output_type": "stream",
     "text": [
      "claims:  12%|█▏        | 143/1228 [16:19<1:00:18,  3.33s/it, n_retrieved: 224, recall: 0.2]"
     ]
    },
    {
     "name": "stdout",
     "output_type": "stream",
     "text": [
      "claim-1049 0.2 {'record high', 'month', 'daily high', 'daily', 'record', 'low'}\n"
     ]
    },
    {
     "name": "stderr",
     "output_type": "stream",
     "text": [
      "claims:  12%|█▏        | 145/1228 [16:37<1:58:17,  6.55s/it, n_retrieved: 337, recall: 0.0]"
     ]
    },
    {
     "name": "stdout",
     "output_type": "stream",
     "text": [
      "claim-2782 0.0 {'alarmist', 'more', 'satellite datum', 'nasa', 'science', 'science journal', 'atmosphere', 'space', 'nasa datum', 'report', 'computer model', 'year', 'earth', 'remote', 'new', 'satellite', 'remote sensing', 'new study', 'more heat', 'computer', 'alarmist model'}\n"
     ]
    },
    {
     "name": "stderr",
     "output_type": "stream",
     "text": [
      "claims:  12%|█▏        | 146/1228 [16:44<1:58:45,  6.59s/it, n_retrieved: 195, recall: 0.0]"
     ]
    },
    {
     "name": "stdout",
     "output_type": "stream",
     "text": [
      "claim-2432 0.0 {'sun'}\n"
     ]
    },
    {
     "name": "stderr",
     "output_type": "stream",
     "text": [
      "claims:  12%|█▏        | 148/1228 [16:55<1:42:44,  5.71s/it, n_retrieved: 141, recall: 0.0]               "
     ]
    },
    {
     "name": "stdout",
     "output_type": "stream",
     "text": [
      "claim-821 0.0 {'war', 'society', 'war disease', 'chaos'}\n"
     ]
    },
    {
     "name": "stderr",
     "output_type": "stream",
     "text": [
      "claims:  12%|█▏        | 149/1228 [17:08<2:18:08,  7.68s/it, n_retrieved: 295, recall: 0.0]"
     ]
    },
    {
     "name": "stdout",
     "output_type": "stream",
     "text": [
      "claim-1931 0.0 {'new jersey', 'football', 'more', 'development', 'downstream', 'open space', 'open', 'football field', 'flooding', 'day', 'new'}\n"
     ]
    },
    {
     "name": "stderr",
     "output_type": "stream",
     "text": [
      "claims:  13%|█▎        | 154/1228 [17:36<1:22:43,  4.62s/it, n_retrieved: 349, recall: 0.0]"
     ]
    },
    {
     "name": "stdout",
     "output_type": "stream",
     "text": [
      "claim-2123 0.0 {'treering', 'temperature'}\n"
     ]
    },
    {
     "name": "stderr",
     "output_type": "stream",
     "text": [
      "claims:  13%|█▎        | 155/1228 [17:48<2:06:14,  7.06s/it, n_retrieved: 347, recall: 0.0]"
     ]
    },
    {
     "name": "stdout",
     "output_type": "stream",
     "text": [
      "claim-1406 0.0 {'temperature', 'vast area', 'nasa', 'temperature station', 'vast', 'city', 'sensing', 'sensing station', 'network'}\n"
     ]
    },
    {
     "name": "stderr",
     "output_type": "stream",
     "text": [
      "claims:  13%|█▎        | 157/1228 [18:08<2:44:00,  9.19s/it, n_retrieved: 463, recall: 0.4]"
     ]
    },
    {
     "name": "stdout",
     "output_type": "stream",
     "text": [
      "claim-320 0.4 {'thermometer', 'last quarter', 'natural cause', 'first half', 'industrial dioxide', '20th century', 'halfdegree', 'period', 'carbon dioxide', 'increase', 'warming', 'carbon', 'first', 'natural', '20th', 'industrial', 'last'}\n"
     ]
    },
    {
     "name": "stderr",
     "output_type": "stream",
     "text": [
      "claims:  13%|█▎        | 163/1228 [19:08<3:34:11, 12.07s/it, n_retrieved: 269, recall: 0.0]               "
     ]
    },
    {
     "name": "stdout",
     "output_type": "stream",
     "text": [
      "claim-2369 0.0 {'temperature', 'spring evening', 'spring', 'frost', 'public', 'heat', 'fall evening', 'sky', 'fall'}\n"
     ]
    },
    {
     "name": "stderr",
     "output_type": "stream",
     "text": [
      "claims:  13%|█▎        | 165/1228 [19:17<2:30:26,  8.49s/it, n_retrieved: 439, recall: 0.0]"
     ]
    },
    {
     "name": "stdout",
     "output_type": "stream",
     "text": [
      "claim-1077 0.0 {'antarctic', 'global', 'walt', 'nasa', 'clear', 'ice fluctuate', 'link', 'nasa expert meier', 'antarctic fluctuate', 'walt meier', 'year', 'ice', 'global warming'}\n"
     ]
    },
    {
     "name": "stderr",
     "output_type": "stream",
     "text": [
      "claims:  14%|█▎        | 167/1228 [19:21<1:32:45,  5.25s/it, n_retrieved: 260, recall: 0.0]"
     ]
    },
    {
     "name": "stdout",
     "output_type": "stream",
     "text": [
      "claim-2461 0.0 {'large', 'volcanic activity', 'century warming', 'large part', 'solar', 'century', 'solar activity', 'early', 'early warming', '20th', 'quiet', 'quiet activity', 'volcanic'}\n"
     ]
    },
    {
     "name": "stderr",
     "output_type": "stream",
     "text": [
      "claims:  14%|█▎        | 168/1228 [19:22<1:11:36,  4.05s/it, n_retrieved: 382, recall: 0.0]"
     ]
    },
    {
     "name": "stdout",
     "output_type": "stream",
     "text": [
      "claim-2945 0.0 {'other source', 'conclusion', 'other', 'c12 increase', 'true', 'c12'}\n"
     ]
    },
    {
     "name": "stderr",
     "output_type": "stream",
     "text": [
      "claims:  14%|█▍        | 169/1228 [19:31<1:36:58,  5.49s/it, n_retrieved: 483, recall: 0.0]"
     ]
    },
    {
     "name": "stdout",
     "output_type": "stream",
     "text": [
      "claim-2633 0.0 {'jupiter', 'planet', 'shift', 'heat', 's', 'internal', 'internal turbulence', 'climate change', 'heat source', 'much', 'sun', 'climate', 'much energy'}\n"
     ]
    },
    {
     "name": "stderr",
     "output_type": "stream",
     "text": [
      "claims:  14%|█▍        | 172/1228 [19:47<1:22:59,  4.72s/it, n_retrieved: 347, recall: 0.0]               "
     ]
    },
    {
     "name": "stdout",
     "output_type": "stream",
     "text": [
      "claim-1829 0.0 {'effect', 'climate change', 'rise', 'isis', 'climate'}\n",
      "claim-1568 0.0 {'southern sea ice', 'southern'}\n"
     ]
    },
    {
     "name": "stderr",
     "output_type": "stream",
     "text": [
      "claims:  14%|█▍        | 176/1228 [20:11<1:50:00,  6.27s/it, n_retrieved: 335, recall: 0.2] "
     ]
    },
    {
     "name": "stdout",
     "output_type": "stream",
     "text": [
      "claim-337 0.2 {'temperature', 'spain', 'final', 'c3s', 'month', 'france germany', 'final day', '10c', 'france'}\n"
     ]
    },
    {
     "name": "stderr",
     "output_type": "stream",
     "text": [
      "claims:  15%|█▍        | 180/1228 [20:36<2:02:13,  7.00s/it, n_retrieved: 317, recall: 0.4]               "
     ]
    },
    {
     "name": "stdout",
     "output_type": "stream",
     "text": [
      "claim-1376 0.4 {'planet', 'several', 'several time', 'today', 'past year', 'past'}\n"
     ]
    },
    {
     "name": "stderr",
     "output_type": "stream",
     "text": [
      "claims:  15%|█▌        | 189/1228 [21:48<2:31:23,  8.74s/it, n_retrieved: 496, recall: 0.0] "
     ]
    },
    {
     "name": "stdout",
     "output_type": "stream",
     "text": [
      "claim-3052 0.0 {'average temperature', 'global', 'increase', 'surface temperature', 'david', 'past year', 'average', 'global temperature', 'judith', 'surface', 'judith curry', 'past'}\n"
     ]
    },
    {
     "name": "stderr",
     "output_type": "stream",
     "text": [
      "claims:  15%|█▌        | 190/1228 [21:56<2:29:01,  8.61s/it, n_retrieved: 436, recall: 0.4]"
     ]
    },
    {
     "name": "stdout",
     "output_type": "stream",
     "text": [
      "claim-1157 0.4 {'time', 'average rate', 'annual', 'farm output', 'level', 'average', 'annual rate', 'farm', 'productivity', 'u', 'percent'}\n"
     ]
    },
    {
     "name": "stderr",
     "output_type": "stream",
     "text": [
      "claims:  16%|█▌        | 198/1228 [22:42<1:48:45,  6.33s/it, n_retrieved: 215, recall: 0.0]"
     ]
    },
    {
     "name": "stdout",
     "output_type": "stream",
     "text": [
      "claim-614 0.0 {'wet year', 'classic feast', 'classic', 'famine', 'wet', 'recovery', 'dry year', 'couple', 'rio grande', 'dry', 'river', 'rio'}\n"
     ]
    },
    {
     "name": "stderr",
     "output_type": "stream",
     "text": [
      "claims:  16%|█▌        | 199/1228 [22:51<2:04:16,  7.25s/it, n_retrieved: 150, recall: 0.0]"
     ]
    },
    {
     "name": "stdout",
     "output_type": "stream",
     "text": [
      "claim-868 0.0 {'remnant', 'flu', 'alaska', 'researcher'}\n"
     ]
    },
    {
     "name": "stderr",
     "output_type": "stream",
     "text": [
      "claims:  16%|█▋        | 201/1228 [23:19<3:06:42, 10.91s/it, n_retrieved: 367, recall: 0.2]               "
     ]
    },
    {
     "name": "stdout",
     "output_type": "stream",
     "text": [
      "claim-2453 0.2 {'carbon dioxide', 'killer', 'ordovician silurian', 'jurassiccretaceous', 'jurassiccretaceous period', 'carbon', 'ppmv', 'level', 'volume', 'ppmv part', 'ordovician', 'climate', 'killer proof'}\n"
     ]
    },
    {
     "name": "stderr",
     "output_type": "stream",
     "text": [
      "claims:  16%|█▋        | 202/1228 [23:25<2:43:34,  9.57s/it, n_retrieved: 369, recall: 0.0]"
     ]
    },
    {
     "name": "stdout",
     "output_type": "stream",
     "text": [
      "claim-2267 0.0 {'context', 'empirical', 'global', 'manmade', 'suggestive email', 'wealth', 'suggestive', 'empirical evidence', 'global warming', 'few'}\n"
     ]
    },
    {
     "name": "stderr",
     "output_type": "stream",
     "text": [
      "claims:  17%|█▋        | 206/1228 [23:48<1:49:40,  6.44s/it, n_retrieved: 428, recall: 0.2]"
     ]
    },
    {
     "name": "stdout",
     "output_type": "stream",
     "text": [
      "claim-2826 0.2 {'drop', 'effect', 'volcanic activity', 'warming', 'volcanic', 'early', '20th', '20th century', 'early century'}\n"
     ]
    },
    {
     "name": "stderr",
     "output_type": "stream",
     "text": [
      "claims:  17%|█▋        | 207/1228 [23:56<1:57:38,  6.91s/it, n_retrieved: 325, recall: 0.2]"
     ]
    },
    {
     "name": "stdout",
     "output_type": "stream",
     "text": [
      "claim-2775 0.2 {'instance', 'last year', 'original', 'original stick', 'hockey', 'hockey stick', 'datum', 'last'}\n"
     ]
    },
    {
     "name": "stderr",
     "output_type": "stream",
     "text": [
      "claims:  17%|█▋        | 209/1228 [24:04<1:36:37,  5.69s/it, n_retrieved: 360, recall: 0.3333333333333333]"
     ]
    },
    {
     "name": "stdout",
     "output_type": "stream",
     "text": [
      "claim-2482 0.3333333333333333 {'warm', 'global', 'global temperature', 'little', 'other', 'warm region', 'little impact'}\n"
     ]
    },
    {
     "name": "stderr",
     "output_type": "stream",
     "text": [
      "claims:  17%|█▋        | 211/1228 [24:20<1:49:33,  6.46s/it, n_retrieved: 492, recall: 0.4]               "
     ]
    },
    {
     "name": "stdout",
     "output_type": "stream",
     "text": [
      "claim-708 0.4 {'global', 'fossil fuel', 'continent', 'relative', 'relative balance', 'ice', 'human', 'fossil', 'human burning', 'global warming'}\n"
     ]
    },
    {
     "name": "stderr",
     "output_type": "stream",
     "text": [
      "claims:  17%|█▋        | 212/1228 [24:28<1:53:24,  6.70s/it, n_retrieved: 364, recall: 0.2]"
     ]
    },
    {
     "name": "stdout",
     "output_type": "stream",
     "text": [
      "claim-412 0.2 {'global', 'warming period', 'temperature', 'alarmist', 'alarmist movement', 'warming', 'f', 'global movement'}\n"
     ]
    },
    {
     "name": "stderr",
     "output_type": "stream",
     "text": [
      "claims:  17%|█▋        | 213/1228 [24:39<2:16:30,  8.07s/it, n_retrieved: 475, recall: 0.0]"
     ]
    },
    {
     "name": "stdout",
     "output_type": "stream",
     "text": [
      "claim-1855 0.0 {'force', 'gulf coast', 'obama', 'barrier', 'wetland', 'barrier island', 'gulf', 'hurricane', 'marsh', 'barack'}\n"
     ]
    },
    {
     "name": "stderr",
     "output_type": "stream",
     "text": [
      "claims:  17%|█▋        | 214/1228 [24:42<1:48:26,  6.42s/it, n_retrieved: 406, recall: 0.3333333333333333]"
     ]
    },
    {
     "name": "stdout",
     "output_type": "stream",
     "text": [
      "claim-1999 0.3333333333333333 {'carbon dioxide', 'emission', 'temperature', 'relationship', 'carbon', 'a\\xadhuman'}\n"
     ]
    },
    {
     "name": "stderr",
     "output_type": "stream",
     "text": [
      "claims:  18%|█▊        | 219/1228 [25:10<1:22:10,  4.89s/it, n_retrieved: 134, recall: 0.0]               "
     ]
    },
    {
     "name": "stdout",
     "output_type": "stream",
     "text": [
      "claim-1932 0.0 {'arctic ocean climate change', 'newspaper', 'newspaper article', 'arctic'}\n"
     ]
    },
    {
     "name": "stderr",
     "output_type": "stream",
     "text": [
      "claims:  18%|█▊        | 221/1228 [25:23<1:32:29,  5.51s/it, n_retrieved: 68, recall: 0.25]"
     ]
    },
    {
     "name": "stdout",
     "output_type": "stream",
     "text": [
      "claim-1825 0.25 {'climate', 'climate change', 'hoax', 'chinese'}\n"
     ]
    },
    {
     "name": "stderr",
     "output_type": "stream",
     "text": [
      "claims:  18%|█▊        | 222/1228 [25:38<2:22:54,  8.52s/it, n_retrieved: 494, recall: 0.25]"
     ]
    },
    {
     "name": "stdout",
     "output_type": "stream",
     "text": [
      "claim-1007 0.25 {'carbon dioxide', 'climate system', 'carbon', 'new record', 'level', 'atmosphere', 'human activity', 'evident', 'influence', 'human', 'taala', 'climate', 'new'}\n"
     ]
    },
    {
     "name": "stderr",
     "output_type": "stream",
     "text": [
      "claims:  18%|█▊        | 225/1228 [26:17<3:08:36, 11.28s/it, n_retrieved: 455, recall: 0.25]"
     ]
    },
    {
     "name": "stdout",
     "output_type": "stream",
     "text": [
      "claim-2365 0.25 {'climate change', 'ipcc', 'comparison', 'ipcc prediction', 'recent', 'climate', 'recent datum'}\n"
     ]
    },
    {
     "name": "stderr",
     "output_type": "stream",
     "text": [
      "claims:  19%|█▊        | 230/1228 [26:47<1:51:12,  6.69s/it, n_retrieved: 415, recall: 0.3333333333333333]"
     ]
    },
    {
     "name": "stdout",
     "output_type": "stream",
     "text": [
      "claim-2844 0.3333333333333333 {'empirical', 'graph', 'empirical datum', 'claim', 'observational', 't', 'claim level', 'conspiracy', 'sea level', 'conspiracy theory', 'sea', 'observational datum'}\n"
     ]
    },
    {
     "name": "stderr",
     "output_type": "stream",
     "text": [
      "claims:  19%|█▉        | 231/1228 [26:58<2:11:33,  7.92s/it, n_retrieved: 408, recall: 0.0]               "
     ]
    },
    {
     "name": "stdout",
     "output_type": "stream",
     "text": [
      "claim-789 0.0 {'health problem', 'dirty air', 'climate', 'climate damage', 'health', 'short', 'clean', 'dirty', 'short term', 'energy', 'clean source'}\n"
     ]
    },
    {
     "name": "stderr",
     "output_type": "stream",
     "text": [
      "claims:  19%|█▉        | 232/1228 [27:10<2:34:16,  9.29s/it, n_retrieved: 432, recall: 0.2]"
     ]
    },
    {
     "name": "stdout",
     "output_type": "stream",
     "text": [
      "claim-1143 0.2 {'circulation', 'wasn t', 'atmosphere', 'evidence change', 'natural variation', 'climate', 'wasn', 'ice gain', 'skeptic', 'southern hemisphere', 'evidence', 'natural', 'climate change', 'scientist', 'ice', 'southern'}\n"
     ]
    },
    {
     "name": "stderr",
     "output_type": "stream",
     "text": [
      "claims:  19%|█▉        | 236/1228 [27:44<2:28:04,  8.96s/it, n_retrieved: 455, recall: 0.0]"
     ]
    },
    {
     "name": "stdout",
     "output_type": "stream",
     "text": [
      "claim-1631 0.0 {'thermometer', 'warming trend', 'satellite', 'warming', 'rural', 'rural area'}\n"
     ]
    },
    {
     "name": "stderr",
     "output_type": "stream",
     "text": [
      "claims:  20%|█▉        | 240/1228 [27:57<1:11:59,  4.37s/it, n_retrieved: 463, recall: 0.4]"
     ]
    },
    {
     "name": "stdout",
     "output_type": "stream",
     "text": [
      "claim-622 0.4 {'effect', 'more', 'plant', 'long season', 'dr', 'long', 'stream', 'dr overpeck', 'more water'}\n"
     ]
    },
    {
     "name": "stderr",
     "output_type": "stream",
     "text": [
      "claims:  20%|█▉        | 242/1228 [28:08<1:18:16,  4.76s/it, n_retrieved: 179, recall: 0.0]"
     ]
    },
    {
     "name": "stdout",
     "output_type": "stream",
     "text": [
      "claim-2835 0.0 {'australia', 'arctic', 'equal', 'area', 'arctic sea ice', 'summer', 'equal area', 'decade', 'summer sea ice'}\n"
     ]
    },
    {
     "name": "stderr",
     "output_type": "stream",
     "text": [
      "claims:  20%|█▉        | 243/1228 [28:09<56:15,  3.43s/it, n_retrieved: 399, recall: 0.0]  "
     ]
    },
    {
     "name": "stdout",
     "output_type": "stream",
     "text": [
      "claim-1314 0.0 {'thousand', 'ten', 'high', 'high temperature', 'americans'}\n"
     ]
    },
    {
     "name": "stderr",
     "output_type": "stream",
     "text": [
      "claims:  20%|█▉        | 245/1228 [28:30<1:54:21,  6.98s/it, n_retrieved: 498, recall: 0.0]"
     ]
    },
    {
     "name": "stdout",
     "output_type": "stream",
     "text": [
      "claim-666 0.0 {'study', 'more', 'more individual', 'less', 'summer', 'weight', 'thin', 'polar', 'evidence', 'summer ice', 'polar bear', 'region', '1980', 'true', 'less ice', 'death'}\n"
     ]
    },
    {
     "name": "stderr",
     "output_type": "stream",
     "text": [
      "claims:  20%|██        | 246/1228 [28:38<1:56:23,  7.11s/it, n_retrieved: 268, recall: 0.0]"
     ]
    },
    {
     "name": "stdout",
     "output_type": "stream",
     "text": [
      "claim-788 0.0 {'expert', 'climate change', 'climate', 'bad', 'bad effect', 'energy transition', 'energy'}\n"
     ]
    },
    {
     "name": "stderr",
     "output_type": "stream",
     "text": [
      "claims:  20%|██        | 251/1228 [29:10<1:28:41,  5.45s/it, n_retrieved: 139, recall: 0.0]"
     ]
    },
    {
     "name": "stdout",
     "output_type": "stream",
     "text": [
      "claim-967 0.0 {'900ad', 'dramatic', 'dramatic cycle', 'warming cycle', 'warming'}\n"
     ]
    },
    {
     "name": "stderr",
     "output_type": "stream",
     "text": [
      "claims:  21%|██        | 253/1228 [29:36<2:31:51,  9.35s/it, n_retrieved: 319, recall: 0.4]"
     ]
    },
    {
     "name": "stdout",
     "output_type": "stream",
     "text": [
      "claim-1082 0.4 {'context', 'big picture', 'significant', 'nasa', 't', 'big', 'significant schmidt', 'noaa', 'difference', 'nasa aren'}\n"
     ]
    },
    {
     "name": "stderr",
     "output_type": "stream",
     "text": [
      "claims:  21%|██        | 254/1228 [29:36<1:47:56,  6.65s/it, n_retrieved: 442, recall: 0.0]"
     ]
    },
    {
     "name": "stdout",
     "output_type": "stream",
     "text": [
      "claim-2746 0.0 {'warm', 'weather station', 'warm trend', 'weather'}\n"
     ]
    },
    {
     "name": "stderr",
     "output_type": "stream",
     "text": [
      "claims:  21%|██        | 255/1228 [29:42<1:40:40,  6.21s/it, n_retrieved: 35, recall: 0.0] "
     ]
    },
    {
     "name": "stdout",
     "output_type": "stream",
     "text": [
      "claim-519 0.0 {'millennial', 'millennial scale', 'planet'}\n"
     ]
    },
    {
     "name": "stderr",
     "output_type": "stream",
     "text": [
      "claims:  21%|██        | 257/1228 [30:04<2:21:28,  8.74s/it, n_retrieved: 418, recall: 0.0]"
     ]
    },
    {
     "name": "stdout",
     "output_type": "stream",
     "text": [
      "claim-424 0.0 {'single', 'world', 'chart', 'gauge', 'sea level', 'tide station', 'san francisco', 'sea', 'tide', 'gauge station', 'single station', 'duffy', 'different rate', 'different', 'san'}\n"
     ]
    },
    {
     "name": "stderr",
     "output_type": "stream",
     "text": [
      "claims:  21%|██        | 259/1228 [30:11<1:43:13,  6.39s/it, n_retrieved: 447, recall: 0.0]"
     ]
    },
    {
     "name": "stdout",
     "output_type": "stream",
     "text": [
      "claim-1279 0.0 {'northern region', 'visualization', 'nasa', 'earth', 'space', 'nasa scientist', 'climate change', 'northern', 'startling change', 'month', 'green', 'startling', 'climate'}\n"
     ]
    },
    {
     "name": "stderr",
     "output_type": "stream",
     "text": [
      "claims:  21%|██▏       | 262/1228 [30:22<1:21:16,  5.05s/it, n_retrieved: 346, recall: 0.2]"
     ]
    },
    {
     "name": "stdout",
     "output_type": "stream",
     "text": [
      "claim-358 0.2 {'existential risk', 'existential', 'future', 'security', 'scenario', 'security risk', 'year', 'earth', 'analysis'}\n"
     ]
    },
    {
     "name": "stderr",
     "output_type": "stream",
     "text": [
      "claims:  22%|██▏       | 265/1228 [30:33<1:08:41,  4.28s/it, n_retrieved: 425, recall: 0.4]               "
     ]
    },
    {
     "name": "stdout",
     "output_type": "stream",
     "text": [
      "claim-2384 0.4 {'carbon dioxide', 'limit', 'economy', 'carbon', 'reality', 'climate economic', 'climate', 'research'}\n"
     ]
    },
    {
     "name": "stderr",
     "output_type": "stream",
     "text": [
      "claims:  22%|██▏       | 268/1228 [30:57<1:45:34,  6.60s/it, n_retrieved: 188, recall: 0.0]"
     ]
    },
    {
     "name": "stdout",
     "output_type": "stream",
     "text": [
      "claim-2953 0.0 {'nimbus7', 'nimbus7 erb record', 'particular', 'pmod alter', 'datum', 'particular alter', 'pmod'}\n"
     ]
    },
    {
     "name": "stderr",
     "output_type": "stream",
     "text": [
      "claims:  22%|██▏       | 269/1228 [31:01<1:33:18,  5.84s/it, n_retrieved: 385, recall: 0.6666666666666666]"
     ]
    },
    {
     "name": "stdout",
     "output_type": "stream",
     "text": [
      "claim-1576 0.0 {'solar cycle', 'global', 'solar', 'global warming'}\n"
     ]
    },
    {
     "name": "stderr",
     "output_type": "stream",
     "text": [
      "claims:  22%|██▏       | 271/1228 [31:02<55:21,  3.47s/it, n_retrieved: 399, recall: 0.0]                 "
     ]
    },
    {
     "name": "stdout",
     "output_type": "stream",
     "text": [
      "claim-1170 0.0 {'storm', 'rise', 'major', 'inch', 'sea level', 'sea', 'storm surge', 'foot', 'major hurricane', 'decade'}\n"
     ]
    },
    {
     "name": "stderr",
     "output_type": "stream",
     "text": [
      "claims:  22%|██▏       | 275/1228 [31:46<2:23:40,  9.05s/it, n_retrieved: 259, recall: 0.2] "
     ]
    },
    {
     "name": "stdout",
     "output_type": "stream",
     "text": [
      "claim-1844 0.2 {'terrorist attack', 'temperature', 'temperature drop', 'week', 'commercial traffic', 'terrorist', 'commercial', 'air', 'airplane', 'air traffic', 'weren', 'weren t'}\n"
     ]
    },
    {
     "name": "stderr",
     "output_type": "stream",
     "text": [
      "claims:  22%|██▏       | 276/1228 [31:56<2:26:48,  9.25s/it, n_retrieved: 331, recall: 0.4]"
     ]
    },
    {
     "name": "stdout",
     "output_type": "stream",
     "text": [
      "claim-168 0.4 {'climate change', 'temperature', 'scientist', 'specific event', 'specific', 'climate', 'ability'}\n"
     ]
    },
    {
     "name": "stderr",
     "output_type": "stream",
     "text": [
      "claims:  23%|██▎       | 277/1228 [31:58<1:56:22,  7.34s/it, n_retrieved: 336, recall: 0.0]"
     ]
    },
    {
     "name": "stdout",
     "output_type": "stream",
     "text": [
      "claim-1067 0.0 {'warm', 'old', 'warm year', 'snowpack', 'old climate'}\n"
     ]
    },
    {
     "name": "stderr",
     "output_type": "stream",
     "text": [
      "claims:  23%|██▎       | 278/1228 [32:03<1:43:09,  6.52s/it, n_retrieved: 284, recall: 0.0]"
     ]
    },
    {
     "name": "stdout",
     "output_type": "stream",
     "text": [
      "claim-1183 0.0 {'sea', 'resident', 'atoll'}\n"
     ]
    },
    {
     "name": "stderr",
     "output_type": "stream",
     "text": [
      "claims:  23%|██▎       | 279/1228 [32:07<1:32:12,  5.83s/it, n_retrieved: 178, recall: 0.4]"
     ]
    },
    {
     "name": "stdout",
     "output_type": "stream",
     "text": [
      "claim-1625 0.4 {'global', 'risk', 'global warming', 'heatwave'}\n"
     ]
    },
    {
     "name": "stderr",
     "output_type": "stream",
     "text": [
      "claims:  23%|██▎       | 285/1228 [33:09<2:54:32, 11.11s/it, n_retrieved: 444, recall: 0.4]               "
     ]
    },
    {
     "name": "stdout",
     "output_type": "stream",
     "text": [
      "claim-2591 0.4 {'upper level', 'more', 'planetary balance', 'saturation', 'central', 'more energy', 'possibility', 'upper', 'energy balance', 'central frequency', 'troposphere', 'energy', 'planetary', 'absorption'}\n"
     ]
    },
    {
     "name": "stderr",
     "output_type": "stream",
     "text": [
      "claims:  23%|██▎       | 286/1228 [33:23<3:03:58, 11.72s/it, n_retrieved: 358, recall: 0.0]"
     ]
    },
    {
     "name": "stdout",
     "output_type": "stream",
     "text": [
      "claim-1890 0.0 {'carbon dioxide', 'cheap', 'carbon', 'cheap coal', 'light', 'output', 'germany', 'use', 'same', 'same time', 'price', 'renewable', 'people'}\n"
     ]
    },
    {
     "name": "stderr",
     "output_type": "stream",
     "text": [
      "claims:  23%|██▎       | 287/1228 [33:23<2:13:33,  8.52s/it, n_retrieved: 292, recall: 0.0]"
     ]
    },
    {
     "name": "stdout",
     "output_type": "stream",
     "text": [
      "claim-51 0.0 {'carbon', 'climate change', 'carbon dioxide', 'climate'}\n"
     ]
    },
    {
     "name": "stderr",
     "output_type": "stream",
     "text": [
      "claims:  23%|██▎       | 288/1228 [33:36<2:31:18,  9.66s/it, n_retrieved: 359, recall: 0.3333333333333333]"
     ]
    },
    {
     "name": "stdout",
     "output_type": "stream",
     "text": [
      "claim-2779 0.3333333333333333 {'particulate', 'open fire', 'stove', 'exhaust', 'soot', 'coal', 'dung', 'open', 'chimney', 'asia', 'most', 'chimney smokestack', 'diesel', 'europe', 'coal wood', 'exhaust pipe', 'particulate filter', 'stove smokestack'}\n"
     ]
    },
    {
     "name": "stderr",
     "output_type": "stream",
     "text": [
      "claims:  24%|██▎       | 289/1228 [33:46<2:33:38,  9.82s/it, n_retrieved: 388, recall: 0.2]               "
     ]
    },
    {
     "name": "stdout",
     "output_type": "stream",
     "text": [
      "claim-2856 0.2 {'planet', 'week', 'small', 'climate forecast', 'small region', 'climate', 'present', 'opposite', 'present forecast'}\n"
     ]
    },
    {
     "name": "stderr",
     "output_type": "stream",
     "text": [
      "claims:  24%|██▎       | 290/1228 [34:02<3:02:45, 11.69s/it, n_retrieved: 443, recall: 0.0]"
     ]
    },
    {
     "name": "stdout",
     "output_type": "stream",
     "text": [
      "claim-2358 0.0 {'carbon dioxide', 'natural absorption', 'emit', 'ocean', 'carbon', 'natural', 'vegetation', 'nature'}\n"
     ]
    },
    {
     "name": "stderr",
     "output_type": "stream",
     "text": [
      "claims:  24%|██▎       | 291/1228 [34:14<3:02:56, 11.71s/it, n_retrieved: 422, recall: 0.0]"
     ]
    },
    {
     "name": "stdout",
     "output_type": "stream",
     "text": [
      "claim-982 0.0 {'extreme swing', 'climate change', 'climate', 'drought', 'evidence', 'extreme'}\n"
     ]
    },
    {
     "name": "stderr",
     "output_type": "stream",
     "text": [
      "claims:  24%|██▍       | 299/1228 [34:57<1:36:43,  6.25s/it, n_retrieved: 497, recall: 0.4]               "
     ]
    },
    {
     "name": "stdout",
     "output_type": "stream",
     "text": [
      "claim-197 0.4 {'carbon dioxide', 'content', 'time', 'plant', 'carbon', 'today', 'atmosphere'}\n"
     ]
    },
    {
     "name": "stderr",
     "output_type": "stream",
     "text": [
      "claims:  25%|██▍       | 301/1228 [35:16<1:58:46,  7.69s/it, n_retrieved: 398, recall: 0.0]"
     ]
    },
    {
     "name": "stdout",
     "output_type": "stream",
     "text": [
      "claim-74 0.0 {'time', 'amount', 'warming', 'world', 'model'}\n"
     ]
    },
    {
     "name": "stderr",
     "output_type": "stream",
     "text": [
      "claims:  25%|██▍       | 302/1228 [35:20<1:44:19,  6.76s/it, n_retrieved: 356, recall: 0.4]"
     ]
    },
    {
     "name": "stdout",
     "output_type": "stream",
     "text": [
      "claim-357 0.4 {'irreversible collapse', 'humanity', 'mind', 'decade', 'irreversible', 'scenario'}\n"
     ]
    },
    {
     "name": "stderr",
     "output_type": "stream",
     "text": [
      "claims:  25%|██▍       | 303/1228 [35:33<2:11:41,  8.54s/it, n_retrieved: 391, recall: 0.0]"
     ]
    },
    {
     "name": "stdout",
     "output_type": "stream",
     "text": [
      "claim-888 0.0 {'degree celsius', 'mild warming', 'planet', 'degree', 'middle', '19th century', 'mild', '19th'}\n"
     ]
    },
    {
     "name": "stderr",
     "output_type": "stream",
     "text": [
      "claims:  25%|██▍       | 304/1228 [35:37<1:48:33,  7.05s/it, n_retrieved: 181, recall: 0.2]"
     ]
    },
    {
     "name": "stdout",
     "output_type": "stream",
     "text": [
      "claim-1714 0.2 {'ipcc', 'inappropriate', 'inappropriate manner', 'monckton', 'ipcc equation'}\n"
     ]
    },
    {
     "name": "stderr",
     "output_type": "stream",
     "text": [
      "claims:  25%|██▍       | 306/1228 [35:48<1:31:49,  5.98s/it, n_retrieved: 390, recall: 0.25]"
     ]
    },
    {
     "name": "stdout",
     "output_type": "stream",
     "text": [
      "claim-1772 0.25 {'global', 'economist', 'climate damage', 'climate', 'cost', 'global warming'}\n"
     ]
    },
    {
     "name": "stderr",
     "output_type": "stream",
     "text": [
      "claims:  25%|██▌       | 307/1228 [35:58<1:50:32,  7.20s/it, n_retrieved: 361, recall: 0.4] "
     ]
    },
    {
     "name": "stdout",
     "output_type": "stream",
     "text": [
      "claim-2387 0.4 {'greenland', 'ice sheet', 'european', 'warming', 'year', 'greeland', 'ice'}\n"
     ]
    },
    {
     "name": "stderr",
     "output_type": "stream",
     "text": [
      "claims:  25%|██▌       | 310/1228 [36:15<1:18:38,  5.14s/it, n_retrieved: 497, recall: 0.4]"
     ]
    },
    {
     "name": "stdout",
     "output_type": "stream",
     "text": [
      "claim-555 0.4 {'elderberry', 'brown', 'feeding', 'feeding habit', 'brown bear', 'alaska'}\n"
     ]
    },
    {
     "name": "stderr",
     "output_type": "stream",
     "text": [
      "claims:  25%|██▌       | 311/1228 [36:19<1:17:13,  5.05s/it, n_retrieved: 186, recall: 0.25]"
     ]
    },
    {
     "name": "stdout",
     "output_type": "stream",
     "text": [
      "claim-1653 0.25 {'ocean measurement', 'ocean', 'recent', 'recent measurement', 'consistent', 'consistent warming'}\n"
     ]
    },
    {
     "name": "stderr",
     "output_type": "stream",
     "text": [
      "claims:  25%|██▌       | 313/1228 [36:29<1:07:28,  4.42s/it, n_retrieved: 465, recall: 0.0] "
     ]
    },
    {
     "name": "stdout",
     "output_type": "stream",
     "text": [
      "claim-1303 0.0 {'global', 'many way', 'good thing', 'good', 'one', 'global warming', 'many'}\n"
     ]
    },
    {
     "name": "stderr",
     "output_type": "stream",
     "text": [
      "claims:  26%|██▌       | 319/1228 [37:06<1:04:58,  4.29s/it, n_retrieved: 402, recall: 0.2]"
     ]
    },
    {
     "name": "stdout",
     "output_type": "stream",
     "text": [
      "claim-87 0.2 {'warm', 'colder', 'past temperature', 'recent', 'recent temperature', 'noaa', 'past'}\n"
     ]
    },
    {
     "name": "stderr",
     "output_type": "stream",
     "text": [
      "claims:  26%|██▌       | 321/1228 [37:17<1:13:37,  4.87s/it, n_retrieved: 355, recall: 0.4]"
     ]
    },
    {
     "name": "stdout",
     "output_type": "stream",
     "text": [
      "claim-95 0.4 {'global', 'bad situation', 'bad', 'climate scientist', 'hurricane harvey', 'aspect', 'hurricane', 'climate', 'case', 'global warming'}\n"
     ]
    },
    {
     "name": "stderr",
     "output_type": "stream",
     "text": [
      "claims:  26%|██▋       | 325/1228 [37:46<1:18:43,  5.23s/it, n_retrieved: 340, recall: 0.0]"
     ]
    },
    {
     "name": "stdout",
     "output_type": "stream",
     "text": [
      "claim-1374 0.0 {'world', 'scientific', 'world temperature', 'scientific consensus'}\n",
      "claim-819 0.0 {'climate', 'climate change'}\n"
     ]
    },
    {
     "name": "stderr",
     "output_type": "stream",
     "text": [
      "claims:  27%|██▋       | 327/1228 [37:47<43:11,  2.88s/it, n_retrieved: 254, recall: 0.0]  "
     ]
    },
    {
     "name": "stdout",
     "output_type": "stream",
     "text": [
      "claim-2822 0.0 {'paper', 'klausmartin schulte', 'klausmartin', 'february'}\n"
     ]
    },
    {
     "name": "stderr",
     "output_type": "stream",
     "text": [
      "claims:  27%|██▋       | 328/1228 [37:56<1:13:53,  4.93s/it, n_retrieved: 172, recall: 0.0]"
     ]
    },
    {
     "name": "stdout",
     "output_type": "stream",
     "text": [
      "claim-1130 0.0 {'warm', 'super', 'warm year', 'record', 'super el nino', 'record year'}\n"
     ]
    },
    {
     "name": "stderr",
     "output_type": "stream",
     "text": [
      "claims:  27%|██▋       | 332/1228 [38:21<1:27:29,  5.86s/it, n_retrieved: 487, recall: 0.2]               "
     ]
    },
    {
     "name": "stdout",
     "output_type": "stream",
     "text": [
      "claim-473 0.2 {'hand', 'pacific', 'average water', 'other', 'other feature', 'average', 'hand feature', 'nina'}\n"
     ]
    },
    {
     "name": "stderr",
     "output_type": "stream",
     "text": [
      "claims:  27%|██▋       | 334/1228 [38:38<1:46:15,  7.13s/it, n_retrieved: 317, recall: 0.0]"
     ]
    },
    {
     "name": "stdout",
     "output_type": "stream",
     "text": [
      "claim-2877 0.0 {'science database', 'isi web', 'peerreviewed', 'benny', 'science', 'search', 'isi', 'peerreviewed literature', 'benny peiser'}\n"
     ]
    },
    {
     "name": "stderr",
     "output_type": "stream",
     "text": [
      "claims:  27%|██▋       | 336/1228 [38:54<1:52:34,  7.57s/it, n_retrieved: 339, recall: 0.2]"
     ]
    },
    {
     "name": "stdout",
     "output_type": "stream",
     "text": [
      "claim-1175 0.2 {'only system', 'only', 'global', 'climate model', 'global system', 'satellite', 'warming', 'half', 'monitoring', 'computerized model', 'climate', 'monitoring system', 'computerized'}\n"
     ]
    },
    {
     "name": "stderr",
     "output_type": "stream",
     "text": [
      "claims:  27%|██▋       | 337/1228 [39:07<2:13:33,  8.99s/it, n_retrieved: 386, recall: 0.0]"
     ]
    },
    {
     "name": "stdout",
     "output_type": "stream",
     "text": [
      "claim-1055 0.0 {'attribution statement', 'definitive statement', 'definitive', 'humandriven', 'root cause', 'oxygen decline', 'oxygen', 'humandriven warming', 'root', 'datum', 'attribution'}\n"
     ]
    },
    {
     "name": "stderr",
     "output_type": "stream",
     "text": [
      "claims:  28%|██▊       | 338/1228 [39:12<1:58:47,  8.01s/it, n_retrieved: 340, recall: 0.0]"
     ]
    },
    {
     "name": "stdout",
     "output_type": "stream",
     "text": [
      "claim-1296 0.0 {'global', 'greener', 'world', 'precipitation', 'global warming'}\n"
     ]
    },
    {
     "name": "stderr",
     "output_type": "stream",
     "text": [
      "claims:  28%|██▊       | 340/1228 [39:30<2:05:18,  8.47s/it, n_retrieved: 364, recall: 0.4]"
     ]
    },
    {
     "name": "stdout",
     "output_type": "stream",
     "text": [
      "claim-3034 0.4 {'carbon dioxide', 'scientific', 'strong driver', 'strong', 'climate', 'carbon', 'rock weathering', 'rock', 'scientific fact', 'atmospheric'}\n"
     ]
    },
    {
     "name": "stderr",
     "output_type": "stream",
     "text": [
      "claims:  28%|██▊       | 341/1228 [39:42<2:20:35,  9.51s/it, n_retrieved: 403, recall: 0.4]"
     ]
    },
    {
     "name": "stdout",
     "output_type": "stream",
     "text": [
      "claim-1452 0.4 {'most', 'warm', 'place', 'warming', 'record', 'past year', 'record taking', 'warm year', 'past'}\n"
     ]
    },
    {
     "name": "stderr",
     "output_type": "stream",
     "text": [
      "claims:  28%|██▊       | 349/1228 [40:39<1:45:12,  7.18s/it, n_retrieved: 363, recall: 1.0]"
     ]
    },
    {
     "name": "stdout",
     "output_type": "stream",
     "text": [
      "claim-1579 0.2 {'drop', 'volcanic activity', 'volcanic'}\n"
     ]
    },
    {
     "name": "stderr",
     "output_type": "stream",
     "text": [
      "claims:  29%|██▊       | 351/1228 [40:44<1:13:06,  5.00s/it, n_retrieved: 359, recall: 0.2]"
     ]
    },
    {
     "name": "stdout",
     "output_type": "stream",
     "text": [
      "claim-1968 0.2 {'global', 'early', 'daylight time', 'early start', 'daylight', 'saving', 'global warming'}\n"
     ]
    },
    {
     "name": "stderr",
     "output_type": "stream",
     "text": [
      "claims:  29%|██▉       | 355/1228 [41:06<1:16:41,  5.27s/it, n_retrieved: 366, recall: 0.2]"
     ]
    },
    {
     "name": "stdout",
     "output_type": "stream",
     "text": [
      "claim-1662 0.2 {'greenland', 'warm', 'colder', 'earth', 'other', 'other part'}\n"
     ]
    },
    {
     "name": "stderr",
     "output_type": "stream",
     "text": [
      "claims:  29%|██▉       | 357/1228 [41:18<1:15:12,  5.18s/it, n_retrieved: 266, recall: 0.0]"
     ]
    },
    {
     "name": "stdout",
     "output_type": "stream",
     "text": [
      "claim-2706 0.0 {'temperature', 'temperature datum', 'monckton', 'few station', 'few'}\n"
     ]
    },
    {
     "name": "stderr",
     "output_type": "stream",
     "text": [
      "claims:  29%|██▉       | 358/1228 [41:32<1:53:25,  7.82s/it, n_retrieved: 482, recall: 0.4]"
     ]
    },
    {
     "name": "stdout",
     "output_type": "stream",
     "text": [
      "claim-1299 0.4 {'global', 'prosperity', 'recent study', 'severe hurricane', 'nature study', 'global warming', 'damage', 'resilience', 'gdp', 'recent', 'cent', '0', 'severe', 'nature', 'ferocity'}\n"
     ]
    },
    {
     "name": "stderr",
     "output_type": "stream",
     "text": [
      "claims:  29%|██▉       | 359/1228 [41:35<1:34:22,  6.52s/it, n_retrieved: 458, recall: 1.0]"
     ]
    },
    {
     "name": "stdout",
     "output_type": "stream",
     "text": [
      "claim-108 0.3333333333333333 {'sealevel', 'sealevel rise'}\n"
     ]
    },
    {
     "name": "stderr",
     "output_type": "stream",
     "text": [
      "claims:  29%|██▉       | 362/1228 [41:43<59:56,  4.15s/it, n_retrieved: 304, recall: 0.0]  "
     ]
    },
    {
     "name": "stdout",
     "output_type": "stream",
     "text": [
      "claim-310 0.0 {'night', 'slight warming', 'slight', 'winter', 'datum'}\n"
     ]
    },
    {
     "name": "stderr",
     "output_type": "stream",
     "text": [
      "claims:  30%|██▉       | 363/1228 [41:48<1:01:13,  4.25s/it, n_retrieved: 356, recall: 0.0]"
     ]
    },
    {
     "name": "stdout",
     "output_type": "stream",
     "text": [
      "claim-1410 0.0 {'phone number', 'temperature', 'viscosity', 'course', 'density', 'phone'}\n"
     ]
    },
    {
     "name": "stderr",
     "output_type": "stream",
     "text": [
      "claims:  30%|██▉       | 366/1228 [42:18<1:50:59,  7.73s/it, n_retrieved: 163, recall: 0.2]"
     ]
    },
    {
     "name": "stdout",
     "output_type": "stream",
     "text": [
      "claim-2161 0.2 {'carbon dioxide', 'limit', 'planet', 'carbon', 't'}\n"
     ]
    },
    {
     "name": "stderr",
     "output_type": "stream",
     "text": [
      "claims:  30%|██▉       | 368/1228 [42:32<1:54:03,  7.96s/it, n_retrieved: 480, recall: 0.0]"
     ]
    },
    {
     "name": "stdout",
     "output_type": "stream",
     "text": [
      "claim-41 0.0 {'professional', 'secretarygeneral', 'united nations', 'field', 'scientist', 'united', 'european', 'european declaration', 'climate', 'climate declaration'}\n",
      "claim-1555 0.3333333333333333 {'climate', 'climate change', 'el', 'el nino'}\n"
     ]
    },
    {
     "name": "stderr",
     "output_type": "stream",
     "text": [
      "claims:  30%|███       | 370/1228 [42:40<1:25:54,  6.01s/it, n_retrieved: 256, recall: 0.3333333333333333]"
     ]
    },
    {
     "name": "stdout",
     "output_type": "stream",
     "text": [
      "claim-960 0.3333333333333333 {'global', 'temperature', 'global trend', 'further', 'year', 'further warming', 'temperature trend'}\n"
     ]
    },
    {
     "name": "stderr",
     "output_type": "stream",
     "text": [
      "claims:  30%|███       | 371/1228 [42:46<1:28:11,  6.17s/it, n_retrieved: 378, recall: 0.4]               "
     ]
    },
    {
     "name": "stdout",
     "output_type": "stream",
     "text": [
      "claim-1023 0.4 {'certain kind', 'plate', 'reef', 'certain', 'branching', 'protection', 'predator', 'small fish', 'small', 'plate coral', 'reef scientist', 'variety', 'decade', 'extinct'}\n"
     ]
    },
    {
     "name": "stderr",
     "output_type": "stream",
     "text": [
      "claims:  30%|███       | 372/1228 [42:47<1:07:31,  4.73s/it, n_retrieved: 389, recall: 0.2]"
     ]
    },
    {
     "name": "stdout",
     "output_type": "stream",
     "text": [
      "claim-527 0.2 {'hundred', 'sea level', 'sea', 'metre', 'dynamic planet', 'change', 'dynamic'}\n"
     ]
    },
    {
     "name": "stderr",
     "output_type": "stream",
     "text": [
      "claims:  30%|███       | 373/1228 [43:00<1:38:24,  6.91s/it, n_retrieved: 446, recall: 0.2]"
     ]
    },
    {
     "name": "stdout",
     "output_type": "stream",
     "text": [
      "claim-98 0.2 {'temperature', 'venu', 'brink', 'degree', 'sulphuric acid', 'earth', 'trump', 'action', 'sulphuric'}\n"
     ]
    },
    {
     "name": "stderr",
     "output_type": "stream",
     "text": [
      "claims:  30%|███       | 374/1228 [43:11<1:55:09,  8.09s/it, n_retrieved: 473, recall: 0.0]"
     ]
    },
    {
     "name": "stdout",
     "output_type": "stream",
     "text": [
      "claim-3056 0.0 {'antarctic', 'observed datum', 'chlorofluorocarbon', 'global', 'cosmic ray', 'ozone hole', 'antarctic hole', 'observed', 'ozone', 'cosmic', 'global warming'}\n"
     ]
    },
    {
     "name": "stderr",
     "output_type": "stream",
     "text": [
      "claims:  31%|███       | 375/1228 [43:20<1:58:14,  8.32s/it, n_retrieved: 410, recall: 0.0]"
     ]
    },
    {
     "name": "stdout",
     "output_type": "stream",
     "text": [
      "claim-1869 0.0 {'global', 'large', 'vehicle', 'today', 'americans', 'large proportion', 'attention', 'country', 'suvs', 'global warming'}\n"
     ]
    },
    {
     "name": "stderr",
     "output_type": "stream",
     "text": [
      "claims:  31%|███▏      | 386/1228 [44:25<57:27,  4.09s/it, n_retrieved: 250, recall: 0.0]                 "
     ]
    },
    {
     "name": "stdout",
     "output_type": "stream",
     "text": [
      "claim-2493 0.0 {'global', 'mount', 'global warming', 'mount kilimanjaro glacier'}\n"
     ]
    },
    {
     "name": "stderr",
     "output_type": "stream",
     "text": [
      "claims:  32%|███▏      | 387/1228 [44:34<1:19:34,  5.68s/it, n_retrieved: 441, recall: 0.2]"
     ]
    },
    {
     "name": "stdout",
     "output_type": "stream",
     "text": [
      "claim-2208 0.2 {'empirical', 'global', 'empirical measurement', 'planet', 'heat', 'heat content', 'earth', 'global warming'}\n"
     ]
    },
    {
     "name": "stderr",
     "output_type": "stream",
     "text": [
      "claims:  32%|███▏      | 388/1228 [44:46<1:42:11,  7.30s/it, n_retrieved: 448, recall: 0.0]"
     ]
    },
    {
     "name": "stdout",
     "output_type": "stream",
     "text": [
      "claim-2522 0.0 {'effect', 'upper atmosphere', 'warm', 'cold atmosphere', 'disparity', 'thermal', 'cold', 'space', 'warm temperature', 'upper', 'surface', 'thermal radiation'}\n"
     ]
    },
    {
     "name": "stderr",
     "output_type": "stream",
     "text": [
      "claims:  32%|███▏      | 389/1228 [44:52<1:37:35,  6.98s/it, n_retrieved: 157, recall: 0.0]"
     ]
    },
    {
     "name": "stdout",
     "output_type": "stream",
     "text": [
      "claim-581 0.0 {'past summer', 'past', 'kind', 'extreme heat', 'norm', 'extreme'}\n"
     ]
    },
    {
     "name": "stderr",
     "output_type": "stream",
     "text": [
      "claims:  32%|███▏      | 391/1228 [45:07<1:40:45,  7.22s/it, n_retrieved: 466, recall: 0.0]"
     ]
    },
    {
     "name": "stdout",
     "output_type": "stream",
     "text": [
      "claim-745 0.0 {'carbon dioxide', 'warm', 'more', 'cold', 'carbon', 'more dioxide', 'warm time', 'climate change', 'biodiversity', 'atmospheric', 'atmospheric dioxide', 'climate', 'cold time', 'past'}\n"
     ]
    },
    {
     "name": "stderr",
     "output_type": "stream",
     "text": [
      "claims:  32%|███▏      | 393/1228 [45:20<1:38:45,  7.10s/it, n_retrieved: 450, recall: 0.0]"
     ]
    },
    {
     "name": "stdout",
     "output_type": "stream",
     "text": [
      "claim-2887 0.0 {'bad', 'planet', 'prognosis', 'fever'}\n"
     ]
    },
    {
     "name": "stderr",
     "output_type": "stream",
     "text": [
      "claims:  32%|███▏      | 395/1228 [45:34<1:30:05,  6.49s/it, n_retrieved: 485, recall: 0.3333333333333333]"
     ]
    },
    {
     "name": "stdout",
     "output_type": "stream",
     "text": [
      "claim-1247 0.3333333333333333 {'global', 'summer', 'icefree arctic', 'global change', 'symbol', 'icefree', 'term', 'people'}\n"
     ]
    },
    {
     "name": "stderr",
     "output_type": "stream",
     "text": [
      "claims:  32%|███▏      | 396/1228 [45:56<2:33:46, 11.09s/it, n_retrieved: 442, recall: 0.25]              "
     ]
    },
    {
     "name": "stdout",
     "output_type": "stream",
     "text": [
      "claim-1017 0.25 {'transition', 'planet', 'lowcarbon', 'cheap energy', 'cost', 'climate denier', 'climate', 'fossil', 'cheap', 'sake', 'inaction', 'fossil fuel', 'grandchild', 'watson', 'child', 'lowcarbon economy'}\n"
     ]
    },
    {
     "name": "stderr",
     "output_type": "stream",
     "text": [
      "claims:  32%|███▏      | 397/1228 [45:57<1:51:15,  8.03s/it, n_retrieved: 424, recall: 0.0] "
     ]
    },
    {
     "name": "stdout",
     "output_type": "stream",
     "text": [
      "claim-100 0.0 {'scientific paper', 'global', 'scientific', 'myth', 'graph', 'global warming'}\n"
     ]
    },
    {
     "name": "stderr",
     "output_type": "stream",
     "text": [
      "claims:  33%|███▎      | 400/1228 [46:22<1:50:59,  8.04s/it, n_retrieved: 413, recall: 0.0]"
     ]
    },
    {
     "name": "stdout",
     "output_type": "stream",
     "text": [
      "claim-2903 0.0 {'interesting', 'time', 'interesting point', 'new', 'new dataset'}\n"
     ]
    },
    {
     "name": "stderr",
     "output_type": "stream",
     "text": [
      "claims:  33%|███▎      | 401/1228 [46:27<1:38:18,  7.13s/it, n_retrieved: 322, recall: 0.0]"
     ]
    },
    {
     "name": "stdout",
     "output_type": "stream",
     "text": [
      "claim-2460 0.0 {'drop', 'temperature', 'abnormal warmth', 'national', 'national geographic', 'abnormal', 'decade'}\n"
     ]
    },
    {
     "name": "stderr",
     "output_type": "stream",
     "text": [
      "claims:  33%|███▎      | 404/1228 [46:52<1:41:04,  7.36s/it, n_retrieved: 388, recall: 0.2]"
     ]
    },
    {
     "name": "stdout",
     "output_type": "stream",
     "text": [
      "claim-235 0.2 {'average temperature', '9c', 'average', 'planet', 'ground', 'ground temperature', '62f'}\n"
     ]
    },
    {
     "name": "stderr",
     "output_type": "stream",
     "text": [
      "claims:  33%|███▎      | 411/1228 [47:49<1:48:45,  7.99s/it, n_retrieved: 461, recall: 0.0] "
     ]
    },
    {
     "name": "stdout",
     "output_type": "stream",
     "text": [
      "claim-667 0.0 {'simple fact', 'failure', 'survival', 'polar', 'simple', 'way', 'myth', 'survival model', 'bear model', 'extinction', 'bear'}\n"
     ]
    },
    {
     "name": "stderr",
     "output_type": "stream",
     "text": [
      "claims:  34%|███▎      | 413/1228 [48:12<2:17:39, 10.13s/it, n_retrieved: 407, recall: 0.4]"
     ]
    },
    {
     "name": "stdout",
     "output_type": "stream",
     "text": [
      "claim-2214 0.4 {'air conditioning', 'asphalt', 'exhaust', 'parking', 'parking lot', 'blisteringhot rooftop', 'building', 'sidewalk', 'road', 'exhaust fan', 'heat', 'unit', 'weather station', 'air', 'weather', 'blisteringhot', 'u'}\n"
     ]
    },
    {
     "name": "stderr",
     "output_type": "stream",
     "text": [
      "claims:  34%|███▎      | 414/1228 [48:18<2:02:05,  9.00s/it, n_retrieved: 188, recall: 0.0]"
     ]
    },
    {
     "name": "stdout",
     "output_type": "stream",
     "text": [
      "claim-1813 0.0 {'greenhouse', 'many error', 's', 'many', 'necessity', 'way', 'simple error', 'existence', 'greenhouse effect', 'simple', 'model', 'postma'}\n"
     ]
    },
    {
     "name": "stderr",
     "output_type": "stream",
     "text": [
      "claims:  34%|███▍      | 415/1228 [48:24<1:50:06,  8.13s/it, n_retrieved: 299, recall: 0.4]"
     ]
    },
    {
     "name": "stdout",
     "output_type": "stream",
     "text": [
      "claim-768 0.4 {'greenhouse effect', 'greenhouse', 'century'}\n"
     ]
    },
    {
     "name": "stderr",
     "output_type": "stream",
     "text": [
      "claims:  34%|███▍      | 420/1228 [49:05<1:54:01,  8.47s/it, n_retrieved: 482, recall: 0.0]"
     ]
    },
    {
     "name": "stdout",
     "output_type": "stream",
     "text": [
      "claim-2370 0.0 {'water vapour', 'greenhouse', 'temperature', 'greenhouse gas', 'warm', 'cloud cover', 'heat', 'cloud', 'water'}\n"
     ]
    },
    {
     "name": "stderr",
     "output_type": "stream",
     "text": [
      "claims:  34%|███▍      | 423/1228 [49:13<57:32,  4.29s/it, n_retrieved: 77, recall: 0.0]   "
     ]
    },
    {
     "name": "stdout",
     "output_type": "stream",
     "text": [
      "claim-1623 0.0 {'underground temperature', 'underground', 'control', 'control climate'}\n"
     ]
    },
    {
     "name": "stderr",
     "output_type": "stream",
     "text": [
      "claims:  35%|███▍      | 425/1228 [49:24<59:06,  4.42s/it, n_retrieved: 434, recall: 0.25]                "
     ]
    },
    {
     "name": "stdout",
     "output_type": "stream",
     "text": [
      "claim-1769 0.25 {'carbon dioxide', 'emission', 'global', 'carbon', 'level', 'global warming', 'century'}\n"
     ]
    },
    {
     "name": "stderr",
     "output_type": "stream",
     "text": [
      "claims:  35%|███▍      | 426/1228 [49:31<1:09:32,  5.20s/it, n_retrieved: 180, recall: 0.0]"
     ]
    },
    {
     "name": "stdout",
     "output_type": "stream",
     "text": [
      "claim-1955 0.0 {'pollution', 'hook', 'pollution rule', 'sen', 'george', 'sen lemieux', 'oil company', 'george lemieux', 'oil'}\n"
     ]
    },
    {
     "name": "stderr",
     "output_type": "stream",
     "text": [
      "claims:  35%|███▍      | 428/1228 [49:35<44:38,  3.35s/it, n_retrieved: 430, recall: 0.5]  "
     ]
    },
    {
     "name": "stdout",
     "output_type": "stream",
     "text": [
      "claim-3007 0.0 {'water level', 'water', 'evidence', 'link', 'solar', 'solar activity'}\n"
     ]
    },
    {
     "name": "stderr",
     "output_type": "stream",
     "text": [
      "claims:  35%|███▌      | 433/1228 [50:21<1:38:12,  7.41s/it, n_retrieved: 235, recall: 0.0]               "
     ]
    },
    {
     "name": "stdout",
     "output_type": "stream",
     "text": [
      "claim-772 0.0 {'gas', 'human', 'air', 'geologist', 'nature'}\n"
     ]
    },
    {
     "name": "stderr",
     "output_type": "stream",
     "text": [
      "claims:  35%|███▌      | 435/1228 [50:32<1:24:40,  6.41s/it, n_retrieved: 407, recall: 0.0]               "
     ]
    },
    {
     "name": "stdout",
     "output_type": "stream",
     "text": [
      "claim-244 0.0 {'chunk', 'rise'}\n"
     ]
    },
    {
     "name": "stderr",
     "output_type": "stream",
     "text": [
      "claims:  36%|███▌      | 437/1228 [50:56<1:58:25,  8.98s/it, n_retrieved: 314, recall: 0.4]"
     ]
    },
    {
     "name": "stdout",
     "output_type": "stream",
     "text": [
      "claim-2729 0.4 {'metre', 'heat', 'own requirement', 'service', 'weather', 'artificial heating', 'artificial', 'heat source', 'station', 'own', 'siting', 'siting requirement', 'percent'}\n"
     ]
    },
    {
     "name": "stderr",
     "output_type": "stream",
     "text": [
      "claims:  36%|███▌      | 438/1228 [51:00<1:40:33,  7.64s/it, n_retrieved: 263, recall: 0.2]"
     ]
    },
    {
     "name": "stdout",
     "output_type": "stream",
     "text": [
      "claim-2004 0.2 {'clinton', 'engagement', 'hearing', 'climate', 'knowledge', 'obama', 'climate change', 'issue', 'legislation', 'issue change'}\n"
     ]
    },
    {
     "name": "stderr",
     "output_type": "stream",
     "text": [
      "claims:  36%|███▌      | 445/1228 [51:28<48:39,  3.73s/it, n_retrieved: 430, recall: 0.0]  "
     ]
    },
    {
     "name": "stdout",
     "output_type": "stream",
     "text": [
      "claim-994 0.0 {'sealevel', 'several study', 'several', 'sweet', 'sealevel rise'}\n"
     ]
    },
    {
     "name": "stderr",
     "output_type": "stream",
     "text": [
      "claims:  36%|███▋      | 446/1228 [51:34<57:26,  4.41s/it, n_retrieved: 455, recall: 0.2]"
     ]
    },
    {
     "name": "stdout",
     "output_type": "stream",
     "text": [
      "claim-567 0.2 {'climate', 'change', 'climate change', 'persistent'}\n"
     ]
    },
    {
     "name": "stderr",
     "output_type": "stream",
     "text": [
      "claims:  37%|███▋      | 452/1228 [52:13<1:16:35,  5.92s/it, n_retrieved: 130, recall: 0.2]"
     ]
    },
    {
     "name": "stdout",
     "output_type": "stream",
     "text": [
      "claim-830 0.2 {'earth', 'part'}\n"
     ]
    },
    {
     "name": "stderr",
     "output_type": "stream",
     "text": [
      "claims:  37%|███▋      | 456/1228 [52:59<1:49:25,  8.51s/it, n_retrieved: 266, recall: 1.0]               "
     ]
    },
    {
     "name": "stdout",
     "output_type": "stream",
     "text": [
      "claim-697 0.0 {'temperature', 'actual', 'temperature observation', 'many', 'validity', 'many scientist', 'model prediction', 'actual observation', 'mismatch', 'model', 'few'}\n"
     ]
    },
    {
     "name": "stderr",
     "output_type": "stream",
     "text": [
      "claims:  37%|███▋      | 458/1228 [53:15<1:54:27,  8.92s/it, n_retrieved: 149, recall: 0.3333333333333333]"
     ]
    },
    {
     "name": "stdout",
     "output_type": "stream",
     "text": [
      "claim-2272 0.3333333333333333 {'proper degree', 'openness', 'ipcc', 'doubt', 'proper', 'conclusion', 'behaviour', 'honesty', 'scientist', 'rigour'}\n"
     ]
    },
    {
     "name": "stderr",
     "output_type": "stream",
     "text": [
      "claims:  37%|███▋      | 459/1228 [53:16<1:21:18,  6.34s/it, n_retrieved: 286, recall: 0.0]               "
     ]
    },
    {
     "name": "stdout",
     "output_type": "stream",
     "text": [
      "claim-562 0.0 {'longterm', 'factor', 'longterm warming', 'climate', 'current', 'current prediction', 'climate prediction'}\n"
     ]
    },
    {
     "name": "stderr",
     "output_type": "stream",
     "text": [
      "claims:  38%|███▊      | 464/1228 [54:03<2:07:27, 10.01s/it, n_retrieved: 204, recall: 0.2]"
     ]
    },
    {
     "name": "stdout",
     "output_type": "stream",
     "text": [
      "claim-1854 0.2 {'global', 'number', 'world', 's', 'today', 'barack obama', 'military', 'coast', 'coast guard academy', 'threat', 'barack', 'u', 'global warming'}\n"
     ]
    },
    {
     "name": "stderr",
     "output_type": "stream",
     "text": [
      "claims:  38%|███▊      | 466/1228 [54:09<1:27:01,  6.85s/it, n_retrieved: 145, recall: 0.2]"
     ]
    },
    {
     "name": "stdout",
     "output_type": "stream",
     "text": [
      "claim-2827 0.2 {'volcano', 'global', 'little', 'global warming', 'last year', 'little impact', 'last'}\n"
     ]
    },
    {
     "name": "stderr",
     "output_type": "stream",
     "text": [
      "claims:  38%|███▊      | 471/1228 [54:37<1:20:48,  6.40s/it, n_retrieved: 458, recall: 0.0]"
     ]
    },
    {
     "name": "stdout",
     "output_type": "stream",
     "text": [
      "claim-1677 0.0 {'global', 'global warming', 'cold day', 'cold', 'winter', 'trend', 'chicago'}\n"
     ]
    },
    {
     "name": "stderr",
     "output_type": "stream",
     "text": [
      "claims:  38%|███▊      | 472/1228 [54:43<1:21:34,  6.47s/it, n_retrieved: 447, recall: 0.4]"
     ]
    },
    {
     "name": "stdout",
     "output_type": "stream",
     "text": [
      "claim-2414 0.4 {'temperature', 'planet', 'ocean', 'surface', 'heat', 'temperature measurement'}\n"
     ]
    },
    {
     "name": "stderr",
     "output_type": "stream",
     "text": [
      "claims:  39%|███▊      | 473/1228 [54:58<1:53:29,  9.02s/it, n_retrieved: 239, recall: 0.0]"
     ]
    },
    {
     "name": "stdout",
     "output_type": "stream",
     "text": [
      "claim-935 0.0 {'warm', 'ocean', 'continent', 'wind', 'layer', 'warm water', 'century'}\n"
     ]
    },
    {
     "name": "stderr",
     "output_type": "stream",
     "text": [
      "claims:  39%|███▊      | 474/1228 [55:08<1:55:21,  9.18s/it, n_retrieved: 495, recall: 0.0]"
     ]
    },
    {
     "name": "stdout",
     "output_type": "stream",
     "text": [
      "claim-2928 0.0 {'carbon dioxide', 'warm', 'gas', 'gas solving', 'carbon', 'activity', 'atmosphere', 'water', 'triennial phase', 'warm season', 'triennial', 'photosynthesis'}\n"
     ]
    },
    {
     "name": "stderr",
     "output_type": "stream",
     "text": [
      "claims:  39%|███▉      | 477/1228 [55:16<1:04:45,  5.17s/it, n_retrieved: 322, recall: 0.4]"
     ]
    },
    {
     "name": "stdout",
     "output_type": "stream",
     "text": [
      "claim-143 0.4 {'modelling datum', 'carbon emission', 'recent', 'climate', 'carbon', 'modelling', 'recent datum'}\n"
     ]
    },
    {
     "name": "stderr",
     "output_type": "stream",
     "text": [
      "claims:  39%|███▉      | 481/1228 [55:40<1:07:56,  5.46s/it, n_retrieved: 69, recall: 0.0] "
     ]
    },
    {
     "name": "stdout",
     "output_type": "stream",
     "text": [
      "claim-487 0.0 {'climate', 'climate change', 'biodiversity'}\n"
     ]
    },
    {
     "name": "stderr",
     "output_type": "stream",
     "text": [
      "claims:  39%|███▉      | 482/1228 [55:47<1:14:09,  5.96s/it, n_retrieved: 469, recall: 0.0]"
     ]
    },
    {
     "name": "stdout",
     "output_type": "stream",
     "text": [
      "claim-2227 0.0 {'temperature', 'climate system', 'warming', 'climate', 'earth', 'temperature record', 'part'}\n"
     ]
    },
    {
     "name": "stderr",
     "output_type": "stream",
     "text": [
      "claims:  40%|███▉      | 488/1228 [56:23<1:14:41,  6.06s/it, n_retrieved: 319, recall: 0.0] "
     ]
    },
    {
     "name": "stdout",
     "output_type": "stream",
     "text": [
      "claim-2215 0.0 {'temperature', 'plant', 'waste digestion', 'area', 'wastewater treatment', 'wastewater', 'process', 'station', 'waste'}\n",
      "claim-645 0.4 {'unknown source', 'scientist', 'heretofore', 'nitrogen', 'unknown', 'massive', 'massive source'}\n"
     ]
    },
    {
     "name": "stderr",
     "output_type": "stream",
     "text": [
      "claims:  40%|███▉      | 490/1228 [56:42<1:32:32,  7.52s/it, n_retrieved: 490, recall: 0.3333333333333333]"
     ]
    },
    {
     "name": "stdout",
     "output_type": "stream",
     "text": [
      "claim-1986 0.3333333333333333 {'obama administration', 'act', 'lead', 'lead role', 'problem', 'obama', 'responsible', 'responsible party', 'oil pollution', 'oil'}\n"
     ]
    },
    {
     "name": "stderr",
     "output_type": "stream",
     "text": [
      "claims:  40%|███▉      | 491/1228 [56:50<1:33:05,  7.58s/it, n_retrieved: 176, recall: 0.4]               "
     ]
    },
    {
     "name": "stdout",
     "output_type": "stream",
     "text": [
      "claim-1399 0.4 {'polar', 'total', 'post', 'ice', 'ice extent', 'end', 'average', 'polar extent', 'total extent'}\n"
     ]
    },
    {
     "name": "stderr",
     "output_type": "stream",
     "text": [
      "claims:  40%|████      | 494/1228 [57:16<1:44:26,  8.54s/it, n_retrieved: 394, recall: 0.0]"
     ]
    },
    {
     "name": "stdout",
     "output_type": "stream",
     "text": [
      "claim-2308 0.0 {'major drought', '20th', 'respect', 'major', '20th century', 'future', 'narisma'}\n"
     ]
    },
    {
     "name": "stderr",
     "output_type": "stream",
     "text": [
      "claims:  40%|████      | 497/1228 [57:32<1:29:04,  7.31s/it, n_retrieved: 384, recall: 0.0]"
     ]
    },
    {
     "name": "stdout",
     "output_type": "stream",
     "text": [
      "claim-2745 0.0 {'global', 'colder altitude', 'local', 'world', 'northerly latitude', 'government', 'reading', 'global trend', 'thousand', 'local station', 'temperature trend', 'government scientist', 'temperature', 'american researcher', 'northerly', 'weather station', 'weather', 'canada', 'american', 'colder', 'u'}\n"
     ]
    },
    {
     "name": "stderr",
     "output_type": "stream",
     "text": [
      "claims:  41%|████      | 498/1228 [57:35<1:13:35,  6.05s/it, n_retrieved: 232, recall: 0.2]"
     ]
    },
    {
     "name": "stdout",
     "output_type": "stream",
     "text": [
      "claim-1108 0.2 {'inherent', 'scientific', 'inherent bias', 'gloom', 'story', 'scientific journal', 'doom'}\n"
     ]
    },
    {
     "name": "stderr",
     "output_type": "stream",
     "text": [
      "claims:  41%|████      | 502/1228 [57:43<30:47,  2.54s/it, n_retrieved: 464, recall: 0.75] "
     ]
    },
    {
     "name": "stdout",
     "output_type": "stream",
     "text": [
      "claim-2068 0.0 {'global', 'july warmth', 'july', 'responsible warming', 'record', 'alaska', 'responsible', 'global warming'}\n"
     ]
    },
    {
     "name": "stderr",
     "output_type": "stream",
     "text": [
      "claims:  41%|████      | 503/1228 [57:47<36:22,  3.01s/it, n_retrieved: 426, recall: 0.4] "
     ]
    },
    {
     "name": "stdout",
     "output_type": "stream",
     "text": [
      "claim-820 0.4 {'economic', 'slow', 'climate analysis', 'healthy society', 'small', 'economic adjustment', 'climate', 'sort', 'small adjustment', 'healthy'}\n"
     ]
    },
    {
     "name": "stderr",
     "output_type": "stream",
     "text": [
      "claims:  41%|████      | 504/1228 [58:00<1:06:11,  5.49s/it, n_retrieved: 314, recall: 0.2]"
     ]
    },
    {
     "name": "stdout",
     "output_type": "stream",
     "text": [
      "claim-755 0.2 {'paris', 'sun', 'radiation', 'climate', 'earth', 'paris accord', 'orbit'}\n"
     ]
    },
    {
     "name": "stderr",
     "output_type": "stream",
     "text": [
      "claims:  41%|████      | 506/1228 [58:14<1:08:37,  5.70s/it, n_retrieved: 283, recall: 0.2]"
     ]
    },
    {
     "name": "stdout",
     "output_type": "stream",
     "text": [
      "claim-1484 0.0 {'fact', 'intergovernmental panel', 'new', 'new period', 'intergovernmental', 'sea level', 'climate change', 'sea', 'solardriven', 'climate', 'humanity'}\n",
      "claim-27 0.2 {'mini age', 'earth', 'mini', 'ice', 'ice age'}\n"
     ]
    },
    {
     "name": "stderr",
     "output_type": "stream",
     "text": [
      "claims:  41%|████▏     | 507/1228 [58:27<1:32:14,  7.68s/it, n_retrieved: 255, recall: 0.0]"
     ]
    },
    {
     "name": "stdout",
     "output_type": "stream",
     "text": [
      "claim-2394 0.0 {'greenland', 'entire sheet', 'satellite altimetry', 'satellite', 'total', 'inch', 'mean thickness', 'greenland sheet', 'ice sheet', 'foot', 'year', 'entire', 'mean', 'ice'}\n"
     ]
    },
    {
     "name": "stderr",
     "output_type": "stream",
     "text": [
      "claims:  42%|████▏     | 513/1228 [59:27<2:10:30, 10.95s/it, n_retrieved: 402, recall: 0.75]              "
     ]
    },
    {
     "name": "stdout",
     "output_type": "stream",
     "text": [
      "claim-2086 0.4 {'global', 'extreme weather', 't', 'global warming', 'extreme'}\n"
     ]
    },
    {
     "name": "stderr",
     "output_type": "stream",
     "text": [
      "claims:  42%|████▏     | 515/1228 [59:30<1:18:31,  6.61s/it, n_retrieved: 376, recall: 0.0] "
     ]
    },
    {
     "name": "stdout",
     "output_type": "stream",
     "text": [
      "claim-294 0.0 {'global', 'professional', 'scientist', 'global network', 'urgent', 'urgent message'}\n"
     ]
    },
    {
     "name": "stderr",
     "output_type": "stream",
     "text": [
      "claims:  42%|████▏     | 519/1228 [1:00:10<1:58:46, 10.05s/it, n_retrieved: 419, recall: 0.0]"
     ]
    },
    {
     "name": "stdout",
     "output_type": "stream",
     "text": [
      "claim-1120 0.0 {'arctic', 'summer weather', 'extreme weather', 'certain', 'summer', 'extreme', 'northern hemisphere', 'northern', 'scientist', 'winter link', 'winter', 'ice', 'connection'}\n"
     ]
    },
    {
     "name": "stderr",
     "output_type": "stream",
     "text": [
      "claims:  43%|████▎     | 522/1228 [1:00:35<1:52:48,  9.59s/it, n_retrieved: 360, recall: 0.2]               "
     ]
    },
    {
     "name": "stdout",
     "output_type": "stream",
     "text": [
      "claim-739 0.2 {'temperature', 'time', 'consequence', 'amount', 'fact', 'change', 't', 'oxygen', 'shell', 'reflection'}\n"
     ]
    },
    {
     "name": "stderr",
     "output_type": "stream",
     "text": [
      "claims:  43%|████▎     | 523/1228 [1:00:39<1:34:20,  8.03s/it, n_retrieved: 433, recall: 0.0]"
     ]
    },
    {
     "name": "stdout",
     "output_type": "stream",
     "text": [
      "claim-2325 0.0 {'empirical', 'albedo', 'term', 'dust', 'martian climate', 'little evidence', 'little', 'long', 'term warming', 'martian', 'empirical evidence', 'mars'}\n"
     ]
    },
    {
     "name": "stderr",
     "output_type": "stream",
     "text": [
      "claims:  43%|████▎     | 532/1228 [1:01:22<44:01,  3.80s/it, n_retrieved: 359, recall: 0.0]  "
     ]
    },
    {
     "name": "stdout",
     "output_type": "stream",
     "text": [
      "claim-2276 0.0 {'global', 'global warming', 'hurricane', 'hurricane frequency', 'evidence', 'intensity'}\n"
     ]
    },
    {
     "name": "stderr",
     "output_type": "stream",
     "text": [
      "claims:  43%|████▎     | 534/1228 [1:01:24<27:04,  2.34s/it, n_retrieved: 462, recall: 0.25]"
     ]
    },
    {
     "name": "stdout",
     "output_type": "stream",
     "text": [
      "claim-2555 0.25 {'different area', 'degree', 'certainty', 'different', 'science'}\n"
     ]
    },
    {
     "name": "stderr",
     "output_type": "stream",
     "text": [
      "claims:  44%|████▎     | 535/1228 [1:01:28<32:51,  2.85s/it, n_retrieved: 79, recall: 0.0]  "
     ]
    },
    {
     "name": "stdout",
     "output_type": "stream",
     "text": [
      "claim-2668 0.0 {'day', 'chicago'}\n"
     ]
    },
    {
     "name": "stderr",
     "output_type": "stream",
     "text": [
      "claims:  44%|████▎     | 537/1228 [1:01:41<51:57,  4.51s/it, n_retrieved: 383, recall: 0.0]               "
     ]
    },
    {
     "name": "stdout",
     "output_type": "stream",
     "text": [
      "claim-1092 0.0 {'key information', 'mike', 'key', 'wallace', 'oceanic', 'reduction', 'year experience', 'phd', 'result', 'hydrologist', 'oceanic ph', 'year'}\n"
     ]
    },
    {
     "name": "stderr",
     "output_type": "stream",
     "text": [
      "claims:  44%|████▍     | 538/1228 [1:01:51<1:11:36,  6.23s/it, n_retrieved: 372, recall: 0.2]"
     ]
    },
    {
     "name": "stdout",
     "output_type": "stream",
     "text": [
      "claim-3004 0.2 {'jupiter', 'system oscillate', 'solar', 'threesynodic cycle', 'tidal', 'tidal cycle', 'jupiter saturn cycle', 'system', 'threesynodic', '60year cycle', '60year'}\n"
     ]
    },
    {
     "name": "stderr",
     "output_type": "stream",
     "text": [
      "claims:  44%|████▍     | 539/1228 [1:01:55<1:04:32,  5.62s/it, n_retrieved: 458, recall: 0.0]"
     ]
    },
    {
     "name": "stdout",
     "output_type": "stream",
     "text": [
      "claim-577 0.0 {'parent', 'heatwave'}\n"
     ]
    },
    {
     "name": "stderr",
     "output_type": "stream",
     "text": [
      "claims:  44%|████▍     | 541/1228 [1:02:13<1:26:31,  7.56s/it, n_retrieved: 329, recall: 0.4]"
     ]
    },
    {
     "name": "stdout",
     "output_type": "stream",
     "text": [
      "claim-689 0.4 {'heat extreme', 'arctic', 'temperature', 'large', 'heat', 'fahrenheit', 'degree', 'large stretch', 'arctic ocean', 'fall'}\n"
     ]
    },
    {
     "name": "stderr",
     "output_type": "stream",
     "text": [
      "claims:  45%|████▍     | 550/1228 [1:03:01<38:45,  3.43s/it, n_retrieved: 137, recall: 0.2]                 "
     ]
    },
    {
     "name": "stdout",
     "output_type": "stream",
     "text": [
      "claim-2616 0.2 {'multitude', 'independent', 'humidity', 'independent reanalyse'}\n"
     ]
    },
    {
     "name": "stderr",
     "output_type": "stream",
     "text": [
      "claims:  45%|████▍     | 552/1228 [1:03:21<1:17:17,  6.86s/it, n_retrieved: 475, recall: 0.0]               "
     ]
    },
    {
     "name": "stdout",
     "output_type": "stream",
     "text": [
      "claim-72 0.0 {'narrative', 'world', 'question', 'fast glacier', 'rapid', 'climate change', 'fast', 'rapid change', 'climate'}\n"
     ]
    },
    {
     "name": "stderr",
     "output_type": "stream",
     "text": [
      "claims:  45%|████▌     | 553/1228 [1:03:41<1:59:21, 10.61s/it, n_retrieved: 498, recall: 0.2]"
     ]
    },
    {
     "name": "stdout",
     "output_type": "stream",
     "text": [
      "claim-457 0.2 {'temperature', 'last year', 'ice age', 'ice', 'gentle warming', 'little', 'little age', 'gentle', 'last'}\n"
     ]
    },
    {
     "name": "stderr",
     "output_type": "stream",
     "text": [
      "claims:  46%|████▌     | 561/1228 [1:04:18<55:25,  4.99s/it, n_retrieved: 316, recall: 0.4]   "
     ]
    },
    {
     "name": "stdout",
     "output_type": "stream",
     "text": [
      "claim-2206 0.4 {'climate model', 'cooling', 'climate', 'contrary', 'earth'}\n"
     ]
    },
    {
     "name": "stderr",
     "output_type": "stream",
     "text": [
      "claims:  46%|████▌     | 562/1228 [1:04:29<1:15:58,  6.84s/it, n_retrieved: 416, recall: 0.4]"
     ]
    },
    {
     "name": "stdout",
     "output_type": "stream",
     "text": [
      "claim-701 0.4 {'study', 'temperature', 'exaggerated christy', 'warming', 'overall record', 'first', 'dataset', 'exaggerated', 'warming trend', 'eruption', 'overall', 'first part', 'study period'}\n"
     ]
    },
    {
     "name": "stderr",
     "output_type": "stream",
     "text": [
      "claims:  46%|████▌     | 566/1228 [1:04:59<1:16:36,  6.94s/it, n_retrieved: 380, recall: 0.2]"
     ]
    },
    {
     "name": "stdout",
     "output_type": "stream",
     "text": [
      "claim-1362 0.2 {'global activist', 'global', 'hot', 'warming activist', 'hot year', 'record', 'warming'}\n"
     ]
    },
    {
     "name": "stderr",
     "output_type": "stream",
     "text": [
      "claims:  46%|████▋     | 569/1228 [1:05:16<57:50,  5.27s/it, n_retrieved: 55, recall: 0.5]   "
     ]
    },
    {
     "name": "stdout",
     "output_type": "stream",
     "text": [
      "claim-1660 0.2 {'price', 'several', 'several time', 'carbon', 'cost', 'benefit'}\n"
     ]
    },
    {
     "name": "stderr",
     "output_type": "stream",
     "text": [
      "claims:  46%|████▋     | 570/1228 [1:05:23<1:03:32,  5.79s/it, n_retrieved: 272, recall: 0.0]"
     ]
    },
    {
     "name": "stdout",
     "output_type": "stream",
     "text": [
      "claim-420 0.0 {'global', 'international agency', 'analysis organization', 'role', 'foreseeable future', 'energy agency', 'international', 'coal', 'energy', 'analysis', 'foreseeable'}\n"
     ]
    },
    {
     "name": "stderr",
     "output_type": "stream",
     "text": [
      "claims:  47%|████▋     | 574/1228 [1:06:11<1:36:06,  8.82s/it, n_retrieved: 299, recall: 0.4]"
     ]
    },
    {
     "name": "stdout",
     "output_type": "stream",
     "text": [
      "claim-1819 0.4 {'demonstrate', 'particular', 'satellite datum', 'satellite', 'warming', 'last year', 'last'}\n"
     ]
    },
    {
     "name": "stderr",
     "output_type": "stream",
     "text": [
      "claims:  47%|████▋     | 575/1228 [1:06:20<1:35:50,  8.81s/it, n_retrieved: 372, recall: 0.0]"
     ]
    },
    {
     "name": "stdout",
     "output_type": "stream",
     "text": [
      "claim-2484 0.0 {'global', 'cold mode', 'temperature', 'cold', 'world', 'year', 'global dip'}\n"
     ]
    },
    {
     "name": "stderr",
     "output_type": "stream",
     "text": [
      "claims:  47%|████▋     | 579/1228 [1:06:56<1:43:38,  9.58s/it, n_retrieved: 245, recall: 0.4]"
     ]
    },
    {
     "name": "stdout",
     "output_type": "stream",
     "text": [
      "claim-2605 0.4 {'world', 'united nations report', 'cattle', 'climate forest', 'wildlife', 'united', 'herd', 'climate', 'great threat', 'great'}\n"
     ]
    },
    {
     "name": "stderr",
     "output_type": "stream",
     "text": [
      "claims:  47%|████▋     | 580/1228 [1:07:02<1:31:31,  8.47s/it, n_retrieved: 244, recall: 0.0]"
     ]
    },
    {
     "name": "stdout",
     "output_type": "stream",
     "text": [
      "claim-163 0.0 {'more', 'size', 'sif', 'more detail'}\n"
     ]
    },
    {
     "name": "stderr",
     "output_type": "stream",
     "text": [
      "claims:  47%|████▋     | 582/1228 [1:07:09<1:07:07,  6.23s/it, n_retrieved: 471, recall: 0.2]"
     ]
    },
    {
     "name": "stdout",
     "output_type": "stream",
     "text": [
      "claim-3125 0.2 {'climatic', 'warming phase', 'warming', '60year cycle', 'climatic cycle', 'percent', '60year'}\n"
     ]
    },
    {
     "name": "stderr",
     "output_type": "stream",
     "text": [
      "claims:  47%|████▋     | 583/1228 [1:07:23<1:31:37,  8.52s/it, n_retrieved: 500, recall: 0.4]"
     ]
    },
    {
     "name": "stdout",
     "output_type": "stream",
     "text": [
      "claim-1384 0.4 {'global', 'journal', 'key', 'sulfate', 'max planck institute', 'meteorology', 'bjorn', 'year', 'climate', 'hamburg', 'max', 'bjorn steven', 'impact', 'key study', 'hamburg germany', 'sulfate emission', 'global warming'}\n"
     ]
    },
    {
     "name": "stderr",
     "output_type": "stream",
     "text": [
      "claims:  48%|████▊     | 586/1228 [1:07:37<1:02:31,  5.84s/it, n_retrieved: 339, recall: 0.3333333333333333]"
     ]
    },
    {
     "name": "stdout",
     "output_type": "stream",
     "text": [
      "claim-1996 0.3333333333333333 {'more', 'american job', 'solar industry', 'coal mining', 'solar', 'more job', 'coal', 'american'}\n"
     ]
    },
    {
     "name": "stderr",
     "output_type": "stream",
     "text": [
      "claims:  48%|████▊     | 588/1228 [1:07:43<46:19,  4.34s/it, n_retrieved: 463, recall: 0.2]                 "
     ]
    },
    {
     "name": "stdout",
     "output_type": "stream",
     "text": [
      "claim-1353 0.2 {'temperature', 'time', 'similar change', 'calendar', 'degree', 'threetenth', 'low degree', 'similar', 'calendar year', 'low'}\n"
     ]
    },
    {
     "name": "stderr",
     "output_type": "stream",
     "text": [
      "claims:  48%|████▊     | 590/1228 [1:07:59<58:59,  5.55s/it, n_retrieved: 331, recall: 0.5]  "
     ]
    },
    {
     "name": "stdout",
     "output_type": "stream",
     "text": [
      "claim-892 0.0 {'global', 'global polluter', 'planet', 'world', 'clean', 'united', 'recent', 'recent attempt', 'major', 'world organization', 'clean nation', 'health', 's', 'united states', 'health organization', 'major polluter', 'u'}\n"
     ]
    },
    {
     "name": "stderr",
     "output_type": "stream",
     "text": [
      "claims:  48%|████▊     | 591/1228 [1:07:59<42:35,  4.01s/it, n_retrieved: 129, recall: 0.2]"
     ]
    },
    {
     "name": "stdout",
     "output_type": "stream",
     "text": [
      "claim-91 0.2 {'record'}\n"
     ]
    },
    {
     "name": "stderr",
     "output_type": "stream",
     "text": [
      "claims:  48%|████▊     | 593/1228 [1:08:14<54:09,  5.12s/it, n_retrieved: 492, recall: 0.2]  "
     ]
    },
    {
     "name": "stdout",
     "output_type": "stream",
     "text": [
      "claim-1849 0.2 {'australia', 'other', 'solar coverage', 'solar', 'other continent'}\n"
     ]
    },
    {
     "name": "stderr",
     "output_type": "stream",
     "text": [
      "claims:  48%|████▊     | 594/1228 [1:08:24<1:07:53,  6.42s/it, n_retrieved: 418, recall: 0.0]"
     ]
    },
    {
     "name": "stdout",
     "output_type": "stream",
     "text": [
      "claim-3079 0.0 {'arctic', 'last year', 'arctic temperature', 'early', 'melt temperature', 'frank', 'case', 'period', 'season temperature', 'early year', 'frank lansner', 'dmi', 'melt', 'dmi analysis', 'season', 'last'}\n"
     ]
    },
    {
     "name": "stderr",
     "output_type": "stream",
     "text": [
      "claims:  48%|████▊     | 595/1228 [1:08:28<1:00:04,  5.69s/it, n_retrieved: 89, recall: 0.0] "
     ]
    },
    {
     "name": "stdout",
     "output_type": "stream",
     "text": [
      "claim-1594 0.0 {'global', 'water', 'stratosphere', 'water vapor', 'global warming'}\n"
     ]
    },
    {
     "name": "stderr",
     "output_type": "stream",
     "text": [
      "claims:  49%|████▊     | 597/1228 [1:08:41<59:32,  5.66s/it, n_retrieved: 314, recall: 0.0]  "
     ]
    },
    {
     "name": "stdout",
     "output_type": "stream",
     "text": [
      "claim-2401 0.0 {'mother earth', 'mother', 'carbon', 'carbon dioxide'}\n"
     ]
    },
    {
     "name": "stderr",
     "output_type": "stream",
     "text": [
      "claims:  49%|████▉     | 599/1228 [1:08:58<1:13:36,  7.02s/it, n_retrieved: 266, recall: 0.4]"
     ]
    },
    {
     "name": "stdout",
     "output_type": "stream",
     "text": [
      "claim-432 0.4 {'global', 'temperature', '20thcentury', 'benchmark', 'climate scientist', 'global measurement', 'climate', 'temperature measurement', '20thcentury average'}\n"
     ]
    },
    {
     "name": "stderr",
     "output_type": "stream",
     "text": [
      "claims:  49%|████▉     | 600/1228 [1:09:09<1:24:15,  8.05s/it, n_retrieved: 443, recall: 0.0]"
     ]
    },
    {
     "name": "stdout",
     "output_type": "stream",
     "text": [
      "claim-512 0.0 {'carbon dioxide', 'water vapour', 'greenhouse', 'global', 'greenhouse gas', 'carbon', 'main', 'main gas', 'water', 'minuscule effect', 'global climate', 'minuscule'}\n"
     ]
    },
    {
     "name": "stderr",
     "output_type": "stream",
     "text": [
      "claims:  49%|████▉     | 602/1228 [1:09:21<1:08:13,  6.54s/it, n_retrieved: 442, recall: 0.2]"
     ]
    },
    {
     "name": "stdout",
     "output_type": "stream",
     "text": [
      "claim-1935 0.2 {'solar', 'solar power', 'many', 'much', 'state', 'much power', 'california', 'job', 'many people'}\n"
     ]
    },
    {
     "name": "stderr",
     "output_type": "stream",
     "text": [
      "claims:  49%|████▉     | 606/1228 [1:10:03<1:48:48, 10.50s/it, n_retrieved: 410, recall: 0.4]"
     ]
    },
    {
     "name": "stdout",
     "output_type": "stream",
     "text": [
      "claim-267 0.4 {'study', 'bjerkne centre', 'climate research', 'week', 'system', 'external', 'bjerkne', 'natural', 'need', 'external force', 'bergen norway', 'climate', 'bergen'}\n"
     ]
    },
    {
     "name": "stderr",
     "output_type": "stream",
     "text": [
      "claims:  49%|████▉     | 607/1228 [1:10:08<1:29:44,  8.67s/it, n_retrieved: 447, recall: 0.2]"
     ]
    },
    {
     "name": "stdout",
     "output_type": "stream",
     "text": [
      "claim-1821 0.2 {'climate change', 'conservative', 'recent', 'mention', 'climate', 'recent budget'}\n"
     ]
    },
    {
     "name": "stderr",
     "output_type": "stream",
     "text": [
      "claims:  50%|████▉     | 613/1228 [1:11:08<1:42:12,  9.97s/it, n_retrieved: 288, recall: 0.0]"
     ]
    },
    {
     "name": "stdout",
     "output_type": "stream",
     "text": [
      "claim-2213 0.0 {'thermometer', 'satellite', 'warming', 'rural area', 'natural', 'warming trend', 'natural thermometer', 'rural'}\n"
     ]
    },
    {
     "name": "stderr",
     "output_type": "stream",
     "text": [
      "claims:  50%|█████     | 615/1228 [1:11:35<2:07:59, 12.53s/it, n_retrieved: 394, recall: 0.0]"
     ]
    },
    {
     "name": "stdout",
     "output_type": "stream",
     "text": [
      "claim-832 0.0 {'time', 'news', 'ice shelf', 'big', 'open', 'process', 'may', 'day', 'mile', 'big iceberg', 'past', 'break', 'antarctica', 'crack', 'open water', 'sea', 'ice'}\n"
     ]
    },
    {
     "name": "stderr",
     "output_type": "stream",
     "text": [
      "claims:  51%|█████     | 625/1228 [1:12:48<1:04:07,  6.38s/it, n_retrieved: 209, recall: 0.0] "
     ]
    },
    {
     "name": "stdout",
     "output_type": "stream",
     "text": [
      "claim-2565 0.0 {'temperature', 'temperature change', 'human', 'recent', 'little', 'human kind', 'recent change'}\n"
     ]
    },
    {
     "name": "stderr",
     "output_type": "stream",
     "text": [
      "claims:  51%|█████     | 626/1228 [1:12:49<46:38,  4.65s/it, n_retrieved: 226, recall: 0.0]  "
     ]
    },
    {
     "name": "stdout",
     "output_type": "stream",
     "text": [
      "claim-1180 0.0 {'sea level', 'land area', 'sea', 'land', 'selfevident'}\n"
     ]
    },
    {
     "name": "stderr",
     "output_type": "stream",
     "text": [
      "claims:  51%|█████     | 628/1228 [1:13:17<1:28:11,  8.82s/it, n_retrieved: 361, recall: 0.25]"
     ]
    },
    {
     "name": "stdout",
     "output_type": "stream",
     "text": [
      "claim-1893 0.25 {'global', 'zika virus', 'temperature', 'quick', 'quick spread', 'mosquito', 'global warming', 'zika'}\n"
     ]
    },
    {
     "name": "stderr",
     "output_type": "stream",
     "text": [
      "claims:  51%|█████     | 629/1228 [1:13:18<1:03:18,  6.34s/it, n_retrieved: 356, recall: 0.4] "
     ]
    },
    {
     "name": "stdout",
     "output_type": "stream",
     "text": [
      "claim-634 0.4 {'good', 'sea', 'sea level', 'good datum'}\n"
     ]
    },
    {
     "name": "stderr",
     "output_type": "stream",
     "text": [
      "claims:  51%|█████▏    | 630/1228 [1:13:28<1:15:41,  7.59s/it, n_retrieved: 475, recall: 0.0]"
     ]
    },
    {
     "name": "stdout",
     "output_type": "stream",
     "text": [
      "claim-2940 0.0 {'global', 'ipcc', 'temperature', 'unprecedented', 'unprecedented warming', 'cool', 'year', 'cool weather', 'global warming'}\n"
     ]
    },
    {
     "name": "stderr",
     "output_type": "stream",
     "text": [
      "claims:  52%|█████▏    | 633/1228 [1:14:01<1:43:34, 10.44s/it, n_retrieved: 423, recall: 0.4]"
     ]
    },
    {
     "name": "stdout",
     "output_type": "stream",
     "text": [
      "claim-1286 0.4 {'more thaw', 'arctic', 'more', 'major report', 'geological survey', 'central', 'alaska', '21st', 'state', 'course', 'arctic greening', 'central reason', 'major', 'carbon', 'permafrost', 'geological', 'wildfire', '21st century', 'u'}\n"
     ]
    },
    {
     "name": "stderr",
     "output_type": "stream",
     "text": [
      "claims:  52%|█████▏    | 634/1228 [1:14:01<1:13:26,  7.42s/it, n_retrieved: 344, recall: 0.0]"
     ]
    },
    {
     "name": "stdout",
     "output_type": "stream",
     "text": [
      "claim-2744 0.0 {'more warming', 'more', 'station'}\n"
     ]
    },
    {
     "name": "stderr",
     "output_type": "stream",
     "text": [
      "claims:  52%|█████▏    | 635/1228 [1:14:17<1:36:40,  9.78s/it, n_retrieved: 483, recall: 0.2]"
     ]
    },
    {
     "name": "stdout",
     "output_type": "stream",
     "text": [
      "claim-1322 0.2 {'temperature', 'increase', 'heat', 'united states', 'reduction', 'premature death', 'report', 'united', 'premature'}\n"
     ]
    },
    {
     "name": "stderr",
     "output_type": "stream",
     "text": [
      "claims:  52%|█████▏    | 636/1228 [1:14:25<1:32:19,  9.36s/it, n_retrieved: 355, recall: 0.25]"
     ]
    },
    {
     "name": "stdout",
     "output_type": "stream",
     "text": [
      "claim-1951 0.25 {'original', 'global', 'scientist', 'climate', 'original idea', 'global warming'}\n"
     ]
    },
    {
     "name": "stderr",
     "output_type": "stream",
     "text": [
      "claims:  52%|█████▏    | 637/1228 [1:14:32<1:24:36,  8.59s/it, n_retrieved: 230, recall: 0.2] "
     ]
    },
    {
     "name": "stdout",
     "output_type": "stream",
     "text": [
      "claim-824 0.2 {'el nino', 'scientist', 'year', 'el', 'surprise', 'climate'}\n"
     ]
    },
    {
     "name": "stderr",
     "output_type": "stream",
     "text": [
      "claims:  52%|█████▏    | 639/1228 [1:14:45<1:15:57,  7.74s/it, n_retrieved: 305, recall: 0.2]"
     ]
    },
    {
     "name": "stdout",
     "output_type": "stream",
     "text": [
      "claim-1876 0.2 {'fivestar', 'global', 'warming', 'nancy', 'other', 'nancy pelosi', 'trip', 'recent summit', 'global summit', 'warming summit', 'recent', 'copenhagen pelosi', 'fivestar hotel', 'person', 'copenhagen'}\n"
     ]
    },
    {
     "name": "stderr",
     "output_type": "stream",
     "text": [
      "claims:  52%|█████▏    | 640/1228 [1:14:54<1:20:11,  8.18s/it, n_retrieved: 140, recall: 0.4]"
     ]
    },
    {
     "name": "stdout",
     "output_type": "stream",
     "text": [
      "claim-1401 0.4 {'result', 'polar', 'ice cap', 'ice', 'polar cap'}\n"
     ]
    },
    {
     "name": "stderr",
     "output_type": "stream",
     "text": [
      "claims:  52%|█████▏    | 643/1228 [1:15:24<1:38:07, 10.06s/it, n_retrieved: 380, recall: 0.0]"
     ]
    },
    {
     "name": "stdout",
     "output_type": "stream",
     "text": [
      "claim-799 0.0 {'climate model', 'global', 'climatologist', 'amount', 'hiatus', 'climate', 'global warming'}\n"
     ]
    },
    {
     "name": "stderr",
     "output_type": "stream",
     "text": [
      "claims:  53%|█████▎    | 645/1228 [1:15:44<1:37:14, 10.01s/it, n_retrieved: 456, recall: 0.4]"
     ]
    },
    {
     "name": "stdout",
     "output_type": "stream",
     "text": [
      "claim-938 0.4 {'temperature', 'eric j', 'eric', 't', 'washington', 'antarctica', 'university', 'scientist', 'noise', 'enough datum', 'enough', 'signal', 'sure', 'temperature trend'}\n"
     ]
    },
    {
     "name": "stderr",
     "output_type": "stream",
     "text": [
      "claims:  53%|█████▎    | 646/1228 [1:15:56<1:43:07, 10.63s/it, n_retrieved: 467, recall: 0.0]"
     ]
    },
    {
     "name": "stdout",
     "output_type": "stream",
     "text": [
      "claim-2212 0.0 {'climate model', 'uncertainty', 'prediction', 'climate', 'observation', 'past'}\n"
     ]
    },
    {
     "name": "stderr",
     "output_type": "stream",
     "text": [
      "claims:  53%|█████▎    | 648/1228 [1:16:14<1:37:00, 10.03s/it, n_retrieved: 414, recall: 0.0]"
     ]
    },
    {
     "name": "stdout",
     "output_type": "stream",
     "text": [
      "claim-1216 0.0 {'hereandnow', 'entitlement', 'debt', 'choice reform', 'debt school', 'entitlement reform', 'climate change', 'frank discussion', 'choice', 'federal', 'climate', 'frank', 'hereandnow problem', 'budget'}\n"
     ]
    },
    {
     "name": "stderr",
     "output_type": "stream",
     "text": [
      "claims:  53%|█████▎    | 649/1228 [1:16:25<1:38:00, 10.16s/it, n_retrieved: 452, recall: 0.4]"
     ]
    },
    {
     "name": "stdout",
     "output_type": "stream",
     "text": [
      "claim-1133 0.4 {'average temperature', 'global', 'land', 'record', 'big', 'big fall', 'average', 'middle', 'global temperature', 'year', '1c'}\n"
     ]
    },
    {
     "name": "stderr",
     "output_type": "stream",
     "text": [
      "claims:  53%|█████▎    | 651/1228 [1:16:58<2:03:50, 12.88s/it, n_retrieved: 131, recall: 0.4]"
     ]
    },
    {
     "name": "stdout",
     "output_type": "stream",
     "text": [
      "claim-441 0.4 {'earth', 'start', 'yeartodate', 'year'}\n"
     ]
    },
    {
     "name": "stderr",
     "output_type": "stream",
     "text": [
      "claims:  53%|█████▎    | 652/1228 [1:17:03<1:40:39, 10.49s/it, n_retrieved: 256, recall: 0.4]"
     ]
    },
    {
     "name": "stdout",
     "output_type": "stream",
     "text": [
      "claim-2784 0.4 {'paper', 'empirical', 'subsequent study', 'dessler', 'empirical datum', 'observational', 'feedback', 'spencer', 'test', 'assumption', 'subsequent', 'climate', 'observational datum', 'climate sensitivity'}\n"
     ]
    },
    {
     "name": "stderr",
     "output_type": "stream",
     "text": [
      "claims:  53%|█████▎    | 654/1228 [1:17:13<1:09:11,  7.23s/it, n_retrieved: 425, recall: 1.0]"
     ]
    },
    {
     "name": "stdout",
     "output_type": "stream",
     "text": [
      "claim-1502 0.0 {'australia', 'temperature', 'degree', 'past century', 'datum', 'past'}\n"
     ]
    },
    {
     "name": "stderr",
     "output_type": "stream",
     "text": [
      "claims:  53%|█████▎    | 655/1228 [1:17:36<1:54:22, 11.98s/it, n_retrieved: 488, recall: 0.4]"
     ]
    },
    {
     "name": "stdout",
     "output_type": "stream",
     "text": [
      "claim-2163 0.4 {'time', 'glacial maximum', 'temperature reconstruction', 'last maximum', 'estimate', 'al study', 'new reconstruction', 'climate', 'new', 'low probability', 'climate sensitivity', 'low', 'temperature', 'ipcc', 'al', 'et study', 'schmittner', 'et', 'test', 'glacial', 'last'}\n"
     ]
    },
    {
     "name": "stderr",
     "output_type": "stream",
     "text": [
      "claims:  54%|█████▎    | 657/1228 [1:18:03<2:00:33, 12.67s/it, n_retrieved: 405, recall: 0.2]"
     ]
    },
    {
     "name": "stdout",
     "output_type": "stream",
     "text": [
      "claim-3068 0.2 {'loss', 'high confidence', 'spain', 'energy job', 'renewable job', 'experience', 'different', 'state', 'different method', 'energy', 'high', 'renewable', 'u'}\n"
     ]
    },
    {
     "name": "stderr",
     "output_type": "stream",
     "text": [
      "claims:  54%|█████▎    | 658/1228 [1:18:13<1:54:03, 12.01s/it, n_retrieved: 415, recall: 0.4]"
     ]
    },
    {
     "name": "stdout",
     "output_type": "stream",
     "text": [
      "claim-2338 0.4 {'carbon dioxide', 'misunderstood subject', 'climate science', 'misunderstood', 'amount', 'warming', 'carbon', 'climate', 'anthropogenic', 'atmospheric dioxide', 'anthropogenic increase', 'atmospheric'}\n"
     ]
    },
    {
     "name": "stderr",
     "output_type": "stream",
     "text": [
      "claims:  54%|█████▎    | 659/1228 [1:18:28<2:01:36, 12.82s/it, n_retrieved: 309, recall: 0.2]"
     ]
    },
    {
     "name": "stdout",
     "output_type": "stream",
     "text": [
      "claim-2041 0.2 {'fundamental', 'fundamental fault', 'government', 'need', 'early', 'early action', 'mitigatory', 'statistical analysis', 'statistical', 'mitigatory action'}\n",
      "claim-1608 0.4 {'low sensitivity', 'schmittner', 'climate', 'climate sensitivity', 'low'}\n"
     ]
    },
    {
     "name": "stderr",
     "output_type": "stream",
     "text": [
      "claims:  54%|█████▍    | 661/1228 [1:18:30<1:10:53,  7.50s/it, n_retrieved: 330, recall: 0.3333333333333333]"
     ]
    },
    {
     "name": "stdout",
     "output_type": "stream",
     "text": [
      "claim-65 0.3333333333333333 {'much energy', 'much', 'windmill'}\n"
     ]
    },
    {
     "name": "stderr",
     "output_type": "stream",
     "text": [
      "claims:  54%|█████▍    | 662/1228 [1:18:45<1:28:01,  9.33s/it, n_retrieved: 351, recall: 0.0]               "
     ]
    },
    {
     "name": "stdout",
     "output_type": "stream",
     "text": [
      "claim-2711 0.0 {'antarctic', 'hemisphere', 'atmospheric administration', 'october', 'able creature', 'photograph', 'other', 'new record', 'other creature', 'new', 'coldweather creature', 'able', 'coldweather', 'national oceanic', 'atmospheric', 'national', 'penguin', 'hemisphere ice', 'antarctic sea ice'}\n"
     ]
    },
    {
     "name": "stderr",
     "output_type": "stream",
     "text": [
      "claims:  54%|█████▍    | 663/1228 [1:18:48<1:11:16,  7.57s/it, n_retrieved: 276, recall: 0.0]"
     ]
    },
    {
     "name": "stdout",
     "output_type": "stream",
     "text": [
      "claim-705 0.0 {'policy', 'previous output', 'climate model', 'prediction', 'climate', 'previous'}\n"
     ]
    },
    {
     "name": "stderr",
     "output_type": "stream",
     "text": [
      "claims:  54%|█████▍    | 666/1228 [1:19:10<1:05:51,  7.03s/it, n_retrieved: 474, recall: 0.2]               "
     ]
    },
    {
     "name": "stdout",
     "output_type": "stream",
     "text": [
      "claim-2333 0.2 {'carbon dioxide', 'little effect', 'minor', 'carbon', 'little', 'green', 'earth', 'green house gas h2o'}\n"
     ]
    },
    {
     "name": "stderr",
     "output_type": "stream",
     "text": [
      "claims:  54%|█████▍    | 667/1228 [1:19:25<1:28:35,  9.48s/it, n_retrieved: 338, recall: 0.0]"
     ]
    },
    {
     "name": "stdout",
     "output_type": "stream",
     "text": [
      "claim-983 0.0 {'policy', 'policy institute', 'wet period', 'jeffrey', 'water expert', 'wetter', 'mount', 'water', 'senior', 'dry', 'senior fellow', 'wet', 'california', 'dry period'}\n"
     ]
    },
    {
     "name": "stderr",
     "output_type": "stream",
     "text": [
      "claims:  54%|█████▍    | 668/1228 [1:19:31<1:17:47,  8.33s/it, n_retrieved: 220, recall: 0.0]"
     ]
    },
    {
     "name": "stdout",
     "output_type": "stream",
     "text": [
      "claim-861 0.0 {'place', 'world', 'reliable', 'today', 'reliable source', 'much', 'none', 'food'}\n"
     ]
    },
    {
     "name": "stderr",
     "output_type": "stream",
     "text": [
      "claims:  55%|█████▍    | 670/1228 [1:20:02<1:55:45, 12.45s/it, n_retrieved: 420, recall: 0.4]"
     ]
    },
    {
     "name": "stdout",
     "output_type": "stream",
     "text": [
      "claim-1970 0.4 {'australian group', 'industry group', 'carbon', 'australian', 'chamber', 'council', 'business', 'industry', 'commerce', 'carbon tax', 'minerals'}\n"
     ]
    },
    {
     "name": "stderr",
     "output_type": "stream",
     "text": [
      "claims:  55%|█████▍    | 671/1228 [1:20:09<1:41:45, 10.96s/it, n_retrieved: 374, recall: 0.0]"
     ]
    },
    {
     "name": "stdout",
     "output_type": "stream",
     "text": [
      "claim-1626 0.0 {'force', 'time', 'human', 'climate react', 'climate', 'dominant'}\n"
     ]
    },
    {
     "name": "stderr",
     "output_type": "stream",
     "text": [
      "claims:  55%|█████▍    | 673/1228 [1:20:18<1:14:40,  8.07s/it, n_retrieved: 486, recall: 0.2]"
     ]
    },
    {
     "name": "stdout",
     "output_type": "stream",
     "text": [
      "claim-1725 0.2 {'time', 'subsequent', 'subsequent research', 'iris hypothesis', 'iris', 'test'}\n"
     ]
    },
    {
     "name": "stderr",
     "output_type": "stream",
     "text": [
      "claims:  55%|█████▌    | 676/1228 [1:20:44<1:18:37,  8.55s/it, n_retrieved: 483, recall: 0.0]"
     ]
    },
    {
     "name": "stdout",
     "output_type": "stream",
     "text": [
      "claim-2328 0.0 {'late 1970', 'record', 'late', 'datum'}\n"
     ]
    },
    {
     "name": "stderr",
     "output_type": "stream",
     "text": [
      "claims:  55%|█████▌    | 677/1228 [1:20:47<1:01:44,  6.72s/it, n_retrieved: 346, recall: 0.4]"
     ]
    },
    {
     "name": "stdout",
     "output_type": "stream",
     "text": [
      "claim-1703 0.4 {'humidity', 'positive feedback', 'multiple line', 'independent', 'positive', 'multiple', 'independent evidence'}\n"
     ]
    },
    {
     "name": "stderr",
     "output_type": "stream",
     "text": [
      "claims:  55%|█████▌    | 681/1228 [1:21:17<1:07:45,  7.43s/it, n_retrieved: 490, recall: 0.0]"
     ]
    },
    {
     "name": "stdout",
     "output_type": "stream",
     "text": [
      "claim-2750 0.0 {'carbon dioxide', 'emission', 'way', 'world', 'carbon'}\n"
     ]
    },
    {
     "name": "stderr",
     "output_type": "stream",
     "text": [
      "claims:  56%|█████▌    | 683/1228 [1:21:35<1:13:58,  8.14s/it, n_retrieved: 204, recall: 0.0]"
     ]
    },
    {
     "name": "stdout",
     "output_type": "stream",
     "text": [
      "claim-3110 0.0 {'carbon', 'street', 'couldn t', 'carbon emission', 'crap', 'chimney', 'day', 'couldn'}\n"
     ]
    },
    {
     "name": "stderr",
     "output_type": "stream",
     "text": [
      "claims:  56%|█████▌    | 688/1228 [1:22:03<41:03,  4.56s/it, n_retrieved: 366, recall: 1.0]  "
     ]
    },
    {
     "name": "stdout",
     "output_type": "stream",
     "text": [
      "claim-2070 0.2 {'ocean acidification', 'ocean', 'life', 'nonproblem', 'benefit'}\n"
     ]
    },
    {
     "name": "stderr",
     "output_type": "stream",
     "text": [
      "claims:  56%|█████▌    | 689/1228 [1:22:03<29:30,  3.29s/it, n_retrieved: 343, recall: 0.4]"
     ]
    },
    {
     "name": "stdout",
     "output_type": "stream",
     "text": [
      "claim-2181 0.4 {'climate change', 'human', 'climate', 'past change', 'past'}\n"
     ]
    },
    {
     "name": "stderr",
     "output_type": "stream",
     "text": [
      "claims:  56%|█████▌    | 690/1228 [1:22:09<35:21,  3.94s/it, n_retrieved: 171, recall: 0.0]"
     ]
    },
    {
     "name": "stdout",
     "output_type": "stream",
     "text": [
      "claim-1705 0.0 {'hundred', 'uk', 'time', 'year', 'flower'}\n"
     ]
    },
    {
     "name": "stderr",
     "output_type": "stream",
     "text": [
      "claims:  56%|█████▋    | 691/1228 [1:22:18<50:37,  5.66s/it, n_retrieved: 375, recall: 0.0]"
     ]
    },
    {
     "name": "stdout",
     "output_type": "stream",
     "text": [
      "claim-925 0.0 {'similar temperature', 'warm', 'temperature', 'planet', 'similar', 'warm period', 'last age', 'ice age', 'natural', 'year', 'natural period', 'ice', 'decade', 'last'}\n"
     ]
    },
    {
     "name": "stderr",
     "output_type": "stream",
     "text": [
      "claims:  56%|█████▋    | 693/1228 [1:22:29<51:53,  5.82s/it, n_retrieved: 277, recall: 0.4]"
     ]
    },
    {
     "name": "stdout",
     "output_type": "stream",
     "text": [
      "claim-1692 0.4 {'acidic', 'ocean', 'food', 'food chain'}\n"
     ]
    },
    {
     "name": "stderr",
     "output_type": "stream",
     "text": [
      "claims:  57%|█████▋    | 695/1228 [1:22:34<36:56,  4.16s/it, n_retrieved: 402, recall: 0.0]"
     ]
    },
    {
     "name": "stdout",
     "output_type": "stream",
     "text": [
      "claim-2463 0.0 {'effect', 'volcano'}\n",
      "claim-2118 0.3333333333333333 {'global', 'global climate', 'human'}\n"
     ]
    },
    {
     "name": "stderr",
     "output_type": "stream",
     "text": [
      "claims:  57%|█████▋    | 699/1228 [1:23:15<1:23:25,  9.46s/it, n_retrieved: 491, recall: 0.3333333333333333]"
     ]
    },
    {
     "name": "stdout",
     "output_type": "stream",
     "text": [
      "claim-322 0.3333333333333333 {'temperature', 'first adjustment', 'ocean', 'satellite', 'satellite datum', 'ship', 'water intake', 'first', 'buoy', 'ocean surface', 'ship intake', 'water'}\n"
     ]
    },
    {
     "name": "stderr",
     "output_type": "stream",
     "text": [
      "claims:  57%|█████▋    | 700/1228 [1:23:33<1:42:39, 11.66s/it, n_retrieved: 293, recall: 0.3333333333333333]"
     ]
    },
    {
     "name": "stdout",
     "output_type": "stream",
     "text": [
      "claim-1991 0.3333333333333333 {'high amount', 'doubt', 'conventional wisdom', 'world', 'united states', 'conventional', 'climate change', 'united', 'climate', 'high', 'nation'}\n"
     ]
    },
    {
     "name": "stderr",
     "output_type": "stream",
     "text": [
      "claims:  57%|█████▋    | 704/1228 [1:23:52<1:02:35,  7.17s/it, n_retrieved: 420, recall: 0.3333333333333333]"
     ]
    },
    {
     "name": "stdout",
     "output_type": "stream",
     "text": [
      "claim-284 0.3333333333333333 {'climate scientist', 'global', 'manmade', 'cent', 'climate', 'figure', 'global warming'}\n"
     ]
    },
    {
     "name": "stderr",
     "output_type": "stream",
     "text": [
      "claims:  58%|█████▊    | 708/1228 [1:24:28<1:22:59,  9.58s/it, n_retrieved: 385, recall: 0.0]               "
     ]
    },
    {
     "name": "stdout",
     "output_type": "stream",
     "text": [
      "claim-863 0.0 {'more', 'planet', 'percent increase', 'atmospheric research', 'ozone form', 'midcentury', 'unhealthy', 'warm', 'americans', 'more form', 'unhealthy smog', 'ozone', 'national', 'national center', 'percent', 'atmospheric'}\n"
     ]
    },
    {
     "name": "stderr",
     "output_type": "stream",
     "text": [
      "claims:  58%|█████▊    | 711/1228 [1:24:48<1:04:34,  7.49s/it, n_retrieved: 443, recall: 0.3333333333333333]"
     ]
    },
    {
     "name": "stdout",
     "output_type": "stream",
     "text": [
      "claim-1645 0.3333333333333333 {'global', 'cosmic ray', 'global warming', 'last year', 'trend', 'little impact', 'recent', 'cosmic', 'little', 'recent warming', 'last'}\n"
     ]
    },
    {
     "name": "stderr",
     "output_type": "stream",
     "text": [
      "claims:  58%|█████▊    | 712/1228 [1:24:52<56:40,  6.59s/it, n_retrieved: 368, recall: 0.0]                 "
     ]
    },
    {
     "name": "stdout",
     "output_type": "stream",
     "text": [
      "claim-1411 0.0 {'global', 'temperature', 'sort', 'meaningful', 'temperature statistic', 'figure', 'meaningful statistic'}\n"
     ]
    },
    {
     "name": "stderr",
     "output_type": "stream",
     "text": [
      "claims:  59%|█████▊    | 720/1228 [1:25:35<28:34,  3.38s/it, n_retrieved: 224, recall: 0.25] "
     ]
    },
    {
     "name": "stdout",
     "output_type": "stream",
     "text": [
      "claim-1655 0.25 {'global', 'natural', 'ancient', 'recent', 'recent warming', 'human', 'natural cycle', 'global warming', 'ancient cycle'}\n"
     ]
    },
    {
     "name": "stderr",
     "output_type": "stream",
     "text": [
      "claims:  59%|█████▉    | 726/1228 [1:26:13<37:50,  4.52s/it, n_retrieved: 232, recall: 0.8]                 "
     ]
    },
    {
     "name": "stdout",
     "output_type": "stream",
     "text": [
      "claim-76 0.0 {'climate', 'cow', 'planet', 'car'}\n"
     ]
    },
    {
     "name": "stderr",
     "output_type": "stream",
     "text": [
      "claims:  60%|█████▉    | 731/1228 [1:26:50<49:50,  6.02s/it, n_retrieved: 427, recall: 0.3333333333333333]"
     ]
    },
    {
     "name": "stdout",
     "output_type": "stream",
     "text": [
      "claim-2836 0.3333333333333333 {'global', 'rapid rebound', 'rapid', 'global level', 'sea level', 'sea', 'ice level', 'close', 'recent month', 'recent', 'thank', 'year', 'ice'}\n"
     ]
    },
    {
     "name": "stderr",
     "output_type": "stream",
     "text": [
      "claims:  60%|█████▉    | 732/1228 [1:26:56<50:47,  6.14s/it, n_retrieved: 170, recall: 0.0]               "
     ]
    },
    {
     "name": "stdout",
     "output_type": "stream",
     "text": [
      "claim-113 0.0 {'alarmist', 'temperature', 'computer model', 'computer', 'alarmist model'}\n"
     ]
    },
    {
     "name": "stderr",
     "output_type": "stream",
     "text": [
      "claims:  60%|█████▉    | 733/1228 [1:26:59<41:08,  4.99s/it, n_retrieved: 80, recall: 0.2] "
     ]
    },
    {
     "name": "stdout",
     "output_type": "stream",
     "text": [
      "claim-990 0.2 {'seawall', 'drainage', 'drainage system', 'south', 'south florida'}\n"
     ]
    },
    {
     "name": "stderr",
     "output_type": "stream",
     "text": [
      "claims:  60%|█████▉    | 734/1228 [1:27:06<46:30,  5.65s/it, n_retrieved: 148, recall: 0.4]"
     ]
    },
    {
     "name": "stdout",
     "output_type": "stream",
     "text": [
      "claim-710 0.4 {'marine', 'next', 'year', 'marine ice cliff instability sealevel rise', 'next century'}\n"
     ]
    },
    {
     "name": "stderr",
     "output_type": "stream",
     "text": [
      "claims:  60%|██████    | 738/1228 [1:27:32<43:13,  5.29s/it, n_retrieved: 500, recall: 0.0]                 "
     ]
    },
    {
     "name": "stdout",
     "output_type": "stream",
     "text": [
      "claim-2600 0.0 {'carbon dioxide', 'thousand', 'ten', 'time', 'much', 'carbon', 'much dioxide'}\n"
     ]
    },
    {
     "name": "stderr",
     "output_type": "stream",
     "text": [
      "claims:  60%|██████    | 739/1228 [1:27:36<41:54,  5.14s/it, n_retrieved: 317, recall: 0.4]"
     ]
    },
    {
     "name": "stdout",
     "output_type": "stream",
     "text": [
      "claim-2710 0.4 {'expensive', 'wind', 'expensive way', 'alternative', 'wind energy'}\n"
     ]
    },
    {
     "name": "stderr",
     "output_type": "stream",
     "text": [
      "claims:  60%|██████    | 740/1228 [1:27:42<43:00,  5.29s/it, n_retrieved: 228, recall: 0.0]"
     ]
    },
    {
     "name": "stdout",
     "output_type": "stream",
     "text": [
      "claim-2613 0.0 {'carbon dioxide', 'hundred', 'carbon', 'level', 'station', 'country', 'same', 'same trend'}\n"
     ]
    },
    {
     "name": "stderr",
     "output_type": "stream",
     "text": [
      "claims:  60%|██████    | 742/1228 [1:27:52<38:39,  4.77s/it, n_retrieved: 399, recall: 0.0] "
     ]
    },
    {
     "name": "stdout",
     "output_type": "stream",
     "text": [
      "claim-496 0.0 {'nasa scientist', 'year', 'nasa', '177year', 'drought', 'hurricane', '177year event'}\n"
     ]
    },
    {
     "name": "stderr",
     "output_type": "stream",
     "text": [
      "claims:  61%|██████    | 743/1228 [1:28:09<1:07:02,  8.29s/it, n_retrieved: 370, recall: 0.3333333333333333]"
     ]
    },
    {
     "name": "stdout",
     "output_type": "stream",
     "text": [
      "claim-2263 0.3333333333333333 {'warming', 'last year', 'original', '20th', '20th century', 'original conclusion', 'hockey', 'hockey stick', 'last'}\n"
     ]
    },
    {
     "name": "stderr",
     "output_type": "stream",
     "text": [
      "claims:  61%|██████    | 746/1228 [1:28:27<48:06,  5.99s/it, n_retrieved: 245, recall: 0.0]                 "
     ]
    },
    {
     "name": "stdout",
     "output_type": "stream",
     "text": [
      "claim-2762 0.0 {'more', 'more decade', 'business', 'impossible'}\n"
     ]
    },
    {
     "name": "stderr",
     "output_type": "stream",
     "text": [
      "claims:  61%|██████    | 747/1228 [1:28:32<44:16,  5.52s/it, n_retrieved: 154, recall: 0.0]"
     ]
    },
    {
     "name": "stdout",
     "output_type": "stream",
     "text": [
      "claim-1360 0.0 {'significant trend', 'trend', 'fact', 'significant'}\n"
     ]
    },
    {
     "name": "stderr",
     "output_type": "stream",
     "text": [
      "claims:  61%|██████    | 752/1228 [1:29:25<1:43:11, 13.01s/it, n_retrieved: 452, recall: 0.4]"
     ]
    },
    {
     "name": "stdout",
     "output_type": "stream",
     "text": [
      "claim-800 0.4 {'nature geoscience', 'emission', 'more', 'emission budget', 'journal geoscience', 'post', 'trend', 'journal', 'pronounced', 'report', 'pronounced warming', 'september', 'slowdown', 'model', 'decade', 'most', 'carbon dioxide', 'carbon', 'more room', 'nature'}\n"
     ]
    },
    {
     "name": "stderr",
     "output_type": "stream",
     "text": [
      "claims:  62%|██████▏   | 757/1228 [1:30:01<1:06:33,  8.48s/it, n_retrieved: 268, recall: 0.0]"
     ]
    },
    {
     "name": "stdout",
     "output_type": "stream",
     "text": [
      "claim-2571 0.0 {'incorrect', 'incorrect citation', 'peerreviewed', 'peerreviewed paper', 'datum', 'error'}\n"
     ]
    },
    {
     "name": "stderr",
     "output_type": "stream",
     "text": [
      "claims:  62%|██████▏   | 761/1228 [1:30:45<1:18:19, 10.06s/it, n_retrieved: 398, recall: 0.0]               "
     ]
    },
    {
     "name": "stdout",
     "output_type": "stream",
     "text": [
      "claim-1495 0.0 {'time', 'amount', 'warming', 'world', 'model'}\n"
     ]
    },
    {
     "name": "stderr",
     "output_type": "stream",
     "text": [
      "claims:  62%|██████▏   | 762/1228 [1:30:50<1:08:06,  8.77s/it, n_retrieved: 411, recall: 0.4]"
     ]
    },
    {
     "name": "stdout",
     "output_type": "stream",
     "text": [
      "claim-102 0.4 {'carbon dioxide', 'global', 'emission', 'carbon', 'global cooling', 'solar', 'solar cyclicity', 'few', 'next', 'few decade', 'next decade', 'projection'}\n"
     ]
    },
    {
     "name": "stderr",
     "output_type": "stream",
     "text": [
      "claims:  62%|██████▏   | 763/1228 [1:31:06<1:24:32, 10.91s/it, n_retrieved: 394, recall: 0.2]"
     ]
    },
    {
     "name": "stdout",
     "output_type": "stream",
     "text": [
      "claim-1310 0.2 {'warm', 'place', 'mild month', 'february', 'record', 'january', 'warm year', 'mild', 'earth'}\n"
     ]
    },
    {
     "name": "stderr",
     "output_type": "stream",
     "text": [
      "claims:  62%|██████▏   | 766/1228 [1:31:13<39:32,  5.13s/it, n_retrieved: 160, recall: 0.0]  "
     ]
    },
    {
     "name": "stdout",
     "output_type": "stream",
     "text": [
      "claim-1572 0.0 {'global warming', 'global', 'phil', 'phil jones'}\n"
     ]
    },
    {
     "name": "stderr",
     "output_type": "stream",
     "text": [
      "claims:  63%|██████▎   | 768/1228 [1:31:28<50:24,  6.58s/it, n_retrieved: 319, recall: 0.0]"
     ]
    },
    {
     "name": "stdout",
     "output_type": "stream",
     "text": [
      "claim-978 0.0 {'last decade', 'dry weather', 'extreme cycle', 'dry', 'last', 'extreme'}\n"
     ]
    },
    {
     "name": "stderr",
     "output_type": "stream",
     "text": [
      "claims:  63%|██████▎   | 772/1228 [1:31:36<27:21,  3.60s/it, n_retrieved: 454, recall: 0.4]"
     ]
    },
    {
     "name": "stdout",
     "output_type": "stream",
     "text": [
      "claim-962 0.4 {'arctic ice', 'arctic', 'sea', 'april', 'year', 'extent', 'sea ice'}\n"
     ]
    },
    {
     "name": "stderr",
     "output_type": "stream",
     "text": [
      "claims:  63%|██████▎   | 774/1228 [1:31:53<44:54,  5.94s/it, n_retrieved: 365, recall: 0.8]"
     ]
    },
    {
     "name": "stdout",
     "output_type": "stream",
     "text": [
      "claim-1570 0.4 {'global', 'global climate', 'human'}\n"
     ]
    },
    {
     "name": "stderr",
     "output_type": "stream",
     "text": [
      "claims:  63%|██████▎   | 777/1228 [1:32:10<46:41,  6.21s/it, n_retrieved: 415, recall: 0.4]"
     ]
    },
    {
     "name": "stdout",
     "output_type": "stream",
     "text": [
      "claim-2036 0.4 {'temperaturechange datum', 'global', 'scientific', 'propaganda tool', 'public', 'scientific value', 'surface', 'propaganda', 'temperaturechange'}\n"
     ]
    },
    {
     "name": "stderr",
     "output_type": "stream",
     "text": [
      "claims:  63%|██████▎   | 778/1228 [1:32:14<42:08,  5.62s/it, n_retrieved: 230, recall: 0.0]"
     ]
    },
    {
     "name": "stdout",
     "output_type": "stream",
     "text": [
      "claim-1551 0.0 {'little', 'little age', 'ice', 'ice age'}\n"
     ]
    },
    {
     "name": "stderr",
     "output_type": "stream",
     "text": [
      "claims:  63%|██████▎   | 779/1228 [1:32:15<33:00,  4.41s/it, n_retrieved: 471, recall: 0.0]"
     ]
    },
    {
     "name": "stdout",
     "output_type": "stream",
     "text": [
      "claim-1402 0.0 {'polar ice', 'several year', 'several', 'polar'}\n"
     ]
    },
    {
     "name": "stderr",
     "output_type": "stream",
     "text": [
      "claims:  64%|██████▎   | 780/1228 [1:32:16<25:05,  3.36s/it, n_retrieved: 470, recall: 0.3333333333333333]"
     ]
    },
    {
     "name": "stdout",
     "output_type": "stream",
     "text": [
      "claim-180 0.3333333333333333 {'carbon dioxide', 'reef', 'calcium carbonate', 'reef material', 'carbon', 'cent dioxide', 'cent', 'calcium'}\n"
     ]
    },
    {
     "name": "stderr",
     "output_type": "stream",
     "text": [
      "claims:  64%|██████▎   | 781/1228 [1:32:17<19:13,  2.58s/it, n_retrieved: 494, recall: 0.0]               "
     ]
    },
    {
     "name": "stdout",
     "output_type": "stream",
     "text": [
      "claim-1312 0.0 {'world heritage', 'hot', 'site', 'ocean', 'world', 'assault', 'ocean temperature'}\n"
     ]
    },
    {
     "name": "stderr",
     "output_type": "stream",
     "text": [
      "claims:  64%|██████▍   | 784/1228 [1:32:45<49:47,  6.73s/it, n_retrieved: 243, recall: 0.0]"
     ]
    },
    {
     "name": "stdout",
     "output_type": "stream",
     "text": [
      "claim-135 0.0 {'mid 1970', 'rich nation', 'mid', 'carbon', 'rich', 'carbon emission', 'britain', 'britain germany', 'france'}\n"
     ]
    },
    {
     "name": "stderr",
     "output_type": "stream",
     "text": [
      "claims:  64%|██████▍   | 785/1228 [1:32:53<52:32,  7.12s/it, n_retrieved: 402, recall: 0.0]"
     ]
    },
    {
     "name": "stdout",
     "output_type": "stream",
     "text": [
      "claim-2986 0.0 {'global', 'more', 'planet', 'whole', 'more sunlight', 'result', 'reflective', 'global warming'}\n"
     ]
    },
    {
     "name": "stderr",
     "output_type": "stream",
     "text": [
      "claims:  64%|██████▍   | 787/1228 [1:33:09<57:24,  7.81s/it, n_retrieved: 486, recall: 0.25]"
     ]
    },
    {
     "name": "stdout",
     "output_type": "stream",
     "text": [
      "claim-103 0.25 {'global', 'twentieth', 'stable', 'end', 'stable temperature', 'twentieth century', 'year', 'global warming'}\n"
     ]
    },
    {
     "name": "stderr",
     "output_type": "stream",
     "text": [
      "claims:  64%|██████▍   | 789/1228 [1:33:12<32:26,  4.43s/it, n_retrieved: 147, recall: 1.0] "
     ]
    },
    {
     "name": "stdout",
     "output_type": "stream",
     "text": [
      "claim-1729 0.0 {'tipping point', 't act', 'large', 'warming', 'large amount', 't', 'tipping'}\n"
     ]
    },
    {
     "name": "stderr",
     "output_type": "stream",
     "text": [
      "claims:  64%|██████▍   | 790/1228 [1:33:28<58:21,  7.99s/it, n_retrieved: 471, recall: 0.0]"
     ]
    },
    {
     "name": "stdout",
     "output_type": "stream",
     "text": [
      "claim-1431 0.0 {'global', 'greenhouse', 'planet', 'greenhouse gas', 'comparable deforestation', 'car', 'deforestation', 'global emission', 'human', 'comparable', 'percent', 'truck'}\n"
     ]
    },
    {
     "name": "stderr",
     "output_type": "stream",
     "text": [
      "claims:  64%|██████▍   | 791/1228 [1:33:43<1:13:01, 10.03s/it, n_retrieved: 453, recall: 0.2]"
     ]
    },
    {
     "name": "stdout",
     "output_type": "stream",
     "text": [
      "claim-948 0.2 {'study', 'emission', 'last year', 'international goal', 'international', 'line', 'computer model', 'next', 'few decade', 'pennsylvania state university', 'climate', 'robert', 'm', 'few', 'david pollard', 'massachusetts', 'david', 'pennsylvania', 'university', 'climate goal', 'computer', 'next decade', 'm deconto', 'robert deconto', 'last'}\n"
     ]
    },
    {
     "name": "stderr",
     "output_type": "stream",
     "text": [
      "claims:  65%|██████▍   | 793/1228 [1:33:59<1:06:06,  9.12s/it, n_retrieved: 496, recall: 0.0]"
     ]
    },
    {
     "name": "stdout",
     "output_type": "stream",
     "text": [
      "claim-2391 0.0 {'ground', 'whole', 'multiple', 'field', 'ground measurement', 'field measurement', 'multiple satellite', 'ice'}\n"
     ]
    },
    {
     "name": "stderr",
     "output_type": "stream",
     "text": [
      "claims:  65%|██████▍   | 794/1228 [1:34:10<1:09:09,  9.56s/it, n_retrieved: 335, recall: 0.0]"
     ]
    },
    {
     "name": "stdout",
     "output_type": "stream",
     "text": [
      "claim-2502 0.0 {'fundamental', 'global', 'climate model', 'fundamental physics', 'anthropogenic warming', 'response', 'testable prediction', 'anthropogenic', 'global model', 'climate', 'testable'}\n"
     ]
    },
    {
     "name": "stderr",
     "output_type": "stream",
     "text": [
      "claims:  65%|██████▍   | 795/1228 [1:34:18<1:05:47,  9.12s/it, n_retrieved: 429, recall: 0.2]"
     ]
    },
    {
     "name": "stdout",
     "output_type": "stream",
     "text": [
      "claim-2077 0.2 {'increase', 'population growth', 'poor', 'poor management', 'recent year', 'forest management', 'vulnerable', 'damage', 'population', 'recent', 'forest', 'vulnerable area'}\n"
     ]
    },
    {
     "name": "stderr",
     "output_type": "stream",
     "text": [
      "claims:  65%|██████▍   | 796/1228 [1:34:30<1:12:49, 10.11s/it, n_retrieved: 228, recall: 0.2]"
     ]
    },
    {
     "name": "stdout",
     "output_type": "stream",
     "text": [
      "claim-1138 0.2 {'warm', 'dieoff', 'ocean', 'stress', 'warm water', 'climate change', 'el', 'ocean water', 'climate', 'manmade', 'el nino pattern', 'manmade change'}\n"
     ]
    },
    {
     "name": "stderr",
     "output_type": "stream",
     "text": [
      "claims:  65%|██████▌   | 804/1228 [1:35:39<1:01:51,  8.75s/it, n_retrieved: 356, recall: 0.4]               "
     ]
    },
    {
     "name": "stdout",
     "output_type": "stream",
     "text": [
      "claim-2012 0.4 {'carbon pollution', 'sen', 'unlimited', 'carbon', 'polluter', 'ron', 'ron johnson', 'unlimited amount', 'fight', 'u', 'sen johnson'}\n"
     ]
    },
    {
     "name": "stderr",
     "output_type": "stream",
     "text": [
      "claims:  66%|██████▌   | 806/1228 [1:35:49<45:28,  6.47s/it, n_retrieved: 406, recall: 0.8]  "
     ]
    },
    {
     "name": "stdout",
     "output_type": "stream",
     "text": [
      "claim-3104 0.0 {'surface temperature', 'satellite', 'less', 'less warming', 'reading', 'foot', 'surface', 'earth', 'satellite sensor'}\n"
     ]
    },
    {
     "name": "stderr",
     "output_type": "stream",
     "text": [
      "claims:  66%|██████▌   | 809/1228 [1:36:26<1:05:19,  9.35s/it, n_retrieved: 470, recall: 0.0]"
     ]
    },
    {
     "name": "stdout",
     "output_type": "stream",
     "text": [
      "claim-1753 0.0 {'global', 'energy flow', 'detail', 'energy', 'global warming'}\n"
     ]
    },
    {
     "name": "stderr",
     "output_type": "stream",
     "text": [
      "claims:  66%|██████▌   | 813/1228 [1:36:38<26:19,  3.81s/it, n_retrieved: 254, recall: 0.5]  "
     ]
    },
    {
     "name": "stdout",
     "output_type": "stream",
     "text": [
      "claim-2099 0.4 {'2nd law', 'contradict', 'greenhouse', 'greenhouse theory', '2nd', 'thermodynamic'}\n"
     ]
    },
    {
     "name": "stderr",
     "output_type": "stream",
     "text": [
      "claims:  66%|██████▋   | 814/1228 [1:36:49<41:19,  5.99s/it, n_retrieved: 493, recall: 0.0]"
     ]
    },
    {
     "name": "stdout",
     "output_type": "stream",
     "text": [
      "claim-1944 0.0 {'more', 'carbon pollution', 'total', 'carbon', 'united states', 'past year', 'other nation', 'other', 'united', 'earth', 'total pollution', 'past'}\n"
     ]
    },
    {
     "name": "stderr",
     "output_type": "stream",
     "text": [
      "claims:  66%|██████▋   | 816/1228 [1:37:11<56:50,  8.28s/it, n_retrieved: 341, recall: 0.3333333333333333]  "
     ]
    },
    {
     "name": "stdout",
     "output_type": "stream",
     "text": [
      "claim-452 0.3333333333333333 {'climate', 'climate change', 'bottom line', 'bottom'}\n"
     ]
    },
    {
     "name": "stderr",
     "output_type": "stream",
     "text": [
      "claims:  67%|██████▋   | 817/1228 [1:37:16<48:33,  7.09s/it, n_retrieved: 303, recall: 0.0]               "
     ]
    },
    {
     "name": "stdout",
     "output_type": "stream",
     "text": [
      "claim-488 0.0 {'tropical forest', 'sahara', 'tropical', 'wind', 'wind farm', 'us'}\n"
     ]
    },
    {
     "name": "stderr",
     "output_type": "stream",
     "text": [
      "claims:  67%|██████▋   | 820/1228 [1:37:28<36:02,  5.30s/it, n_retrieved: 324, recall: 0.4]               "
     ]
    },
    {
     "name": "stdout",
     "output_type": "stream",
     "text": [
      "claim-351 0.4 {'flood damage', 'flood', 'today', 'percentage', 'gdp', 'cent', 'year', 'today damage'}\n"
     ]
    },
    {
     "name": "stderr",
     "output_type": "stream",
     "text": [
      "claims:  67%|██████▋   | 822/1228 [1:38:01<1:06:50,  9.88s/it, n_retrieved: 279, recall: 0.2]"
     ]
    },
    {
     "name": "stdout",
     "output_type": "stream",
     "text": [
      "claim-3000 0.2 {'volcano', 'spurious influence', 'other', 'important', 'other influence', 'spurious', 'influence', 'important influence'}\n"
     ]
    },
    {
     "name": "stderr",
     "output_type": "stream",
     "text": [
      "claims:  67%|██████▋   | 824/1228 [1:38:12<48:48,  7.25s/it, n_retrieved: 212, recall: 0.0]  "
     ]
    },
    {
     "name": "stdout",
     "output_type": "stream",
     "text": [
      "claim-1069 0.0 {'sea', 'time', 'earth', 'record', 'less', 'less ice', 'sea ice'}\n"
     ]
    },
    {
     "name": "stderr",
     "output_type": "stream",
     "text": [
      "claims:  67%|██████▋   | 825/1228 [1:38:14<38:35,  5.75s/it, n_retrieved: 219, recall: 0.2]"
     ]
    },
    {
     "name": "stdout",
     "output_type": "stream",
     "text": [
      "claim-1887 0.2 {'state', 'regulatory climate', 'business', 'florida', 'regulatory'}\n"
     ]
    },
    {
     "name": "stderr",
     "output_type": "stream",
     "text": [
      "claims:  67%|██████▋   | 828/1228 [1:38:50<59:44,  8.96s/it, n_retrieved: 173, recall: 0.0]  "
     ]
    },
    {
     "name": "stdout",
     "output_type": "stream",
     "text": [
      "claim-436 0.0 {'secondwarm', 'australia', 'record', 'april', 'unusual heat', 'europe', 'unusual'}\n"
     ]
    },
    {
     "name": "stderr",
     "output_type": "stream",
     "text": [
      "claims:  68%|██████▊   | 829/1228 [1:39:07<1:12:31, 10.91s/it, n_retrieved: 393, recall: 0.0]"
     ]
    },
    {
     "name": "stdout",
     "output_type": "stream",
     "text": [
      "claim-855 0.0 {'warm', 'more', 'planet', 'warm degree', 'less grain', 'less', 'century', 'degree', 'end', 'more people', 'percent'}\n"
     ]
    },
    {
     "name": "stderr",
     "output_type": "stream",
     "text": [
      "claims:  68%|██████▊   | 831/1228 [1:39:24<1:03:07,  9.54s/it, n_retrieved: 270, recall: 0.0]"
     ]
    },
    {
     "name": "stdout",
     "output_type": "stream",
     "text": [
      "claim-2223 0.0 {'most', 'eg', 'climate change', 'way', 'eg migration', 'most case', 'climate', 'specie', 'current', 'current change'}\n"
     ]
    },
    {
     "name": "stderr",
     "output_type": "stream",
     "text": [
      "claims:  68%|██████▊   | 835/1228 [1:39:46<42:32,  6.49s/it, n_retrieved: 429, recall: 0.0]  "
     ]
    },
    {
     "name": "stdout",
     "output_type": "stream",
     "text": [
      "claim-1211 0.0 {'climate economist', 'human', 'positive externality', 'positive', 'climate', 'human influence'}\n",
      "claim-818 0.2 {'carbon', 'health', 'carbon dioxide'}\n"
     ]
    },
    {
     "name": "stderr",
     "output_type": "stream",
     "text": [
      "claims:  68%|██████▊   | 837/1228 [1:40:01<46:20,  7.11s/it, n_retrieved: 458, recall: 0.0]"
     ]
    },
    {
     "name": "stdout",
     "output_type": "stream",
     "text": [
      "claim-2992 0.0 {'carbon dioxide', 'emission', 'volcano', 'amount', 'carbon', 'loa', 'mauna', 'measurement', 'loa observatory'}\n"
     ]
    },
    {
     "name": "stderr",
     "output_type": "stream",
     "text": [
      "claims:  68%|██████▊   | 838/1228 [1:40:06<42:53,  6.60s/it, n_retrieved: 315, recall: 0.4]"
     ]
    },
    {
     "name": "stdout",
     "output_type": "stream",
     "text": [
      "claim-628 0.4 {'overlying ice', 'continent', 'overlying'}\n"
     ]
    },
    {
     "name": "stderr",
     "output_type": "stream",
     "text": [
      "claims:  68%|██████▊   | 839/1228 [1:40:11<39:14,  6.05s/it, n_retrieved: 453, recall: 0.0]"
     ]
    },
    {
     "name": "stdout",
     "output_type": "stream",
     "text": [
      "claim-1397 0.0 {'alarmist', 'global', 'good news', 'plant', 'more pollen', 'more', 'bad news', 'bad', 'good', 'plant health', 'healthy plant', 'healthy'}\n"
     ]
    },
    {
     "name": "stderr",
     "output_type": "stream",
     "text": [
      "claims:  69%|██████▊   | 842/1228 [1:40:31<36:14,  5.63s/it, n_retrieved: 298, recall: 0.3333333333333333]"
     ]
    },
    {
     "name": "stdout",
     "output_type": "stream",
     "text": [
      "claim-1127 0.3333333333333333 {'el nino', 'middle', 'hot', 'el', 'year', 'yardstick'}\n",
      "claim-1151 0.3333333333333333 {'carbon dioxide', 'pollutant', 'carbon', 'colorless gas', 'odorless', 'colorless', 'pollutant dioxide', 'genuine', 'genuine dioxide'}\n"
     ]
    },
    {
     "name": "stderr",
     "output_type": "stream",
     "text": [
      "claims:  69%|██████▊   | 843/1228 [1:40:58<1:16:59, 12.00s/it, n_retrieved: 358, recall: 0.2]             "
     ]
    },
    {
     "name": "stdout",
     "output_type": "stream",
     "text": [
      "claim-1083 0.2 {'technical work', '1970', 'exact', 'record', 'technical', 'trend', 'main', 'takehome response', 'way', 'takehome', 'exact nature', 'lot', 'main response'}\n"
     ]
    },
    {
     "name": "stderr",
     "output_type": "stream",
     "text": [
      "claims:  69%|██████▊   | 844/1228 [1:41:04<1:04:55, 10.14s/it, n_retrieved: 208, recall: 0.25]"
     ]
    },
    {
     "name": "stdout",
     "output_type": "stream",
     "text": [
      "claim-1747 0.25 {'doubt', 'research unit', 'small unit', 'honesty', 'limited resource', 'small', 'limited', 'independent', 'cru', 'rigour', 'research', 'independent inquiry'}\n"
     ]
    },
    {
     "name": "stderr",
     "output_type": "stream",
     "text": [
      "claims:  69%|██████▉   | 846/1228 [1:41:05<33:20,  5.24s/it, n_retrieved: 91, recall: 0.0]    "
     ]
    },
    {
     "name": "stdout",
     "output_type": "stream",
     "text": [
      "claim-508 0.0 {'climate', 'climate projection', 'planet', 'planet earth'}\n",
      "claim-1548 0.0 {'bear number', 'polar number', 'bear', 'polar'}\n"
     ]
    },
    {
     "name": "stderr",
     "output_type": "stream",
     "text": [
      "claims:  69%|██████▉   | 848/1228 [1:41:19<40:22,  6.38s/it, n_retrieved: 395, recall: 0.0]"
     ]
    },
    {
     "name": "stdout",
     "output_type": "stream",
     "text": [
      "claim-736 0.0 {'new research', 'time', 'amount', 'constant', 'oxygen', 't', 'shell', 'new'}\n"
     ]
    },
    {
     "name": "stderr",
     "output_type": "stream",
     "text": [
      "claims:  69%|██████▉   | 849/1228 [1:41:24<36:20,  5.75s/it, n_retrieved: 65, recall: 0.0] "
     ]
    },
    {
     "name": "stdout",
     "output_type": "stream",
     "text": [
      "claim-1960 0.0 {'solar panel', 'sun', 'energy', 'solar'}\n"
     ]
    },
    {
     "name": "stderr",
     "output_type": "stream",
     "text": [
      "claims:  69%|██████▉   | 850/1228 [1:41:24<26:51,  4.26s/it, n_retrieved: 358, recall: 0.0]"
     ]
    },
    {
     "name": "stdout",
     "output_type": "stream",
     "text": [
      "claim-455 0.0 {'climate', 'period', 'likely', 'climate scientist'}\n"
     ]
    },
    {
     "name": "stderr",
     "output_type": "stream",
     "text": [
      "claims:  69%|██████▉   | 852/1228 [1:41:40<33:11,  5.30s/it, n_retrieved: 218, recall: 0.0]"
     ]
    },
    {
     "name": "stdout",
     "output_type": "stream",
     "text": [
      "claim-1882 0.0 {'american', 'business', 'american home', 'minute', 'solar'}\n"
     ]
    },
    {
     "name": "stderr",
     "output_type": "stream",
     "text": [
      "claims:  70%|██████▉   | 854/1228 [1:41:56<43:18,  6.95s/it, n_retrieved: 273, recall: 0.0]"
     ]
    },
    {
     "name": "stdout",
     "output_type": "stream",
     "text": [
      "claim-1188 0.0 {'policy', 'marshall', 'resilience', 'today', 'policy maker', 'resident', 'marshall island'}\n"
     ]
    },
    {
     "name": "stderr",
     "output_type": "stream",
     "text": [
      "claims:  70%|███████   | 860/1228 [1:42:46<52:47,  8.61s/it, n_retrieved: 453, recall: 0.0]               "
     ]
    },
    {
     "name": "stdout",
     "output_type": "stream",
     "text": [
      "claim-2989 0.0 {'cheap', 'global', 'cheap economist', 'climate damage', 'climate', 'cost', 'global warming'}\n"
     ]
    },
    {
     "name": "stderr",
     "output_type": "stream",
     "text": [
      "claims:  70%|███████   | 861/1228 [1:43:06<1:13:55, 12.09s/it, n_retrieved: 340, recall: 0.2]"
     ]
    },
    {
     "name": "stdout",
     "output_type": "stream",
     "text": [
      "claim-2803 0.2 {'radiative', 'ocean', 'amount', 'heat', 'radiative forcing', 'calculation', 'much', 'earth'}\n"
     ]
    },
    {
     "name": "stderr",
     "output_type": "stream",
     "text": [
      "claims:  70%|███████   | 862/1228 [1:43:13<1:04:44, 10.61s/it, n_retrieved: 448, recall: 0.0]"
     ]
    },
    {
     "name": "stdout",
     "output_type": "stream",
     "text": [
      "claim-2303 0.0 {'down', 'own up', 'weather', 'term trend', 'dramatic', 'long', 'own', 'dramatic up', 'term'}\n"
     ]
    },
    {
     "name": "stderr",
     "output_type": "stream",
     "text": [
      "claims:  70%|███████   | 864/1228 [1:43:33<1:02:39, 10.33s/it, n_retrieved: 449, recall: 0.2]"
     ]
    },
    {
     "name": "stdout",
     "output_type": "stream",
     "text": [
      "claim-1444 0.2 {'productive growth', 'global', 'poverty', 'degraded', 'productive', 'deforestation', 'climate solution', 'natural', 'global level', 'climate', 'degraded forest', 'job', 'people'}\n"
     ]
    },
    {
     "name": "stderr",
     "output_type": "stream",
     "text": [
      "claims:  70%|███████   | 865/1228 [1:43:39<55:09,  9.12s/it, n_retrieved: 417, recall: 0.2]  "
     ]
    },
    {
     "name": "stdout",
     "output_type": "stream",
     "text": [
      "claim-669 0.2 {'rise', 'significant', 'coastal city', 'world', 'sea level', 'sea', 'centimeter', 'foot', 'coastal', 'significant problem'}\n"
     ]
    },
    {
     "name": "stderr",
     "output_type": "stream",
     "text": [
      "claims:  71%|███████   | 866/1228 [1:43:53<1:03:03, 10.45s/it, n_retrieved: 458, recall: 0.2]"
     ]
    },
    {
     "name": "stdout",
     "output_type": "stream",
     "text": [
      "claim-2623 0.2 {'carbon dioxide', 'only', 'temperature', 'carbon', 'only place', 'atmosphere', 'difference', 'upper', 'model'}\n"
     ]
    },
    {
     "name": "stderr",
     "output_type": "stream",
     "text": [
      "claims:  71%|███████   | 867/1228 [1:43:58<53:33,  8.90s/it, n_retrieved: 200, recall: 0.0]  "
     ]
    },
    {
     "name": "stdout",
     "output_type": "stream",
     "text": [
      "claim-2027 0.0 {'global', 'increase', 'amount', 'ice', 'global warming', 'antarctica'}\n"
     ]
    },
    {
     "name": "stderr",
     "output_type": "stream",
     "text": [
      "claims:  71%|███████   | 869/1228 [1:44:00<29:10,  4.87s/it, n_retrieved: 303, recall: 0.0]"
     ]
    },
    {
     "name": "stdout",
     "output_type": "stream",
     "text": [
      "claim-128 0.0 {'sea level', 'sea', 'rise', 'human'}\n"
     ]
    },
    {
     "name": "stderr",
     "output_type": "stream",
     "text": [
      "claims:  71%|███████   | 872/1228 [1:44:21<37:27,  6.31s/it, n_retrieved: 393, recall: 0.0]"
     ]
    },
    {
     "name": "stdout",
     "output_type": "stream",
     "text": [
      "claim-2284 0.0 {'effect', 'global', 'past year', 'ray', 'global temperature', 'ray count', 'cosmic', 'cosmic count', 'past'}\n"
     ]
    },
    {
     "name": "stderr",
     "output_type": "stream",
     "text": [
      "claims:  71%|███████▏  | 877/1228 [1:44:51<37:01,  6.33s/it, n_retrieved: 476, recall: 0.0]"
     ]
    },
    {
     "name": "stdout",
     "output_type": "stream",
     "text": [
      "claim-1435 0.0 {'area', 'atmosphere', 'large ecosystem', 'new york city', 'year', 'new', 'coastal', 'coastal ecosystem', 'important buffer', 'carbon dioxide', 'large', 'extreme weather', 'carbon', 'important', 'community', 'extreme'}\n"
     ]
    },
    {
     "name": "stderr",
     "output_type": "stream",
     "text": [
      "claims:  71%|███████▏  | 878/1228 [1:44:57<36:00,  6.17s/it, n_retrieved: 494, recall: 0.0]"
     ]
    },
    {
     "name": "stdout",
     "output_type": "stream",
     "text": [
      "claim-2317 0.0 {'sea level', 'sea', 'past century', 'rise', 'past'}\n"
     ]
    },
    {
     "name": "stderr",
     "output_type": "stream",
     "text": [
      "claims:  72%|███████▏  | 880/1228 [1:45:20<53:01,  9.14s/it, n_retrieved: 452, recall: 0.25]"
     ]
    },
    {
     "name": "stdout",
     "output_type": "stream",
     "text": [
      "claim-1480 0.25 {'paris', 'emission', 'one', 'world', 'country', 'u s', 'paris accord', 'u'}\n"
     ]
    },
    {
     "name": "stderr",
     "output_type": "stream",
     "text": [
      "claims:  72%|███████▏  | 882/1228 [1:45:34<48:32,  8.42s/it, n_retrieved: 95, recall: 0.0]  "
     ]
    },
    {
     "name": "stdout",
     "output_type": "stream",
     "text": [
      "claim-2457 0.0 {'temperature', '20th', 'rise', '20th century', 'bulk'}\n"
     ]
    },
    {
     "name": "stderr",
     "output_type": "stream",
     "text": [
      "claims:  72%|███████▏  | 883/1228 [1:45:35<34:42,  6.04s/it, n_retrieved: 301, recall: 0.2]"
     ]
    },
    {
     "name": "stdout",
     "output_type": "stream",
     "text": [
      "claim-2009 0.2 {'hal lewis', 'hal', 'scientist lewis', 'top lewis', 'corruption', 'climate change', 'top', 'scientist', 'climate'}\n"
     ]
    },
    {
     "name": "stderr",
     "output_type": "stream",
     "text": [
      "claims:  72%|███████▏  | 889/1228 [1:46:18<47:24,  8.39s/it, n_retrieved: 384, recall: 0.4]               "
     ]
    },
    {
     "name": "stdout",
     "output_type": "stream",
     "text": [
      "claim-862 0.4 {'el salvador', 'sugarcane', 'field', 'kidney disease', 'man', 'population', 'result', 'dehydration', 'el', 'chronic disease', 'onefifth', 'quarter', 'kidney', 'decade', 'chronic', 'sugarcane region'}\n"
     ]
    },
    {
     "name": "stderr",
     "output_type": "stream",
     "text": [
      "claims:  72%|███████▏  | 890/1228 [1:46:25<44:18,  7.86s/it, n_retrieved: 470, recall: 0.0]"
     ]
    },
    {
     "name": "stdout",
     "output_type": "stream",
     "text": [
      "claim-2910 0.0 {'physical mechanism', 'author', 'statistical analysis', 'statistical', 'physical'}\n"
     ]
    },
    {
     "name": "stderr",
     "output_type": "stream",
     "text": [
      "claims:  73%|███████▎  | 894/1228 [1:46:53<43:27,  7.81s/it, n_retrieved: 388, recall: 0.2]               "
     ]
    },
    {
     "name": "stdout",
     "output_type": "stream",
     "text": [
      "claim-2499 0.2 {'end', 'believer', 'little', 'earth', 'little age', 'ice', 'ice age'}\n"
     ]
    },
    {
     "name": "stderr",
     "output_type": "stream",
     "text": [
      "claims:  73%|███████▎  | 896/1228 [1:47:03<34:17,  6.20s/it, n_retrieved: 378, recall: 0.3333333333333333]"
     ]
    },
    {
     "name": "stdout",
     "output_type": "stream",
     "text": [
      "claim-1690 0.3333333333333333 {'carbon dioxide', 'global', 'carbon', 'human dioxide', 'observation', 'high certainty', 'human', 'high', 'global warming'}\n"
     ]
    },
    {
     "name": "stderr",
     "output_type": "stream",
     "text": [
      "claims:  73%|███████▎  | 898/1228 [1:47:08<23:52,  4.34s/it, n_retrieved: 210, recall: 0.0]               "
     ]
    },
    {
     "name": "stdout",
     "output_type": "stream",
     "text": [
      "claim-1566 0.0 {'sun', 'cycle length', 'cycle', 'solar'}\n"
     ]
    },
    {
     "name": "stderr",
     "output_type": "stream",
     "text": [
      "claims:  73%|███████▎  | 900/1228 [1:47:34<49:38,  9.08s/it, n_retrieved: 291, recall: 0.25]"
     ]
    },
    {
     "name": "stdout",
     "output_type": "stream",
     "text": [
      "claim-1145 0.25 {'antarctic', 'arctic', 'record', 'first', 'sea ice', 'first time', 'scientist', 'track ice', 'sea', 'record low', 'year', 'track'}\n"
     ]
    },
    {
     "name": "stderr",
     "output_type": "stream",
     "text": [
      "claims:  73%|███████▎  | 901/1228 [1:47:55<1:09:51, 12.82s/it, n_retrieved: 436, recall: 0.3333333333333333]"
     ]
    },
    {
     "name": "stdout",
     "output_type": "stream",
     "text": [
      "claim-1079 0.3333333333333333 {'warm', 'temperature', 'planet', 'land', 'nasa', 'own datum', 'ocean', 'record', 'conclusion', 'noaa', 'warm year', 'own', 'surface', 'percent certainty', 'percent'}\n"
     ]
    },
    {
     "name": "stderr",
     "output_type": "stream",
     "text": [
      "claims:  73%|███████▎  | 902/1228 [1:48:05<1:05:02, 11.97s/it, n_retrieved: 488, recall: 0.4]               "
     ]
    },
    {
     "name": "stdout",
     "output_type": "stream",
     "text": [
      "claim-2997 0.4 {'carbon dioxide', 'global', 'mauna loa', 'carbon', 'trend', 'atmosphere', 'mauna', 'global trend'}\n"
     ]
    },
    {
     "name": "stderr",
     "output_type": "stream",
     "text": [
      "claims:  74%|███████▍  | 906/1228 [1:48:16<27:23,  5.10s/it, n_retrieved: 186, recall: 0.3333333333333333]"
     ]
    },
    {
     "name": "stdout",
     "output_type": "stream",
     "text": [
      "claim-2312 0.3333333333333333 {'pacific island', 'pacific', 'tuvalu'}\n"
     ]
    },
    {
     "name": "stderr",
     "output_type": "stream",
     "text": [
      "claims:  74%|███████▍  | 907/1228 [1:48:22<29:13,  5.46s/it, n_retrieved: 351, recall: 0.2]               "
     ]
    },
    {
     "name": "stdout",
     "output_type": "stream",
     "text": [
      "claim-531 0.2 {'mwh', 'south', 'petrol', 'litre', 'equivalent', 'electricity', 'south australian'}\n"
     ]
    },
    {
     "name": "stderr",
     "output_type": "stream",
     "text": [
      "claims:  74%|███████▍  | 911/1228 [1:48:51<35:25,  6.71s/it, n_retrieved: 462, recall: 0.0]"
     ]
    },
    {
     "name": "stdout",
     "output_type": "stream",
     "text": [
      "claim-741 0.0 {'place', 'marine', 'other', 'sediment', 'geological', 'other type', 'marine organism', 'geological time'}\n"
     ]
    },
    {
     "name": "stderr",
     "output_type": "stream",
     "text": [
      "claims:  74%|███████▍  | 912/1228 [1:48:56<32:44,  6.22s/it, n_retrieved: 497, recall: 0.0]"
     ]
    },
    {
     "name": "stdout",
     "output_type": "stream",
     "text": [
      "claim-1350 0.0 {'most', 'late', 'peak', 'warming', 'june', 'late 1990', 'most scientist'}\n"
     ]
    },
    {
     "name": "stderr",
     "output_type": "stream",
     "text": [
      "claims:  75%|███████▍  | 915/1228 [1:49:20<38:33,  7.39s/it, n_retrieved: 420, recall: 0.2]"
     ]
    },
    {
     "name": "stdout",
     "output_type": "stream",
     "text": [
      "claim-776 0.2 {'climate', 'scientist', 'year'}\n"
     ]
    },
    {
     "name": "stderr",
     "output_type": "stream",
     "text": [
      "claims:  75%|███████▌  | 922/1228 [1:49:48<23:06,  4.53s/it, n_retrieved: 424, recall: 0.0]               "
     ]
    },
    {
     "name": "stdout",
     "output_type": "stream",
     "text": [
      "claim-1507 0.0 {'scientific paper', 'global', 'scientific', 'myth', 'graph', 'global warming'}\n"
     ]
    },
    {
     "name": "stderr",
     "output_type": "stream",
     "text": [
      "claims:  75%|███████▌  | 924/1228 [1:49:58<27:40,  5.46s/it, n_retrieved: 214, recall: 0.0]"
     ]
    },
    {
     "name": "stdout",
     "output_type": "stream",
     "text": [
      "claim-2807 0.0 {'temperature', 'internal variability', '20th century', 'monotonic warming', 'internal', 'temperature record', '20th', 'monotonic'}\n"
     ]
    },
    {
     "name": "stderr",
     "output_type": "stream",
     "text": [
      "claims:  76%|███████▌  | 930/1228 [1:50:33<25:02,  5.04s/it, n_retrieved: 410, recall: 0.0]"
     ]
    },
    {
     "name": "stdout",
     "output_type": "stream",
     "text": [
      "claim-127 0.0 {'carbon dioxide', 'global', 'poverty', 'food', 'carbon', 'atmospheric dioxide', 'food production', 'global production', 'atmospheric'}\n"
     ]
    },
    {
     "name": "stderr",
     "output_type": "stream",
     "text": [
      "claims:  76%|███████▌  | 934/1228 [1:51:04<29:15,  5.97s/it, n_retrieved: 355, recall: 0.0]"
     ]
    },
    {
     "name": "stdout",
     "output_type": "stream",
     "text": [
      "claim-2038 0.0 {'global', 'wetter year', 'wetter', 'such temperature', 'australian', 'australian drought', 'global temperature', 'such'}\n"
     ]
    },
    {
     "name": "stderr",
     "output_type": "stream",
     "text": [
      "claims:  76%|███████▌  | 935/1228 [1:51:10<28:47,  5.90s/it, n_retrieved: 169, recall: 0.4]"
     ]
    },
    {
     "name": "stdout",
     "output_type": "stream",
     "text": [
      "claim-142 0.4 {'global', 'well understanding', 'heating scenario', 'role', 'heating', 'light', 'cloud', 'global scenario', 'well', 'cloud scientist'}\n"
     ]
    },
    {
     "name": "stderr",
     "output_type": "stream",
     "text": [
      "claims:  76%|███████▌  | 936/1228 [1:51:16<28:46,  5.91s/it, n_retrieved: 366, recall: 0.4]"
     ]
    },
    {
     "name": "stdout",
     "output_type": "stream",
     "text": [
      "claim-495 0.4 {'storm', 'elderly', 'new', 'elderly eyewitness', 'new england'}\n"
     ]
    },
    {
     "name": "stderr",
     "output_type": "stream",
     "text": [
      "claims:  76%|███████▋  | 939/1228 [1:51:33<28:52,  5.99s/it, n_retrieved: 429, recall: 0.0]"
     ]
    },
    {
     "name": "stdout",
     "output_type": "stream",
     "text": [
      "claim-1715 0.0 {'carbon dioxide', 'main driver', 'carbon', 'climate', 'main', 'climate change', 'theory', 'theory model', 'direct', 'direct measurement'}\n"
     ]
    },
    {
     "name": "stderr",
     "output_type": "stream",
     "text": [
      "claims:  77%|███████▋  | 940/1228 [1:51:34<21:06,  4.40s/it, n_retrieved: 180, recall: 0.25]"
     ]
    },
    {
     "name": "stdout",
     "output_type": "stream",
     "text": [
      "claim-306 0.25 {'statistical evidence', 'global', 'drought', 'statistical', 'global warming'}\n"
     ]
    },
    {
     "name": "stderr",
     "output_type": "stream",
     "text": [
      "claims:  77%|███████▋  | 942/1228 [1:51:48<29:54,  6.28s/it, n_retrieved: 369, recall: 0.4] "
     ]
    },
    {
     "name": "stdout",
     "output_type": "stream",
     "text": [
      "claim-3105 0.4 {'global', 'warming', 'fingerprint', 'rapid', 'warming theory', 'surface', 'james', 'rapid warming', 'james taylor'}\n"
     ]
    },
    {
     "name": "stderr",
     "output_type": "stream",
     "text": [
      "claims:  77%|███████▋  | 947/1228 [1:52:18<30:13,  6.45s/it, n_retrieved: 217, recall: 0.0]               "
     ]
    },
    {
     "name": "stdout",
     "output_type": "stream",
     "text": [
      "claim-1479 0.0 {'way', 'planet', 'form', 'human', 'way shape'}\n"
     ]
    },
    {
     "name": "stderr",
     "output_type": "stream",
     "text": [
      "claims:  77%|███████▋  | 951/1228 [1:52:36<22:05,  4.78s/it, n_retrieved: 166, recall: 0.0]"
     ]
    },
    {
     "name": "stdout",
     "output_type": "stream",
     "text": [
      "claim-190 0.0 {'climate', 'climate change'}\n"
     ]
    },
    {
     "name": "stderr",
     "output_type": "stream",
     "text": [
      "claims:  78%|███████▊  | 954/1228 [1:53:01<28:36,  6.27s/it, n_retrieved: 126, recall: 1.0]               "
     ]
    },
    {
     "name": "stdout",
     "output_type": "stream",
     "text": [
      "claim-230 0.4 {'several part', 'large', 'ice shelf', 'antarctica', 'process', 'scientist', 'demise', 'large sheet', 'several', 'ice'}\n"
     ]
    },
    {
     "name": "stderr",
     "output_type": "stream",
     "text": [
      "claims:  78%|███████▊  | 957/1228 [1:53:20<34:19,  7.60s/it, n_retrieved: 344, recall: 0.4]"
     ]
    },
    {
     "name": "stdout",
     "output_type": "stream",
     "text": [
      "claim-3024 0.4 {'greenhouse', 'high school', 'increase', 'positive feedback', 'simple example', 'small', 'round', 'positive', 'greenhouse effect', 'high', 'simple', 'case'}\n"
     ]
    },
    {
     "name": "stderr",
     "output_type": "stream",
     "text": [
      "claims:  78%|███████▊  | 959/1228 [1:53:35<34:43,  7.75s/it, n_retrieved: 432, recall: 0.4]"
     ]
    },
    {
     "name": "stdout",
     "output_type": "stream",
     "text": [
      "claim-880 0.4 {'global', 'temperature', 'peerreviewed', 'average dataset', 'peerreviewed study', 'veteran statistician', 'average', 'scientist', 'global dataset', 'temperature dataset', 'veteran'}\n"
     ]
    },
    {
     "name": "stderr",
     "output_type": "stream",
     "text": [
      "claims:  78%|███████▊  | 962/1228 [1:53:45<20:06,  4.53s/it, n_retrieved: 300, recall: 0.0]"
     ]
    },
    {
     "name": "stdout",
     "output_type": "stream",
     "text": [
      "claim-2323 0.0 {'scientist', 'own', 'martian', 'planetary', 'martian warming', 'mars'}\n"
     ]
    },
    {
     "name": "stderr",
     "output_type": "stream",
     "text": [
      "claims:  79%|███████▊  | 966/1228 [1:54:26<38:33,  8.83s/it, n_retrieved: 382, recall: 0.0]"
     ]
    },
    {
     "name": "stdout",
     "output_type": "stream",
     "text": [
      "claim-1503 0.0 {'climate model', 'global', 'climatologist', 'amount', 'hiatus', 'climate', 'global warming'}\n"
     ]
    },
    {
     "name": "stderr",
     "output_type": "stream",
     "text": [
      "claims:  79%|███████▊  | 967/1228 [1:54:33<36:30,  8.39s/it, n_retrieved: 274, recall: 0.0]"
     ]
    },
    {
     "name": "stdout",
     "output_type": "stream",
     "text": [
      "claim-2766 0.0 {'interesting thing', 'albedo', 'watts meter', 'albedo forcing', 'interesting', 'watts', 'sq meter', 'sq'}\n"
     ]
    },
    {
     "name": "stderr",
     "output_type": "stream",
     "text": [
      "claims:  79%|███████▉  | 969/1228 [1:54:48<33:49,  7.84s/it, n_retrieved: 475, recall: 0.2]"
     ]
    },
    {
     "name": "stdout",
     "output_type": "stream",
     "text": [
      "claim-2024 0.2 {'wisconsin employer', 'expansion', 'important', 'survey', 'antibusiness', 'important factor', 'expansion decision', 'climate', 'antibusiness litigation', 'wisconsin'}\n"
     ]
    },
    {
     "name": "stderr",
     "output_type": "stream",
     "text": [
      "claims:  79%|███████▉  | 971/1228 [1:55:10<42:42,  9.97s/it, n_retrieved: 335, recall: 0.0]"
     ]
    },
    {
     "name": "stdout",
     "output_type": "stream",
     "text": [
      "claim-2500 0.0 {'la gore', 'manmade', 'al', 'warming', 'contribution', 'al gore', 'skeptic', 'man', 'la', 'believer'}\n"
     ]
    },
    {
     "name": "stderr",
     "output_type": "stream",
     "text": [
      "claims:  79%|███████▉  | 973/1228 [1:55:23<34:12,  8.05s/it, n_retrieved: 430, recall: 0.25]              "
     ]
    },
    {
     "name": "stdout",
     "output_type": "stream",
     "text": [
      "claim-3058 0.25 {'global', 'global temperature', 'surface temperature', 'surface'}\n"
     ]
    },
    {
     "name": "stderr",
     "output_type": "stream",
     "text": [
      "claims:  79%|███████▉  | 975/1228 [1:55:31<26:34,  6.30s/it, n_retrieved: 410, recall: 0.4] "
     ]
    },
    {
     "name": "stdout",
     "output_type": "stream",
     "text": [
      "claim-1654 0.4 {'more', 'other career', 'other', 'climate scientist', 'more money', 'oil industry', 'climate', 'oil'}\n"
     ]
    },
    {
     "name": "stderr",
     "output_type": "stream",
     "text": [
      "claims:  80%|███████▉  | 977/1228 [1:55:43<23:40,  5.66s/it, n_retrieved: 183, recall: 0.0]"
     ]
    },
    {
     "name": "stdout",
     "output_type": "stream",
     "text": [
      "claim-823 0.0 {'remarkable head', 'remarkable', 'hot', 'hot year', 'el', 'record', 'el nino episode'}\n"
     ]
    },
    {
     "name": "stderr",
     "output_type": "stream",
     "text": [
      "claims:  80%|███████▉  | 978/1228 [1:55:51<26:20,  6.32s/it, n_retrieved: 429, recall: 0.0]"
     ]
    },
    {
     "name": "stdout",
     "output_type": "stream",
     "text": [
      "claim-2918 0.0 {'global', 'temperature', 'lake', 'record', 'temperature error', 'lake region', 'global mean', 'great region', 'great'}\n"
     ]
    },
    {
     "name": "stderr",
     "output_type": "stream",
     "text": [
      "claims:  80%|███████▉  | 981/1228 [1:56:09<21:21,  5.19s/it, n_retrieved: 420, recall: 0.3333333333333333]"
     ]
    },
    {
     "name": "stdout",
     "output_type": "stream",
     "text": [
      "claim-1169 0.2 {'sea level', 'sea', 'rise', 'human', 'year', 'inch'}\n",
      "claim-2128 0.3333333333333333 {'global', 'scientist', 'less half', 'less', 'global warming'}\n"
     ]
    },
    {
     "name": "stderr",
     "output_type": "stream",
     "text": [
      "claims:  80%|████████  | 985/1228 [1:56:41<29:52,  7.37s/it, n_retrieved: 470, recall: 0.4]               "
     ]
    },
    {
     "name": "stdout",
     "output_type": "stream",
     "text": [
      "claim-2800 0.4 {'global', 'study', 'global amounting', '~1', 'elementary', 'transient', 'period', 'ipcc', 'brightening amounting', 'own methodology', 's', 'natural', 'elementary radiativetransfer calculation', 'transient warming', 'own', 'brightening', 'k', 'natural surface'}\n"
     ]
    },
    {
     "name": "stderr",
     "output_type": "stream",
     "text": [
      "claims:  80%|████████  | 988/1228 [1:57:23<47:39, 11.91s/it, n_retrieved: 377, recall: 0.2]"
     ]
    },
    {
     "name": "stdout",
     "output_type": "stream",
     "text": [
      "claim-997 0.2 {'middle latitude', 'complex idea', 'warming', 'one', 'weather', 'northern hemisphere', 'complex', 'correct', 'scientist', 'northern', 'warming planet', 'middle', 'profound', 'profound implication'}\n"
     ]
    },
    {
     "name": "stderr",
     "output_type": "stream",
     "text": [
      "claims:  81%|████████  | 991/1228 [1:57:51<40:18, 10.21s/it, n_retrieved: 475, recall: 0.0]"
     ]
    },
    {
     "name": "stdout",
     "output_type": "stream",
     "text": [
      "claim-1347 0.0 {'paris', 'greenland', 'significant', 'climate agreement', 'recent agreement', 'antarctica', 'significant melting', 'pace', 'scientist', 'recent', 'climate'}\n"
     ]
    },
    {
     "name": "stderr",
     "output_type": "stream",
     "text": [
      "claims:  81%|████████  | 994/1228 [1:58:29<43:45, 11.22s/it, n_retrieved: 340, recall: 0.0]"
     ]
    },
    {
     "name": "stdout",
     "output_type": "stream",
     "text": [
      "claim-482 0.0 {'report', 'forest', 'energy', 'change', 'energy system'}\n"
     ]
    },
    {
     "name": "stderr",
     "output_type": "stream",
     "text": [
      "claims:  81%|████████  | 997/1228 [1:58:46<28:55,  7.51s/it, n_retrieved: 328, recall: 0.0]"
     ]
    },
    {
     "name": "stdout",
     "output_type": "stream",
     "text": [
      "claim-1464 0.0 {'number', 'intense event', 'rainfall event', 'intense', 'u s', 'u', 'rainfall'}\n"
     ]
    },
    {
     "name": "stderr",
     "output_type": "stream",
     "text": [
      "claims:  81%|████████▏ | 999/1228 [1:59:03<30:42,  8.05s/it, n_retrieved: 367, recall: 0.0]"
     ]
    },
    {
     "name": "stdout",
     "output_type": "stream",
     "text": [
      "claim-724 0.0 {'fossil fuel', 'fossil', 'rapid rise', 'sealevel', 'rapid', 'century', 'fast', 'fast transition', 'next', 'next decade', 'few decade', 'sealevel rise', 'few'}\n"
     ]
    },
    {
     "name": "stderr",
     "output_type": "stream",
     "text": [
      "claims:  81%|████████▏ | 1000/1228 [1:59:08<26:32,  6.98s/it, n_retrieved: 489, recall: 0.3333333333333333]"
     ]
    },
    {
     "name": "stdout",
     "output_type": "stream",
     "text": [
      "claim-615 0.3333333333333333 {'greenhouse', 'temperature', 'wet year', 'greenhouse gas', 'emission', 'difficult', 'scientist', 'dry', 'wet', 'yeartoyear', 'yeartoyear recovery'}\n"
     ]
    },
    {
     "name": "stderr",
     "output_type": "stream",
     "text": [
      "claims:  82%|████████▏ | 1002/1228 [1:59:10<16:15,  4.32s/it, n_retrieved: 185, recall: 0.0]               "
     ]
    },
    {
     "name": "stdout",
     "output_type": "stream",
     "text": [
      "claim-2142 0.0 {'carbon dioxide', 'temperature', 'soares', 'carbon', 'correlation', 'lack'}\n"
     ]
    },
    {
     "name": "stderr",
     "output_type": "stream",
     "text": [
      "claims:  82%|████████▏ | 1003/1228 [1:59:23<24:17,  6.48s/it, n_retrieved: 352, recall: 0.0]"
     ]
    },
    {
     "name": "stdout",
     "output_type": "stream",
     "text": [
      "claim-576 0.0 {'august', 'oxford', 'july', 'friederike otto', 'friederike', 'europe', 'summer', 'university', 'hot', 'extensive research', 'heatwave', 'june', 'datum', 'extensive'}\n"
     ]
    },
    {
     "name": "stderr",
     "output_type": "stream",
     "text": [
      "claims:  82%|████████▏ | 1004/1228 [1:59:37<31:37,  8.47s/it, n_retrieved: 491, recall: 0.2]"
     ]
    },
    {
     "name": "stdout",
     "output_type": "stream",
     "text": [
      "claim-1983 0.2 {'medium', 'cold air', 'polar', 'cold', 't', 'polar vortex', 't melting', 'term', 'ice'}\n"
     ]
    },
    {
     "name": "stderr",
     "output_type": "stream",
     "text": [
      "claims:  82%|████████▏ | 1005/1228 [2:00:01<47:14, 12.71s/it, n_retrieved: 399, recall: 0.2]"
     ]
    },
    {
     "name": "stdout",
     "output_type": "stream",
     "text": [
      "claim-1367 0.2 {'warmerthanpresent temperature', 'time', 'warmerthanpresent', 'other', 'today', 'time period', 'past', 'late', 'temperature', 'reliable indicator', 'other indicator', 'reliable', 'past year', 'evidence', 'civilization', 'civilization period', 'human', 'late 1800'}\n"
     ]
    },
    {
     "name": "stderr",
     "output_type": "stream",
     "text": [
      "claims:  82%|████████▏ | 1006/1228 [2:00:16<48:55, 13.22s/it, n_retrieved: 439, recall: 0.3333333333333333]"
     ]
    },
    {
     "name": "stdout",
     "output_type": "stream",
     "text": [
      "claim-703 0.3333333333333333 {'christy', 'longterm', 'dataset', 'recent end', 'same eruption', 'overall trend', 'negative number', 'recent', 'same', 'negative', 'overall'}\n"
     ]
    },
    {
     "name": "stderr",
     "output_type": "stream",
     "text": [
      "claims:  82%|████████▏ | 1007/1228 [2:00:29<48:55, 13.28s/it, n_retrieved: 386, recall: 0.0]               "
     ]
    },
    {
     "name": "stdout",
     "output_type": "stream",
     "text": [
      "claim-3066 0.0 {'study', 'incorrect number', 'energy industry', 'incorrect', 'flawed', 'alternative', 'faulty theory', 'faulty', 'new', 'realworld', 'new job', 'claim', 'conventional job', 'methodology', 'conventional', 'alternative industry', 'energy', 'realworld example'}\n"
     ]
    },
    {
     "name": "stderr",
     "output_type": "stream",
     "text": [
      "claims:  82%|████████▏ | 1011/1228 [2:00:57<28:09,  7.79s/it, n_retrieved: 406, recall: 0.4]"
     ]
    },
    {
     "name": "stdout",
     "output_type": "stream",
     "text": [
      "claim-1758 0.4 {'global', 'temperature', 'lake', 'global record', 'temperature error', 'lake region', 'great region', 'great'}\n"
     ]
    },
    {
     "name": "stderr",
     "output_type": "stream",
     "text": [
      "claims:  82%|████████▏ | 1012/1228 [2:01:08<31:18,  8.70s/it, n_retrieved: 400, recall: 0.0]"
     ]
    },
    {
     "name": "stdout",
     "output_type": "stream",
     "text": [
      "claim-2568 0.0 {'ipcc', 'advocacy group', 'peerreviewed', 'false prediction', 'wwf', 'advocacy', 'non', 'peerreviewed paper', 'false', 'amazon', 'amazon rain forest'}\n"
     ]
    },
    {
     "name": "stderr",
     "output_type": "stream",
     "text": [
      "claims:  82%|████████▏ | 1013/1228 [2:01:17<31:26,  8.78s/it, n_retrieved: 435, recall: 0.4]"
     ]
    },
    {
     "name": "stdout",
     "output_type": "stream",
     "text": [
      "claim-3131 0.4 {'temperature', 'heat', 't', 'heat flow', 'surface climate', 'high flow', 'core', 'surface', 'high'}\n"
     ]
    },
    {
     "name": "stderr",
     "output_type": "stream",
     "text": [
      "claims:  83%|████████▎ | 1015/1228 [2:01:35<30:48,  8.68s/it, n_retrieved: 400, recall: 0.0]"
     ]
    },
    {
     "name": "stdout",
     "output_type": "stream",
     "text": [
      "claim-3090 0.0 {'global', 'time', 'generous estimate', 'satellite', 'energy', 'global warming', 'generous'}\n"
     ]
    },
    {
     "name": "stderr",
     "output_type": "stream",
     "text": [
      "claims:  83%|████████▎ | 1017/1228 [2:02:08<47:03, 13.38s/it, n_retrieved: 426, recall: 0.3333333333333333]"
     ]
    },
    {
     "name": "stdout",
     "output_type": "stream",
     "text": [
      "claim-847 0.3333333333333333 {'albedo effect', 'more', 'other', 'less', 'atmosphere', 'cloud', 'forest', 'more cover', 'ipcc', 'dieback', 'albedo', 'other flora', 'cloud cover', 'heat', 't', 'sunlight', 'carbon', 'ice'}\n"
     ]
    },
    {
     "name": "stderr",
     "output_type": "stream",
     "text": [
      "claims:  83%|████████▎ | 1021/1228 [2:02:52<33:18,  9.65s/it, n_retrieved: 184, recall: 0.0]               "
     ]
    },
    {
     "name": "stdout",
     "output_type": "stream",
     "text": [
      "claim-305 0.0 {'statistical evidence', 'global', 'flood', 'statistical', 'global warming'}\n"
     ]
    },
    {
     "name": "stderr",
     "output_type": "stream",
     "text": [
      "claims:  83%|████████▎ | 1024/1228 [2:03:18<29:20,  8.63s/it, n_retrieved: 290, recall: 0.2] "
     ]
    },
    {
     "name": "stdout",
     "output_type": "stream",
     "text": [
      "claim-1487 0.2 {'temperature', 'nasa', 'past'}\n"
     ]
    },
    {
     "name": "stderr",
     "output_type": "stream",
     "text": [
      "claims:  84%|████████▍ | 1029/1228 [2:03:55<23:20,  7.04s/it, n_retrieved: 360, recall: 0.0]"
     ]
    },
    {
     "name": "stdout",
     "output_type": "stream",
     "text": [
      "claim-575 0.0 {'global', 'isolated', 'scale', 'anomaly', 'scientist', 'isolated heatwave', 'culprit', 'global warming', 'phenomenon'}\n"
     ]
    },
    {
     "name": "stderr",
     "output_type": "stream",
     "text": [
      "claims:  84%|████████▍ | 1030/1228 [2:04:01<21:56,  6.65s/it, n_retrieved: 391, recall: 0.4]"
     ]
    },
    {
     "name": "stdout",
     "output_type": "stream",
     "text": [
      "claim-3011 0.4 {'synchronous', 'african', 'year cycle', 'alexander', 'solar', 'synchronous cycle', 'year', 'african paper'}\n"
     ]
    },
    {
     "name": "stderr",
     "output_type": "stream",
     "text": [
      "claims:  84%|████████▍ | 1033/1228 [2:04:24<23:50,  7.34s/it, n_retrieved: 236, recall: 0.0]"
     ]
    },
    {
     "name": "stdout",
     "output_type": "stream",
     "text": [
      "claim-2632 0.0 {'global', 'new spot', 'close', 'equator', 'new', 'global warming'}\n"
     ]
    },
    {
     "name": "stderr",
     "output_type": "stream",
     "text": [
      "claims:  84%|████████▍ | 1034/1228 [2:04:34<26:08,  8.09s/it, n_retrieved: 306, recall: 0.0]"
     ]
    },
    {
     "name": "stdout",
     "output_type": "stream",
     "text": [
      "claim-1868 0.0 {'company', 'florida', 'electricity', 'solar', 'solar panel', 'state', 'citizen', 'business', 'nation', 'home'}\n"
     ]
    },
    {
     "name": "stderr",
     "output_type": "stream",
     "text": [
      "claims:  84%|████████▍ | 1035/1228 [2:04:36<19:44,  6.14s/it, n_retrieved: 456, recall: 0.25]"
     ]
    },
    {
     "name": "stdout",
     "output_type": "stream",
     "text": [
      "claim-1644 0.25 {'most', 'water', 'serious', 'million', 'serious problem', 'most glacier'}\n"
     ]
    },
    {
     "name": "stderr",
     "output_type": "stream",
     "text": [
      "claims:  84%|████████▍ | 1036/1228 [2:04:38<15:58,  4.99s/it, n_retrieved: 209, recall: 0.3333333333333333]"
     ]
    },
    {
     "name": "stdout",
     "output_type": "stream",
     "text": [
      "claim-2178 0.3333333333333333 {'scafetta', 'global', 'loehle', 'year cycle', 'year', 'global warming'}\n"
     ]
    },
    {
     "name": "stderr",
     "output_type": "stream",
     "text": [
      "claims:  85%|████████▍ | 1038/1228 [2:04:50<17:00,  5.37s/it, n_retrieved: 466, recall: 0.4]               "
     ]
    },
    {
     "name": "stdout",
     "output_type": "stream",
     "text": [
      "claim-1543 0.4 {'medieval period', 'warm', 'medieval', 'climate warming', 'climate', 'warm period', 'today'}\n"
     ]
    },
    {
     "name": "stderr",
     "output_type": "stream",
     "text": [
      "claims:  85%|████████▍ | 1039/1228 [2:04:51<13:37,  4.33s/it, n_retrieved: 453, recall: 0.0]"
     ]
    },
    {
     "name": "stdout",
     "output_type": "stream",
     "text": [
      "claim-2289 0.0 {'record temperature', 'cosmic ray', 'fact', 'large', 'record', 'recent year', 'large effect', 'recent', 'cosmic'}\n"
     ]
    },
    {
     "name": "stderr",
     "output_type": "stream",
     "text": [
      "claims:  85%|████████▍ | 1040/1228 [2:04:52<09:41,  3.09s/it, n_retrieved: 369, recall: 0.25]"
     ]
    },
    {
     "name": "stdout",
     "output_type": "stream",
     "text": [
      "claim-1103 0.25 {'ocean acidification', 'ocean', 'peerreviewed', 'peerreviewed study', 'nature'}\n"
     ]
    },
    {
     "name": "stderr",
     "output_type": "stream",
     "text": [
      "claims:  85%|████████▍ | 1041/1228 [2:04:58<12:46,  4.10s/it, n_retrieved: 470, recall: 0.4] "
     ]
    },
    {
     "name": "stdout",
     "output_type": "stream",
     "text": [
      "claim-36 0.4 {'same group', 'global', 'exact', 'warming', 'global cooling', 'expert', 'same', 'exact group'}\n"
     ]
    },
    {
     "name": "stderr",
     "output_type": "stream",
     "text": [
      "claims:  85%|████████▍ | 1043/1228 [2:05:18<22:38,  7.34s/it, n_retrieved: 308, recall: 0.0]"
     ]
    },
    {
     "name": "stdout",
     "output_type": "stream",
     "text": [
      "claim-2552 0.0 {'geologic', 'perpetual', 'icecap', 'pole', 'geologic record', 'climate', 'abundant evidence', 'perpetual variability', 'equator', 'such variability', 'natural', 'none', 'climate variability', 'abundant', 'such'}\n"
     ]
    },
    {
     "name": "stderr",
     "output_type": "stream",
     "text": [
      "claims:  85%|████████▌ | 1045/1228 [2:05:27<16:38,  5.46s/it, n_retrieved: 82, recall: 0.3333333333333333]"
     ]
    },
    {
     "name": "stdout",
     "output_type": "stream",
     "text": [
      "claim-2298 0.0 {'globe', 'wide margin', 'usa', 'percent', 'wide'}\n",
      "claim-2293 0.3333333333333333 {'january', 'temperature', 'strange discontinuity', 'steve mcintyre', 'temperature datum', 'strange', 'steve'}\n"
     ]
    },
    {
     "name": "stderr",
     "output_type": "stream",
     "text": [
      "claims:  86%|████████▌ | 1054/1228 [2:06:52<30:08, 10.39s/it, n_retrieved: 405, recall: 0.0]               "
     ]
    },
    {
     "name": "stdout",
     "output_type": "stream",
     "text": [
      "claim-2982 0.0 {'different period', 'rate', 'warming', 'statistical analysis', 'different', 'statistical'}\n"
     ]
    },
    {
     "name": "stderr",
     "output_type": "stream",
     "text": [
      "claims:  86%|████████▌ | 1057/1228 [2:06:59<13:21,  4.69s/it, n_retrieved: 376, recall: 0.2] "
     ]
    },
    {
     "name": "stdout",
     "output_type": "stream",
     "text": [
      "claim-1898 0.2 {'solarheated tank', 'consumption', 'water tank', 'florida', 'water', 'house', 'solarheated', 'percent'}\n"
     ]
    },
    {
     "name": "stderr",
     "output_type": "stream",
     "text": [
      "claims:  86%|████████▌ | 1058/1228 [2:07:02<12:01,  4.24s/it, n_retrieved: 406, recall: 0.25]"
     ]
    },
    {
     "name": "stdout",
     "output_type": "stream",
     "text": [
      "claim-971 0.25 {'climate model', 'sea', 'scientist', 'climate', 'sea ice'}\n"
     ]
    },
    {
     "name": "stderr",
     "output_type": "stream",
     "text": [
      "claims:  86%|████████▋ | 1060/1228 [2:07:12<12:45,  4.56s/it, n_retrieved: 424, recall: 0.2] "
     ]
    },
    {
     "name": "stdout",
     "output_type": "stream",
     "text": [
      "claim-787 0.2 {'human emission', 'manageable pace', 'human', 'warming', 'manageable'}\n"
     ]
    },
    {
     "name": "stderr",
     "output_type": "stream",
     "text": [
      "claims:  86%|████████▋ | 1062/1228 [2:07:34<22:50,  8.25s/it, n_retrieved: 377, recall: 0.0]"
     ]
    },
    {
     "name": "stdout",
     "output_type": "stream",
     "text": [
      "claim-1463 0.0 {'temperature', 'number', 'low event', 'record', 'temperature event', 'united states', 'high event', 'united', 'high', 'low'}\n"
     ]
    },
    {
     "name": "stderr",
     "output_type": "stream",
     "text": [
      "claims:  87%|████████▋ | 1065/1228 [2:08:06<27:11, 10.01s/it, n_retrieved: 360, recall: 0.4]"
     ]
    },
    {
     "name": "stdout",
     "output_type": "stream",
     "text": [
      "claim-1448 0.4 {'carbon', 'united kingdom japan', 'passenger', 'top', 'carbon emission', 'united', 'germany', 'china', 'top country'}\n"
     ]
    },
    {
     "name": "stderr",
     "output_type": "stream",
     "text": [
      "claims:  87%|████████▋ | 1066/1228 [2:08:16<26:45,  9.91s/it, n_retrieved: 476, recall: 0.0]"
     ]
    },
    {
     "name": "stdout",
     "output_type": "stream",
     "text": [
      "claim-2422 0.0 {'more', 'time', 'satellite', 'amsre', 'satellite measurement', 'today', 'past year', 'more ice', 'today jaxa', 'amsre dataset', 'date', 'aqua measurement', 'aqua', 'past'}\n"
     ]
    },
    {
     "name": "stderr",
     "output_type": "stream",
     "text": [
      "claims:  87%|████████▋ | 1068/1228 [2:08:33<25:16,  9.48s/it, n_retrieved: 273, recall: 0.0]               "
     ]
    },
    {
     "name": "stdout",
     "output_type": "stream",
     "text": [
      "claim-619 0.0 {'strong', 'strong snowpack', 'last year', 'conservancy district', 'conservancy', 'water', 'upstream', 'upstream reservoir', 'wet', 'winter', 'last', 'rio', 'wet one'}\n"
     ]
    },
    {
     "name": "stderr",
     "output_type": "stream",
     "text": [
      "claims:  88%|████████▊ | 1075/1228 [2:09:46<22:57,  9.00s/it, n_retrieved: 342, recall: 0.0]               "
     ]
    },
    {
     "name": "stdout",
     "output_type": "stream",
     "text": [
      "claim-2837 0.0 {'increase', 'fast rate', 'fact', 'change', 'record', 'fast', 'september onward', 'september', 'rate'}\n"
     ]
    },
    {
     "name": "stderr",
     "output_type": "stream",
     "text": [
      "claims:  88%|████████▊ | 1077/1228 [2:09:50<14:48,  5.88s/it, n_retrieved: 272, recall: 0.0]"
     ]
    },
    {
     "name": "stdout",
     "output_type": "stream",
     "text": [
      "claim-2313 0.0 {'evidence', 'local tidegauge', 'local', 'obvious'}\n"
     ]
    },
    {
     "name": "stderr",
     "output_type": "stream",
     "text": [
      "claims:  88%|████████▊ | 1080/1228 [2:10:18<20:40,  8.38s/it, n_retrieved: 475, recall: 0.3333333333333333]"
     ]
    },
    {
     "name": "stdout",
     "output_type": "stream",
     "text": [
      "claim-2983 0.3333333333333333 {'carbon dioxide', 'emission', 'temperature', 'global', 'logarithmic', 'carbon', 'temperature level', '21st', 'logarithmic relationship', 'surface', '21st century', 'dioxide', 'global warming', 'atmospheric'}\n"
     ]
    },
    {
     "name": "stderr",
     "output_type": "stream",
     "text": [
      "claims:  88%|████████▊ | 1081/1228 [2:10:33<25:01, 10.21s/it, n_retrieved: 414, recall: 0.4]               "
     ]
    },
    {
     "name": "stdout",
     "output_type": "stream",
     "text": [
      "claim-1984 0.4 {'carbon dioxide', 'don', 'carbon', 'change', 'recent survey', 'climate scientist', 'recent', 'climate', 'don t', 'percent', 'idea'}\n"
     ]
    },
    {
     "name": "stderr",
     "output_type": "stream",
     "text": [
      "claims:  88%|████████▊ | 1082/1228 [2:10:46<26:19, 10.82s/it, n_retrieved: 407, recall: 0.4]"
     ]
    },
    {
     "name": "stdout",
     "output_type": "stream",
     "text": [
      "claim-1922 0.4 {'more', 'america', 'department', 'united states', 'internet', 'more money', 'climate change', 'islamist terrorist', 'homeland security', 'islamist', 'united', 'climate', 'homeland'}\n"
     ]
    },
    {
     "name": "stderr",
     "output_type": "stream",
     "text": [
      "claims:  89%|████████▊ | 1088/1228 [2:11:03<08:53,  3.81s/it, n_retrieved: 477, recall: 0.0]"
     ]
    },
    {
     "name": "stdout",
     "output_type": "stream",
     "text": [
      "claim-1861 0.0 {'california legislator', 'threat', 'jail', 'illegal', 'climate change', 'climate', 'jail time', 'california'}\n"
     ]
    },
    {
     "name": "stderr",
     "output_type": "stream",
     "text": [
      "claims:  89%|████████▊ | 1089/1228 [2:11:04<06:23,  2.76s/it, n_retrieved: 446, recall: 0.2]"
     ]
    },
    {
     "name": "stdout",
     "output_type": "stream",
     "text": [
      "claim-2058 0.2 {'global', 'el event', 'nino event', 'stable fluctuation', 'global level', 'csiro', 'stable', 'methane', 'el', 'methane level', 'nino'}\n"
     ]
    },
    {
     "name": "stderr",
     "output_type": "stream",
     "text": [
      "claims:  89%|████████▉ | 1090/1228 [2:11:07<06:58,  3.03s/it, n_retrieved: 319, recall: 0.0]"
     ]
    },
    {
     "name": "stdout",
     "output_type": "stream",
     "text": [
      "claim-1815 0.0 {'climate change', 'human', 'cold', 'climate', 'cold one'}\n"
     ]
    },
    {
     "name": "stderr",
     "output_type": "stream",
     "text": [
      "claims:  89%|████████▉ | 1093/1228 [2:11:21<07:57,  3.54s/it, n_retrieved: 466, recall: 0.2] "
     ]
    },
    {
     "name": "stdout",
     "output_type": "stream",
     "text": [
      "claim-434 0.2 {'long', 'several cycle', 'climate variability', 'several', 'climate', 'long period'}\n"
     ]
    },
    {
     "name": "stderr",
     "output_type": "stream",
     "text": [
      "claims:  89%|████████▉ | 1094/1228 [2:11:22<06:08,  2.75s/it, n_retrieved: 324, recall: 0.2]"
     ]
    },
    {
     "name": "stdout",
     "output_type": "stream",
     "text": [
      "claim-1387 0.2 {'global', 'great while', 'bat', 'response', 'dubious', 'dubious claim', 'year', 'sense', 'global warming', 'great'}\n"
     ]
    },
    {
     "name": "stderr",
     "output_type": "stream",
     "text": [
      "claims:  89%|████████▉ | 1099/1228 [2:12:03<16:31,  7.68s/it, n_retrieved: 293, recall: 0.4]"
     ]
    },
    {
     "name": "stdout",
     "output_type": "stream",
     "text": [
      "claim-1683 0.4 {'pacific', 'global', 'pacific decadal oscillation', 'trend', 'global warming'}\n"
     ]
    },
    {
     "name": "stderr",
     "output_type": "stream",
     "text": [
      "claims:  90%|████████▉ | 1101/1228 [2:12:23<18:15,  8.62s/it, n_retrieved: 384, recall: 0.25]"
     ]
    },
    {
     "name": "stdout",
     "output_type": "stream",
     "text": [
      "claim-702 0.25 {'noticeable effect', 'noticeable', 'natural event', 'trend', 'timing', 'volcanic eruption', 'volcanic', 'natural'}\n"
     ]
    },
    {
     "name": "stderr",
     "output_type": "stream",
     "text": [
      "claims:  90%|████████▉ | 1105/1228 [2:12:50<16:43,  8.16s/it, n_retrieved: 280, recall: 0.25]"
     ]
    },
    {
     "name": "stdout",
     "output_type": "stream",
     "text": [
      "claim-430 0.25 {'study', 'respect', 'land', 'total', 'show', 'antarctica', 'ice sheet', 'total sheet', 'plenty', 'ice'}\n"
     ]
    },
    {
     "name": "stderr",
     "output_type": "stream",
     "text": [
      "claims:  90%|█████████ | 1110/1228 [2:13:45<20:11, 10.27s/it, n_retrieved: 315, recall: 0.2] "
     ]
    },
    {
     "name": "stdout",
     "output_type": "stream",
     "text": [
      "claim-806 0.2 {'august', 'pacific', 'temperature', 'july', 'heat', 'mountain', 'heat wave', 'pacific northwest', 'mountain west', 'day', '100degreefahrenheit'}\n"
     ]
    },
    {
     "name": "stderr",
     "output_type": "stream",
     "text": [
      "claims:  90%|█████████ | 1111/1228 [2:13:54<19:02,  9.76s/it, n_retrieved: 418, recall: 0.0]"
     ]
    },
    {
     "name": "stdout",
     "output_type": "stream",
     "text": [
      "claim-626 0.0 {'tidal', 'tidal gauge', 'trend', 'datum', 'network', 'many', 'century'}\n"
     ]
    },
    {
     "name": "stderr",
     "output_type": "stream",
     "text": [
      "claims:  91%|█████████ | 1113/1228 [2:14:05<14:16,  7.45s/it, n_retrieved: 230, recall: 0.0]"
     ]
    },
    {
     "name": "stdout",
     "output_type": "stream",
     "text": [
      "claim-2096 0.0 {'little', 'little age', 'ice', 'ice age'}\n"
     ]
    },
    {
     "name": "stderr",
     "output_type": "stream",
     "text": [
      "claims:  91%|█████████ | 1114/1228 [2:14:11<13:01,  6.86s/it, n_retrieved: 162, recall: 0.0]"
     ]
    },
    {
     "name": "stdout",
     "output_type": "stream",
     "text": [
      "claim-637 0.0 {'alarming number', 'alarming', 'al', 'far', 'inch', 'al gore', 'sea', 'far cry'}\n"
     ]
    },
    {
     "name": "stderr",
     "output_type": "stream",
     "text": [
      "claims:  91%|█████████ | 1116/1228 [2:14:12<06:51,  3.68s/it, n_retrieved: 345, recall: 1.0] "
     ]
    },
    {
     "name": "stdout",
     "output_type": "stream",
     "text": [
      "claim-1369 0.25 {'record temperature', 'el nino', 'high', 'el', 'record', 'high temperature'}\n"
     ]
    },
    {
     "name": "stderr",
     "output_type": "stream",
     "text": [
      "claims:  91%|█████████ | 1117/1228 [2:14:30<14:35,  7.89s/it, n_retrieved: 439, recall: 0.0]"
     ]
    },
    {
     "name": "stdout",
     "output_type": "stream",
     "text": [
      "claim-1904 0.0 {'side', 'america', 'southwestern', 'area', 'southwestern desert', 'united states', 'electricity', 'solar', 'full', 'full year', 'solar energy', 'united', 'mile', 'electricity need', 'percent'}\n"
     ]
    },
    {
     "name": "stderr",
     "output_type": "stream",
     "text": [
      "claims:  91%|█████████ | 1118/1228 [2:14:40<15:40,  8.55s/it, n_retrieved: 405, recall: 0.4]"
     ]
    },
    {
     "name": "stdout",
     "output_type": "stream",
     "text": [
      "claim-451 0.4 {'carbon dioxide', 'small', 'water', 'small cycle', 'water cycle', 'carbon', 'idea'}\n"
     ]
    },
    {
     "name": "stderr",
     "output_type": "stream",
     "text": [
      "claims:  91%|█████████ | 1119/1228 [2:14:50<16:36,  9.14s/it, n_retrieved: 376, recall: 0.2]"
     ]
    },
    {
     "name": "stdout",
     "output_type": "stream",
     "text": [
      "claim-2818 0.2 {'oism petition', 'tiny', 'oism', 'science', 'science graduate', 'tiny fraction', 'scientist', 'percent'}\n",
      "claim-1591 0.25 {'carbon dioxide', 'rise', 'murry', 'carbon', 'salby'}\n"
     ]
    },
    {
     "name": "stderr",
     "output_type": "stream",
     "text": [
      "claims:  91%|█████████▏| 1121/1228 [2:14:56<11:17,  6.33s/it, n_retrieved: 145, recall: 0.0]"
     ]
    },
    {
     "name": "stdout",
     "output_type": "stream",
     "text": [
      "claim-1673 0.0 {'carbon', 'sun', 'carbon dioxide', 'past'}\n"
     ]
    },
    {
     "name": "stderr",
     "output_type": "stream",
     "text": [
      "claims:  91%|█████████▏| 1122/1228 [2:15:01<10:15,  5.81s/it, n_retrieved: 260, recall: 0.0]"
     ]
    },
    {
     "name": "stdout",
     "output_type": "stream",
     "text": [
      "claim-676 0.0 {'light', 'car', 'more', 'light bulb'}\n"
     ]
    },
    {
     "name": "stderr",
     "output_type": "stream",
     "text": [
      "claims:  91%|█████████▏| 1123/1228 [2:15:07<10:37,  6.07s/it, n_retrieved: 457, recall: 0.0]"
     ]
    },
    {
     "name": "stdout",
     "output_type": "stream",
     "text": [
      "claim-2978 0.0 {'global', 'water vapor', 'low temperature', 'cold', 'carbon', 'carbon level', 'level', 'water', 'cold point', 'low'}\n"
     ]
    },
    {
     "name": "stderr",
     "output_type": "stream",
     "text": [
      "claims:  92%|█████████▏| 1125/1228 [2:15:17<09:38,  5.61s/it, n_retrieved: 432, recall: 0.3333333333333333]"
     ]
    },
    {
     "name": "stdout",
     "output_type": "stream",
     "text": [
      "claim-2602 0.3333333333333333 {'carbon dioxide', 'manmade dioxide', 'climate', 'public', 'carbon', 'climate disaster', 'little belief', 'little', 'manmade'}\n"
     ]
    },
    {
     "name": "stderr",
     "output_type": "stream",
     "text": [
      "claims:  92%|█████████▏| 1126/1228 [2:15:21<08:38,  5.08s/it, n_retrieved: 286, recall: 0.2]               "
     ]
    },
    {
     "name": "stdout",
     "output_type": "stream",
     "text": [
      "claim-621 0.2 {'warm', 'more', 'spring', 'more snow', 'warm air', 'dr', 'vapor', 'spring temperature', 'impact', 'dr gutzler'}\n"
     ]
    },
    {
     "name": "stderr",
     "output_type": "stream",
     "text": [
      "claims:  92%|█████████▏| 1128/1228 [2:15:41<12:41,  7.62s/it, n_retrieved: 274, recall: 0.0]"
     ]
    },
    {
     "name": "stdout",
     "output_type": "stream",
     "text": [
      "claim-2286 0.0 {'earth', 'sun', 'cloud', 'temperature'}\n"
     ]
    },
    {
     "name": "stderr",
     "output_type": "stream",
     "text": [
      "claims:  92%|█████████▏| 1130/1228 [2:16:04<15:25,  9.44s/it, n_retrieved: 377, recall: 0.0]"
     ]
    },
    {
     "name": "stdout",
     "output_type": "stream",
     "text": [
      "claim-1056 0.0 {'global', 'large', 'area', 'other', 'oxygen', 'global ocean', 'large decline', 'overall decline', 'overall', 'percent'}\n"
     ]
    },
    {
     "name": "stderr",
     "output_type": "stream",
     "text": [
      "claims:  92%|█████████▏| 1132/1228 [2:16:14<11:34,  7.24s/it, n_retrieved: 439, recall: 0.2]"
     ]
    },
    {
     "name": "stdout",
     "output_type": "stream",
     "text": [
      "claim-859 0.2 {'emission', 'american bowl', 'permanent drought', 'bad', 'europe', 'extreme drought', 'dust', 'bad drought', 'extreme', 'permanent', 'dramatic', 'american', 'dust bowl', 'dramatic reduction'}\n"
     ]
    },
    {
     "name": "stderr",
     "output_type": "stream",
     "text": [
      "claims:  92%|█████████▏| 1133/1228 [2:16:23<12:28,  7.88s/it, n_retrieved: 270, recall: 0.2]"
     ]
    },
    {
     "name": "stdout",
     "output_type": "stream",
     "text": [
      "claim-101 0.2 {'normal variability', 'natural variability', 'normal', 'century', 'natural', 'rate', 'magnitude', 'century surface'}\n"
     ]
    },
    {
     "name": "stderr",
     "output_type": "stream",
     "text": [
      "claims:  92%|█████████▏| 1135/1228 [2:16:34<09:42,  6.26s/it, n_retrieved: 471, recall: 0.3333333333333333]"
     ]
    },
    {
     "name": "stdout",
     "output_type": "stream",
     "text": [
      "claim-1807 0.3333333333333333 {'carbon', 'emission', 'carbon dioxide', 'year'}\n"
     ]
    },
    {
     "name": "stderr",
     "output_type": "stream",
     "text": [
      "claims:  93%|█████████▎| 1140/1228 [2:17:19<11:23,  7.76s/it, n_retrieved: 171, recall: 0.0]               "
     ]
    },
    {
     "name": "stdout",
     "output_type": "stream",
     "text": [
      "claim-1144 0.0 {'kibosh', 'meier', 'ice', 'antarctica'}\n"
     ]
    },
    {
     "name": "stderr",
     "output_type": "stream",
     "text": [
      "claims:  93%|█████████▎| 1142/1228 [2:17:49<17:26, 12.17s/it, n_retrieved: 472, recall: 0.0] "
     ]
    },
    {
     "name": "stdout",
     "output_type": "stream",
     "text": [
      "claim-287 0.0 {'present warmer', 'recent year', 'temperature record', 'difference', 'recent', 'climate', 'past', 'warm', 'temperature', 'climate skeptic', 'cooler', 'carbon', 'carbon brief', 'noaa', 'warm evening', 'present', 'past evening'}\n"
     ]
    },
    {
     "name": "stderr",
     "output_type": "stream",
     "text": [
      "claims:  93%|█████████▎| 1143/1228 [2:17:52<13:22,  9.44s/it, n_retrieved: 170, recall: 0.0]"
     ]
    },
    {
     "name": "stdout",
     "output_type": "stream",
     "text": [
      "claim-348 0.0 {'s', 'trend', 'u', 'flooding'}\n"
     ]
    },
    {
     "name": "stderr",
     "output_type": "stream",
     "text": [
      "claims:  93%|█████████▎| 1144/1228 [2:18:04<14:16, 10.19s/it, n_retrieved: 387, recall: 0.3333333333333333]"
     ]
    },
    {
     "name": "stdout",
     "output_type": "stream",
     "text": [
      "claim-1171 0.3333333333333333 {'norfolk', 'example', 'rise', 'hillary', 'land', 'norfolk virginia', 'sea level', 'expert', 'sea'}\n"
     ]
    },
    {
     "name": "stderr",
     "output_type": "stream",
     "text": [
      "claims:  94%|█████████▎| 1149/1228 [2:18:37<09:31,  7.23s/it, n_retrieved: 335, recall: 0.0]               "
     ]
    },
    {
     "name": "stdout",
     "output_type": "stream",
     "text": [
      "claim-549 0.0 {'intense', 'climate', 'extent', 'climate change', 'jet stream', 'influence', 'jet', 'intense subject', 'research'}\n"
     ]
    },
    {
     "name": "stderr",
     "output_type": "stream",
     "text": [
      "claims:  94%|█████████▍| 1152/1228 [2:19:08<11:02,  8.72s/it, n_retrieved: 497, recall: 0.4]"
     ]
    },
    {
     "name": "stdout",
     "output_type": "stream",
     "text": [
      "claim-93 0.4 {'australia', 'temperature', 'degree', 'past century', 'datum', 'past'}\n"
     ]
    },
    {
     "name": "stderr",
     "output_type": "stream",
     "text": [
      "claims:  94%|█████████▍| 1154/1228 [2:19:23<09:54,  8.03s/it, n_retrieved: 423, recall: 0.2]"
     ]
    },
    {
     "name": "stdout",
     "output_type": "stream",
     "text": [
      "claim-449 0.2 {'global', 'dangerous', 'climate model', 'clear', 'climate', 'dangerous warming', 'global warming'}\n"
     ]
    },
    {
     "name": "stderr",
     "output_type": "stream",
     "text": [
      "claims:  94%|█████████▍| 1157/1228 [2:19:48<09:29,  8.02s/it, n_retrieved: 456, recall: 0.0]"
     ]
    },
    {
     "name": "stdout",
     "output_type": "stream",
     "text": [
      "claim-817 0.0 {'immune area', 'north atlantic ocean', 'area', 'warming', 'anomalous hole', 'anomalous', 'scientist', 'north', 'immune', 'earth', 'warming hole'}\n"
     ]
    },
    {
     "name": "stderr",
     "output_type": "stream",
     "text": [
      "claims:  95%|█████████▍| 1164/1228 [2:20:10<03:09,  2.97s/it, n_retrieved: 444, recall: 0.4]"
     ]
    },
    {
     "name": "stdout",
     "output_type": "stream",
     "text": [
      "claim-200 0.4 {'carbon dioxide', 'atmospheric content', 'life', 'carbon', 'today', 'atmospheric'}\n"
     ]
    },
    {
     "name": "stderr",
     "output_type": "stream",
     "text": [
      "claims:  95%|█████████▍| 1166/1228 [2:20:16<02:48,  2.72s/it, n_retrieved: 142, recall: 0.5]"
     ]
    },
    {
     "name": "stdout",
     "output_type": "stream",
     "text": [
      "claim-1602 0.0 {'ice', 'antarctica'}\n"
     ]
    },
    {
     "name": "stderr",
     "output_type": "stream",
     "text": [
      "claims:  95%|█████████▌| 1171/1228 [2:20:41<05:20,  5.63s/it, n_retrieved: 418, recall: 0.0]"
     ]
    },
    {
     "name": "stdout",
     "output_type": "stream",
     "text": [
      "claim-1421 0.0 {'dangerous', 'methane gas', 'altitude', 'polar', 'polar cap', 'melting', 'altitude plain', 'methane', 'dangerous release', 'high plain', 'high', 'ice cap', 'ice'}\n"
     ]
    },
    {
     "name": "stderr",
     "output_type": "stream",
     "text": [
      "claims:  96%|█████████▌| 1174/1228 [2:20:58<04:37,  5.14s/it, n_retrieved: 177, recall: 1.0]"
     ]
    },
    {
     "name": "stdout",
     "output_type": "stream",
     "text": [
      "claim-1476 0.0 {'consensus', 'return', 'global', 'policymaker', 'temperature', 'degree celsius', 'degree', 'scientist', 'global mean', 'point', 'temperature rise'}\n"
     ]
    },
    {
     "name": "stderr",
     "output_type": "stream",
     "text": [
      "claims:  96%|█████████▌| 1175/1228 [2:21:05<04:59,  5.65s/it, n_retrieved: 242, recall: 0.0]"
     ]
    },
    {
     "name": "stdout",
     "output_type": "stream",
     "text": [
      "claim-551 0.0 {'line', 'bright', 'scientist', 'day', 'climate', 'weather'}\n"
     ]
    },
    {
     "name": "stderr",
     "output_type": "stream",
     "text": [
      "claims:  96%|█████████▌| 1176/1228 [2:21:11<05:01,  5.80s/it, n_retrieved: 481, recall: 0.0]"
     ]
    },
    {
     "name": "stdout",
     "output_type": "stream",
     "text": [
      "claim-2261 0.0 {'journal oceanography', 'projection', 'graphic', 'acidity', 'journal', 'december', 'ph'}\n"
     ]
    },
    {
     "name": "stderr",
     "output_type": "stream",
     "text": [
      "claims:  96%|█████████▋| 1183/1228 [2:22:02<04:35,  6.13s/it, n_retrieved: 298, recall: 0.4]"
     ]
    },
    {
     "name": "stdout",
     "output_type": "stream",
     "text": [
      "claim-211 0.4 {'most', 'distant prospect', 'climate change', 'distant', 'climate', 'most scientist', 'decade'}\n"
     ]
    },
    {
     "name": "stderr",
     "output_type": "stream",
     "text": [
      "claims:  96%|█████████▋| 1184/1228 [2:22:04<03:42,  5.06s/it, n_retrieved: 352, recall: 0.0]"
     ]
    },
    {
     "name": "stdout",
     "output_type": "stream",
     "text": [
      "claim-2205 0.0 {'global warming', 'global', 'cooling', 'fact'}\n"
     ]
    },
    {
     "name": "stderr",
     "output_type": "stream",
     "text": [
      "claims:  97%|█████████▋| 1188/1228 [2:22:19<02:56,  4.40s/it, n_retrieved: 392, recall: 0.0] "
     ]
    },
    {
     "name": "stdout",
     "output_type": "stream",
     "text": [
      "claim-498 0.0 {'costly hurricane', 'costly', 'increase', 'time', 'federal datum', 'history', 'federal', 'january', 'u', 'intensity'}\n"
     ]
    },
    {
     "name": "stderr",
     "output_type": "stream",
     "text": [
      "claims:  97%|█████████▋| 1189/1228 [2:22:31<04:22,  6.72s/it, n_retrieved: 364, recall: 0.0]"
     ]
    },
    {
     "name": "stdout",
     "output_type": "stream",
     "text": [
      "claim-1474 0.0 {'carbon dioxide', 'time', 'mankind', 'carbon', 'atmosphere', 'entire time', 'etna', 'earth', 'entire'}\n"
     ]
    },
    {
     "name": "stderr",
     "output_type": "stream",
     "text": [
      "claims:  97%|█████████▋| 1190/1228 [2:22:41<04:51,  7.67s/it, n_retrieved: 292, recall: 0.0]"
     ]
    },
    {
     "name": "stdout",
     "output_type": "stream",
     "text": [
      "claim-250 0.0 {'carbon dioxide', 'only', 'only thing', 'planet', 'planet greener', 'carbon', 'system', 'sense'}\n"
     ]
    },
    {
     "name": "stderr",
     "output_type": "stream",
     "text": [
      "claims:  97%|█████████▋| 1192/1228 [2:22:48<03:09,  5.27s/it, n_retrieved: 364, recall: 0.2]               "
     ]
    },
    {
     "name": "stdout",
     "output_type": "stream",
     "text": [
      "claim-2390 0.2 {'region', 'today'}\n"
     ]
    },
    {
     "name": "stderr",
     "output_type": "stream",
     "text": [
      "claims:  97%|█████████▋| 1196/1228 [2:23:07<02:28,  4.64s/it, n_retrieved: 345, recall: 0.2]               "
     ]
    },
    {
     "name": "stdout",
     "output_type": "stream",
     "text": [
      "claim-1569 0.2 {'sea level', 'sea', 'rise'}\n"
     ]
    },
    {
     "name": "stderr",
     "output_type": "stream",
     "text": [
      "claims:  98%|█████████▊| 1199/1228 [2:23:15<01:50,  3.80s/it, n_retrieved: 229, recall: 0.0]"
     ]
    },
    {
     "name": "stdout",
     "output_type": "stream",
     "text": [
      "claim-919 0.0 {'emission', 'airplane', 'frozen continent', 'frozen', 'risk'}\n"
     ]
    },
    {
     "name": "stderr",
     "output_type": "stream",
     "text": [
      "claims:  98%|█████████▊| 1200/1228 [2:23:19<01:43,  3.71s/it, n_retrieved: 204, recall: 0.0]"
     ]
    },
    {
     "name": "stdout",
     "output_type": "stream",
     "text": [
      "claim-2570 0.0 {'ipcc', 'amazon', 'ipcc statement', 'amazon rain forest'}\n"
     ]
    },
    {
     "name": "stderr",
     "output_type": "stream",
     "text": [
      "claims:  98%|█████████▊| 1201/1228 [2:23:25<01:58,  4.38s/it, n_retrieved: 453, recall: 0.2]"
     ]
    },
    {
     "name": "stdout",
     "output_type": "stream",
     "text": [
      "claim-2584 0.2 {'carbon dioxide', 'saturation', 'major', 'additional', 'carbon', 'additional input', 'atmosphere', 'saturation point', 'major impact'}\n"
     ]
    },
    {
     "name": "stderr",
     "output_type": "stream",
     "text": [
      "claims:  98%|█████████▊| 1202/1228 [2:23:25<01:22,  3.15s/it, n_retrieved: 290, recall: 0.0]"
     ]
    },
    {
     "name": "stdout",
     "output_type": "stream",
     "text": [
      "claim-2738 0.0 {'actual', 'phil', 'actual word', 'warming', 'warming trend', 'phil jones'}\n"
     ]
    },
    {
     "name": "stderr",
     "output_type": "stream",
     "text": [
      "claims:  98%|█████████▊| 1203/1228 [2:23:31<01:38,  3.93s/it, n_retrieved: 361, recall: 0.2]"
     ]
    },
    {
     "name": "stdout",
     "output_type": "stream",
     "text": [
      "claim-169 0.2 {'record temperature', 'historical', 'specific event', 'specific', 'historical condition', 'record'}\n"
     ]
    },
    {
     "name": "stderr",
     "output_type": "stream",
     "text": [
      "claims:  98%|█████████▊| 1206/1228 [2:23:55<02:24,  6.58s/it, n_retrieved: 259, recall: 0.4]               "
     ]
    },
    {
     "name": "stdout",
     "output_type": "stream",
     "text": [
      "claim-165 0.4 {'climate action', 'fire condition', 'emergency leader', 'april', 'climate', 'bad', 'fire', 'federal government', 'federal', 'emergency', 'datum', 'decade'}\n"
     ]
    },
    {
     "name": "stderr",
     "output_type": "stream",
     "text": [
      "claims:  98%|█████████▊| 1209/1228 [2:24:25<02:46,  8.79s/it, n_retrieved: 328, recall: 0.0]"
     ]
    },
    {
     "name": "stdout",
     "output_type": "stream",
     "text": [
      "claim-625 0.0 {'review', 'same rate', 'warming', 'sealevel', 'andrew', 's', 'john wahr', 'trupin', 'john', 'millimeter', 'same', 'year', 'sealevel rise'}\n"
     ]
    },
    {
     "name": "stderr",
     "output_type": "stream",
     "text": [
      "claims:  99%|█████████▊| 1210/1228 [2:24:29<02:14,  7.48s/it, n_retrieved: 316, recall: 0.4]"
     ]
    },
    {
     "name": "stdout",
     "output_type": "stream",
     "text": [
      "claim-1619 0.4 {'west side highway', 'hansen', 'west', 'year'}\n"
     ]
    },
    {
     "name": "stderr",
     "output_type": "stream",
     "text": [
      "claims:  99%|█████████▊| 1211/1228 [2:24:42<02:35,  9.15s/it, n_retrieved: 371, recall: 0.0]"
     ]
    },
    {
     "name": "stdout",
     "output_type": "stream",
     "text": [
      "claim-2921 0.0 {'global', 'warming datum', 'taxpayer', 'lake', 'average', 'lake region', 'number', 'administration', 'fresh scandal', 'warming', 'fresh', 'national oceanic', 'noaa', 'atmospheric', 'national', 'great region', 'great'}\n"
     ]
    },
    {
     "name": "stderr",
     "output_type": "stream",
     "text": [
      "claims:  99%|█████████▉| 1213/1228 [2:25:00<02:14,  8.94s/it, n_retrieved: 480, recall: 0.4]               "
     ]
    },
    {
     "name": "stdout",
     "output_type": "stream",
     "text": [
      "claim-1773 0.4 {'hundred', 'global', 'carbon dioxide', 'satellite', 'carbon', 'measuring', 'global trend', 'measuring station'}\n"
     ]
    },
    {
     "name": "stderr",
     "output_type": "stream",
     "text": [
      "claims:  99%|█████████▉| 1215/1228 [2:25:28<02:33, 11.82s/it, n_retrieved: 312, recall: 0.0]"
     ]
    },
    {
     "name": "stdout",
     "output_type": "stream",
     "text": [
      "claim-849 0.0 {'arctic', 'planet', 'warming', 'carbon', 'earth', 'dead', 'release', 'degree', 'methane', 'year', 'life', 'percent'}\n"
     ]
    },
    {
     "name": "stderr",
     "output_type": "stream",
     "text": [
      "claims:  99%|█████████▉| 1219/1228 [2:26:12<01:43, 11.45s/it, n_retrieved: 344, recall: 0.3333333333333333]"
     ]
    },
    {
     "name": "stdout",
     "output_type": "stream",
     "text": [
      "claim-2076 0.3333333333333333 {'snowfall', 'many record', 'many', 'northern hemisphere', 'northern', 'north', 'north america', 'winter', 'fall'}\n"
     ]
    },
    {
     "name": "stderr",
     "output_type": "stream",
     "text": [
      "claims:  99%|█████████▉| 1221/1228 [2:26:32<01:13, 10.48s/it, n_retrieved: 440, recall: 0.3333333333333333]"
     ]
    },
    {
     "name": "stdout",
     "output_type": "stream",
     "text": [
      "claim-2049 0.3333333333333333 {'consequence', 'millennium drought', 'term trend', 'climate change', 'long', 'climate', 'term', 'millennium'}\n"
     ]
    },
    {
     "name": "stderr",
     "output_type": "stream",
     "text": [
      "claims: 100%|█████████▉| 1227/1228 [2:27:33<00:11, 11.30s/it, n_retrieved: 462, recall: 0.0]               "
     ]
    },
    {
     "name": "stdout",
     "output_type": "stream",
     "text": [
      "claim-502 0.0 {'temperature', 'time', 'satellite', 'february', 'abnormal', 'wind', 'satellite record', 'vulnerable', 'abnormal spike', 'coast', 'month', 'temperature spike', 'ice'}\n"
     ]
    },
    {
     "name": "stderr",
     "output_type": "stream",
     "text": [
      "claims: 100%|██████████| 1228/1228 [2:27:39<00:00,  7.21s/it, n_retrieved: 497, recall: 1.0]\n"
     ]
    },
    {
     "name": "stdout",
     "output_type": "stream",
     "text": [
      "saved to: /Users/johnsonzhou/git/comp90042-project/result/pipeline/shortlisting_v2/train_retrieved_evidences_max_500_no_rel.json\n"
     ]
    }
   ],
   "source": [
    "retrieved_evidences_path = SAVE_PATH.with_name(\"train_retrieved_evidences_max_500_no_rel.json\")\n",
    "\n",
    "if retrieved_evidences_path.exists():\n",
    "    \n",
    "    with open(retrieved_evidences_path, mode=\"r\") as f:\n",
    "        retrieved_evidences = json.load(f)\n",
    "        print(f\"loaded: {retrieved_evidences_path}\")\n",
    "        \n",
    "else:\n",
    "    \n",
    "    retrieved_evidences, missed_retrievals, retrievals_counts, retrieval_recalls, all_unique_tags = \\\n",
    "    get_evidence_shortlist(\n",
    "        # claims_paths=[DATA_PATH.with_name(\"train-claims.json\")],\n",
    "        claims_paths=[DATA_PATH.with_name(\"train-claims.json\")],\n",
    "        # claims_paths=[DATA_PATH.with_name(\"train-claims.json\"), DATA_PATH.with_name(\"dev-claims.json\")],\n",
    "        related_tags_path=relation_save_path,\n",
    "        tagged_evidence_path=tagged_evidences_path,\n",
    "        fwd_ngram_evidences_path=fwd_ngram_evidences_path,\n",
    "        rev_ngram_evidences_path=rev_ngram_evidences_path,\n",
    "        ngram_list=[4, 5, 6, 7, 8],\n",
    "        min_ngram_match_threshold=1,\n",
    "        ngram_evidence_count_threshold=1000000,\n",
    "        # tagged_evidence_path=Path(\"./result/ner/evidence_by_noun.json\"),\n",
    "        save_path=retrieved_evidences_path,\n",
    "        evidence_count_threshold=1000000,\n",
    "        verb_pos_threshold=0,\n",
    "        min_tag_match_threshold=1,\n",
    "        min_all_match_threshold=4,\n",
    "        max_retrieved=500,\n",
    "        stop_tags=[]\n",
    "    )\n",
    "# retrieved_evidences"
   ]
  },
  {
   "cell_type": "code",
   "execution_count": 45,
   "metadata": {},
   "outputs": [
    {
     "name": "stdout",
     "output_type": "stream",
     "text": [
      "avg recall: 0.5129750271444083\n",
      "min recall: 0.0\n",
      "avg retrieved: 361.2345276872964\n",
      "max retrieved: 500\n"
     ]
    }
   ],
   "source": [
    "print(f\"avg recall: {np.mean(retrieval_recalls)}\")\n",
    "print(f\"min recall: {np.min(retrieval_recalls)}\")\n",
    "print(f\"avg retrieved: {np.mean(retrievals_counts)}\")\n",
    "print(f\"max retrieved: {np.max(retrievals_counts)}\")"
   ]
  },
  {
   "cell_type": "code",
   "execution_count": null,
   "metadata": {},
   "outputs": [],
   "source": [
    "# len(all_unique_tags)"
   ]
  },
  {
   "cell_type": "code",
   "execution_count": null,
   "metadata": {},
   "outputs": [],
   "source": [
    "# len(fwd_ngram_evidences[\"elect\"])"
   ]
  },
  {
   "cell_type": "code",
   "execution_count": null,
   "metadata": {},
   "outputs": [],
   "source": [
    "# len(tagged_evidences[\"south australia\"])"
   ]
  },
  {
   "cell_type": "code",
   "execution_count": null,
   "metadata": {},
   "outputs": [],
   "source": [
    "# len(tagged_evidences.keys())"
   ]
  },
  {
   "cell_type": "code",
   "execution_count": null,
   "metadata": {},
   "outputs": [],
   "source": [
    "# [(tag, len(e)) for tag, e in sorted(tagged_evidences.items(), key=lambda x: len(x[1]), reverse=True)]"
   ]
  }
 ],
 "metadata": {
  "kernelspec": {
   "display_name": "comp90042_project",
   "language": "python",
   "name": "python3"
  },
  "language_info": {
   "codemirror_mode": {
    "name": "ipython",
    "version": 3
   },
   "file_extension": ".py",
   "mimetype": "text/x-python",
   "name": "python",
   "nbconvert_exporter": "python",
   "pygments_lexer": "ipython3",
   "version": "3.8.16"
  },
  "orig_nbformat": 4
 },
 "nbformat": 4,
 "nbformat_minor": 2
}
