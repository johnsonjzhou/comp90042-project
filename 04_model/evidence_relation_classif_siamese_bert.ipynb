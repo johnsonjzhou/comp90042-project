{
 "cells": [
  {
   "attachments": {},
   "cell_type": "markdown",
   "metadata": {},
   "source": [
    "# Evidence relation classification using Siamese BERT network\n",
    "\n",
    "TLDR:\n",
    "\n",
    "- Using `sentence-transformers/msmarco-bert-base-dot-v5`\n",
    "- Based on [nils_2019](https://arxiv.org/abs/1908.10084)\n",
    "\n",
    "References:\n",
    "\n",
    "- Hugging Face [semantic search][semantic_search_guide]\n",
    "- SBERT [pre-trained models][sbert_pretrained_models]\n",
    "- Installation: [`sentence-transformers`][sentence_transformers]\n",
    "- Code reference [`semantic_search.py`][semantic_search_py]\n",
    "- Model info: [`msmarco-bert-base-dot-v5`][msmarco-bert-base-dot-v5]\n",
    "\n",
    "\n",
    "\n",
    "[semantic_search_guide]: https://www.sbert.net/examples/applications/semantic-search/README.html\n",
    "[sbert_pretrained_models]: https://www.sbert.net/docs/pretrained_models.html#msmarco-passage-models\n",
    "[sentence_transformers]: https://www.sbert.net/docs/installation.html\n",
    "[semantic_search_py]: https://github.com/UKPLab/sentence-transformers/blob/master/examples/applications/semantic-search/semantic_search.py\n",
    "[msmarco-bert-base-dot-v5]: https://huggingface.co/sentence-transformers/msmarco-bert-base-dot-v5"
   ]
  },
  {
   "attachments": {},
   "cell_type": "markdown",
   "metadata": {},
   "source": [
    "## Setup"
   ]
  },
  {
   "attachments": {},
   "cell_type": "markdown",
   "metadata": {},
   "source": [
    "### Working directory"
   ]
  },
  {
   "cell_type": "code",
   "execution_count": 2,
   "metadata": {},
   "outputs": [],
   "source": [
    "# Change the working directory to project root\n",
    "import pathlib\n",
    "import os\n",
    "ROOT_DIR = pathlib.Path.cwd().parent\n",
    "os.chdir(ROOT_DIR)"
   ]
  },
  {
   "attachments": {},
   "cell_type": "markdown",
   "metadata": {},
   "source": [
    "### Dependencies"
   ]
  },
  {
   "cell_type": "code",
   "execution_count": 3,
   "metadata": {},
   "outputs": [
    {
     "name": "stderr",
     "output_type": "stream",
     "text": [
      "/opt/homebrew/Caskroom/miniconda/base/envs/comp90042_project/lib/python3.8/site-packages/tqdm/auto.py:21: TqdmWarning: IProgress not found. Please update jupyter and ipywidgets. See https://ipywidgets.readthedocs.io/en/stable/user_install.html\n",
      "  from .autonotebook import tqdm as notebook_tqdm\n"
     ]
    }
   ],
   "source": [
    "from sentence_transformers import SentenceTransformer, util\n",
    "import pandas as pd\n",
    "import torch\n",
    "from src.torch_utils import get_torch_device\n",
    "from src.data import load_as_dataframe, slice_by_claim, \\\n",
    "    get_claim_texts, get_evidence_texts, get_paired_texts"
   ]
  },
  {
   "cell_type": "code",
   "execution_count": 4,
   "metadata": {},
   "outputs": [
    {
     "name": "stdout",
     "output_type": "stream",
     "text": [
      "Torch device is 'mps'\n"
     ]
    }
   ],
   "source": [
    "# Get the best torch device\n",
    "torch_device = get_torch_device()"
   ]
  },
  {
   "cell_type": "code",
   "execution_count": 5,
   "metadata": {},
   "outputs": [
    {
     "name": "stdout",
     "output_type": "stream",
     "text": [
      "/Users/johnsonzhou/git/comp90042-project/result/embeddings/*\n",
      "/Users/johnsonzhou/git/comp90042-project/result/models/*\n"
     ]
    }
   ],
   "source": [
    "# Directories for saving/loading\n",
    "EMB_PATH = ROOT_DIR.joinpath(\"result\", \"embeddings\", \"*\")\n",
    "print(EMB_PATH)\n",
    "\n",
    "MODEL_PATH = ROOT_DIR.joinpath(\"result\", \"models\", \"*\")\n",
    "print(MODEL_PATH)"
   ]
  },
  {
   "attachments": {},
   "cell_type": "markdown",
   "metadata": {},
   "source": [
    "## Load Data"
   ]
  },
  {
   "attachments": {},
   "cell_type": "markdown",
   "metadata": {},
   "source": [
    "### Load from json"
   ]
  },
  {
   "cell_type": "code",
   "execution_count": 6,
   "metadata": {},
   "outputs": [
    {
     "name": "stdout",
     "output_type": "stream",
     "text": [
      "Loaded train-claims\n",
      "Loaded dev-claims\n",
      "Loaded evidence\n"
     ]
    }
   ],
   "source": [
    "data_names = [\"train-claims\", \"dev-claims\", \"evidence\"]\n",
    "train_claims, dev_claims, all_evidences \\\n",
    "    = load_as_dataframe(data_names, full_evidence=True)"
   ]
  },
  {
   "attachments": {},
   "cell_type": "markdown",
   "metadata": {},
   "source": [
    "### Sample inspection"
   ]
  },
  {
   "cell_type": "code",
   "execution_count": 7,
   "metadata": {},
   "outputs": [
    {
     "data": {
      "text/html": [
       "<div>\n",
       "<style scoped>\n",
       "    .dataframe tbody tr th:only-of-type {\n",
       "        vertical-align: middle;\n",
       "    }\n",
       "\n",
       "    .dataframe tbody tr th {\n",
       "        vertical-align: top;\n",
       "    }\n",
       "\n",
       "    .dataframe thead th {\n",
       "        text-align: right;\n",
       "    }\n",
       "</style>\n",
       "<table border=\"1\" class=\"dataframe\">\n",
       "  <thead>\n",
       "    <tr style=\"text-align: right;\">\n",
       "      <th></th>\n",
       "      <th></th>\n",
       "      <th></th>\n",
       "      <th></th>\n",
       "      <th>evidence_text</th>\n",
       "    </tr>\n",
       "    <tr>\n",
       "      <th>claim</th>\n",
       "      <th>claim_text</th>\n",
       "      <th>claim_label</th>\n",
       "      <th>evidences</th>\n",
       "      <th></th>\n",
       "    </tr>\n",
       "  </thead>\n",
       "  <tbody>\n",
       "    <tr>\n",
       "      <th rowspan=\"3\" valign=\"top\">claim-1937</th>\n",
       "      <th rowspan=\"3\" valign=\"top\">Not only is there no scientific evidence that CO2 is a pollutant, higher CO2 concentrations actually help ecosystems support more plant and animal life.</th>\n",
       "      <th rowspan=\"3\" valign=\"top\">DISPUTED</th>\n",
       "      <th>evidence-442946</th>\n",
       "      <td>At very high concentrations (100 times atmosph...</td>\n",
       "    </tr>\n",
       "    <tr>\n",
       "      <th>evidence-1194317</th>\n",
       "      <td>Plants can grow as much as 50 percent faster i...</td>\n",
       "    </tr>\n",
       "    <tr>\n",
       "      <th>evidence-12171</th>\n",
       "      <td>Higher carbon dioxide concentrations will favo...</td>\n",
       "    </tr>\n",
       "    <tr>\n",
       "      <th rowspan=\"2\" valign=\"top\">claim-2510</th>\n",
       "      <th rowspan=\"2\" valign=\"top\">In 1946, PDO switched to a cool phase.</th>\n",
       "      <th rowspan=\"2\" valign=\"top\">SUPPORTS</th>\n",
       "      <th>evidence-530063</th>\n",
       "      <td>There is evidence of reversals in the prevaili...</td>\n",
       "    </tr>\n",
       "    <tr>\n",
       "      <th>evidence-984887</th>\n",
       "      <td>1945/1946: The PDO changed to a \"cool\" phase, ...</td>\n",
       "    </tr>\n",
       "  </tbody>\n",
       "</table>\n",
       "</div>"
      ],
      "text/plain": [
       "                                                                                                                                evidence_text\n",
       "claim      claim_text                                         claim_label evidences                                                          \n",
       "claim-1937 Not only is there no scientific evidence that C... DISPUTED    evidence-442946   At very high concentrations (100 times atmosph...\n",
       "                                                                          evidence-1194317  Plants can grow as much as 50 percent faster i...\n",
       "                                                                          evidence-12171    Higher carbon dioxide concentrations will favo...\n",
       "claim-2510 In 1946, PDO switched to a cool phase.             SUPPORTS    evidence-530063   There is evidence of reversals in the prevaili...\n",
       "                                                                          evidence-984887   1945/1946: The PDO changed to a \"cool\" phase, ..."
      ]
     },
     "execution_count": 7,
     "metadata": {},
     "output_type": "execute_result"
    }
   ],
   "source": [
    "sample_claim = slice_by_claim(train_claims, None, 2, [\"SUPPORTS\", \"DISPUTED\"])\n",
    "sample_claim"
   ]
  },
  {
   "cell_type": "code",
   "execution_count": 8,
   "metadata": {},
   "outputs": [
    {
     "data": {
      "text/plain": [
       "['Not only is there no scientific evidence that CO2 is a pollutant, higher CO2 concentrations actually help ecosystems support more plant and animal life.',\n",
       " 'In 1946, PDO switched to a cool phase.']"
      ]
     },
     "execution_count": 8,
     "metadata": {},
     "output_type": "execute_result"
    }
   ],
   "source": [
    "sample_claim_texts = get_claim_texts(sample_claim)\n",
    "sample_claim_texts"
   ]
  },
  {
   "cell_type": "code",
   "execution_count": 9,
   "metadata": {},
   "outputs": [
    {
     "data": {
      "text/plain": [
       "['At very high concentrations (100 times atmospheric concentration, or greater), carbon dioxide can be toxic to animal life, so raising the concentration to 10,000 ppm (1%) or higher for several hours will eliminate pests such as whiteflies and spider mites in a greenhouse.',\n",
       " 'Plants can grow as much as 50 percent faster in concentrations of 1,000 ppm CO 2 when compared with ambient conditions, though this assumes no change in climate and no limitation on other nutrients.',\n",
       " 'Higher carbon dioxide concentrations will favourably affect plant growth and demand for water.',\n",
       " 'There is evidence of reversals in the prevailing polarity (meaning changes in cool surface waters versus warm surface waters within the region) of the oscillation occurring around 1925, 1947, and 1977; the last two reversals corresponded with dramatic shifts in salmon production regimes in the North Pacific Ocean.',\n",
       " '1945/1946: The PDO changed to a \"cool\" phase, the pattern of this regime shift is similar to the 1970s episode with maximum amplitude in the subarctic and subtropical front but with a greater signature near the Japan while the 1970s shift was stronger near the American west coast.']"
      ]
     },
     "execution_count": 9,
     "metadata": {},
     "output_type": "execute_result"
    }
   ],
   "source": [
    "sample_evidence_texts = get_evidence_texts(sample_claim)\n",
    "sample_evidence_texts"
   ]
  },
  {
   "attachments": {},
   "cell_type": "markdown",
   "metadata": {},
   "source": [
    "## Select HF embedding model"
   ]
  },
  {
   "attachments": {},
   "cell_type": "markdown",
   "metadata": {},
   "source": [
    "For our task, we generally have a **short** query of claims and **long** evidence passages. Therefore, we are conducting **asymmetric semantic search**. Based on the guide, MSMARCO models are most suited for this task."
   ]
  },
  {
   "cell_type": "code",
   "execution_count": 10,
   "metadata": {},
   "outputs": [
    {
     "data": {
      "text/plain": [
       "SentenceTransformer(\n",
       "  (0): Transformer({'max_seq_length': 512, 'do_lower_case': False}) with Transformer model: BertModel \n",
       "  (1): Pooling({'word_embedding_dimension': 768, 'pooling_mode_cls_token': False, 'pooling_mode_mean_tokens': True, 'pooling_mode_max_tokens': False, 'pooling_mode_mean_sqrt_len_tokens': False})\n",
       ")"
      ]
     },
     "execution_count": 10,
     "metadata": {},
     "output_type": "execute_result"
    }
   ],
   "source": [
    "embedder = SentenceTransformer(\n",
    "    \"sentence-transformers/msmarco-bert-base-dot-v5\",\n",
    "    device=torch_device\n",
    ")\n",
    "embedder"
   ]
  }
 ],
 "metadata": {
  "kernelspec": {
   "display_name": "comp90042_project",
   "language": "python",
   "name": "python3"
  },
  "language_info": {
   "codemirror_mode": {
    "name": "ipython",
    "version": 3
   },
   "file_extension": ".py",
   "mimetype": "text/x-python",
   "name": "python",
   "nbconvert_exporter": "python",
   "pygments_lexer": "ipython3",
   "version": "3.8.16"
  },
  "orig_nbformat": 4
 },
 "nbformat": 4,
 "nbformat_minor": 2
}
