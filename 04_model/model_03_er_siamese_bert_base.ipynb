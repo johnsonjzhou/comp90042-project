{
 "cells": [
  {
   "attachments": {},
   "cell_type": "markdown",
   "metadata": {},
   "source": [
    "# Model 03\n",
    "\n",
    "Evidence retrieval using a Siamese BERT classification model.\n",
    "This is similar to Model 01, however, it only uses official pre-trained models from hugging face.\n",
    "\n",
    "Ref:\n",
    "- [Hugging face pre-trained models](https://huggingface.co/transformers/v3.3.1/pretrained_models.html)\n",
    "- [Hugging face guide to fine-tuning](https://huggingface.co/transformers/v3.3.1/custom_datasets.html)\n",
    "- [Hugging face guide to fine-tuning easy](https://huggingface.co/docs/transformers/training)\n",
    "- [SO Guide](https://stackoverflow.com/a/64156912)"
   ]
  },
  {
   "attachments": {},
   "cell_type": "markdown",
   "metadata": {},
   "source": [
    "## Setup"
   ]
  },
  {
   "attachments": {},
   "cell_type": "markdown",
   "metadata": {},
   "source": [
    "### Working Directory"
   ]
  },
  {
   "cell_type": "code",
   "execution_count": 1,
   "metadata": {},
   "outputs": [],
   "source": [
    "# Change the working directory to project root\n",
    "from pathlib import Path\n",
    "import os\n",
    "ROOT_DIR = Path.cwd()\n",
    "while not ROOT_DIR.joinpath(\"src\").exists():\n",
    "    ROOT_DIR = ROOT_DIR.parent\n",
    "os.chdir(ROOT_DIR)"
   ]
  },
  {
   "attachments": {},
   "cell_type": "markdown",
   "metadata": {},
   "source": [
    "### File paths"
   ]
  },
  {
   "cell_type": "code",
   "execution_count": 2,
   "metadata": {},
   "outputs": [],
   "source": [
    "MODEL_PATH = ROOT_DIR.joinpath(\"./result/models/*\")\n",
    "DATA_PATH = ROOT_DIR.joinpath(\"./data/*\")\n",
    "NER_PATH = ROOT_DIR.joinpath(\"./result/ner/*\")"
   ]
  },
  {
   "attachments": {},
   "cell_type": "markdown",
   "metadata": {},
   "source": [
    "### Dependencies"
   ]
  },
  {
   "cell_type": "code",
   "execution_count": 3,
   "metadata": {},
   "outputs": [
    {
     "name": "stderr",
     "output_type": "stream",
     "text": [
      "/opt/homebrew/Caskroom/miniconda/base/envs/comp90042_project/lib/python3.8/site-packages/tqdm/auto.py:21: TqdmWarning: IProgress not found. Please update jupyter and ipywidgets. See https://ipywidgets.readthedocs.io/en/stable/user_install.html\n",
      "  from .autonotebook import tqdm as notebook_tqdm\n"
     ]
    },
    {
     "name": "stdout",
     "output_type": "stream",
     "text": [
      "Torch device is 'mps'\n"
     ]
    }
   ],
   "source": [
    "# Imports and dependencies\n",
    "import torch\n",
    "from torch.utils.data import Dataset, DataLoader\n",
    "from torch.nn import Linear, Module, CrossEntropyLoss, Dropout\n",
    "from transformers import BertModel, BertTokenizer\n",
    "from torch.optim import Adam\n",
    "from torch.optim.lr_scheduler import LinearLR\n",
    "from torch.nn.functional import relu, softmax\n",
    "from torcheval.metrics import BinaryAccuracy, BinaryF1Score, BinaryRecall\n",
    "\n",
    "from src.torch_utils import get_torch_device\n",
    "import json\n",
    "from dataclasses import dataclass\n",
    "from typing import List, Union, Tuple\n",
    "from tqdm import tqdm\n",
    "import random\n",
    "import numpy as np\n",
    "from datetime import datetime\n",
    "from math import exp\n",
    "\n",
    "TORCH_DEVICE = get_torch_device()"
   ]
  },
  {
   "attachments": {},
   "cell_type": "markdown",
   "metadata": {},
   "source": [
    "## Dataset"
   ]
  },
  {
   "cell_type": "code",
   "execution_count": 4,
   "metadata": {},
   "outputs": [],
   "source": [
    "@dataclass\n",
    "class ClaimEvidencePair:\n",
    "    claim_id:str\n",
    "    evidence_id:str\n",
    "    label:int = 0"
   ]
  },
  {
   "cell_type": "code",
   "execution_count": 5,
   "metadata": {},
   "outputs": [],
   "source": [
    "class SiameseDataset(Dataset):\n",
    "    \n",
    "    def __init__(\n",
    "        self,\n",
    "        claims_paths:List[Path],\n",
    "        claims_shortlist_paths:List[Path],\n",
    "        evidence_path:Path,\n",
    "        evidence_shortlists:List[Path] = None,\n",
    "        device = None,\n",
    "        n_neg_shortlist:int = 10,\n",
    "        n_neg_general:int = 10,\n",
    "        verbose:bool=True\n",
    "    ) -> None:\n",
    "        super(SiameseDataset, self).__init__()\n",
    "        self.verbose = verbose\n",
    "        self.device = device\n",
    "        self.n_neg_shortlist = n_neg_shortlist\n",
    "        self.n_neg_general = n_neg_general\n",
    "\n",
    "        # Load claims data from json, this is a list as we could use\n",
    "        # multiple json files in the same dataset\n",
    "        self.claims = dict()\n",
    "        for json_file in claims_paths:\n",
    "            with open(json_file, mode=\"r\") as f:\n",
    "                self.claims.update(json.load(fp=f))\n",
    "                # print(f\"loaded claims: {json_file}\")\n",
    "        \n",
    "        # Load the pre-retrieved shortlist of evidences by claim\n",
    "        self.claims_shortlist = dict()\n",
    "        for json_file in claims_shortlist_paths:\n",
    "            with open(json_file, mode=\"r\") as f:\n",
    "                self.claims_shortlist.update(json.load(fp=f))\n",
    "                # print(f\"loaded claims_shortlist: {json_file}\")\n",
    "        \n",
    "        # Load evidence library\n",
    "        self.evidence = dict()\n",
    "        with open(evidence_path, mode=\"r\") as f:\n",
    "            self.evidence.update(json.load(fp=f))\n",
    "            # print(f\"loaded evidences: {json_file}\")\n",
    "        \n",
    "        # Load the evidence shortlists if available\n",
    "        # Reduce the overall evidence list to the shortlist\n",
    "        if evidence_shortlists is not None:\n",
    "            self.evidence_shortlist = set()\n",
    "            for json_file in evidence_shortlists:\n",
    "                with open(json_file, mode=\"r\") as f:\n",
    "                    self.evidence_shortlist.update(json.load(fp=f))\n",
    "                    # print(f\"loaded evidence shortlist: {json_file}\")\n",
    "        \n",
    "        # print(f\"n_evidences: {len(self.evidence)}\")\n",
    "        \n",
    "        # Generate the data\n",
    "        self.data = self.__generate_data()\n",
    "        return\n",
    "\n",
    "    def __generate_data(self):\n",
    "        print(\"Generate siamese dataset\")\n",
    "        \n",
    "        data = []\n",
    "        for claim_id, claim in tqdm(\n",
    "            iterable=self.claims.items(),\n",
    "            desc=\"claims\",\n",
    "            disable=not self.verbose\n",
    "        ):\n",
    "            # Check if we have evidences supplied, this will inform\n",
    "            # whether this is for training\n",
    "            is_training = \"evidences\" in claim.keys()\n",
    "            pos_evidence_ids = set()\n",
    "            \n",
    "            # Get positive samples from evidences with label=1\n",
    "            if is_training:\n",
    "                pos_evidence_ids.update(claim[\"evidences\"])\n",
    "\n",
    "                for evidence_id in pos_evidence_ids:\n",
    "                    data.append(ClaimEvidencePair(\n",
    "                        claim_id=claim_id,\n",
    "                        evidence_id=evidence_id,\n",
    "                        label=1\n",
    "                    ))\n",
    "                    \n",
    "            # Get negative samples from pre-retrieved evidences\n",
    "            # for each claim with label=0\n",
    "            retrieved_evidence_ids = self.claims_shortlist.get(claim_id, [])\n",
    "            if len(retrieved_evidence_ids) > 0:\n",
    "                retrieved_neg_evidence_ids = random.sample(\n",
    "                    population=retrieved_evidence_ids,\n",
    "                    k=min(self.n_neg_shortlist, len(retrieved_evidence_ids))\n",
    "                )\n",
    "                \n",
    "                # Generate claim and shortlisted negative evidence pairs\n",
    "                for evidence_id in retrieved_neg_evidence_ids:\n",
    "                    data.append(ClaimEvidencePair(\n",
    "                        claim_id=claim_id,\n",
    "                        evidence_id=evidence_id,\n",
    "                        label=0\n",
    "                    ))\n",
    "            \n",
    "            # Get negative samples from shortlisted evidences list with label=0\n",
    "            if len(self.evidence_shortlist) > 0:\n",
    "                shortlist_neg_evidence_ids = random.sample(\n",
    "                    population=self.evidence_shortlist,\n",
    "                    k=min(self.n_neg_general, len(self.evidence_shortlist))\n",
    "                )\n",
    "                \n",
    "                # Generate claim and shortlisted negative evidence pairs\n",
    "                for evidence_id in shortlist_neg_evidence_ids:\n",
    "                    data.append(ClaimEvidencePair(\n",
    "                        claim_id=claim_id,\n",
    "                        evidence_id=evidence_id,\n",
    "                        label=0\n",
    "                    ))\n",
    "            \n",
    "            continue\n",
    "        \n",
    "        print(f\"Generated data n={len(data)}\")\n",
    "        \n",
    "        return data\n",
    "\n",
    "    def __len__(self):\n",
    "        return len(self.data)\n",
    "    \n",
    "    def __getitem__(self, idx) -> Tuple[Union[str, torch.Tensor]]:\n",
    "        # Fetch the required data rows\n",
    "        data = self.data[idx]\n",
    "        \n",
    "        # Get the label\n",
    "        label = torch.tensor(data.label, device=self.device)\n",
    "        \n",
    "        # Get text ids\n",
    "        claim_id = data.claim_id\n",
    "        evidence_id = data.evidence_id\n",
    "        \n",
    "        # Get text\n",
    "        claim_text = self.claims[claim_id][\"claim_text\"]\n",
    "        evidence_text = self.evidence[evidence_id]\n",
    "\n",
    "        return (claim_text, evidence_text, label)"
   ]
  },
  {
   "cell_type": "code",
   "execution_count": 6,
   "metadata": {},
   "outputs": [],
   "source": [
    "# WE WILL GENERATE THE DATASET PER EPOCH SO TO RANDOMISE THE NEGATIVE SAMPLES\n",
    "\n",
    "# train_data = SiameseDataset(\n",
    "#     claims_paths=[DATA_PATH.with_name(\"train-claims.json\")],\n",
    "#     claims_shortlist_paths=[NER_PATH.with_name(\"train_claim_evidence_retrieved.json\")],\n",
    "#     evidence_shortlists=[NER_PATH.with_name(\"shortlist_train_claim_evidence_retrieved.json\")],\n",
    "#     evidence_path=DATA_PATH.with_name(\"evidence.json\"),\n",
    "#     device=TORCH_DEVICE,\n",
    "#     n_neg_shortlist=100,\n",
    "#     n_neg_general=100\n",
    "# )"
   ]
  },
  {
   "attachments": {},
   "cell_type": "markdown",
   "metadata": {},
   "source": [
    "## Build model"
   ]
  },
  {
   "cell_type": "code",
   "execution_count": 7,
   "metadata": {},
   "outputs": [],
   "source": [
    "class SiameseClassifierBert(Module):\n",
    "    \n",
    "    def __init__(\n",
    "            self,\n",
    "            pretrained_name:str,\n",
    "            device,\n",
    "            **kwargs\n",
    "        ) -> None:\n",
    "        super(SiameseClassifierBert, self).__init__(**kwargs)\n",
    "        self.device = device\n",
    "        \n",
    "        # Use a pretrained tokenizer\n",
    "        self.tokenizer = BertTokenizer.from_pretrained(pretrained_name)\n",
    "        \n",
    "        # Use a pretrained model\n",
    "        self.bert = BertModel.from_pretrained(pretrained_name)\n",
    "        self.bert.to(device=device)\n",
    "        \n",
    "        # Classification layers\n",
    "        self.linear1 = Linear(2304, 1024, bias=True, device=device)\n",
    "        self.linear2 = Linear(1024, 512, bias=True, device=device)\n",
    "        self.linear3 = Linear(512, 2, bias=True, device=device)\n",
    "        self.relu = relu\n",
    "        self.softmax = softmax\n",
    "        self.dropout_in = Dropout(p=0.2)\n",
    "        self.dropout_out = Dropout(p=0.5)\n",
    "        \n",
    "        # print(self.tokenizer)\n",
    "        # print(self.bert)\n",
    "        # print(self.linear1)\n",
    "        # print(self.linear2)\n",
    "        # print(self.activation)\n",
    "        # print(self.softmax)\n",
    "        return\n",
    "        \n",
    "    def forward(self, claim_texts, evidence_texts) -> Tuple[torch.Tensor]:\n",
    "        \n",
    "        # Run the tokenizer\n",
    "        t_kwargs = {\n",
    "            \"return_tensors\": \"pt\",\n",
    "            \"padding\": True,\n",
    "            \"truncation\": True,\n",
    "            \"max_length\": 100,\n",
    "            \"add_special_tokens\":True\n",
    "        }\n",
    "        claim_x = self.tokenizer(claim_texts, **t_kwargs)\n",
    "        evidence_x = self.tokenizer(evidence_texts, **t_kwargs)\n",
    "        \n",
    "        claim_x = claim_x[\"input_ids\"].to(device=self.device)\n",
    "        evidence_x = evidence_x[\"input_ids\"].to(device=self.device)\n",
    "        \n",
    "        # Run Bert\n",
    "        claim_x = self.bert(claim_x, return_dict=True).pooler_output\n",
    "        evidence_x = self.bert(evidence_x, return_dict=True).pooler_output\n",
    "        # dim=768\n",
    "        \n",
    "        # Concatenate the two embeddings\n",
    "        x = torch.cat((claim_x, evidence_x, claim_x - evidence_x), dim=1)\n",
    "        # dim=2304\n",
    "        \n",
    "        # Run classification layers\n",
    "        x = self.dropout_in(x)\n",
    "        x = self.linear1(x)\n",
    "        x = self.relu(x)\n",
    "        x = self.dropout_out(x)\n",
    "        x = self.linear2(x)\n",
    "        x = self.relu(x)\n",
    "        x = self.dropout_out(x)\n",
    "        x = self.linear3(x)\n",
    "        \n",
    "        # Create the predictions\n",
    "        y = self.softmax(x, dim=-1)\n",
    "        \n",
    "        return (y, claim_x, evidence_x)"
   ]
  },
  {
   "attachments": {},
   "cell_type": "markdown",
   "metadata": {},
   "source": [
    "## Training and evaluation loop"
   ]
  },
  {
   "cell_type": "code",
   "execution_count": 8,
   "metadata": {},
   "outputs": [
    {
     "name": "stderr",
     "output_type": "stream",
     "text": [
      "Some weights of the model checkpoint at bert-base-uncased were not used when initializing BertModel: ['cls.predictions.transform.dense.bias', 'cls.predictions.bias', 'cls.seq_relationship.bias', 'cls.predictions.transform.LayerNorm.bias', 'cls.predictions.transform.LayerNorm.weight', 'cls.predictions.decoder.weight', 'cls.seq_relationship.weight', 'cls.predictions.transform.dense.weight']\n",
      "- This IS expected if you are initializing BertModel from the checkpoint of a model trained on another task or with another architecture (e.g. initializing a BertForSequenceClassification model from a BertForPreTraining model).\n",
      "- This IS NOT expected if you are initializing BertModel from the checkpoint of a model that you expect to be exactly identical (initializing a BertForSequenceClassification model from a BertForSequenceClassification model).\n"
     ]
    }
   ],
   "source": [
    "model = SiameseClassifierBert(\n",
    "    pretrained_name=\"bert-base-uncased\",\n",
    "    device=TORCH_DEVICE\n",
    ")"
   ]
  },
  {
   "cell_type": "code",
   "execution_count": 9,
   "metadata": {},
   "outputs": [],
   "source": [
    "loss_fn = CrossEntropyLoss()\n",
    "optimizer = Adam(\n",
    "    params=model.parameters(),\n",
    "    lr=0.000002\n",
    ") #! Hyperparams"
   ]
  },
  {
   "cell_type": "code",
   "execution_count": 10,
   "metadata": {},
   "outputs": [],
   "source": [
    "run_time = datetime.now().strftime('%Y_%m_%d_%H_%M')\n",
    "MODEL_NAME = f\"model_03_run_01_base_{run_time}.pth\"\n",
    "N_EPOCHS = 100\n",
    "BATCH_SIZE = 64\n"
   ]
  },
  {
   "cell_type": "code",
   "execution_count": 11,
   "metadata": {},
   "outputs": [
    {
     "name": "stdout",
     "output_type": "stream",
     "text": [
      "Generate siamese dataset\n"
     ]
    },
    {
     "name": "stderr",
     "output_type": "stream",
     "text": [
      "claims: 100%|██████████| 154/154 [00:00<00:00, 478.61it/s]"
     ]
    },
    {
     "name": "stdout",
     "output_type": "stream",
     "text": [
      "Generated data n=1404\n"
     ]
    },
    {
     "name": "stderr",
     "output_type": "stream",
     "text": [
      "\n"
     ]
    }
   ],
   "source": [
    "dev_data = SiameseDataset(\n",
    "    claims_paths=[DATA_PATH.with_name(\"dev-claims.json\")],\n",
    "    claims_shortlist_paths=[NER_PATH.with_name(\"dev_claim_evidence_retrieved.json\")],\n",
    "    evidence_shortlists=[NER_PATH.with_name(\"shortlist_dev_claim_evidence_retrieved.json\")],\n",
    "    evidence_path=DATA_PATH.with_name(\"evidence.json\"),\n",
    "    device=TORCH_DEVICE,\n",
    "    n_neg_shortlist=3,\n",
    "    n_neg_general=3\n",
    ")\n",
    "\n",
    "dev_dataloader = DataLoader(\n",
    "    dataset=dev_data,\n",
    "    shuffle=False,\n",
    "    batch_size=BATCH_SIZE\n",
    ")"
   ]
  },
  {
   "cell_type": "code",
   "execution_count": 12,
   "metadata": {},
   "outputs": [],
   "source": [
    "import warnings\n",
    "warnings.filterwarnings('ignore')"
   ]
  },
  {
   "cell_type": "code",
   "execution_count": 13,
   "metadata": {},
   "outputs": [
    {
     "name": "stdout",
     "output_type": "stream",
     "text": [
      "Adjusting learning rate of group 0 to 2.0000e-07.\n",
      "Epoch: 0 of 100\n",
      "\n",
      "Generate siamese dataset\n"
     ]
    },
    {
     "name": "stderr",
     "output_type": "stream",
     "text": [
      "claims: 100%|██████████| 1228/1228 [00:06<00:00, 181.77it/s]\n"
     ]
    },
    {
     "name": "stdout",
     "output_type": "stream",
     "text": [
      "Generated data n=7693\n"
     ]
    },
    {
     "name": "stderr",
     "output_type": "stream",
     "text": [
      "train batches: 100%|██████████| 121/121 [01:47<00:00,  1.13it/s, loss: 2.097]\n"
     ]
    },
    {
     "name": "stdout",
     "output_type": "stream",
     "text": [
      "Adjusting learning rate of group 0 to 3.8000e-07.\n",
      "Average epoch loss: 2.081911284076281\n",
      "Saved model to: /Users/johnsonzhou/git/comp90042-project/result/models/model_03_run_01_base_2023_05_01_23_07.pth\n"
     ]
    },
    {
     "name": "stderr",
     "output_type": "stream",
     "text": [
      "dev batches: 100%|██████████| 22/22 [00:07<00:00,  2.98it/s,  acc: 0.591 f1: 0.282 rec: 0.282]\n"
     ]
    },
    {
     "name": "stdout",
     "output_type": "stream",
     "text": [
      "Epoch accuracy on dev: 0.594\n",
      "Epoch f1 on dev: 0.290\n",
      "Epoch recall on dev: 0.290\n",
      "\n",
      "Epoch: 1 of 100\n",
      "\n",
      "Generate siamese dataset\n"
     ]
    },
    {
     "name": "stderr",
     "output_type": "stream",
     "text": [
      "claims: 100%|██████████| 1228/1228 [00:07<00:00, 174.75it/s]\n"
     ]
    },
    {
     "name": "stdout",
     "output_type": "stream",
     "text": [
      "Generated data n=7693\n"
     ]
    },
    {
     "name": "stderr",
     "output_type": "stream",
     "text": [
      "train batches: 100%|██████████| 121/121 [01:45<00:00,  1.14it/s, loss: 2.086]\n"
     ]
    },
    {
     "name": "stdout",
     "output_type": "stream",
     "text": [
      "Adjusting learning rate of group 0 to 5.6000e-07.\n",
      "Average epoch loss: 2.078024445486463\n",
      "Saved model to: /Users/johnsonzhou/git/comp90042-project/result/models/model_03_run_01_base_2023_05_01_23_07.pth\n",
      "Epoch: 2 of 100\n",
      "\n",
      "Generate siamese dataset\n"
     ]
    },
    {
     "name": "stderr",
     "output_type": "stream",
     "text": [
      "claims: 100%|██████████| 1228/1228 [00:07<00:00, 166.58it/s]\n"
     ]
    },
    {
     "name": "stdout",
     "output_type": "stream",
     "text": [
      "Generated data n=7693\n"
     ]
    },
    {
     "name": "stderr",
     "output_type": "stream",
     "text": [
      "train batches: 100%|██████████| 121/121 [01:46<00:00,  1.13it/s, loss: 2.097]\n"
     ]
    },
    {
     "name": "stdout",
     "output_type": "stream",
     "text": [
      "Adjusting learning rate of group 0 to 7.4000e-07.\n",
      "Average epoch loss: 2.0727585258562704\n",
      "Saved model to: /Users/johnsonzhou/git/comp90042-project/result/models/model_03_run_01_base_2023_05_01_23_07.pth\n",
      "Epoch: 3 of 100\n",
      "\n",
      "Generate siamese dataset\n"
     ]
    },
    {
     "name": "stderr",
     "output_type": "stream",
     "text": [
      "claims: 100%|██████████| 1228/1228 [00:06<00:00, 178.99it/s]\n"
     ]
    },
    {
     "name": "stdout",
     "output_type": "stream",
     "text": [
      "Generated data n=7693\n"
     ]
    },
    {
     "name": "stderr",
     "output_type": "stream",
     "text": [
      "train batches: 100%|██████████| 121/121 [01:46<00:00,  1.14it/s, loss: 2.035]\n"
     ]
    },
    {
     "name": "stdout",
     "output_type": "stream",
     "text": [
      "Adjusting learning rate of group 0 to 9.2000e-07.\n",
      "Average epoch loss: 2.0598962341458344\n",
      "Saved model to: /Users/johnsonzhou/git/comp90042-project/result/models/model_03_run_01_base_2023_05_01_23_07.pth\n",
      "Epoch: 4 of 100\n",
      "\n",
      "Generate siamese dataset\n"
     ]
    },
    {
     "name": "stderr",
     "output_type": "stream",
     "text": [
      "claims: 100%|██████████| 1228/1228 [00:06<00:00, 178.16it/s]\n"
     ]
    },
    {
     "name": "stdout",
     "output_type": "stream",
     "text": [
      "Generated data n=7693\n"
     ]
    },
    {
     "name": "stderr",
     "output_type": "stream",
     "text": [
      "train batches: 100%|██████████| 121/121 [01:46<00:00,  1.14it/s, loss: 1.956]\n"
     ]
    },
    {
     "name": "stdout",
     "output_type": "stream",
     "text": [
      "Adjusting learning rate of group 0 to 1.1000e-06.\n",
      "Average epoch loss: 1.946168662595355\n",
      "Saved model to: /Users/johnsonzhou/git/comp90042-project/result/models/model_03_run_01_base_2023_05_01_23_07.pth\n",
      "Epoch: 5 of 100\n",
      "\n",
      "Generate siamese dataset\n"
     ]
    },
    {
     "name": "stderr",
     "output_type": "stream",
     "text": [
      "claims: 100%|██████████| 1228/1228 [00:06<00:00, 179.83it/s]\n"
     ]
    },
    {
     "name": "stdout",
     "output_type": "stream",
     "text": [
      "Generated data n=7693\n"
     ]
    },
    {
     "name": "stderr",
     "output_type": "stream",
     "text": [
      "train batches: 100%|██████████| 121/121 [01:45<00:00,  1.15it/s, loss: 1.665]\n"
     ]
    },
    {
     "name": "stdout",
     "output_type": "stream",
     "text": [
      "Adjusting learning rate of group 0 to 1.2800e-06.\n",
      "Average epoch loss: 1.7010489135734306\n",
      "Saved model to: /Users/johnsonzhou/git/comp90042-project/result/models/model_03_run_01_base_2023_05_01_23_07.pth\n"
     ]
    },
    {
     "name": "stderr",
     "output_type": "stream",
     "text": [
      "dev batches: 100%|██████████| 22/22 [00:05<00:00,  3.74it/s,  acc: 0.675 f1: 0.557 rec: 0.557]\n"
     ]
    },
    {
     "name": "stdout",
     "output_type": "stream",
     "text": [
      "Epoch accuracy on dev: 0.644\n",
      "Epoch f1 on dev: 0.471\n",
      "Epoch recall on dev: 0.471\n",
      "\n",
      "Epoch: 6 of 100\n",
      "\n",
      "Generate siamese dataset\n"
     ]
    },
    {
     "name": "stderr",
     "output_type": "stream",
     "text": [
      "claims: 100%|██████████| 1228/1228 [00:06<00:00, 179.06it/s]\n"
     ]
    },
    {
     "name": "stdout",
     "output_type": "stream",
     "text": [
      "Generated data n=7693\n"
     ]
    },
    {
     "name": "stderr",
     "output_type": "stream",
     "text": [
      "train batches: 100%|██████████| 121/121 [01:46<00:00,  1.14it/s, loss: 1.475]\n"
     ]
    },
    {
     "name": "stdout",
     "output_type": "stream",
     "text": [
      "Adjusting learning rate of group 0 to 1.4600e-06.\n",
      "Average epoch loss: 1.5637229316490742\n",
      "Saved model to: /Users/johnsonzhou/git/comp90042-project/result/models/model_03_run_01_base_2023_05_01_23_07.pth\n",
      "Epoch: 7 of 100\n",
      "\n",
      "Generate siamese dataset\n"
     ]
    },
    {
     "name": "stderr",
     "output_type": "stream",
     "text": [
      "claims: 100%|██████████| 1228/1228 [00:07<00:00, 174.59it/s]\n"
     ]
    },
    {
     "name": "stdout",
     "output_type": "stream",
     "text": [
      "Generated data n=7693\n"
     ]
    },
    {
     "name": "stderr",
     "output_type": "stream",
     "text": [
      "train batches: 100%|██████████| 121/121 [01:45<00:00,  1.14it/s, loss: 1.555]\n"
     ]
    },
    {
     "name": "stdout",
     "output_type": "stream",
     "text": [
      "Adjusting learning rate of group 0 to 1.6400e-06.\n",
      "Average epoch loss: 1.4980726953872965\n",
      "Saved model to: /Users/johnsonzhou/git/comp90042-project/result/models/model_03_run_01_base_2023_05_01_23_07.pth\n",
      "Epoch: 8 of 100\n",
      "\n",
      "Generate siamese dataset\n"
     ]
    },
    {
     "name": "stderr",
     "output_type": "stream",
     "text": [
      "claims: 100%|██████████| 1228/1228 [00:06<00:00, 178.58it/s]\n"
     ]
    },
    {
     "name": "stdout",
     "output_type": "stream",
     "text": [
      "Generated data n=7693\n"
     ]
    },
    {
     "name": "stderr",
     "output_type": "stream",
     "text": [
      "train batches: 100%|██████████| 121/121 [01:45<00:00,  1.14it/s, loss: 1.083]\n"
     ]
    },
    {
     "name": "stdout",
     "output_type": "stream",
     "text": [
      "Adjusting learning rate of group 0 to 1.8200e-06.\n",
      "Average epoch loss: 1.467641536361915\n",
      "Saved model to: /Users/johnsonzhou/git/comp90042-project/result/models/model_03_run_01_base_2023_05_01_23_07.pth\n",
      "Epoch: 9 of 100\n",
      "\n",
      "Generate siamese dataset\n"
     ]
    },
    {
     "name": "stderr",
     "output_type": "stream",
     "text": [
      "claims: 100%|██████████| 1228/1228 [00:06<00:00, 179.73it/s]\n"
     ]
    },
    {
     "name": "stdout",
     "output_type": "stream",
     "text": [
      "Generated data n=7693\n"
     ]
    },
    {
     "name": "stderr",
     "output_type": "stream",
     "text": [
      "train batches: 100%|██████████| 121/121 [01:45<00:00,  1.15it/s, loss: 1.930]\n"
     ]
    },
    {
     "name": "stdout",
     "output_type": "stream",
     "text": [
      "Adjusting learning rate of group 0 to 2.0000e-06.\n",
      "Average epoch loss: 1.442951360517297\n",
      "Saved model to: /Users/johnsonzhou/git/comp90042-project/result/models/model_03_run_01_base_2023_05_01_23_07.pth\n",
      "Epoch: 10 of 100\n",
      "\n",
      "Generate siamese dataset\n"
     ]
    },
    {
     "name": "stderr",
     "output_type": "stream",
     "text": [
      "claims: 100%|██████████| 1228/1228 [00:06<00:00, 179.65it/s]\n"
     ]
    },
    {
     "name": "stdout",
     "output_type": "stream",
     "text": [
      "Generated data n=7693\n"
     ]
    },
    {
     "name": "stderr",
     "output_type": "stream",
     "text": [
      "train batches: 100%|██████████| 121/121 [01:45<00:00,  1.14it/s, loss: 1.530]\n"
     ]
    },
    {
     "name": "stdout",
     "output_type": "stream",
     "text": [
      "Adjusting learning rate of group 0 to 2.0000e-06.\n",
      "Average epoch loss: 1.4167648615423314\n",
      "Saved model to: /Users/johnsonzhou/git/comp90042-project/result/models/model_03_run_01_base_2023_05_01_23_07.pth\n"
     ]
    },
    {
     "name": "stderr",
     "output_type": "stream",
     "text": [
      "dev batches: 100%|██████████| 22/22 [00:05<00:00,  3.74it/s,  acc: 0.718 f1: 0.630 rec: 0.630]\n"
     ]
    },
    {
     "name": "stdout",
     "output_type": "stream",
     "text": [
      "Epoch accuracy on dev: 0.701\n",
      "Epoch f1 on dev: 0.602\n",
      "Epoch recall on dev: 0.602\n",
      "\n",
      "Epoch: 11 of 100\n",
      "\n",
      "Generate siamese dataset\n"
     ]
    },
    {
     "name": "stderr",
     "output_type": "stream",
     "text": [
      "claims: 100%|██████████| 1228/1228 [00:06<00:00, 177.11it/s]\n"
     ]
    },
    {
     "name": "stdout",
     "output_type": "stream",
     "text": [
      "Generated data n=7693\n"
     ]
    },
    {
     "name": "stderr",
     "output_type": "stream",
     "text": [
      "train batches: 100%|██████████| 121/121 [01:45<00:00,  1.14it/s, loss: 1.154]\n"
     ]
    },
    {
     "name": "stdout",
     "output_type": "stream",
     "text": [
      "Adjusting learning rate of group 0 to 2.0000e-06.\n",
      "Average epoch loss: 1.3864337740358241\n",
      "Saved model to: /Users/johnsonzhou/git/comp90042-project/result/models/model_03_run_01_base_2023_05_01_23_07.pth\n",
      "Epoch: 12 of 100\n",
      "\n",
      "Generate siamese dataset\n"
     ]
    },
    {
     "name": "stderr",
     "output_type": "stream",
     "text": [
      "claims: 100%|██████████| 1228/1228 [00:06<00:00, 187.23it/s]\n"
     ]
    },
    {
     "name": "stdout",
     "output_type": "stream",
     "text": [
      "Generated data n=7693\n"
     ]
    },
    {
     "name": "stderr",
     "output_type": "stream",
     "text": [
      "train batches: 100%|██████████| 121/121 [01:45<00:00,  1.15it/s, loss: 1.078]\n"
     ]
    },
    {
     "name": "stdout",
     "output_type": "stream",
     "text": [
      "Adjusting learning rate of group 0 to 2.0000e-06.\n",
      "Average epoch loss: 1.3526843131081132\n",
      "Saved model to: /Users/johnsonzhou/git/comp90042-project/result/models/model_03_run_01_base_2023_05_01_23_07.pth\n",
      "Epoch: 13 of 100\n",
      "\n",
      "Generate siamese dataset\n"
     ]
    },
    {
     "name": "stderr",
     "output_type": "stream",
     "text": [
      "claims: 100%|██████████| 1228/1228 [00:06<00:00, 188.99it/s]\n"
     ]
    },
    {
     "name": "stdout",
     "output_type": "stream",
     "text": [
      "Generated data n=7693\n"
     ]
    },
    {
     "name": "stderr",
     "output_type": "stream",
     "text": [
      "train batches: 100%|██████████| 121/121 [01:44<00:00,  1.16it/s, loss: 1.447]\n"
     ]
    },
    {
     "name": "stdout",
     "output_type": "stream",
     "text": [
      "Adjusting learning rate of group 0 to 2.0000e-06.\n",
      "Average epoch loss: 1.3503698814998975\n",
      "Saved model to: /Users/johnsonzhou/git/comp90042-project/result/models/model_03_run_01_base_2023_05_01_23_07.pth\n",
      "Epoch: 14 of 100\n",
      "\n",
      "Generate siamese dataset\n"
     ]
    },
    {
     "name": "stderr",
     "output_type": "stream",
     "text": [
      "claims: 100%|██████████| 1228/1228 [00:06<00:00, 187.45it/s]\n"
     ]
    },
    {
     "name": "stdout",
     "output_type": "stream",
     "text": [
      "Generated data n=7693\n"
     ]
    },
    {
     "name": "stderr",
     "output_type": "stream",
     "text": [
      "train batches: 100%|██████████| 121/121 [01:45<00:00,  1.15it/s, loss: 1.177]\n"
     ]
    },
    {
     "name": "stdout",
     "output_type": "stream",
     "text": [
      "Adjusting learning rate of group 0 to 2.0000e-06.\n",
      "Average epoch loss: 1.3346617593745556\n",
      "Saved model to: /Users/johnsonzhou/git/comp90042-project/result/models/model_03_run_01_base_2023_05_01_23_07.pth\n",
      "Epoch: 15 of 100\n",
      "\n",
      "Generate siamese dataset\n"
     ]
    },
    {
     "name": "stderr",
     "output_type": "stream",
     "text": [
      "claims: 100%|██████████| 1228/1228 [00:06<00:00, 187.53it/s]\n"
     ]
    },
    {
     "name": "stdout",
     "output_type": "stream",
     "text": [
      "Generated data n=7693\n"
     ]
    },
    {
     "name": "stderr",
     "output_type": "stream",
     "text": [
      "train batches: 100%|██████████| 121/121 [01:45<00:00,  1.15it/s, loss: 1.564]\n"
     ]
    },
    {
     "name": "stdout",
     "output_type": "stream",
     "text": [
      "Adjusting learning rate of group 0 to 2.0000e-06.\n",
      "Average epoch loss: 1.309252381324768\n",
      "Saved model to: /Users/johnsonzhou/git/comp90042-project/result/models/model_03_run_01_base_2023_05_01_23_07.pth\n"
     ]
    },
    {
     "name": "stderr",
     "output_type": "stream",
     "text": [
      "dev batches: 100%|██████████| 22/22 [00:05<00:00,  3.76it/s,  acc: 0.745 f1: 0.671 rec: 0.671]\n"
     ]
    },
    {
     "name": "stdout",
     "output_type": "stream",
     "text": [
      "Epoch accuracy on dev: 0.733\n",
      "Epoch f1 on dev: 0.654\n",
      "Epoch recall on dev: 0.654\n",
      "\n",
      "Epoch: 16 of 100\n",
      "\n",
      "Generate siamese dataset\n"
     ]
    },
    {
     "name": "stderr",
     "output_type": "stream",
     "text": [
      "claims: 100%|██████████| 1228/1228 [00:06<00:00, 187.69it/s]\n"
     ]
    },
    {
     "name": "stdout",
     "output_type": "stream",
     "text": [
      "Generated data n=7693\n"
     ]
    },
    {
     "name": "stderr",
     "output_type": "stream",
     "text": [
      "train batches: 100%|██████████| 121/121 [01:44<00:00,  1.16it/s, loss: 0.955]\n"
     ]
    },
    {
     "name": "stdout",
     "output_type": "stream",
     "text": [
      "Adjusting learning rate of group 0 to 2.0000e-06.\n",
      "Average epoch loss: 1.3000709375074087\n",
      "Saved model to: /Users/johnsonzhou/git/comp90042-project/result/models/model_03_run_01_base_2023_05_01_23_07.pth\n",
      "Epoch: 17 of 100\n",
      "\n",
      "Generate siamese dataset\n"
     ]
    },
    {
     "name": "stderr",
     "output_type": "stream",
     "text": [
      "claims: 100%|██████████| 1228/1228 [00:06<00:00, 188.23it/s]\n"
     ]
    },
    {
     "name": "stdout",
     "output_type": "stream",
     "text": [
      "Generated data n=7693\n"
     ]
    },
    {
     "name": "stderr",
     "output_type": "stream",
     "text": [
      "train batches: 100%|██████████| 121/121 [01:45<00:00,  1.15it/s, loss: 1.326]\n"
     ]
    },
    {
     "name": "stdout",
     "output_type": "stream",
     "text": [
      "Adjusting learning rate of group 0 to 2.0000e-06.\n",
      "Average epoch loss: 1.2864724252342192\n",
      "Saved model to: /Users/johnsonzhou/git/comp90042-project/result/models/model_03_run_01_base_2023_05_01_23_07.pth\n",
      "Epoch: 18 of 100\n",
      "\n",
      "Generate siamese dataset\n"
     ]
    },
    {
     "name": "stderr",
     "output_type": "stream",
     "text": [
      "claims: 100%|██████████| 1228/1228 [00:06<00:00, 187.51it/s]\n"
     ]
    },
    {
     "name": "stdout",
     "output_type": "stream",
     "text": [
      "Generated data n=7693\n"
     ]
    },
    {
     "name": "stderr",
     "output_type": "stream",
     "text": [
      "train batches: 100%|██████████| 121/121 [01:45<00:00,  1.15it/s, loss: 1.415]\n"
     ]
    },
    {
     "name": "stdout",
     "output_type": "stream",
     "text": [
      "Adjusting learning rate of group 0 to 2.0000e-06.\n",
      "Average epoch loss: 1.2818637184860293\n",
      "Saved model to: /Users/johnsonzhou/git/comp90042-project/result/models/model_03_run_01_base_2023_05_01_23_07.pth\n",
      "Epoch: 19 of 100\n",
      "\n",
      "Generate siamese dataset\n"
     ]
    },
    {
     "name": "stderr",
     "output_type": "stream",
     "text": [
      "claims: 100%|██████████| 1228/1228 [00:06<00:00, 188.30it/s]\n"
     ]
    },
    {
     "name": "stdout",
     "output_type": "stream",
     "text": [
      "Generated data n=7693\n"
     ]
    },
    {
     "name": "stderr",
     "output_type": "stream",
     "text": [
      "train batches: 100%|██████████| 121/121 [01:44<00:00,  1.15it/s, loss: 1.134]\n"
     ]
    },
    {
     "name": "stdout",
     "output_type": "stream",
     "text": [
      "Adjusting learning rate of group 0 to 2.0000e-06.\n",
      "Average epoch loss: 1.27057289461459\n",
      "Saved model to: /Users/johnsonzhou/git/comp90042-project/result/models/model_03_run_01_base_2023_05_01_23_07.pth\n",
      "Epoch: 20 of 100\n",
      "\n",
      "Generate siamese dataset\n"
     ]
    },
    {
     "name": "stderr",
     "output_type": "stream",
     "text": [
      "claims: 100%|██████████| 1228/1228 [00:06<00:00, 187.35it/s]\n"
     ]
    },
    {
     "name": "stdout",
     "output_type": "stream",
     "text": [
      "Generated data n=7693\n"
     ]
    },
    {
     "name": "stderr",
     "output_type": "stream",
     "text": [
      "train batches: 100%|██████████| 121/121 [01:45<00:00,  1.15it/s, loss: 1.387]\n"
     ]
    },
    {
     "name": "stdout",
     "output_type": "stream",
     "text": [
      "Adjusting learning rate of group 0 to 2.0000e-06.\n",
      "Average epoch loss: 1.2467697747975341\n",
      "Saved model to: /Users/johnsonzhou/git/comp90042-project/result/models/model_03_run_01_base_2023_05_01_23_07.pth\n"
     ]
    },
    {
     "name": "stderr",
     "output_type": "stream",
     "text": [
      "dev batches: 100%|██████████| 22/22 [00:05<00:00,  3.74it/s,  acc: 0.763 f1: 0.696 rec: 0.696]\n"
     ]
    },
    {
     "name": "stdout",
     "output_type": "stream",
     "text": [
      "Epoch accuracy on dev: 0.755\n",
      "Epoch f1 on dev: 0.686\n",
      "Epoch recall on dev: 0.686\n",
      "\n",
      "Epoch: 21 of 100\n",
      "\n",
      "Generate siamese dataset\n"
     ]
    },
    {
     "name": "stderr",
     "output_type": "stream",
     "text": [
      "claims: 100%|██████████| 1228/1228 [00:06<00:00, 187.76it/s]\n"
     ]
    },
    {
     "name": "stdout",
     "output_type": "stream",
     "text": [
      "Generated data n=7693\n"
     ]
    },
    {
     "name": "stderr",
     "output_type": "stream",
     "text": [
      "train batches: 100%|██████████| 121/121 [01:45<00:00,  1.15it/s, loss: 1.464]\n"
     ]
    },
    {
     "name": "stdout",
     "output_type": "stream",
     "text": [
      "Adjusting learning rate of group 0 to 2.0000e-06.\n",
      "Average epoch loss: 1.2537854759653737\n",
      "Epoch: 22 of 100\n",
      "\n",
      "Generate siamese dataset\n"
     ]
    },
    {
     "name": "stderr",
     "output_type": "stream",
     "text": [
      "claims: 100%|██████████| 1228/1228 [00:06<00:00, 186.28it/s]\n"
     ]
    },
    {
     "name": "stdout",
     "output_type": "stream",
     "text": [
      "Generated data n=7693\n"
     ]
    },
    {
     "name": "stderr",
     "output_type": "stream",
     "text": [
      "train batches: 100%|██████████| 121/121 [01:44<00:00,  1.15it/s, loss: 1.434]\n"
     ]
    },
    {
     "name": "stdout",
     "output_type": "stream",
     "text": [
      "Adjusting learning rate of group 0 to 2.0000e-06.\n",
      "Average epoch loss: 1.2495689924098243\n",
      "Saved model to: /Users/johnsonzhou/git/comp90042-project/result/models/model_03_run_01_base_2023_05_01_23_07.pth\n",
      "Epoch: 23 of 100\n",
      "\n",
      "Generate siamese dataset\n"
     ]
    },
    {
     "name": "stderr",
     "output_type": "stream",
     "text": [
      "claims: 100%|██████████| 1228/1228 [00:06<00:00, 187.94it/s]\n"
     ]
    },
    {
     "name": "stdout",
     "output_type": "stream",
     "text": [
      "Generated data n=7693\n"
     ]
    },
    {
     "name": "stderr",
     "output_type": "stream",
     "text": [
      "train batches: 100%|██████████| 121/121 [01:44<00:00,  1.16it/s, loss: 1.470]\n"
     ]
    },
    {
     "name": "stdout",
     "output_type": "stream",
     "text": [
      "Adjusting learning rate of group 0 to 2.0000e-06.\n",
      "Average epoch loss: 1.2454679480268935\n",
      "Saved model to: /Users/johnsonzhou/git/comp90042-project/result/models/model_03_run_01_base_2023_05_01_23_07.pth\n",
      "Epoch: 24 of 100\n",
      "\n",
      "Generate siamese dataset\n"
     ]
    },
    {
     "name": "stderr",
     "output_type": "stream",
     "text": [
      "claims: 100%|██████████| 1228/1228 [00:06<00:00, 187.52it/s]\n"
     ]
    },
    {
     "name": "stdout",
     "output_type": "stream",
     "text": [
      "Generated data n=7693\n"
     ]
    },
    {
     "name": "stderr",
     "output_type": "stream",
     "text": [
      "train batches: 100%|██████████| 121/121 [01:45<00:00,  1.15it/s, loss: 0.950]\n"
     ]
    },
    {
     "name": "stdout",
     "output_type": "stream",
     "text": [
      "Adjusting learning rate of group 0 to 2.0000e-06.\n",
      "Average epoch loss: 1.2354927173823365\n",
      "Saved model to: /Users/johnsonzhou/git/comp90042-project/result/models/model_03_run_01_base_2023_05_01_23_07.pth\n",
      "Epoch: 25 of 100\n",
      "\n",
      "Generate siamese dataset\n"
     ]
    },
    {
     "name": "stderr",
     "output_type": "stream",
     "text": [
      "claims: 100%|██████████| 1228/1228 [00:06<00:00, 187.89it/s]\n"
     ]
    },
    {
     "name": "stdout",
     "output_type": "stream",
     "text": [
      "Generated data n=7693\n"
     ]
    },
    {
     "name": "stderr",
     "output_type": "stream",
     "text": [
      "train batches: 100%|██████████| 121/121 [01:44<00:00,  1.15it/s, loss: 0.946]\n"
     ]
    },
    {
     "name": "stdout",
     "output_type": "stream",
     "text": [
      "Adjusting learning rate of group 0 to 2.0000e-06.\n",
      "Average epoch loss: 1.2366248179565777\n"
     ]
    },
    {
     "name": "stderr",
     "output_type": "stream",
     "text": [
      "dev batches: 100%|██████████| 22/22 [00:05<00:00,  3.72it/s,  acc: 0.775 f1: 0.710 rec: 0.710]\n"
     ]
    },
    {
     "name": "stdout",
     "output_type": "stream",
     "text": [
      "Epoch accuracy on dev: 0.769\n",
      "Epoch f1 on dev: 0.704\n",
      "Epoch recall on dev: 0.704\n",
      "\n",
      "Epoch: 26 of 100\n",
      "\n",
      "Generate siamese dataset\n"
     ]
    },
    {
     "name": "stderr",
     "output_type": "stream",
     "text": [
      "claims: 100%|██████████| 1228/1228 [00:06<00:00, 186.28it/s]\n"
     ]
    },
    {
     "name": "stdout",
     "output_type": "stream",
     "text": [
      "Generated data n=7693\n"
     ]
    },
    {
     "name": "stderr",
     "output_type": "stream",
     "text": [
      "train batches: 100%|██████████| 121/121 [01:45<00:00,  1.15it/s, loss: 1.413]\n"
     ]
    },
    {
     "name": "stdout",
     "output_type": "stream",
     "text": [
      "Adjusting learning rate of group 0 to 2.0000e-06.\n",
      "Average epoch loss: 1.226368307082121\n",
      "Saved model to: /Users/johnsonzhou/git/comp90042-project/result/models/model_03_run_01_base_2023_05_01_23_07.pth\n",
      "Epoch: 27 of 100\n",
      "\n",
      "Generate siamese dataset\n"
     ]
    },
    {
     "name": "stderr",
     "output_type": "stream",
     "text": [
      "claims: 100%|██████████| 1228/1228 [00:06<00:00, 187.51it/s]\n"
     ]
    },
    {
     "name": "stdout",
     "output_type": "stream",
     "text": [
      "Generated data n=7693\n"
     ]
    },
    {
     "name": "stderr",
     "output_type": "stream",
     "text": [
      "train batches: 100%|██████████| 121/121 [01:44<00:00,  1.16it/s, loss: 1.232]\n"
     ]
    },
    {
     "name": "stdout",
     "output_type": "stream",
     "text": [
      "Adjusting learning rate of group 0 to 2.0000e-06.\n",
      "Average epoch loss: 1.2220329226048525\n",
      "Saved model to: /Users/johnsonzhou/git/comp90042-project/result/models/model_03_run_01_base_2023_05_01_23_07.pth\n",
      "Epoch: 28 of 100\n",
      "\n",
      "Generate siamese dataset\n"
     ]
    },
    {
     "name": "stderr",
     "output_type": "stream",
     "text": [
      "claims: 100%|██████████| 1228/1228 [00:06<00:00, 188.45it/s]\n"
     ]
    },
    {
     "name": "stdout",
     "output_type": "stream",
     "text": [
      "Generated data n=7693\n"
     ]
    },
    {
     "name": "stderr",
     "output_type": "stream",
     "text": [
      "train batches: 100%|██████████| 121/121 [01:44<00:00,  1.15it/s, loss: 1.173]\n"
     ]
    },
    {
     "name": "stdout",
     "output_type": "stream",
     "text": [
      "Adjusting learning rate of group 0 to 2.0000e-06.\n",
      "Average epoch loss: 1.217984320949917\n",
      "Saved model to: /Users/johnsonzhou/git/comp90042-project/result/models/model_03_run_01_base_2023_05_01_23_07.pth\n",
      "Epoch: 29 of 100\n",
      "\n",
      "Generate siamese dataset\n"
     ]
    },
    {
     "name": "stderr",
     "output_type": "stream",
     "text": [
      "claims: 100%|██████████| 1228/1228 [00:06<00:00, 187.75it/s]\n"
     ]
    },
    {
     "name": "stdout",
     "output_type": "stream",
     "text": [
      "Generated data n=7693\n"
     ]
    },
    {
     "name": "stderr",
     "output_type": "stream",
     "text": [
      "train batches: 100%|██████████| 121/121 [01:45<00:00,  1.15it/s, loss: 1.721]\n"
     ]
    },
    {
     "name": "stdout",
     "output_type": "stream",
     "text": [
      "Adjusting learning rate of group 0 to 2.0000e-06.\n",
      "Average epoch loss: 1.222490115845499\n",
      "Epoch: 30 of 100\n",
      "\n",
      "Generate siamese dataset\n"
     ]
    },
    {
     "name": "stderr",
     "output_type": "stream",
     "text": [
      "claims: 100%|██████████| 1228/1228 [00:06<00:00, 182.64it/s]\n"
     ]
    },
    {
     "name": "stdout",
     "output_type": "stream",
     "text": [
      "Generated data n=7693\n"
     ]
    },
    {
     "name": "stderr",
     "output_type": "stream",
     "text": [
      "train batches: 100%|██████████| 121/121 [01:44<00:00,  1.16it/s, loss: 1.302]\n"
     ]
    },
    {
     "name": "stdout",
     "output_type": "stream",
     "text": [
      "Adjusting learning rate of group 0 to 2.0000e-06.\n",
      "Average epoch loss: 1.2196419874498667\n",
      "Saved model to: /Users/johnsonzhou/git/comp90042-project/result/models/model_03_run_01_base_2023_05_01_23_07.pth\n"
     ]
    },
    {
     "name": "stderr",
     "output_type": "stream",
     "text": [
      "dev batches: 100%|██████████| 22/22 [00:05<00:00,  3.75it/s,  acc: 0.783 f1: 0.720 rec: 0.720]\n"
     ]
    },
    {
     "name": "stdout",
     "output_type": "stream",
     "text": [
      "Epoch accuracy on dev: 0.779\n",
      "Epoch f1 on dev: 0.716\n",
      "Epoch recall on dev: 0.716\n",
      "\n",
      "Epoch: 31 of 100\n",
      "\n",
      "Generate siamese dataset\n"
     ]
    },
    {
     "name": "stderr",
     "output_type": "stream",
     "text": [
      "claims: 100%|██████████| 1228/1228 [00:06<00:00, 187.84it/s]\n"
     ]
    },
    {
     "name": "stdout",
     "output_type": "stream",
     "text": [
      "Generated data n=7693\n"
     ]
    },
    {
     "name": "stderr",
     "output_type": "stream",
     "text": [
      "train batches: 100%|██████████| 121/121 [01:44<00:00,  1.16it/s, loss: 1.630]\n"
     ]
    },
    {
     "name": "stdout",
     "output_type": "stream",
     "text": [
      "Adjusting learning rate of group 0 to 2.0000e-06.\n",
      "Average epoch loss: 1.2223843252363285\n",
      "Epoch: 32 of 100\n",
      "\n",
      "Generate siamese dataset\n"
     ]
    },
    {
     "name": "stderr",
     "output_type": "stream",
     "text": [
      "claims: 100%|██████████| 1228/1228 [00:06<00:00, 187.60it/s]\n"
     ]
    },
    {
     "name": "stdout",
     "output_type": "stream",
     "text": [
      "Generated data n=7693\n"
     ]
    },
    {
     "name": "stderr",
     "output_type": "stream",
     "text": [
      "train batches: 100%|██████████| 121/121 [01:44<00:00,  1.16it/s, loss: 0.956]\n"
     ]
    },
    {
     "name": "stdout",
     "output_type": "stream",
     "text": [
      "Adjusting learning rate of group 0 to 2.0000e-06.\n",
      "Average epoch loss: 1.2107447735534227\n",
      "Saved model to: /Users/johnsonzhou/git/comp90042-project/result/models/model_03_run_01_base_2023_05_01_23_07.pth\n",
      "Epoch: 33 of 100\n",
      "\n",
      "Generate siamese dataset\n"
     ]
    },
    {
     "name": "stderr",
     "output_type": "stream",
     "text": [
      "claims: 100%|██████████| 1228/1228 [00:06<00:00, 187.97it/s]\n"
     ]
    },
    {
     "name": "stdout",
     "output_type": "stream",
     "text": [
      "Generated data n=7693\n"
     ]
    },
    {
     "name": "stderr",
     "output_type": "stream",
     "text": [
      "train batches: 100%|██████████| 121/121 [01:45<00:00,  1.15it/s, loss: 1.356]\n"
     ]
    },
    {
     "name": "stdout",
     "output_type": "stream",
     "text": [
      "Adjusting learning rate of group 0 to 2.0000e-06.\n",
      "Average epoch loss: 1.1992103467302875\n",
      "Saved model to: /Users/johnsonzhou/git/comp90042-project/result/models/model_03_run_01_base_2023_05_01_23_07.pth\n",
      "Epoch: 34 of 100\n",
      "\n",
      "Generate siamese dataset\n"
     ]
    },
    {
     "name": "stderr",
     "output_type": "stream",
     "text": [
      "claims: 100%|██████████| 1228/1228 [00:06<00:00, 188.46it/s]\n"
     ]
    },
    {
     "name": "stdout",
     "output_type": "stream",
     "text": [
      "Generated data n=7693\n"
     ]
    },
    {
     "name": "stderr",
     "output_type": "stream",
     "text": [
      "train batches: 100%|██████████| 121/121 [01:44<00:00,  1.15it/s, loss: 1.517]\n"
     ]
    },
    {
     "name": "stdout",
     "output_type": "stream",
     "text": [
      "Adjusting learning rate of group 0 to 2.0000e-06.\n",
      "Average epoch loss: 1.198439207944003\n",
      "Saved model to: /Users/johnsonzhou/git/comp90042-project/result/models/model_03_run_01_base_2023_05_01_23_07.pth\n",
      "Epoch: 35 of 100\n",
      "\n",
      "Generate siamese dataset\n"
     ]
    },
    {
     "name": "stderr",
     "output_type": "stream",
     "text": [
      "claims: 100%|██████████| 1228/1228 [00:06<00:00, 187.55it/s]\n"
     ]
    },
    {
     "name": "stdout",
     "output_type": "stream",
     "text": [
      "Generated data n=7693\n"
     ]
    },
    {
     "name": "stderr",
     "output_type": "stream",
     "text": [
      "train batches: 100%|██████████| 121/121 [01:44<00:00,  1.16it/s, loss: 1.398]\n"
     ]
    },
    {
     "name": "stdout",
     "output_type": "stream",
     "text": [
      "Adjusting learning rate of group 0 to 2.0000e-06.\n",
      "Average epoch loss: 1.2036892648570794\n"
     ]
    },
    {
     "name": "stderr",
     "output_type": "stream",
     "text": [
      "dev batches: 100%|██████████| 22/22 [00:05<00:00,  3.77it/s,  acc: 0.789 f1: 0.727 rec: 0.727]\n"
     ]
    },
    {
     "name": "stdout",
     "output_type": "stream",
     "text": [
      "Epoch accuracy on dev: 0.786\n",
      "Epoch f1 on dev: 0.724\n",
      "Epoch recall on dev: 0.724\n",
      "\n",
      "Epoch: 36 of 100\n",
      "\n",
      "Generate siamese dataset\n"
     ]
    },
    {
     "name": "stderr",
     "output_type": "stream",
     "text": [
      "claims: 100%|██████████| 1228/1228 [00:06<00:00, 189.13it/s]\n"
     ]
    },
    {
     "name": "stdout",
     "output_type": "stream",
     "text": [
      "Generated data n=7693\n"
     ]
    },
    {
     "name": "stderr",
     "output_type": "stream",
     "text": [
      "train batches: 100%|██████████| 121/121 [01:45<00:00,  1.14it/s, loss: 1.173]\n"
     ]
    },
    {
     "name": "stdout",
     "output_type": "stream",
     "text": [
      "Adjusting learning rate of group 0 to 2.0000e-06.\n",
      "Average epoch loss: 1.1940935416655107\n",
      "Saved model to: /Users/johnsonzhou/git/comp90042-project/result/models/model_03_run_01_base_2023_05_01_23_07.pth\n",
      "Epoch: 37 of 100\n",
      "\n",
      "Generate siamese dataset\n"
     ]
    },
    {
     "name": "stderr",
     "output_type": "stream",
     "text": [
      "claims: 100%|██████████| 1228/1228 [00:06<00:00, 187.93it/s]\n"
     ]
    },
    {
     "name": "stdout",
     "output_type": "stream",
     "text": [
      "Generated data n=7693\n"
     ]
    },
    {
     "name": "stderr",
     "output_type": "stream",
     "text": [
      "train batches: 100%|██████████| 121/121 [01:45<00:00,  1.15it/s, loss: 1.296]\n"
     ]
    },
    {
     "name": "stdout",
     "output_type": "stream",
     "text": [
      "Adjusting learning rate of group 0 to 2.0000e-06.\n",
      "Average epoch loss: 1.1804965537441663\n",
      "Saved model to: /Users/johnsonzhou/git/comp90042-project/result/models/model_03_run_01_base_2023_05_01_23_07.pth\n",
      "Epoch: 38 of 100\n",
      "\n",
      "Generate siamese dataset\n"
     ]
    },
    {
     "name": "stderr",
     "output_type": "stream",
     "text": [
      "claims: 100%|██████████| 1228/1228 [00:06<00:00, 188.33it/s]\n"
     ]
    },
    {
     "name": "stdout",
     "output_type": "stream",
     "text": [
      "Generated data n=7693\n"
     ]
    },
    {
     "name": "stderr",
     "output_type": "stream",
     "text": [
      "train batches: 100%|██████████| 121/121 [01:45<00:00,  1.15it/s, loss: 1.402]\n"
     ]
    },
    {
     "name": "stdout",
     "output_type": "stream",
     "text": [
      "Adjusting learning rate of group 0 to 2.0000e-06.\n",
      "Average epoch loss: 1.1883822098251218\n",
      "Epoch: 39 of 100\n",
      "\n",
      "Generate siamese dataset\n"
     ]
    },
    {
     "name": "stderr",
     "output_type": "stream",
     "text": [
      "claims: 100%|██████████| 1228/1228 [00:06<00:00, 187.56it/s]\n"
     ]
    },
    {
     "name": "stdout",
     "output_type": "stream",
     "text": [
      "Generated data n=7693\n"
     ]
    },
    {
     "name": "stderr",
     "output_type": "stream",
     "text": [
      "train batches: 100%|██████████| 121/121 [01:44<00:00,  1.16it/s, loss: 1.403]\n"
     ]
    },
    {
     "name": "stdout",
     "output_type": "stream",
     "text": [
      "Adjusting learning rate of group 0 to 2.0000e-06.\n",
      "Average epoch loss: 1.1933931023621362\n",
      "Epoch: 40 of 100\n",
      "\n",
      "Generate siamese dataset\n"
     ]
    },
    {
     "name": "stderr",
     "output_type": "stream",
     "text": [
      "claims: 100%|██████████| 1228/1228 [00:06<00:00, 186.33it/s]\n"
     ]
    },
    {
     "name": "stdout",
     "output_type": "stream",
     "text": [
      "Generated data n=7693\n"
     ]
    },
    {
     "name": "stderr",
     "output_type": "stream",
     "text": [
      "train batches: 100%|██████████| 121/121 [01:45<00:00,  1.15it/s, loss: 0.941]\n"
     ]
    },
    {
     "name": "stdout",
     "output_type": "stream",
     "text": [
      "Adjusting learning rate of group 0 to 2.0000e-06.\n",
      "Average epoch loss: 1.1876138293546092\n",
      "Saved model to: /Users/johnsonzhou/git/comp90042-project/result/models/model_03_run_01_base_2023_05_01_23_07.pth\n"
     ]
    },
    {
     "name": "stderr",
     "output_type": "stream",
     "text": [
      "dev batches: 100%|██████████| 22/22 [00:05<00:00,  3.76it/s,  acc: 0.794 f1: 0.733 rec: 0.733]\n"
     ]
    },
    {
     "name": "stdout",
     "output_type": "stream",
     "text": [
      "Epoch accuracy on dev: 0.792\n",
      "Epoch f1 on dev: 0.730\n",
      "Epoch recall on dev: 0.730\n",
      "\n",
      "Epoch: 41 of 100\n",
      "\n",
      "Generate siamese dataset\n"
     ]
    },
    {
     "name": "stderr",
     "output_type": "stream",
     "text": [
      "claims: 100%|██████████| 1228/1228 [00:06<00:00, 186.84it/s]\n"
     ]
    },
    {
     "name": "stdout",
     "output_type": "stream",
     "text": [
      "Generated data n=7693\n"
     ]
    },
    {
     "name": "stderr",
     "output_type": "stream",
     "text": [
      "train batches: 100%|██████████| 121/121 [01:44<00:00,  1.15it/s, loss: 1.164]\n"
     ]
    },
    {
     "name": "stdout",
     "output_type": "stream",
     "text": [
      "Adjusting learning rate of group 0 to 2.0000e-06.\n",
      "Average epoch loss: 1.1680641772825855\n",
      "Saved model to: /Users/johnsonzhou/git/comp90042-project/result/models/model_03_run_01_base_2023_05_01_23_07.pth\n",
      "Epoch: 42 of 100\n",
      "\n",
      "Generate siamese dataset\n"
     ]
    },
    {
     "name": "stderr",
     "output_type": "stream",
     "text": [
      "claims: 100%|██████████| 1228/1228 [00:06<00:00, 187.06it/s]\n"
     ]
    },
    {
     "name": "stdout",
     "output_type": "stream",
     "text": [
      "Generated data n=7693\n"
     ]
    },
    {
     "name": "stderr",
     "output_type": "stream",
     "text": [
      "train batches: 100%|██████████| 121/121 [01:44<00:00,  1.16it/s, loss: 1.548]\n"
     ]
    },
    {
     "name": "stdout",
     "output_type": "stream",
     "text": [
      "Adjusting learning rate of group 0 to 2.0000e-06.\n",
      "Average epoch loss: 1.1880789391758029\n",
      "Epoch: 43 of 100\n",
      "\n",
      "Generate siamese dataset\n"
     ]
    },
    {
     "name": "stderr",
     "output_type": "stream",
     "text": [
      "claims: 100%|██████████| 1228/1228 [00:06<00:00, 187.55it/s]\n"
     ]
    },
    {
     "name": "stdout",
     "output_type": "stream",
     "text": [
      "Generated data n=7693\n"
     ]
    },
    {
     "name": "stderr",
     "output_type": "stream",
     "text": [
      "train batches: 100%|██████████| 121/121 [01:44<00:00,  1.16it/s, loss: 1.401]\n"
     ]
    },
    {
     "name": "stdout",
     "output_type": "stream",
     "text": [
      "Adjusting learning rate of group 0 to 2.0000e-06.\n",
      "Average epoch loss: 1.177235478950926\n",
      "Saved model to: /Users/johnsonzhou/git/comp90042-project/result/models/model_03_run_01_base_2023_05_01_23_07.pth\n",
      "Epoch: 44 of 100\n",
      "\n",
      "Generate siamese dataset\n"
     ]
    },
    {
     "name": "stderr",
     "output_type": "stream",
     "text": [
      "claims: 100%|██████████| 1228/1228 [00:06<00:00, 188.73it/s]\n"
     ]
    },
    {
     "name": "stdout",
     "output_type": "stream",
     "text": [
      "Generated data n=7693\n"
     ]
    },
    {
     "name": "stderr",
     "output_type": "stream",
     "text": [
      "train batches: 100%|██████████| 121/121 [01:45<00:00,  1.15it/s, loss: 0.941]\n"
     ]
    },
    {
     "name": "stdout",
     "output_type": "stream",
     "text": [
      "Adjusting learning rate of group 0 to 2.0000e-06.\n",
      "Average epoch loss: 1.1698007184611865\n",
      "Saved model to: /Users/johnsonzhou/git/comp90042-project/result/models/model_03_run_01_base_2023_05_01_23_07.pth\n",
      "Epoch: 45 of 100\n",
      "\n",
      "Generate siamese dataset\n"
     ]
    },
    {
     "name": "stderr",
     "output_type": "stream",
     "text": [
      "claims: 100%|██████████| 1228/1228 [00:06<00:00, 188.18it/s]\n"
     ]
    },
    {
     "name": "stdout",
     "output_type": "stream",
     "text": [
      "Generated data n=7693\n"
     ]
    },
    {
     "name": "stderr",
     "output_type": "stream",
     "text": [
      "train batches: 100%|██████████| 121/121 [01:44<00:00,  1.16it/s, loss: 1.010]\n"
     ]
    },
    {
     "name": "stdout",
     "output_type": "stream",
     "text": [
      "Adjusting learning rate of group 0 to 2.0000e-06.\n",
      "Average epoch loss: 1.162754298980571\n",
      "Saved model to: /Users/johnsonzhou/git/comp90042-project/result/models/model_03_run_01_base_2023_05_01_23_07.pth\n"
     ]
    },
    {
     "name": "stderr",
     "output_type": "stream",
     "text": [
      "dev batches: 100%|██████████| 22/22 [00:05<00:00,  3.75it/s,  acc: 0.799 f1: 0.737 rec: 0.737]\n"
     ]
    },
    {
     "name": "stdout",
     "output_type": "stream",
     "text": [
      "Epoch accuracy on dev: 0.797\n",
      "Epoch f1 on dev: 0.735\n",
      "Epoch recall on dev: 0.735\n",
      "\n",
      "Epoch: 46 of 100\n",
      "\n",
      "Generate siamese dataset\n"
     ]
    },
    {
     "name": "stderr",
     "output_type": "stream",
     "text": [
      "claims: 100%|██████████| 1228/1228 [00:06<00:00, 187.72it/s]\n"
     ]
    },
    {
     "name": "stdout",
     "output_type": "stream",
     "text": [
      "Generated data n=7693\n"
     ]
    },
    {
     "name": "stderr",
     "output_type": "stream",
     "text": [
      "train batches: 100%|██████████| 121/121 [01:44<00:00,  1.16it/s, loss: 1.226]\n"
     ]
    },
    {
     "name": "stdout",
     "output_type": "stream",
     "text": [
      "Adjusting learning rate of group 0 to 2.0000e-06.\n",
      "Average epoch loss: 1.1654598757255177\n",
      "Epoch: 47 of 100\n",
      "\n",
      "Generate siamese dataset\n"
     ]
    },
    {
     "name": "stderr",
     "output_type": "stream",
     "text": [
      "claims: 100%|██████████| 1228/1228 [00:06<00:00, 186.75it/s]\n"
     ]
    },
    {
     "name": "stdout",
     "output_type": "stream",
     "text": [
      "Generated data n=7693\n"
     ]
    },
    {
     "name": "stderr",
     "output_type": "stream",
     "text": [
      "train batches: 100%|██████████| 121/121 [01:44<00:00,  1.16it/s, loss: 1.177]\n"
     ]
    },
    {
     "name": "stdout",
     "output_type": "stream",
     "text": [
      "Adjusting learning rate of group 0 to 2.0000e-06.\n",
      "Average epoch loss: 1.1680036731495345\n",
      "Epoch: 48 of 100\n",
      "\n",
      "Generate siamese dataset\n"
     ]
    },
    {
     "name": "stderr",
     "output_type": "stream",
     "text": [
      "claims: 100%|██████████| 1228/1228 [00:06<00:00, 187.15it/s]\n"
     ]
    },
    {
     "name": "stdout",
     "output_type": "stream",
     "text": [
      "Generated data n=7693\n"
     ]
    },
    {
     "name": "stderr",
     "output_type": "stream",
     "text": [
      "train batches: 100%|██████████| 121/121 [01:44<00:00,  1.16it/s, loss: 1.411]\n"
     ]
    },
    {
     "name": "stdout",
     "output_type": "stream",
     "text": [
      "Adjusting learning rate of group 0 to 2.0000e-06.\n",
      "Average epoch loss: 1.159905521091351\n",
      "Saved model to: /Users/johnsonzhou/git/comp90042-project/result/models/model_03_run_01_base_2023_05_01_23_07.pth\n",
      "Epoch: 49 of 100\n",
      "\n",
      "Generate siamese dataset\n"
     ]
    },
    {
     "name": "stderr",
     "output_type": "stream",
     "text": [
      "claims: 100%|██████████| 1228/1228 [00:06<00:00, 186.41it/s]\n"
     ]
    },
    {
     "name": "stdout",
     "output_type": "stream",
     "text": [
      "Generated data n=7693\n"
     ]
    },
    {
     "name": "stderr",
     "output_type": "stream",
     "text": [
      "train batches: 100%|██████████| 121/121 [01:44<00:00,  1.16it/s, loss: 0.943]\n"
     ]
    },
    {
     "name": "stdout",
     "output_type": "stream",
     "text": [
      "Adjusting learning rate of group 0 to 2.0000e-06.\n",
      "Average epoch loss: 1.1531196327741482\n",
      "Saved model to: /Users/johnsonzhou/git/comp90042-project/result/models/model_03_run_01_base_2023_05_01_23_07.pth\n",
      "Epoch: 50 of 100\n",
      "\n",
      "Generate siamese dataset\n"
     ]
    },
    {
     "name": "stderr",
     "output_type": "stream",
     "text": [
      "claims: 100%|██████████| 1228/1228 [00:06<00:00, 187.71it/s]\n"
     ]
    },
    {
     "name": "stdout",
     "output_type": "stream",
     "text": [
      "Generated data n=7693\n"
     ]
    },
    {
     "name": "stderr",
     "output_type": "stream",
     "text": [
      "train batches: 100%|██████████| 121/121 [01:45<00:00,  1.15it/s, loss: 0.985]\n"
     ]
    },
    {
     "name": "stdout",
     "output_type": "stream",
     "text": [
      "Adjusting learning rate of group 0 to 2.0000e-06.\n",
      "Average epoch loss: 1.1680524006855388\n"
     ]
    },
    {
     "name": "stderr",
     "output_type": "stream",
     "text": [
      "dev batches: 100%|██████████| 22/22 [00:05<00:00,  3.72it/s,  acc: 0.803 f1: 0.742 rec: 0.742]\n"
     ]
    },
    {
     "name": "stdout",
     "output_type": "stream",
     "text": [
      "Epoch accuracy on dev: 0.801\n",
      "Epoch f1 on dev: 0.740\n",
      "Epoch recall on dev: 0.740\n",
      "\n",
      "Epoch: 51 of 100\n",
      "\n",
      "Generate siamese dataset\n"
     ]
    },
    {
     "name": "stderr",
     "output_type": "stream",
     "text": [
      "claims: 100%|██████████| 1228/1228 [00:06<00:00, 187.97it/s]\n"
     ]
    },
    {
     "name": "stdout",
     "output_type": "stream",
     "text": [
      "Generated data n=7693\n"
     ]
    },
    {
     "name": "stderr",
     "output_type": "stream",
     "text": [
      "train batches: 100%|██████████| 121/121 [01:45<00:00,  1.14it/s, loss: 1.171]\n"
     ]
    },
    {
     "name": "stdout",
     "output_type": "stream",
     "text": [
      "Adjusting learning rate of group 0 to 2.0000e-06.\n",
      "Average epoch loss: 1.1443446212071033\n",
      "Saved model to: /Users/johnsonzhou/git/comp90042-project/result/models/model_03_run_01_base_2023_05_01_23_07.pth\n",
      "Epoch: 52 of 100\n",
      "\n",
      "Generate siamese dataset\n"
     ]
    },
    {
     "name": "stderr",
     "output_type": "stream",
     "text": [
      "claims: 100%|██████████| 1228/1228 [00:06<00:00, 188.51it/s]\n"
     ]
    },
    {
     "name": "stdout",
     "output_type": "stream",
     "text": [
      "Generated data n=7693\n"
     ]
    },
    {
     "name": "stderr",
     "output_type": "stream",
     "text": [
      "train batches: 100%|██████████| 121/121 [01:44<00:00,  1.15it/s, loss: 1.922]\n"
     ]
    },
    {
     "name": "stdout",
     "output_type": "stream",
     "text": [
      "Adjusting learning rate of group 0 to 2.0000e-06.\n",
      "Average epoch loss: 1.1654003728027187\n",
      "Epoch: 53 of 100\n",
      "\n",
      "Generate siamese dataset\n"
     ]
    },
    {
     "name": "stderr",
     "output_type": "stream",
     "text": [
      "claims: 100%|██████████| 1228/1228 [00:06<00:00, 182.95it/s]\n"
     ]
    },
    {
     "name": "stdout",
     "output_type": "stream",
     "text": [
      "Generated data n=7693\n"
     ]
    },
    {
     "name": "stderr",
     "output_type": "stream",
     "text": [
      "train batches: 100%|██████████| 121/121 [01:45<00:00,  1.15it/s, loss: 1.172]\n"
     ]
    },
    {
     "name": "stdout",
     "output_type": "stream",
     "text": [
      "Adjusting learning rate of group 0 to 2.0000e-06.\n",
      "Average epoch loss: 1.1565275662694097\n",
      "Saved model to: /Users/johnsonzhou/git/comp90042-project/result/models/model_03_run_01_base_2023_05_01_23_07.pth\n",
      "Epoch: 54 of 100\n",
      "\n",
      "Generate siamese dataset\n"
     ]
    },
    {
     "name": "stderr",
     "output_type": "stream",
     "text": [
      "claims: 100%|██████████| 1228/1228 [00:06<00:00, 187.90it/s]\n"
     ]
    },
    {
     "name": "stdout",
     "output_type": "stream",
     "text": [
      "Generated data n=7693\n"
     ]
    },
    {
     "name": "stderr",
     "output_type": "stream",
     "text": [
      "train batches: 100%|██████████| 121/121 [01:44<00:00,  1.16it/s, loss: 1.178]\n"
     ]
    },
    {
     "name": "stdout",
     "output_type": "stream",
     "text": [
      "Adjusting learning rate of group 0 to 2.0000e-06.\n",
      "Average epoch loss: 1.1552124163828605\n",
      "Saved model to: /Users/johnsonzhou/git/comp90042-project/result/models/model_03_run_01_base_2023_05_01_23_07.pth\n",
      "Epoch: 55 of 100\n",
      "\n",
      "Generate siamese dataset\n"
     ]
    },
    {
     "name": "stderr",
     "output_type": "stream",
     "text": [
      "claims: 100%|██████████| 1228/1228 [00:06<00:00, 187.37it/s]\n"
     ]
    },
    {
     "name": "stdout",
     "output_type": "stream",
     "text": [
      "Generated data n=7693\n"
     ]
    },
    {
     "name": "stderr",
     "output_type": "stream",
     "text": [
      "train batches: 100%|██████████| 121/121 [01:44<00:00,  1.16it/s, loss: 1.081]\n"
     ]
    },
    {
     "name": "stdout",
     "output_type": "stream",
     "text": [
      "Adjusting learning rate of group 0 to 2.0000e-06.\n",
      "Average epoch loss: 1.158671263820869\n"
     ]
    },
    {
     "name": "stderr",
     "output_type": "stream",
     "text": [
      "dev batches: 100%|██████████| 22/22 [00:05<00:00,  3.71it/s,  acc: 0.806 f1: 0.745 rec: 0.745]\n"
     ]
    },
    {
     "name": "stdout",
     "output_type": "stream",
     "text": [
      "Epoch accuracy on dev: 0.805\n",
      "Epoch f1 on dev: 0.743\n",
      "Epoch recall on dev: 0.743\n",
      "\n",
      "Epoch: 56 of 100\n",
      "\n",
      "Generate siamese dataset\n"
     ]
    },
    {
     "name": "stderr",
     "output_type": "stream",
     "text": [
      "claims: 100%|██████████| 1228/1228 [00:06<00:00, 185.86it/s]\n"
     ]
    },
    {
     "name": "stdout",
     "output_type": "stream",
     "text": [
      "Generated data n=7693\n"
     ]
    },
    {
     "name": "stderr",
     "output_type": "stream",
     "text": [
      "train batches: 100%|██████████| 121/121 [01:43<00:00,  1.17it/s, loss: 1.104]\n"
     ]
    },
    {
     "name": "stdout",
     "output_type": "stream",
     "text": [
      "Adjusting learning rate of group 0 to 2.0000e-06.\n",
      "Average epoch loss: 1.1591322018095285\n",
      "Epoch: 57 of 100\n",
      "\n",
      "Generate siamese dataset\n"
     ]
    },
    {
     "name": "stderr",
     "output_type": "stream",
     "text": [
      "claims: 100%|██████████| 1228/1228 [00:06<00:00, 187.45it/s]\n"
     ]
    },
    {
     "name": "stdout",
     "output_type": "stream",
     "text": [
      "Generated data n=7693\n"
     ]
    },
    {
     "name": "stderr",
     "output_type": "stream",
     "text": [
      "train batches: 100%|██████████| 121/121 [01:45<00:00,  1.15it/s, loss: 1.201]\n"
     ]
    },
    {
     "name": "stdout",
     "output_type": "stream",
     "text": [
      "Adjusting learning rate of group 0 to 2.0000e-06.\n",
      "Average epoch loss: 1.1570096796701763\n",
      "Saved model to: /Users/johnsonzhou/git/comp90042-project/result/models/model_03_run_01_base_2023_05_01_23_07.pth\n",
      "Epoch: 58 of 100\n",
      "\n",
      "Generate siamese dataset\n"
     ]
    },
    {
     "name": "stderr",
     "output_type": "stream",
     "text": [
      "claims: 100%|██████████| 1228/1228 [00:06<00:00, 187.89it/s]\n"
     ]
    },
    {
     "name": "stdout",
     "output_type": "stream",
     "text": [
      "Generated data n=7693\n"
     ]
    },
    {
     "name": "stderr",
     "output_type": "stream",
     "text": [
      "train batches: 100%|██████████| 121/121 [01:44<00:00,  1.16it/s, loss: 0.940]\n"
     ]
    },
    {
     "name": "stdout",
     "output_type": "stream",
     "text": [
      "Adjusting learning rate of group 0 to 2.0000e-06.\n",
      "Average epoch loss: 1.1511653590300852\n",
      "Saved model to: /Users/johnsonzhou/git/comp90042-project/result/models/model_03_run_01_base_2023_05_01_23_07.pth\n",
      "Epoch: 59 of 100\n",
      "\n",
      "Generate siamese dataset\n"
     ]
    },
    {
     "name": "stderr",
     "output_type": "stream",
     "text": [
      "claims: 100%|██████████| 1228/1228 [00:06<00:00, 187.68it/s]\n"
     ]
    },
    {
     "name": "stdout",
     "output_type": "stream",
     "text": [
      "Generated data n=7693\n"
     ]
    },
    {
     "name": "stderr",
     "output_type": "stream",
     "text": [
      "train batches: 100%|██████████| 121/121 [01:44<00:00,  1.15it/s, loss: 1.567]\n"
     ]
    },
    {
     "name": "stdout",
     "output_type": "stream",
     "text": [
      "Adjusting learning rate of group 0 to 2.0000e-06.\n",
      "Average epoch loss: 1.1510806994989884\n",
      "Saved model to: /Users/johnsonzhou/git/comp90042-project/result/models/model_03_run_01_base_2023_05_01_23_07.pth\n",
      "Epoch: 60 of 100\n",
      "\n",
      "Generate siamese dataset\n"
     ]
    },
    {
     "name": "stderr",
     "output_type": "stream",
     "text": [
      "claims: 100%|██████████| 1228/1228 [00:06<00:00, 187.54it/s]\n"
     ]
    },
    {
     "name": "stdout",
     "output_type": "stream",
     "text": [
      "Generated data n=7693\n"
     ]
    },
    {
     "name": "stderr",
     "output_type": "stream",
     "text": [
      "train batches: 100%|██████████| 121/121 [01:44<00:00,  1.16it/s, loss: 1.029]\n"
     ]
    },
    {
     "name": "stdout",
     "output_type": "stream",
     "text": [
      "Adjusting learning rate of group 0 to 2.0000e-06.\n",
      "Average epoch loss: 1.1476330582267982\n",
      "Saved model to: /Users/johnsonzhou/git/comp90042-project/result/models/model_03_run_01_base_2023_05_01_23_07.pth\n"
     ]
    },
    {
     "name": "stderr",
     "output_type": "stream",
     "text": [
      "dev batches: 100%|██████████| 22/22 [00:05<00:00,  3.73it/s,  acc: 0.809 f1: 0.748 rec: 0.748]\n"
     ]
    },
    {
     "name": "stdout",
     "output_type": "stream",
     "text": [
      "Epoch accuracy on dev: 0.808\n",
      "Epoch f1 on dev: 0.746\n",
      "Epoch recall on dev: 0.746\n",
      "\n",
      "Epoch: 61 of 100\n",
      "\n",
      "Generate siamese dataset\n"
     ]
    },
    {
     "name": "stderr",
     "output_type": "stream",
     "text": [
      "claims: 100%|██████████| 1228/1228 [00:06<00:00, 187.66it/s]\n"
     ]
    },
    {
     "name": "stdout",
     "output_type": "stream",
     "text": [
      "Generated data n=7693\n"
     ]
    },
    {
     "name": "stderr",
     "output_type": "stream",
     "text": [
      "train batches: 100%|██████████| 121/121 [01:45<00:00,  1.15it/s, loss: 1.163]\n"
     ]
    },
    {
     "name": "stdout",
     "output_type": "stream",
     "text": [
      "Adjusting learning rate of group 0 to 2.0000e-06.\n",
      "Average epoch loss: 1.1593439322857817\n",
      "Epoch: 62 of 100\n",
      "\n",
      "Generate siamese dataset\n"
     ]
    },
    {
     "name": "stderr",
     "output_type": "stream",
     "text": [
      "claims: 100%|██████████| 1228/1228 [00:06<00:00, 187.00it/s]\n"
     ]
    },
    {
     "name": "stdout",
     "output_type": "stream",
     "text": [
      "Generated data n=7693\n"
     ]
    },
    {
     "name": "stderr",
     "output_type": "stream",
     "text": [
      "train batches: 100%|██████████| 121/121 [01:44<00:00,  1.16it/s, loss: 1.172]\n"
     ]
    },
    {
     "name": "stdout",
     "output_type": "stream",
     "text": [
      "Adjusting learning rate of group 0 to 2.0000e-06.\n",
      "Average epoch loss: 1.1539781724125886\n",
      "Saved model to: /Users/johnsonzhou/git/comp90042-project/result/models/model_03_run_01_base_2023_05_01_23_07.pth\n",
      "Epoch: 63 of 100\n",
      "\n",
      "Generate siamese dataset\n"
     ]
    },
    {
     "name": "stderr",
     "output_type": "stream",
     "text": [
      "claims: 100%|██████████| 1228/1228 [00:06<00:00, 188.37it/s]\n"
     ]
    },
    {
     "name": "stdout",
     "output_type": "stream",
     "text": [
      "Generated data n=7693\n"
     ]
    },
    {
     "name": "stderr",
     "output_type": "stream",
     "text": [
      "train batches: 100%|██████████| 121/121 [01:44<00:00,  1.15it/s, loss: 0.940]\n"
     ]
    },
    {
     "name": "stdout",
     "output_type": "stream",
     "text": [
      "Adjusting learning rate of group 0 to 2.0000e-06.\n",
      "Average epoch loss: 1.1274150425244953\n",
      "Saved model to: /Users/johnsonzhou/git/comp90042-project/result/models/model_03_run_01_base_2023_05_01_23_07.pth\n",
      "Epoch: 64 of 100\n",
      "\n",
      "Generate siamese dataset\n"
     ]
    },
    {
     "name": "stderr",
     "output_type": "stream",
     "text": [
      "claims: 100%|██████████| 1228/1228 [00:06<00:00, 188.01it/s]\n"
     ]
    },
    {
     "name": "stdout",
     "output_type": "stream",
     "text": [
      "Generated data n=7693\n"
     ]
    },
    {
     "name": "stderr",
     "output_type": "stream",
     "text": [
      "train batches: 100%|██████████| 121/121 [01:43<00:00,  1.17it/s, loss: 1.034]\n"
     ]
    },
    {
     "name": "stdout",
     "output_type": "stream",
     "text": [
      "Adjusting learning rate of group 0 to 2.0000e-06.\n",
      "Average epoch loss: 1.1437808245666756\n",
      "Epoch: 65 of 100\n",
      "\n",
      "Generate siamese dataset\n"
     ]
    },
    {
     "name": "stderr",
     "output_type": "stream",
     "text": [
      "claims: 100%|██████████| 1228/1228 [00:06<00:00, 183.72it/s]\n"
     ]
    },
    {
     "name": "stdout",
     "output_type": "stream",
     "text": [
      "Generated data n=7693\n"
     ]
    },
    {
     "name": "stderr",
     "output_type": "stream",
     "text": [
      "train batches: 100%|██████████| 121/121 [01:43<00:00,  1.16it/s, loss: 1.211]\n"
     ]
    },
    {
     "name": "stdout",
     "output_type": "stream",
     "text": [
      "Adjusting learning rate of group 0 to 2.0000e-06.\n",
      "Average epoch loss: 1.1362658276045619\n",
      "Saved model to: /Users/johnsonzhou/git/comp90042-project/result/models/model_03_run_01_base_2023_05_01_23_07.pth\n"
     ]
    },
    {
     "name": "stderr",
     "output_type": "stream",
     "text": [
      "dev batches: 100%|██████████| 22/22 [00:05<00:00,  3.75it/s,  acc: 0.812 f1: 0.749 rec: 0.749]\n"
     ]
    },
    {
     "name": "stdout",
     "output_type": "stream",
     "text": [
      "Epoch accuracy on dev: 0.810\n",
      "Epoch f1 on dev: 0.749\n",
      "Epoch recall on dev: 0.749\n",
      "\n",
      "Epoch: 66 of 100\n",
      "\n",
      "Generate siamese dataset\n"
     ]
    },
    {
     "name": "stderr",
     "output_type": "stream",
     "text": [
      "claims: 100%|██████████| 1228/1228 [00:06<00:00, 188.61it/s]\n"
     ]
    },
    {
     "name": "stdout",
     "output_type": "stream",
     "text": [
      "Generated data n=7693\n"
     ]
    },
    {
     "name": "stderr",
     "output_type": "stream",
     "text": [
      "train batches: 100%|██████████| 121/121 [01:45<00:00,  1.15it/s, loss: 1.051]\n"
     ]
    },
    {
     "name": "stdout",
     "output_type": "stream",
     "text": [
      "Adjusting learning rate of group 0 to 2.0000e-06.\n",
      "Average epoch loss: 1.1347789498400096\n",
      "Saved model to: /Users/johnsonzhou/git/comp90042-project/result/models/model_03_run_01_base_2023_05_01_23_07.pth\n",
      "Epoch: 67 of 100\n",
      "\n",
      "Generate siamese dataset\n"
     ]
    },
    {
     "name": "stderr",
     "output_type": "stream",
     "text": [
      "claims: 100%|██████████| 1228/1228 [00:06<00:00, 186.46it/s]\n"
     ]
    },
    {
     "name": "stdout",
     "output_type": "stream",
     "text": [
      "Generated data n=7693\n"
     ]
    },
    {
     "name": "stderr",
     "output_type": "stream",
     "text": [
      "train batches: 100%|██████████| 121/121 [01:45<00:00,  1.15it/s, loss: 1.172]\n"
     ]
    },
    {
     "name": "stdout",
     "output_type": "stream",
     "text": [
      "Adjusting learning rate of group 0 to 2.0000e-06.\n",
      "Average epoch loss: 1.1284156557449625\n",
      "Saved model to: /Users/johnsonzhou/git/comp90042-project/result/models/model_03_run_01_base_2023_05_01_23_07.pth\n",
      "Epoch: 68 of 100\n",
      "\n",
      "Generate siamese dataset\n"
     ]
    },
    {
     "name": "stderr",
     "output_type": "stream",
     "text": [
      "claims: 100%|██████████| 1228/1228 [00:06<00:00, 187.81it/s]\n"
     ]
    },
    {
     "name": "stdout",
     "output_type": "stream",
     "text": [
      "Generated data n=7693\n"
     ]
    },
    {
     "name": "stderr",
     "output_type": "stream",
     "text": [
      "train batches: 100%|██████████| 121/121 [01:45<00:00,  1.15it/s, loss: 1.171]\n"
     ]
    },
    {
     "name": "stdout",
     "output_type": "stream",
     "text": [
      "Adjusting learning rate of group 0 to 2.0000e-06.\n",
      "Average epoch loss: 1.1376145147095043\n",
      "Epoch: 69 of 100\n",
      "\n",
      "Generate siamese dataset\n"
     ]
    },
    {
     "name": "stderr",
     "output_type": "stream",
     "text": [
      "claims: 100%|██████████| 1228/1228 [00:06<00:00, 186.48it/s]\n"
     ]
    },
    {
     "name": "stdout",
     "output_type": "stream",
     "text": [
      "Generated data n=7693\n"
     ]
    },
    {
     "name": "stderr",
     "output_type": "stream",
     "text": [
      "train batches: 100%|██████████| 121/121 [01:45<00:00,  1.15it/s, loss: 1.573]\n"
     ]
    },
    {
     "name": "stdout",
     "output_type": "stream",
     "text": [
      "Adjusting learning rate of group 0 to 2.0000e-06.\n",
      "Average epoch loss: 1.1308643278504207\n",
      "Saved model to: /Users/johnsonzhou/git/comp90042-project/result/models/model_03_run_01_base_2023_05_01_23_07.pth\n",
      "Epoch: 70 of 100\n",
      "\n",
      "Generate siamese dataset\n"
     ]
    },
    {
     "name": "stderr",
     "output_type": "stream",
     "text": [
      "claims: 100%|██████████| 1228/1228 [00:06<00:00, 187.06it/s]\n"
     ]
    },
    {
     "name": "stdout",
     "output_type": "stream",
     "text": [
      "Generated data n=7693\n"
     ]
    },
    {
     "name": "stderr",
     "output_type": "stream",
     "text": [
      "train batches: 100%|██████████| 121/121 [01:45<00:00,  1.15it/s, loss: 1.114]\n"
     ]
    },
    {
     "name": "stdout",
     "output_type": "stream",
     "text": [
      "Adjusting learning rate of group 0 to 2.0000e-06.\n",
      "Average epoch loss: 1.1369210720554856\n"
     ]
    },
    {
     "name": "stderr",
     "output_type": "stream",
     "text": [
      "dev batches: 100%|██████████| 22/22 [00:05<00:00,  3.73it/s,  acc: 0.814 f1: 0.751 rec: 0.751]\n"
     ]
    },
    {
     "name": "stdout",
     "output_type": "stream",
     "text": [
      "Epoch accuracy on dev: 0.813\n",
      "Epoch f1 on dev: 0.750\n",
      "Epoch recall on dev: 0.750\n",
      "\n",
      "Epoch: 71 of 100\n",
      "\n",
      "Generate siamese dataset\n"
     ]
    },
    {
     "name": "stderr",
     "output_type": "stream",
     "text": [
      "claims: 100%|██████████| 1228/1228 [00:06<00:00, 186.09it/s]\n"
     ]
    },
    {
     "name": "stdout",
     "output_type": "stream",
     "text": [
      "Generated data n=7693\n"
     ]
    },
    {
     "name": "stderr",
     "output_type": "stream",
     "text": [
      "train batches: 100%|██████████| 121/121 [01:45<00:00,  1.15it/s, loss: 1.189]\n"
     ]
    },
    {
     "name": "stdout",
     "output_type": "stream",
     "text": [
      "Adjusting learning rate of group 0 to 2.0000e-06.\n",
      "Average epoch loss: 1.120794879996087\n",
      "Saved model to: /Users/johnsonzhou/git/comp90042-project/result/models/model_03_run_01_base_2023_05_01_23_07.pth\n",
      "Epoch: 72 of 100\n",
      "\n",
      "Generate siamese dataset\n"
     ]
    },
    {
     "name": "stderr",
     "output_type": "stream",
     "text": [
      "claims: 100%|██████████| 1228/1228 [00:06<00:00, 187.46it/s]\n"
     ]
    },
    {
     "name": "stdout",
     "output_type": "stream",
     "text": [
      "Generated data n=7693\n"
     ]
    },
    {
     "name": "stderr",
     "output_type": "stream",
     "text": [
      "train batches: 100%|██████████| 121/121 [01:45<00:00,  1.15it/s, loss: 1.102]\n"
     ]
    },
    {
     "name": "stdout",
     "output_type": "stream",
     "text": [
      "Adjusting learning rate of group 0 to 2.0000e-06.\n",
      "Average epoch loss: 1.1227812855696875\n",
      "Epoch: 73 of 100\n",
      "\n",
      "Generate siamese dataset\n"
     ]
    },
    {
     "name": "stderr",
     "output_type": "stream",
     "text": [
      "claims: 100%|██████████| 1228/1228 [00:06<00:00, 186.29it/s]\n"
     ]
    },
    {
     "name": "stdout",
     "output_type": "stream",
     "text": [
      "Generated data n=7693\n"
     ]
    },
    {
     "name": "stderr",
     "output_type": "stream",
     "text": [
      "train batches: 100%|██████████| 121/121 [01:46<00:00,  1.14it/s, loss: 1.171]\n"
     ]
    },
    {
     "name": "stdout",
     "output_type": "stream",
     "text": [
      "Adjusting learning rate of group 0 to 2.0000e-06.\n",
      "Average epoch loss: 1.1513384531352147\n",
      "Epoch: 74 of 100\n",
      "\n",
      "Generate siamese dataset\n"
     ]
    },
    {
     "name": "stderr",
     "output_type": "stream",
     "text": [
      "claims: 100%|██████████| 1228/1228 [00:06<00:00, 187.91it/s]\n"
     ]
    },
    {
     "name": "stdout",
     "output_type": "stream",
     "text": [
      "Generated data n=7693\n"
     ]
    },
    {
     "name": "stderr",
     "output_type": "stream",
     "text": [
      "train batches: 100%|██████████| 121/121 [01:45<00:00,  1.15it/s, loss: 1.401]\n"
     ]
    },
    {
     "name": "stdout",
     "output_type": "stream",
     "text": [
      "Adjusting learning rate of group 0 to 2.0000e-06.\n",
      "Average epoch loss: 1.1274598435429501\n",
      "Saved model to: /Users/johnsonzhou/git/comp90042-project/result/models/model_03_run_01_base_2023_05_01_23_07.pth\n",
      "Epoch: 75 of 100\n",
      "\n",
      "Generate siamese dataset\n"
     ]
    },
    {
     "name": "stderr",
     "output_type": "stream",
     "text": [
      "claims: 100%|██████████| 1228/1228 [00:06<00:00, 187.40it/s]\n"
     ]
    },
    {
     "name": "stdout",
     "output_type": "stream",
     "text": [
      "Generated data n=7693\n"
     ]
    },
    {
     "name": "stderr",
     "output_type": "stream",
     "text": [
      "train batches: 100%|██████████| 121/121 [01:44<00:00,  1.16it/s, loss: 1.173]\n"
     ]
    },
    {
     "name": "stdout",
     "output_type": "stream",
     "text": [
      "Adjusting learning rate of group 0 to 2.0000e-06.\n",
      "Average epoch loss: 1.144767465916547\n"
     ]
    },
    {
     "name": "stderr",
     "output_type": "stream",
     "text": [
      "dev batches: 100%|██████████| 22/22 [00:05<00:00,  3.75it/s,  acc: 0.815 f1: 0.752 rec: 0.752]\n"
     ]
    },
    {
     "name": "stdout",
     "output_type": "stream",
     "text": [
      "Epoch accuracy on dev: 0.814\n",
      "Epoch f1 on dev: 0.751\n",
      "Epoch recall on dev: 0.751\n",
      "\n",
      "Epoch: 76 of 100\n",
      "\n",
      "Generate siamese dataset\n"
     ]
    },
    {
     "name": "stderr",
     "output_type": "stream",
     "text": [
      "claims: 100%|██████████| 1228/1228 [00:06<00:00, 187.20it/s]\n"
     ]
    },
    {
     "name": "stdout",
     "output_type": "stream",
     "text": [
      "Generated data n=7693\n"
     ]
    },
    {
     "name": "stderr",
     "output_type": "stream",
     "text": [
      "train batches: 100%|██████████| 121/121 [01:43<00:00,  1.16it/s, loss: 0.940]\n"
     ]
    },
    {
     "name": "stdout",
     "output_type": "stream",
     "text": [
      "Adjusting learning rate of group 0 to 2.0000e-06.\n",
      "Average epoch loss: 1.1135745558364332\n",
      "Saved model to: /Users/johnsonzhou/git/comp90042-project/result/models/model_03_run_01_base_2023_05_01_23_07.pth\n",
      "Epoch: 77 of 100\n",
      "\n",
      "Generate siamese dataset\n"
     ]
    },
    {
     "name": "stderr",
     "output_type": "stream",
     "text": [
      "claims: 100%|██████████| 1228/1228 [00:06<00:00, 187.32it/s]\n"
     ]
    },
    {
     "name": "stdout",
     "output_type": "stream",
     "text": [
      "Generated data n=7693\n"
     ]
    },
    {
     "name": "stderr",
     "output_type": "stream",
     "text": [
      "train batches: 100%|██████████| 121/121 [01:44<00:00,  1.15it/s, loss: 1.000]\n"
     ]
    },
    {
     "name": "stdout",
     "output_type": "stream",
     "text": [
      "Adjusting learning rate of group 0 to 2.0000e-06.\n",
      "Average epoch loss: 1.135797239039555\n",
      "Epoch: 78 of 100\n",
      "\n",
      "Generate siamese dataset\n"
     ]
    },
    {
     "name": "stderr",
     "output_type": "stream",
     "text": [
      "claims: 100%|██████████| 1228/1228 [00:06<00:00, 185.60it/s]\n"
     ]
    },
    {
     "name": "stdout",
     "output_type": "stream",
     "text": [
      "Generated data n=7693\n"
     ]
    },
    {
     "name": "stderr",
     "output_type": "stream",
     "text": [
      "train batches: 100%|██████████| 121/121 [01:44<00:00,  1.16it/s, loss: 1.192]\n"
     ]
    },
    {
     "name": "stdout",
     "output_type": "stream",
     "text": [
      "Adjusting learning rate of group 0 to 2.0000e-06.\n",
      "Average epoch loss: 1.135993244973096\n",
      "Epoch: 79 of 100\n",
      "\n",
      "Generate siamese dataset\n"
     ]
    },
    {
     "name": "stderr",
     "output_type": "stream",
     "text": [
      "claims: 100%|██████████| 1228/1228 [00:06<00:00, 187.22it/s]\n"
     ]
    },
    {
     "name": "stdout",
     "output_type": "stream",
     "text": [
      "Generated data n=7693\n"
     ]
    },
    {
     "name": "stderr",
     "output_type": "stream",
     "text": [
      "train batches: 100%|██████████| 121/121 [01:43<00:00,  1.16it/s, loss: 0.940]\n"
     ]
    },
    {
     "name": "stdout",
     "output_type": "stream",
     "text": [
      "Adjusting learning rate of group 0 to 2.0000e-06.\n",
      "Average epoch loss: 1.1274315244402766\n",
      "Saved model to: /Users/johnsonzhou/git/comp90042-project/result/models/model_03_run_01_base_2023_05_01_23_07.pth\n",
      "Epoch: 80 of 100\n",
      "\n",
      "Generate siamese dataset\n"
     ]
    },
    {
     "name": "stderr",
     "output_type": "stream",
     "text": [
      "claims: 100%|██████████| 1228/1228 [00:06<00:00, 187.91it/s]\n"
     ]
    },
    {
     "name": "stdout",
     "output_type": "stream",
     "text": [
      "Generated data n=7693\n"
     ]
    },
    {
     "name": "stderr",
     "output_type": "stream",
     "text": [
      "train batches: 100%|██████████| 121/121 [01:45<00:00,  1.15it/s, loss: 1.401]\n"
     ]
    },
    {
     "name": "stdout",
     "output_type": "stream",
     "text": [
      "Adjusting learning rate of group 0 to 2.0000e-06.\n",
      "Average epoch loss: 1.1272837635406778\n",
      "Saved model to: /Users/johnsonzhou/git/comp90042-project/result/models/model_03_run_01_base_2023_05_01_23_07.pth\n"
     ]
    },
    {
     "name": "stderr",
     "output_type": "stream",
     "text": [
      "dev batches: 100%|██████████| 22/22 [00:05<00:00,  3.74it/s,  acc: 0.817 f1: 0.753 rec: 0.753]\n"
     ]
    },
    {
     "name": "stdout",
     "output_type": "stream",
     "text": [
      "Epoch accuracy on dev: 0.816\n",
      "Epoch f1 on dev: 0.752\n",
      "Epoch recall on dev: 0.752\n",
      "\n",
      "Epoch: 81 of 100\n",
      "\n",
      "Generate siamese dataset\n"
     ]
    },
    {
     "name": "stderr",
     "output_type": "stream",
     "text": [
      "claims: 100%|██████████| 1228/1228 [00:06<00:00, 187.31it/s]\n"
     ]
    },
    {
     "name": "stdout",
     "output_type": "stream",
     "text": [
      "Generated data n=7693\n"
     ]
    },
    {
     "name": "stderr",
     "output_type": "stream",
     "text": [
      "train batches: 100%|██████████| 121/121 [01:44<00:00,  1.16it/s, loss: 1.411]\n"
     ]
    },
    {
     "name": "stdout",
     "output_type": "stream",
     "text": [
      "Adjusting learning rate of group 0 to 2.0000e-06.\n",
      "Average epoch loss: 1.1266227541876233\n",
      "Saved model to: /Users/johnsonzhou/git/comp90042-project/result/models/model_03_run_01_base_2023_05_01_23_07.pth\n",
      "Epoch: 82 of 100\n",
      "\n",
      "Generate siamese dataset\n"
     ]
    },
    {
     "name": "stderr",
     "output_type": "stream",
     "text": [
      "claims: 100%|██████████| 1228/1228 [00:06<00:00, 187.62it/s]\n"
     ]
    },
    {
     "name": "stdout",
     "output_type": "stream",
     "text": [
      "Generated data n=7693\n"
     ]
    },
    {
     "name": "stderr",
     "output_type": "stream",
     "text": [
      "train batches: 100%|██████████| 121/121 [01:44<00:00,  1.15it/s, loss: 0.941]\n"
     ]
    },
    {
     "name": "stdout",
     "output_type": "stream",
     "text": [
      "Adjusting learning rate of group 0 to 2.0000e-06.\n",
      "Average epoch loss: 1.1253405370988137\n",
      "Saved model to: /Users/johnsonzhou/git/comp90042-project/result/models/model_03_run_01_base_2023_05_01_23_07.pth\n",
      "Epoch: 83 of 100\n",
      "\n",
      "Generate siamese dataset\n"
     ]
    },
    {
     "name": "stderr",
     "output_type": "stream",
     "text": [
      "claims: 100%|██████████| 1228/1228 [00:06<00:00, 187.87it/s]\n"
     ]
    },
    {
     "name": "stdout",
     "output_type": "stream",
     "text": [
      "Generated data n=7693\n"
     ]
    },
    {
     "name": "stderr",
     "output_type": "stream",
     "text": [
      "train batches: 100%|██████████| 121/121 [01:44<00:00,  1.16it/s, loss: 0.951]\n"
     ]
    },
    {
     "name": "stdout",
     "output_type": "stream",
     "text": [
      "Adjusting learning rate of group 0 to 2.0000e-06.\n",
      "Average epoch loss: 1.1048035232488773\n",
      "Saved model to: /Users/johnsonzhou/git/comp90042-project/result/models/model_03_run_01_base_2023_05_01_23_07.pth\n",
      "Epoch: 84 of 100\n",
      "\n",
      "Generate siamese dataset\n"
     ]
    },
    {
     "name": "stderr",
     "output_type": "stream",
     "text": [
      "claims: 100%|██████████| 1228/1228 [00:06<00:00, 187.55it/s]\n"
     ]
    },
    {
     "name": "stdout",
     "output_type": "stream",
     "text": [
      "Generated data n=7693\n"
     ]
    },
    {
     "name": "stderr",
     "output_type": "stream",
     "text": [
      "train batches: 100%|██████████| 121/121 [01:44<00:00,  1.16it/s, loss: 1.645]\n"
     ]
    },
    {
     "name": "stdout",
     "output_type": "stream",
     "text": [
      "Adjusting learning rate of group 0 to 2.0000e-06.\n",
      "Average epoch loss: 1.1214817198347453\n",
      "Epoch: 85 of 100\n",
      "\n",
      "Generate siamese dataset\n"
     ]
    },
    {
     "name": "stderr",
     "output_type": "stream",
     "text": [
      "claims: 100%|██████████| 1228/1228 [00:06<00:00, 187.18it/s]\n"
     ]
    },
    {
     "name": "stdout",
     "output_type": "stream",
     "text": [
      "Generated data n=7693\n"
     ]
    },
    {
     "name": "stderr",
     "output_type": "stream",
     "text": [
      "train batches: 100%|██████████| 121/121 [01:44<00:00,  1.16it/s, loss: 1.087]\n"
     ]
    },
    {
     "name": "stdout",
     "output_type": "stream",
     "text": [
      "Adjusting learning rate of group 0 to 2.0000e-06.\n",
      "Average epoch loss: 1.1271609183677957\n"
     ]
    },
    {
     "name": "stderr",
     "output_type": "stream",
     "text": [
      "dev batches: 100%|██████████| 22/22 [00:05<00:00,  3.74it/s,  acc: 0.818 f1: 0.753 rec: 0.753]\n"
     ]
    },
    {
     "name": "stdout",
     "output_type": "stream",
     "text": [
      "Epoch accuracy on dev: 0.817\n",
      "Epoch f1 on dev: 0.753\n",
      "Epoch recall on dev: 0.753\n",
      "\n",
      "Epoch: 86 of 100\n",
      "\n",
      "Generate siamese dataset\n"
     ]
    },
    {
     "name": "stderr",
     "output_type": "stream",
     "text": [
      "claims: 100%|██████████| 1228/1228 [00:06<00:00, 186.27it/s]\n"
     ]
    },
    {
     "name": "stdout",
     "output_type": "stream",
     "text": [
      "Generated data n=7693\n"
     ]
    },
    {
     "name": "stderr",
     "output_type": "stream",
     "text": [
      "train batches: 100%|██████████| 121/121 [01:44<00:00,  1.16it/s, loss: 1.399]\n"
     ]
    },
    {
     "name": "stdout",
     "output_type": "stream",
     "text": [
      "Adjusting learning rate of group 0 to 2.0000e-06.\n",
      "Average epoch loss: 1.1270839389690683\n",
      "Saved model to: /Users/johnsonzhou/git/comp90042-project/result/models/model_03_run_01_base_2023_05_01_23_07.pth\n",
      "Epoch: 87 of 100\n",
      "\n",
      "Generate siamese dataset\n"
     ]
    },
    {
     "name": "stderr",
     "output_type": "stream",
     "text": [
      "claims: 100%|██████████| 1228/1228 [00:06<00:00, 187.60it/s]\n"
     ]
    },
    {
     "name": "stdout",
     "output_type": "stream",
     "text": [
      "Generated data n=7693\n"
     ]
    },
    {
     "name": "stderr",
     "output_type": "stream",
     "text": [
      "train batches: 100%|██████████| 121/121 [01:43<00:00,  1.17it/s, loss: 1.172]\n"
     ]
    },
    {
     "name": "stdout",
     "output_type": "stream",
     "text": [
      "Adjusting learning rate of group 0 to 2.0000e-06.\n",
      "Average epoch loss: 1.1142758699980648\n",
      "Saved model to: /Users/johnsonzhou/git/comp90042-project/result/models/model_03_run_01_base_2023_05_01_23_07.pth\n",
      "Epoch: 88 of 100\n",
      "\n",
      "Generate siamese dataset\n"
     ]
    },
    {
     "name": "stderr",
     "output_type": "stream",
     "text": [
      "claims: 100%|██████████| 1228/1228 [00:06<00:00, 183.56it/s]\n"
     ]
    },
    {
     "name": "stdout",
     "output_type": "stream",
     "text": [
      "Generated data n=7693\n"
     ]
    },
    {
     "name": "stderr",
     "output_type": "stream",
     "text": [
      "train batches: 100%|██████████| 121/121 [01:44<00:00,  1.16it/s, loss: 0.990]\n"
     ]
    },
    {
     "name": "stdout",
     "output_type": "stream",
     "text": [
      "Adjusting learning rate of group 0 to 2.0000e-06.\n",
      "Average epoch loss: 1.1208055164695772\n",
      "Epoch: 89 of 100\n",
      "\n",
      "Generate siamese dataset\n"
     ]
    },
    {
     "name": "stderr",
     "output_type": "stream",
     "text": [
      "claims: 100%|██████████| 1228/1228 [00:06<00:00, 187.31it/s]\n"
     ]
    },
    {
     "name": "stdout",
     "output_type": "stream",
     "text": [
      "Generated data n=7693\n"
     ]
    },
    {
     "name": "stderr",
     "output_type": "stream",
     "text": [
      "train batches: 100%|██████████| 121/121 [01:45<00:00,  1.15it/s, loss: 1.410]\n"
     ]
    },
    {
     "name": "stdout",
     "output_type": "stream",
     "text": [
      "Adjusting learning rate of group 0 to 2.0000e-06.\n",
      "Average epoch loss: 1.115254128521139\n",
      "Saved model to: /Users/johnsonzhou/git/comp90042-project/result/models/model_03_run_01_base_2023_05_01_23_07.pth\n",
      "Epoch: 90 of 100\n",
      "\n",
      "Generate siamese dataset\n"
     ]
    },
    {
     "name": "stderr",
     "output_type": "stream",
     "text": [
      "claims: 100%|██████████| 1228/1228 [00:06<00:00, 187.77it/s]\n"
     ]
    },
    {
     "name": "stdout",
     "output_type": "stream",
     "text": [
      "Generated data n=7693\n"
     ]
    },
    {
     "name": "stderr",
     "output_type": "stream",
     "text": [
      "train batches: 100%|██████████| 121/121 [01:44<00:00,  1.16it/s, loss: 0.943]\n"
     ]
    },
    {
     "name": "stdout",
     "output_type": "stream",
     "text": [
      "Adjusting learning rate of group 0 to 2.0000e-06.\n",
      "Average epoch loss: 1.105979498999178\n",
      "Saved model to: /Users/johnsonzhou/git/comp90042-project/result/models/model_03_run_01_base_2023_05_01_23_07.pth\n"
     ]
    },
    {
     "name": "stderr",
     "output_type": "stream",
     "text": [
      "dev batches: 100%|██████████| 22/22 [00:05<00:00,  3.73it/s,  acc: 0.819 f1: 0.754 rec: 0.754]\n"
     ]
    },
    {
     "name": "stdout",
     "output_type": "stream",
     "text": [
      "Epoch accuracy on dev: 0.819\n",
      "Epoch f1 on dev: 0.754\n",
      "Epoch recall on dev: 0.754\n",
      "\n",
      "Epoch: 91 of 100\n",
      "\n",
      "Generate siamese dataset\n"
     ]
    },
    {
     "name": "stderr",
     "output_type": "stream",
     "text": [
      "claims: 100%|██████████| 1228/1228 [00:06<00:00, 186.38it/s]\n"
     ]
    },
    {
     "name": "stdout",
     "output_type": "stream",
     "text": [
      "Generated data n=7693\n"
     ]
    },
    {
     "name": "stderr",
     "output_type": "stream",
     "text": [
      "train batches: 100%|██████████| 121/121 [01:44<00:00,  1.16it/s, loss: 0.951]\n"
     ]
    },
    {
     "name": "stdout",
     "output_type": "stream",
     "text": [
      "Adjusting learning rate of group 0 to 2.0000e-06.\n",
      "Average epoch loss: 1.1174351206003141\n",
      "Epoch: 92 of 100\n",
      "\n",
      "Generate siamese dataset\n"
     ]
    },
    {
     "name": "stderr",
     "output_type": "stream",
     "text": [
      "claims: 100%|██████████| 1228/1228 [00:06<00:00, 186.17it/s]\n"
     ]
    },
    {
     "name": "stdout",
     "output_type": "stream",
     "text": [
      "Generated data n=7693\n"
     ]
    },
    {
     "name": "stderr",
     "output_type": "stream",
     "text": [
      "train batches: 100%|██████████| 121/121 [01:44<00:00,  1.15it/s, loss: 1.171]\n"
     ]
    },
    {
     "name": "stdout",
     "output_type": "stream",
     "text": [
      "Adjusting learning rate of group 0 to 2.0000e-06.\n",
      "Average epoch loss: 1.1043047498572955\n",
      "Saved model to: /Users/johnsonzhou/git/comp90042-project/result/models/model_03_run_01_base_2023_05_01_23_07.pth\n",
      "Epoch: 93 of 100\n",
      "\n",
      "Generate siamese dataset\n"
     ]
    },
    {
     "name": "stderr",
     "output_type": "stream",
     "text": [
      "claims: 100%|██████████| 1228/1228 [00:06<00:00, 186.99it/s]\n"
     ]
    },
    {
     "name": "stdout",
     "output_type": "stream",
     "text": [
      "Generated data n=7693\n"
     ]
    },
    {
     "name": "stderr",
     "output_type": "stream",
     "text": [
      "train batches: 100%|██████████| 121/121 [01:44<00:00,  1.16it/s, loss: 1.401]\n"
     ]
    },
    {
     "name": "stdout",
     "output_type": "stream",
     "text": [
      "Adjusting learning rate of group 0 to 2.0000e-06.\n",
      "Average epoch loss: 1.117117817490554\n",
      "Epoch: 94 of 100\n",
      "\n",
      "Generate siamese dataset\n"
     ]
    },
    {
     "name": "stderr",
     "output_type": "stream",
     "text": [
      "claims: 100%|██████████| 1228/1228 [00:06<00:00, 185.82it/s]\n"
     ]
    },
    {
     "name": "stdout",
     "output_type": "stream",
     "text": [
      "Generated data n=7693\n"
     ]
    },
    {
     "name": "stderr",
     "output_type": "stream",
     "text": [
      "train batches: 100%|██████████| 121/121 [01:45<00:00,  1.15it/s, loss: 1.170]\n"
     ]
    },
    {
     "name": "stdout",
     "output_type": "stream",
     "text": [
      "Adjusting learning rate of group 0 to 2.0000e-06.\n",
      "Average epoch loss: 1.1013108171707342\n",
      "Saved model to: /Users/johnsonzhou/git/comp90042-project/result/models/model_03_run_01_base_2023_05_01_23_07.pth\n",
      "Epoch: 95 of 100\n",
      "\n",
      "Generate siamese dataset\n"
     ]
    },
    {
     "name": "stderr",
     "output_type": "stream",
     "text": [
      "claims: 100%|██████████| 1228/1228 [00:06<00:00, 188.18it/s]\n"
     ]
    },
    {
     "name": "stdout",
     "output_type": "stream",
     "text": [
      "Generated data n=7693\n"
     ]
    },
    {
     "name": "stderr",
     "output_type": "stream",
     "text": [
      "train batches: 100%|██████████| 121/121 [01:45<00:00,  1.15it/s, loss: 1.403]\n"
     ]
    },
    {
     "name": "stdout",
     "output_type": "stream",
     "text": [
      "Adjusting learning rate of group 0 to 2.0000e-06.\n",
      "Average epoch loss: 1.1266289121848492\n"
     ]
    },
    {
     "name": "stderr",
     "output_type": "stream",
     "text": [
      "dev batches: 100%|██████████| 22/22 [00:05<00:00,  3.74it/s,  acc: 0.820 f1: 0.755 rec: 0.755]\n"
     ]
    },
    {
     "name": "stdout",
     "output_type": "stream",
     "text": [
      "Epoch accuracy on dev: 0.820\n",
      "Epoch f1 on dev: 0.755\n",
      "Epoch recall on dev: 0.755\n",
      "\n",
      "Epoch: 96 of 100\n",
      "\n",
      "Generate siamese dataset\n"
     ]
    },
    {
     "name": "stderr",
     "output_type": "stream",
     "text": [
      "claims: 100%|██████████| 1228/1228 [00:06<00:00, 186.60it/s]\n"
     ]
    },
    {
     "name": "stdout",
     "output_type": "stream",
     "text": [
      "Generated data n=7693\n"
     ]
    },
    {
     "name": "stderr",
     "output_type": "stream",
     "text": [
      "train batches: 100%|██████████| 121/121 [01:44<00:00,  1.15it/s, loss: 1.401]\n"
     ]
    },
    {
     "name": "stdout",
     "output_type": "stream",
     "text": [
      "Adjusting learning rate of group 0 to 2.0000e-06.\n",
      "Average epoch loss: 1.1069179315212345\n",
      "Saved model to: /Users/johnsonzhou/git/comp90042-project/result/models/model_03_run_01_base_2023_05_01_23_07.pth\n",
      "Epoch: 97 of 100\n",
      "\n",
      "Generate siamese dataset\n"
     ]
    },
    {
     "name": "stderr",
     "output_type": "stream",
     "text": [
      "claims: 100%|██████████| 1228/1228 [00:06<00:00, 186.74it/s]\n"
     ]
    },
    {
     "name": "stdout",
     "output_type": "stream",
     "text": [
      "Generated data n=7693\n"
     ]
    },
    {
     "name": "stderr",
     "output_type": "stream",
     "text": [
      "train batches: 100%|██████████| 121/121 [01:44<00:00,  1.16it/s, loss: 0.983]\n"
     ]
    },
    {
     "name": "stdout",
     "output_type": "stream",
     "text": [
      "Adjusting learning rate of group 0 to 2.0000e-06.\n",
      "Average epoch loss: 1.1115300128282595\n",
      "Epoch: 98 of 100\n",
      "\n",
      "Generate siamese dataset\n"
     ]
    },
    {
     "name": "stderr",
     "output_type": "stream",
     "text": [
      "claims: 100%|██████████| 1228/1228 [00:06<00:00, 185.98it/s]\n"
     ]
    },
    {
     "name": "stdout",
     "output_type": "stream",
     "text": [
      "Generated data n=7693\n"
     ]
    },
    {
     "name": "stderr",
     "output_type": "stream",
     "text": [
      "train batches: 100%|██████████| 121/121 [01:44<00:00,  1.16it/s, loss: 0.949]\n"
     ]
    },
    {
     "name": "stdout",
     "output_type": "stream",
     "text": [
      "Adjusting learning rate of group 0 to 2.0000e-06.\n",
      "Average epoch loss: 1.116132346559162\n",
      "Epoch: 99 of 100\n",
      "\n",
      "Generate siamese dataset\n"
     ]
    },
    {
     "name": "stderr",
     "output_type": "stream",
     "text": [
      "claims: 100%|██████████| 1228/1228 [00:06<00:00, 186.64it/s]\n"
     ]
    },
    {
     "name": "stdout",
     "output_type": "stream",
     "text": [
      "Generated data n=7693\n"
     ]
    },
    {
     "name": "stderr",
     "output_type": "stream",
     "text": [
      "train batches: 100%|██████████| 121/121 [01:46<00:00,  1.14it/s, loss: 0.941]\n"
     ]
    },
    {
     "name": "stdout",
     "output_type": "stream",
     "text": [
      "Adjusting learning rate of group 0 to 2.0000e-06.\n",
      "Average epoch loss: 1.109876610523413\n",
      "Saved model to: /Users/johnsonzhou/git/comp90042-project/result/models/model_03_run_01_base_2023_05_01_23_07.pth\n",
      "Done!\n"
     ]
    }
   ],
   "source": [
    "metric_accuracy = BinaryAccuracy()\n",
    "metric_f1 = BinaryF1Score()\n",
    "metric_recall = BinaryF1Score()\n",
    "\n",
    "scheduler = LinearLR(\n",
    "    optimizer=optimizer,\n",
    "    start_factor=0.1,\n",
    "    end_factor=1,\n",
    "    total_iters=int(N_EPOCHS/10),\n",
    "    verbose=True\n",
    ")\n",
    "last_epoch_loss = 999\n",
    "for epoch in range(N_EPOCHS):\n",
    "    \n",
    "    print(f\"Epoch: {epoch} of {N_EPOCHS}\\n\")\n",
    "    \n",
    "    # Run training\n",
    "    model.train()\n",
    "    \n",
    "    train_data = SiameseDataset(\n",
    "        claims_paths=[DATA_PATH.with_name(\"train-claims.json\")],\n",
    "        claims_shortlist_paths=[NER_PATH.with_name(\"train_claim_evidence_retrieved.json\")],\n",
    "        evidence_shortlists=[NER_PATH.with_name(\"shortlist_train_claim_evidence_retrieved.json\")],\n",
    "        evidence_path=DATA_PATH.with_name(\"evidence.json\"),\n",
    "        device=TORCH_DEVICE,\n",
    "        n_neg_shortlist=2,\n",
    "        n_neg_general=1\n",
    "    )\n",
    "    \n",
    "    train_dataloader = DataLoader(\n",
    "        dataset=train_data,\n",
    "        shuffle=True,\n",
    "        batch_size=BATCH_SIZE\n",
    "    )\n",
    "    \n",
    "    train_batches = tqdm(train_dataloader, desc=\"train batches\")\n",
    "    running_losses = []\n",
    "    for batch in train_batches:\n",
    "        claim_texts, evidence_texts, labels = batch\n",
    "        \n",
    "        # Reset optimizer\n",
    "        optimizer.zero_grad()\n",
    "        \n",
    "        # Forward + loss\n",
    "        predictions, *_ = model(claim_texts, evidence_texts)\n",
    "        loss = loss_fn(predictions, labels)\n",
    "        \n",
    "        # Backward + optimiser\n",
    "        loss.backward()\n",
    "        optimizer.step()\n",
    "        \n",
    "        # Update running loss\n",
    "        batch_loss = loss.item() * len(batch)\n",
    "        running_losses.append(batch_loss)\n",
    "        \n",
    "        train_batches.postfix = f\"loss: {batch_loss:.3f}\"\n",
    "        \n",
    "        continue\n",
    "    \n",
    "    scheduler.step()\n",
    "    \n",
    "    epoch_loss = np.average(running_losses)\n",
    "    print(f\"Average epoch loss: {epoch_loss}\")\n",
    "    \n",
    "    # Save model\n",
    "    if epoch_loss <= last_epoch_loss:\n",
    "        torch.save(model, MODEL_PATH.with_name(MODEL_NAME))\n",
    "        print(f\"Saved model to: {MODEL_PATH.with_name(MODEL_NAME)}\")\n",
    "    last_epoch_loss = epoch_loss\n",
    "    \n",
    "    # Evaluate every 5 epochs\n",
    "    if epoch % 5 != 0:\n",
    "        continue\n",
    "    \n",
    "    # Run evaluation\n",
    "    model.eval()\n",
    "    \n",
    "    dev_batches = tqdm(dev_dataloader, desc=\"dev batches\")\n",
    "    dev_acc = []\n",
    "    dev_f1 = []\n",
    "    dev_rec = []\n",
    "    for batch in dev_batches:\n",
    "        claim_texts, evidence_texts, labels = batch\n",
    "        \n",
    "        # Forward\n",
    "        predictions, *_ = model(claim_texts, evidence_texts)\n",
    "        \n",
    "        # Prediction\n",
    "        _, predicted = torch.max(predictions, dim=-1)\n",
    "        \n",
    "        # Metrics\n",
    "        metric_accuracy.update(predicted.cpu(), labels.cpu())\n",
    "        metric_f1.update(predicted.cpu(), labels.cpu())\n",
    "        metric_recall.update(predicted.cpu(), labels.cpu())\n",
    "        \n",
    "        acc = metric_accuracy.compute()\n",
    "        f1 = metric_f1.compute()\n",
    "        rec = metric_recall.compute()\n",
    "        \n",
    "        dev_acc.append(acc)\n",
    "        dev_f1.append(f1)\n",
    "        dev_rec.append(rec)\n",
    "        \n",
    "        dev_batches.postfix = \\\n",
    "            f\" acc: {acc:.3f}\" \\\n",
    "            + f\" f1: {f1:.3f}\" \\\n",
    "            + f\" rec: {rec:.3f}\"\n",
    "        \n",
    "        continue\n",
    "    \n",
    "    val_acc = np.mean(dev_acc)\n",
    "    val_f1 = np.mean(dev_f1)\n",
    "    val_rec = np.mean(dev_rec)\n",
    "    \n",
    "    print(f\"Epoch accuracy on dev: {val_acc:.3f}\")\n",
    "    print(f\"Epoch f1 on dev: {val_f1:.3f}\")\n",
    "    print(f\"Epoch recall on dev: {val_rec:.3f}\\n\")\n",
    "\n",
    "print(\"Done!\")"
   ]
  },
  {
   "attachments": {},
   "cell_type": "markdown",
   "metadata": {},
   "source": [
    "model_03_run_01_base_2023_05_01_22_46: good candidate, LR = 0.00005, epoch loss = 1.272 after 9 epochs"
   ]
  }
 ],
 "metadata": {
  "kernelspec": {
   "display_name": "comp90042_project",
   "language": "python",
   "name": "python3"
  },
  "language_info": {
   "codemirror_mode": {
    "name": "ipython",
    "version": 3
   },
   "file_extension": ".py",
   "mimetype": "text/x-python",
   "name": "python",
   "nbconvert_exporter": "python",
   "pygments_lexer": "ipython3",
   "version": "3.8.16"
  },
  "orig_nbformat": 4
 },
 "nbformat": 4,
 "nbformat_minor": 2
}
