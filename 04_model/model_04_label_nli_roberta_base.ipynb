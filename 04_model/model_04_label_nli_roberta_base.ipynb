{
 "cells": [
  {
   "attachments": {},
   "cell_type": "markdown",
   "metadata": {},
   "source": [
    "# Model 04\n",
    "\n",
    "Prediction of claim labels based on the matched evidence.\n",
    "\n",
    "Ref:\n",
    "- [Hugging face pre-trained models](https://huggingface.co/transformers/v3.3.1/pretrained_models.html)\n",
    "- [Hugging face guide to fine-tuning](https://huggingface.co/transformers/v3.3.1/custom_datasets.html)\n",
    "- [Hugging face guide to fine-tuning easy](https://huggingface.co/docs/transformers/training)\n",
    "- [SO Guide](https://stackoverflow.com/a/64156912)\n",
    "- [roberta-large-mnli](https://github.com/facebookresearch/fairseq/tree/main/examples/roberta)"
   ]
  },
  {
   "attachments": {},
   "cell_type": "markdown",
   "metadata": {},
   "source": [
    "## Setup"
   ]
  },
  {
   "attachments": {},
   "cell_type": "markdown",
   "metadata": {},
   "source": [
    "### Working Directory"
   ]
  },
  {
   "cell_type": "code",
   "execution_count": 1,
   "metadata": {},
   "outputs": [],
   "source": [
    "# Change the working directory to project root\n",
    "from pathlib import Path\n",
    "import os\n",
    "ROOT_DIR = Path.cwd()\n",
    "while not ROOT_DIR.joinpath(\"src\").exists():\n",
    "    ROOT_DIR = ROOT_DIR.parent\n",
    "os.chdir(ROOT_DIR)"
   ]
  },
  {
   "attachments": {},
   "cell_type": "markdown",
   "metadata": {},
   "source": [
    "### File paths"
   ]
  },
  {
   "cell_type": "code",
   "execution_count": 2,
   "metadata": {},
   "outputs": [],
   "source": [
    "MODEL_PATH = ROOT_DIR.joinpath(\"./result/models/*\")\n",
    "DATA_PATH = ROOT_DIR.joinpath(\"./data/*\")\n",
    "NER_PATH = ROOT_DIR.joinpath(\"./result/ner/*\")"
   ]
  },
  {
   "attachments": {},
   "cell_type": "markdown",
   "metadata": {},
   "source": [
    "### Dependencies"
   ]
  },
  {
   "cell_type": "code",
   "execution_count": 3,
   "metadata": {},
   "outputs": [
    {
     "name": "stderr",
     "output_type": "stream",
     "text": [
      "/opt/homebrew/Caskroom/miniconda/base/envs/comp90042_project/lib/python3.8/site-packages/tqdm/auto.py:21: TqdmWarning: IProgress not found. Please update jupyter and ipywidgets. See https://ipywidgets.readthedocs.io/en/stable/user_install.html\n",
      "  from .autonotebook import tqdm as notebook_tqdm\n"
     ]
    },
    {
     "name": "stdout",
     "output_type": "stream",
     "text": [
      "Torch device is 'mps'\n"
     ]
    }
   ],
   "source": [
    "# Imports and dependencies\n",
    "import torch\n",
    "from torch.utils.data import Dataset, DataLoader\n",
    "from torch.nn import Linear, Module, CrossEntropyLoss, Dropout\n",
    "from transformers import RobertaModel, RobertaTokenizer\n",
    "from torch.optim import Adam\n",
    "from torch.optim.lr_scheduler import LinearLR\n",
    "from torch.nn.functional import relu, softmax\n",
    "from torcheval.metrics import MulticlassAccuracy, MulticlassF1Score\n",
    "\n",
    "from src.torch_utils import get_torch_device\n",
    "import json\n",
    "from dataclasses import dataclass\n",
    "from typing import List, Union, Tuple\n",
    "from tqdm import tqdm\n",
    "import random\n",
    "import numpy as np\n",
    "from datetime import datetime\n",
    "from math import exp\n",
    "\n",
    "TORCH_DEVICE = get_torch_device()"
   ]
  },
  {
   "attachments": {},
   "cell_type": "markdown",
   "metadata": {},
   "source": [
    "## Dataset"
   ]
  },
  {
   "cell_type": "code",
   "execution_count": 4,
   "metadata": {},
   "outputs": [],
   "source": [
    "@dataclass\n",
    "class ClaimEvidencePair:\n",
    "    claim_id:str\n",
    "    evidence_id:str\n",
    "    label:int = 0"
   ]
  },
  {
   "cell_type": "code",
   "execution_count": 5,
   "metadata": {},
   "outputs": [],
   "source": [
    "class SiameseLabelDataset(Dataset):\n",
    "    \n",
    "    # Pre-trained model has:\n",
    "    # label_map = {0: 'contradiction', 1: 'neutral', 2: 'entailment'}\n",
    "    LABEL_MAP = {\n",
    "        \"REFUTES\": [0],\n",
    "        \"NOT_ENOUGH_INFO\": [1],\n",
    "        \"SUPPORTS\": [2],\n",
    "        \"DISPUTED\": [0, 2],\n",
    "    }\n",
    "    \n",
    "    def __init__(\n",
    "        self,\n",
    "        claims_paths:List[Path],\n",
    "        evidence_path:Path,\n",
    "        device = None,\n",
    "        verbose:bool=True\n",
    "    ) -> None:\n",
    "        super(SiameseLabelDataset, self).__init__()\n",
    "        self.verbose = verbose\n",
    "        self.device = device\n",
    "\n",
    "        # Load claims data from json, this is a list as we could use\n",
    "        # multiple json files in the same dataset\n",
    "        self.claims = dict()\n",
    "        for json_file in claims_paths:\n",
    "            with open(json_file, mode=\"r\") as f:\n",
    "                self.claims.update(json.load(fp=f))\n",
    "        \n",
    "        # Load evidence library\n",
    "        self.evidence = dict()\n",
    "        with open(evidence_path, mode=\"r\") as f:\n",
    "            self.evidence.update(json.load(fp=f))\n",
    "        \n",
    "        # Generate the data\n",
    "        self.data = self.__generate_data()\n",
    "        return\n",
    "\n",
    "    def __generate_data(self):\n",
    "        print(\"Generate siamese dataset\")\n",
    "        \n",
    "        data = []\n",
    "        for claim_id, claim in tqdm(\n",
    "            iterable=self.claims.items(),\n",
    "            desc=\"claims\",\n",
    "            disable=not self.verbose\n",
    "        ):\n",
    "            # Get evidence ids associated with each claim\n",
    "            evidence_ids = claim[\"evidences\"]\n",
    "            \n",
    "            # Get the claim label\n",
    "            label = claim[\"claim_label\"]\n",
    "            \n",
    "            # Encode the label\n",
    "            label_encodings = self.LABEL_MAP.get(label, 99)\n",
    "            \n",
    "            if 99 in label_encodings:\n",
    "                print(f\"Invalid label {label} for {claim_id}\")\n",
    "                \n",
    "            for label_encoding in label_encodings:\n",
    "                \n",
    "                # Assign the labels to each claim/evidence pairs\n",
    "                for evidence_id in evidence_ids:\n",
    "                    data.append(ClaimEvidencePair(\n",
    "                        claim_id=claim_id,\n",
    "                        evidence_id=evidence_id,\n",
    "                        label=label_encoding\n",
    "                    ))\n",
    "            \n",
    "            continue\n",
    "        \n",
    "        print(f\"Generated data n={len(data)}\")\n",
    "        \n",
    "        return data\n",
    "\n",
    "    def __len__(self):\n",
    "        return len(self.data)\n",
    "    \n",
    "    def __getitem__(self, idx) -> Tuple[Union[str, torch.Tensor]]:\n",
    "        # Fetch the required data rows\n",
    "        data = self.data[idx]\n",
    "        \n",
    "        # Get the label\n",
    "        label = torch.tensor(data.label, device=self.device)\n",
    "        # label = torch.unsqueeze(label, -1)\n",
    "        \n",
    "        # Get text ids\n",
    "        claim_id = data.claim_id\n",
    "        evidence_id = data.evidence_id\n",
    "        \n",
    "        # Get text\n",
    "        claim_text = self.claims[claim_id][\"claim_text\"]\n",
    "        evidence_text = self.evidence[evidence_id]\n",
    "\n",
    "        return (claim_text, evidence_text, label)"
   ]
  },
  {
   "attachments": {},
   "cell_type": "markdown",
   "metadata": {},
   "source": [
    "## Build model"
   ]
  },
  {
   "cell_type": "code",
   "execution_count": 6,
   "metadata": {},
   "outputs": [],
   "source": [
    "class SiameseClassifierRoberta(Module):\n",
    "    \n",
    "    def __init__(\n",
    "            self,\n",
    "            pretrained_name:str,\n",
    "            device,\n",
    "            **kwargs\n",
    "        ) -> None:\n",
    "        super(SiameseClassifierRoberta, self).__init__(**kwargs)\n",
    "        self.device = device\n",
    "        \n",
    "        # Use a pretrained tokenizer\n",
    "        self.tokenizer = RobertaTokenizer.from_pretrained(pretrained_name)\n",
    "        \n",
    "        # Use a pretrained model\n",
    "        self.bert = RobertaModel.from_pretrained(pretrained_name)\n",
    "        self.bert.to(device=device)\n",
    "        \n",
    "        # Classification layers\n",
    "        self.linear1 = Linear(768, 256, bias=True, device=device)\n",
    "        self.linear2 = Linear(256, 3, bias=True, device=device)\n",
    "        self.relu = relu\n",
    "        self.softmax = softmax\n",
    "        self.dropout_in = Dropout(p=0.2)\n",
    "        self.dropout_out = Dropout(p=0.5)\n",
    "        return\n",
    "        \n",
    "    def forward(self, claim_texts, evidence_texts) -> Tuple[torch.Tensor]:\n",
    "        \n",
    "        # Run the tokenizer\n",
    "        t_kwargs = {\n",
    "            \"return_tensors\": \"pt\",\n",
    "            \"padding\": True,\n",
    "            \"truncation\": True,\n",
    "            \"max_length\": 512,\n",
    "            \"add_special_tokens\":True\n",
    "        }\n",
    "        # Use a cross-encoding pattern\n",
    "        x = self.tokenizer(claim_texts, evidence_texts, **t_kwargs)\n",
    "        x = x[\"input_ids\"].to(device=self.device)\n",
    "        x = self.bert(x, return_dict=True).pooler_output\n",
    "        # dim=768\n",
    "        \n",
    "        # Run classification layers\n",
    "        x = self.dropout_in(x)\n",
    "        x = self.linear1(x)\n",
    "        x = self.relu(x)\n",
    "        x = self.dropout_out(x)\n",
    "        x = self.linear2(x)\n",
    "        \n",
    "        # Create the predictions\n",
    "        y = self.softmax(x, dim=1)\n",
    "        \n",
    "        return y"
   ]
  },
  {
   "attachments": {},
   "cell_type": "markdown",
   "metadata": {},
   "source": [
    "## Training and evaluation loop"
   ]
  },
  {
   "cell_type": "code",
   "execution_count": 7,
   "metadata": {},
   "outputs": [],
   "source": [
    "CHECKPOINT_NAME = f\"model_04_roberta_base_3_class.pth\"\n",
    "with open(MODEL_PATH.with_name(CHECKPOINT_NAME), mode=\"rb\") as f:\n",
    "    model = torch.load(f)"
   ]
  },
  {
   "cell_type": "code",
   "execution_count": 8,
   "metadata": {},
   "outputs": [],
   "source": [
    "# model = SiameseClassifierRoberta(\n",
    "#     pretrained_name=\"roberta-base\",\n",
    "#     device=TORCH_DEVICE\n",
    "# )"
   ]
  },
  {
   "cell_type": "code",
   "execution_count": 9,
   "metadata": {},
   "outputs": [],
   "source": [
    "loss_fn = CrossEntropyLoss()\n",
    "optimizer = Adam(\n",
    "    params=model.parameters(),\n",
    "    lr=0.000002\n",
    ") #! Hyperparams"
   ]
  },
  {
   "cell_type": "code",
   "execution_count": 10,
   "metadata": {},
   "outputs": [],
   "source": [
    "run_time = datetime.now().strftime('%Y_%m_%d_%H_%M')\n",
    "# MODEL_NAME = f\"model_04_roberta_base_{run_time}.pth\"\n",
    "MODEL_NAME = CHECKPOINT_NAME\n",
    "N_EPOCHS = 100\n",
    "BATCH_SIZE = 24\n"
   ]
  },
  {
   "cell_type": "code",
   "execution_count": 11,
   "metadata": {},
   "outputs": [
    {
     "name": "stdout",
     "output_type": "stream",
     "text": [
      "Generate siamese dataset\n"
     ]
    },
    {
     "name": "stderr",
     "output_type": "stream",
     "text": [
      "claims: 100%|██████████| 1228/1228 [00:00<00:00, 566685.59it/s]"
     ]
    },
    {
     "name": "stdout",
     "output_type": "stream",
     "text": [
      "Generated data n=4514\n"
     ]
    },
    {
     "name": "stderr",
     "output_type": "stream",
     "text": [
      "\n"
     ]
    }
   ],
   "source": [
    "train_data = SiameseLabelDataset(\n",
    "    claims_paths=[DATA_PATH.with_name(\"train-claims.json\")],\n",
    "    evidence_path=DATA_PATH.with_name(\"evidence.json\"),\n",
    "    device=TORCH_DEVICE,\n",
    ")\n",
    "\n",
    "train_dataloader = DataLoader(\n",
    "    dataset=train_data,\n",
    "    shuffle=True,\n",
    "    batch_size=BATCH_SIZE\n",
    ")"
   ]
  },
  {
   "cell_type": "code",
   "execution_count": 12,
   "metadata": {},
   "outputs": [
    {
     "name": "stdout",
     "output_type": "stream",
     "text": [
      "Generate siamese dataset\n"
     ]
    },
    {
     "name": "stderr",
     "output_type": "stream",
     "text": [
      "claims: 100%|██████████| 154/154 [00:00<00:00, 594772.39it/s]"
     ]
    },
    {
     "name": "stdout",
     "output_type": "stream",
     "text": [
      "Generated data n=549\n"
     ]
    },
    {
     "name": "stderr",
     "output_type": "stream",
     "text": [
      "\n"
     ]
    }
   ],
   "source": [
    "dev_data = SiameseLabelDataset(\n",
    "    claims_paths=[DATA_PATH.with_name(\"dev-claims.json\")],\n",
    "    evidence_path=DATA_PATH.with_name(\"evidence.json\"),\n",
    "    device=TORCH_DEVICE,\n",
    ")\n",
    "\n",
    "dev_dataloader = DataLoader(\n",
    "    dataset=dev_data,\n",
    "    shuffle=False,\n",
    "    batch_size=BATCH_SIZE\n",
    ")"
   ]
  },
  {
   "cell_type": "code",
   "execution_count": 13,
   "metadata": {},
   "outputs": [],
   "source": [
    "import warnings\n",
    "warnings.filterwarnings('ignore')"
   ]
  },
  {
   "cell_type": "code",
   "execution_count": 14,
   "metadata": {},
   "outputs": [
    {
     "name": "stdout",
     "output_type": "stream",
     "text": [
      "Adjusting learning rate of group 0 to 2.0000e-07.\n",
      "Epoch: 0 of 100\n",
      "\n"
     ]
    },
    {
     "name": "stderr",
     "output_type": "stream",
     "text": [
      "train batches: 100%|██████████| 189/189 [01:17<00:00,  2.44it/s, loss: 2.110]\n"
     ]
    },
    {
     "name": "stdout",
     "output_type": "stream",
     "text": [
      "Adjusting learning rate of group 0 to 3.8000e-07.\n",
      "Average epoch loss: 2.5900415816004316\n",
      "Saved model to: /Users/johnsonzhou/git/comp90042-project/result/models/model_04_roberta_base_3_class.pth\n"
     ]
    },
    {
     "name": "stderr",
     "output_type": "stream",
     "text": [
      "dev batches: 100%|██████████| 23/23 [00:04<00:00,  5.66it/s,  acc: 0.472 f1: 0.472]\n"
     ]
    },
    {
     "name": "stdout",
     "output_type": "stream",
     "text": [
      "Epoch accuracy on dev: 0.471\n",
      "Epoch f1 on dev: 0.471\n",
      "Epoch: 1 of 100\n",
      "\n"
     ]
    },
    {
     "name": "stderr",
     "output_type": "stream",
     "text": [
      "train batches: 100%|██████████| 189/189 [01:10<00:00,  2.69it/s, loss: 1.743]\n"
     ]
    },
    {
     "name": "stdout",
     "output_type": "stream",
     "text": [
      "Adjusting learning rate of group 0 to 5.6000e-07.\n",
      "Average epoch loss: 2.574190516320486\n",
      "Saved model to: /Users/johnsonzhou/git/comp90042-project/result/models/model_04_roberta_base_3_class.pth\n"
     ]
    },
    {
     "name": "stderr",
     "output_type": "stream",
     "text": [
      "dev batches: 100%|██████████| 23/23 [00:02<00:00,  9.79it/s,  acc: 0.470 f1: 0.470]\n"
     ]
    },
    {
     "name": "stdout",
     "output_type": "stream",
     "text": [
      "Epoch accuracy on dev: 0.471\n",
      "Epoch f1 on dev: 0.471\n",
      "Epoch: 2 of 100\n",
      "\n"
     ]
    },
    {
     "name": "stderr",
     "output_type": "stream",
     "text": [
      "train batches: 100%|██████████| 189/189 [01:07<00:00,  2.82it/s, loss: 1.760]\n"
     ]
    },
    {
     "name": "stdout",
     "output_type": "stream",
     "text": [
      "Adjusting learning rate of group 0 to 7.4000e-07.\n",
      "Average epoch loss: 2.558910616806575\n",
      "Saved model to: /Users/johnsonzhou/git/comp90042-project/result/models/model_04_roberta_base_3_class.pth\n"
     ]
    },
    {
     "name": "stderr",
     "output_type": "stream",
     "text": [
      "dev batches: 100%|██████████| 23/23 [00:02<00:00,  9.67it/s,  acc: 0.472 f1: 0.472]\n"
     ]
    },
    {
     "name": "stdout",
     "output_type": "stream",
     "text": [
      "Epoch accuracy on dev: 0.471\n",
      "Epoch f1 on dev: 0.471\n",
      "Epoch: 3 of 100\n",
      "\n"
     ]
    },
    {
     "name": "stderr",
     "output_type": "stream",
     "text": [
      "train batches: 100%|██████████| 189/189 [01:07<00:00,  2.81it/s, loss: 4.395]\n"
     ]
    },
    {
     "name": "stdout",
     "output_type": "stream",
     "text": [
      "Adjusting learning rate of group 0 to 9.2000e-07.\n",
      "Average epoch loss: 2.5703778068224588\n"
     ]
    },
    {
     "name": "stderr",
     "output_type": "stream",
     "text": [
      "dev batches: 100%|██████████| 23/23 [00:02<00:00,  9.55it/s,  acc: 0.476 f1: 0.476]\n"
     ]
    },
    {
     "name": "stdout",
     "output_type": "stream",
     "text": [
      "Epoch accuracy on dev: 0.474\n",
      "Epoch f1 on dev: 0.474\n",
      "Epoch: 4 of 100\n",
      "\n"
     ]
    },
    {
     "name": "stderr",
     "output_type": "stream",
     "text": [
      "train batches: 100%|██████████| 189/189 [01:06<00:00,  2.85it/s, loss: 3.172]\n"
     ]
    },
    {
     "name": "stdout",
     "output_type": "stream",
     "text": [
      "Adjusting learning rate of group 0 to 1.1000e-06.\n",
      "Average epoch loss: 2.540627516451336\n",
      "Saved model to: /Users/johnsonzhou/git/comp90042-project/result/models/model_04_roberta_base_3_class.pth\n"
     ]
    },
    {
     "name": "stderr",
     "output_type": "stream",
     "text": [
      "dev batches: 100%|██████████| 23/23 [00:02<00:00,  9.79it/s,  acc: 0.482 f1: 0.482]\n"
     ]
    },
    {
     "name": "stdout",
     "output_type": "stream",
     "text": [
      "Epoch accuracy on dev: 0.479\n",
      "Epoch f1 on dev: 0.479\n",
      "Epoch: 5 of 100\n",
      "\n"
     ]
    },
    {
     "name": "stderr",
     "output_type": "stream",
     "text": [
      "train batches: 100%|██████████| 189/189 [01:06<00:00,  2.83it/s, loss: 3.018]\n"
     ]
    },
    {
     "name": "stdout",
     "output_type": "stream",
     "text": [
      "Adjusting learning rate of group 0 to 1.2800e-06.\n",
      "Average epoch loss: 2.530042542351617\n",
      "Saved model to: /Users/johnsonzhou/git/comp90042-project/result/models/model_04_roberta_base_3_class.pth\n"
     ]
    },
    {
     "name": "stderr",
     "output_type": "stream",
     "text": [
      "dev batches: 100%|██████████| 23/23 [00:02<00:00,  9.12it/s,  acc: 0.485 f1: 0.485]\n"
     ]
    },
    {
     "name": "stdout",
     "output_type": "stream",
     "text": [
      "Epoch accuracy on dev: 0.484\n",
      "Epoch f1 on dev: 0.484\n",
      "Epoch: 6 of 100\n",
      "\n"
     ]
    },
    {
     "name": "stderr",
     "output_type": "stream",
     "text": [
      "train batches: 100%|██████████| 189/189 [01:07<00:00,  2.82it/s, loss: 1.738]\n"
     ]
    },
    {
     "name": "stdout",
     "output_type": "stream",
     "text": [
      "Adjusting learning rate of group 0 to 1.4600e-06.\n",
      "Average epoch loss: 2.498065792378925\n",
      "Saved model to: /Users/johnsonzhou/git/comp90042-project/result/models/model_04_roberta_base_3_class.pth\n"
     ]
    },
    {
     "name": "stderr",
     "output_type": "stream",
     "text": [
      "dev batches: 100%|██████████| 23/23 [00:02<00:00,  9.19it/s,  acc: 0.487 f1: 0.487]\n"
     ]
    },
    {
     "name": "stdout",
     "output_type": "stream",
     "text": [
      "Epoch accuracy on dev: 0.486\n",
      "Epoch f1 on dev: 0.486\n",
      "Epoch: 7 of 100\n",
      "\n"
     ]
    },
    {
     "name": "stderr",
     "output_type": "stream",
     "text": [
      "train batches: 100%|██████████| 189/189 [01:06<00:00,  2.84it/s, loss: 2.770]\n"
     ]
    },
    {
     "name": "stdout",
     "output_type": "stream",
     "text": [
      "Adjusting learning rate of group 0 to 1.6400e-06.\n",
      "Average epoch loss: 2.495964423058525\n",
      "Saved model to: /Users/johnsonzhou/git/comp90042-project/result/models/model_04_roberta_base_3_class.pth\n"
     ]
    },
    {
     "name": "stderr",
     "output_type": "stream",
     "text": [
      "dev batches: 100%|██████████| 23/23 [00:02<00:00,  9.21it/s,  acc: 0.488 f1: 0.488]\n"
     ]
    },
    {
     "name": "stdout",
     "output_type": "stream",
     "text": [
      "Epoch accuracy on dev: 0.488\n",
      "Epoch f1 on dev: 0.488\n",
      "Epoch: 8 of 100\n",
      "\n"
     ]
    },
    {
     "name": "stderr",
     "output_type": "stream",
     "text": [
      "train batches: 100%|██████████| 189/189 [01:05<00:00,  2.88it/s, loss: 1.694]\n"
     ]
    },
    {
     "name": "stdout",
     "output_type": "stream",
     "text": [
      "Adjusting learning rate of group 0 to 1.8200e-06.\n",
      "Average epoch loss: 2.4709754444303966\n",
      "Saved model to: /Users/johnsonzhou/git/comp90042-project/result/models/model_04_roberta_base_3_class.pth\n"
     ]
    },
    {
     "name": "stderr",
     "output_type": "stream",
     "text": [
      "dev batches: 100%|██████████| 23/23 [00:02<00:00,  9.44it/s,  acc: 0.487 f1: 0.487]\n"
     ]
    },
    {
     "name": "stdout",
     "output_type": "stream",
     "text": [
      "Epoch accuracy on dev: 0.488\n",
      "Epoch f1 on dev: 0.488\n",
      "Epoch: 9 of 100\n",
      "\n"
     ]
    },
    {
     "name": "stderr",
     "output_type": "stream",
     "text": [
      "train batches: 100%|██████████| 189/189 [01:07<00:00,  2.82it/s, loss: 1.690]\n"
     ]
    },
    {
     "name": "stdout",
     "output_type": "stream",
     "text": [
      "Adjusting learning rate of group 0 to 2.0000e-06.\n",
      "Average epoch loss: 2.461363661856878\n",
      "Saved model to: /Users/johnsonzhou/git/comp90042-project/result/models/model_04_roberta_base_3_class.pth\n"
     ]
    },
    {
     "name": "stderr",
     "output_type": "stream",
     "text": [
      "dev batches: 100%|██████████| 23/23 [00:02<00:00,  9.61it/s,  acc: 0.489 f1: 0.489]\n"
     ]
    },
    {
     "name": "stdout",
     "output_type": "stream",
     "text": [
      "Epoch accuracy on dev: 0.487\n",
      "Epoch f1 on dev: 0.487\n",
      "Epoch: 10 of 100\n",
      "\n"
     ]
    },
    {
     "name": "stderr",
     "output_type": "stream",
     "text": [
      "train batches: 100%|██████████| 189/189 [01:05<00:00,  2.87it/s, loss: 1.686]\n"
     ]
    },
    {
     "name": "stdout",
     "output_type": "stream",
     "text": [
      "Adjusting learning rate of group 0 to 2.0000e-06.\n",
      "Average epoch loss: 2.432876607728383\n",
      "Saved model to: /Users/johnsonzhou/git/comp90042-project/result/models/model_04_roberta_base_3_class.pth\n"
     ]
    },
    {
     "name": "stderr",
     "output_type": "stream",
     "text": [
      "dev batches: 100%|██████████| 23/23 [00:02<00:00,  9.49it/s,  acc: 0.489 f1: 0.489]\n"
     ]
    },
    {
     "name": "stdout",
     "output_type": "stream",
     "text": [
      "Epoch accuracy on dev: 0.489\n",
      "Epoch f1 on dev: 0.489\n",
      "Epoch: 11 of 100\n",
      "\n"
     ]
    },
    {
     "name": "stderr",
     "output_type": "stream",
     "text": [
      "train batches: 100%|██████████| 189/189 [01:05<00:00,  2.87it/s, loss: 3.147]\n"
     ]
    },
    {
     "name": "stdout",
     "output_type": "stream",
     "text": [
      "Adjusting learning rate of group 0 to 2.0000e-06.\n",
      "Average epoch loss: 2.4248313714587497\n",
      "Saved model to: /Users/johnsonzhou/git/comp90042-project/result/models/model_04_roberta_base_3_class.pth\n"
     ]
    },
    {
     "name": "stderr",
     "output_type": "stream",
     "text": [
      "dev batches: 100%|██████████| 23/23 [00:02<00:00,  9.57it/s,  acc: 0.492 f1: 0.492]\n"
     ]
    },
    {
     "name": "stdout",
     "output_type": "stream",
     "text": [
      "Epoch accuracy on dev: 0.491\n",
      "Epoch f1 on dev: 0.491\n",
      "Epoch: 12 of 100\n",
      "\n"
     ]
    },
    {
     "name": "stderr",
     "output_type": "stream",
     "text": [
      "train batches: 100%|██████████| 189/189 [01:06<00:00,  2.84it/s, loss: 1.740]\n"
     ]
    },
    {
     "name": "stdout",
     "output_type": "stream",
     "text": [
      "Adjusting learning rate of group 0 to 2.0000e-06.\n",
      "Average epoch loss: 2.42172167130879\n",
      "Saved model to: /Users/johnsonzhou/git/comp90042-project/result/models/model_04_roberta_base_3_class.pth\n"
     ]
    },
    {
     "name": "stderr",
     "output_type": "stream",
     "text": [
      "dev batches: 100%|██████████| 23/23 [00:02<00:00,  9.41it/s,  acc: 0.493 f1: 0.493]\n"
     ]
    },
    {
     "name": "stdout",
     "output_type": "stream",
     "text": [
      "Epoch accuracy on dev: 0.492\n",
      "Epoch f1 on dev: 0.492\n",
      "Epoch: 13 of 100\n",
      "\n"
     ]
    },
    {
     "name": "stderr",
     "output_type": "stream",
     "text": [
      "train batches: 100%|██████████| 189/189 [01:06<00:00,  2.85it/s, loss: 3.059]\n"
     ]
    },
    {
     "name": "stdout",
     "output_type": "stream",
     "text": [
      "Adjusting learning rate of group 0 to 2.0000e-06.\n",
      "Average epoch loss: 2.4060298715318953\n",
      "Saved model to: /Users/johnsonzhou/git/comp90042-project/result/models/model_04_roberta_base_3_class.pth\n"
     ]
    },
    {
     "name": "stderr",
     "output_type": "stream",
     "text": [
      "dev batches: 100%|██████████| 23/23 [00:02<00:00,  9.75it/s,  acc: 0.493 f1: 0.493]\n"
     ]
    },
    {
     "name": "stdout",
     "output_type": "stream",
     "text": [
      "Epoch accuracy on dev: 0.493\n",
      "Epoch f1 on dev: 0.493\n",
      "Epoch: 14 of 100\n",
      "\n"
     ]
    },
    {
     "name": "stderr",
     "output_type": "stream",
     "text": [
      "train batches: 100%|██████████| 189/189 [01:06<00:00,  2.86it/s, loss: 1.688]\n"
     ]
    },
    {
     "name": "stdout",
     "output_type": "stream",
     "text": [
      "Adjusting learning rate of group 0 to 2.0000e-06.\n",
      "Average epoch loss: 2.378011323156811\n",
      "Saved model to: /Users/johnsonzhou/git/comp90042-project/result/models/model_04_roberta_base_3_class.pth\n"
     ]
    },
    {
     "name": "stderr",
     "output_type": "stream",
     "text": [
      "dev batches: 100%|██████████| 23/23 [00:02<00:00,  9.43it/s,  acc: 0.493 f1: 0.493]\n"
     ]
    },
    {
     "name": "stdout",
     "output_type": "stream",
     "text": [
      "Epoch accuracy on dev: 0.493\n",
      "Epoch f1 on dev: 0.493\n",
      "Epoch: 15 of 100\n",
      "\n"
     ]
    },
    {
     "name": "stderr",
     "output_type": "stream",
     "text": [
      "train batches: 100%|██████████| 189/189 [01:06<00:00,  2.86it/s, loss: 3.096]\n"
     ]
    },
    {
     "name": "stdout",
     "output_type": "stream",
     "text": [
      "Adjusting learning rate of group 0 to 2.0000e-06.\n",
      "Average epoch loss: 2.368182281653086\n",
      "Saved model to: /Users/johnsonzhou/git/comp90042-project/result/models/model_04_roberta_base_3_class.pth\n"
     ]
    },
    {
     "name": "stderr",
     "output_type": "stream",
     "text": [
      "dev batches: 100%|██████████| 23/23 [00:02<00:00,  9.43it/s,  acc: 0.495 f1: 0.495]\n"
     ]
    },
    {
     "name": "stdout",
     "output_type": "stream",
     "text": [
      "Epoch accuracy on dev: 0.494\n",
      "Epoch f1 on dev: 0.494\n",
      "Epoch: 16 of 100\n",
      "\n"
     ]
    },
    {
     "name": "stderr",
     "output_type": "stream",
     "text": [
      "train batches: 100%|██████████| 189/189 [01:06<00:00,  2.83it/s, loss: 3.162]\n"
     ]
    },
    {
     "name": "stdout",
     "output_type": "stream",
     "text": [
      "Adjusting learning rate of group 0 to 2.0000e-06.\n",
      "Average epoch loss: 2.375419453022972\n"
     ]
    },
    {
     "name": "stderr",
     "output_type": "stream",
     "text": [
      "dev batches: 100%|██████████| 23/23 [00:02<00:00, 10.50it/s,  acc: 0.494 f1: 0.494]\n"
     ]
    },
    {
     "name": "stdout",
     "output_type": "stream",
     "text": [
      "Epoch accuracy on dev: 0.495\n",
      "Epoch f1 on dev: 0.495\n",
      "Epoch: 17 of 100\n",
      "\n"
     ]
    },
    {
     "name": "stderr",
     "output_type": "stream",
     "text": [
      "train batches: 100%|██████████| 189/189 [01:06<00:00,  2.85it/s, loss: 3.138]\n"
     ]
    },
    {
     "name": "stdout",
     "output_type": "stream",
     "text": [
      "Adjusting learning rate of group 0 to 2.0000e-06.\n",
      "Average epoch loss: 2.3562527015095664\n",
      "Saved model to: /Users/johnsonzhou/git/comp90042-project/result/models/model_04_roberta_base_3_class.pth\n"
     ]
    },
    {
     "name": "stderr",
     "output_type": "stream",
     "text": [
      "dev batches: 100%|██████████| 23/23 [00:02<00:00,  9.46it/s,  acc: 0.495 f1: 0.495]\n"
     ]
    },
    {
     "name": "stdout",
     "output_type": "stream",
     "text": [
      "Epoch accuracy on dev: 0.495\n",
      "Epoch f1 on dev: 0.495\n",
      "Epoch: 18 of 100\n",
      "\n"
     ]
    },
    {
     "name": "stderr",
     "output_type": "stream",
     "text": [
      "train batches: 100%|██████████| 189/189 [01:05<00:00,  2.89it/s, loss: 1.771]\n"
     ]
    },
    {
     "name": "stdout",
     "output_type": "stream",
     "text": [
      "Adjusting learning rate of group 0 to 2.0000e-06.\n",
      "Average epoch loss: 2.327717604145171\n",
      "Saved model to: /Users/johnsonzhou/git/comp90042-project/result/models/model_04_roberta_base_3_class.pth\n"
     ]
    },
    {
     "name": "stderr",
     "output_type": "stream",
     "text": [
      "dev batches: 100%|██████████| 23/23 [00:02<00:00, 10.25it/s,  acc: 0.496 f1: 0.496]\n"
     ]
    },
    {
     "name": "stdout",
     "output_type": "stream",
     "text": [
      "Epoch accuracy on dev: 0.496\n",
      "Epoch f1 on dev: 0.496\n",
      "Epoch: 19 of 100\n",
      "\n"
     ]
    },
    {
     "name": "stderr",
     "output_type": "stream",
     "text": [
      "train batches: 100%|██████████| 189/189 [01:07<00:00,  2.81it/s, loss: 2.814]\n"
     ]
    },
    {
     "name": "stdout",
     "output_type": "stream",
     "text": [
      "Adjusting learning rate of group 0 to 2.0000e-06.\n",
      "Average epoch loss: 2.3161519444178023\n",
      "Saved model to: /Users/johnsonzhou/git/comp90042-project/result/models/model_04_roberta_base_3_class.pth\n"
     ]
    },
    {
     "name": "stderr",
     "output_type": "stream",
     "text": [
      "dev batches: 100%|██████████| 23/23 [00:02<00:00,  9.72it/s,  acc: 0.498 f1: 0.498]\n"
     ]
    },
    {
     "name": "stdout",
     "output_type": "stream",
     "text": [
      "Epoch accuracy on dev: 0.497\n",
      "Epoch f1 on dev: 0.497\n",
      "Epoch: 20 of 100\n",
      "\n"
     ]
    },
    {
     "name": "stderr",
     "output_type": "stream",
     "text": [
      "train batches: 100%|██████████| 189/189 [01:07<00:00,  2.80it/s, loss: 1.746]\n"
     ]
    },
    {
     "name": "stdout",
     "output_type": "stream",
     "text": [
      "Adjusting learning rate of group 0 to 2.0000e-06.\n",
      "Average epoch loss: 2.2987569561080328\n",
      "Saved model to: /Users/johnsonzhou/git/comp90042-project/result/models/model_04_roberta_base_3_class.pth\n"
     ]
    },
    {
     "name": "stderr",
     "output_type": "stream",
     "text": [
      "dev batches: 100%|██████████| 23/23 [00:02<00:00,  9.57it/s,  acc: 0.499 f1: 0.499]\n"
     ]
    },
    {
     "name": "stdout",
     "output_type": "stream",
     "text": [
      "Epoch accuracy on dev: 0.499\n",
      "Epoch f1 on dev: 0.499\n",
      "Epoch: 21 of 100\n",
      "\n"
     ]
    },
    {
     "name": "stderr",
     "output_type": "stream",
     "text": [
      "train batches: 100%|██████████| 189/189 [01:06<00:00,  2.86it/s, loss: 3.013]\n"
     ]
    },
    {
     "name": "stdout",
     "output_type": "stream",
     "text": [
      "Adjusting learning rate of group 0 to 2.0000e-06.\n",
      "Average epoch loss: 2.285875787810674\n",
      "Saved model to: /Users/johnsonzhou/git/comp90042-project/result/models/model_04_roberta_base_3_class.pth\n"
     ]
    },
    {
     "name": "stderr",
     "output_type": "stream",
     "text": [
      "dev batches: 100%|██████████| 23/23 [00:02<00:00,  9.66it/s,  acc: 0.500 f1: 0.500]\n"
     ]
    },
    {
     "name": "stdout",
     "output_type": "stream",
     "text": [
      "Epoch accuracy on dev: 0.499\n",
      "Epoch f1 on dev: 0.499\n",
      "Epoch: 22 of 100\n",
      "\n"
     ]
    },
    {
     "name": "stderr",
     "output_type": "stream",
     "text": [
      "train batches: 100%|██████████| 189/189 [01:06<00:00,  2.84it/s, loss: 3.119]\n"
     ]
    },
    {
     "name": "stdout",
     "output_type": "stream",
     "text": [
      "Adjusting learning rate of group 0 to 2.0000e-06.\n",
      "Average epoch loss: 2.263201404185522\n",
      "Saved model to: /Users/johnsonzhou/git/comp90042-project/result/models/model_04_roberta_base_3_class.pth\n"
     ]
    },
    {
     "name": "stderr",
     "output_type": "stream",
     "text": [
      "dev batches: 100%|██████████| 23/23 [00:02<00:00,  9.87it/s,  acc: 0.500 f1: 0.500]\n"
     ]
    },
    {
     "name": "stdout",
     "output_type": "stream",
     "text": [
      "Epoch accuracy on dev: 0.500\n",
      "Epoch f1 on dev: 0.500\n",
      "Epoch: 23 of 100\n",
      "\n"
     ]
    },
    {
     "name": "stderr",
     "output_type": "stream",
     "text": [
      "train batches: 100%|██████████| 189/189 [01:06<00:00,  2.82it/s, loss: 1.900]\n"
     ]
    },
    {
     "name": "stdout",
     "output_type": "stream",
     "text": [
      "Adjusting learning rate of group 0 to 2.0000e-06.\n",
      "Average epoch loss: 2.2322375812227766\n",
      "Saved model to: /Users/johnsonzhou/git/comp90042-project/result/models/model_04_roberta_base_3_class.pth\n"
     ]
    },
    {
     "name": "stderr",
     "output_type": "stream",
     "text": [
      "dev batches: 100%|██████████| 23/23 [00:02<00:00, 10.00it/s,  acc: 0.501 f1: 0.501]\n"
     ]
    },
    {
     "name": "stdout",
     "output_type": "stream",
     "text": [
      "Epoch accuracy on dev: 0.501\n",
      "Epoch f1 on dev: 0.501\n",
      "Epoch: 24 of 100\n",
      "\n"
     ]
    },
    {
     "name": "stderr",
     "output_type": "stream",
     "text": [
      "train batches: 100%|██████████| 189/189 [01:07<00:00,  2.80it/s, loss: 3.208]\n"
     ]
    },
    {
     "name": "stdout",
     "output_type": "stream",
     "text": [
      "Adjusting learning rate of group 0 to 2.0000e-06.\n",
      "Average epoch loss: 2.222778018504854\n",
      "Saved model to: /Users/johnsonzhou/git/comp90042-project/result/models/model_04_roberta_base_3_class.pth\n"
     ]
    },
    {
     "name": "stderr",
     "output_type": "stream",
     "text": [
      "dev batches: 100%|██████████| 23/23 [00:02<00:00,  9.50it/s,  acc: 0.502 f1: 0.502]\n"
     ]
    },
    {
     "name": "stdout",
     "output_type": "stream",
     "text": [
      "Epoch accuracy on dev: 0.501\n",
      "Epoch f1 on dev: 0.501\n",
      "Epoch: 25 of 100\n",
      "\n"
     ]
    },
    {
     "name": "stderr",
     "output_type": "stream",
     "text": [
      "train batches: 100%|██████████| 189/189 [01:07<00:00,  2.81it/s, loss: 1.672]\n"
     ]
    },
    {
     "name": "stdout",
     "output_type": "stream",
     "text": [
      "Adjusting learning rate of group 0 to 2.0000e-06.\n",
      "Average epoch loss: 2.195541304255289\n",
      "Saved model to: /Users/johnsonzhou/git/comp90042-project/result/models/model_04_roberta_base_3_class.pth\n"
     ]
    },
    {
     "name": "stderr",
     "output_type": "stream",
     "text": [
      "dev batches: 100%|██████████| 23/23 [00:02<00:00,  9.10it/s,  acc: 0.503 f1: 0.503]\n"
     ]
    },
    {
     "name": "stdout",
     "output_type": "stream",
     "text": [
      "Epoch accuracy on dev: 0.502\n",
      "Epoch f1 on dev: 0.502\n",
      "Epoch: 26 of 100\n",
      "\n"
     ]
    },
    {
     "name": "stderr",
     "output_type": "stream",
     "text": [
      "train batches: 100%|██████████| 189/189 [01:08<00:00,  2.76it/s, loss: 2.886]\n"
     ]
    },
    {
     "name": "stdout",
     "output_type": "stream",
     "text": [
      "Adjusting learning rate of group 0 to 2.0000e-06.\n",
      "Average epoch loss: 2.2124041044522844\n"
     ]
    },
    {
     "name": "stderr",
     "output_type": "stream",
     "text": [
      "dev batches: 100%|██████████| 23/23 [00:02<00:00, 10.01it/s,  acc: 0.504 f1: 0.504]\n"
     ]
    },
    {
     "name": "stdout",
     "output_type": "stream",
     "text": [
      "Epoch accuracy on dev: 0.503\n",
      "Epoch f1 on dev: 0.503\n",
      "Epoch: 27 of 100\n",
      "\n"
     ]
    },
    {
     "name": "stderr",
     "output_type": "stream",
     "text": [
      "train batches: 100%|██████████| 189/189 [01:07<00:00,  2.81it/s, loss: 1.894]\n"
     ]
    },
    {
     "name": "stdout",
     "output_type": "stream",
     "text": [
      "Adjusting learning rate of group 0 to 2.0000e-06.\n",
      "Average epoch loss: 2.1702942517068653\n",
      "Saved model to: /Users/johnsonzhou/git/comp90042-project/result/models/model_04_roberta_base_3_class.pth\n"
     ]
    },
    {
     "name": "stderr",
     "output_type": "stream",
     "text": [
      "dev batches: 100%|██████████| 23/23 [00:02<00:00,  9.29it/s,  acc: 0.502 f1: 0.502]\n"
     ]
    },
    {
     "name": "stdout",
     "output_type": "stream",
     "text": [
      "Epoch accuracy on dev: 0.503\n",
      "Epoch f1 on dev: 0.503\n",
      "Epoch: 28 of 100\n",
      "\n"
     ]
    },
    {
     "name": "stderr",
     "output_type": "stream",
     "text": [
      "train batches: 100%|██████████| 189/189 [01:07<00:00,  2.82it/s, loss: 1.671]\n"
     ]
    },
    {
     "name": "stdout",
     "output_type": "stream",
     "text": [
      "Adjusting learning rate of group 0 to 2.0000e-06.\n",
      "Average epoch loss: 2.1627806084496632\n",
      "Saved model to: /Users/johnsonzhou/git/comp90042-project/result/models/model_04_roberta_base_3_class.pth\n"
     ]
    },
    {
     "name": "stderr",
     "output_type": "stream",
     "text": [
      "dev batches: 100%|██████████| 23/23 [00:02<00:00,  9.50it/s,  acc: 0.503 f1: 0.503]\n"
     ]
    },
    {
     "name": "stdout",
     "output_type": "stream",
     "text": [
      "Epoch accuracy on dev: 0.503\n",
      "Epoch f1 on dev: 0.503\n",
      "Epoch: 29 of 100\n",
      "\n"
     ]
    },
    {
     "name": "stderr",
     "output_type": "stream",
     "text": [
      "train batches: 100%|██████████| 189/189 [01:07<00:00,  2.81it/s, loss: 2.319]\n"
     ]
    },
    {
     "name": "stdout",
     "output_type": "stream",
     "text": [
      "Adjusting learning rate of group 0 to 2.0000e-06.\n",
      "Average epoch loss: 2.147326547948141\n",
      "Saved model to: /Users/johnsonzhou/git/comp90042-project/result/models/model_04_roberta_base_3_class.pth\n"
     ]
    },
    {
     "name": "stderr",
     "output_type": "stream",
     "text": [
      "dev batches: 100%|██████████| 23/23 [00:02<00:00,  9.75it/s,  acc: 0.503 f1: 0.503]\n"
     ]
    },
    {
     "name": "stdout",
     "output_type": "stream",
     "text": [
      "Epoch accuracy on dev: 0.503\n",
      "Epoch f1 on dev: 0.503\n",
      "Epoch: 30 of 100\n",
      "\n"
     ]
    },
    {
     "name": "stderr",
     "output_type": "stream",
     "text": [
      "train batches: 100%|██████████| 189/189 [01:06<00:00,  2.82it/s, loss: 3.147]\n"
     ]
    },
    {
     "name": "stdout",
     "output_type": "stream",
     "text": [
      "Adjusting learning rate of group 0 to 2.0000e-06.\n",
      "Average epoch loss: 2.137194598477984\n",
      "Saved model to: /Users/johnsonzhou/git/comp90042-project/result/models/model_04_roberta_base_3_class.pth\n"
     ]
    },
    {
     "name": "stderr",
     "output_type": "stream",
     "text": [
      "dev batches: 100%|██████████| 23/23 [00:02<00:00,  9.40it/s,  acc: 0.502 f1: 0.502]\n"
     ]
    },
    {
     "name": "stdout",
     "output_type": "stream",
     "text": [
      "Epoch accuracy on dev: 0.502\n",
      "Epoch f1 on dev: 0.502\n",
      "Epoch: 31 of 100\n",
      "\n"
     ]
    },
    {
     "name": "stderr",
     "output_type": "stream",
     "text": [
      "train batches: 100%|██████████| 189/189 [01:06<00:00,  2.84it/s, loss: 4.571]\n"
     ]
    },
    {
     "name": "stdout",
     "output_type": "stream",
     "text": [
      "Adjusting learning rate of group 0 to 2.0000e-06.\n",
      "Average epoch loss: 2.1235754177683877\n",
      "Saved model to: /Users/johnsonzhou/git/comp90042-project/result/models/model_04_roberta_base_3_class.pth\n"
     ]
    },
    {
     "name": "stderr",
     "output_type": "stream",
     "text": [
      "dev batches: 100%|██████████| 23/23 [00:02<00:00,  9.71it/s,  acc: 0.503 f1: 0.503]\n"
     ]
    },
    {
     "name": "stdout",
     "output_type": "stream",
     "text": [
      "Epoch accuracy on dev: 0.503\n",
      "Epoch f1 on dev: 0.503\n",
      "Epoch: 32 of 100\n",
      "\n"
     ]
    },
    {
     "name": "stderr",
     "output_type": "stream",
     "text": [
      "train batches: 100%|██████████| 189/189 [01:06<00:00,  2.86it/s, loss: 1.730]\n"
     ]
    },
    {
     "name": "stdout",
     "output_type": "stream",
     "text": [
      "Adjusting learning rate of group 0 to 2.0000e-06.\n",
      "Average epoch loss: 2.096411606622121\n",
      "Saved model to: /Users/johnsonzhou/git/comp90042-project/result/models/model_04_roberta_base_3_class.pth\n"
     ]
    },
    {
     "name": "stderr",
     "output_type": "stream",
     "text": [
      "dev batches: 100%|██████████| 23/23 [00:02<00:00,  9.15it/s,  acc: 0.503 f1: 0.503]\n"
     ]
    },
    {
     "name": "stdout",
     "output_type": "stream",
     "text": [
      "Epoch accuracy on dev: 0.503\n",
      "Epoch f1 on dev: 0.503\n",
      "Epoch: 33 of 100\n",
      "\n"
     ]
    },
    {
     "name": "stderr",
     "output_type": "stream",
     "text": [
      "train batches: 100%|██████████| 189/189 [01:05<00:00,  2.87it/s, loss: 2.017]\n"
     ]
    },
    {
     "name": "stdout",
     "output_type": "stream",
     "text": [
      "Adjusting learning rate of group 0 to 2.0000e-06.\n",
      "Average epoch loss: 2.0882263334970625\n",
      "Saved model to: /Users/johnsonzhou/git/comp90042-project/result/models/model_04_roberta_base_3_class.pth\n"
     ]
    },
    {
     "name": "stderr",
     "output_type": "stream",
     "text": [
      "dev batches: 100%|██████████| 23/23 [00:02<00:00,  9.38it/s,  acc: 0.504 f1: 0.504]\n"
     ]
    },
    {
     "name": "stdout",
     "output_type": "stream",
     "text": [
      "Epoch accuracy on dev: 0.504\n",
      "Epoch f1 on dev: 0.504\n",
      "Epoch: 34 of 100\n",
      "\n"
     ]
    },
    {
     "name": "stderr",
     "output_type": "stream",
     "text": [
      "train batches: 100%|██████████| 189/189 [01:06<00:00,  2.82it/s, loss: 1.657]\n"
     ]
    },
    {
     "name": "stdout",
     "output_type": "stream",
     "text": [
      "Adjusting learning rate of group 0 to 2.0000e-06.\n",
      "Average epoch loss: 2.096682635564653\n"
     ]
    },
    {
     "name": "stderr",
     "output_type": "stream",
     "text": [
      "dev batches: 100%|██████████| 23/23 [00:02<00:00,  9.57it/s,  acc: 0.504 f1: 0.504]\n"
     ]
    },
    {
     "name": "stdout",
     "output_type": "stream",
     "text": [
      "Epoch accuracy on dev: 0.504\n",
      "Epoch f1 on dev: 0.504\n",
      "Epoch: 35 of 100\n",
      "\n"
     ]
    },
    {
     "name": "stderr",
     "output_type": "stream",
     "text": [
      "train batches: 100%|██████████| 189/189 [01:07<00:00,  2.82it/s, loss: 1.655]\n"
     ]
    },
    {
     "name": "stdout",
     "output_type": "stream",
     "text": [
      "Adjusting learning rate of group 0 to 2.0000e-06.\n",
      "Average epoch loss: 2.079203950980353\n",
      "Saved model to: /Users/johnsonzhou/git/comp90042-project/result/models/model_04_roberta_base_3_class.pth\n"
     ]
    },
    {
     "name": "stderr",
     "output_type": "stream",
     "text": [
      "dev batches: 100%|██████████| 23/23 [00:02<00:00,  9.52it/s,  acc: 0.504 f1: 0.504]\n"
     ]
    },
    {
     "name": "stdout",
     "output_type": "stream",
     "text": [
      "Epoch accuracy on dev: 0.504\n",
      "Epoch f1 on dev: 0.504\n",
      "Epoch: 36 of 100\n",
      "\n"
     ]
    },
    {
     "name": "stderr",
     "output_type": "stream",
     "text": [
      "train batches: 100%|██████████| 189/189 [01:06<00:00,  2.85it/s, loss: 1.656]\n"
     ]
    },
    {
     "name": "stdout",
     "output_type": "stream",
     "text": [
      "Adjusting learning rate of group 0 to 2.0000e-06.\n",
      "Average epoch loss: 2.0657353949925255\n",
      "Saved model to: /Users/johnsonzhou/git/comp90042-project/result/models/model_04_roberta_base_3_class.pth\n"
     ]
    },
    {
     "name": "stderr",
     "output_type": "stream",
     "text": [
      "dev batches: 100%|██████████| 23/23 [00:02<00:00, 10.09it/s,  acc: 0.504 f1: 0.504]\n"
     ]
    },
    {
     "name": "stdout",
     "output_type": "stream",
     "text": [
      "Epoch accuracy on dev: 0.504\n",
      "Epoch f1 on dev: 0.504\n",
      "Epoch: 37 of 100\n",
      "\n"
     ]
    },
    {
     "name": "stderr",
     "output_type": "stream",
     "text": [
      "train batches: 100%|██████████| 189/189 [01:06<00:00,  2.84it/s, loss: 3.150]\n"
     ]
    },
    {
     "name": "stdout",
     "output_type": "stream",
     "text": [
      "Adjusting learning rate of group 0 to 2.0000e-06.\n",
      "Average epoch loss: 2.0810750770190407\n"
     ]
    },
    {
     "name": "stderr",
     "output_type": "stream",
     "text": [
      "dev batches: 100%|██████████| 23/23 [00:02<00:00,  9.51it/s,  acc: 0.504 f1: 0.504]\n"
     ]
    },
    {
     "name": "stdout",
     "output_type": "stream",
     "text": [
      "Epoch accuracy on dev: 0.504\n",
      "Epoch f1 on dev: 0.504\n",
      "Epoch: 38 of 100\n",
      "\n"
     ]
    },
    {
     "name": "stderr",
     "output_type": "stream",
     "text": [
      "train batches: 100%|██████████| 189/189 [01:07<00:00,  2.79it/s, loss: 1.727]\n"
     ]
    },
    {
     "name": "stdout",
     "output_type": "stream",
     "text": [
      "Adjusting learning rate of group 0 to 2.0000e-06.\n",
      "Average epoch loss: 2.062461595686655\n",
      "Saved model to: /Users/johnsonzhou/git/comp90042-project/result/models/model_04_roberta_base_3_class.pth\n"
     ]
    },
    {
     "name": "stderr",
     "output_type": "stream",
     "text": [
      "dev batches: 100%|██████████| 23/23 [00:02<00:00,  9.39it/s,  acc: 0.505 f1: 0.505]\n"
     ]
    },
    {
     "name": "stdout",
     "output_type": "stream",
     "text": [
      "Epoch accuracy on dev: 0.505\n",
      "Epoch f1 on dev: 0.505\n",
      "Epoch: 39 of 100\n",
      "\n"
     ]
    },
    {
     "name": "stderr",
     "output_type": "stream",
     "text": [
      "train batches: 100%|██████████| 189/189 [01:07<00:00,  2.81it/s, loss: 3.069]\n"
     ]
    },
    {
     "name": "stdout",
     "output_type": "stream",
     "text": [
      "Adjusting learning rate of group 0 to 2.0000e-06.\n",
      "Average epoch loss: 2.0526977436883107\n",
      "Saved model to: /Users/johnsonzhou/git/comp90042-project/result/models/model_04_roberta_base_3_class.pth\n"
     ]
    },
    {
     "name": "stderr",
     "output_type": "stream",
     "text": [
      "dev batches: 100%|██████████| 23/23 [00:02<00:00,  9.30it/s,  acc: 0.504 f1: 0.504]\n"
     ]
    },
    {
     "name": "stdout",
     "output_type": "stream",
     "text": [
      "Epoch accuracy on dev: 0.505\n",
      "Epoch f1 on dev: 0.505\n",
      "Epoch: 40 of 100\n",
      "\n"
     ]
    },
    {
     "name": "stderr",
     "output_type": "stream",
     "text": [
      "train batches: 100%|██████████| 189/189 [01:06<00:00,  2.84it/s, loss: 1.661]\n"
     ]
    },
    {
     "name": "stdout",
     "output_type": "stream",
     "text": [
      "Adjusting learning rate of group 0 to 2.0000e-06.\n",
      "Average epoch loss: 2.0544499546762496\n"
     ]
    },
    {
     "name": "stderr",
     "output_type": "stream",
     "text": [
      "dev batches: 100%|██████████| 23/23 [00:02<00:00, 10.83it/s,  acc: 0.504 f1: 0.504]\n"
     ]
    },
    {
     "name": "stdout",
     "output_type": "stream",
     "text": [
      "Epoch accuracy on dev: 0.504\n",
      "Epoch f1 on dev: 0.504\n",
      "Epoch: 41 of 100\n",
      "\n"
     ]
    },
    {
     "name": "stderr",
     "output_type": "stream",
     "text": [
      "train batches: 100%|██████████| 189/189 [01:06<00:00,  2.83it/s, loss: 1.669]\n"
     ]
    },
    {
     "name": "stdout",
     "output_type": "stream",
     "text": [
      "Adjusting learning rate of group 0 to 2.0000e-06.\n",
      "Average epoch loss: 2.031692077243139\n",
      "Saved model to: /Users/johnsonzhou/git/comp90042-project/result/models/model_04_roberta_base_3_class.pth\n"
     ]
    },
    {
     "name": "stderr",
     "output_type": "stream",
     "text": [
      "dev batches: 100%|██████████| 23/23 [00:02<00:00,  9.43it/s,  acc: 0.505 f1: 0.505]\n"
     ]
    },
    {
     "name": "stdout",
     "output_type": "stream",
     "text": [
      "Epoch accuracy on dev: 0.505\n",
      "Epoch f1 on dev: 0.505\n",
      "Epoch: 42 of 100\n",
      "\n"
     ]
    },
    {
     "name": "stderr",
     "output_type": "stream",
     "text": [
      "train batches: 100%|██████████| 189/189 [01:07<00:00,  2.81it/s, loss: 1.665]\n"
     ]
    },
    {
     "name": "stdout",
     "output_type": "stream",
     "text": [
      "Adjusting learning rate of group 0 to 2.0000e-06.\n",
      "Average epoch loss: 2.015584131081899\n",
      "Saved model to: /Users/johnsonzhou/git/comp90042-project/result/models/model_04_roberta_base_3_class.pth\n"
     ]
    },
    {
     "name": "stderr",
     "output_type": "stream",
     "text": [
      "dev batches: 100%|██████████| 23/23 [00:02<00:00,  8.80it/s,  acc: 0.505 f1: 0.505]\n"
     ]
    },
    {
     "name": "stdout",
     "output_type": "stream",
     "text": [
      "Epoch accuracy on dev: 0.505\n",
      "Epoch f1 on dev: 0.505\n",
      "Epoch: 43 of 100\n",
      "\n"
     ]
    },
    {
     "name": "stderr",
     "output_type": "stream",
     "text": [
      "train batches: 100%|██████████| 189/189 [01:08<00:00,  2.77it/s, loss: 3.737]\n"
     ]
    },
    {
     "name": "stdout",
     "output_type": "stream",
     "text": [
      "Adjusting learning rate of group 0 to 2.0000e-06.\n",
      "Average epoch loss: 2.036620264961606\n"
     ]
    },
    {
     "name": "stderr",
     "output_type": "stream",
     "text": [
      "dev batches: 100%|██████████| 23/23 [00:02<00:00, 10.59it/s,  acc: 0.506 f1: 0.506]\n"
     ]
    },
    {
     "name": "stdout",
     "output_type": "stream",
     "text": [
      "Epoch accuracy on dev: 0.506\n",
      "Epoch f1 on dev: 0.506\n",
      "Epoch: 44 of 100\n",
      "\n"
     ]
    },
    {
     "name": "stderr",
     "output_type": "stream",
     "text": [
      "train batches: 100%|██████████| 189/189 [01:08<00:00,  2.78it/s, loss: 1.706]\n"
     ]
    },
    {
     "name": "stdout",
     "output_type": "stream",
     "text": [
      "Adjusting learning rate of group 0 to 2.0000e-06.\n",
      "Average epoch loss: 2.0634647711874945\n"
     ]
    },
    {
     "name": "stderr",
     "output_type": "stream",
     "text": [
      "dev batches: 100%|██████████| 23/23 [00:02<00:00, 10.25it/s,  acc: 0.506 f1: 0.506]\n"
     ]
    },
    {
     "name": "stdout",
     "output_type": "stream",
     "text": [
      "Epoch accuracy on dev: 0.506\n",
      "Epoch f1 on dev: 0.506\n",
      "Epoch: 45 of 100\n",
      "\n"
     ]
    },
    {
     "name": "stderr",
     "output_type": "stream",
     "text": [
      "train batches: 100%|██████████| 189/189 [01:07<00:00,  2.79it/s, loss: 3.054]\n"
     ]
    },
    {
     "name": "stdout",
     "output_type": "stream",
     "text": [
      "Adjusting learning rate of group 0 to 2.0000e-06.\n",
      "Average epoch loss: 2.0068282059260776\n",
      "Saved model to: /Users/johnsonzhou/git/comp90042-project/result/models/model_04_roberta_base_3_class.pth\n"
     ]
    },
    {
     "name": "stderr",
     "output_type": "stream",
     "text": [
      "dev batches: 100%|██████████| 23/23 [00:02<00:00,  8.96it/s,  acc: 0.507 f1: 0.507]\n"
     ]
    },
    {
     "name": "stdout",
     "output_type": "stream",
     "text": [
      "Epoch accuracy on dev: 0.507\n",
      "Epoch f1 on dev: 0.507\n",
      "Epoch: 46 of 100\n",
      "\n"
     ]
    },
    {
     "name": "stderr",
     "output_type": "stream",
     "text": [
      "train batches: 100%|██████████| 189/189 [01:07<00:00,  2.80it/s, loss: 3.154]\n"
     ]
    },
    {
     "name": "stdout",
     "output_type": "stream",
     "text": [
      "Adjusting learning rate of group 0 to 2.0000e-06.\n",
      "Average epoch loss: 2.01315936115053\n"
     ]
    },
    {
     "name": "stderr",
     "output_type": "stream",
     "text": [
      "dev batches: 100%|██████████| 23/23 [00:02<00:00, 10.80it/s,  acc: 0.507 f1: 0.507]\n"
     ]
    },
    {
     "name": "stdout",
     "output_type": "stream",
     "text": [
      "Epoch accuracy on dev: 0.507\n",
      "Epoch f1 on dev: 0.507\n",
      "Epoch: 47 of 100\n",
      "\n"
     ]
    },
    {
     "name": "stderr",
     "output_type": "stream",
     "text": [
      "train batches: 100%|██████████| 189/189 [01:07<00:00,  2.82it/s, loss: 1.655]\n"
     ]
    },
    {
     "name": "stdout",
     "output_type": "stream",
     "text": [
      "Adjusting learning rate of group 0 to 2.0000e-06.\n",
      "Average epoch loss: 1.9994330103435214\n",
      "Saved model to: /Users/johnsonzhou/git/comp90042-project/result/models/model_04_roberta_base_3_class.pth\n"
     ]
    },
    {
     "name": "stderr",
     "output_type": "stream",
     "text": [
      "dev batches: 100%|██████████| 23/23 [00:02<00:00,  9.44it/s,  acc: 0.508 f1: 0.508]\n"
     ]
    },
    {
     "name": "stdout",
     "output_type": "stream",
     "text": [
      "Epoch accuracy on dev: 0.508\n",
      "Epoch f1 on dev: 0.508\n",
      "Epoch: 48 of 100\n",
      "\n"
     ]
    },
    {
     "name": "stderr",
     "output_type": "stream",
     "text": [
      "train batches: 100%|██████████| 189/189 [01:06<00:00,  2.84it/s, loss: 1.657]\n"
     ]
    },
    {
     "name": "stdout",
     "output_type": "stream",
     "text": [
      "Adjusting learning rate of group 0 to 2.0000e-06.\n",
      "Average epoch loss: 2.0010504419841464\n"
     ]
    },
    {
     "name": "stderr",
     "output_type": "stream",
     "text": [
      "dev batches: 100%|██████████| 23/23 [00:02<00:00, 10.57it/s,  acc: 0.509 f1: 0.509]\n"
     ]
    },
    {
     "name": "stdout",
     "output_type": "stream",
     "text": [
      "Epoch accuracy on dev: 0.508\n",
      "Epoch f1 on dev: 0.508\n",
      "Epoch: 49 of 100\n",
      "\n"
     ]
    },
    {
     "name": "stderr",
     "output_type": "stream",
     "text": [
      "train batches: 100%|██████████| 189/189 [01:07<00:00,  2.81it/s, loss: 1.656]\n"
     ]
    },
    {
     "name": "stdout",
     "output_type": "stream",
     "text": [
      "Adjusting learning rate of group 0 to 2.0000e-06.\n",
      "Average epoch loss: 2.012135068575541\n"
     ]
    },
    {
     "name": "stderr",
     "output_type": "stream",
     "text": [
      "dev batches: 100%|██████████| 23/23 [00:02<00:00,  9.26it/s,  acc: 0.509 f1: 0.509]\n"
     ]
    },
    {
     "name": "stdout",
     "output_type": "stream",
     "text": [
      "Epoch accuracy on dev: 0.509\n",
      "Epoch f1 on dev: 0.509\n",
      "Epoch: 50 of 100\n",
      "\n"
     ]
    },
    {
     "name": "stderr",
     "output_type": "stream",
     "text": [
      "train batches: 100%|██████████| 189/189 [01:06<00:00,  2.86it/s, loss: 3.123]\n"
     ]
    },
    {
     "name": "stdout",
     "output_type": "stream",
     "text": [
      "Adjusting learning rate of group 0 to 2.0000e-06.\n",
      "Average epoch loss: 2.0059115319024947\n",
      "Saved model to: /Users/johnsonzhou/git/comp90042-project/result/models/model_04_roberta_base_3_class.pth\n"
     ]
    },
    {
     "name": "stderr",
     "output_type": "stream",
     "text": [
      "dev batches: 100%|██████████| 23/23 [00:02<00:00,  9.17it/s,  acc: 0.509 f1: 0.509]\n"
     ]
    },
    {
     "name": "stdout",
     "output_type": "stream",
     "text": [
      "Epoch accuracy on dev: 0.509\n",
      "Epoch f1 on dev: 0.509\n",
      "Epoch: 51 of 100\n",
      "\n"
     ]
    },
    {
     "name": "stderr",
     "output_type": "stream",
     "text": [
      "train batches: 100%|██████████| 189/189 [01:05<00:00,  2.86it/s, loss: 3.023]\n"
     ]
    },
    {
     "name": "stdout",
     "output_type": "stream",
     "text": [
      "Adjusting learning rate of group 0 to 2.0000e-06.\n",
      "Average epoch loss: 2.0086637262314087\n"
     ]
    },
    {
     "name": "stderr",
     "output_type": "stream",
     "text": [
      "dev batches: 100%|██████████| 23/23 [00:02<00:00, 10.86it/s,  acc: 0.509 f1: 0.509]\n"
     ]
    },
    {
     "name": "stdout",
     "output_type": "stream",
     "text": [
      "Epoch accuracy on dev: 0.509\n",
      "Epoch f1 on dev: 0.509\n",
      "Epoch: 52 of 100\n",
      "\n"
     ]
    },
    {
     "name": "stderr",
     "output_type": "stream",
     "text": [
      "train batches: 100%|██████████| 189/189 [01:06<00:00,  2.84it/s, loss: 3.026]\n"
     ]
    },
    {
     "name": "stdout",
     "output_type": "stream",
     "text": [
      "Adjusting learning rate of group 0 to 2.0000e-06.\n",
      "Average epoch loss: 1.9916304094450814\n",
      "Saved model to: /Users/johnsonzhou/git/comp90042-project/result/models/model_04_roberta_base_3_class.pth\n"
     ]
    },
    {
     "name": "stderr",
     "output_type": "stream",
     "text": [
      "dev batches: 100%|██████████| 23/23 [00:02<00:00,  9.80it/s,  acc: 0.509 f1: 0.509]\n"
     ]
    },
    {
     "name": "stdout",
     "output_type": "stream",
     "text": [
      "Epoch accuracy on dev: 0.509\n",
      "Epoch f1 on dev: 0.509\n",
      "Epoch: 53 of 100\n",
      "\n"
     ]
    },
    {
     "name": "stderr",
     "output_type": "stream",
     "text": [
      "train batches: 100%|██████████| 189/189 [01:06<00:00,  2.86it/s, loss: 1.660]\n"
     ]
    },
    {
     "name": "stdout",
     "output_type": "stream",
     "text": [
      "Adjusting learning rate of group 0 to 2.0000e-06.\n",
      "Average epoch loss: 1.9997245839663915\n"
     ]
    },
    {
     "name": "stderr",
     "output_type": "stream",
     "text": [
      "dev batches: 100%|██████████| 23/23 [00:02<00:00, 10.68it/s,  acc: 0.510 f1: 0.510]\n"
     ]
    },
    {
     "name": "stdout",
     "output_type": "stream",
     "text": [
      "Epoch accuracy on dev: 0.510\n",
      "Epoch f1 on dev: 0.510\n",
      "Epoch: 54 of 100\n",
      "\n"
     ]
    },
    {
     "name": "stderr",
     "output_type": "stream",
     "text": [
      "train batches: 100%|██████████| 189/189 [01:05<00:00,  2.90it/s, loss: 1.659]\n"
     ]
    },
    {
     "name": "stdout",
     "output_type": "stream",
     "text": [
      "Adjusting learning rate of group 0 to 2.0000e-06.\n",
      "Average epoch loss: 1.9856459488944402\n",
      "Saved model to: /Users/johnsonzhou/git/comp90042-project/result/models/model_04_roberta_base_3_class.pth\n"
     ]
    },
    {
     "name": "stderr",
     "output_type": "stream",
     "text": [
      "dev batches: 100%|██████████| 23/23 [00:02<00:00,  9.42it/s,  acc: 0.510 f1: 0.510]\n"
     ]
    },
    {
     "name": "stdout",
     "output_type": "stream",
     "text": [
      "Epoch accuracy on dev: 0.510\n",
      "Epoch f1 on dev: 0.510\n",
      "Epoch: 55 of 100\n",
      "\n"
     ]
    },
    {
     "name": "stderr",
     "output_type": "stream",
     "text": [
      "train batches: 100%|██████████| 189/189 [01:07<00:00,  2.81it/s, loss: 1.679]\n"
     ]
    },
    {
     "name": "stdout",
     "output_type": "stream",
     "text": [
      "Adjusting learning rate of group 0 to 2.0000e-06.\n",
      "Average epoch loss: 1.984319477800339\n",
      "Saved model to: /Users/johnsonzhou/git/comp90042-project/result/models/model_04_roberta_base_3_class.pth\n"
     ]
    },
    {
     "name": "stderr",
     "output_type": "stream",
     "text": [
      "dev batches: 100%|██████████| 23/23 [00:02<00:00,  9.51it/s,  acc: 0.510 f1: 0.510]\n"
     ]
    },
    {
     "name": "stdout",
     "output_type": "stream",
     "text": [
      "Epoch accuracy on dev: 0.510\n",
      "Epoch f1 on dev: 0.510\n",
      "Epoch: 56 of 100\n",
      "\n"
     ]
    },
    {
     "name": "stderr",
     "output_type": "stream",
     "text": [
      "train batches: 100%|██████████| 189/189 [01:05<00:00,  2.87it/s, loss: 1.657]\n"
     ]
    },
    {
     "name": "stdout",
     "output_type": "stream",
     "text": [
      "Adjusting learning rate of group 0 to 2.0000e-06.\n",
      "Average epoch loss: 1.9826118350028992\n",
      "Saved model to: /Users/johnsonzhou/git/comp90042-project/result/models/model_04_roberta_base_3_class.pth\n"
     ]
    },
    {
     "name": "stderr",
     "output_type": "stream",
     "text": [
      "dev batches: 100%|██████████| 23/23 [00:02<00:00,  8.98it/s,  acc: 0.511 f1: 0.511]\n"
     ]
    },
    {
     "name": "stdout",
     "output_type": "stream",
     "text": [
      "Epoch accuracy on dev: 0.510\n",
      "Epoch f1 on dev: 0.510\n",
      "Epoch: 57 of 100\n",
      "\n"
     ]
    },
    {
     "name": "stderr",
     "output_type": "stream",
     "text": [
      "train batches: 100%|██████████| 189/189 [01:05<00:00,  2.87it/s, loss: 3.135]\n"
     ]
    },
    {
     "name": "stdout",
     "output_type": "stream",
     "text": [
      "Adjusting learning rate of group 0 to 2.0000e-06.\n",
      "Average epoch loss: 1.9910619873849174\n"
     ]
    },
    {
     "name": "stderr",
     "output_type": "stream",
     "text": [
      "dev batches: 100%|██████████| 23/23 [00:02<00:00, 10.54it/s,  acc: 0.511 f1: 0.511]\n"
     ]
    },
    {
     "name": "stdout",
     "output_type": "stream",
     "text": [
      "Epoch accuracy on dev: 0.511\n",
      "Epoch f1 on dev: 0.511\n",
      "Epoch: 58 of 100\n",
      "\n"
     ]
    },
    {
     "name": "stderr",
     "output_type": "stream",
     "text": [
      "train batches: 100%|██████████| 189/189 [01:06<00:00,  2.84it/s, loss: 3.152]\n"
     ]
    },
    {
     "name": "stdout",
     "output_type": "stream",
     "text": [
      "Adjusting learning rate of group 0 to 2.0000e-06.\n",
      "Average epoch loss: 1.9848860208950345\n",
      "Saved model to: /Users/johnsonzhou/git/comp90042-project/result/models/model_04_roberta_base_3_class.pth\n"
     ]
    },
    {
     "name": "stderr",
     "output_type": "stream",
     "text": [
      "dev batches: 100%|██████████| 23/23 [00:02<00:00,  9.40it/s,  acc: 0.512 f1: 0.512]\n"
     ]
    },
    {
     "name": "stdout",
     "output_type": "stream",
     "text": [
      "Epoch accuracy on dev: 0.511\n",
      "Epoch f1 on dev: 0.511\n",
      "Epoch: 59 of 100\n",
      "\n"
     ]
    },
    {
     "name": "stderr",
     "output_type": "stream",
     "text": [
      "train batches: 100%|██████████| 189/189 [01:06<00:00,  2.82it/s, loss: 1.690]\n"
     ]
    },
    {
     "name": "stdout",
     "output_type": "stream",
     "text": [
      "Adjusting learning rate of group 0 to 2.0000e-06.\n",
      "Average epoch loss: 1.9765426213779147\n",
      "Saved model to: /Users/johnsonzhou/git/comp90042-project/result/models/model_04_roberta_base_3_class.pth\n"
     ]
    },
    {
     "name": "stderr",
     "output_type": "stream",
     "text": [
      "dev batches: 100%|██████████| 23/23 [00:02<00:00,  9.50it/s,  acc: 0.512 f1: 0.512]\n"
     ]
    },
    {
     "name": "stdout",
     "output_type": "stream",
     "text": [
      "Epoch accuracy on dev: 0.512\n",
      "Epoch f1 on dev: 0.512\n",
      "Epoch: 60 of 100\n",
      "\n"
     ]
    },
    {
     "name": "stderr",
     "output_type": "stream",
     "text": [
      "train batches: 100%|██████████| 189/189 [01:06<00:00,  2.84it/s, loss: 1.680]\n"
     ]
    },
    {
     "name": "stdout",
     "output_type": "stream",
     "text": [
      "Adjusting learning rate of group 0 to 2.0000e-06.\n",
      "Average epoch loss: 1.9795710898581005\n"
     ]
    },
    {
     "name": "stderr",
     "output_type": "stream",
     "text": [
      "dev batches: 100%|██████████| 23/23 [00:02<00:00, 11.00it/s,  acc: 0.512 f1: 0.512]\n"
     ]
    },
    {
     "name": "stdout",
     "output_type": "stream",
     "text": [
      "Epoch accuracy on dev: 0.512\n",
      "Epoch f1 on dev: 0.512\n",
      "Epoch: 61 of 100\n",
      "\n"
     ]
    },
    {
     "name": "stderr",
     "output_type": "stream",
     "text": [
      "train batches: 100%|██████████| 189/189 [01:06<00:00,  2.83it/s, loss: 2.487]\n"
     ]
    },
    {
     "name": "stdout",
     "output_type": "stream",
     "text": [
      "Adjusting learning rate of group 0 to 2.0000e-06.\n",
      "Average epoch loss: 1.9782548679245844\n",
      "Saved model to: /Users/johnsonzhou/git/comp90042-project/result/models/model_04_roberta_base_3_class.pth\n"
     ]
    },
    {
     "name": "stderr",
     "output_type": "stream",
     "text": [
      "dev batches: 100%|██████████| 23/23 [00:02<00:00, 10.62it/s,  acc: 0.513 f1: 0.513]\n"
     ]
    },
    {
     "name": "stdout",
     "output_type": "stream",
     "text": [
      "Epoch accuracy on dev: 0.512\n",
      "Epoch f1 on dev: 0.512\n",
      "Epoch: 62 of 100\n",
      "\n"
     ]
    },
    {
     "name": "stderr",
     "output_type": "stream",
     "text": [
      "train batches: 100%|██████████| 189/189 [01:06<00:00,  2.84it/s, loss: 1.657]\n"
     ]
    },
    {
     "name": "stdout",
     "output_type": "stream",
     "text": [
      "Adjusting learning rate of group 0 to 2.0000e-06.\n",
      "Average epoch loss: 1.9855035448831224\n"
     ]
    },
    {
     "name": "stderr",
     "output_type": "stream",
     "text": [
      "dev batches: 100%|██████████| 23/23 [00:02<00:00,  9.52it/s,  acc: 0.513 f1: 0.513]\n"
     ]
    },
    {
     "name": "stdout",
     "output_type": "stream",
     "text": [
      "Epoch accuracy on dev: 0.513\n",
      "Epoch f1 on dev: 0.513\n",
      "Epoch: 63 of 100\n",
      "\n"
     ]
    },
    {
     "name": "stderr",
     "output_type": "stream",
     "text": [
      "train batches: 100%|██████████| 189/189 [01:04<00:00,  2.93it/s, loss: 1.681]\n"
     ]
    },
    {
     "name": "stdout",
     "output_type": "stream",
     "text": [
      "Adjusting learning rate of group 0 to 2.0000e-06.\n",
      "Average epoch loss: 1.9669001953942435\n",
      "Saved model to: /Users/johnsonzhou/git/comp90042-project/result/models/model_04_roberta_base_3_class.pth\n"
     ]
    },
    {
     "name": "stderr",
     "output_type": "stream",
     "text": [
      "dev batches: 100%|██████████| 23/23 [00:02<00:00,  9.28it/s,  acc: 0.513 f1: 0.513]\n"
     ]
    },
    {
     "name": "stdout",
     "output_type": "stream",
     "text": [
      "Epoch accuracy on dev: 0.513\n",
      "Epoch f1 on dev: 0.513\n",
      "Epoch: 64 of 100\n",
      "\n"
     ]
    },
    {
     "name": "stderr",
     "output_type": "stream",
     "text": [
      "train batches: 100%|██████████| 189/189 [01:04<00:00,  2.92it/s, loss: 1.660]\n"
     ]
    },
    {
     "name": "stdout",
     "output_type": "stream",
     "text": [
      "Adjusting learning rate of group 0 to 2.0000e-06.\n",
      "Average epoch loss: 1.9753160713210938\n"
     ]
    },
    {
     "name": "stderr",
     "output_type": "stream",
     "text": [
      "dev batches: 100%|██████████| 23/23 [00:02<00:00,  9.22it/s,  acc: 0.513 f1: 0.513]\n"
     ]
    },
    {
     "name": "stdout",
     "output_type": "stream",
     "text": [
      "Epoch accuracy on dev: 0.513\n",
      "Epoch f1 on dev: 0.513\n",
      "Epoch: 65 of 100\n",
      "\n"
     ]
    },
    {
     "name": "stderr",
     "output_type": "stream",
     "text": [
      "train batches: 100%|██████████| 189/189 [01:05<00:00,  2.90it/s, loss: 1.818]\n"
     ]
    },
    {
     "name": "stdout",
     "output_type": "stream",
     "text": [
      "Adjusting learning rate of group 0 to 2.0000e-06.\n",
      "Average epoch loss: 1.9716898212357172\n",
      "Saved model to: /Users/johnsonzhou/git/comp90042-project/result/models/model_04_roberta_base_3_class.pth\n"
     ]
    },
    {
     "name": "stderr",
     "output_type": "stream",
     "text": [
      "dev batches: 100%|██████████| 23/23 [00:02<00:00,  9.59it/s,  acc: 0.513 f1: 0.513]\n"
     ]
    },
    {
     "name": "stdout",
     "output_type": "stream",
     "text": [
      "Epoch accuracy on dev: 0.513\n",
      "Epoch f1 on dev: 0.513\n",
      "Epoch: 66 of 100\n",
      "\n"
     ]
    },
    {
     "name": "stderr",
     "output_type": "stream",
     "text": [
      "train batches: 100%|██████████| 189/189 [01:04<00:00,  2.92it/s, loss: 1.663]\n"
     ]
    },
    {
     "name": "stdout",
     "output_type": "stream",
     "text": [
      "Adjusting learning rate of group 0 to 2.0000e-06.\n",
      "Average epoch loss: 1.9686179955800374\n",
      "Saved model to: /Users/johnsonzhou/git/comp90042-project/result/models/model_04_roberta_base_3_class.pth\n"
     ]
    },
    {
     "name": "stderr",
     "output_type": "stream",
     "text": [
      "dev batches: 100%|██████████| 23/23 [00:02<00:00,  9.68it/s,  acc: 0.513 f1: 0.513]\n"
     ]
    },
    {
     "name": "stdout",
     "output_type": "stream",
     "text": [
      "Epoch accuracy on dev: 0.513\n",
      "Epoch f1 on dev: 0.513\n",
      "Epoch: 67 of 100\n",
      "\n"
     ]
    },
    {
     "name": "stderr",
     "output_type": "stream",
     "text": [
      "train batches: 100%|██████████| 189/189 [01:04<00:00,  2.93it/s, loss: 1.657]\n"
     ]
    },
    {
     "name": "stdout",
     "output_type": "stream",
     "text": [
      "Adjusting learning rate of group 0 to 2.0000e-06.\n",
      "Average epoch loss: 1.9615404331494892\n",
      "Saved model to: /Users/johnsonzhou/git/comp90042-project/result/models/model_04_roberta_base_3_class.pth\n"
     ]
    },
    {
     "name": "stderr",
     "output_type": "stream",
     "text": [
      "dev batches: 100%|██████████| 23/23 [00:02<00:00,  9.84it/s,  acc: 0.513 f1: 0.513]\n"
     ]
    },
    {
     "name": "stdout",
     "output_type": "stream",
     "text": [
      "Epoch accuracy on dev: 0.513\n",
      "Epoch f1 on dev: 0.513\n",
      "Epoch: 68 of 100\n",
      "\n"
     ]
    },
    {
     "name": "stderr",
     "output_type": "stream",
     "text": [
      "train batches: 100%|██████████| 189/189 [01:05<00:00,  2.88it/s, loss: 3.153]\n"
     ]
    },
    {
     "name": "stdout",
     "output_type": "stream",
     "text": [
      "Adjusting learning rate of group 0 to 2.0000e-06.\n",
      "Average epoch loss: 1.9839915207454137\n"
     ]
    },
    {
     "name": "stderr",
     "output_type": "stream",
     "text": [
      "dev batches: 100%|██████████| 23/23 [00:02<00:00, 11.10it/s,  acc: 0.513 f1: 0.513]\n"
     ]
    },
    {
     "name": "stdout",
     "output_type": "stream",
     "text": [
      "Epoch accuracy on dev: 0.513\n",
      "Epoch f1 on dev: 0.513\n",
      "Epoch: 69 of 100\n",
      "\n"
     ]
    },
    {
     "name": "stderr",
     "output_type": "stream",
     "text": [
      "train batches: 100%|██████████| 189/189 [01:06<00:00,  2.84it/s, loss: 1.684]\n"
     ]
    },
    {
     "name": "stdout",
     "output_type": "stream",
     "text": [
      "Adjusting learning rate of group 0 to 2.0000e-06.\n",
      "Average epoch loss: 1.9638444412322271\n",
      "Saved model to: /Users/johnsonzhou/git/comp90042-project/result/models/model_04_roberta_base_3_class.pth\n"
     ]
    },
    {
     "name": "stderr",
     "output_type": "stream",
     "text": [
      "dev batches: 100%|██████████| 23/23 [00:02<00:00,  9.24it/s,  acc: 0.513 f1: 0.513]\n"
     ]
    },
    {
     "name": "stdout",
     "output_type": "stream",
     "text": [
      "Epoch accuracy on dev: 0.513\n",
      "Epoch f1 on dev: 0.513\n",
      "Epoch: 70 of 100\n",
      "\n"
     ]
    },
    {
     "name": "stderr",
     "output_type": "stream",
     "text": [
      "train batches: 100%|██████████| 189/189 [01:05<00:00,  2.86it/s, loss: 2.431]\n"
     ]
    },
    {
     "name": "stdout",
     "output_type": "stream",
     "text": [
      "Adjusting learning rate of group 0 to 2.0000e-06.\n",
      "Average epoch loss: 1.9654856267429532\n"
     ]
    },
    {
     "name": "stderr",
     "output_type": "stream",
     "text": [
      "dev batches: 100%|██████████| 23/23 [00:02<00:00, 10.45it/s,  acc: 0.513 f1: 0.513]\n"
     ]
    },
    {
     "name": "stdout",
     "output_type": "stream",
     "text": [
      "Epoch accuracy on dev: 0.513\n",
      "Epoch f1 on dev: 0.513\n",
      "Epoch: 71 of 100\n",
      "\n"
     ]
    },
    {
     "name": "stderr",
     "output_type": "stream",
     "text": [
      "train batches: 100%|██████████| 189/189 [01:06<00:00,  2.85it/s, loss: 3.152]\n"
     ]
    },
    {
     "name": "stdout",
     "output_type": "stream",
     "text": [
      "Adjusting learning rate of group 0 to 2.0000e-06.\n",
      "Average epoch loss: 1.9757023794310433\n"
     ]
    },
    {
     "name": "stderr",
     "output_type": "stream",
     "text": [
      "dev batches: 100%|██████████| 23/23 [00:02<00:00, 11.02it/s,  acc: 0.512 f1: 0.512]\n"
     ]
    },
    {
     "name": "stdout",
     "output_type": "stream",
     "text": [
      "Epoch accuracy on dev: 0.513\n",
      "Epoch f1 on dev: 0.513\n",
      "Epoch: 72 of 100\n",
      "\n"
     ]
    },
    {
     "name": "stderr",
     "output_type": "stream",
     "text": [
      "train batches: 100%|██████████| 189/189 [01:06<00:00,  2.84it/s, loss: 1.664]\n"
     ]
    },
    {
     "name": "stdout",
     "output_type": "stream",
     "text": [
      "Adjusting learning rate of group 0 to 2.0000e-06.\n",
      "Average epoch loss: 1.9663139070783342\n",
      "Saved model to: /Users/johnsonzhou/git/comp90042-project/result/models/model_04_roberta_base_3_class.pth\n"
     ]
    },
    {
     "name": "stderr",
     "output_type": "stream",
     "text": [
      "dev batches: 100%|██████████| 23/23 [00:02<00:00,  9.54it/s,  acc: 0.512 f1: 0.512]\n"
     ]
    },
    {
     "name": "stdout",
     "output_type": "stream",
     "text": [
      "Epoch accuracy on dev: 0.513\n",
      "Epoch f1 on dev: 0.513\n",
      "Epoch: 73 of 100\n",
      "\n"
     ]
    },
    {
     "name": "stderr",
     "output_type": "stream",
     "text": [
      "train batches: 100%|██████████| 189/189 [01:05<00:00,  2.87it/s, loss: 1.669]\n"
     ]
    },
    {
     "name": "stdout",
     "output_type": "stream",
     "text": [
      "Adjusting learning rate of group 0 to 2.0000e-06.\n",
      "Average epoch loss: 1.9525437638873147\n",
      "Saved model to: /Users/johnsonzhou/git/comp90042-project/result/models/model_04_roberta_base_3_class.pth\n"
     ]
    },
    {
     "name": "stderr",
     "output_type": "stream",
     "text": [
      "dev batches: 100%|██████████| 23/23 [00:02<00:00, 10.25it/s,  acc: 0.513 f1: 0.513]\n"
     ]
    },
    {
     "name": "stdout",
     "output_type": "stream",
     "text": [
      "Epoch accuracy on dev: 0.513\n",
      "Epoch f1 on dev: 0.513\n",
      "Epoch: 74 of 100\n",
      "\n"
     ]
    },
    {
     "name": "stderr",
     "output_type": "stream",
     "text": [
      "train batches: 100%|██████████| 189/189 [01:07<00:00,  2.81it/s, loss: 1.655]\n"
     ]
    },
    {
     "name": "stdout",
     "output_type": "stream",
     "text": [
      "Adjusting learning rate of group 0 to 2.0000e-06.\n",
      "Average epoch loss: 1.9593601633631994\n"
     ]
    },
    {
     "name": "stderr",
     "output_type": "stream",
     "text": [
      "dev batches: 100%|██████████| 23/23 [00:02<00:00, 10.04it/s,  acc: 0.513 f1: 0.513]\n"
     ]
    },
    {
     "name": "stdout",
     "output_type": "stream",
     "text": [
      "Epoch accuracy on dev: 0.513\n",
      "Epoch f1 on dev: 0.513\n",
      "Epoch: 75 of 100\n",
      "\n"
     ]
    },
    {
     "name": "stderr",
     "output_type": "stream",
     "text": [
      "train batches: 100%|██████████| 189/189 [01:06<00:00,  2.86it/s, loss: 1.655]\n"
     ]
    },
    {
     "name": "stdout",
     "output_type": "stream",
     "text": [
      "Adjusting learning rate of group 0 to 2.0000e-06.\n",
      "Average epoch loss: 1.9567487296603976\n",
      "Saved model to: /Users/johnsonzhou/git/comp90042-project/result/models/model_04_roberta_base_3_class.pth\n"
     ]
    },
    {
     "name": "stderr",
     "output_type": "stream",
     "text": [
      "dev batches: 100%|██████████| 23/23 [00:02<00:00,  9.53it/s,  acc: 0.513 f1: 0.513]\n"
     ]
    },
    {
     "name": "stdout",
     "output_type": "stream",
     "text": [
      "Epoch accuracy on dev: 0.513\n",
      "Epoch f1 on dev: 0.513\n",
      "Epoch: 76 of 100\n",
      "\n"
     ]
    },
    {
     "name": "stderr",
     "output_type": "stream",
     "text": [
      "train batches: 100%|██████████| 189/189 [01:06<00:00,  2.85it/s, loss: 1.655]\n"
     ]
    },
    {
     "name": "stdout",
     "output_type": "stream",
     "text": [
      "Adjusting learning rate of group 0 to 2.0000e-06.\n",
      "Average epoch loss: 1.9516242685772123\n",
      "Saved model to: /Users/johnsonzhou/git/comp90042-project/result/models/model_04_roberta_base_3_class.pth\n"
     ]
    },
    {
     "name": "stderr",
     "output_type": "stream",
     "text": [
      "dev batches: 100%|██████████| 23/23 [00:02<00:00,  9.89it/s,  acc: 0.513 f1: 0.513]\n"
     ]
    },
    {
     "name": "stdout",
     "output_type": "stream",
     "text": [
      "Epoch accuracy on dev: 0.513\n",
      "Epoch f1 on dev: 0.513\n",
      "Epoch: 77 of 100\n",
      "\n"
     ]
    },
    {
     "name": "stderr",
     "output_type": "stream",
     "text": [
      "train batches: 100%|██████████| 189/189 [01:06<00:00,  2.86it/s, loss: 1.656]\n"
     ]
    },
    {
     "name": "stdout",
     "output_type": "stream",
     "text": [
      "Adjusting learning rate of group 0 to 2.0000e-06.\n",
      "Average epoch loss: 1.960463855947767\n"
     ]
    },
    {
     "name": "stderr",
     "output_type": "stream",
     "text": [
      "dev batches: 100%|██████████| 23/23 [00:02<00:00, 10.71it/s,  acc: 0.514 f1: 0.514]\n"
     ]
    },
    {
     "name": "stdout",
     "output_type": "stream",
     "text": [
      "Epoch accuracy on dev: 0.513\n",
      "Epoch f1 on dev: 0.513\n",
      "Epoch: 78 of 100\n",
      "\n"
     ]
    },
    {
     "name": "stderr",
     "output_type": "stream",
     "text": [
      "train batches: 100%|██████████| 189/189 [01:06<00:00,  2.85it/s, loss: 3.154]\n"
     ]
    },
    {
     "name": "stdout",
     "output_type": "stream",
     "text": [
      "Adjusting learning rate of group 0 to 2.0000e-06.\n",
      "Average epoch loss: 1.9589133735687014\n",
      "Saved model to: /Users/johnsonzhou/git/comp90042-project/result/models/model_04_roberta_base_3_class.pth\n"
     ]
    },
    {
     "name": "stderr",
     "output_type": "stream",
     "text": [
      "dev batches: 100%|██████████| 23/23 [00:02<00:00,  9.66it/s,  acc: 0.513 f1: 0.513]\n"
     ]
    },
    {
     "name": "stdout",
     "output_type": "stream",
     "text": [
      "Epoch accuracy on dev: 0.514\n",
      "Epoch f1 on dev: 0.514\n",
      "Epoch: 79 of 100\n",
      "\n"
     ]
    },
    {
     "name": "stderr",
     "output_type": "stream",
     "text": [
      "train batches: 100%|██████████| 189/189 [01:06<00:00,  2.86it/s, loss: 1.683]\n"
     ]
    },
    {
     "name": "stdout",
     "output_type": "stream",
     "text": [
      "Adjusting learning rate of group 0 to 2.0000e-06.\n",
      "Average epoch loss: 1.9501091743272447\n",
      "Saved model to: /Users/johnsonzhou/git/comp90042-project/result/models/model_04_roberta_base_3_class.pth\n"
     ]
    },
    {
     "name": "stderr",
     "output_type": "stream",
     "text": [
      "dev batches: 100%|██████████| 23/23 [00:02<00:00,  9.49it/s,  acc: 0.514 f1: 0.514]\n"
     ]
    },
    {
     "name": "stdout",
     "output_type": "stream",
     "text": [
      "Epoch accuracy on dev: 0.514\n",
      "Epoch f1 on dev: 0.514\n",
      "Epoch: 80 of 100\n",
      "\n"
     ]
    },
    {
     "name": "stderr",
     "output_type": "stream",
     "text": [
      "train batches: 100%|██████████| 189/189 [01:07<00:00,  2.81it/s, loss: 3.094]\n"
     ]
    },
    {
     "name": "stdout",
     "output_type": "stream",
     "text": [
      "Adjusting learning rate of group 0 to 2.0000e-06.\n",
      "Average epoch loss: 1.9630927292127458\n"
     ]
    },
    {
     "name": "stderr",
     "output_type": "stream",
     "text": [
      "dev batches: 100%|██████████| 23/23 [00:02<00:00, 11.14it/s,  acc: 0.514 f1: 0.514]\n"
     ]
    },
    {
     "name": "stdout",
     "output_type": "stream",
     "text": [
      "Epoch accuracy on dev: 0.514\n",
      "Epoch f1 on dev: 0.514\n",
      "Epoch: 81 of 100\n",
      "\n"
     ]
    },
    {
     "name": "stderr",
     "output_type": "stream",
     "text": [
      "train batches: 100%|██████████| 189/189 [01:06<00:00,  2.82it/s, loss: 1.658]\n"
     ]
    },
    {
     "name": "stdout",
     "output_type": "stream",
     "text": [
      "Adjusting learning rate of group 0 to 2.0000e-06.\n",
      "Average epoch loss: 1.9448664443833488\n",
      "Saved model to: /Users/johnsonzhou/git/comp90042-project/result/models/model_04_roberta_base_3_class.pth\n"
     ]
    },
    {
     "name": "stderr",
     "output_type": "stream",
     "text": [
      "dev batches: 100%|██████████| 23/23 [00:02<00:00,  9.22it/s,  acc: 0.514 f1: 0.514]\n"
     ]
    },
    {
     "name": "stdout",
     "output_type": "stream",
     "text": [
      "Epoch accuracy on dev: 0.514\n",
      "Epoch f1 on dev: 0.514\n",
      "Epoch: 82 of 100\n",
      "\n"
     ]
    },
    {
     "name": "stderr",
     "output_type": "stream",
     "text": [
      "train batches: 100%|██████████| 189/189 [01:06<00:00,  2.85it/s, loss: 1.655]\n"
     ]
    },
    {
     "name": "stdout",
     "output_type": "stream",
     "text": [
      "Adjusting learning rate of group 0 to 2.0000e-06.\n",
      "Average epoch loss: 1.953756095871093\n"
     ]
    },
    {
     "name": "stderr",
     "output_type": "stream",
     "text": [
      "dev batches: 100%|██████████| 23/23 [00:02<00:00, 11.11it/s,  acc: 0.514 f1: 0.514]\n"
     ]
    },
    {
     "name": "stdout",
     "output_type": "stream",
     "text": [
      "Epoch accuracy on dev: 0.514\n",
      "Epoch f1 on dev: 0.514\n",
      "Epoch: 83 of 100\n",
      "\n"
     ]
    },
    {
     "name": "stderr",
     "output_type": "stream",
     "text": [
      "train batches: 100%|██████████| 189/189 [01:07<00:00,  2.81it/s, loss: 1.663]\n"
     ]
    },
    {
     "name": "stdout",
     "output_type": "stream",
     "text": [
      "Adjusting learning rate of group 0 to 2.0000e-06.\n",
      "Average epoch loss: 1.9523620274331834\n",
      "Saved model to: /Users/johnsonzhou/git/comp90042-project/result/models/model_04_roberta_base_3_class.pth\n"
     ]
    },
    {
     "name": "stderr",
     "output_type": "stream",
     "text": [
      "dev batches: 100%|██████████| 23/23 [00:02<00:00,  9.05it/s,  acc: 0.515 f1: 0.515]\n"
     ]
    },
    {
     "name": "stdout",
     "output_type": "stream",
     "text": [
      "Epoch accuracy on dev: 0.514\n",
      "Epoch f1 on dev: 0.514\n",
      "Epoch: 84 of 100\n",
      "\n"
     ]
    },
    {
     "name": "stderr",
     "output_type": "stream",
     "text": [
      "train batches: 100%|██████████| 189/189 [01:07<00:00,  2.79it/s, loss: 1.655]\n"
     ]
    },
    {
     "name": "stdout",
     "output_type": "stream",
     "text": [
      "Adjusting learning rate of group 0 to 2.0000e-06.\n",
      "Average epoch loss: 1.9495165376436143\n",
      "Saved model to: /Users/johnsonzhou/git/comp90042-project/result/models/model_04_roberta_base_3_class.pth\n"
     ]
    },
    {
     "name": "stderr",
     "output_type": "stream",
     "text": [
      "dev batches: 100%|██████████| 23/23 [00:02<00:00,  9.26it/s,  acc: 0.515 f1: 0.515]\n"
     ]
    },
    {
     "name": "stdout",
     "output_type": "stream",
     "text": [
      "Epoch accuracy on dev: 0.515\n",
      "Epoch f1 on dev: 0.515\n",
      "Epoch: 85 of 100\n",
      "\n"
     ]
    },
    {
     "name": "stderr",
     "output_type": "stream",
     "text": [
      "train batches: 100%|██████████| 189/189 [01:05<00:00,  2.88it/s, loss: 1.657]\n"
     ]
    },
    {
     "name": "stdout",
     "output_type": "stream",
     "text": [
      "Adjusting learning rate of group 0 to 2.0000e-06.\n",
      "Average epoch loss: 1.9528056865646726\n"
     ]
    },
    {
     "name": "stderr",
     "output_type": "stream",
     "text": [
      "dev batches: 100%|██████████| 23/23 [00:02<00:00, 10.79it/s,  acc: 0.515 f1: 0.515]\n"
     ]
    },
    {
     "name": "stdout",
     "output_type": "stream",
     "text": [
      "Epoch accuracy on dev: 0.515\n",
      "Epoch f1 on dev: 0.515\n",
      "Epoch: 86 of 100\n",
      "\n"
     ]
    },
    {
     "name": "stderr",
     "output_type": "stream",
     "text": [
      "train batches: 100%|██████████| 189/189 [01:05<00:00,  2.88it/s, loss: 1.663]\n"
     ]
    },
    {
     "name": "stdout",
     "output_type": "stream",
     "text": [
      "Adjusting learning rate of group 0 to 2.0000e-06.\n",
      "Average epoch loss: 1.949629462900616\n",
      "Saved model to: /Users/johnsonzhou/git/comp90042-project/result/models/model_04_roberta_base_3_class.pth\n"
     ]
    },
    {
     "name": "stderr",
     "output_type": "stream",
     "text": [
      "dev batches: 100%|██████████| 23/23 [00:02<00:00,  9.66it/s,  acc: 0.515 f1: 0.515]\n"
     ]
    },
    {
     "name": "stdout",
     "output_type": "stream",
     "text": [
      "Epoch accuracy on dev: 0.515\n",
      "Epoch f1 on dev: 0.515\n",
      "Epoch: 87 of 100\n",
      "\n"
     ]
    },
    {
     "name": "stderr",
     "output_type": "stream",
     "text": [
      "train batches: 100%|██████████| 189/189 [01:06<00:00,  2.83it/s, loss: 1.657]\n"
     ]
    },
    {
     "name": "stdout",
     "output_type": "stream",
     "text": [
      "Adjusting learning rate of group 0 to 2.0000e-06.\n",
      "Average epoch loss: 1.9494493755083235\n",
      "Saved model to: /Users/johnsonzhou/git/comp90042-project/result/models/model_04_roberta_base_3_class.pth\n"
     ]
    },
    {
     "name": "stderr",
     "output_type": "stream",
     "text": [
      "dev batches: 100%|██████████| 23/23 [00:02<00:00,  9.70it/s,  acc: 0.516 f1: 0.516]\n"
     ]
    },
    {
     "name": "stdout",
     "output_type": "stream",
     "text": [
      "Epoch accuracy on dev: 0.515\n",
      "Epoch f1 on dev: 0.515\n",
      "Epoch: 88 of 100\n",
      "\n"
     ]
    },
    {
     "name": "stderr",
     "output_type": "stream",
     "text": [
      "train batches: 100%|██████████| 189/189 [01:06<00:00,  2.85it/s, loss: 1.655]\n"
     ]
    },
    {
     "name": "stdout",
     "output_type": "stream",
     "text": [
      "Adjusting learning rate of group 0 to 2.0000e-06.\n",
      "Average epoch loss: 1.9538799354008265\n"
     ]
    },
    {
     "name": "stderr",
     "output_type": "stream",
     "text": [
      "dev batches: 100%|██████████| 23/23 [00:02<00:00, 10.60it/s,  acc: 0.516 f1: 0.516]\n"
     ]
    },
    {
     "name": "stdout",
     "output_type": "stream",
     "text": [
      "Epoch accuracy on dev: 0.516\n",
      "Epoch f1 on dev: 0.516\n",
      "Epoch: 89 of 100\n",
      "\n"
     ]
    },
    {
     "name": "stderr",
     "output_type": "stream",
     "text": [
      "train batches: 100%|██████████| 189/189 [01:07<00:00,  2.79it/s, loss: 1.655]\n"
     ]
    },
    {
     "name": "stdout",
     "output_type": "stream",
     "text": [
      "Adjusting learning rate of group 0 to 2.0000e-06.\n",
      "Average epoch loss: 1.950244543098268\n",
      "Saved model to: /Users/johnsonzhou/git/comp90042-project/result/models/model_04_roberta_base_3_class.pth\n"
     ]
    },
    {
     "name": "stderr",
     "output_type": "stream",
     "text": [
      "dev batches: 100%|██████████| 23/23 [00:02<00:00,  9.36it/s,  acc: 0.516 f1: 0.516]\n"
     ]
    },
    {
     "name": "stdout",
     "output_type": "stream",
     "text": [
      "Epoch accuracy on dev: 0.516\n",
      "Epoch f1 on dev: 0.516\n",
      "Epoch: 90 of 100\n",
      "\n"
     ]
    },
    {
     "name": "stderr",
     "output_type": "stream",
     "text": [
      "train batches: 100%|██████████| 189/189 [01:06<00:00,  2.86it/s, loss: 3.013]\n"
     ]
    },
    {
     "name": "stdout",
     "output_type": "stream",
     "text": [
      "Adjusting learning rate of group 0 to 2.0000e-06.\n",
      "Average epoch loss: 1.9495056545923626\n",
      "Saved model to: /Users/johnsonzhou/git/comp90042-project/result/models/model_04_roberta_base_3_class.pth\n"
     ]
    },
    {
     "name": "stderr",
     "output_type": "stream",
     "text": [
      "dev batches: 100%|██████████| 23/23 [00:02<00:00,  9.07it/s,  acc: 0.516 f1: 0.516]\n"
     ]
    },
    {
     "name": "stdout",
     "output_type": "stream",
     "text": [
      "Epoch accuracy on dev: 0.516\n",
      "Epoch f1 on dev: 0.516\n",
      "Epoch: 91 of 100\n",
      "\n"
     ]
    },
    {
     "name": "stderr",
     "output_type": "stream",
     "text": [
      "train batches: 100%|██████████| 189/189 [01:08<00:00,  2.77it/s, loss: 1.688]\n"
     ]
    },
    {
     "name": "stdout",
     "output_type": "stream",
     "text": [
      "Adjusting learning rate of group 0 to 2.0000e-06.\n",
      "Average epoch loss: 1.9399433514428517\n",
      "Saved model to: /Users/johnsonzhou/git/comp90042-project/result/models/model_04_roberta_base_3_class.pth\n"
     ]
    },
    {
     "name": "stderr",
     "output_type": "stream",
     "text": [
      "dev batches: 100%|██████████| 23/23 [00:02<00:00,  9.10it/s,  acc: 0.516 f1: 0.516]\n"
     ]
    },
    {
     "name": "stdout",
     "output_type": "stream",
     "text": [
      "Epoch accuracy on dev: 0.516\n",
      "Epoch f1 on dev: 0.516\n",
      "Epoch: 92 of 100\n",
      "\n"
     ]
    },
    {
     "name": "stderr",
     "output_type": "stream",
     "text": [
      "train batches: 100%|██████████| 189/189 [01:06<00:00,  2.84it/s, loss: 1.677]\n"
     ]
    },
    {
     "name": "stdout",
     "output_type": "stream",
     "text": [
      "Adjusting learning rate of group 0 to 2.0000e-06.\n",
      "Average epoch loss: 1.9483399173570057\n"
     ]
    },
    {
     "name": "stderr",
     "output_type": "stream",
     "text": [
      "dev batches: 100%|██████████| 23/23 [00:02<00:00, 10.97it/s,  acc: 0.516 f1: 0.516]\n"
     ]
    },
    {
     "name": "stdout",
     "output_type": "stream",
     "text": [
      "Epoch accuracy on dev: 0.516\n",
      "Epoch f1 on dev: 0.516\n",
      "Epoch: 93 of 100\n",
      "\n"
     ]
    },
    {
     "name": "stderr",
     "output_type": "stream",
     "text": [
      "train batches: 100%|██████████| 189/189 [01:08<00:00,  2.78it/s, loss: 1.660]\n"
     ]
    },
    {
     "name": "stdout",
     "output_type": "stream",
     "text": [
      "Adjusting learning rate of group 0 to 2.0000e-06.\n",
      "Average epoch loss: 1.950664408623226\n"
     ]
    },
    {
     "name": "stderr",
     "output_type": "stream",
     "text": [
      "dev batches: 100%|██████████| 23/23 [00:02<00:00,  9.40it/s,  acc: 0.517 f1: 0.517]\n"
     ]
    },
    {
     "name": "stdout",
     "output_type": "stream",
     "text": [
      "Epoch accuracy on dev: 0.516\n",
      "Epoch f1 on dev: 0.516\n",
      "Epoch: 94 of 100\n",
      "\n"
     ]
    },
    {
     "name": "stderr",
     "output_type": "stream",
     "text": [
      "train batches: 100%|██████████| 189/189 [01:06<00:00,  2.84it/s, loss: 1.822]\n"
     ]
    },
    {
     "name": "stdout",
     "output_type": "stream",
     "text": [
      "Adjusting learning rate of group 0 to 2.0000e-06.\n",
      "Average epoch loss: 1.9405182070202298\n",
      "Saved model to: /Users/johnsonzhou/git/comp90042-project/result/models/model_04_roberta_base_3_class.pth\n"
     ]
    },
    {
     "name": "stderr",
     "output_type": "stream",
     "text": [
      "dev batches: 100%|██████████| 23/23 [00:02<00:00,  9.26it/s,  acc: 0.516 f1: 0.516]\n"
     ]
    },
    {
     "name": "stdout",
     "output_type": "stream",
     "text": [
      "Epoch accuracy on dev: 0.517\n",
      "Epoch f1 on dev: 0.517\n",
      "Epoch: 95 of 100\n",
      "\n"
     ]
    },
    {
     "name": "stderr",
     "output_type": "stream",
     "text": [
      "train batches: 100%|██████████| 189/189 [01:06<00:00,  2.86it/s, loss: 1.660]\n"
     ]
    },
    {
     "name": "stdout",
     "output_type": "stream",
     "text": [
      "Adjusting learning rate of group 0 to 2.0000e-06.\n",
      "Average epoch loss: 1.9440210499460735\n"
     ]
    },
    {
     "name": "stderr",
     "output_type": "stream",
     "text": [
      "dev batches: 100%|██████████| 23/23 [00:02<00:00, 10.65it/s,  acc: 0.516 f1: 0.516]\n"
     ]
    },
    {
     "name": "stdout",
     "output_type": "stream",
     "text": [
      "Epoch accuracy on dev: 0.516\n",
      "Epoch f1 on dev: 0.516\n",
      "Epoch: 96 of 100\n",
      "\n"
     ]
    },
    {
     "name": "stderr",
     "output_type": "stream",
     "text": [
      "train batches: 100%|██████████| 189/189 [01:06<00:00,  2.83it/s, loss: 3.154]\n"
     ]
    },
    {
     "name": "stdout",
     "output_type": "stream",
     "text": [
      "Adjusting learning rate of group 0 to 2.0000e-06.\n",
      "Average epoch loss: 1.9484724970090956\n"
     ]
    },
    {
     "name": "stderr",
     "output_type": "stream",
     "text": [
      "dev batches: 100%|██████████| 23/23 [00:02<00:00, 10.89it/s,  acc: 0.517 f1: 0.517]\n"
     ]
    },
    {
     "name": "stdout",
     "output_type": "stream",
     "text": [
      "Epoch accuracy on dev: 0.517\n",
      "Epoch f1 on dev: 0.517\n",
      "Epoch: 97 of 100\n",
      "\n"
     ]
    },
    {
     "name": "stderr",
     "output_type": "stream",
     "text": [
      "train batches: 100%|██████████| 189/189 [01:06<00:00,  2.85it/s, loss: 1.655]\n"
     ]
    },
    {
     "name": "stdout",
     "output_type": "stream",
     "text": [
      "Adjusting learning rate of group 0 to 2.0000e-06.\n",
      "Average epoch loss: 1.9443574926209828\n",
      "Saved model to: /Users/johnsonzhou/git/comp90042-project/result/models/model_04_roberta_base_3_class.pth\n"
     ]
    },
    {
     "name": "stderr",
     "output_type": "stream",
     "text": [
      "dev batches: 100%|██████████| 23/23 [00:02<00:00, 10.23it/s,  acc: 0.517 f1: 0.517]\n"
     ]
    },
    {
     "name": "stdout",
     "output_type": "stream",
     "text": [
      "Epoch accuracy on dev: 0.517\n",
      "Epoch f1 on dev: 0.517\n",
      "Epoch: 98 of 100\n",
      "\n"
     ]
    },
    {
     "name": "stderr",
     "output_type": "stream",
     "text": [
      "train batches: 100%|██████████| 189/189 [01:06<00:00,  2.84it/s, loss: 1.673]\n"
     ]
    },
    {
     "name": "stdout",
     "output_type": "stream",
     "text": [
      "Adjusting learning rate of group 0 to 2.0000e-06.\n",
      "Average epoch loss: 1.9446840589008634\n"
     ]
    },
    {
     "name": "stderr",
     "output_type": "stream",
     "text": [
      "dev batches: 100%|██████████| 23/23 [00:02<00:00, 10.65it/s,  acc: 0.517 f1: 0.517]\n"
     ]
    },
    {
     "name": "stdout",
     "output_type": "stream",
     "text": [
      "Epoch accuracy on dev: 0.517\n",
      "Epoch f1 on dev: 0.517\n",
      "Epoch: 99 of 100\n",
      "\n"
     ]
    },
    {
     "name": "stderr",
     "output_type": "stream",
     "text": [
      "train batches: 100%|██████████| 189/189 [01:07<00:00,  2.82it/s, loss: 1.655]\n"
     ]
    },
    {
     "name": "stdout",
     "output_type": "stream",
     "text": [
      "Adjusting learning rate of group 0 to 2.0000e-06.\n",
      "Average epoch loss: 1.9458723172308907\n"
     ]
    },
    {
     "name": "stderr",
     "output_type": "stream",
     "text": [
      "dev batches: 100%|██████████| 23/23 [00:02<00:00,  9.81it/s,  acc: 0.517 f1: 0.517]"
     ]
    },
    {
     "name": "stdout",
     "output_type": "stream",
     "text": [
      "Epoch accuracy on dev: 0.517\n",
      "Epoch f1 on dev: 0.517\n",
      "Done!\n"
     ]
    },
    {
     "name": "stderr",
     "output_type": "stream",
     "text": [
      "\n"
     ]
    }
   ],
   "source": [
    "metric_accuracy = MulticlassAccuracy()\n",
    "metric_f1 = MulticlassF1Score()\n",
    "\n",
    "scheduler = LinearLR(\n",
    "    optimizer=optimizer,\n",
    "    start_factor=0.1,\n",
    "    end_factor=1,\n",
    "    total_iters=int(N_EPOCHS/10),\n",
    "    verbose=True\n",
    ")\n",
    "last_epoch_loss = 999\n",
    "for epoch in range(N_EPOCHS):\n",
    "    \n",
    "    print(f\"Epoch: {epoch} of {N_EPOCHS}\\n\")\n",
    "    \n",
    "    # Run training\n",
    "    model.train()\n",
    "    \n",
    "    train_batches = tqdm(train_dataloader, desc=\"train batches\")\n",
    "    running_losses = []\n",
    "    for batch in train_batches:\n",
    "        claim_texts, evidence_texts, labels = batch\n",
    "        \n",
    "        # Reset optimizer\n",
    "        optimizer.zero_grad()\n",
    "        \n",
    "        # Forward + loss\n",
    "        predictions = model(claim_texts, evidence_texts)\n",
    "        loss = loss_fn(predictions, labels)\n",
    "        \n",
    "        # Backward + optimiser\n",
    "        loss.backward()\n",
    "        optimizer.step()\n",
    "        \n",
    "        # Update running loss\n",
    "        batch_loss = loss.item() * len(batch)\n",
    "        running_losses.append(batch_loss)\n",
    "        \n",
    "        train_batches.postfix = f\"loss: {batch_loss:.3f}\"\n",
    "        \n",
    "        continue\n",
    "    \n",
    "    scheduler.step()\n",
    "    \n",
    "    epoch_loss = np.average(running_losses)\n",
    "    print(f\"Average epoch loss: {epoch_loss}\")\n",
    "    \n",
    "    # Save model\n",
    "    if epoch_loss <= last_epoch_loss:\n",
    "        torch.save(model, MODEL_PATH.with_name(MODEL_NAME))\n",
    "        print(f\"Saved model to: {MODEL_PATH.with_name(MODEL_NAME)}\")\n",
    "    last_epoch_loss = epoch_loss\n",
    "    \n",
    "    # Evaluate every 5 epochs\n",
    "    # if epoch % 5 != 0:\n",
    "    #     continue\n",
    "    \n",
    "    # Run evaluation\n",
    "    model.eval()\n",
    "    \n",
    "    dev_batches = tqdm(dev_dataloader, desc=\"dev batches\")\n",
    "    dev_acc = []\n",
    "    dev_f1 = []\n",
    "    for batch in dev_batches:\n",
    "        claim_texts, evidence_texts, labels = batch\n",
    "        \n",
    "        # Forward\n",
    "        predictions = model(claim_texts, evidence_texts)\n",
    "        \n",
    "        # Prediction\n",
    "        predicted = torch.argmax(predictions, dim=1)\n",
    "        \n",
    "        # Metrics\n",
    "        metric_accuracy.update(predicted.cpu(), labels.cpu())\n",
    "        metric_f1.update(predicted.cpu(), labels.cpu())\n",
    "        \n",
    "        acc = metric_accuracy.compute()\n",
    "        f1 = metric_f1.compute()\n",
    "        \n",
    "        dev_acc.append(acc)\n",
    "        dev_f1.append(f1)\n",
    "        \n",
    "        dev_batches.postfix = f\" acc: {acc:.3f} f1: {f1:.3f}\"\n",
    "        \n",
    "        continue\n",
    "    \n",
    "    val_acc = np.mean(dev_acc)\n",
    "    val_f1 = np.mean(dev_f1)\n",
    "    \n",
    "    print(f\"Epoch accuracy on dev: {val_acc:.3f}\")\n",
    "    print(f\"Epoch f1 on dev: {val_f1:.3f}\")\n",
    "\n",
    "print(\"Done!\")"
   ]
  }
 ],
 "metadata": {
  "kernelspec": {
   "display_name": "comp90042_project",
   "language": "python",
   "name": "python3"
  },
  "language_info": {
   "codemirror_mode": {
    "name": "ipython",
    "version": 3
   },
   "file_extension": ".py",
   "mimetype": "text/x-python",
   "name": "python",
   "nbconvert_exporter": "python",
   "pygments_lexer": "ipython3",
   "version": "3.8.16"
  },
  "orig_nbformat": 4
 },
 "nbformat": 4,
 "nbformat_minor": 2
}
