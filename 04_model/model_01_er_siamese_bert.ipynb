{
 "cells": [
  {
   "attachments": {},
   "cell_type": "markdown",
   "metadata": {},
   "source": [
    "# Model 01\n",
    "\n",
    "Evidence retrieval using a Siamese BERT classification model.\n",
    "\n",
    "Ref:\n",
    "- [STS continue training guide](https://github.com/UKPLab/sentence-transformers/blob/master/examples/training/sts/training_stsbenchmark_continue_training.py)"
   ]
  },
  {
   "attachments": {},
   "cell_type": "markdown",
   "metadata": {},
   "source": [
    "## Setup"
   ]
  },
  {
   "attachments": {},
   "cell_type": "markdown",
   "metadata": {},
   "source": [
    "### Working Directory"
   ]
  },
  {
   "cell_type": "code",
   "execution_count": 1,
   "metadata": {},
   "outputs": [],
   "source": [
    "# Change the working directory to project root\n",
    "import pathlib\n",
    "import os\n",
    "ROOT_DIR = pathlib.Path.cwd()\n",
    "while not ROOT_DIR.joinpath(\"src\").exists():\n",
    "    ROOT_DIR = ROOT_DIR.parent\n",
    "os.chdir(ROOT_DIR)"
   ]
  },
  {
   "attachments": {},
   "cell_type": "markdown",
   "metadata": {},
   "source": [
    "### File paths"
   ]
  },
  {
   "cell_type": "code",
   "execution_count": 2,
   "metadata": {},
   "outputs": [],
   "source": [
    "DATA_PATH = ROOT_DIR.joinpath(\"./result/train_data/*\")\n",
    "MODEL_PATH = ROOT_DIR.joinpath(\"./result/models/*\")"
   ]
  },
  {
   "attachments": {},
   "cell_type": "markdown",
   "metadata": {},
   "source": [
    "### Dependencies"
   ]
  },
  {
   "cell_type": "code",
   "execution_count": 3,
   "metadata": {},
   "outputs": [
    {
     "name": "stdout",
     "output_type": "stream",
     "text": [
      "Torch device is 'mps'\n"
     ]
    },
    {
     "name": "stderr",
     "output_type": "stream",
     "text": [
      "/opt/homebrew/Caskroom/miniconda/base/envs/comp90042_project/lib/python3.8/site-packages/tqdm/auto.py:21: TqdmWarning: IProgress not found. Please update jupyter and ipywidgets. See https://ipywidgets.readthedocs.io/en/stable/user_install.html\n",
      "  from .autonotebook import tqdm as notebook_tqdm\n"
     ]
    }
   ],
   "source": [
    "# Imports and dependencies\n",
    "import spacy\n",
    "import torch\n",
    "from torch import nn\n",
    "from torch.utils.data import DataLoader\n",
    "from sentence_transformers import SentenceTransformer, LoggingHandler\n",
    "from sentence_transformers.losses import SoftmaxLoss\n",
    "from sentence_transformers.evaluation import BinaryClassificationEvaluator\n",
    "from src.torch_utils import get_torch_device\n",
    "from src.spacy_utils import process_sentence\n",
    "from src.model_01 import ClaimEvidenceDataset\n",
    "from datetime import datetime\n",
    "import logging\n",
    "import math\n",
    "\n",
    "torch_device = get_torch_device()"
   ]
  },
  {
   "attachments": {},
   "cell_type": "markdown",
   "metadata": {},
   "source": [
    "### Names"
   ]
  },
  {
   "cell_type": "code",
   "execution_count": 4,
   "metadata": {},
   "outputs": [],
   "source": [
    "run_time = datetime.now().strftime('%Y_%m_%d_%H_%M')\n",
    "model_save_path = MODEL_PATH.with_name(f\"model_01_{run_time}\")\n",
    "eval_name = \"model_01_dev\""
   ]
  },
  {
   "attachments": {},
   "cell_type": "markdown",
   "metadata": {},
   "source": [
    "### Logging"
   ]
  },
  {
   "cell_type": "code",
   "execution_count": 5,
   "metadata": {},
   "outputs": [],
   "source": [
    "logging.basicConfig(format='%(asctime)s - %(message)s',\n",
    "    datefmt='%Y-%m-%d %H:%M:%S',\n",
    "    level=logging.INFO,\n",
    "    handlers=[LoggingHandler()]\n",
    ")"
   ]
  },
  {
   "attachments": {},
   "cell_type": "markdown",
   "metadata": {},
   "source": [
    "## Dataset"
   ]
  },
  {
   "cell_type": "code",
   "execution_count": 6,
   "metadata": {},
   "outputs": [],
   "source": [
    "# Path to the claim evidence pair json data file\n",
    "train_data_file = DATA_PATH.with_name(\"train_claim_evidence_pair_rns.json\")\n",
    "dev_data_file = DATA_PATH.with_name(\"dev_claim_evidence_pair_rns.json\")"
   ]
  },
  {
   "cell_type": "code",
   "execution_count": 7,
   "metadata": {},
   "outputs": [
    {
     "name": "stdout",
     "output_type": "stream",
     "text": [
      "Generate claim-evidence pair with related_random strategy n=0\n"
     ]
    },
    {
     "name": "stderr",
     "output_type": "stream",
     "text": [
      "claims: 100%|██████████| 1228/1228 [01:19<00:00, 15.43it/s]\n"
     ]
    },
    {
     "name": "stdout",
     "output_type": "stream",
     "text": [
      "Generate claim-evidence pair with related_random strategy n=0\n"
     ]
    },
    {
     "name": "stderr",
     "output_type": "stream",
     "text": [
      "claims: 100%|██████████| 154/154 [00:08<00:00, 18.52it/s]\n"
     ]
    }
   ],
   "source": [
    "train_data = ClaimEvidenceDataset(\n",
    "    claims_json=\"./data/train-claims.json\",\n",
    "    evidence_json=\"./data/evidence.json\",\n",
    "    negative_sample_strategy=\"related_random\",\n",
    "    negative_sample_size=0,\n",
    "    preprocess_func=None\n",
    ")\n",
    "dev_data = ClaimEvidenceDataset(\n",
    "    claims_json=\"./data/dev-claims.json\",\n",
    "    evidence_json=\"./data/evidence.json\",\n",
    "    negative_sample_strategy=\"related_random\",\n",
    "    negative_sample_size=0,\n",
    "    preprocess_func=None\n",
    ")"
   ]
  },
  {
   "cell_type": "code",
   "execution_count": 8,
   "metadata": {},
   "outputs": [
    {
     "name": "stdout",
     "output_type": "stream",
     "text": [
      "12366\n",
      "1473\n"
     ]
    }
   ],
   "source": [
    "print(len(train_data))\n",
    "print(len(dev_data))"
   ]
  },
  {
   "cell_type": "code",
   "execution_count": 9,
   "metadata": {},
   "outputs": [
    {
     "name": "stdout",
     "output_type": "stream",
     "text": [
      "<InputExample> label: 1, texts: Not only is there no scientific evidence that CO2 is a pollutant, higher CO2 concentrations actually help ecosystems support more plant and animal life.; At very high concentrations (100 times atmospheric concentration, or greater), carbon dioxide can be toxic to animal life, so raising the concentration to 10,000 ppm (1%) or higher for several hours will eliminate pests such as whiteflies and spider mites in a greenhouse.\n",
      "<InputExample> label: 1, texts: Not only is there no scientific evidence that CO2 is a pollutant, higher CO2 concentrations actually help ecosystems support more plant and animal life.; Plants can grow as much as 50 percent faster in concentrations of 1,000 ppm CO 2 when compared with ambient conditions, though this assumes no change in climate and no limitation on other nutrients.\n",
      "<InputExample> label: 1, texts: Not only is there no scientific evidence that CO2 is a pollutant, higher CO2 concentrations actually help ecosystems support more plant and animal life.; Higher carbon dioxide concentrations will favourably affect plant growth and demand for water.\n",
      "<InputExample> label: 0, texts: Not only is there no scientific evidence that CO2 is a pollutant, higher CO2 concentrations actually help ecosystems support more plant and animal life.; Since water vapor is a greenhouse gas, the increase in water vapor content makes the atmosphere warm further; this warming causes the atmosphere to hold still more water vapor (a positive feedback), and so on until other processes stop the feedback loop.\n",
      "<InputExample> label: 0, texts: Not only is there no scientific evidence that CO2 is a pollutant, higher CO2 concentrations actually help ecosystems support more plant and animal life.; As the Earth's climate warms, we are seeing many changes: stronger, more destructive hurricanes; heavier rainfall; more disastrous flooding; more areas of the world experiencing severe drought; and more heat waves.\"\n",
      "<InputExample> label: 0, texts: Not only is there no scientific evidence that CO2 is a pollutant, higher CO2 concentrations actually help ecosystems support more plant and animal life.; Between 1989 and 2002 the Global Climate Coalition, a group of mainly United States businesses, used aggressive lobbying and public relations tactics to oppose action to reduce greenhouse gas emissions and fight the Kyoto Protocol.\n",
      "<InputExample> label: 0, texts: Not only is there no scientific evidence that CO2 is a pollutant, higher CO2 concentrations actually help ecosystems support more plant and animal life.; The Guia Race of Macau is an international touring car race, and currently a round of the TCR International Series.\n",
      "<InputExample> label: 0, texts: Not only is there no scientific evidence that CO2 is a pollutant, higher CO2 concentrations actually help ecosystems support more plant and animal life.; Also on the property is a barn built about 1900.\n",
      "<InputExample> label: 0, texts: Not only is there no scientific evidence that CO2 is a pollutant, higher CO2 concentrations actually help ecosystems support more plant and animal life.; The rank listed is the recipient 's rank at the time the Knight 's Cross was awarded.\n"
     ]
    }
   ],
   "source": [
    "for sample in train_data:\n",
    "    if sample.texts[0] == \"Not only is there no scientific evidence that CO2 is a pollutant, higher CO2 concentrations actually help ecosystems support more plant and animal life.\":\n",
    "        print(sample)"
   ]
  },
  {
   "attachments": {},
   "cell_type": "markdown",
   "metadata": {},
   "source": [
    "## Select model components"
   ]
  },
  {
   "cell_type": "code",
   "execution_count": 10,
   "metadata": {},
   "outputs": [
    {
     "data": {
      "text/plain": [
       "<spacy.lang.en.English at 0x10640c580>"
      ]
     },
     "execution_count": 10,
     "metadata": {},
     "output_type": "execute_result"
    }
   ],
   "source": [
    "nlp = spacy.load(\"en_core_web_trf\")\n",
    "nlp"
   ]
  },
  {
   "cell_type": "code",
   "execution_count": 11,
   "metadata": {},
   "outputs": [
    {
     "name": "stdout",
     "output_type": "stream",
     "text": [
      "2023-04-27 14:59:17 - Load pretrained SentenceTransformer: sentence-transformers/msmarco-bert-base-dot-v5\n"
     ]
    },
    {
     "data": {
      "text/plain": [
       "SentenceTransformer(\n",
       "  (0): Transformer({'max_seq_length': 512, 'do_lower_case': False}) with Transformer model: BertModel \n",
       "  (1): Pooling({'word_embedding_dimension': 768, 'pooling_mode_cls_token': False, 'pooling_mode_mean_tokens': True, 'pooling_mode_max_tokens': False, 'pooling_mode_mean_sqrt_len_tokens': False})\n",
       ")"
      ]
     },
     "execution_count": 11,
     "metadata": {},
     "output_type": "execute_result"
    }
   ],
   "source": [
    "model = SentenceTransformer(\n",
    "    \"sentence-transformers/msmarco-bert-base-dot-v5\",\n",
    "    device=torch_device\n",
    ")\n",
    "model"
   ]
  },
  {
   "cell_type": "code",
   "execution_count": 12,
   "metadata": {},
   "outputs": [
    {
     "name": "stdout",
     "output_type": "stream",
     "text": [
      "2023-04-27 14:59:17 - Softmax loss: #Vectors concatenated: 3\n"
     ]
    },
    {
     "data": {
      "text/plain": [
       "SoftmaxLoss(\n",
       "  (model): SentenceTransformer(\n",
       "    (0): Transformer({'max_seq_length': 512, 'do_lower_case': False}) with Transformer model: BertModel \n",
       "    (1): Pooling({'word_embedding_dimension': 768, 'pooling_mode_cls_token': False, 'pooling_mode_mean_tokens': True, 'pooling_mode_max_tokens': False, 'pooling_mode_mean_sqrt_len_tokens': False})\n",
       "  )\n",
       "  (classifier): Linear(in_features=2304, out_features=2, bias=True)\n",
       "  (loss_fct): CrossEntropyLoss()\n",
       ")"
      ]
     },
     "execution_count": 12,
     "metadata": {},
     "output_type": "execute_result"
    }
   ],
   "source": [
    "train_loss = SoftmaxLoss(\n",
    "    model=model,\n",
    "    sentence_embedding_dimension=model.get_sentence_embedding_dimension(),\n",
    "    num_labels=2,\n",
    "    concatenation_sent_rep=True,\n",
    "    concatenation_sent_difference=True,\n",
    "    concatenation_sent_multiplication=False,\n",
    "    loss_fct=nn.CrossEntropyLoss()\n",
    ")\n",
    "train_loss"
   ]
  },
  {
   "cell_type": "code",
   "execution_count": 13,
   "metadata": {},
   "outputs": [
    {
     "data": {
      "text/plain": [
       "<sentence_transformers.evaluation.BinaryClassificationEvaluator.BinaryClassificationEvaluator at 0x2ca2c5910>"
      ]
     },
     "execution_count": 13,
     "metadata": {},
     "output_type": "execute_result"
    }
   ],
   "source": [
    "train_eval = BinaryClassificationEvaluator.from_input_examples(\n",
    "    examples=dev_data,\n",
    "    name=eval_name,\n",
    "    write_csv=True,\n",
    "    show_progress_bar=True\n",
    ")\n",
    "train_eval"
   ]
  },
  {
   "attachments": {},
   "cell_type": "markdown",
   "metadata": {},
   "source": [
    "## Training"
   ]
  },
  {
   "cell_type": "code",
   "execution_count": 14,
   "metadata": {},
   "outputs": [],
   "source": [
    "train_batch_size = 64\n",
    "num_epochs = 5"
   ]
  },
  {
   "cell_type": "code",
   "execution_count": 15,
   "metadata": {},
   "outputs": [],
   "source": [
    "train_dataloader = DataLoader(\n",
    "    dataset=train_data,\n",
    "    shuffle=True,\n",
    "    batch_size=train_batch_size\n",
    ")\n",
    "dev_dataloader = DataLoader(\n",
    "    dataset=dev_data,\n",
    "    shuffle=True,\n",
    "    batch_size=train_batch_size\n",
    ")"
   ]
  },
  {
   "cell_type": "code",
   "execution_count": 16,
   "metadata": {},
   "outputs": [],
   "source": [
    "#10% of train data for warm-up\n",
    "warmup_steps = math.ceil(len(train_dataloader) * num_epochs * 0.1)"
   ]
  },
  {
   "cell_type": "code",
   "execution_count": 17,
   "metadata": {},
   "outputs": [
    {
     "name": "stderr",
     "output_type": "stream",
     "text": [
      "Epoch:   0%|          | 0/5 [00:00<?, ?it/s]/opt/homebrew/Caskroom/miniconda/base/envs/comp90042_project/lib/python3.8/site-packages/torch/autograd/__init__.py:200: UserWarning: The operator 'aten::sgn.out' is not currently supported on the MPS backend and will fall back to run on the CPU. This may have performance implications. (Triggered internally at /Users/runner/miniforge3/conda-bld/pytorch-recipe_1680607560203/work/aten/src/ATen/mps/MPSFallback.mm:11.)\n",
      "  Variable._execution_engine.run_backward(  # Calls into the C++ engine to run the backward pass\n",
      "Iteration: 100%|██████████| 194/194 [06:31<00:00,  2.02s/it]\n",
      "Epoch:   0%|          | 0/5 [06:31<?, ?it/s]"
     ]
    },
    {
     "name": "stdout",
     "output_type": "stream",
     "text": [
      "2023-04-27 15:05:49 - Binary Accuracy Evaluation of the model on model_01_dev dataset after epoch 0:\n"
     ]
    },
    {
     "name": "stderr",
     "output_type": "stream",
     "text": [
      "Batches: 100%|██████████| 35/35 [00:08<00:00,  4.28it/s]\n",
      "Epoch:   0%|          | 0/5 [06:39<?, ?it/s]"
     ]
    },
    {
     "name": "stdout",
     "output_type": "stream",
     "text": [
      "2023-04-27 15:05:57 - Accuracy with Cosine-Similarity:           87.98\t(Threshold: 0.7984)\n",
      "2023-04-27 15:05:57 - F1 with Cosine-Similarity:                 81.77\t(Threshold: 0.7973)\n",
      "2023-04-27 15:05:57 - Precision with Cosine-Similarity:          82.71\n",
      "2023-04-27 15:05:57 - Recall with Cosine-Similarity:             80.86\n",
      "2023-04-27 15:05:57 - Average Precision with Cosine-Similarity:  87.95\n",
      "\n",
      "2023-04-27 15:05:57 - Accuracy with Manhattan-Distance:           88.32\t(Threshold: 233.5319)\n",
      "2023-04-27 15:05:57 - F1 with Manhattan-Distance:                 82.48\t(Threshold: 233.5319)\n",
      "2023-04-27 15:05:57 - Precision with Manhattan-Distance:          82.48\n",
      "2023-04-27 15:05:57 - Recall with Manhattan-Distance:             82.48\n",
      "2023-04-27 15:05:57 - Average Precision with Manhattan-Distance:  88.22\n",
      "\n",
      "2023-04-27 15:05:57 - Accuracy with Euclidean-Distance:           88.19\t(Threshold: 10.7523)\n",
      "2023-04-27 15:05:57 - F1 with Euclidean-Distance:                 82.32\t(Threshold: 10.7523)\n",
      "2023-04-27 15:05:57 - Precision with Euclidean-Distance:          82.15\n",
      "2023-04-27 15:05:57 - Recall with Euclidean-Distance:             82.48\n",
      "2023-04-27 15:05:57 - Average Precision with Euclidean-Distance:  88.11\n",
      "\n",
      "2023-04-27 15:05:57 - Accuracy with Dot-Product:           86.22\t(Threshold: 221.0562)\n",
      "2023-04-27 15:05:57 - F1 with Dot-Product:                 80.89\t(Threshold: 199.2893)\n",
      "2023-04-27 15:05:57 - Precision with Dot-Product:          74.28\n",
      "2023-04-27 15:05:57 - Recall with Dot-Product:             88.80\n",
      "2023-04-27 15:05:57 - Average Precision with Dot-Product:  84.85\n",
      "\n",
      "2023-04-27 15:05:57 - Save model to /Users/johnsonzhou/git/comp90042-project/result/models/model_01_2023_04_27_14_57\n"
     ]
    },
    {
     "name": "stderr",
     "output_type": "stream",
     "text": [
      "Iteration: 100%|██████████| 194/194 [08:56<00:00,  2.77s/it]\n",
      "Epoch:  20%|██        | 1/5 [15:36<26:41, 400.32s/it]"
     ]
    },
    {
     "name": "stdout",
     "output_type": "stream",
     "text": [
      "2023-04-27 15:14:54 - Binary Accuracy Evaluation of the model on model_01_dev dataset after epoch 1:\n"
     ]
    },
    {
     "name": "stderr",
     "output_type": "stream",
     "text": [
      "Batches: 100%|██████████| 35/35 [00:01<00:00, 20.69it/s]\n",
      "Epoch:  20%|██        | 1/5 [15:38<26:41, 400.32s/it]"
     ]
    },
    {
     "name": "stdout",
     "output_type": "stream",
     "text": [
      "2023-04-27 15:14:56 - Accuracy with Cosine-Similarity:           90.70\t(Threshold: 0.6919)\n",
      "2023-04-27 15:14:56 - F1 with Cosine-Similarity:                 86.14\t(Threshold: 0.6649)\n",
      "2023-04-27 15:14:56 - Precision with Cosine-Similarity:          83.82\n",
      "2023-04-27 15:14:56 - Recall with Cosine-Similarity:             88.59\n",
      "2023-04-27 15:14:56 - Average Precision with Cosine-Similarity:  92.78\n",
      "\n",
      "2023-04-27 15:14:56 - Accuracy with Manhattan-Distance:           90.90\t(Threshold: 292.0865)\n",
      "2023-04-27 15:14:56 - F1 with Manhattan-Distance:                 86.72\t(Threshold: 310.7213)\n",
      "2023-04-27 15:14:56 - Precision with Manhattan-Distance:          83.30\n",
      "2023-04-27 15:14:56 - Recall with Manhattan-Distance:             90.43\n",
      "2023-04-27 15:14:56 - Average Precision with Manhattan-Distance:  92.88\n",
      "\n",
      "2023-04-27 15:14:56 - Accuracy with Euclidean-Distance:           90.77\t(Threshold: 13.6339)\n",
      "2023-04-27 15:14:56 - F1 with Euclidean-Distance:                 86.42\t(Threshold: 14.3041)\n",
      "2023-04-27 15:14:56 - Precision with Euclidean-Distance:          84.17\n",
      "2023-04-27 15:14:56 - Recall with Euclidean-Distance:             88.80\n",
      "2023-04-27 15:14:56 - Average Precision with Euclidean-Distance:  92.87\n",
      "\n",
      "2023-04-27 15:14:56 - Accuracy with Dot-Product:           90.36\t(Threshold: 205.5502)\n",
      "2023-04-27 15:14:56 - F1 with Dot-Product:                 85.77\t(Threshold: 205.5502)\n",
      "2023-04-27 15:14:56 - Precision with Dot-Product:          84.42\n",
      "2023-04-27 15:14:56 - Recall with Dot-Product:             87.17\n",
      "2023-04-27 15:14:56 - Average Precision with Dot-Product:  92.47\n",
      "\n",
      "2023-04-27 15:14:56 - Save model to /Users/johnsonzhou/git/comp90042-project/result/models/model_01_2023_04_27_14_57\n"
     ]
    },
    {
     "name": "stderr",
     "output_type": "stream",
     "text": [
      "Iteration: 100%|██████████| 194/194 [06:03<00:00,  1.87s/it]\n",
      "Epoch:  40%|████      | 2/5 [21:42<24:05, 481.81s/it]"
     ]
    },
    {
     "name": "stdout",
     "output_type": "stream",
     "text": [
      "2023-04-27 15:21:00 - Binary Accuracy Evaluation of the model on model_01_dev dataset after epoch 2:\n"
     ]
    },
    {
     "name": "stderr",
     "output_type": "stream",
     "text": [
      "Batches: 100%|██████████| 35/35 [00:01<00:00, 19.94it/s]\n",
      "Epoch:  60%|██████    | 3/5 [21:44<14:17, 428.70s/it]"
     ]
    },
    {
     "name": "stdout",
     "output_type": "stream",
     "text": [
      "2023-04-27 15:21:02 - Accuracy with Cosine-Similarity:           89.88\t(Threshold: 0.6594)\n",
      "2023-04-27 15:21:02 - F1 with Cosine-Similarity:                 84.95\t(Threshold: 0.6281)\n",
      "2023-04-27 15:21:02 - Precision with Cosine-Similarity:          83.20\n",
      "2023-04-27 15:21:02 - Recall with Cosine-Similarity:             86.76\n",
      "2023-04-27 15:21:02 - Average Precision with Cosine-Similarity:  92.05\n",
      "\n",
      "2023-04-27 15:21:02 - Accuracy with Manhattan-Distance:           90.16\t(Threshold: 299.4382)\n",
      "2023-04-27 15:21:02 - F1 with Manhattan-Distance:                 85.46\t(Threshold: 320.8383)\n",
      "2023-04-27 15:21:02 - Precision with Manhattan-Distance:          83.08\n",
      "2023-04-27 15:21:02 - Recall with Manhattan-Distance:             87.98\n",
      "2023-04-27 15:21:02 - Average Precision with Manhattan-Distance:  92.33\n",
      "\n",
      "2023-04-27 15:21:02 - Accuracy with Euclidean-Distance:           89.95\t(Threshold: 14.4851)\n",
      "2023-04-27 15:21:02 - F1 with Euclidean-Distance:                 85.02\t(Threshold: 16.8200)\n",
      "2023-04-27 15:21:02 - Precision with Euclidean-Distance:          78.25\n",
      "2023-04-27 15:21:02 - Recall with Euclidean-Distance:             93.08\n",
      "2023-04-27 15:21:02 - Average Precision with Euclidean-Distance:  92.14\n",
      "\n",
      "2023-04-27 15:21:02 - Accuracy with Dot-Product:           89.75\t(Threshold: 195.2626)\n",
      "2023-04-27 15:21:02 - F1 with Dot-Product:                 84.95\t(Threshold: 195.2626)\n",
      "2023-04-27 15:21:02 - Precision with Dot-Product:          83.20\n",
      "2023-04-27 15:21:02 - Recall with Dot-Product:             86.76\n",
      "2023-04-27 15:21:02 - Average Precision with Dot-Product:  91.73\n",
      "\n"
     ]
    },
    {
     "name": "stderr",
     "output_type": "stream",
     "text": [
      "Iteration: 100%|██████████| 194/194 [05:52<00:00,  1.82s/it]\n",
      "Epoch:  60%|██████    | 3/5 [27:36<14:17, 428.70s/it]"
     ]
    },
    {
     "name": "stdout",
     "output_type": "stream",
     "text": [
      "2023-04-27 15:26:54 - Binary Accuracy Evaluation of the model on model_01_dev dataset after epoch 3:\n"
     ]
    },
    {
     "name": "stderr",
     "output_type": "stream",
     "text": [
      "Batches: 100%|██████████| 35/35 [00:01<00:00, 20.82it/s]\n",
      "Epoch:  60%|██████    | 3/5 [27:38<14:17, 428.70s/it]"
     ]
    },
    {
     "name": "stdout",
     "output_type": "stream",
     "text": [
      "2023-04-27 15:26:56 - Accuracy with Cosine-Similarity:           90.56\t(Threshold: 0.6651)\n",
      "2023-04-27 15:26:56 - F1 with Cosine-Similarity:                 86.37\t(Threshold: 0.5710)\n",
      "2023-04-27 15:26:56 - Precision with Cosine-Similarity:          81.67\n",
      "2023-04-27 15:26:56 - Recall with Cosine-Similarity:             91.65\n",
      "2023-04-27 15:26:56 - Average Precision with Cosine-Similarity:  92.78\n",
      "\n",
      "2023-04-27 15:26:56 - Accuracy with Manhattan-Distance:           90.90\t(Threshold: 314.1307)\n",
      "2023-04-27 15:26:56 - F1 with Manhattan-Distance:                 86.90\t(Threshold: 340.7839)\n",
      "2023-04-27 15:26:56 - Precision with Manhattan-Distance:          82.45\n",
      "2023-04-27 15:26:56 - Recall with Manhattan-Distance:             91.85\n",
      "2023-04-27 15:26:56 - Average Precision with Manhattan-Distance:  92.95\n",
      "\n",
      "2023-04-27 15:26:56 - Accuracy with Euclidean-Distance:           90.63\t(Threshold: 15.5071)\n",
      "2023-04-27 15:26:56 - F1 with Euclidean-Distance:                 86.54\t(Threshold: 16.3056)\n",
      "2023-04-27 15:26:56 - Precision with Euclidean-Distance:          81.97\n",
      "2023-04-27 15:26:56 - Recall with Euclidean-Distance:             91.65\n",
      "2023-04-27 15:26:56 - Average Precision with Euclidean-Distance:  92.84\n",
      "\n",
      "2023-04-27 15:26:56 - Accuracy with Dot-Product:           90.43\t(Threshold: 206.5302)\n",
      "2023-04-27 15:26:56 - F1 with Dot-Product:                 86.29\t(Threshold: 182.2049)\n",
      "2023-04-27 15:26:56 - Precision with Dot-Product:          82.02\n",
      "2023-04-27 15:26:56 - Recall with Dot-Product:             91.04\n",
      "2023-04-27 15:26:56 - Average Precision with Dot-Product:  92.73\n",
      "\n",
      "2023-04-27 15:26:56 - Save model to /Users/johnsonzhou/git/comp90042-project/result/models/model_01_2023_04_27_14_57\n"
     ]
    },
    {
     "name": "stderr",
     "output_type": "stream",
     "text": [
      "Iteration: 100%|██████████| 194/194 [04:32<00:00,  1.40s/it]\n",
      "Epoch:  80%|████████  | 4/5 [32:11<06:39, 399.44s/it]"
     ]
    },
    {
     "name": "stdout",
     "output_type": "stream",
     "text": [
      "2023-04-27 15:31:29 - Binary Accuracy Evaluation of the model on model_01_dev dataset after epoch 4:\n"
     ]
    },
    {
     "name": "stderr",
     "output_type": "stream",
     "text": [
      "Batches: 100%|██████████| 35/35 [00:01<00:00, 19.71it/s]\n",
      "Epoch: 100%|██████████| 5/5 [32:13<00:00, 386.65s/it]"
     ]
    },
    {
     "name": "stdout",
     "output_type": "stream",
     "text": [
      "2023-04-27 15:31:31 - Accuracy with Cosine-Similarity:           90.70\t(Threshold: 0.6251)\n",
      "2023-04-27 15:31:31 - F1 with Cosine-Similarity:                 86.37\t(Threshold: 0.6251)\n",
      "2023-04-27 15:31:31 - Precision with Cosine-Similarity:          84.44\n",
      "2023-04-27 15:31:31 - Recall with Cosine-Similarity:             88.39\n",
      "2023-04-27 15:31:31 - Average Precision with Cosine-Similarity:  92.75\n",
      "\n",
      "2023-04-27 15:31:31 - Accuracy with Manhattan-Distance:           91.04\t(Threshold: 316.1617)\n",
      "2023-04-27 15:31:31 - F1 with Manhattan-Distance:                 86.77\t(Threshold: 316.1617)\n",
      "2023-04-27 15:31:31 - Precision with Manhattan-Distance:          85.40\n",
      "2023-04-27 15:31:31 - Recall with Manhattan-Distance:             88.19\n",
      "2023-04-27 15:31:31 - Average Precision with Manhattan-Distance:  92.90\n",
      "\n",
      "2023-04-27 15:31:31 - Accuracy with Euclidean-Distance:           90.77\t(Threshold: 15.2621)\n",
      "2023-04-27 15:31:31 - F1 with Euclidean-Distance:                 86.50\t(Threshold: 15.8968)\n",
      "2023-04-27 15:31:31 - Precision with Euclidean-Distance:          83.24\n",
      "2023-04-27 15:31:31 - Recall with Euclidean-Distance:             90.02\n",
      "2023-04-27 15:31:31 - Average Precision with Euclidean-Distance:  92.80\n",
      "\n",
      "2023-04-27 15:31:31 - Accuracy with Dot-Product:           90.56\t(Threshold: 195.8921)\n",
      "2023-04-27 15:31:31 - F1 with Dot-Product:                 86.19\t(Threshold: 185.7503)\n",
      "2023-04-27 15:31:31 - Precision with Dot-Product:          82.50\n",
      "2023-04-27 15:31:31 - Recall with Dot-Product:             90.22\n",
      "2023-04-27 15:31:31 - Average Precision with Dot-Product:  92.71\n",
      "\n"
     ]
    },
    {
     "name": "stderr",
     "output_type": "stream",
     "text": [
      "\n"
     ]
    }
   ],
   "source": [
    "# Train the model\n",
    "model.fit(\n",
    "    train_objectives=[(train_dataloader, train_loss)],\n",
    "    epochs=num_epochs,\n",
    "    evaluator=train_eval,\n",
    "    evaluation_steps=1000,\n",
    "    warmup_steps=warmup_steps,\n",
    "    optimizer_class=torch.optim.AdamW,\n",
    "    optimizer_params={\"lr\": 0.00002},\n",
    "    weight_decay=0.01,\n",
    "    output_path=str(model_save_path),\n",
    "    save_best_model=True,\n",
    "    show_progress_bar=True\n",
    ")"
   ]
  }
 ],
 "metadata": {
  "kernelspec": {
   "display_name": "comp90042_project",
   "language": "python",
   "name": "python3"
  },
  "language_info": {
   "codemirror_mode": {
    "name": "ipython",
    "version": 3
   },
   "file_extension": ".py",
   "mimetype": "text/x-python",
   "name": "python",
   "nbconvert_exporter": "python",
   "pygments_lexer": "ipython3",
   "version": "3.8.16"
  },
  "orig_nbformat": 4
 },
 "nbformat": 4,
 "nbformat_minor": 2
}
