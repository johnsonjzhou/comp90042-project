{
 "cells": [
  {
   "attachments": {},
   "cell_type": "markdown",
   "metadata": {},
   "source": [
    "# Hugging Face semantic search\n",
    "\n",
    "Using `sentence-transformers/msmarco-bert-base-dot-v5`\n",
    "\n",
    "References:\n",
    "\n",
    "- Hugging Face [semantic search][semantic_search_guide]\n",
    "- SBERT [pre-trained models][sbert_pretrained_models]\n",
    "- Installation: [`sentence-transformers`][sentence_transformers]\n",
    "- Code reference [`semantic_search.py`][semantic_search_py]\n",
    "- Model info: [`msmarco-bert-base-dot-v5`][msmarco-bert-base-dot-v5]\n",
    "\n",
    "\n",
    "\n",
    "[semantic_search_guide]: https://www.sbert.net/examples/applications/semantic-search/README.html\n",
    "[sbert_pretrained_models]: https://www.sbert.net/docs/pretrained_models.html#msmarco-passage-models\n",
    "[sentence_transformers]: https://www.sbert.net/docs/installation.html\n",
    "[semantic_search_py]: https://github.com/UKPLab/sentence-transformers/blob/master/examples/applications/semantic-search/semantic_search.py\n",
    "[msmarco-bert-base-dot-v5]: https://huggingface.co/sentence-transformers/msmarco-bert-base-dot-v5"
   ]
  },
  {
   "attachments": {},
   "cell_type": "markdown",
   "metadata": {},
   "source": [
    "## Setup"
   ]
  },
  {
   "attachments": {},
   "cell_type": "markdown",
   "metadata": {},
   "source": [
    "### Working directory"
   ]
  },
  {
   "cell_type": "code",
   "execution_count": 1,
   "metadata": {},
   "outputs": [],
   "source": [
    "# Change the working directory to project root\n",
    "import pathlib\n",
    "import os\n",
    "ROOT_DIR = pathlib.Path.cwd().parent\n",
    "os.chdir(ROOT_DIR)"
   ]
  },
  {
   "attachments": {},
   "cell_type": "markdown",
   "metadata": {},
   "source": [
    "### Dependencies"
   ]
  },
  {
   "cell_type": "code",
   "execution_count": 2,
   "metadata": {},
   "outputs": [
    {
     "name": "stderr",
     "output_type": "stream",
     "text": [
      "/opt/homebrew/Caskroom/miniconda/base/envs/comp90042_project/lib/python3.8/site-packages/tqdm/auto.py:21: TqdmWarning: IProgress not found. Please update jupyter and ipywidgets. See https://ipywidgets.readthedocs.io/en/stable/user_install.html\n",
      "  from .autonotebook import tqdm as notebook_tqdm\n"
     ]
    }
   ],
   "source": [
    "from sentence_transformers import SentenceTransformer, util\n",
    "import pandas as pd\n",
    "import torch\n",
    "from src.torch_utils import get_torch_device, min_max_scaler, standard_scaler\n",
    "from src.data import load_as_dataframe, slice_by_claim, \\\n",
    "    get_claim_texts, get_evidence_texts, get_paired_texts"
   ]
  },
  {
   "cell_type": "code",
   "execution_count": 3,
   "metadata": {},
   "outputs": [
    {
     "name": "stdout",
     "output_type": "stream",
     "text": [
      "Torch device is 'mps'\n"
     ]
    }
   ],
   "source": [
    "# Get the best torch device\n",
    "torch_device = get_torch_device()"
   ]
  },
  {
   "cell_type": "code",
   "execution_count": 4,
   "metadata": {},
   "outputs": [
    {
     "data": {
      "text/plain": [
       "PosixPath('/Users/johnsonzhou/git/comp90042-project/result/embeddings/*')"
      ]
     },
     "execution_count": 4,
     "metadata": {},
     "output_type": "execute_result"
    }
   ],
   "source": [
    "# Directories for saving/loading\n",
    "EMB_PATH = ROOT_DIR.joinpath(\"result\", \"embeddings\", \"*\")\n",
    "EMB_PATH"
   ]
  },
  {
   "attachments": {},
   "cell_type": "markdown",
   "metadata": {},
   "source": [
    "## Load Data"
   ]
  },
  {
   "attachments": {},
   "cell_type": "markdown",
   "metadata": {},
   "source": [
    "### Load from json"
   ]
  },
  {
   "cell_type": "code",
   "execution_count": 5,
   "metadata": {},
   "outputs": [
    {
     "name": "stdout",
     "output_type": "stream",
     "text": [
      "Loaded train-claims\n",
      "Loaded dev-claims\n",
      "Loaded evidence\n"
     ]
    }
   ],
   "source": [
    "data_names = [\"train-claims\", \"dev-claims\", \"evidence\"]\n",
    "train_claims, dev_claims = load_as_dataframe(data_names)"
   ]
  },
  {
   "attachments": {},
   "cell_type": "markdown",
   "metadata": {},
   "source": [
    "### Sample inspection"
   ]
  },
  {
   "cell_type": "code",
   "execution_count": 6,
   "metadata": {},
   "outputs": [
    {
     "data": {
      "text/html": [
       "<div>\n",
       "<style scoped>\n",
       "    .dataframe tbody tr th:only-of-type {\n",
       "        vertical-align: middle;\n",
       "    }\n",
       "\n",
       "    .dataframe tbody tr th {\n",
       "        vertical-align: top;\n",
       "    }\n",
       "\n",
       "    .dataframe thead th {\n",
       "        text-align: right;\n",
       "    }\n",
       "</style>\n",
       "<table border=\"1\" class=\"dataframe\">\n",
       "  <thead>\n",
       "    <tr style=\"text-align: right;\">\n",
       "      <th></th>\n",
       "      <th></th>\n",
       "      <th></th>\n",
       "      <th></th>\n",
       "      <th>evidence_text</th>\n",
       "    </tr>\n",
       "    <tr>\n",
       "      <th>claim</th>\n",
       "      <th>claim_text</th>\n",
       "      <th>claim_label</th>\n",
       "      <th>evidences</th>\n",
       "      <th></th>\n",
       "    </tr>\n",
       "  </thead>\n",
       "  <tbody>\n",
       "    <tr>\n",
       "      <th rowspan=\"3\" valign=\"top\">claim-1937</th>\n",
       "      <th rowspan=\"3\" valign=\"top\">Not only is there no scientific evidence that CO2 is a pollutant, higher CO2 concentrations actually help ecosystems support more plant and animal life.</th>\n",
       "      <th rowspan=\"3\" valign=\"top\">DISPUTED</th>\n",
       "      <th>evidence-442946</th>\n",
       "      <td>At very high concentrations (100 times atmosph...</td>\n",
       "    </tr>\n",
       "    <tr>\n",
       "      <th>evidence-1194317</th>\n",
       "      <td>Plants can grow as much as 50 percent faster i...</td>\n",
       "    </tr>\n",
       "    <tr>\n",
       "      <th>evidence-12171</th>\n",
       "      <td>Higher carbon dioxide concentrations will favo...</td>\n",
       "    </tr>\n",
       "    <tr>\n",
       "      <th rowspan=\"2\" valign=\"top\">claim-2510</th>\n",
       "      <th rowspan=\"2\" valign=\"top\">In 1946, PDO switched to a cool phase.</th>\n",
       "      <th rowspan=\"2\" valign=\"top\">SUPPORTS</th>\n",
       "      <th>evidence-530063</th>\n",
       "      <td>There is evidence of reversals in the prevaili...</td>\n",
       "    </tr>\n",
       "    <tr>\n",
       "      <th>evidence-984887</th>\n",
       "      <td>1945/1946: The PDO changed to a \"cool\" phase, ...</td>\n",
       "    </tr>\n",
       "  </tbody>\n",
       "</table>\n",
       "</div>"
      ],
      "text/plain": [
       "                                                                                                                                evidence_text\n",
       "claim      claim_text                                         claim_label evidences                                                          \n",
       "claim-1937 Not only is there no scientific evidence that C... DISPUTED    evidence-442946   At very high concentrations (100 times atmosph...\n",
       "                                                                          evidence-1194317  Plants can grow as much as 50 percent faster i...\n",
       "                                                                          evidence-12171    Higher carbon dioxide concentrations will favo...\n",
       "claim-2510 In 1946, PDO switched to a cool phase.             SUPPORTS    evidence-530063   There is evidence of reversals in the prevaili...\n",
       "                                                                          evidence-984887   1945/1946: The PDO changed to a \"cool\" phase, ..."
      ]
     },
     "execution_count": 6,
     "metadata": {},
     "output_type": "execute_result"
    }
   ],
   "source": [
    "sample_claim = slice_by_claim(train_claims, None, 2, [\"SUPPORTS\", \"DISPUTED\"])\n",
    "sample_claim"
   ]
  },
  {
   "cell_type": "code",
   "execution_count": 7,
   "metadata": {},
   "outputs": [
    {
     "data": {
      "text/plain": [
       "['Not only is there no scientific evidence that CO2 is a pollutant, higher CO2 concentrations actually help ecosystems support more plant and animal life.',\n",
       " 'In 1946, PDO switched to a cool phase.']"
      ]
     },
     "execution_count": 7,
     "metadata": {},
     "output_type": "execute_result"
    }
   ],
   "source": [
    "sample_claim_texts = get_claim_texts(sample_claim)\n",
    "sample_claim_texts"
   ]
  },
  {
   "cell_type": "code",
   "execution_count": 8,
   "metadata": {},
   "outputs": [
    {
     "data": {
      "text/plain": [
       "['At very high concentrations (100 times atmospheric concentration, or greater), carbon dioxide can be toxic to animal life, so raising the concentration to 10,000 ppm (1%) or higher for several hours will eliminate pests such as whiteflies and spider mites in a greenhouse.',\n",
       " 'Plants can grow as much as 50 percent faster in concentrations of 1,000 ppm CO 2 when compared with ambient conditions, though this assumes no change in climate and no limitation on other nutrients.',\n",
       " 'Higher carbon dioxide concentrations will favourably affect plant growth and demand for water.',\n",
       " 'There is evidence of reversals in the prevailing polarity (meaning changes in cool surface waters versus warm surface waters within the region) of the oscillation occurring around 1925, 1947, and 1977; the last two reversals corresponded with dramatic shifts in salmon production regimes in the North Pacific Ocean.',\n",
       " '1945/1946: The PDO changed to a \"cool\" phase, the pattern of this regime shift is similar to the 1970s episode with maximum amplitude in the subarctic and subtropical front but with a greater signature near the Japan while the 1970s shift was stronger near the American west coast.']"
      ]
     },
     "execution_count": 8,
     "metadata": {},
     "output_type": "execute_result"
    }
   ],
   "source": [
    "sample_evidence_texts = get_evidence_texts(sample_claim)\n",
    "sample_evidence_texts"
   ]
  },
  {
   "attachments": {},
   "cell_type": "markdown",
   "metadata": {},
   "source": [
    "## Select HF embedding model"
   ]
  },
  {
   "attachments": {},
   "cell_type": "markdown",
   "metadata": {},
   "source": [
    "For our task, we generally have a **short** query of claims and **long** evidence passages. Therefore, we are conducting **asymmetric semantic search**. Based on the guide, MSMARCO models are most suited for this task."
   ]
  },
  {
   "cell_type": "code",
   "execution_count": 9,
   "metadata": {},
   "outputs": [
    {
     "data": {
      "text/plain": [
       "SentenceTransformer(\n",
       "  (0): Transformer({'max_seq_length': 512, 'do_lower_case': False}) with Transformer model: BertModel \n",
       "  (1): Pooling({'word_embedding_dimension': 768, 'pooling_mode_cls_token': False, 'pooling_mode_mean_tokens': True, 'pooling_mode_max_tokens': False, 'pooling_mode_mean_sqrt_len_tokens': False})\n",
       ")"
      ]
     },
     "execution_count": 9,
     "metadata": {},
     "output_type": "execute_result"
    }
   ],
   "source": [
    "embedder = SentenceTransformer(\n",
    "    \"sentence-transformers/msmarco-bert-base-dot-v5\",\n",
    "    device=torch_device\n",
    ")\n",
    "embedder"
   ]
  },
  {
   "attachments": {},
   "cell_type": "markdown",
   "metadata": {},
   "source": [
    "## Explore embeddings"
   ]
  },
  {
   "attachments": {},
   "cell_type": "markdown",
   "metadata": {},
   "source": [
    "### Claim embeddings"
   ]
  },
  {
   "cell_type": "code",
   "execution_count": 10,
   "metadata": {},
   "outputs": [
    {
     "name": "stdout",
     "output_type": "stream",
     "text": [
      "torch.Size([2, 768])\n",
      "tensor([[ 0.0797, -0.1350, -0.1297,  ...,  0.3374,  0.2907, -0.1008],\n",
      "        [-0.4509, -0.2364,  0.0293,  ...,  0.0458,  0.0530,  0.0498]],\n",
      "       device='mps:0')\n"
     ]
    }
   ],
   "source": [
    "sample_claim_embeddings = embedder.encode(\n",
    "    sample_claim_texts, convert_to_tensor=True, device=torch_device\n",
    ")\n",
    "\n",
    "print(sample_claim_embeddings.shape)\n",
    "print(sample_claim_embeddings)"
   ]
  },
  {
   "attachments": {},
   "cell_type": "markdown",
   "metadata": {},
   "source": [
    "### Evidence embeddings"
   ]
  },
  {
   "cell_type": "code",
   "execution_count": 11,
   "metadata": {},
   "outputs": [
    {
     "name": "stdout",
     "output_type": "stream",
     "text": [
      "torch.Size([5, 768])\n",
      "tensor([[ 0.0680,  0.4074, -0.1831,  ...,  0.3127,  0.5444,  0.3580],\n",
      "        [-0.1647,  0.1412,  0.2400,  ...,  0.3577,  0.3601,  0.0757],\n",
      "        [ 0.0445, -0.0545,  0.1051,  ...,  0.4495,  0.0975,  0.0455],\n",
      "        [-0.4079,  0.1890,  0.1829,  ..., -0.0434,  0.2071,  0.2800],\n",
      "        [-0.4422, -0.3580,  0.2699,  ...,  0.1765,  0.0556,  0.0731]],\n",
      "       device='mps:0')\n"
     ]
    }
   ],
   "source": [
    "sample_evidence_embeddings = embedder.encode(\n",
    "    sample_evidence_texts, convert_to_tensor=True, device=torch_device\n",
    ")\n",
    "\n",
    "print(sample_evidence_embeddings.shape)\n",
    "print(sample_evidence_embeddings)"
   ]
  },
  {
   "attachments": {},
   "cell_type": "markdown",
   "metadata": {},
   "source": [
    "## Semantic Search"
   ]
  },
  {
   "attachments": {},
   "cell_type": "markdown",
   "metadata": {},
   "source": [
    "### Similarity scoring\n",
    "\n",
    "The `msmarco-bert-base-dot-v5` model is designed to be used with dot product scoring."
   ]
  },
  {
   "cell_type": "code",
   "execution_count": 12,
   "metadata": {},
   "outputs": [
    {
     "data": {
      "text/plain": [
       "tensor([[176.9947, 173.2845, 171.6822, 163.7634, 162.2655],\n",
       "        [157.8367, 159.5848, 157.4214, 169.8187, 183.0319]], device='mps:0')"
      ]
     },
     "execution_count": 12,
     "metadata": {},
     "output_type": "execute_result"
    }
   ],
   "source": [
    "scorer = util.dot_score\n",
    "\n",
    "sample_scores = scorer(\n",
    "    a=sample_claim_embeddings,\n",
    "    b=sample_evidence_embeddings\n",
    ")\n",
    "sample_scores\n",
    "# Rows are claims\n",
    "# Columns are evidences"
   ]
  },
  {
   "attachments": {},
   "cell_type": "markdown",
   "metadata": {},
   "source": [
    "### Predict related evidence using arbitrary cut-off"
   ]
  },
  {
   "cell_type": "code",
   "execution_count": 13,
   "metadata": {},
   "outputs": [],
   "source": [
    "score_cutoff = 170"
   ]
  },
  {
   "attachments": {},
   "cell_type": "markdown",
   "metadata": {},
   "source": [
    "#### Cutoff vs sample evidences"
   ]
  },
  {
   "attachments": {},
   "cell_type": "markdown",
   "metadata": {},
   "source": [
    "This shows that using a cutoff score can be useful on small evidence sets."
   ]
  },
  {
   "cell_type": "code",
   "execution_count": 14,
   "metadata": {},
   "outputs": [
    {
     "name": "stdout",
     "output_type": "stream",
     "text": [
      "Claim text:\n",
      " Not only is there no scientific evidence that CO2 is a pollutant, higher CO2 concentrations actually help ecosystems support more plant and animal life. \n",
      "\n",
      "          evidences                                      evidence_text\n",
      "0   evidence-442946  At very high concentrations (100 times atmosph...\n",
      "1  evidence-1194317  Plants can grow as much as 50 percent faster i...\n",
      "2    evidence-12171  Higher carbon dioxide concentrations will favo... \n",
      "\n",
      "Claim text:\n",
      " In 1946, PDO switched to a cool phase. \n",
      "\n",
      "         evidences                                      evidence_text\n",
      "4  evidence-984887  1945/1946: The PDO changed to a \"cool\" phase, ... \n",
      "\n"
     ]
    }
   ],
   "source": [
    "for claim_text, evidence_scores in zip(sample_claim_texts, sample_scores):\n",
    "    related_evidences = evidence_scores > score_cutoff\n",
    "    print(\"Claim text:\\n\", claim_text, \"\\n\")\n",
    "    print((\n",
    "        sample_claim.reset_index()[[\"evidences\", \"evidence_text\"]][\n",
    "            related_evidences.cpu().numpy()\n",
    "        ]\n",
    "    ), \"\\n\")"
   ]
  },
  {
   "attachments": {},
   "cell_type": "markdown",
   "metadata": {},
   "source": [
    "#### Cutoff vs training evidences"
   ]
  },
  {
   "attachments": {},
   "cell_type": "markdown",
   "metadata": {},
   "source": [
    "Using a cutoff score can be difficult when corpus size is larger."
   ]
  },
  {
   "cell_type": "code",
   "execution_count": 15,
   "metadata": {},
   "outputs": [],
   "source": [
    "# Get embeddings for all evidence in train_claims\n",
    "train_evidence_embeddings_fp = \\\n",
    "    EMB_PATH.with_name(\"train_evidence_msmarco_bert_base_dot_v5.pt\")\n",
    "# if os.path.exists(train_evidence_embeddings_fp):\n",
    "if os.path.exists(train_evidence_embeddings_fp):\n",
    "    # Load it from file if we have already created it\n",
    "    with open(train_evidence_embeddings_fp, mode=\"rb\") as f:\n",
    "        train_evidence_embeddings = torch.load(f=f, map_location=torch_device)\n",
    "else:\n",
    "    # Create the embeddings and save it to file\n",
    "    train_evidence_embeddings = embedder.encode(\n",
    "        sentences=get_evidence_texts(train_claims),\n",
    "        device=torch_device,\n",
    "        batch_size=64,\n",
    "        show_progress_bar=True,\n",
    "        convert_to_tensor=True,\n",
    "    )\n",
    "    with open(train_evidence_embeddings_fp, mode=\"wb\") as f:\n",
    "        torch.save(obj=train_evidence_embeddings, f=f)"
   ]
  },
  {
   "cell_type": "code",
   "execution_count": 16,
   "metadata": {},
   "outputs": [
    {
     "name": "stdout",
     "output_type": "stream",
     "text": [
      "torch.Size([2, 4122])\n"
     ]
    },
    {
     "data": {
      "text/plain": [
       "tensor([[176.9947, 173.2845, 171.6822,  ..., 162.7350, 164.4235, 163.3744],\n",
       "        [157.8367, 159.5848, 157.4214,  ..., 159.3624, 162.1377, 161.1283]],\n",
       "       device='mps:0')"
      ]
     },
     "execution_count": 16,
     "metadata": {},
     "output_type": "execute_result"
    }
   ],
   "source": [
    "sample_scores = scorer(\n",
    "    a=sample_claim_embeddings,\n",
    "    b=train_evidence_embeddings\n",
    ")\n",
    "print(sample_scores.shape)\n",
    "sample_scores\n",
    "# Rows are claims\n",
    "# Columns are evidences"
   ]
  },
  {
   "cell_type": "code",
   "execution_count": 17,
   "metadata": {},
   "outputs": [
    {
     "name": "stdout",
     "output_type": "stream",
     "text": [
      "Claim text:\n",
      " Not only is there no scientific evidence that CO2 is a pollutant, higher CO2 concentrations actually help ecosystems support more plant and animal life. \n",
      "\n",
      "             evidences       score   \n",
      "0      evidence-442946  176.994675  \\\n",
      "1     evidence-1194317  173.284454   \n",
      "2       evidence-12171  171.682175   \n",
      "3      evidence-338219  170.441483   \n",
      "7     evidence-1177431  173.101151   \n",
      "...                ...         ...   \n",
      "4044    evidence-91099  171.580597   \n",
      "4045   evidence-208053  173.186478   \n",
      "4093  evidence-1009038  171.619537   \n",
      "4094   evidence-864864  170.431671   \n",
      "4096   evidence-296879  172.676620   \n",
      "\n",
      "                                          evidence_text  \n",
      "0     At very high concentrations (100 times atmosph...  \n",
      "1     Plants can grow as much as 50 percent faster i...  \n",
      "2     Higher carbon dioxide concentrations will favo...  \n",
      "3     While ‘climate change’ can be due to natural f...  \n",
      "7     There is no convincing scientific evidence tha...  \n",
      "...                                                 ...  \n",
      "4044  The burning of fossil fuels produces around 21...  \n",
      "4045  In the modern era, emissions to the atmosphere...  \n",
      "4093  Increasing atmospheric carbon dioxide certainl...  \n",
      "4094  The current level of GHG emissions means that ...  \n",
      "4096  More recently, anthropogenic activities have s...  \n",
      "\n",
      "[488 rows x 3 columns] \n",
      "\n",
      "Claim text:\n",
      " In 1946, PDO switched to a cool phase. \n",
      "\n",
      "             evidences       score   \n",
      "6      evidence-984887  183.031860  \\\n",
      "813   evidence-1095868  172.939621   \n",
      "1662   evidence-623139  172.639725   \n",
      "2499  evidence-1095868  172.939621   \n",
      "2707    evidence-84969  183.239120   \n",
      "2708   evidence-984887  183.031860   \n",
      "2710   evidence-420577  175.193085   \n",
      "2765   evidence-667390  182.309158   \n",
      "3482   evidence-621065  170.921249   \n",
      "4087  evidence-1208158  174.073151   \n",
      "4088   evidence-623139  172.639725   \n",
      "4089   evidence-410946  172.859528   \n",
      "\n",
      "                                          evidence_text  \n",
      "6     1945/1946: The PDO changed to a \"cool\" phase, ...  \n",
      "813   Subsequently, a detailed study supports the co...  \n",
      "1662  The Pacific Decadal Oscillation (PDO) is a rob...  \n",
      "2499  Subsequently, a detailed study supports the co...  \n",
      "2707          1924/1925: PDO changed to a \"warm\" phase.  \n",
      "2708  1945/1946: The PDO changed to a \"cool\" phase, ...  \n",
      "2710  The 2014 flip from the cool PDO phase to the w...  \n",
      "2765          1976/1977: PDO changed to a \"warm\" phase.  \n",
      "3482  A study published in January 2015 proposed tha...  \n",
      "4087  The PDO is a pattern of Pacific climate variab...  \n",
      "4088  The Pacific Decadal Oscillation (PDO) is a rob...  \n",
      "4089  The PDO is detected as warm or cool surface wa...   \n",
      "\n"
     ]
    }
   ],
   "source": [
    "for claim_text, evidence_scores in zip(sample_claim_texts, sample_scores):\n",
    "    # related_evidences = evidence_scores > score_cutoff\n",
    "    related_evidences = (\n",
    "        train_claims.reset_index()\n",
    "        .assign(score=evidence_scores.cpu().numpy())\n",
    "        .get([\"evidences\", \"score\", \"evidence_text\"])\n",
    "    )\n",
    "    print(\"Claim text:\\n\", claim_text, \"\\n\")\n",
    "    print(related_evidences[related_evidences[\"score\"] > score_cutoff], \"\\n\")"
   ]
  },
  {
   "attachments": {},
   "cell_type": "markdown",
   "metadata": {},
   "source": [
    "### Cosine Similarity Scoring\n",
    "\n",
    "Discovery work based for using cosine similarity loss Siamese BERT Networks ([ref](https://arxiv.org/abs/1908.10084))."
   ]
  },
  {
   "cell_type": "code",
   "execution_count": 18,
   "metadata": {},
   "outputs": [
    {
     "data": {
      "text/plain": [
       "tensor([[0.9191, 0.9136, 0.9141, 0.8516, 0.8493],\n",
       "        [0.8205, 0.8422, 0.8390, 0.8840, 0.9589]], device='mps:0')"
      ]
     },
     "execution_count": 18,
     "metadata": {},
     "output_type": "execute_result"
    }
   ],
   "source": [
    "scorer = util.cos_sim\n",
    "\n",
    "sample_scores = scorer(\n",
    "    a=sample_claim_embeddings,\n",
    "    b=sample_evidence_embeddings\n",
    ")\n",
    "sample_scores\n",
    "# Rows are claims\n",
    "# Columns are evidences"
   ]
  },
  {
   "cell_type": "code",
   "execution_count": 19,
   "metadata": {},
   "outputs": [
    {
     "data": {
      "text/plain": [
       "tensor([[1.0000, 0.9209, 0.9277, 0.0338, 0.0000],\n",
       "        [0.0000, 0.1571, 0.1338, 0.4589, 1.0000]], device='mps:0')"
      ]
     },
     "execution_count": 19,
     "metadata": {},
     "output_type": "execute_result"
    }
   ],
   "source": [
    "min_max_scaler(X=sample_scores, dim=1)"
   ]
  },
  {
   "cell_type": "code",
   "execution_count": 20,
   "metadata": {},
   "outputs": [
    {
     "data": {
      "text/plain": [
       "tensor([[ 0.8273,  0.6729,  0.6861, -1.0601, -1.1261],\n",
       "        [-0.8744, -0.4818, -0.5400,  0.2722,  1.6241]], device='mps:0')"
      ]
     },
     "execution_count": 20,
     "metadata": {},
     "output_type": "execute_result"
    }
   ],
   "source": [
    "standard_scaler(X=sample_scores, dim=1)"
   ]
  },
  {
   "attachments": {},
   "cell_type": "markdown",
   "metadata": {},
   "source": [
    "The above uses cosine similarity to get similarity scores then explores two different scaling methods to separate the results. Standard scaler is much more useful."
   ]
  },
  {
   "attachments": {},
   "cell_type": "markdown",
   "metadata": {},
   "source": [
    "### Predict related evidence using scaled cut-off"
   ]
  },
  {
   "cell_type": "code",
   "execution_count": 29,
   "metadata": {},
   "outputs": [],
   "source": [
    "scaled_cutoff = 0.9"
   ]
  },
  {
   "attachments": {},
   "cell_type": "markdown",
   "metadata": {},
   "source": [
    "#### Cutoff vs training evidences"
   ]
  },
  {
   "cell_type": "code",
   "execution_count": 48,
   "metadata": {},
   "outputs": [
    {
     "name": "stdout",
     "output_type": "stream",
     "text": [
      "torch.Size([2, 4122])\n"
     ]
    },
    {
     "data": {
      "text/plain": [
       "tensor([[0.9191, 0.9136, 0.9141,  ..., 0.8648, 0.8742, 0.8550],\n",
       "        [0.8205, 0.8422, 0.8390,  ..., 0.8477, 0.8630, 0.8441]],\n",
       "       device='mps:0')"
      ]
     },
     "execution_count": 48,
     "metadata": {},
     "output_type": "execute_result"
    }
   ],
   "source": [
    "sample_scores = scorer(\n",
    "    a=sample_claim_embeddings,\n",
    "    b=train_evidence_embeddings\n",
    ")\n",
    "print(sample_scores.shape)\n",
    "sample_scores\n",
    "# Rows are claims\n",
    "# Columns are evidences"
   ]
  },
  {
   "cell_type": "code",
   "execution_count": 49,
   "metadata": {},
   "outputs": [
    {
     "data": {
      "text/plain": [
       "tensor([[ 2.4697,  2.1836,  2.2082,  ..., -0.3455,  0.1460, -0.8508],\n",
       "        [-1.7638, -0.3436, -0.5544,  ...,  0.0135,  1.0106, -0.2211]],\n",
       "       device='mps:0')"
      ]
     },
     "execution_count": 49,
     "metadata": {},
     "output_type": "execute_result"
    }
   ],
   "source": [
    "sample_scores = standard_scaler(sample_scores, dim=1)\n",
    "sample_scores"
   ]
  },
  {
   "cell_type": "code",
   "execution_count": 50,
   "metadata": {},
   "outputs": [
    {
     "name": "stdout",
     "output_type": "stream",
     "text": [
      "Claim text:\n",
      " Not only is there no scientific evidence that CO2 is a pollutant, higher CO2 concentrations actually help ecosystems support more plant and animal life. \n",
      "\n",
      "             evidences     score   \n",
      "0      evidence-442946  2.469691  \\\n",
      "1     evidence-1194317  2.183646   \n",
      "2       evidence-12171  2.208215   \n",
      "3      evidence-338219  1.475389   \n",
      "7     evidence-1177431  1.935595   \n",
      "...                ...       ...   \n",
      "4094   evidence-864864  1.086352   \n",
      "4096   evidence-296879  1.146516   \n",
      "4098   evidence-374377  0.981687   \n",
      "4099   evidence-984234  1.003293   \n",
      "4100   evidence-537406  1.328993   \n",
      "\n",
      "                                          evidence_text  \n",
      "0     At very high concentrations (100 times atmosph...  \n",
      "1     Plants can grow as much as 50 percent faster i...  \n",
      "2     Higher carbon dioxide concentrations will favo...  \n",
      "3     While ‘climate change’ can be due to natural f...  \n",
      "7     There is no convincing scientific evidence tha...  \n",
      "...                                                 ...  \n",
      "4094  The current level of GHG emissions means that ...  \n",
      "4096  More recently, anthropogenic activities have s...  \n",
      "4098  Public concern over global warming and support...  \n",
      "4099  While the ozone layer and climate change are c...  \n",
      "4100  It has been argued that the Montreal Protocol,...  \n",
      "\n",
      "[822 rows x 3 columns] \n",
      "\n",
      "Claim text:\n",
      " In 1946, PDO switched to a cool phase. \n",
      "\n",
      "             evidences     score   \n",
      "5      evidence-530063  2.383498  \\\n",
      "6      evidence-984887  7.273512   \n",
      "12    evidence-1010750  1.209145   \n",
      "28      evidence-61462  2.280875   \n",
      "30     evidence-757821  2.176105   \n",
      "...                ...       ...   \n",
      "4107   evidence-916755  0.956587   \n",
      "4109   evidence-889933  1.210153   \n",
      "4112    evidence-37517  0.965162   \n",
      "4113    evidence-97375  1.136432   \n",
      "4120   evidence-298971  1.010592   \n",
      "\n",
      "                                          evidence_text  \n",
      "5     There is evidence of reversals in the prevaili...  \n",
      "6     1945/1946: The PDO changed to a \"cool\" phase, ...  \n",
      "12            With average temperature +8.1 °C (47 °F).  \n",
      "28    However, over time the term has evolved and no...  \n",
      "30    The event temporarily warmed air temperature b...  \n",
      "...                                                 ...  \n",
      "4107  The scientific consensus as of 2013[update], a...  \n",
      "4109  Multiple independently produced instrumental d...  \n",
      "4112  For 1979 to 2012, the linear warming trend for...  \n",
      "4113  A lower air temperature of −94.7 °C (−138.5 °F...  \n",
      "4120  Water, fat, and other substances in the food a...  \n",
      "\n",
      "[632 rows x 3 columns] \n",
      "\n"
     ]
    }
   ],
   "source": [
    "for claim_text, evidence_scores in zip(sample_claim_texts, sample_scores):\n",
    "    # related_evidences = evidence_scores > score_cutoff\n",
    "    related_evidences = (\n",
    "        train_claims.reset_index()\n",
    "        .assign(score=evidence_scores.cpu().numpy())\n",
    "        .get([\"evidences\", \"score\", \"evidence_text\"])\n",
    "    )\n",
    "    print(\"Claim text:\\n\", claim_text, \"\\n\")\n",
    "    print(related_evidences[related_evidences[\"score\"] > scaled_cutoff], \"\\n\")"
   ]
  },
  {
   "cell_type": "code",
   "execution_count": 51,
   "metadata": {},
   "outputs": [
    {
     "name": "stdout",
     "output_type": "stream",
     "text": [
      "Claim text:\n",
      " Not only is there no scientific evidence that CO2 is a pollutant, higher CO2 concentrations actually help ecosystems support more plant and animal life. \n",
      "\n",
      "             evidences     score   \n",
      "1607   evidence-808385  3.194276  \\\n",
      "2408   evidence-808385  3.194276   \n",
      "1153   evidence-808385  3.194276   \n",
      "2788   evidence-316364  3.147586   \n",
      "2285   evidence-499734  3.057801   \n",
      "2384  evidence-1167485  2.924245   \n",
      "1964   evidence-862615  2.893133   \n",
      "962    evidence-149105  2.877542   \n",
      "2245   evidence-453635  2.819163   \n",
      "790    evidence-364767  2.794708   \n",
      "\n",
      "                                          evidence_text  \n",
      "1607  Pollutants emitted into the atmosphere by huma...  \n",
      "2408  Pollutants emitted into the atmosphere by huma...  \n",
      "1153  Pollutants emitted into the atmosphere by huma...  \n",
      "2788  There are few studies of the health effects of...  \n",
      "2285  While the full implications of elevated CO2 on...  \n",
      "2384  Less direct geological evidence indicates that...  \n",
      "1964  Elevated CO2 increases crop yields and growth ...  \n",
      "962   Most sources of CO 2 emissions are natural, an...  \n",
      "2245  Some climate change denial groups say that bec...  \n",
      "790   It is expected that most ecosystems will be af...   \n",
      "\n",
      "Claim text:\n",
      " In 1946, PDO switched to a cool phase. \n",
      "\n",
      "             evidences     score   \n",
      "2707    evidence-84969  8.402843  \\\n",
      "2765   evidence-667390  8.322617   \n",
      "6      evidence-984887  7.273512   \n",
      "2708   evidence-984887  7.273512   \n",
      "2710   evidence-420577  5.083645   \n",
      "4089   evidence-410946  4.339300   \n",
      "4087  evidence-1208158  4.137903   \n",
      "2919   evidence-811432  3.953330   \n",
      "2499  evidence-1095868  3.690153   \n",
      "813   evidence-1095868  3.690153   \n",
      "\n",
      "                                          evidence_text  \n",
      "2707          1924/1925: PDO changed to a \"warm\" phase.  \n",
      "2765          1976/1977: PDO changed to a \"warm\" phase.  \n",
      "6     1945/1946: The PDO changed to a \"cool\" phase, ...  \n",
      "2708  1945/1946: The PDO changed to a \"cool\" phase, ...  \n",
      "2710  The 2014 flip from the cool PDO phase to the w...  \n",
      "4089  The PDO is detected as warm or cool surface wa...  \n",
      "4087  The PDO is a pattern of Pacific climate variab...  \n",
      "2919  The transition from a warming climate into a c...  \n",
      "2499  Subsequently, a detailed study supports the co...  \n",
      "813   Subsequently, a detailed study supports the co...   \n",
      "\n"
     ]
    }
   ],
   "source": [
    "for claim_text, evidence_scores in zip(sample_claim_texts, sample_scores):\n",
    "    # related_evidences = evidence_scores > score_cutoff\n",
    "    related_evidences = (\n",
    "        train_claims.reset_index()\n",
    "        .assign(score=evidence_scores.cpu().numpy())\n",
    "        .get([\"evidences\", \"score\", \"evidence_text\"])\n",
    "    )\n",
    "    print(\"Claim text:\\n\", claim_text, \"\\n\")\n",
    "    print(related_evidences.sort_values(by=\"score\", ascending=False).head(10), \"\\n\")"
   ]
  }
 ],
 "metadata": {
  "kernelspec": {
   "display_name": "comp90042_project",
   "language": "python",
   "name": "python3"
  },
  "language_info": {
   "codemirror_mode": {
    "name": "ipython",
    "version": 3
   },
   "file_extension": ".py",
   "mimetype": "text/x-python",
   "name": "python",
   "nbconvert_exporter": "python",
   "pygments_lexer": "ipython3",
   "version": "3.8.16"
  },
  "orig_nbformat": 4
 },
 "nbformat": 4,
 "nbformat_minor": 2
}
