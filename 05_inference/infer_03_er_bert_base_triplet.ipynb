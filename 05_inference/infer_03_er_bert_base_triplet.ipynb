{
 "cells": [
  {
   "attachments": {},
   "cell_type": "markdown",
   "metadata": {},
   "source": [
    "# Model 03 inference\n",
    "\n",
    "Evidence retrieval using a siamese BERT classification model. This is similar to Model 01 except this does not use any community based models from sentence transformer."
   ]
  },
  {
   "attachments": {},
   "cell_type": "markdown",
   "metadata": {},
   "source": [
    "## Setup"
   ]
  },
  {
   "attachments": {},
   "cell_type": "markdown",
   "metadata": {},
   "source": [
    "### Working directory"
   ]
  },
  {
   "cell_type": "code",
   "execution_count": 1,
   "metadata": {},
   "outputs": [],
   "source": [
    "# Change the working directory to project root\n",
    "from pathlib import Path\n",
    "import os\n",
    "ROOT_DIR = Path.cwd()\n",
    "while not ROOT_DIR.joinpath(\"src\").exists():\n",
    "    ROOT_DIR = ROOT_DIR.parent\n",
    "os.chdir(ROOT_DIR)"
   ]
  },
  {
   "attachments": {},
   "cell_type": "markdown",
   "metadata": {},
   "source": [
    "### File paths"
   ]
  },
  {
   "cell_type": "code",
   "execution_count": 2,
   "metadata": {},
   "outputs": [],
   "source": [
    "MODEL_PATH = ROOT_DIR.joinpath(\"./result/models/*\")\n",
    "OUTPUT_PATH = ROOT_DIR.joinpath(\"./result/inference/*\")\n",
    "DATA_PATH = ROOT_DIR.joinpath(\"./data/*\")\n",
    "NER_PATH = ROOT_DIR.joinpath(\"./result/ner/*\")"
   ]
  },
  {
   "attachments": {},
   "cell_type": "markdown",
   "metadata": {},
   "source": [
    "### Dependencies"
   ]
  },
  {
   "cell_type": "code",
   "execution_count": 3,
   "metadata": {},
   "outputs": [
    {
     "name": "stderr",
     "output_type": "stream",
     "text": [
      "/opt/homebrew/Caskroom/miniconda/base/envs/comp90042_project/lib/python3.8/site-packages/tqdm/auto.py:21: TqdmWarning: IProgress not found. Please update jupyter and ipywidgets. See https://ipywidgets.readthedocs.io/en/stable/user_install.html\n",
      "  from .autonotebook import tqdm as notebook_tqdm\n"
     ]
    },
    {
     "name": "stdout",
     "output_type": "stream",
     "text": [
      "Torch device is 'mps'\n"
     ]
    }
   ],
   "source": [
    "# Imports and dependencies\n",
    "import torch\n",
    "from torch.utils.data import Dataset, DataLoader\n",
    "from torch.nn import Linear, Module, CrossEntropyLoss, Dropout, CosineSimilarity\n",
    "from transformers import BertModel, BertTokenizer\n",
    "from torch.optim import Adam\n",
    "from torch.optim.lr_scheduler import LinearLR\n",
    "from torch.nn.functional import relu, softmax\n",
    "from torcheval.metrics import BinaryAccuracy, BinaryF1Score, BinaryRecall\n",
    "\n",
    "from src.torch_utils import get_torch_device\n",
    "from src.data import create_claim_output\n",
    "import json\n",
    "from dataclasses import dataclass\n",
    "from typing import List, Union, Tuple, Dict\n",
    "from tqdm import tqdm\n",
    "import random\n",
    "import numpy as np\n",
    "from datetime import datetime\n",
    "from math import exp\n",
    "from collections import defaultdict\n",
    "\n",
    "TORCH_DEVICE = get_torch_device()"
   ]
  },
  {
   "attachments": {},
   "cell_type": "markdown",
   "metadata": {},
   "source": [
    "## Dataset"
   ]
  },
  {
   "cell_type": "code",
   "execution_count": 4,
   "metadata": {},
   "outputs": [],
   "source": [
    "@dataclass\n",
    "class ClaimEvidencePair:\n",
    "    claim_id:str\n",
    "    evidence_id:str\n",
    "    label:int = 0"
   ]
  },
  {
   "cell_type": "code",
   "execution_count": 5,
   "metadata": {},
   "outputs": [],
   "source": [
    "class InferenceClaims(Dataset):\n",
    "    \n",
    "    def __init__(self, claims_path:Path) -> None:\n",
    "        super(InferenceClaims, self).__init__()\n",
    "        with open(claims_path, mode=\"r\") as f:\n",
    "            self.claims = json.load(fp=f)\n",
    "            self.claim_ids = list(self.claims.keys())\n",
    "            print(f\"loaded inference claims n={len(self.claim_ids)}\")\n",
    "        return\n",
    "        \n",
    "    def __len__(self):\n",
    "        return len(self.claim_ids)\n",
    "\n",
    "    def __getitem__(self, idx) -> Tuple[str]:\n",
    "        claim_id = self.claim_ids[idx]\n",
    "        claim_text = self.claims[claim_id][\"claim_text\"]\n",
    "        return claim_id, claim_text"
   ]
  },
  {
   "cell_type": "code",
   "execution_count": 6,
   "metadata": {},
   "outputs": [],
   "source": [
    "class SeenOnlyDataset(Dataset):\n",
    "    \n",
    "    def __init__(\n",
    "        self,\n",
    "        claim_id:str,\n",
    "        claims_path:Path,\n",
    "        train_claims_paths:List[Path],\n",
    "        evidence_path:Path,\n",
    "        verbose:bool=True\n",
    "    ) -> None:\n",
    "        super(SeenOnlyDataset, self).__init__()\n",
    "        self.verbose = verbose\n",
    "        self.claim_id = claim_id\n",
    "        \n",
    "        # Load claims text from json\n",
    "        with open(claims_path, mode=\"r\") as f:\n",
    "            claims = json.load(fp=f)\n",
    "            self.claim_text = claims[self.claim_id][\"claim_text\"]\n",
    "            \n",
    "        # Load evidence library\n",
    "        with open(evidence_path, mode=\"r\") as f:\n",
    "            self.evidence = json.load(fp=f)\n",
    "        \n",
    "        # Load training claims\n",
    "        train_claims = dict()\n",
    "        for path in train_claims_paths:\n",
    "            with open(path, mode=\"r\") as f:\n",
    "                train_claims.update(json.load(f))\n",
    "        \n",
    "        # Load the evidence shortlist\n",
    "        evidence_shortlist = set()\n",
    "        for claim in train_claims.values():\n",
    "            evidence_shortlist.update(claim[\"evidences\"])\n",
    "        self.evidence_shortlist = sorted(evidence_shortlist)\n",
    "        return\n",
    "        \n",
    "    def __len__(self):\n",
    "        return len(self.evidence_shortlist)\n",
    "    \n",
    "    def __getitem__(self, idx) -> Tuple[str]:\n",
    "        # Get text ids\n",
    "        claim_id = self.claim_id\n",
    "        evidence_id = self.evidence_shortlist[idx]\n",
    "        \n",
    "        # Get text\n",
    "        claim_text = self.claim_text\n",
    "        evidence_text = self.evidence[evidence_id]\n",
    "\n",
    "        return (claim_text, evidence_text, claim_id, evidence_id)"
   ]
  },
  {
   "cell_type": "code",
   "execution_count": 7,
   "metadata": {},
   "outputs": [],
   "source": [
    "class SiameseDatasetInference(Dataset):\n",
    "    \n",
    "    def __init__(\n",
    "        self,\n",
    "        claim_id:str,\n",
    "        claims_path:Path,\n",
    "        evidence_path:Path,\n",
    "        claims_shortlist:Path = None,\n",
    "        evidence_shortlist:Path = None,\n",
    "        verbose:bool=True\n",
    "    ) -> None:\n",
    "        super(SiameseDatasetInference, self).__init__()\n",
    "        self.verbose = verbose\n",
    "        self.claim_id = claim_id\n",
    "        \n",
    "        # Load claims text from json\n",
    "        with open(claims_path, mode=\"r\") as f:\n",
    "            claims = json.load(fp=f)\n",
    "            self.claim_text = claims[self.claim_id][\"claim_text\"]\n",
    "            \n",
    "        # Load evidence library\n",
    "        with open(evidence_path, mode=\"r\") as f:\n",
    "            self.evidence = json.load(fp=f)\n",
    "        \n",
    "        # Load the pre-retrieved shortlist of evidences\n",
    "        # From either a pre-retrieved list of evidences specific for the\n",
    "        # claim_id or from a pre-collated evidence shortlist\n",
    "        # Both of which were determined from the fast shortlisting process\n",
    "        if claims_shortlist is not None:\n",
    "            with open(claims_shortlist, mode=\"r\") as f:\n",
    "                claims_shortlist_ = json.load(fp=f)\n",
    "                self.evidence_shortlist = list(set(\n",
    "                    claims_shortlist_.get(self.claim_id, [])\n",
    "                ))\n",
    "                print(f\"loaded claims_shortlist: {claims_shortlist}\")\n",
    "        elif evidence_shortlist is not None:\n",
    "            with open(evidence_shortlist, mode=\"r\") as f:\n",
    "                self.evidence_shortlist = list(set(json.load(fp=f)))\n",
    "                print(f\"loaded evidence_shortlist: {evidence_shortlist}\")\n",
    "        else:\n",
    "            raise Exception(\n",
    "                \"Provide either a claims_shortlist or evidence_shortlist\"\n",
    "            )\n",
    "\n",
    "        return\n",
    "\n",
    "    def __len__(self):\n",
    "        return len(self.evidence_shortlist)\n",
    "    \n",
    "    def __getitem__(self, idx) -> Tuple[str]:\n",
    "        # Get text ids\n",
    "        claim_id = self.claim_id\n",
    "        evidence_id = self.evidence_shortlist[idx]\n",
    "        \n",
    "        # Get text\n",
    "        claim_text = self.claim_text\n",
    "        evidence_text = self.evidence[evidence_id]\n",
    "\n",
    "        return (claim_text, evidence_text, claim_id, evidence_id)"
   ]
  },
  {
   "attachments": {},
   "cell_type": "markdown",
   "metadata": {},
   "source": [
    "## Load model"
   ]
  },
  {
   "cell_type": "code",
   "execution_count": 8,
   "metadata": {},
   "outputs": [],
   "source": [
    "class SiameseTripletEmbedderBert(Module):\n",
    "    \n",
    "    def __init__(\n",
    "            self,\n",
    "            pretrained_name:str,\n",
    "            device,\n",
    "            **kwargs\n",
    "        ) -> None:\n",
    "        super(SiameseTripletEmbedderBert, self).__init__(**kwargs)\n",
    "        self.device = device\n",
    "        \n",
    "        # Use a pretrained tokenizer\n",
    "        self.tokenizer = BertTokenizer.from_pretrained(pretrained_name)\n",
    "        \n",
    "        # Use a pretrained model\n",
    "        self.bert = BertModel.from_pretrained(pretrained_name)\n",
    "        self.bert.to(device=device)\n",
    "        return\n",
    "        \n",
    "    def forward(self, anchor_texts, pos_texts, neg_texts=None) -> Tuple[torch.Tensor]:\n",
    "        \n",
    "        # Run the tokenizer\n",
    "        t_kwargs = {\n",
    "            \"return_tensors\": \"pt\",\n",
    "            \"padding\": True,\n",
    "            \"truncation\": True,\n",
    "            \"max_length\": 100,\n",
    "            \"add_special_tokens\":True\n",
    "        }\n",
    "        anchor_x = self.tokenizer(anchor_texts, **t_kwargs)\n",
    "        pos_x = self.tokenizer(pos_texts, **t_kwargs)\n",
    "        if neg_texts:\n",
    "            neg_x = self.tokenizer(neg_texts, **t_kwargs)\n",
    "        \n",
    "        anchor_x = anchor_x[\"input_ids\"].to(device=self.device)\n",
    "        pos_x = pos_x[\"input_ids\"].to(device=self.device)\n",
    "        if neg_texts:\n",
    "            neg_x = neg_x[\"input_ids\"].to(device=self.device)\n",
    "        \n",
    "        # Run Bert\n",
    "        anchor_x = self.bert(anchor_x, return_dict=True).pooler_output\n",
    "        pos_x = self.bert(pos_x, return_dict=True).pooler_output\n",
    "        if neg_texts:\n",
    "            neg_x = self.bert(neg_x, return_dict=True).pooler_output\n",
    "        # dim=768\n",
    "        \n",
    "        if neg_texts:\n",
    "            return anchor_x, pos_x, neg_x\n",
    "        else:\n",
    "            return anchor_x, pos_x"
   ]
  },
  {
   "cell_type": "code",
   "execution_count": 9,
   "metadata": {},
   "outputs": [],
   "source": [
    "MODEL_NAME = f\"model_03a_bert_base_triplet_margin_2_neg_5_10epochs.pth\"\n",
    "BATCH_SIZE = 64"
   ]
  },
  {
   "cell_type": "code",
   "execution_count": 10,
   "metadata": {},
   "outputs": [],
   "source": [
    "with open(MODEL_PATH.with_name(MODEL_NAME), mode=\"rb\") as f:\n",
    "    model = torch.load(f, map_location=TORCH_DEVICE)"
   ]
  },
  {
   "attachments": {},
   "cell_type": "markdown",
   "metadata": {},
   "source": [
    "## Inference run code"
   ]
  },
  {
   "cell_type": "code",
   "execution_count": 11,
   "metadata": {},
   "outputs": [],
   "source": [
    "@dataclass\n",
    "class EvidenceScore:\n",
    "    evidence_id:str\n",
    "    score:float\n",
    "    \n",
    "    def to_list(self) -> List[str]:\n",
    "        return [self.evidence_id, str(self.score)]\n",
    "    \n",
    "    def to_dict(self) -> Dict[str, str]:\n",
    "        return {\"evidence_id\": self.evidence_id, \"score\": str(self.score)}"
   ]
  },
  {
   "cell_type": "code",
   "execution_count": 12,
   "metadata": {},
   "outputs": [],
   "source": [
    "def inference_run(\n",
    "    claims_path:Path,\n",
    "    evidence_path:Path,\n",
    "    train_claims_paths:List[Path] = None,\n",
    "    claims_shortlist:Path = None,\n",
    "    evidence_shortlist:Path = None,\n",
    "    save_path:Path = None,\n",
    "    batch_size:int = 64\n",
    "):\n",
    "    # Generate claims iterations\n",
    "    inference_claims = InferenceClaims(claims_path=claims_path)\n",
    "    \n",
    "    # Cumulator\n",
    "    claim_predictions = dict()\n",
    "    \n",
    "    # Load from save to continue inference if exists\n",
    "    saved_predictions = dict()\n",
    "    if save_path.exists():\n",
    "        with open(save_path, mode=\"r\") as f:\n",
    "            saved_predictions.update(json.load(fp=f))\n",
    "    \n",
    "    for claim_id, claim_text in inference_claims:\n",
    "        \n",
    "        # Skip if a save entry exists\n",
    "        if claim_id in saved_predictions.keys():\n",
    "            print(f\"skipping {claim_id}, done previously\")\n",
    "            continue\n",
    "        \n",
    "        # Create a save entry\n",
    "        claim_predictions[claim_id] = {\n",
    "            \"claim_text\": claim_text,\n",
    "            \"evidences\": []\n",
    "        }\n",
    "        \n",
    "        # Generate claims-evidence inference interations\n",
    "        infer_data = SeenOnlyDataset(\n",
    "            claim_id=claim_id,\n",
    "            claims_path=claims_path,\n",
    "            train_claims_paths=train_claims_paths,\n",
    "            evidence_path=evidence_path,\n",
    "        )\n",
    "        # infer_data = SiameseDatasetInference(\n",
    "        #     claim_id=claim_id,\n",
    "        #     claims_path=claims_path,\n",
    "        #     evidence_path=evidence_path,\n",
    "        #     claims_shortlist=claims_shortlist,\n",
    "        #     evidence_shortlist=evidence_shortlist,\n",
    "        # )\n",
    "        infer_dataloader = DataLoader(\n",
    "            dataset=infer_data,\n",
    "            shuffle=False,\n",
    "            batch_size=batch_size\n",
    "        )\n",
    "        \n",
    "        print(f\"running inference for {claim_id} n={len(infer_data)}\")\n",
    "    \n",
    "        # Set model mode to evaluation\n",
    "        model.eval()\n",
    "        \n",
    "        infer_batches = tqdm(infer_dataloader, desc=\"infer batches\")\n",
    "        for batch in infer_batches:\n",
    "            claim_texts, evidence_texts, batch_claim_ids, batch_evidence_ids = batch\n",
    "            \n",
    "            # Forward\n",
    "            claim_emb, evidence_emb = model(claim_texts, evidence_texts)\n",
    "            \n",
    "            # Score embeddings with cosine similarity\n",
    "            cos_sim = CosineSimilarity(dim=1)\n",
    "            scores = cos_sim(claim_emb, evidence_emb)\n",
    "            \n",
    "            for c_id, e_id, score in zip(\n",
    "                batch_claim_ids, batch_evidence_ids,\n",
    "                scores.cpu().detach().numpy()\n",
    "            ):\n",
    "                claim_predictions[c_id][\"evidences\"].append(EvidenceScore(\n",
    "                    evidence_id=e_id,\n",
    "                    score=score\n",
    "                ))\n",
    "            \n",
    "            continue\n",
    "    \n",
    "        # Save on every claim_id\n",
    "        if save_path:\n",
    "            # Retrieve at most 5 top predicted evidences by score\n",
    "            claim_predictions_output = dict()\n",
    "            for claim_id_, claim_ in claim_predictions.items():\n",
    "                claim_ = claim_.copy()\n",
    "                claim_[\"evidences\"] = [\n",
    "                    evidence_score.evidence_id\n",
    "                    for evidence_score in sorted(\n",
    "                        claim_[\"evidences\"],\n",
    "                        key=lambda es: es.score,\n",
    "                        reverse=True\n",
    "                    )\n",
    "                ][:5]\n",
    "                claim_predictions_output[claim_id_] = claim_\n",
    "            \n",
    "            # Make a copy of existing saved results and add the new results\n",
    "            # for this run\n",
    "            save_dict = saved_predictions.copy()\n",
    "            save_dict.update(claim_predictions_output)\n",
    "\n",
    "            with open(save_path, mode=\"w\") as f:\n",
    "                json.dump(obj=save_dict, fp=f)\n",
    "                print(f\"saved to: {save_path}\")\n",
    "    \n",
    "        continue\n",
    "    return"
   ]
  },
  {
   "attachments": {},
   "cell_type": "markdown",
   "metadata": {},
   "source": [
    "## Dev inference"
   ]
  },
  {
   "cell_type": "code",
   "execution_count": 13,
   "metadata": {},
   "outputs": [
    {
     "name": "stdout",
     "output_type": "stream",
     "text": [
      "loaded inference claims n=154\n",
      "running inference for claim-752 n=3443\n"
     ]
    },
    {
     "name": "stderr",
     "output_type": "stream",
     "text": [
      "infer batches: 100%|██████████| 54/54 [00:12<00:00,  4.44it/s]\n"
     ]
    },
    {
     "name": "stdout",
     "output_type": "stream",
     "text": [
      "saved to: /Users/johnsonzhou/git/comp90042-project/result/inference/model_03a_bert_base_triplet_margin_2_neg_5_10epochs_dev_claim_evidence_retrieved_seen_only.json\n",
      "running inference for claim-375 n=3443\n"
     ]
    },
    {
     "name": "stderr",
     "output_type": "stream",
     "text": [
      "infer batches: 100%|██████████| 54/54 [00:14<00:00,  3.79it/s]\n"
     ]
    },
    {
     "name": "stdout",
     "output_type": "stream",
     "text": [
      "saved to: /Users/johnsonzhou/git/comp90042-project/result/inference/model_03a_bert_base_triplet_margin_2_neg_5_10epochs_dev_claim_evidence_retrieved_seen_only.json\n",
      "running inference for claim-1266 n=3443\n"
     ]
    },
    {
     "name": "stderr",
     "output_type": "stream",
     "text": [
      "infer batches: 100%|██████████| 54/54 [00:11<00:00,  4.77it/s]\n"
     ]
    },
    {
     "name": "stdout",
     "output_type": "stream",
     "text": [
      "saved to: /Users/johnsonzhou/git/comp90042-project/result/inference/model_03a_bert_base_triplet_margin_2_neg_5_10epochs_dev_claim_evidence_retrieved_seen_only.json\n",
      "running inference for claim-871 n=3443\n"
     ]
    },
    {
     "name": "stderr",
     "output_type": "stream",
     "text": [
      "infer batches: 100%|██████████| 54/54 [00:11<00:00,  4.61it/s]\n"
     ]
    },
    {
     "name": "stdout",
     "output_type": "stream",
     "text": [
      "saved to: /Users/johnsonzhou/git/comp90042-project/result/inference/model_03a_bert_base_triplet_margin_2_neg_5_10epochs_dev_claim_evidence_retrieved_seen_only.json\n",
      "running inference for claim-2164 n=3443\n"
     ]
    },
    {
     "name": "stderr",
     "output_type": "stream",
     "text": [
      "infer batches: 100%|██████████| 54/54 [00:11<00:00,  4.84it/s]\n"
     ]
    },
    {
     "name": "stdout",
     "output_type": "stream",
     "text": [
      "saved to: /Users/johnsonzhou/git/comp90042-project/result/inference/model_03a_bert_base_triplet_margin_2_neg_5_10epochs_dev_claim_evidence_retrieved_seen_only.json\n",
      "running inference for claim-1607 n=3443\n"
     ]
    },
    {
     "name": "stderr",
     "output_type": "stream",
     "text": [
      "infer batches: 100%|██████████| 54/54 [00:10<00:00,  5.08it/s]\n"
     ]
    },
    {
     "name": "stdout",
     "output_type": "stream",
     "text": [
      "saved to: /Users/johnsonzhou/git/comp90042-project/result/inference/model_03a_bert_base_triplet_margin_2_neg_5_10epochs_dev_claim_evidence_retrieved_seen_only.json\n",
      "running inference for claim-761 n=3443\n"
     ]
    },
    {
     "name": "stderr",
     "output_type": "stream",
     "text": [
      "infer batches: 100%|██████████| 54/54 [00:12<00:00,  4.39it/s]\n"
     ]
    },
    {
     "name": "stdout",
     "output_type": "stream",
     "text": [
      "saved to: /Users/johnsonzhou/git/comp90042-project/result/inference/model_03a_bert_base_triplet_margin_2_neg_5_10epochs_dev_claim_evidence_retrieved_seen_only.json\n",
      "running inference for claim-1718 n=3443\n"
     ]
    },
    {
     "name": "stderr",
     "output_type": "stream",
     "text": [
      "infer batches: 100%|██████████| 54/54 [00:11<00:00,  4.89it/s]\n"
     ]
    },
    {
     "name": "stdout",
     "output_type": "stream",
     "text": [
      "saved to: /Users/johnsonzhou/git/comp90042-project/result/inference/model_03a_bert_base_triplet_margin_2_neg_5_10epochs_dev_claim_evidence_retrieved_seen_only.json\n",
      "running inference for claim-1273 n=3443\n"
     ]
    },
    {
     "name": "stderr",
     "output_type": "stream",
     "text": [
      "infer batches: 100%|██████████| 54/54 [00:15<00:00,  3.54it/s]\n"
     ]
    },
    {
     "name": "stdout",
     "output_type": "stream",
     "text": [
      "saved to: /Users/johnsonzhou/git/comp90042-project/result/inference/model_03a_bert_base_triplet_margin_2_neg_5_10epochs_dev_claim_evidence_retrieved_seen_only.json\n",
      "running inference for claim-1786 n=3443\n"
     ]
    },
    {
     "name": "stderr",
     "output_type": "stream",
     "text": [
      "infer batches: 100%|██████████| 54/54 [00:11<00:00,  4.79it/s]\n"
     ]
    },
    {
     "name": "stdout",
     "output_type": "stream",
     "text": [
      "saved to: /Users/johnsonzhou/git/comp90042-project/result/inference/model_03a_bert_base_triplet_margin_2_neg_5_10epochs_dev_claim_evidence_retrieved_seen_only.json\n",
      "running inference for claim-2796 n=3443\n"
     ]
    },
    {
     "name": "stderr",
     "output_type": "stream",
     "text": [
      "infer batches: 100%|██████████| 54/54 [00:12<00:00,  4.28it/s]\n"
     ]
    },
    {
     "name": "stdout",
     "output_type": "stream",
     "text": [
      "saved to: /Users/johnsonzhou/git/comp90042-project/result/inference/model_03a_bert_base_triplet_margin_2_neg_5_10epochs_dev_claim_evidence_retrieved_seen_only.json\n",
      "running inference for claim-2580 n=3443\n"
     ]
    },
    {
     "name": "stderr",
     "output_type": "stream",
     "text": [
      "infer batches: 100%|██████████| 54/54 [00:11<00:00,  4.87it/s]\n"
     ]
    },
    {
     "name": "stdout",
     "output_type": "stream",
     "text": [
      "saved to: /Users/johnsonzhou/git/comp90042-project/result/inference/model_03a_bert_base_triplet_margin_2_neg_5_10epochs_dev_claim_evidence_retrieved_seen_only.json\n",
      "running inference for claim-1219 n=3443\n"
     ]
    },
    {
     "name": "stderr",
     "output_type": "stream",
     "text": [
      "infer batches: 100%|██████████| 54/54 [00:12<00:00,  4.49it/s]\n"
     ]
    },
    {
     "name": "stdout",
     "output_type": "stream",
     "text": [
      "saved to: /Users/johnsonzhou/git/comp90042-project/result/inference/model_03a_bert_base_triplet_margin_2_neg_5_10epochs_dev_claim_evidence_retrieved_seen_only.json\n",
      "running inference for claim-75 n=3443\n"
     ]
    },
    {
     "name": "stderr",
     "output_type": "stream",
     "text": [
      "infer batches: 100%|██████████| 54/54 [00:11<00:00,  4.83it/s]\n"
     ]
    },
    {
     "name": "stdout",
     "output_type": "stream",
     "text": [
      "saved to: /Users/johnsonzhou/git/comp90042-project/result/inference/model_03a_bert_base_triplet_margin_2_neg_5_10epochs_dev_claim_evidence_retrieved_seen_only.json\n",
      "running inference for claim-2813 n=3443\n"
     ]
    },
    {
     "name": "stderr",
     "output_type": "stream",
     "text": [
      "infer batches: 100%|██████████| 54/54 [00:12<00:00,  4.33it/s]\n"
     ]
    },
    {
     "name": "stdout",
     "output_type": "stream",
     "text": [
      "saved to: /Users/johnsonzhou/git/comp90042-project/result/inference/model_03a_bert_base_triplet_margin_2_neg_5_10epochs_dev_claim_evidence_retrieved_seen_only.json\n",
      "running inference for claim-2335 n=3443\n"
     ]
    },
    {
     "name": "stderr",
     "output_type": "stream",
     "text": [
      "infer batches: 100%|██████████| 54/54 [00:12<00:00,  4.38it/s]\n"
     ]
    },
    {
     "name": "stdout",
     "output_type": "stream",
     "text": [
      "saved to: /Users/johnsonzhou/git/comp90042-project/result/inference/model_03a_bert_base_triplet_margin_2_neg_5_10epochs_dev_claim_evidence_retrieved_seen_only.json\n",
      "running inference for claim-161 n=3443\n"
     ]
    },
    {
     "name": "stderr",
     "output_type": "stream",
     "text": [
      "infer batches: 100%|██████████| 54/54 [00:12<00:00,  4.44it/s]\n"
     ]
    },
    {
     "name": "stdout",
     "output_type": "stream",
     "text": [
      "saved to: /Users/johnsonzhou/git/comp90042-project/result/inference/model_03a_bert_base_triplet_margin_2_neg_5_10epochs_dev_claim_evidence_retrieved_seen_only.json\n",
      "running inference for claim-2243 n=3443\n"
     ]
    },
    {
     "name": "stderr",
     "output_type": "stream",
     "text": [
      "infer batches: 100%|██████████| 54/54 [00:11<00:00,  4.56it/s]\n"
     ]
    },
    {
     "name": "stdout",
     "output_type": "stream",
     "text": [
      "saved to: /Users/johnsonzhou/git/comp90042-project/result/inference/model_03a_bert_base_triplet_margin_2_neg_5_10epochs_dev_claim_evidence_retrieved_seen_only.json\n",
      "running inference for claim-1256 n=3443\n"
     ]
    },
    {
     "name": "stderr",
     "output_type": "stream",
     "text": [
      "infer batches: 100%|██████████| 54/54 [00:11<00:00,  4.83it/s]\n"
     ]
    },
    {
     "name": "stdout",
     "output_type": "stream",
     "text": [
      "saved to: /Users/johnsonzhou/git/comp90042-project/result/inference/model_03a_bert_base_triplet_margin_2_neg_5_10epochs_dev_claim_evidence_retrieved_seen_only.json\n",
      "running inference for claim-506 n=3443\n"
     ]
    },
    {
     "name": "stderr",
     "output_type": "stream",
     "text": [
      "infer batches: 100%|██████████| 54/54 [00:14<00:00,  3.78it/s]\n"
     ]
    },
    {
     "name": "stdout",
     "output_type": "stream",
     "text": [
      "saved to: /Users/johnsonzhou/git/comp90042-project/result/inference/model_03a_bert_base_triplet_margin_2_neg_5_10epochs_dev_claim_evidence_retrieved_seen_only.json\n",
      "running inference for claim-369 n=3443\n"
     ]
    },
    {
     "name": "stderr",
     "output_type": "stream",
     "text": [
      "infer batches: 100%|██████████| 54/54 [00:12<00:00,  4.47it/s]\n"
     ]
    },
    {
     "name": "stdout",
     "output_type": "stream",
     "text": [
      "saved to: /Users/johnsonzhou/git/comp90042-project/result/inference/model_03a_bert_base_triplet_margin_2_neg_5_10epochs_dev_claim_evidence_retrieved_seen_only.json\n",
      "running inference for claim-2184 n=3443\n"
     ]
    },
    {
     "name": "stderr",
     "output_type": "stream",
     "text": [
      "infer batches: 100%|██████████| 54/54 [00:11<00:00,  4.74it/s]\n"
     ]
    },
    {
     "name": "stdout",
     "output_type": "stream",
     "text": [
      "saved to: /Users/johnsonzhou/git/comp90042-project/result/inference/model_03a_bert_base_triplet_margin_2_neg_5_10epochs_dev_claim_evidence_retrieved_seen_only.json\n",
      "running inference for claim-1057 n=3443\n"
     ]
    },
    {
     "name": "stderr",
     "output_type": "stream",
     "text": [
      "infer batches: 100%|██████████| 54/54 [00:11<00:00,  4.70it/s]\n"
     ]
    },
    {
     "name": "stdout",
     "output_type": "stream",
     "text": [
      "saved to: /Users/johnsonzhou/git/comp90042-project/result/inference/model_03a_bert_base_triplet_margin_2_neg_5_10epochs_dev_claim_evidence_retrieved_seen_only.json\n",
      "running inference for claim-104 n=3443\n"
     ]
    },
    {
     "name": "stderr",
     "output_type": "stream",
     "text": [
      "infer batches: 100%|██████████| 54/54 [00:11<00:00,  4.85it/s]\n"
     ]
    },
    {
     "name": "stdout",
     "output_type": "stream",
     "text": [
      "saved to: /Users/johnsonzhou/git/comp90042-project/result/inference/model_03a_bert_base_triplet_margin_2_neg_5_10epochs_dev_claim_evidence_retrieved_seen_only.json\n",
      "running inference for claim-1975 n=3443\n"
     ]
    },
    {
     "name": "stderr",
     "output_type": "stream",
     "text": [
      "infer batches: 100%|██████████| 54/54 [00:13<00:00,  4.00it/s]\n"
     ]
    },
    {
     "name": "stdout",
     "output_type": "stream",
     "text": [
      "saved to: /Users/johnsonzhou/git/comp90042-project/result/inference/model_03a_bert_base_triplet_margin_2_neg_5_10epochs_dev_claim_evidence_retrieved_seen_only.json\n",
      "running inference for claim-139 n=3443\n"
     ]
    },
    {
     "name": "stderr",
     "output_type": "stream",
     "text": [
      "infer batches: 100%|██████████| 54/54 [00:11<00:00,  4.70it/s]\n"
     ]
    },
    {
     "name": "stdout",
     "output_type": "stream",
     "text": [
      "saved to: /Users/johnsonzhou/git/comp90042-project/result/inference/model_03a_bert_base_triplet_margin_2_neg_5_10epochs_dev_claim_evidence_retrieved_seen_only.json\n",
      "running inference for claim-2062 n=3443\n"
     ]
    },
    {
     "name": "stderr",
     "output_type": "stream",
     "text": [
      "infer batches: 100%|██████████| 54/54 [00:10<00:00,  4.94it/s]\n"
     ]
    },
    {
     "name": "stdout",
     "output_type": "stream",
     "text": [
      "saved to: /Users/johnsonzhou/git/comp90042-project/result/inference/model_03a_bert_base_triplet_margin_2_neg_5_10epochs_dev_claim_evidence_retrieved_seen_only.json\n",
      "running inference for claim-1160 n=3443\n"
     ]
    },
    {
     "name": "stderr",
     "output_type": "stream",
     "text": [
      "infer batches: 100%|██████████| 54/54 [00:12<00:00,  4.48it/s]\n"
     ]
    },
    {
     "name": "stdout",
     "output_type": "stream",
     "text": [
      "saved to: /Users/johnsonzhou/git/comp90042-project/result/inference/model_03a_bert_base_triplet_margin_2_neg_5_10epochs_dev_claim_evidence_retrieved_seen_only.json\n",
      "running inference for claim-2679 n=3443\n"
     ]
    },
    {
     "name": "stderr",
     "output_type": "stream",
     "text": [
      "infer batches: 100%|██████████| 54/54 [00:12<00:00,  4.36it/s]\n"
     ]
    },
    {
     "name": "stdout",
     "output_type": "stream",
     "text": [
      "saved to: /Users/johnsonzhou/git/comp90042-project/result/inference/model_03a_bert_base_triplet_margin_2_neg_5_10epochs_dev_claim_evidence_retrieved_seen_only.json\n",
      "running inference for claim-2662 n=3443\n"
     ]
    },
    {
     "name": "stderr",
     "output_type": "stream",
     "text": [
      "infer batches: 100%|██████████| 54/54 [00:14<00:00,  3.63it/s]\n"
     ]
    },
    {
     "name": "stdout",
     "output_type": "stream",
     "text": [
      "saved to: /Users/johnsonzhou/git/comp90042-project/result/inference/model_03a_bert_base_triplet_margin_2_neg_5_10epochs_dev_claim_evidence_retrieved_seen_only.json\n",
      "running inference for claim-1490 n=3443\n"
     ]
    },
    {
     "name": "stderr",
     "output_type": "stream",
     "text": [
      "infer batches: 100%|██████████| 54/54 [00:13<00:00,  4.03it/s]\n"
     ]
    },
    {
     "name": "stdout",
     "output_type": "stream",
     "text": [
      "saved to: /Users/johnsonzhou/git/comp90042-project/result/inference/model_03a_bert_base_triplet_margin_2_neg_5_10epochs_dev_claim_evidence_retrieved_seen_only.json\n",
      "running inference for claim-2768 n=3443\n"
     ]
    },
    {
     "name": "stderr",
     "output_type": "stream",
     "text": [
      "infer batches: 100%|██████████| 54/54 [00:11<00:00,  4.79it/s]\n"
     ]
    },
    {
     "name": "stdout",
     "output_type": "stream",
     "text": [
      "saved to: /Users/johnsonzhou/git/comp90042-project/result/inference/model_03a_bert_base_triplet_margin_2_neg_5_10epochs_dev_claim_evidence_retrieved_seen_only.json\n",
      "running inference for claim-2168 n=3443\n"
     ]
    },
    {
     "name": "stderr",
     "output_type": "stream",
     "text": [
      "infer batches: 100%|██████████| 54/54 [00:10<00:00,  4.94it/s]\n"
     ]
    },
    {
     "name": "stdout",
     "output_type": "stream",
     "text": [
      "saved to: /Users/johnsonzhou/git/comp90042-project/result/inference/model_03a_bert_base_triplet_margin_2_neg_5_10epochs_dev_claim_evidence_retrieved_seen_only.json\n",
      "running inference for claim-785 n=3443\n"
     ]
    },
    {
     "name": "stderr",
     "output_type": "stream",
     "text": [
      "infer batches: 100%|██████████| 54/54 [00:12<00:00,  4.40it/s]\n"
     ]
    },
    {
     "name": "stdout",
     "output_type": "stream",
     "text": [
      "saved to: /Users/johnsonzhou/git/comp90042-project/result/inference/model_03a_bert_base_triplet_margin_2_neg_5_10epochs_dev_claim_evidence_retrieved_seen_only.json\n",
      "running inference for claim-2426 n=3443\n"
     ]
    },
    {
     "name": "stderr",
     "output_type": "stream",
     "text": [
      "infer batches: 100%|██████████| 54/54 [00:11<00:00,  4.80it/s]\n"
     ]
    },
    {
     "name": "stdout",
     "output_type": "stream",
     "text": [
      "saved to: /Users/johnsonzhou/git/comp90042-project/result/inference/model_03a_bert_base_triplet_margin_2_neg_5_10epochs_dev_claim_evidence_retrieved_seen_only.json\n",
      "running inference for claim-1292 n=3443\n"
     ]
    },
    {
     "name": "stderr",
     "output_type": "stream",
     "text": [
      "infer batches: 100%|██████████| 54/54 [00:11<00:00,  4.69it/s]\n"
     ]
    },
    {
     "name": "stdout",
     "output_type": "stream",
     "text": [
      "saved to: /Users/johnsonzhou/git/comp90042-project/result/inference/model_03a_bert_base_triplet_margin_2_neg_5_10epochs_dev_claim_evidence_retrieved_seen_only.json\n",
      "running inference for claim-993 n=3443\n"
     ]
    },
    {
     "name": "stderr",
     "output_type": "stream",
     "text": [
      "infer batches: 100%|██████████| 54/54 [00:14<00:00,  3.78it/s]\n"
     ]
    },
    {
     "name": "stdout",
     "output_type": "stream",
     "text": [
      "saved to: /Users/johnsonzhou/git/comp90042-project/result/inference/model_03a_bert_base_triplet_margin_2_neg_5_10epochs_dev_claim_evidence_retrieved_seen_only.json\n",
      "running inference for claim-2593 n=3443\n"
     ]
    },
    {
     "name": "stderr",
     "output_type": "stream",
     "text": [
      "infer batches: 100%|██████████| 54/54 [00:13<00:00,  3.91it/s]\n"
     ]
    },
    {
     "name": "stdout",
     "output_type": "stream",
     "text": [
      "saved to: /Users/johnsonzhou/git/comp90042-project/result/inference/model_03a_bert_base_triplet_margin_2_neg_5_10epochs_dev_claim_evidence_retrieved_seen_only.json\n",
      "running inference for claim-1567 n=3443\n"
     ]
    },
    {
     "name": "stderr",
     "output_type": "stream",
     "text": [
      "infer batches: 100%|██████████| 54/54 [00:10<00:00,  5.16it/s]\n"
     ]
    },
    {
     "name": "stdout",
     "output_type": "stream",
     "text": [
      "saved to: /Users/johnsonzhou/git/comp90042-project/result/inference/model_03a_bert_base_triplet_margin_2_neg_5_10epochs_dev_claim_evidence_retrieved_seen_only.json\n",
      "running inference for claim-1834 n=3443\n"
     ]
    },
    {
     "name": "stderr",
     "output_type": "stream",
     "text": [
      "infer batches: 100%|██████████| 54/54 [00:12<00:00,  4.20it/s]\n"
     ]
    },
    {
     "name": "stdout",
     "output_type": "stream",
     "text": [
      "saved to: /Users/johnsonzhou/git/comp90042-project/result/inference/model_03a_bert_base_triplet_margin_2_neg_5_10epochs_dev_claim_evidence_retrieved_seen_only.json\n",
      "running inference for claim-856 n=3443\n"
     ]
    },
    {
     "name": "stderr",
     "output_type": "stream",
     "text": [
      "infer batches: 100%|██████████| 54/54 [00:16<00:00,  3.30it/s]\n"
     ]
    },
    {
     "name": "stdout",
     "output_type": "stream",
     "text": [
      "saved to: /Users/johnsonzhou/git/comp90042-project/result/inference/model_03a_bert_base_triplet_margin_2_neg_5_10epochs_dev_claim_evidence_retrieved_seen_only.json\n",
      "running inference for claim-540 n=3443\n"
     ]
    },
    {
     "name": "stderr",
     "output_type": "stream",
     "text": [
      "infer batches: 100%|██████████| 54/54 [00:11<00:00,  4.66it/s]\n"
     ]
    },
    {
     "name": "stdout",
     "output_type": "stream",
     "text": [
      "saved to: /Users/johnsonzhou/git/comp90042-project/result/inference/model_03a_bert_base_triplet_margin_2_neg_5_10epochs_dev_claim_evidence_retrieved_seen_only.json\n",
      "running inference for claim-757 n=3443\n"
     ]
    },
    {
     "name": "stderr",
     "output_type": "stream",
     "text": [
      "infer batches: 100%|██████████| 54/54 [00:11<00:00,  4.69it/s]\n"
     ]
    },
    {
     "name": "stdout",
     "output_type": "stream",
     "text": [
      "saved to: /Users/johnsonzhou/git/comp90042-project/result/inference/model_03a_bert_base_triplet_margin_2_neg_5_10epochs_dev_claim_evidence_retrieved_seen_only.json\n",
      "running inference for claim-1407 n=3443\n"
     ]
    },
    {
     "name": "stderr",
     "output_type": "stream",
     "text": [
      "infer batches: 100%|██████████| 54/54 [00:13<00:00,  3.86it/s]\n"
     ]
    },
    {
     "name": "stdout",
     "output_type": "stream",
     "text": [
      "saved to: /Users/johnsonzhou/git/comp90042-project/result/inference/model_03a_bert_base_triplet_margin_2_neg_5_10epochs_dev_claim_evidence_retrieved_seen_only.json\n",
      "running inference for claim-3070 n=3443\n"
     ]
    },
    {
     "name": "stderr",
     "output_type": "stream",
     "text": [
      "infer batches: 100%|██████████| 54/54 [00:13<00:00,  4.09it/s]\n"
     ]
    },
    {
     "name": "stdout",
     "output_type": "stream",
     "text": [
      "saved to: /Users/johnsonzhou/git/comp90042-project/result/inference/model_03a_bert_base_triplet_margin_2_neg_5_10epochs_dev_claim_evidence_retrieved_seen_only.json\n",
      "running inference for claim-1745 n=3443\n"
     ]
    },
    {
     "name": "stderr",
     "output_type": "stream",
     "text": [
      "infer batches: 100%|██████████| 54/54 [00:11<00:00,  4.66it/s]\n"
     ]
    },
    {
     "name": "stdout",
     "output_type": "stream",
     "text": [
      "saved to: /Users/johnsonzhou/git/comp90042-project/result/inference/model_03a_bert_base_triplet_margin_2_neg_5_10epochs_dev_claim_evidence_retrieved_seen_only.json\n",
      "running inference for claim-1515 n=3443\n"
     ]
    },
    {
     "name": "stderr",
     "output_type": "stream",
     "text": [
      "infer batches: 100%|██████████| 54/54 [00:10<00:00,  5.01it/s]\n"
     ]
    },
    {
     "name": "stdout",
     "output_type": "stream",
     "text": [
      "saved to: /Users/johnsonzhou/git/comp90042-project/result/inference/model_03a_bert_base_triplet_margin_2_neg_5_10epochs_dev_claim_evidence_retrieved_seen_only.json\n",
      "running inference for claim-1519 n=3443\n"
     ]
    },
    {
     "name": "stderr",
     "output_type": "stream",
     "text": [
      "infer batches: 100%|██████████| 54/54 [00:13<00:00,  4.08it/s]\n"
     ]
    },
    {
     "name": "stdout",
     "output_type": "stream",
     "text": [
      "saved to: /Users/johnsonzhou/git/comp90042-project/result/inference/model_03a_bert_base_triplet_margin_2_neg_5_10epochs_dev_claim_evidence_retrieved_seen_only.json\n",
      "running inference for claim-3069 n=3443\n"
     ]
    },
    {
     "name": "stderr",
     "output_type": "stream",
     "text": [
      "infer batches: 100%|██████████| 54/54 [00:13<00:00,  3.94it/s]\n"
     ]
    },
    {
     "name": "stdout",
     "output_type": "stream",
     "text": [
      "saved to: /Users/johnsonzhou/git/comp90042-project/result/inference/model_03a_bert_base_triplet_margin_2_neg_5_10epochs_dev_claim_evidence_retrieved_seen_only.json\n",
      "running inference for claim-677 n=3443\n"
     ]
    },
    {
     "name": "stderr",
     "output_type": "stream",
     "text": [
      "infer batches: 100%|██████████| 54/54 [00:12<00:00,  4.24it/s]\n"
     ]
    },
    {
     "name": "stdout",
     "output_type": "stream",
     "text": [
      "saved to: /Users/johnsonzhou/git/comp90042-project/result/inference/model_03a_bert_base_triplet_margin_2_neg_5_10epochs_dev_claim_evidence_retrieved_seen_only.json\n",
      "running inference for claim-765 n=3443\n"
     ]
    },
    {
     "name": "stderr",
     "output_type": "stream",
     "text": [
      "infer batches: 100%|██████████| 54/54 [00:11<00:00,  4.88it/s]\n"
     ]
    },
    {
     "name": "stdout",
     "output_type": "stream",
     "text": [
      "saved to: /Users/johnsonzhou/git/comp90042-project/result/inference/model_03a_bert_base_triplet_margin_2_neg_5_10epochs_dev_claim_evidence_retrieved_seen_only.json\n",
      "running inference for claim-2275 n=3443\n"
     ]
    },
    {
     "name": "stderr",
     "output_type": "stream",
     "text": [
      "infer batches: 100%|██████████| 54/54 [00:11<00:00,  4.57it/s]\n"
     ]
    },
    {
     "name": "stdout",
     "output_type": "stream",
     "text": [
      "saved to: /Users/johnsonzhou/git/comp90042-project/result/inference/model_03a_bert_base_triplet_margin_2_neg_5_10epochs_dev_claim_evidence_retrieved_seen_only.json\n",
      "running inference for claim-1113 n=3443\n"
     ]
    },
    {
     "name": "stderr",
     "output_type": "stream",
     "text": [
      "infer batches: 100%|██████████| 54/54 [00:12<00:00,  4.31it/s]\n"
     ]
    },
    {
     "name": "stdout",
     "output_type": "stream",
     "text": [
      "saved to: /Users/johnsonzhou/git/comp90042-project/result/inference/model_03a_bert_base_triplet_margin_2_neg_5_10epochs_dev_claim_evidence_retrieved_seen_only.json\n",
      "running inference for claim-2611 n=3443\n"
     ]
    },
    {
     "name": "stderr",
     "output_type": "stream",
     "text": [
      "infer batches: 100%|██████████| 54/54 [00:11<00:00,  4.71it/s]\n"
     ]
    },
    {
     "name": "stdout",
     "output_type": "stream",
     "text": [
      "saved to: /Users/johnsonzhou/git/comp90042-project/result/inference/model_03a_bert_base_triplet_margin_2_neg_5_10epochs_dev_claim_evidence_retrieved_seen_only.json\n",
      "running inference for claim-2060 n=3443\n"
     ]
    },
    {
     "name": "stderr",
     "output_type": "stream",
     "text": [
      "infer batches: 100%|██████████| 54/54 [00:11<00:00,  4.85it/s]\n"
     ]
    },
    {
     "name": "stdout",
     "output_type": "stream",
     "text": [
      "saved to: /Users/johnsonzhou/git/comp90042-project/result/inference/model_03a_bert_base_triplet_margin_2_neg_5_10epochs_dev_claim_evidence_retrieved_seen_only.json\n",
      "running inference for claim-2326 n=3443\n"
     ]
    },
    {
     "name": "stderr",
     "output_type": "stream",
     "text": [
      "infer batches: 100%|██████████| 54/54 [00:11<00:00,  4.69it/s]\n"
     ]
    },
    {
     "name": "stdout",
     "output_type": "stream",
     "text": [
      "saved to: /Users/johnsonzhou/git/comp90042-project/result/inference/model_03a_bert_base_triplet_margin_2_neg_5_10epochs_dev_claim_evidence_retrieved_seen_only.json\n",
      "running inference for claim-1087 n=3443\n"
     ]
    },
    {
     "name": "stderr",
     "output_type": "stream",
     "text": [
      "infer batches: 100%|██████████| 54/54 [00:12<00:00,  4.16it/s]\n"
     ]
    },
    {
     "name": "stdout",
     "output_type": "stream",
     "text": [
      "saved to: /Users/johnsonzhou/git/comp90042-project/result/inference/model_03a_bert_base_triplet_margin_2_neg_5_10epochs_dev_claim_evidence_retrieved_seen_only.json\n",
      "running inference for claim-2867 n=3443\n"
     ]
    },
    {
     "name": "stderr",
     "output_type": "stream",
     "text": [
      "infer batches: 100%|██████████| 54/54 [00:12<00:00,  4.36it/s]\n"
     ]
    },
    {
     "name": "stdout",
     "output_type": "stream",
     "text": [
      "saved to: /Users/johnsonzhou/git/comp90042-project/result/inference/model_03a_bert_base_triplet_margin_2_neg_5_10epochs_dev_claim_evidence_retrieved_seen_only.json\n",
      "running inference for claim-2300 n=3443\n"
     ]
    },
    {
     "name": "stderr",
     "output_type": "stream",
     "text": [
      "infer batches: 100%|██████████| 54/54 [00:11<00:00,  4.63it/s]\n"
     ]
    },
    {
     "name": "stdout",
     "output_type": "stream",
     "text": [
      "saved to: /Users/johnsonzhou/git/comp90042-project/result/inference/model_03a_bert_base_triplet_margin_2_neg_5_10epochs_dev_claim_evidence_retrieved_seen_only.json\n",
      "running inference for claim-2250 n=3443\n"
     ]
    },
    {
     "name": "stderr",
     "output_type": "stream",
     "text": [
      "infer batches: 100%|██████████| 54/54 [00:15<00:00,  3.56it/s]\n"
     ]
    },
    {
     "name": "stdout",
     "output_type": "stream",
     "text": [
      "saved to: /Users/johnsonzhou/git/comp90042-project/result/inference/model_03a_bert_base_triplet_margin_2_neg_5_10epochs_dev_claim_evidence_retrieved_seen_only.json\n",
      "running inference for claim-2429 n=3443\n"
     ]
    },
    {
     "name": "stderr",
     "output_type": "stream",
     "text": [
      "infer batches: 100%|██████████| 54/54 [00:16<00:00,  3.23it/s]\n"
     ]
    },
    {
     "name": "stdout",
     "output_type": "stream",
     "text": [
      "saved to: /Users/johnsonzhou/git/comp90042-project/result/inference/model_03a_bert_base_triplet_margin_2_neg_5_10epochs_dev_claim_evidence_retrieved_seen_only.json\n",
      "running inference for claim-3051 n=3443\n"
     ]
    },
    {
     "name": "stderr",
     "output_type": "stream",
     "text": [
      "infer batches: 100%|██████████| 54/54 [00:13<00:00,  3.86it/s]\n"
     ]
    },
    {
     "name": "stdout",
     "output_type": "stream",
     "text": [
      "saved to: /Users/johnsonzhou/git/comp90042-project/result/inference/model_03a_bert_base_triplet_margin_2_neg_5_10epochs_dev_claim_evidence_retrieved_seen_only.json\n",
      "running inference for claim-1549 n=3443\n"
     ]
    },
    {
     "name": "stderr",
     "output_type": "stream",
     "text": [
      "infer batches: 100%|██████████| 54/54 [00:10<00:00,  5.14it/s]\n"
     ]
    },
    {
     "name": "stdout",
     "output_type": "stream",
     "text": [
      "saved to: /Users/johnsonzhou/git/comp90042-project/result/inference/model_03a_bert_base_triplet_margin_2_neg_5_10epochs_dev_claim_evidence_retrieved_seen_only.json\n",
      "running inference for claim-261 n=3443\n"
     ]
    },
    {
     "name": "stderr",
     "output_type": "stream",
     "text": [
      "infer batches: 100%|██████████| 54/54 [00:13<00:00,  4.14it/s]\n"
     ]
    },
    {
     "name": "stdout",
     "output_type": "stream",
     "text": [
      "saved to: /Users/johnsonzhou/git/comp90042-project/result/inference/model_03a_bert_base_triplet_margin_2_neg_5_10epochs_dev_claim_evidence_retrieved_seen_only.json\n",
      "running inference for claim-2230 n=3443\n"
     ]
    },
    {
     "name": "stderr",
     "output_type": "stream",
     "text": [
      "infer batches: 100%|██████████| 54/54 [00:12<00:00,  4.37it/s]\n"
     ]
    },
    {
     "name": "stdout",
     "output_type": "stream",
     "text": [
      "saved to: /Users/johnsonzhou/git/comp90042-project/result/inference/model_03a_bert_base_triplet_margin_2_neg_5_10epochs_dev_claim_evidence_retrieved_seen_only.json\n",
      "running inference for claim-2579 n=3443\n"
     ]
    },
    {
     "name": "stderr",
     "output_type": "stream",
     "text": [
      "infer batches: 100%|██████████| 54/54 [00:11<00:00,  4.67it/s]\n"
     ]
    },
    {
     "name": "stdout",
     "output_type": "stream",
     "text": [
      "saved to: /Users/johnsonzhou/git/comp90042-project/result/inference/model_03a_bert_base_triplet_margin_2_neg_5_10epochs_dev_claim_evidence_retrieved_seen_only.json\n",
      "running inference for claim-1416 n=3443\n"
     ]
    },
    {
     "name": "stderr",
     "output_type": "stream",
     "text": [
      "infer batches: 100%|██████████| 54/54 [00:14<00:00,  3.71it/s]\n"
     ]
    },
    {
     "name": "stdout",
     "output_type": "stream",
     "text": [
      "saved to: /Users/johnsonzhou/git/comp90042-project/result/inference/model_03a_bert_base_triplet_margin_2_neg_5_10epochs_dev_claim_evidence_retrieved_seen_only.json\n",
      "running inference for claim-2497 n=3443\n"
     ]
    },
    {
     "name": "stderr",
     "output_type": "stream",
     "text": [
      "infer batches: 100%|██████████| 54/54 [00:10<00:00,  5.00it/s]\n"
     ]
    },
    {
     "name": "stdout",
     "output_type": "stream",
     "text": [
      "saved to: /Users/johnsonzhou/git/comp90042-project/result/inference/model_03a_bert_base_triplet_margin_2_neg_5_10epochs_dev_claim_evidence_retrieved_seen_only.json\n",
      "running inference for claim-811 n=3443\n"
     ]
    },
    {
     "name": "stderr",
     "output_type": "stream",
     "text": [
      "infer batches: 100%|██████████| 54/54 [00:13<00:00,  4.05it/s]\n"
     ]
    },
    {
     "name": "stdout",
     "output_type": "stream",
     "text": [
      "saved to: /Users/johnsonzhou/git/comp90042-project/result/inference/model_03a_bert_base_triplet_margin_2_neg_5_10epochs_dev_claim_evidence_retrieved_seen_only.json\n",
      "running inference for claim-1896 n=3443\n"
     ]
    },
    {
     "name": "stderr",
     "output_type": "stream",
     "text": [
      "infer batches: 100%|██████████| 54/54 [00:12<00:00,  4.46it/s]\n"
     ]
    },
    {
     "name": "stdout",
     "output_type": "stream",
     "text": [
      "saved to: /Users/johnsonzhou/git/comp90042-project/result/inference/model_03a_bert_base_triplet_margin_2_neg_5_10epochs_dev_claim_evidence_retrieved_seen_only.json\n",
      "running inference for claim-2819 n=3443\n"
     ]
    },
    {
     "name": "stderr",
     "output_type": "stream",
     "text": [
      "infer batches: 100%|██████████| 54/54 [00:11<00:00,  4.76it/s]\n"
     ]
    },
    {
     "name": "stdout",
     "output_type": "stream",
     "text": [
      "saved to: /Users/johnsonzhou/git/comp90042-project/result/inference/model_03a_bert_base_triplet_margin_2_neg_5_10epochs_dev_claim_evidence_retrieved_seen_only.json\n",
      "running inference for claim-2643 n=3443\n"
     ]
    },
    {
     "name": "stderr",
     "output_type": "stream",
     "text": [
      "infer batches: 100%|██████████| 54/54 [00:12<00:00,  4.33it/s]\n"
     ]
    },
    {
     "name": "stdout",
     "output_type": "stream",
     "text": [
      "saved to: /Users/johnsonzhou/git/comp90042-project/result/inference/model_03a_bert_base_triplet_margin_2_neg_5_10epochs_dev_claim_evidence_retrieved_seen_only.json\n",
      "running inference for claim-1775 n=3443\n"
     ]
    },
    {
     "name": "stderr",
     "output_type": "stream",
     "text": [
      "infer batches: 100%|██████████| 54/54 [00:12<00:00,  4.31it/s]\n"
     ]
    },
    {
     "name": "stdout",
     "output_type": "stream",
     "text": [
      "saved to: /Users/johnsonzhou/git/comp90042-project/result/inference/model_03a_bert_base_triplet_margin_2_neg_5_10epochs_dev_claim_evidence_retrieved_seen_only.json\n",
      "running inference for claim-316 n=3443\n"
     ]
    },
    {
     "name": "stderr",
     "output_type": "stream",
     "text": [
      "infer batches: 100%|██████████| 54/54 [00:11<00:00,  4.86it/s]\n"
     ]
    },
    {
     "name": "stdout",
     "output_type": "stream",
     "text": [
      "saved to: /Users/johnsonzhou/git/comp90042-project/result/inference/model_03a_bert_base_triplet_margin_2_neg_5_10epochs_dev_claim_evidence_retrieved_seen_only.json\n",
      "running inference for claim-896 n=3443\n"
     ]
    },
    {
     "name": "stderr",
     "output_type": "stream",
     "text": [
      "infer batches: 100%|██████████| 54/54 [00:13<00:00,  4.11it/s]\n"
     ]
    },
    {
     "name": "stdout",
     "output_type": "stream",
     "text": [
      "saved to: /Users/johnsonzhou/git/comp90042-project/result/inference/model_03a_bert_base_triplet_margin_2_neg_5_10epochs_dev_claim_evidence_retrieved_seen_only.json\n",
      "running inference for claim-331 n=3443\n"
     ]
    },
    {
     "name": "stderr",
     "output_type": "stream",
     "text": [
      "infer batches: 100%|██████████| 54/54 [00:11<00:00,  4.77it/s]\n"
     ]
    },
    {
     "name": "stdout",
     "output_type": "stream",
     "text": [
      "saved to: /Users/johnsonzhou/git/comp90042-project/result/inference/model_03a_bert_base_triplet_margin_2_neg_5_10epochs_dev_claim_evidence_retrieved_seen_only.json\n",
      "running inference for claim-2574 n=3443\n"
     ]
    },
    {
     "name": "stderr",
     "output_type": "stream",
     "text": [
      "infer batches: 100%|██████████| 54/54 [00:10<00:00,  5.16it/s]\n"
     ]
    },
    {
     "name": "stdout",
     "output_type": "stream",
     "text": [
      "saved to: /Users/johnsonzhou/git/comp90042-project/result/inference/model_03a_bert_base_triplet_margin_2_neg_5_10epochs_dev_claim_evidence_retrieved_seen_only.json\n",
      "running inference for claim-342 n=3443\n"
     ]
    },
    {
     "name": "stderr",
     "output_type": "stream",
     "text": [
      "infer batches: 100%|██████████| 54/54 [00:12<00:00,  4.46it/s]\n"
     ]
    },
    {
     "name": "stdout",
     "output_type": "stream",
     "text": [
      "saved to: /Users/johnsonzhou/git/comp90042-project/result/inference/model_03a_bert_base_triplet_margin_2_neg_5_10epochs_dev_claim_evidence_retrieved_seen_only.json\n",
      "running inference for claim-2034 n=3443\n"
     ]
    },
    {
     "name": "stderr",
     "output_type": "stream",
     "text": [
      "infer batches: 100%|██████████| 54/54 [00:12<00:00,  4.46it/s]\n"
     ]
    },
    {
     "name": "stdout",
     "output_type": "stream",
     "text": [
      "saved to: /Users/johnsonzhou/git/comp90042-project/result/inference/model_03a_bert_base_triplet_margin_2_neg_5_10epochs_dev_claim_evidence_retrieved_seen_only.json\n",
      "running inference for claim-578 n=3443\n"
     ]
    },
    {
     "name": "stderr",
     "output_type": "stream",
     "text": [
      "infer batches: 100%|██████████| 54/54 [00:13<00:00,  4.15it/s]\n"
     ]
    },
    {
     "name": "stdout",
     "output_type": "stream",
     "text": [
      "saved to: /Users/johnsonzhou/git/comp90042-project/result/inference/model_03a_bert_base_triplet_margin_2_neg_5_10epochs_dev_claim_evidence_retrieved_seen_only.json\n",
      "running inference for claim-976 n=3443\n"
     ]
    },
    {
     "name": "stderr",
     "output_type": "stream",
     "text": [
      "infer batches: 100%|██████████| 54/54 [00:10<00:00,  4.93it/s]\n"
     ]
    },
    {
     "name": "stdout",
     "output_type": "stream",
     "text": [
      "saved to: /Users/johnsonzhou/git/comp90042-project/result/inference/model_03a_bert_base_triplet_margin_2_neg_5_10epochs_dev_claim_evidence_retrieved_seen_only.json\n",
      "running inference for claim-1097 n=3443\n"
     ]
    },
    {
     "name": "stderr",
     "output_type": "stream",
     "text": [
      "infer batches: 100%|██████████| 54/54 [00:13<00:00,  3.86it/s]\n"
     ]
    },
    {
     "name": "stdout",
     "output_type": "stream",
     "text": [
      "saved to: /Users/johnsonzhou/git/comp90042-project/result/inference/model_03a_bert_base_triplet_margin_2_neg_5_10epochs_dev_claim_evidence_retrieved_seen_only.json\n",
      "running inference for claim-609 n=3443\n"
     ]
    },
    {
     "name": "stderr",
     "output_type": "stream",
     "text": [
      "infer batches: 100%|██████████| 54/54 [00:14<00:00,  3.69it/s]\n"
     ]
    },
    {
     "name": "stdout",
     "output_type": "stream",
     "text": [
      "saved to: /Users/johnsonzhou/git/comp90042-project/result/inference/model_03a_bert_base_triplet_margin_2_neg_5_10epochs_dev_claim_evidence_retrieved_seen_only.json\n",
      "running inference for claim-173 n=3443\n"
     ]
    },
    {
     "name": "stderr",
     "output_type": "stream",
     "text": [
      "infer batches: 100%|██████████| 54/54 [00:11<00:00,  4.84it/s]\n"
     ]
    },
    {
     "name": "stdout",
     "output_type": "stream",
     "text": [
      "saved to: /Users/johnsonzhou/git/comp90042-project/result/inference/model_03a_bert_base_triplet_margin_2_neg_5_10epochs_dev_claim_evidence_retrieved_seen_only.json\n",
      "running inference for claim-1222 n=3443\n"
     ]
    },
    {
     "name": "stderr",
     "output_type": "stream",
     "text": [
      "infer batches: 100%|██████████| 54/54 [00:13<00:00,  3.94it/s]\n"
     ]
    },
    {
     "name": "stdout",
     "output_type": "stream",
     "text": [
      "saved to: /Users/johnsonzhou/git/comp90042-project/result/inference/model_03a_bert_base_triplet_margin_2_neg_5_10epochs_dev_claim_evidence_retrieved_seen_only.json\n",
      "running inference for claim-2441 n=3443\n"
     ]
    },
    {
     "name": "stderr",
     "output_type": "stream",
     "text": [
      "infer batches: 100%|██████████| 54/54 [00:11<00:00,  4.67it/s]\n"
     ]
    },
    {
     "name": "stdout",
     "output_type": "stream",
     "text": [
      "saved to: /Users/johnsonzhou/git/comp90042-project/result/inference/model_03a_bert_base_triplet_margin_2_neg_5_10epochs_dev_claim_evidence_retrieved_seen_only.json\n",
      "running inference for claim-756 n=3443\n"
     ]
    },
    {
     "name": "stderr",
     "output_type": "stream",
     "text": [
      "infer batches: 100%|██████████| 54/54 [00:13<00:00,  3.99it/s]\n"
     ]
    },
    {
     "name": "stdout",
     "output_type": "stream",
     "text": [
      "saved to: /Users/johnsonzhou/git/comp90042-project/result/inference/model_03a_bert_base_triplet_margin_2_neg_5_10epochs_dev_claim_evidence_retrieved_seen_only.json\n",
      "running inference for claim-2577 n=3443\n"
     ]
    },
    {
     "name": "stderr",
     "output_type": "stream",
     "text": [
      "infer batches: 100%|██████████| 54/54 [00:13<00:00,  4.14it/s]\n"
     ]
    },
    {
     "name": "stdout",
     "output_type": "stream",
     "text": [
      "saved to: /Users/johnsonzhou/git/comp90042-project/result/inference/model_03a_bert_base_triplet_margin_2_neg_5_10epochs_dev_claim_evidence_retrieved_seen_only.json\n",
      "running inference for claim-2890 n=3443\n"
     ]
    },
    {
     "name": "stderr",
     "output_type": "stream",
     "text": [
      "infer batches: 100%|██████████| 54/54 [00:10<00:00,  5.04it/s]\n"
     ]
    },
    {
     "name": "stdout",
     "output_type": "stream",
     "text": [
      "saved to: /Users/johnsonzhou/git/comp90042-project/result/inference/model_03a_bert_base_triplet_margin_2_neg_5_10epochs_dev_claim_evidence_retrieved_seen_only.json\n",
      "running inference for claim-2478 n=3443\n"
     ]
    },
    {
     "name": "stderr",
     "output_type": "stream",
     "text": [
      "infer batches: 100%|██████████| 54/54 [00:12<00:00,  4.35it/s]\n"
     ]
    },
    {
     "name": "stdout",
     "output_type": "stream",
     "text": [
      "saved to: /Users/johnsonzhou/git/comp90042-project/result/inference/model_03a_bert_base_triplet_margin_2_neg_5_10epochs_dev_claim_evidence_retrieved_seen_only.json\n",
      "running inference for claim-2399 n=3443\n"
     ]
    },
    {
     "name": "stderr",
     "output_type": "stream",
     "text": [
      "infer batches: 100%|██████████| 54/54 [00:12<00:00,  4.46it/s]\n"
     ]
    },
    {
     "name": "stdout",
     "output_type": "stream",
     "text": [
      "saved to: /Users/johnsonzhou/git/comp90042-project/result/inference/model_03a_bert_base_triplet_margin_2_neg_5_10epochs_dev_claim_evidence_retrieved_seen_only.json\n",
      "running inference for claim-3091 n=3443\n"
     ]
    },
    {
     "name": "stderr",
     "output_type": "stream",
     "text": [
      "infer batches: 100%|██████████| 54/54 [00:11<00:00,  4.61it/s]\n"
     ]
    },
    {
     "name": "stdout",
     "output_type": "stream",
     "text": [
      "saved to: /Users/johnsonzhou/git/comp90042-project/result/inference/model_03a_bert_base_triplet_margin_2_neg_5_10epochs_dev_claim_evidence_retrieved_seen_only.json\n",
      "running inference for claim-141 n=3443\n"
     ]
    },
    {
     "name": "stderr",
     "output_type": "stream",
     "text": [
      "infer batches: 100%|██████████| 54/54 [00:11<00:00,  4.73it/s]\n"
     ]
    },
    {
     "name": "stdout",
     "output_type": "stream",
     "text": [
      "saved to: /Users/johnsonzhou/git/comp90042-project/result/inference/model_03a_bert_base_triplet_margin_2_neg_5_10epochs_dev_claim_evidence_retrieved_seen_only.json\n",
      "running inference for claim-1933 n=3443\n"
     ]
    },
    {
     "name": "stderr",
     "output_type": "stream",
     "text": [
      "infer batches: 100%|██████████| 54/54 [00:11<00:00,  4.75it/s]\n"
     ]
    },
    {
     "name": "stdout",
     "output_type": "stream",
     "text": [
      "saved to: /Users/johnsonzhou/git/comp90042-project/result/inference/model_03a_bert_base_triplet_margin_2_neg_5_10epochs_dev_claim_evidence_retrieved_seen_only.json\n",
      "running inference for claim-1689 n=3443\n"
     ]
    },
    {
     "name": "stderr",
     "output_type": "stream",
     "text": [
      "infer batches: 100%|██████████| 54/54 [00:11<00:00,  4.85it/s]\n"
     ]
    },
    {
     "name": "stdout",
     "output_type": "stream",
     "text": [
      "saved to: /Users/johnsonzhou/git/comp90042-project/result/inference/model_03a_bert_base_triplet_margin_2_neg_5_10epochs_dev_claim_evidence_retrieved_seen_only.json\n",
      "running inference for claim-443 n=3443\n"
     ]
    },
    {
     "name": "stderr",
     "output_type": "stream",
     "text": [
      "infer batches: 100%|██████████| 54/54 [00:12<00:00,  4.45it/s]\n"
     ]
    },
    {
     "name": "stdout",
     "output_type": "stream",
     "text": [
      "saved to: /Users/johnsonzhou/git/comp90042-project/result/inference/model_03a_bert_base_triplet_margin_2_neg_5_10epochs_dev_claim_evidence_retrieved_seen_only.json\n",
      "running inference for claim-2037 n=3443\n"
     ]
    },
    {
     "name": "stderr",
     "output_type": "stream",
     "text": [
      "infer batches: 100%|██████████| 54/54 [00:11<00:00,  4.66it/s]\n"
     ]
    },
    {
     "name": "stdout",
     "output_type": "stream",
     "text": [
      "saved to: /Users/johnsonzhou/git/comp90042-project/result/inference/model_03a_bert_base_triplet_margin_2_neg_5_10epochs_dev_claim_evidence_retrieved_seen_only.json\n",
      "running inference for claim-1734 n=3443\n"
     ]
    },
    {
     "name": "stderr",
     "output_type": "stream",
     "text": [
      "infer batches: 100%|██████████| 54/54 [00:10<00:00,  4.92it/s]\n"
     ]
    },
    {
     "name": "stdout",
     "output_type": "stream",
     "text": [
      "saved to: /Users/johnsonzhou/git/comp90042-project/result/inference/model_03a_bert_base_triplet_margin_2_neg_5_10epochs_dev_claim_evidence_retrieved_seen_only.json\n",
      "running inference for claim-2093 n=3443\n"
     ]
    },
    {
     "name": "stderr",
     "output_type": "stream",
     "text": [
      "infer batches: 100%|██████████| 54/54 [00:12<00:00,  4.38it/s]\n"
     ]
    },
    {
     "name": "stdout",
     "output_type": "stream",
     "text": [
      "saved to: /Users/johnsonzhou/git/comp90042-project/result/inference/model_03a_bert_base_triplet_margin_2_neg_5_10epochs_dev_claim_evidence_retrieved_seen_only.json\n",
      "running inference for claim-1400 n=3443\n"
     ]
    },
    {
     "name": "stderr",
     "output_type": "stream",
     "text": [
      "infer batches: 100%|██████████| 54/54 [00:10<00:00,  5.04it/s]\n"
     ]
    },
    {
     "name": "stdout",
     "output_type": "stream",
     "text": [
      "saved to: /Users/johnsonzhou/git/comp90042-project/result/inference/model_03a_bert_base_triplet_margin_2_neg_5_10epochs_dev_claim_evidence_retrieved_seen_only.json\n",
      "running inference for claim-1638 n=3443\n"
     ]
    },
    {
     "name": "stderr",
     "output_type": "stream",
     "text": [
      "infer batches: 100%|██████████| 54/54 [00:11<00:00,  4.51it/s]\n"
     ]
    },
    {
     "name": "stdout",
     "output_type": "stream",
     "text": [
      "saved to: /Users/johnsonzhou/git/comp90042-project/result/inference/model_03a_bert_base_triplet_margin_2_neg_5_10epochs_dev_claim_evidence_retrieved_seen_only.json\n",
      "running inference for claim-3075 n=3443\n"
     ]
    },
    {
     "name": "stderr",
     "output_type": "stream",
     "text": [
      "infer batches: 100%|██████████| 54/54 [00:12<00:00,  4.27it/s]\n"
     ]
    },
    {
     "name": "stdout",
     "output_type": "stream",
     "text": [
      "saved to: /Users/johnsonzhou/git/comp90042-project/result/inference/model_03a_bert_base_triplet_margin_2_neg_5_10epochs_dev_claim_evidence_retrieved_seen_only.json\n",
      "running inference for claim-38 n=3443\n"
     ]
    },
    {
     "name": "stderr",
     "output_type": "stream",
     "text": [
      "infer batches: 100%|██████████| 54/54 [00:11<00:00,  4.86it/s]\n"
     ]
    },
    {
     "name": "stdout",
     "output_type": "stream",
     "text": [
      "saved to: /Users/johnsonzhou/git/comp90042-project/result/inference/model_03a_bert_base_triplet_margin_2_neg_5_10epochs_dev_claim_evidence_retrieved_seen_only.json\n",
      "running inference for claim-1643 n=3443\n"
     ]
    },
    {
     "name": "stderr",
     "output_type": "stream",
     "text": [
      "infer batches: 100%|██████████| 54/54 [00:11<00:00,  4.77it/s]\n"
     ]
    },
    {
     "name": "stdout",
     "output_type": "stream",
     "text": [
      "saved to: /Users/johnsonzhou/git/comp90042-project/result/inference/model_03a_bert_base_triplet_margin_2_neg_5_10epochs_dev_claim_evidence_retrieved_seen_only.json\n",
      "running inference for claim-1259 n=3443\n"
     ]
    },
    {
     "name": "stderr",
     "output_type": "stream",
     "text": [
      "infer batches: 100%|██████████| 54/54 [00:14<00:00,  3.69it/s]\n"
     ]
    },
    {
     "name": "stdout",
     "output_type": "stream",
     "text": [
      "saved to: /Users/johnsonzhou/git/comp90042-project/result/inference/model_03a_bert_base_triplet_margin_2_neg_5_10epochs_dev_claim_evidence_retrieved_seen_only.json\n",
      "running inference for claim-1605 n=3443\n"
     ]
    },
    {
     "name": "stderr",
     "output_type": "stream",
     "text": [
      "infer batches: 100%|██████████| 54/54 [00:10<00:00,  5.14it/s]\n"
     ]
    },
    {
     "name": "stdout",
     "output_type": "stream",
     "text": [
      "saved to: /Users/johnsonzhou/git/comp90042-project/result/inference/model_03a_bert_base_triplet_margin_2_neg_5_10epochs_dev_claim_evidence_retrieved_seen_only.json\n",
      "running inference for claim-1711 n=3443\n"
     ]
    },
    {
     "name": "stderr",
     "output_type": "stream",
     "text": [
      "infer batches: 100%|██████████| 54/54 [00:11<00:00,  4.74it/s]\n"
     ]
    },
    {
     "name": "stdout",
     "output_type": "stream",
     "text": [
      "saved to: /Users/johnsonzhou/git/comp90042-project/result/inference/model_03a_bert_base_triplet_margin_2_neg_5_10epochs_dev_claim_evidence_retrieved_seen_only.json\n",
      "running inference for claim-2236 n=3443\n"
     ]
    },
    {
     "name": "stderr",
     "output_type": "stream",
     "text": [
      "infer batches: 100%|██████████| 54/54 [00:11<00:00,  4.88it/s]\n"
     ]
    },
    {
     "name": "stdout",
     "output_type": "stream",
     "text": [
      "saved to: /Users/johnsonzhou/git/comp90042-project/result/inference/model_03a_bert_base_triplet_margin_2_neg_5_10epochs_dev_claim_evidence_retrieved_seen_only.json\n",
      "running inference for claim-1040 n=3443\n"
     ]
    },
    {
     "name": "stderr",
     "output_type": "stream",
     "text": [
      "infer batches: 100%|██████████| 54/54 [00:15<00:00,  3.50it/s]\n"
     ]
    },
    {
     "name": "stdout",
     "output_type": "stream",
     "text": [
      "saved to: /Users/johnsonzhou/git/comp90042-project/result/inference/model_03a_bert_base_triplet_margin_2_neg_5_10epochs_dev_claim_evidence_retrieved_seen_only.json\n",
      "running inference for claim-392 n=3443\n"
     ]
    },
    {
     "name": "stderr",
     "output_type": "stream",
     "text": [
      "infer batches: 100%|██████████| 54/54 [00:11<00:00,  4.88it/s]\n"
     ]
    },
    {
     "name": "stdout",
     "output_type": "stream",
     "text": [
      "saved to: /Users/johnsonzhou/git/comp90042-project/result/inference/model_03a_bert_base_triplet_margin_2_neg_5_10epochs_dev_claim_evidence_retrieved_seen_only.json\n",
      "running inference for claim-368 n=3443\n"
     ]
    },
    {
     "name": "stderr",
     "output_type": "stream",
     "text": [
      "infer batches: 100%|██████████| 54/54 [00:12<00:00,  4.30it/s]\n"
     ]
    },
    {
     "name": "stdout",
     "output_type": "stream",
     "text": [
      "saved to: /Users/johnsonzhou/git/comp90042-project/result/inference/model_03a_bert_base_triplet_margin_2_neg_5_10epochs_dev_claim_evidence_retrieved_seen_only.json\n",
      "running inference for claim-559 n=3443\n"
     ]
    },
    {
     "name": "stderr",
     "output_type": "stream",
     "text": [
      "infer batches: 100%|██████████| 54/54 [00:12<00:00,  4.41it/s]\n"
     ]
    },
    {
     "name": "stdout",
     "output_type": "stream",
     "text": [
      "saved to: /Users/johnsonzhou/git/comp90042-project/result/inference/model_03a_bert_base_triplet_margin_2_neg_5_10epochs_dev_claim_evidence_retrieved_seen_only.json\n",
      "running inference for claim-2583 n=3443\n"
     ]
    },
    {
     "name": "stderr",
     "output_type": "stream",
     "text": [
      "infer batches: 100%|██████████| 54/54 [00:11<00:00,  4.72it/s]\n"
     ]
    },
    {
     "name": "stdout",
     "output_type": "stream",
     "text": [
      "saved to: /Users/johnsonzhou/git/comp90042-project/result/inference/model_03a_bert_base_triplet_margin_2_neg_5_10epochs_dev_claim_evidence_retrieved_seen_only.json\n",
      "running inference for claim-2609 n=3443\n"
     ]
    },
    {
     "name": "stderr",
     "output_type": "stream",
     "text": [
      "infer batches: 100%|██████████| 54/54 [00:11<00:00,  4.85it/s]\n"
     ]
    },
    {
     "name": "stdout",
     "output_type": "stream",
     "text": [
      "saved to: /Users/johnsonzhou/git/comp90042-project/result/inference/model_03a_bert_base_triplet_margin_2_neg_5_10epochs_dev_claim_evidence_retrieved_seen_only.json\n",
      "running inference for claim-492 n=3443\n"
     ]
    },
    {
     "name": "stderr",
     "output_type": "stream",
     "text": [
      "infer batches: 100%|██████████| 54/54 [00:12<00:00,  4.47it/s]\n"
     ]
    },
    {
     "name": "stdout",
     "output_type": "stream",
     "text": [
      "saved to: /Users/johnsonzhou/git/comp90042-project/result/inference/model_03a_bert_base_triplet_margin_2_neg_5_10epochs_dev_claim_evidence_retrieved_seen_only.json\n",
      "running inference for claim-1420 n=3443\n"
     ]
    },
    {
     "name": "stderr",
     "output_type": "stream",
     "text": [
      "infer batches: 100%|██████████| 54/54 [00:12<00:00,  4.33it/s]\n"
     ]
    },
    {
     "name": "stdout",
     "output_type": "stream",
     "text": [
      "saved to: /Users/johnsonzhou/git/comp90042-project/result/inference/model_03a_bert_base_triplet_margin_2_neg_5_10epochs_dev_claim_evidence_retrieved_seen_only.json\n",
      "running inference for claim-1089 n=3443\n"
     ]
    },
    {
     "name": "stderr",
     "output_type": "stream",
     "text": [
      "infer batches: 100%|██████████| 54/54 [00:17<00:00,  3.03it/s]\n"
     ]
    },
    {
     "name": "stdout",
     "output_type": "stream",
     "text": [
      "saved to: /Users/johnsonzhou/git/comp90042-project/result/inference/model_03a_bert_base_triplet_margin_2_neg_5_10epochs_dev_claim_evidence_retrieved_seen_only.json\n",
      "running inference for claim-1467 n=3443\n"
     ]
    },
    {
     "name": "stderr",
     "output_type": "stream",
     "text": [
      "infer batches: 100%|██████████| 54/54 [00:11<00:00,  4.64it/s]\n"
     ]
    },
    {
     "name": "stdout",
     "output_type": "stream",
     "text": [
      "saved to: /Users/johnsonzhou/git/comp90042-project/result/inference/model_03a_bert_base_triplet_margin_2_neg_5_10epochs_dev_claim_evidence_retrieved_seen_only.json\n",
      "running inference for claim-444 n=3443\n"
     ]
    },
    {
     "name": "stderr",
     "output_type": "stream",
     "text": [
      "infer batches: 100%|██████████| 54/54 [00:10<00:00,  5.22it/s]\n"
     ]
    },
    {
     "name": "stdout",
     "output_type": "stream",
     "text": [
      "saved to: /Users/johnsonzhou/git/comp90042-project/result/inference/model_03a_bert_base_triplet_margin_2_neg_5_10epochs_dev_claim_evidence_retrieved_seen_only.json\n",
      "running inference for claim-803 n=3443\n"
     ]
    },
    {
     "name": "stderr",
     "output_type": "stream",
     "text": [
      "infer batches: 100%|██████████| 54/54 [00:13<00:00,  3.87it/s]\n"
     ]
    },
    {
     "name": "stdout",
     "output_type": "stream",
     "text": [
      "saved to: /Users/johnsonzhou/git/comp90042-project/result/inference/model_03a_bert_base_triplet_margin_2_neg_5_10epochs_dev_claim_evidence_retrieved_seen_only.json\n",
      "running inference for claim-1668 n=3443\n"
     ]
    },
    {
     "name": "stderr",
     "output_type": "stream",
     "text": [
      "infer batches: 100%|██████████| 54/54 [00:11<00:00,  4.89it/s]\n"
     ]
    },
    {
     "name": "stdout",
     "output_type": "stream",
     "text": [
      "saved to: /Users/johnsonzhou/git/comp90042-project/result/inference/model_03a_bert_base_triplet_margin_2_neg_5_10epochs_dev_claim_evidence_retrieved_seen_only.json\n",
      "running inference for claim-742 n=3443\n"
     ]
    },
    {
     "name": "stderr",
     "output_type": "stream",
     "text": [
      "infer batches: 100%|██████████| 54/54 [00:11<00:00,  4.67it/s]\n"
     ]
    },
    {
     "name": "stdout",
     "output_type": "stream",
     "text": [
      "saved to: /Users/johnsonzhou/git/comp90042-project/result/inference/model_03a_bert_base_triplet_margin_2_neg_5_10epochs_dev_claim_evidence_retrieved_seen_only.json\n",
      "running inference for claim-846 n=3443\n"
     ]
    },
    {
     "name": "stderr",
     "output_type": "stream",
     "text": [
      "infer batches: 100%|██████████| 54/54 [00:16<00:00,  3.29it/s]\n"
     ]
    },
    {
     "name": "stdout",
     "output_type": "stream",
     "text": [
      "saved to: /Users/johnsonzhou/git/comp90042-project/result/inference/model_03a_bert_base_triplet_margin_2_neg_5_10epochs_dev_claim_evidence_retrieved_seen_only.json\n",
      "running inference for claim-2119 n=3443\n"
     ]
    },
    {
     "name": "stderr",
     "output_type": "stream",
     "text": [
      "infer batches: 100%|██████████| 54/54 [00:10<00:00,  5.00it/s]\n"
     ]
    },
    {
     "name": "stdout",
     "output_type": "stream",
     "text": [
      "saved to: /Users/johnsonzhou/git/comp90042-project/result/inference/model_03a_bert_base_triplet_margin_2_neg_5_10epochs_dev_claim_evidence_retrieved_seen_only.json\n",
      "running inference for claim-1167 n=3443\n"
     ]
    },
    {
     "name": "stderr",
     "output_type": "stream",
     "text": [
      "infer batches: 100%|██████████| 54/54 [00:12<00:00,  4.37it/s]\n"
     ]
    },
    {
     "name": "stdout",
     "output_type": "stream",
     "text": [
      "saved to: /Users/johnsonzhou/git/comp90042-project/result/inference/model_03a_bert_base_triplet_margin_2_neg_5_10epochs_dev_claim_evidence_retrieved_seen_only.json\n",
      "running inference for claim-623 n=3443\n"
     ]
    },
    {
     "name": "stderr",
     "output_type": "stream",
     "text": [
      "infer batches: 100%|██████████| 54/54 [00:11<00:00,  4.77it/s]\n"
     ]
    },
    {
     "name": "stdout",
     "output_type": "stream",
     "text": [
      "saved to: /Users/johnsonzhou/git/comp90042-project/result/inference/model_03a_bert_base_triplet_margin_2_neg_5_10epochs_dev_claim_evidence_retrieved_seen_only.json\n",
      "running inference for claim-2882 n=3443\n"
     ]
    },
    {
     "name": "stderr",
     "output_type": "stream",
     "text": [
      "infer batches: 100%|██████████| 54/54 [00:12<00:00,  4.37it/s]\n"
     ]
    },
    {
     "name": "stdout",
     "output_type": "stream",
     "text": [
      "saved to: /Users/johnsonzhou/git/comp90042-project/result/inference/model_03a_bert_base_triplet_margin_2_neg_5_10epochs_dev_claim_evidence_retrieved_seen_only.json\n",
      "running inference for claim-1698 n=3443\n"
     ]
    },
    {
     "name": "stderr",
     "output_type": "stream",
     "text": [
      "infer batches: 100%|██████████| 54/54 [00:10<00:00,  5.01it/s]\n"
     ]
    },
    {
     "name": "stdout",
     "output_type": "stream",
     "text": [
      "saved to: /Users/johnsonzhou/git/comp90042-project/result/inference/model_03a_bert_base_triplet_margin_2_neg_5_10epochs_dev_claim_evidence_retrieved_seen_only.json\n",
      "running inference for claim-181 n=3443\n"
     ]
    },
    {
     "name": "stderr",
     "output_type": "stream",
     "text": [
      "infer batches: 100%|██████████| 54/54 [00:11<00:00,  4.80it/s]\n"
     ]
    },
    {
     "name": "stdout",
     "output_type": "stream",
     "text": [
      "saved to: /Users/johnsonzhou/git/comp90042-project/result/inference/model_03a_bert_base_triplet_margin_2_neg_5_10epochs_dev_claim_evidence_retrieved_seen_only.json\n",
      "running inference for claim-281 n=3443\n"
     ]
    },
    {
     "name": "stderr",
     "output_type": "stream",
     "text": [
      "infer batches: 100%|██████████| 54/54 [00:12<00:00,  4.45it/s]\n"
     ]
    },
    {
     "name": "stdout",
     "output_type": "stream",
     "text": [
      "saved to: /Users/johnsonzhou/git/comp90042-project/result/inference/model_03a_bert_base_triplet_margin_2_neg_5_10epochs_dev_claim_evidence_retrieved_seen_only.json\n",
      "running inference for claim-2809 n=3443\n"
     ]
    },
    {
     "name": "stderr",
     "output_type": "stream",
     "text": [
      "infer batches: 100%|██████████| 54/54 [00:12<00:00,  4.40it/s]\n"
     ]
    },
    {
     "name": "stdout",
     "output_type": "stream",
     "text": [
      "saved to: /Users/johnsonzhou/git/comp90042-project/result/inference/model_03a_bert_base_triplet_margin_2_neg_5_10epochs_dev_claim_evidence_retrieved_seen_only.json\n",
      "running inference for claim-1928 n=3443\n"
     ]
    },
    {
     "name": "stderr",
     "output_type": "stream",
     "text": [
      "infer batches: 100%|██████████| 54/54 [00:10<00:00,  5.16it/s]\n"
     ]
    },
    {
     "name": "stdout",
     "output_type": "stream",
     "text": [
      "saved to: /Users/johnsonzhou/git/comp90042-project/result/inference/model_03a_bert_base_triplet_margin_2_neg_5_10epochs_dev_claim_evidence_retrieved_seen_only.json\n",
      "running inference for claim-2787 n=3443\n"
     ]
    },
    {
     "name": "stderr",
     "output_type": "stream",
     "text": [
      "infer batches: 100%|██████████| 54/54 [00:12<00:00,  4.46it/s]\n"
     ]
    },
    {
     "name": "stdout",
     "output_type": "stream",
     "text": [
      "saved to: /Users/johnsonzhou/git/comp90042-project/result/inference/model_03a_bert_base_triplet_margin_2_neg_5_10epochs_dev_claim_evidence_retrieved_seen_only.json\n",
      "running inference for claim-478 n=3443\n"
     ]
    },
    {
     "name": "stderr",
     "output_type": "stream",
     "text": [
      "infer batches: 100%|██████████| 54/54 [00:10<00:00,  4.93it/s]\n"
     ]
    },
    {
     "name": "stdout",
     "output_type": "stream",
     "text": [
      "saved to: /Users/johnsonzhou/git/comp90042-project/result/inference/model_03a_bert_base_triplet_margin_2_neg_5_10epochs_dev_claim_evidence_retrieved_seen_only.json\n",
      "running inference for claim-988 n=3443\n"
     ]
    },
    {
     "name": "stderr",
     "output_type": "stream",
     "text": [
      "infer batches: 100%|██████████| 54/54 [00:12<00:00,  4.42it/s]\n"
     ]
    },
    {
     "name": "stdout",
     "output_type": "stream",
     "text": [
      "saved to: /Users/johnsonzhou/git/comp90042-project/result/inference/model_03a_bert_base_triplet_margin_2_neg_5_10epochs_dev_claim_evidence_retrieved_seen_only.json\n",
      "running inference for claim-266 n=3443\n"
     ]
    },
    {
     "name": "stderr",
     "output_type": "stream",
     "text": [
      "infer batches: 100%|██████████| 54/54 [00:10<00:00,  4.93it/s]\n"
     ]
    },
    {
     "name": "stdout",
     "output_type": "stream",
     "text": [
      "saved to: /Users/johnsonzhou/git/comp90042-project/result/inference/model_03a_bert_base_triplet_margin_2_neg_5_10epochs_dev_claim_evidence_retrieved_seen_only.json\n",
      "running inference for claim-2282 n=3443\n"
     ]
    },
    {
     "name": "stderr",
     "output_type": "stream",
     "text": [
      "infer batches: 100%|██████████| 54/54 [00:11<00:00,  4.80it/s]\n"
     ]
    },
    {
     "name": "stdout",
     "output_type": "stream",
     "text": [
      "saved to: /Users/johnsonzhou/git/comp90042-project/result/inference/model_03a_bert_base_triplet_margin_2_neg_5_10epochs_dev_claim_evidence_retrieved_seen_only.json\n",
      "running inference for claim-2895 n=3443\n"
     ]
    },
    {
     "name": "stderr",
     "output_type": "stream",
     "text": [
      "infer batches: 100%|██████████| 54/54 [00:12<00:00,  4.27it/s]\n"
     ]
    },
    {
     "name": "stdout",
     "output_type": "stream",
     "text": [
      "saved to: /Users/johnsonzhou/git/comp90042-project/result/inference/model_03a_bert_base_triplet_margin_2_neg_5_10epochs_dev_claim_evidence_retrieved_seen_only.json\n",
      "running inference for claim-349 n=3443\n"
     ]
    },
    {
     "name": "stderr",
     "output_type": "stream",
     "text": [
      "infer batches: 100%|██████████| 54/54 [00:10<00:00,  4.94it/s]\n"
     ]
    },
    {
     "name": "stdout",
     "output_type": "stream",
     "text": [
      "saved to: /Users/johnsonzhou/git/comp90042-project/result/inference/model_03a_bert_base_triplet_margin_2_neg_5_10epochs_dev_claim_evidence_retrieved_seen_only.json\n",
      "running inference for claim-2101 n=3443\n"
     ]
    },
    {
     "name": "stderr",
     "output_type": "stream",
     "text": [
      "infer batches: 100%|██████████| 54/54 [00:10<00:00,  5.20it/s]\n"
     ]
    },
    {
     "name": "stdout",
     "output_type": "stream",
     "text": [
      "saved to: /Users/johnsonzhou/git/comp90042-project/result/inference/model_03a_bert_base_triplet_margin_2_neg_5_10epochs_dev_claim_evidence_retrieved_seen_only.json\n",
      "running inference for claim-897 n=3443\n"
     ]
    },
    {
     "name": "stderr",
     "output_type": "stream",
     "text": [
      "infer batches: 100%|██████████| 54/54 [00:12<00:00,  4.48it/s]\n"
     ]
    },
    {
     "name": "stdout",
     "output_type": "stream",
     "text": [
      "saved to: /Users/johnsonzhou/git/comp90042-project/result/inference/model_03a_bert_base_triplet_margin_2_neg_5_10epochs_dev_claim_evidence_retrieved_seen_only.json\n",
      "running inference for claim-3063 n=3443\n"
     ]
    },
    {
     "name": "stderr",
     "output_type": "stream",
     "text": [
      "infer batches: 100%|██████████| 54/54 [00:10<00:00,  5.13it/s]\n"
     ]
    },
    {
     "name": "stdout",
     "output_type": "stream",
     "text": [
      "saved to: /Users/johnsonzhou/git/comp90042-project/result/inference/model_03a_bert_base_triplet_margin_2_neg_5_10epochs_dev_claim_evidence_retrieved_seen_only.json\n",
      "running inference for claim-386 n=3443\n"
     ]
    },
    {
     "name": "stderr",
     "output_type": "stream",
     "text": [
      "infer batches: 100%|██████████| 54/54 [00:15<00:00,  3.42it/s]\n"
     ]
    },
    {
     "name": "stdout",
     "output_type": "stream",
     "text": [
      "saved to: /Users/johnsonzhou/git/comp90042-project/result/inference/model_03a_bert_base_triplet_margin_2_neg_5_10epochs_dev_claim_evidence_retrieved_seen_only.json\n",
      "running inference for claim-2691 n=3443\n"
     ]
    },
    {
     "name": "stderr",
     "output_type": "stream",
     "text": [
      "infer batches: 100%|██████████| 54/54 [00:11<00:00,  4.64it/s]\n"
     ]
    },
    {
     "name": "stdout",
     "output_type": "stream",
     "text": [
      "saved to: /Users/johnsonzhou/git/comp90042-project/result/inference/model_03a_bert_base_triplet_margin_2_neg_5_10epochs_dev_claim_evidence_retrieved_seen_only.json\n",
      "running inference for claim-530 n=3443\n"
     ]
    },
    {
     "name": "stderr",
     "output_type": "stream",
     "text": [
      "infer batches: 100%|██████████| 54/54 [00:11<00:00,  4.66it/s]\n"
     ]
    },
    {
     "name": "stdout",
     "output_type": "stream",
     "text": [
      "saved to: /Users/johnsonzhou/git/comp90042-project/result/inference/model_03a_bert_base_triplet_margin_2_neg_5_10epochs_dev_claim_evidence_retrieved_seen_only.json\n",
      "running inference for claim-2979 n=3443\n"
     ]
    },
    {
     "name": "stderr",
     "output_type": "stream",
     "text": [
      "infer batches: 100%|██████████| 54/54 [00:12<00:00,  4.32it/s]\n"
     ]
    },
    {
     "name": "stdout",
     "output_type": "stream",
     "text": [
      "saved to: /Users/johnsonzhou/git/comp90042-project/result/inference/model_03a_bert_base_triplet_margin_2_neg_5_10epochs_dev_claim_evidence_retrieved_seen_only.json\n",
      "running inference for claim-665 n=3443\n"
     ]
    },
    {
     "name": "stderr",
     "output_type": "stream",
     "text": [
      "infer batches: 100%|██████████| 54/54 [00:14<00:00,  3.64it/s]\n"
     ]
    },
    {
     "name": "stdout",
     "output_type": "stream",
     "text": [
      "saved to: /Users/johnsonzhou/git/comp90042-project/result/inference/model_03a_bert_base_triplet_margin_2_neg_5_10epochs_dev_claim_evidence_retrieved_seen_only.json\n",
      "running inference for claim-199 n=3443\n"
     ]
    },
    {
     "name": "stderr",
     "output_type": "stream",
     "text": [
      "infer batches: 100%|██████████| 54/54 [00:10<00:00,  4.94it/s]\n"
     ]
    },
    {
     "name": "stdout",
     "output_type": "stream",
     "text": [
      "saved to: /Users/johnsonzhou/git/comp90042-project/result/inference/model_03a_bert_base_triplet_margin_2_neg_5_10epochs_dev_claim_evidence_retrieved_seen_only.json\n",
      "running inference for claim-490 n=3443\n"
     ]
    },
    {
     "name": "stderr",
     "output_type": "stream",
     "text": [
      "infer batches: 100%|██████████| 54/54 [00:11<00:00,  4.74it/s]\n"
     ]
    },
    {
     "name": "stdout",
     "output_type": "stream",
     "text": [
      "saved to: /Users/johnsonzhou/git/comp90042-project/result/inference/model_03a_bert_base_triplet_margin_2_neg_5_10epochs_dev_claim_evidence_retrieved_seen_only.json\n",
      "running inference for claim-2400 n=3443\n"
     ]
    },
    {
     "name": "stderr",
     "output_type": "stream",
     "text": [
      "infer batches: 100%|██████████| 54/54 [00:13<00:00,  3.98it/s]\n"
     ]
    },
    {
     "name": "stdout",
     "output_type": "stream",
     "text": [
      "saved to: /Users/johnsonzhou/git/comp90042-project/result/inference/model_03a_bert_base_triplet_margin_2_neg_5_10epochs_dev_claim_evidence_retrieved_seen_only.json\n",
      "running inference for claim-204 n=3443\n"
     ]
    },
    {
     "name": "stderr",
     "output_type": "stream",
     "text": [
      "infer batches: 100%|██████████| 54/54 [00:11<00:00,  4.85it/s]\n"
     ]
    },
    {
     "name": "stdout",
     "output_type": "stream",
     "text": [
      "saved to: /Users/johnsonzhou/git/comp90042-project/result/inference/model_03a_bert_base_triplet_margin_2_neg_5_10epochs_dev_claim_evidence_retrieved_seen_only.json\n",
      "running inference for claim-1426 n=3443\n"
     ]
    },
    {
     "name": "stderr",
     "output_type": "stream",
     "text": [
      "infer batches: 100%|██████████| 54/54 [00:11<00:00,  4.75it/s]\n"
     ]
    },
    {
     "name": "stdout",
     "output_type": "stream",
     "text": [
      "saved to: /Users/johnsonzhou/git/comp90042-project/result/inference/model_03a_bert_base_triplet_margin_2_neg_5_10epochs_dev_claim_evidence_retrieved_seen_only.json\n",
      "running inference for claim-698 n=3443\n"
     ]
    },
    {
     "name": "stderr",
     "output_type": "stream",
     "text": [
      "infer batches: 100%|██████████| 54/54 [00:15<00:00,  3.58it/s]\n"
     ]
    },
    {
     "name": "stdout",
     "output_type": "stream",
     "text": [
      "saved to: /Users/johnsonzhou/git/comp90042-project/result/inference/model_03a_bert_base_triplet_margin_2_neg_5_10epochs_dev_claim_evidence_retrieved_seen_only.json\n",
      "running inference for claim-1021 n=3443\n"
     ]
    },
    {
     "name": "stderr",
     "output_type": "stream",
     "text": [
      "infer batches: 100%|██████████| 54/54 [00:12<00:00,  4.16it/s]\n"
     ]
    },
    {
     "name": "stdout",
     "output_type": "stream",
     "text": [
      "saved to: /Users/johnsonzhou/git/comp90042-project/result/inference/model_03a_bert_base_triplet_margin_2_neg_5_10epochs_dev_claim_evidence_retrieved_seen_only.json\n"
     ]
    }
   ],
   "source": [
    "inference_run(\n",
    "    claims_path=DATA_PATH.with_name(\"dev-claims.json\"),\n",
    "    evidence_path=DATA_PATH.with_name(\"evidence.json\"),\n",
    "    train_claims_paths=[\n",
    "        DATA_PATH.with_name(\"dev-claims.json\"),\n",
    "        DATA_PATH.with_name(\"train-claims.json\")\n",
    "    ],\n",
    "    claims_shortlist=NER_PATH.with_name(\"dev_claim_evidence_retrieved.json\"),\n",
    "    # evidence_shortlist=NER_PATH.with_name(\"shortlist_dev_claim_evidence_retrieved.json\"),\n",
    "    save_path=OUTPUT_PATH.with_name(\"model_03a_bert_base_triplet_margin_2_neg_5_10epochs_dev_claim_evidence_retrieved_seen_only.json\")\n",
    ")"
   ]
  },
  {
   "attachments": {},
   "cell_type": "markdown",
   "metadata": {},
   "source": [
    "## Test inference"
   ]
  },
  {
   "cell_type": "code",
   "execution_count": 14,
   "metadata": {},
   "outputs": [
    {
     "name": "stdout",
     "output_type": "stream",
     "text": [
      "loaded inference claims n=153\n"
     ]
    },
    {
     "ename": "TypeError",
     "evalue": "'NoneType' object is not iterable",
     "output_type": "error",
     "traceback": [
      "\u001b[0;31m---------------------------------------------------------------------------\u001b[0m",
      "\u001b[0;31mTypeError\u001b[0m                                 Traceback (most recent call last)",
      "Cell \u001b[0;32mIn[14], line 1\u001b[0m\n\u001b[0;32m----> 1\u001b[0m inference_run(\n\u001b[1;32m      2\u001b[0m     claims_path\u001b[39m=\u001b[39;49mDATA_PATH\u001b[39m.\u001b[39;49mwith_name(\u001b[39m\"\u001b[39;49m\u001b[39mtest-claims-unlabelled.json\u001b[39;49m\u001b[39m\"\u001b[39;49m),\n\u001b[1;32m      3\u001b[0m     evidence_path\u001b[39m=\u001b[39;49mDATA_PATH\u001b[39m.\u001b[39;49mwith_name(\u001b[39m\"\u001b[39;49m\u001b[39mevidence.json\u001b[39;49m\u001b[39m\"\u001b[39;49m),\n\u001b[1;32m      4\u001b[0m     \u001b[39m# claims_shortlist=NER_PATH.with_name(\"test_claim_evidence_retrieved.json\"),\u001b[39;49;00m\n\u001b[1;32m      5\u001b[0m     evidence_shortlist\u001b[39m=\u001b[39;49mNER_PATH\u001b[39m.\u001b[39;49mwith_name(\u001b[39m\"\u001b[39;49m\u001b[39mshortlist_test_claim_evidence_retrieved.json\u001b[39;49m\u001b[39m\"\u001b[39;49m),\n\u001b[1;32m      6\u001b[0m     save_path\u001b[39m=\u001b[39;49mOUTPUT_PATH\u001b[39m.\u001b[39;49mwith_name(\u001b[39m\"\u001b[39;49m\u001b[39mmodel_03_run_01_test_claim_evidence_retrieved.json\u001b[39;49m\u001b[39m\"\u001b[39;49m)\n\u001b[1;32m      7\u001b[0m )\n",
      "Cell \u001b[0;32mIn[12], line 36\u001b[0m, in \u001b[0;36minference_run\u001b[0;34m(claims_path, evidence_path, train_claims_paths, claims_shortlist, evidence_shortlist, save_path, batch_size)\u001b[0m\n\u001b[1;32m     30\u001b[0m claim_predictions[claim_id] \u001b[39m=\u001b[39m {\n\u001b[1;32m     31\u001b[0m     \u001b[39m\"\u001b[39m\u001b[39mclaim_text\u001b[39m\u001b[39m\"\u001b[39m: claim_text,\n\u001b[1;32m     32\u001b[0m     \u001b[39m\"\u001b[39m\u001b[39mevidences\u001b[39m\u001b[39m\"\u001b[39m: []\n\u001b[1;32m     33\u001b[0m }\n\u001b[1;32m     35\u001b[0m \u001b[39m# Generate claims-evidence inference interations\u001b[39;00m\n\u001b[0;32m---> 36\u001b[0m infer_data \u001b[39m=\u001b[39m SeenOnlyDataset(\n\u001b[1;32m     37\u001b[0m     claim_id\u001b[39m=\u001b[39;49mclaim_id,\n\u001b[1;32m     38\u001b[0m     claims_path\u001b[39m=\u001b[39;49mclaims_path,\n\u001b[1;32m     39\u001b[0m     train_claims_paths\u001b[39m=\u001b[39;49mtrain_claims_paths,\n\u001b[1;32m     40\u001b[0m     evidence_path\u001b[39m=\u001b[39;49mevidence_path,\n\u001b[1;32m     41\u001b[0m )\n\u001b[1;32m     42\u001b[0m \u001b[39m# infer_data = SiameseDatasetInference(\u001b[39;00m\n\u001b[1;32m     43\u001b[0m \u001b[39m#     claim_id=claim_id,\u001b[39;00m\n\u001b[1;32m     44\u001b[0m \u001b[39m#     claims_path=claims_path,\u001b[39;00m\n\u001b[0;32m   (...)\u001b[0m\n\u001b[1;32m     47\u001b[0m \u001b[39m#     evidence_shortlist=evidence_shortlist,\u001b[39;00m\n\u001b[1;32m     48\u001b[0m \u001b[39m# )\u001b[39;00m\n\u001b[1;32m     49\u001b[0m infer_dataloader \u001b[39m=\u001b[39m DataLoader(\n\u001b[1;32m     50\u001b[0m     dataset\u001b[39m=\u001b[39minfer_data,\n\u001b[1;32m     51\u001b[0m     shuffle\u001b[39m=\u001b[39m\u001b[39mFalse\u001b[39;00m,\n\u001b[1;32m     52\u001b[0m     batch_size\u001b[39m=\u001b[39mbatch_size\n\u001b[1;32m     53\u001b[0m )\n",
      "Cell \u001b[0;32mIn[6], line 26\u001b[0m, in \u001b[0;36mSeenOnlyDataset.__init__\u001b[0;34m(self, claim_id, claims_path, train_claims_paths, evidence_path, verbose)\u001b[0m\n\u001b[1;32m     24\u001b[0m \u001b[39m# Load training claims\u001b[39;00m\n\u001b[1;32m     25\u001b[0m train_claims \u001b[39m=\u001b[39m \u001b[39mdict\u001b[39m()\n\u001b[0;32m---> 26\u001b[0m \u001b[39mfor\u001b[39;00m path \u001b[39min\u001b[39;00m train_claims_paths:\n\u001b[1;32m     27\u001b[0m     \u001b[39mwith\u001b[39;00m \u001b[39mopen\u001b[39m(path, mode\u001b[39m=\u001b[39m\u001b[39m\"\u001b[39m\u001b[39mr\u001b[39m\u001b[39m\"\u001b[39m) \u001b[39mas\u001b[39;00m f:\n\u001b[1;32m     28\u001b[0m         train_claims\u001b[39m.\u001b[39mupdate(json\u001b[39m.\u001b[39mload(f))\n",
      "\u001b[0;31mTypeError\u001b[0m: 'NoneType' object is not iterable"
     ]
    }
   ],
   "source": [
    "inference_run(\n",
    "    claims_path=DATA_PATH.with_name(\"test-claims-unlabelled.json\"),\n",
    "    evidence_path=DATA_PATH.with_name(\"evidence.json\"),\n",
    "    # claims_shortlist=NER_PATH.with_name(\"test_claim_evidence_retrieved.json\"),\n",
    "    evidence_shortlist=NER_PATH.with_name(\"shortlist_test_claim_evidence_retrieved.json\"),\n",
    "    save_path=OUTPUT_PATH.with_name(\"model_03_run_01_test_claim_evidence_retrieved.json\")\n",
    ")"
   ]
  },
  {
   "cell_type": "markdown",
   "metadata": {},
   "source": []
  }
 ],
 "metadata": {
  "kernelspec": {
   "display_name": "comp90042_project",
   "language": "python",
   "name": "python3"
  },
  "language_info": {
   "codemirror_mode": {
    "name": "ipython",
    "version": 3
   },
   "file_extension": ".py",
   "mimetype": "text/x-python",
   "name": "python",
   "nbconvert_exporter": "python",
   "pygments_lexer": "ipython3",
   "version": "3.8.16"
  },
  "orig_nbformat": 4
 },
 "nbformat": 4,
 "nbformat_minor": 2
}
