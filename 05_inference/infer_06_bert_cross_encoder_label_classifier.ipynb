{
 "cells": [
  {
   "attachments": {},
   "cell_type": "markdown",
   "metadata": {},
   "source": [
    "# Model 06 inference\n",
    "\n",
    "**This is the final implementation for the label classification stage**\n",
    "\n",
    "Use a model trained with [Model 06](../04_model/model_06_bert_cross_encoder_classification.ipynb) and use it to create predictions on claim labels based on evidence retrievals created by [Infer 05](./infer_05_bert_cross_encoder_retrieval_classifier.ipynb).\n",
    "\n",
    "Prerequisites:\n",
    "1. Shortlist for `train` and `dev` created using [Model 02c](./model_02c_fast_shortlisting.ipynb).\n",
    "2. Train retrieval model using [Model 05](./model_05_bert_cross_encoder_retrieval_classifier.ipynb).\n",
    "3. Create retrieval predictions using [Infer 05](../05_inference/infer_05_bert_cross_encoder_retrieval_classifier.ipynb).\n",
    "4. Train label prediction model using [Model 06](../04_model/model_06_bert_cross_encoder_classification.ipynb)."
   ]
  },
  {
   "attachments": {},
   "cell_type": "markdown",
   "metadata": {},
   "source": [
    "## Setup"
   ]
  },
  {
   "attachments": {},
   "cell_type": "markdown",
   "metadata": {},
   "source": [
    "### Working directory"
   ]
  },
  {
   "cell_type": "code",
   "execution_count": null,
   "metadata": {},
   "outputs": [],
   "source": [
    "# Change the working directory to project root\n",
    "from pathlib import Path\n",
    "import os\n",
    "ROOT_DIR = Path.cwd()\n",
    "while not ROOT_DIR.joinpath(\"src\").exists():\n",
    "    ROOT_DIR = ROOT_DIR.parent\n",
    "os.chdir(ROOT_DIR)"
   ]
  },
  {
   "attachments": {},
   "cell_type": "markdown",
   "metadata": {},
   "source": [
    "### Dependencies"
   ]
  },
  {
   "cell_type": "code",
   "execution_count": null,
   "metadata": {},
   "outputs": [],
   "source": [
    "# Imports and dependencies\n",
    "import torch\n",
    "from torch.utils.data import DataLoader\n",
    "from torch.nn import CrossEntropyLoss\n",
    "from torch.optim import AdamW\n",
    "from torch.optim.lr_scheduler import LinearLR\n",
    "from torcheval.metrics import BinaryAccuracy, BinaryF1Score\n",
    "\n",
    "from src.torch_utils import get_torch_device\n",
    "import json\n",
    "from dataclasses import dataclass\n",
    "from typing import List, Union, Tuple, Dict\n",
    "from tqdm import tqdm\n",
    "import random\n",
    "import numpy as np\n",
    "from datetime import datetime\n",
    "from sklearn.model_selection import ParameterGrid\n",
    "\n",
    "from src.model_05 import BertCrossEncoderClassifier, RobertaLargeCrossEncoderClassifier\n",
    "from src.data import RetrievalWithShortlistDataset, RetrievalDevEvalDataset, \\\n",
    "    InferenceClaims, RetrievedInferenceClaims, LabelClassificationDataset\n",
    "from src.logger import SimpleLogger\n",
    "\n",
    "TORCH_DEVICE = get_torch_device()"
   ]
  },
  {
   "attachments": {},
   "cell_type": "markdown",
   "metadata": {},
   "source": [
    "### File paths"
   ]
  },
  {
   "cell_type": "code",
   "execution_count": null,
   "metadata": {},
   "outputs": [],
   "source": [
    "MODEL_PATH = ROOT_DIR.joinpath(\"./result/*\")\n",
    "DATA_PATH = ROOT_DIR.joinpath(\"./data/*\")\n",
    "LOG_PATH = ROOT_DIR.joinpath(\"./result/*\")\n",
    "RETRIEVAL_PATH = ROOT_DIR.joinpath(\"./result/*\")\n",
    "OUTPUT_PATH = ROOT_DIR.joinpath(\"./result/*\")\n",
    "\n",
    "run_time = datetime.now().strftime('%Y_%m_%d_%H_%M')"
   ]
  },
  {
   "attachments": {},
   "cell_type": "markdown",
   "metadata": {},
   "source": [
    "## Load model"
   ]
  },
  {
   "attachments": {},
   "cell_type": "markdown",
   "metadata": {},
   "source": [
    "Use a blank pre-trained"
   ]
  },
  {
   "cell_type": "code",
   "execution_count": null,
   "metadata": {},
   "outputs": [],
   "source": [
    "# model = BertCrossEncoderClassifier(\n",
    "#     pretrained_name=\"bert-base-uncased\",\n",
    "#     n_classes=3,\n",
    "#     device=TORCH_DEVICE\n",
    "# )"
   ]
  },
  {
   "attachments": {},
   "cell_type": "markdown",
   "metadata": {},
   "source": [
    "Or load fine-tuned"
   ]
  },
  {
   "cell_type": "code",
   "execution_count": null,
   "metadata": {},
   "outputs": [],
   "source": [
    "MODEL_SAVE_PATH = MODEL_PATH.with_name(\"model_06_bert_base_uncased_cross_encoder_label_2023_05_09_19_01.pth\")\n",
    "# MODEL_SAVE_PATH = MODEL_PATH.with_name(\"model_06a_roberta_mnli_cross_encoder_label_2023_05_11_17_47.pth\")\n",
    "# MODEL_SAVE_PATH = MODEL_PATH.with_name(\"model_06a_roberta_mnli_cross_encoder_label_2023_05_12_11_36.pth\")\n",
    "# MODEL_SAVE_PATH = MODEL_PATH.with_name(\"model_05_bert_cross_encoder_retrieval_2023_05_12_15_08.pth\")\n",
    "with open(MODEL_SAVE_PATH, mode=\"rb\") as f:\n",
    "    model = torch.load(f, map_location=TORCH_DEVICE)"
   ]
  },
  {
   "attachments": {},
   "cell_type": "markdown",
   "metadata": {},
   "source": [
    "## Inference run code"
   ]
  },
  {
   "cell_type": "code",
   "execution_count": null,
   "metadata": {},
   "outputs": [],
   "source": [
    "def inference_run(\n",
    "    claims_retrieval_path:Path,\n",
    "    evidence_path:Path,\n",
    "    save_path:Path = None,\n",
    "    batch_size:int = 64\n",
    "):\n",
    "    # Label map\n",
    "    LABEL_MAP = {\n",
    "        0: \"REFUTES\",\n",
    "        1: \"NOT_ENOUGH_INFO\",\n",
    "        2: \"SUPPORTS\",\n",
    "        3: \"DISPUTED\"\n",
    "    }\n",
    "    \n",
    "    # Generate claims iterations\n",
    "    inference_claims = RetrievedInferenceClaims(claims_path=claims_retrieval_path)\n",
    "    \n",
    "    # Cumulator\n",
    "    with open(claims_retrieval_path, mode=\"r\") as f:\n",
    "        claim_predictions = json.load(f)\n",
    "    \n",
    "    for claim_id, claim_text, evidence_ids in tqdm(inference_claims, desc=\"claims\"):\n",
    "        \n",
    "        # Generate claims-evidence inference interations\n",
    "        infer_data = LabelClassificationDataset(\n",
    "            claim_id=claim_id,\n",
    "            claims_paths=[claims_retrieval_path],\n",
    "            evidence_path=evidence_path,\n",
    "            training=False,\n",
    "            verbose=False\n",
    "        )\n",
    "        infer_dataloader = DataLoader(\n",
    "            dataset=infer_data,\n",
    "            shuffle=False,\n",
    "            batch_size=batch_size\n",
    "        )\n",
    "        \n",
    "        print(f\"running inference for {claim_id} n={len(infer_data)}\")\n",
    "    \n",
    "        # Set model mode to evaluation\n",
    "        model.eval()\n",
    "        \n",
    "        for batch in infer_dataloader:\n",
    "            claim_texts, evidence_texts, labels, batch_claim_ids, batch_evidence_ids = batch\n",
    "            texts = list(zip(claim_texts, evidence_texts))\n",
    "            \n",
    "            # Forward\n",
    "            output, logits, seq = model(\n",
    "                texts=texts,\n",
    "                normalize_text=True,\n",
    "                max_length=512,\n",
    "                dropout=None\n",
    "            )\n",
    "            \n",
    "            # Prediction\n",
    "            predicted = torch.argmax(output, dim=1).cpu()\n",
    "            \n",
    "            # Apply label prediction rules, default is NEI\n",
    "            if 2 in predicted and 0 in predicted:\n",
    "                predicted_class = LABEL_MAP.get(3) # DISPUTED\n",
    "            \n",
    "            elif 2 in predicted:\n",
    "                predicted_class = LABEL_MAP.get(2) # SUPPORTS\n",
    "                \n",
    "            elif 0 in predicted:\n",
    "                predicted_class = LABEL_MAP.get(0) # REFUTES\n",
    "            else:\n",
    "                predicted_class = LABEL_MAP.get(1) # NOT_ENOUGH_INFO\n",
    "                \n",
    "\n",
    "            claim_predictions[claim_id][\"claim_label\"] = predicted_class\n",
    "            print(f\"class={predicted_class}, labels={predicted}\")\n",
    "            continue\n",
    "    \n",
    "        continue\n",
    "    \n",
    "    with open(save_path, mode=\"w\") as f:\n",
    "        json.dump(obj=claim_predictions, fp=f)\n",
    "        print(f\"saved to: {save_path}\")\n",
    "        \n",
    "    return"
   ]
  },
  {
   "attachments": {},
   "cell_type": "markdown",
   "metadata": {},
   "source": [
    "## Dev inference"
   ]
  },
  {
   "cell_type": "code",
   "execution_count": null,
   "metadata": {},
   "outputs": [],
   "source": [
    "inference_run(\n",
    "    claims_retrieval_path=RETRIEVAL_PATH.with_name(\"model_05_bert_cross_encoder_retrieval_2023_05_11_08_52_test_shortlist_max_1000.json\"),\n",
    "    evidence_path=DATA_PATH.with_name(\"evidence.json\"),\n",
    "    save_path=OUTPUT_PATH.with_name(\"test-claims-predictions.json\"),\n",
    "    batch_size=16\n",
    ")"
   ]
  }
 ],
 "metadata": {
  "kernelspec": {
   "display_name": "comp90042_project",
   "language": "python",
   "name": "python3"
  },
  "language_info": {
   "codemirror_mode": {
    "name": "ipython",
    "version": 3
   },
   "file_extension": ".py",
   "mimetype": "text/x-python",
   "name": "python",
   "nbconvert_exporter": "python",
   "pygments_lexer": "ipython3",
   "version": "3.8.16"
  },
  "orig_nbformat": 4
 },
 "nbformat": 4,
 "nbformat_minor": 2
}
