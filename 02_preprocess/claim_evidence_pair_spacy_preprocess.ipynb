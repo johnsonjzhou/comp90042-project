{
 "cells": [
  {
   "attachments": {},
   "cell_type": "markdown",
   "metadata": {},
   "source": [
    "# Preprocessing of claim-sample pairs using a spaCy pipeline.\n",
    "\n",
    "Ref: \n",
    "- [spaCy linguistic features](https://spacy.io/usage/linguistic-features)\n",
    "- [spaCy processing pipelines](https://spacy.io/usage/processing-pipelines)\n",
    "- [spaCy custom components](https://spacy.io/usage/processing-pipelines#custom-components)"
   ]
  },
  {
   "cell_type": "code",
   "execution_count": 1,
   "metadata": {},
   "outputs": [],
   "source": [
    "# Change the working directory to project root\n",
    "import pathlib\n",
    "import os\n",
    "ROOT_DIR = pathlib.Path.cwd()\n",
    "while not ROOT_DIR.joinpath(\"src\").exists():\n",
    "    ROOT_DIR = ROOT_DIR.parent\n",
    "os.chdir(ROOT_DIR)"
   ]
  },
  {
   "cell_type": "code",
   "execution_count": 2,
   "metadata": {},
   "outputs": [
    {
     "name": "stdout",
     "output_type": "stream",
     "text": [
      "Torch device is 'mps'\n"
     ]
    },
    {
     "name": "stderr",
     "output_type": "stream",
     "text": [
      "/opt/homebrew/Caskroom/miniconda/base/envs/comp90042_project/lib/python3.8/site-packages/tqdm/auto.py:21: TqdmWarning: IProgress not found. Please update jupyter and ipywidgets. See https://ipywidgets.readthedocs.io/en/stable/user_install.html\n",
      "  from .autonotebook import tqdm as notebook_tqdm\n"
     ]
    }
   ],
   "source": [
    "# Imports and dependencies\n",
    "import pandas as pd\n",
    "import numpy as np\n",
    "import spacy\n",
    "import torch\n",
    "from sentence_transformers import SentenceTransformer, util\n",
    "from src.torch_utils import get_torch_device\n",
    "from src.spacy_utils import repl_special_token, process_sentence\n",
    "from typing import Callable, Tuple\n",
    "import copy\n",
    "import re\n",
    "\n",
    "random_seed = 42\n",
    "np.random.seed(random_seed)\n",
    "torch_device = get_torch_device()\n",
    "pd.set_option(\"display.max_colwidth\", 0)"
   ]
  },
  {
   "attachments": {},
   "cell_type": "markdown",
   "metadata": {},
   "source": [
    "## Select models"
   ]
  },
  {
   "cell_type": "code",
   "execution_count": 3,
   "metadata": {},
   "outputs": [
    {
     "data": {
      "text/plain": [
       "<spacy.lang.en.English at 0x103719c40>"
      ]
     },
     "execution_count": 3,
     "metadata": {},
     "output_type": "execute_result"
    }
   ],
   "source": [
    "nlp = spacy.load(\"en_core_web_trf\")\n",
    "nlp"
   ]
  },
  {
   "cell_type": "code",
   "execution_count": 4,
   "metadata": {},
   "outputs": [
    {
     "data": {
      "text/plain": [
       "SentenceTransformer(\n",
       "  (0): Transformer({'max_seq_length': 512, 'do_lower_case': False}) with Transformer model: BertModel \n",
       "  (1): Pooling({'word_embedding_dimension': 768, 'pooling_mode_cls_token': False, 'pooling_mode_mean_tokens': True, 'pooling_mode_max_tokens': False, 'pooling_mode_mean_sqrt_len_tokens': False})\n",
       ")"
      ]
     },
     "execution_count": 4,
     "metadata": {},
     "output_type": "execute_result"
    }
   ],
   "source": [
    "embedder = SentenceTransformer(\n",
    "    \"sentence-transformers/msmarco-bert-base-dot-v5\",\n",
    "    device=torch_device\n",
    ")\n",
    "embedder"
   ]
  },
  {
   "attachments": {},
   "cell_type": "markdown",
   "metadata": {},
   "source": [
    "## Load pair samples\n",
    "\n",
    "Data need to shape $(n, 5)$ with columns:\n",
    "- `claim`: claim id\n",
    "- `claim_text`: claim text string\n",
    "- `evidence`: evidence id\n",
    "- `evidence_text`: evidence text string\n",
    "- `related`: relation labels as `1/0`"
   ]
  },
  {
   "cell_type": "code",
   "execution_count": 5,
   "metadata": {},
   "outputs": [
    {
     "name": "stdout",
     "output_type": "stream",
     "text": [
      "(12366, 3)\n"
     ]
    },
    {
     "data": {
      "text/html": [
       "<div>\n",
       "<style scoped>\n",
       "    .dataframe tbody tr th:only-of-type {\n",
       "        vertical-align: middle;\n",
       "    }\n",
       "\n",
       "    .dataframe tbody tr th {\n",
       "        vertical-align: top;\n",
       "    }\n",
       "\n",
       "    .dataframe thead th {\n",
       "        text-align: right;\n",
       "    }\n",
       "</style>\n",
       "<table border=\"1\" class=\"dataframe\">\n",
       "  <thead>\n",
       "    <tr style=\"text-align: right;\">\n",
       "      <th></th>\n",
       "      <th></th>\n",
       "      <th>claim_text</th>\n",
       "      <th>evidence_text</th>\n",
       "      <th>related</th>\n",
       "    </tr>\n",
       "    <tr>\n",
       "      <th>claim</th>\n",
       "      <th>evidence</th>\n",
       "      <th></th>\n",
       "      <th></th>\n",
       "      <th></th>\n",
       "    </tr>\n",
       "  </thead>\n",
       "  <tbody>\n",
       "    <tr>\n",
       "      <th rowspan=\"3\" valign=\"top\">claim-1937</th>\n",
       "      <th>evidence-442946</th>\n",
       "      <td>Not only is there no scientific evidence that CO2 is a pollutant, higher CO2 concentrations actually help ecosystems support more plant and animal life.</td>\n",
       "      <td>At very high concentrations (100 times atmospheric concentration, or greater), carbon dioxide can be toxic to animal life, so raising the concentration to 10,000 ppm (1%) or higher for several hours will eliminate pests such as whiteflies and spider mites in a greenhouse.</td>\n",
       "      <td>1</td>\n",
       "    </tr>\n",
       "    <tr>\n",
       "      <th>evidence-1194317</th>\n",
       "      <td>Not only is there no scientific evidence that CO2 is a pollutant, higher CO2 concentrations actually help ecosystems support more plant and animal life.</td>\n",
       "      <td>Plants can grow as much as 50 percent faster in concentrations of 1,000 ppm CO 2 when compared with ambient conditions, though this assumes no change in climate and no limitation on other nutrients.</td>\n",
       "      <td>1</td>\n",
       "    </tr>\n",
       "    <tr>\n",
       "      <th>evidence-12171</th>\n",
       "      <td>Not only is there no scientific evidence that CO2 is a pollutant, higher CO2 concentrations actually help ecosystems support more plant and animal life.</td>\n",
       "      <td>Higher carbon dioxide concentrations will favourably affect plant growth and demand for water.</td>\n",
       "      <td>1</td>\n",
       "    </tr>\n",
       "    <tr>\n",
       "      <th rowspan=\"2\" valign=\"top\">claim-126</th>\n",
       "      <th>evidence-338219</th>\n",
       "      <td>El Niño drove record highs in global temperatures suggesting rise may not be down to man-made emissions.</td>\n",
       "      <td>While ‘climate change’ can be due to natural forces or human activity, there is now substantial evidence to indicate that human activity – and specifically increased greenhouse gas (GHGs) emissions – is a key factor in the pace and extent of global temperature increases.</td>\n",
       "      <td>1</td>\n",
       "    </tr>\n",
       "    <tr>\n",
       "      <th>evidence-1127398</th>\n",
       "      <td>El Niño drove record highs in global temperatures suggesting rise may not be down to man-made emissions.</td>\n",
       "      <td>This acceleration is due mostly to human-caused global warming, which is driving thermal expansion of seawater and the melting of land-based ice sheets and glaciers.</td>\n",
       "      <td>1</td>\n",
       "    </tr>\n",
       "    <tr>\n",
       "      <th rowspan=\"2\" valign=\"top\">claim-2510</th>\n",
       "      <th>evidence-530063</th>\n",
       "      <td>In 1946, PDO switched to a cool phase.</td>\n",
       "      <td>There is evidence of reversals in the prevailing polarity (meaning changes in cool surface waters versus warm surface waters within the region) of the oscillation occurring around 1925, 1947, and 1977; the last two reversals corresponded with dramatic shifts in salmon production regimes in the North Pacific Ocean.</td>\n",
       "      <td>1</td>\n",
       "    </tr>\n",
       "    <tr>\n",
       "      <th>evidence-984887</th>\n",
       "      <td>In 1946, PDO switched to a cool phase.</td>\n",
       "      <td>1945/1946: The PDO changed to a \"cool\" phase, the pattern of this regime shift is similar to the 1970s episode with maximum amplitude in the subarctic and subtropical front but with a greater signature near the Japan while the 1970s shift was stronger near the American west coast.</td>\n",
       "      <td>1</td>\n",
       "    </tr>\n",
       "    <tr>\n",
       "      <th rowspan=\"5\" valign=\"top\">claim-2021</th>\n",
       "      <th>evidence-1177431</th>\n",
       "      <td>Weather Channel co-founder John Coleman provided evidence that convincingly refutes the concept of anthropogenic global warming.</td>\n",
       "      <td>There is no convincing scientific evidence that human release of carbon dioxide, methane, or other greenhouse gases is causing or will, in the foreseeable future, cause catastrophic heating of the Earth's atmosphere and disruption of the Earth's climate.</td>\n",
       "      <td>1</td>\n",
       "    </tr>\n",
       "    <tr>\n",
       "      <th>evidence-782448</th>\n",
       "      <td>Weather Channel co-founder John Coleman provided evidence that convincingly refutes the concept of anthropogenic global warming.</td>\n",
       "      <td>He has called global warming the \"greatest scam in history\" and made numerous false or misleading claims about climate science.</td>\n",
       "      <td>1</td>\n",
       "    </tr>\n",
       "    <tr>\n",
       "      <th>evidence-540069</th>\n",
       "      <td>Weather Channel co-founder John Coleman provided evidence that convincingly refutes the concept of anthropogenic global warming.</td>\n",
       "      <td>International Council of Academies of Engineering and Technological Sciences (CAETS) in 2007, issued a Statement on Environment and Sustainable Growth: As reported by the Intergovernmental Panel on Climate Change (IPCC), most of the observed global warming since the mid-20th century is very likely due to human-produced emission of greenhouse gases and this warming will continue unabated if present anthropogenic emissions continue or, worse, expand without control.</td>\n",
       "      <td>1</td>\n",
       "    </tr>\n",
       "    <tr>\n",
       "      <th>evidence-352655</th>\n",
       "      <td>Weather Channel co-founder John Coleman provided evidence that convincingly refutes the concept of anthropogenic global warming.</td>\n",
       "      <td>\"Climate Scientists Virtually Unanimous Anthropogenic Global Warming Is True\".</td>\n",
       "      <td>1</td>\n",
       "    </tr>\n",
       "    <tr>\n",
       "      <th>evidence-1007867</th>\n",
       "      <td>Weather Channel co-founder John Coleman provided evidence that convincingly refutes the concept of anthropogenic global warming.</td>\n",
       "      <td>Scientists Reach 100% Consensus on Anthropogenic Global Warming.</td>\n",
       "      <td>1</td>\n",
       "    </tr>\n",
       "    <tr>\n",
       "      <th rowspan=\"5\" valign=\"top\">claim-2449</th>\n",
       "      <th>evidence-1010750</th>\n",
       "      <td>\"January 2008 capped a 12 month period of global temperature drops on all of the major well respected indicators.</td>\n",
       "      <td>With average temperature +8.1 °C (47 °F).</td>\n",
       "      <td>1</td>\n",
       "    </tr>\n",
       "    <tr>\n",
       "      <th>evidence-91661</th>\n",
       "      <td>\"January 2008 capped a 12 month period of global temperature drops on all of the major well respected indicators.</td>\n",
       "      <td>The Iranian / Persian calendar, currently used in Iran and Afghanistan, also has 12 months.</td>\n",
       "      <td>1</td>\n",
       "    </tr>\n",
       "    <tr>\n",
       "      <th>evidence-722725</th>\n",
       "      <td>\"January 2008 capped a 12 month period of global temperature drops on all of the major well respected indicators.</td>\n",
       "      <td>All of these events can have wide variations of more than a month from year to year.</td>\n",
       "      <td>1</td>\n",
       "    </tr>\n",
       "    <tr>\n",
       "      <th>evidence-554161</th>\n",
       "      <td>\"January 2008 capped a 12 month period of global temperature drops on all of the major well respected indicators.</td>\n",
       "      <td>Its average duration is 365.256363004 days (365 d 6 h 9 min 9.76 s) (at the epoch J2000.0 = January 1, 2000, 12:00:00 TT).</td>\n",
       "      <td>1</td>\n",
       "    </tr>\n",
       "    <tr>\n",
       "      <th>evidence-430839</th>\n",
       "      <td>\"January 2008 capped a 12 month period of global temperature drops on all of the major well respected indicators.</td>\n",
       "      <td>It has a duration of approximately 354.37 days.</td>\n",
       "      <td>1</td>\n",
       "    </tr>\n",
       "    <tr>\n",
       "      <th rowspan=\"5\" valign=\"top\">claim-851</th>\n",
       "      <th>evidence-226174</th>\n",
       "      <td>The last time the planet was even four degrees warmer, Peter Brannen points out in The Ends of the World, his new history of the planet’s major extinction events, the oceans were hundreds of feet higher.</td>\n",
       "      <td>Sea levels were high worldwide, and much of the land lay under shallow seas, where tropical reef organisms lived.</td>\n",
       "      <td>1</td>\n",
       "    </tr>\n",
       "    <tr>\n",
       "      <th>evidence-1049316</th>\n",
       "      <td>The last time the planet was even four degrees warmer, Peter Brannen points out in The Ends of the World, his new history of the planet’s major extinction events, the oceans were hundreds of feet higher.</td>\n",
       "      <td>The elevation of the land surface varies from the low point of −418 m (−1,371 ft) at the Dead Sea, to a maximum altitude of 8,848 m (29,029 ft) at the top of Mount Everest.</td>\n",
       "      <td>1</td>\n",
       "    </tr>\n",
       "    <tr>\n",
       "      <th>evidence-358301</th>\n",
       "      <td>The last time the planet was even four degrees warmer, Peter Brannen points out in The Ends of the World, his new history of the planet’s major extinction events, the oceans were hundreds of feet higher.</td>\n",
       "      <td>As a result, the mean annual air temperature at sea level decreases by about 0.4 °C (0.7 °F) per degree of latitude from the equator.</td>\n",
       "      <td>1</td>\n",
       "    </tr>\n",
       "    <tr>\n",
       "      <th>evidence-493329</th>\n",
       "      <td>The last time the planet was even four degrees warmer, Peter Brannen points out in The Ends of the World, his new history of the planet’s major extinction events, the oceans were hundreds of feet higher.</td>\n",
       "      <td>In the early and middle Ordovician, temperatures were mild, but at the beginning of the Late Ordovician, from 460 to 450 Ma, volcanoes along the margin of the Iapetus Ocean spewed massive amounts of carbon dioxide, a greenhouse gas, into the atmosphere, turning the planet into a hothouse.</td>\n",
       "      <td>1</td>\n",
       "    </tr>\n",
       "    <tr>\n",
       "      <th>evidence-610497</th>\n",
       "      <td>The last time the planet was even four degrees warmer, Peter Brannen points out in The Ends of the World, his new history of the planet’s major extinction events, the oceans were hundreds of feet higher.</td>\n",
       "      <td>The Ordovician saw the highest sea levels of the Paleozoic, and the low relief of the continents led to many shelf deposits being formed under hundreds of metres of water.</td>\n",
       "      <td>1</td>\n",
       "    </tr>\n",
       "    <tr>\n",
       "      <th rowspan=\"2\" valign=\"top\">claim-2773</th>\n",
       "      <th>evidence-974673</th>\n",
       "      <td>Tree-ring proxy reconstructions are reliable before 1960, tracking closely with the instrumental record and other independent proxies.</td>\n",
       "      <td>The deviation of some tree ring proxy measurements from the instrumental record since the 1950s raises the question of the reliability of tree ring proxies in the period before the instrumental temperature record.</td>\n",
       "      <td>1</td>\n",
       "    </tr>\n",
       "    <tr>\n",
       "      <th>evidence-602109</th>\n",
       "      <td>Tree-ring proxy reconstructions are reliable before 1960, tracking closely with the instrumental record and other independent proxies.</td>\n",
       "      <td>As there are few instrumental records before 1850, temperatures before then must be reconstructed based on proxy methods.</td>\n",
       "      <td>1</td>\n",
       "    </tr>\n",
       "    <tr>\n",
       "      <th rowspan=\"3\" valign=\"top\">claim-949</th>\n",
       "      <th>evidence-707654</th>\n",
       "      <td>Under the most ambitious scenarios, they found a strong likelihood that Antarctica would remain fairly stable.”</td>\n",
       "      <td>The sheet has been of recent concern because of the small possibility of its collapse.</td>\n",
       "      <td>1</td>\n",
       "    </tr>\n",
       "    <tr>\n",
       "      <th>evidence-28478</th>\n",
       "      <td>Under the most ambitious scenarios, they found a strong likelihood that Antarctica would remain fairly stable.”</td>\n",
       "      <td>Climate model projections summarized in the report indicated that during the 21st century the global surface temperature is likely to rise a further 0.3 to 1.7 °C (0.5 to 3.1 °F) in a moderate scenario, or as much as 2.6 to 4.8 °C (4.7 to 8.6 °F) in an extreme scenario, depending on the rate of future greenhouse gas emissions and on climate feedback effects.</td>\n",
       "      <td>1</td>\n",
       "    </tr>\n",
       "    <tr>\n",
       "      <th>evidence-491579</th>\n",
       "      <td>Under the most ambitious scenarios, they found a strong likelihood that Antarctica would remain fairly stable.”</td>\n",
       "      <td>Pledges made as part of the Cancún Agreements are broadly consistent with cost-effective scenarios that give a \"likely\" chance (66-100% probability) of limiting global warming (in 2100) to below 3 °C, relative to pre-industrial levels.</td>\n",
       "      <td>1</td>\n",
       "    </tr>\n",
       "    <tr>\n",
       "      <th rowspan=\"5\" valign=\"top\">claim-1019</th>\n",
       "      <th>evidence-863309</th>\n",
       "      <td>An additional kick was supplied by an El Niño weather pattern that peaked in 2016 and temporarily warmed much of the surface of the planet, causing the hottest year in a historical record dating to 1880.</td>\n",
       "      <td>An El Niño is associated with warm and very wet weather months in April–October along the coasts of northern Peru and Ecuador, causing major flooding whenever the event is strong or extreme.</td>\n",
       "      <td>1</td>\n",
       "    </tr>\n",
       "    <tr>\n",
       "      <th>evidence-61462</th>\n",
       "      <td>An additional kick was supplied by an El Niño weather pattern that peaked in 2016 and temporarily warmed much of the surface of the planet, causing the hottest year in a historical record dating to 1880.</td>\n",
       "      <td>However, over time the term has evolved and now refers to the warm and negative phase of the El Niño–Southern Oscillation and is the warming of the ocean surface or above-average sea surface temperatures in either the central and eastern tropical Pacific Ocean.</td>\n",
       "      <td>1</td>\n",
       "    </tr>\n",
       "    <tr>\n",
       "      <th>evidence-639818</th>\n",
       "      <td>An additional kick was supplied by an El Niño weather pattern that peaked in 2016 and temporarily warmed much of the surface of the planet, causing the hottest year in a historical record dating to 1880.</td>\n",
       "      <td>Scientists have also found the chemical signatures of warmer sea surface temperatures and increased rainfall caused by El Niño in coral specimens that are around 13,000 years old.</td>\n",
       "      <td>1</td>\n",
       "    </tr>\n",
       "    <tr>\n",
       "      <th>evidence-757821</th>\n",
       "      <td>An additional kick was supplied by an El Niño weather pattern that peaked in 2016 and temporarily warmed much of the surface of the planet, causing the hottest year in a historical record dating to 1880.</td>\n",
       "      <td>The event temporarily warmed air temperature by 1.5 °C, compared to the usual increase of 0.25 °C associated with El Niño events.</td>\n",
       "      <td>1</td>\n",
       "    </tr>\n",
       "    <tr>\n",
       "      <th>evidence-263527</th>\n",
       "      <td>An additional kick was supplied by an El Niño weather pattern that peaked in 2016 and temporarily warmed much of the surface of the planet, causing the hottest year in a historical record dating to 1880.</td>\n",
       "      <td>La Niña is the positive and cold phase of the El Niño–Southern Oscillation, and is associated with cooler-than-average sea surface temperatures in the central and eastern tropical Pacific Ocean.</td>\n",
       "      <td>1</td>\n",
       "    </tr>\n",
       "    <tr>\n",
       "      <th>claim-2834</th>\n",
       "      <th>evidence-439640</th>\n",
       "      <td>When stomata-derived CO2 (red) is compared to ice core-derived CO2 (blue), the stomata generally show much more variability in the atmospheric CO2 level and often show levels much higher than the ice cores.</td>\n",
       "      <td>One study using evidence from stomata of fossilized leaves suggests greater variability, with carbon dioxide mole fractions above 300 ppm during the period seven to ten thousand years ago, though others have argued that these findings more likely reflect calibration or contamination problems rather than actual CO 2 variability.</td>\n",
       "      <td>1</td>\n",
       "    </tr>\n",
       "    <tr>\n",
       "      <th>claim-1441</th>\n",
       "      <th>evidence-217743</th>\n",
       "      <td>195 countries signed the 2015 Paris Agreement, agreeing to limit global warming and adapt to climate change, partly by protecting nature.</td>\n",
       "      <td>In 2015, all (then) 196 parties to the convention came together for the UN Climate Change Conference in Paris 30 November - 12 December and adopted by consensus the Paris Agreement, aimed at limiting global warming to less than two degrees Celsius, and pursue efforts to limit the rise to 1.5 degrees Celsius.</td>\n",
       "      <td>1</td>\n",
       "    </tr>\n",
       "    <tr>\n",
       "      <th rowspan=\"5\" valign=\"top\">claim-1181</th>\n",
       "      <th>evidence-222694</th>\n",
       "      <td>However, there is a process of accretion, where coral broken up by the waves washes up on these low-lying islands as sand, counteracting the reduction in land mass.</td>\n",
       "      <td>If sea level changes are too drastic, time will be insufficient for wave action to accumulate sand into a dune, which will eventually become a barrier island through aggradation.</td>\n",
       "      <td>1</td>\n",
       "    </tr>\n",
       "    <tr>\n",
       "      <th>evidence-905909</th>\n",
       "      <td>However, there is a process of accretion, where coral broken up by the waves washes up on these low-lying islands as sand, counteracting the reduction in land mass.</td>\n",
       "      <td>He believed that waves moving into shallow water churned up sand, which was deposited in the form of a submarine bar when the waves broke and lost much of their energy.</td>\n",
       "      <td>1</td>\n",
       "    </tr>\n",
       "    <tr>\n",
       "      <th>evidence-600745</th>\n",
       "      <td>However, there is a process of accretion, where coral broken up by the waves washes up on these low-lying islands as sand, counteracting the reduction in land mass.</td>\n",
       "      <td>Habili – reef specific to the Red Sea; does not reach near enough to the surface to cause visible surf; may be a hazard to ships (from the Arabic for \"unborn\") Microatoll – community of species of corals; vertical growth limited by average tidal height; growth morphologies offer a low-resolution record of patterns of sea level change; fossilized remains can be dated using radioactive carbon dating and have been used to reconstruct Holocene sea levels Cays – small, low-elevation, sandy islands formed on the surface of coral reefs from eroded material that piles up, forming an area above sea level; can be stabilized by plants to become habitable; occur in tropical environments throughout the Pacific, Atlantic and Indian Oceans (including the Caribbean and on the Great Barrier Reef and Belize Barrier Reef), where they provide habitable and agricultural land Seamount or guyot – formed when a coral reef on a volcanic island subsides; tops of seamounts are rounded and guyots are flat; flat tops of guyots, or tablemounts, are due to erosion by waves, winds, and atmospheric processes Coral reef ecosystems contain distinct zones that host different kinds of habitats.</td>\n",
       "      <td>1</td>\n",
       "    </tr>\n",
       "    <tr>\n",
       "      <th>evidence-337702</th>\n",
       "      <td>However, there is a process of accretion, where coral broken up by the waves washes up on these low-lying islands as sand, counteracting the reduction in land mass.</td>\n",
       "      <td>Waves, grazing fish (such as parrotfish), sea urchins, sponges and other forces and organisms act as bioeroders, breaking down coral skeletons into fragments that settle into spaces in the reef structure or form sandy bottoms in associated reef lagoons.</td>\n",
       "      <td>1</td>\n",
       "    </tr>\n",
       "    <tr>\n",
       "      <th>evidence-1015241</th>\n",
       "      <td>However, there is a process of accretion, where coral broken up by the waves washes up on these low-lying islands as sand, counteracting the reduction in land mass.</td>\n",
       "      <td>Over time, corals fragment and die, sand and rubble accumulates between the corals, and the shells of clams and other molluscs decay to form a gradually evolving calcium carbonate structure.</td>\n",
       "      <td>1</td>\n",
       "    </tr>\n",
       "    <tr>\n",
       "      <th rowspan=\"5\" valign=\"top\">claim-2417</th>\n",
       "      <th>evidence-386828</th>\n",
       "      <td>Mars, Triton, Pluto and Jupiter all show global warming, pointing to the Sun as the dominating influence in determining climate throughout the solar system.\"</td>\n",
       "      <td>It is a major aspect of climate change and has been demonstrated by direct temperature measurements and by measurements of various effects of the warming.</td>\n",
       "      <td>1</td>\n",
       "    </tr>\n",
       "    <tr>\n",
       "      <th>evidence-535248</th>\n",
       "      <td>Mars, Triton, Pluto and Jupiter all show global warming, pointing to the Sun as the dominating influence in determining climate throughout the solar system.\"</td>\n",
       "      <td>Another line of evidence for the warming not being due to the Sun is how temperature changes differ at different levels in the Earth's atmosphere.</td>\n",
       "      <td>1</td>\n",
       "    </tr>\n",
       "    <tr>\n",
       "      <th>evidence-1078011</th>\n",
       "      <td>Mars, Triton, Pluto and Jupiter all show global warming, pointing to the Sun as the dominating influence in determining climate throughout the solar system.\"</td>\n",
       "      <td>The largest human influence has been the emission of greenhouse gases such as carbon dioxide, methane, and nitrous oxide.</td>\n",
       "      <td>1</td>\n",
       "    </tr>\n",
       "    <tr>\n",
       "      <th>evidence-975483</th>\n",
       "      <td>Mars, Triton, Pluto and Jupiter all show global warming, pointing to the Sun as the dominating influence in determining climate throughout the solar system.\"</td>\n",
       "      <td>As the Sun is the Earth's primary energy source, changes in incoming sunlight directly affect the climate system.</td>\n",
       "      <td>1</td>\n",
       "    </tr>\n",
       "    <tr>\n",
       "      <th>evidence-177166</th>\n",
       "      <td>Mars, Triton, Pluto and Jupiter all show global warming, pointing to the Sun as the dominating influence in determining climate throughout the solar system.\"</td>\n",
       "      <td>As Neptune orbits the Sun, Triton's polar regions take turns facing the Sun, resulting in seasonal changes as one pole, then the other, moves into the sunlight.</td>\n",
       "      <td>1</td>\n",
       "    </tr>\n",
       "    <tr>\n",
       "      <th rowspan=\"5\" valign=\"top\">claim-2152</th>\n",
       "      <th>evidence-515817</th>\n",
       "      <td>Venus doesn't have a runaway greenhouse effect</td>\n",
       "      <td>The planet Venus experienced runaway greenhouse effect, resulting in an atmosphere which is 96% carbon dioxide, with surface atmospheric pressure roughly the same as found 900 m (3,000 ft) underwater on Earth.</td>\n",
       "      <td>1</td>\n",
       "    </tr>\n",
       "    <tr>\n",
       "      <th>evidence-1018575</th>\n",
       "      <td>Venus doesn't have a runaway greenhouse effect</td>\n",
       "      <td>A runaway greenhouse effect involving carbon dioxide and water vapor has long ago been hypothesized to have occurred on Venus, this idea is still largely accepted[citation needed].</td>\n",
       "      <td>1</td>\n",
       "    </tr>\n",
       "    <tr>\n",
       "      <th>evidence-791159</th>\n",
       "      <td>Venus doesn't have a runaway greenhouse effect</td>\n",
       "      <td>Venus receives about twice the sunlight that Earth does, which is thought to have contributed to its runaway greenhouse effect.</td>\n",
       "      <td>1</td>\n",
       "    </tr>\n",
       "    <tr>\n",
       "      <th>evidence-1009205</th>\n",
       "      <td>Venus doesn't have a runaway greenhouse effect</td>\n",
       "      <td>It may have had water oceans in the past, but these would have vaporized as the temperature rose due to a runaway greenhouse effect.</td>\n",
       "      <td>1</td>\n",
       "    </tr>\n",
       "    <tr>\n",
       "      <th>evidence-878835</th>\n",
       "      <td>Venus doesn't have a runaway greenhouse effect</td>\n",
       "      <td>The CO 2-rich atmosphere generates the strongest greenhouse effect in the Solar System, creating surface temperatures of at least 735 K (462 °C; 864 °F).</td>\n",
       "      <td>1</td>\n",
       "    </tr>\n",
       "    <tr>\n",
       "      <th>claim-826</th>\n",
       "      <th>evidence-497197</th>\n",
       "      <td>The latest NOAA report is “a reminder that climate change has not, despite the insistence of climate contrarians ‘paused’ or even slowed down,” Mann said..</td>\n",
       "      <td>\"Details the findings of a new report that confirms NOAA data about climate change.\"</td>\n",
       "      <td>1</td>\n",
       "    </tr>\n",
       "    <tr>\n",
       "      <th>claim-1066</th>\n",
       "      <th>evidence-876634</th>\n",
       "      <td>[…] in fact this pattern is already emerging, with the conditions that create extremely warm dry years and extremely wet years both becoming more frequent.</td>\n",
       "      <td>Since the 1950s, droughts and heat waves have appeared simultaneously with increasing frequency.</td>\n",
       "      <td>1</td>\n",
       "    </tr>\n",
       "    <tr>\n",
       "      <th rowspan=\"3\" valign=\"top\">claim-3003</th>\n",
       "      <th>evidence-175982</th>\n",
       "      <td>Venus is not hot because of a runaway greenhouse.</td>\n",
       "      <td>He also perceived global warming as a growing, man-made danger and likened it to the natural development of Venus into a hot, life-hostile planet through a kind of runaway greenhouse effect.</td>\n",
       "      <td>1</td>\n",
       "    </tr>\n",
       "    <tr>\n",
       "      <th>evidence-515817</th>\n",
       "      <td>Venus is not hot because of a runaway greenhouse.</td>\n",
       "      <td>The planet Venus experienced runaway greenhouse effect, resulting in an atmosphere which is 96% carbon dioxide, with surface atmospheric pressure roughly the same as found 900 m (3,000 ft) underwater on Earth.</td>\n",
       "      <td>1</td>\n",
       "    </tr>\n",
       "    <tr>\n",
       "      <th>evidence-1009205</th>\n",
       "      <td>Venus is not hot because of a runaway greenhouse.</td>\n",
       "      <td>It may have had water oceans in the past, but these would have vaporized as the temperature rose due to a runaway greenhouse effect.</td>\n",
       "      <td>1</td>\n",
       "    </tr>\n",
       "    <tr>\n",
       "      <th rowspan=\"5\" valign=\"top\">claim-3059</th>\n",
       "      <th>evidence-368192</th>\n",
       "      <td>Models and direct observations find that CFCs only contribute a fraction of the warming supplied by other greenhouse gases.</td>\n",
       "      <td>Increases in atmospheric concentrations of CO 2 and other long-lived greenhouse gases such as methane, nitrous oxide and ozone have correspondingly strengthened their absorption and emission of infrared radiation, causing the rise in average global temperature since the mid-20th century.</td>\n",
       "      <td>1</td>\n",
       "    </tr>\n",
       "    <tr>\n",
       "      <th>evidence-1148684</th>\n",
       "      <td>Models and direct observations find that CFCs only contribute a fraction of the warming supplied by other greenhouse gases.</td>\n",
       "      <td>The strength of CFC absorption bands and the unique susceptibility of the atmosphere at wavelengths where CFCs (indeed all covalent fluorine compounds) absorb creates a “super” greenhouse effect from CFCs and other unreactive fluorine-containing gases such as perfluorocarbons, HFCs, HCFCs, bromofluorocarbons, SF6, and NF3.</td>\n",
       "      <td>1</td>\n",
       "    </tr>\n",
       "    <tr>\n",
       "      <th>evidence-457889</th>\n",
       "      <td>Models and direct observations find that CFCs only contribute a fraction of the warming supplied by other greenhouse gases.</td>\n",
       "      <td>The seven sources of CO 2 from fossil fuel combustion are (with percentage contributions for 2000–2004): Carbon dioxide, methane, nitrous oxide (N 2O) and three groups of fluorinated gases (sulfur hexafluoride (SF 6), hydrofluorocarbons (HFCs), and perfluorocarbons (PFCs)) are the major anthropogenic greenhouse gases, and are regulated under the Kyoto Protocol international treaty, which came into force in 2005.</td>\n",
       "      <td>1</td>\n",
       "    </tr>\n",
       "    <tr>\n",
       "      <th>evidence-91026</th>\n",
       "      <td>Models and direct observations find that CFCs only contribute a fraction of the warming supplied by other greenhouse gases.</td>\n",
       "      <td>Although CFCs are greenhouse gases, they are regulated by the Montreal Protocol, which was motivated by CFCs' contribution to ozone depletion rather than by their contribution to global warming.</td>\n",
       "      <td>1</td>\n",
       "    </tr>\n",
       "    <tr>\n",
       "      <th>evidence-813877</th>\n",
       "      <td>Models and direct observations find that CFCs only contribute a fraction of the warming supplied by other greenhouse gases.</td>\n",
       "      <td>The report shows in detail the individual warming contributions (positive forcing) of carbon dioxide, methane, nitrous oxide, halocarbons, other human warming factors, and the warming effects of changes in solar activity.</td>\n",
       "      <td>1</td>\n",
       "    </tr>\n",
       "    <tr>\n",
       "      <th>claim-568</th>\n",
       "      <th>evidence-555453</th>\n",
       "      <td>The research also revealed how large areas of the polar ice caps could collapse and significant changes to ecosystems could see the Sahara Desert become green and the edges of tropical forests turn into fire-dominated savanna.</td>\n",
       "      <td>Regime shifts in polar regions include the melting of the Greenland ice sheet and the possible collapse of the thermohaline circulation system.</td>\n",
       "      <td>1</td>\n",
       "    </tr>\n",
       "  </tbody>\n",
       "</table>\n",
       "</div>"
      ],
      "text/plain": [
       "                                                                                                                                                                                                                                                     claim_text   \n",
       "claim      evidence                                                                                                                                                                                                                                               \n",
       "claim-1937 evidence-442946   Not only is there no scientific evidence that CO2 is a pollutant, higher CO2 concentrations actually help ecosystems support more plant and animal life.                                                                            \\\n",
       "           evidence-1194317  Not only is there no scientific evidence that CO2 is a pollutant, higher CO2 concentrations actually help ecosystems support more plant and animal life.                                                                             \n",
       "           evidence-12171    Not only is there no scientific evidence that CO2 is a pollutant, higher CO2 concentrations actually help ecosystems support more plant and animal life.                                                                             \n",
       "claim-126  evidence-338219   El Niño drove record highs in global temperatures suggesting rise may not be down to man-made emissions.                                                                                                                             \n",
       "           evidence-1127398  El Niño drove record highs in global temperatures suggesting rise may not be down to man-made emissions.                                                                                                                             \n",
       "claim-2510 evidence-530063   In 1946, PDO switched to a cool phase.                                                                                                                                                                                               \n",
       "           evidence-984887   In 1946, PDO switched to a cool phase.                                                                                                                                                                                               \n",
       "claim-2021 evidence-1177431  Weather Channel co-founder John Coleman provided evidence that convincingly refutes the concept of anthropogenic global warming.                                                                                                     \n",
       "           evidence-782448   Weather Channel co-founder John Coleman provided evidence that convincingly refutes the concept of anthropogenic global warming.                                                                                                     \n",
       "           evidence-540069   Weather Channel co-founder John Coleman provided evidence that convincingly refutes the concept of anthropogenic global warming.                                                                                                     \n",
       "           evidence-352655   Weather Channel co-founder John Coleman provided evidence that convincingly refutes the concept of anthropogenic global warming.                                                                                                     \n",
       "           evidence-1007867  Weather Channel co-founder John Coleman provided evidence that convincingly refutes the concept of anthropogenic global warming.                                                                                                     \n",
       "claim-2449 evidence-1010750  \"January 2008 capped a 12 month period of global temperature drops on all of the major well respected indicators.                                                                                                                    \n",
       "           evidence-91661    \"January 2008 capped a 12 month period of global temperature drops on all of the major well respected indicators.                                                                                                                    \n",
       "           evidence-722725   \"January 2008 capped a 12 month period of global temperature drops on all of the major well respected indicators.                                                                                                                    \n",
       "           evidence-554161   \"January 2008 capped a 12 month period of global temperature drops on all of the major well respected indicators.                                                                                                                    \n",
       "           evidence-430839   \"January 2008 capped a 12 month period of global temperature drops on all of the major well respected indicators.                                                                                                                    \n",
       "claim-851  evidence-226174   The last time the planet was even four degrees warmer, Peter Brannen points out in The Ends of the World, his new history of the planet’s major extinction events, the oceans were hundreds of feet higher.                          \n",
       "           evidence-1049316  The last time the planet was even four degrees warmer, Peter Brannen points out in The Ends of the World, his new history of the planet’s major extinction events, the oceans were hundreds of feet higher.                          \n",
       "           evidence-358301   The last time the planet was even four degrees warmer, Peter Brannen points out in The Ends of the World, his new history of the planet’s major extinction events, the oceans were hundreds of feet higher.                          \n",
       "           evidence-493329   The last time the planet was even four degrees warmer, Peter Brannen points out in The Ends of the World, his new history of the planet’s major extinction events, the oceans were hundreds of feet higher.                          \n",
       "           evidence-610497   The last time the planet was even four degrees warmer, Peter Brannen points out in The Ends of the World, his new history of the planet’s major extinction events, the oceans were hundreds of feet higher.                          \n",
       "claim-2773 evidence-974673   Tree-ring proxy reconstructions are reliable before 1960, tracking closely with the instrumental record and other independent proxies.                                                                                               \n",
       "           evidence-602109   Tree-ring proxy reconstructions are reliable before 1960, tracking closely with the instrumental record and other independent proxies.                                                                                               \n",
       "claim-949  evidence-707654   Under the most ambitious scenarios, they found a strong likelihood that Antarctica would remain fairly stable.”                                                                                                                      \n",
       "           evidence-28478    Under the most ambitious scenarios, they found a strong likelihood that Antarctica would remain fairly stable.”                                                                                                                      \n",
       "           evidence-491579   Under the most ambitious scenarios, they found a strong likelihood that Antarctica would remain fairly stable.”                                                                                                                      \n",
       "claim-1019 evidence-863309   An additional kick was supplied by an El Niño weather pattern that peaked in 2016 and temporarily warmed much of the surface of the planet, causing the hottest year in a historical record dating to 1880.                          \n",
       "           evidence-61462    An additional kick was supplied by an El Niño weather pattern that peaked in 2016 and temporarily warmed much of the surface of the planet, causing the hottest year in a historical record dating to 1880.                          \n",
       "           evidence-639818   An additional kick was supplied by an El Niño weather pattern that peaked in 2016 and temporarily warmed much of the surface of the planet, causing the hottest year in a historical record dating to 1880.                          \n",
       "           evidence-757821   An additional kick was supplied by an El Niño weather pattern that peaked in 2016 and temporarily warmed much of the surface of the planet, causing the hottest year in a historical record dating to 1880.                          \n",
       "           evidence-263527   An additional kick was supplied by an El Niño weather pattern that peaked in 2016 and temporarily warmed much of the surface of the planet, causing the hottest year in a historical record dating to 1880.                          \n",
       "claim-2834 evidence-439640   When stomata-derived CO2 (red) is compared to ice core-derived CO2 (blue), the stomata generally show much more variability in the atmospheric CO2 level and often show levels much higher than the ice cores.                       \n",
       "claim-1441 evidence-217743   195 countries signed the 2015 Paris Agreement, agreeing to limit global warming and adapt to climate change, partly by protecting nature.                                                                                            \n",
       "claim-1181 evidence-222694   However, there is a process of accretion, where coral broken up by the waves washes up on these low-lying islands as sand, counteracting the reduction in land mass.                                                                 \n",
       "           evidence-905909   However, there is a process of accretion, where coral broken up by the waves washes up on these low-lying islands as sand, counteracting the reduction in land mass.                                                                 \n",
       "           evidence-600745   However, there is a process of accretion, where coral broken up by the waves washes up on these low-lying islands as sand, counteracting the reduction in land mass.                                                                 \n",
       "           evidence-337702   However, there is a process of accretion, where coral broken up by the waves washes up on these low-lying islands as sand, counteracting the reduction in land mass.                                                                 \n",
       "           evidence-1015241  However, there is a process of accretion, where coral broken up by the waves washes up on these low-lying islands as sand, counteracting the reduction in land mass.                                                                 \n",
       "claim-2417 evidence-386828   Mars, Triton, Pluto and Jupiter all show global warming, pointing to the Sun as the dominating influence in determining climate throughout the solar system.\"                                                                        \n",
       "           evidence-535248   Mars, Triton, Pluto and Jupiter all show global warming, pointing to the Sun as the dominating influence in determining climate throughout the solar system.\"                                                                        \n",
       "           evidence-1078011  Mars, Triton, Pluto and Jupiter all show global warming, pointing to the Sun as the dominating influence in determining climate throughout the solar system.\"                                                                        \n",
       "           evidence-975483   Mars, Triton, Pluto and Jupiter all show global warming, pointing to the Sun as the dominating influence in determining climate throughout the solar system.\"                                                                        \n",
       "           evidence-177166   Mars, Triton, Pluto and Jupiter all show global warming, pointing to the Sun as the dominating influence in determining climate throughout the solar system.\"                                                                        \n",
       "claim-2152 evidence-515817   Venus doesn't have a runaway greenhouse effect                                                                                                                                                                                       \n",
       "           evidence-1018575  Venus doesn't have a runaway greenhouse effect                                                                                                                                                                                       \n",
       "           evidence-791159   Venus doesn't have a runaway greenhouse effect                                                                                                                                                                                       \n",
       "           evidence-1009205  Venus doesn't have a runaway greenhouse effect                                                                                                                                                                                       \n",
       "           evidence-878835   Venus doesn't have a runaway greenhouse effect                                                                                                                                                                                       \n",
       "claim-826  evidence-497197   The latest NOAA report is “a reminder that climate change has not, despite the insistence of climate contrarians ‘paused’ or even slowed down,” Mann said..                                                                          \n",
       "claim-1066 evidence-876634   […] in fact this pattern is already emerging, with the conditions that create extremely warm dry years and extremely wet years both becoming more frequent.                                                                          \n",
       "claim-3003 evidence-175982   Venus is not hot because of a runaway greenhouse.                                                                                                                                                                                    \n",
       "           evidence-515817   Venus is not hot because of a runaway greenhouse.                                                                                                                                                                                    \n",
       "           evidence-1009205  Venus is not hot because of a runaway greenhouse.                                                                                                                                                                                    \n",
       "claim-3059 evidence-368192   Models and direct observations find that CFCs only contribute a fraction of the warming supplied by other greenhouse gases.                                                                                                          \n",
       "           evidence-1148684  Models and direct observations find that CFCs only contribute a fraction of the warming supplied by other greenhouse gases.                                                                                                          \n",
       "           evidence-457889   Models and direct observations find that CFCs only contribute a fraction of the warming supplied by other greenhouse gases.                                                                                                          \n",
       "           evidence-91026    Models and direct observations find that CFCs only contribute a fraction of the warming supplied by other greenhouse gases.                                                                                                          \n",
       "           evidence-813877   Models and direct observations find that CFCs only contribute a fraction of the warming supplied by other greenhouse gases.                                                                                                          \n",
       "claim-568  evidence-555453   The research also revealed how large areas of the polar ice caps could collapse and significant changes to ecosystems could see the Sahara Desert become green and the edges of tropical forests turn into fire-dominated savanna.   \n",
       "\n",
       "                                                                                                                                                                                                                                                                                                                                                                                                                                                                                                                                                                                                                                                                                                                                                                                                                                                                                                                                                                                                                                                                                                                                                                                                                                        evidence_text   \n",
       "claim      evidence                                                                                                                                                                                                                                                                                                                                                                                                                                                                                                                                                                                                                                                                                                                                                                                                                                                                                                                                                                                                                                                                                                                                                                                                                                     \n",
       "claim-1937 evidence-442946   At very high concentrations (100 times atmospheric concentration, or greater), carbon dioxide can be toxic to animal life, so raising the concentration to 10,000 ppm (1%) or higher for several hours will eliminate pests such as whiteflies and spider mites in a greenhouse.                                                                                                                                                                                                                                                                                                                                                                                                                                                                                                                                                                                                                                                                                                                                                                                                                                                                                                                                          \\\n",
       "           evidence-1194317  Plants can grow as much as 50 percent faster in concentrations of 1,000 ppm CO 2 when compared with ambient conditions, though this assumes no change in climate and no limitation on other nutrients.                                                                                                                                                                                                                                                                                                                                                                                                                                                                                                                                                                                                                                                                                                                                                                                                                                                                                                                                                                                                                     \n",
       "           evidence-12171    Higher carbon dioxide concentrations will favourably affect plant growth and demand for water.                                                                                                                                                                                                                                                                                                                                                                                                                                                                                                                                                                                                                                                                                                                                                                                                                                                                                                                                                                                                                                                                                                                             \n",
       "claim-126  evidence-338219   While ‘climate change’ can be due to natural forces or human activity, there is now substantial evidence to indicate that human activity – and specifically increased greenhouse gas (GHGs) emissions – is a key factor in the pace and extent of global temperature increases.                                                                                                                                                                                                                                                                                                                                                                                                                                                                                                                                                                                                                                                                                                                                                                                                                                                                                                                                            \n",
       "           evidence-1127398  This acceleration is due mostly to human-caused global warming, which is driving thermal expansion of seawater and the melting of land-based ice sheets and glaciers.                                                                                                                                                                                                                                                                                                                                                                                                                                                                                                                                                                                                                                                                                                                                                                                                                                                                                                                                                                                                                                                      \n",
       "claim-2510 evidence-530063   There is evidence of reversals in the prevailing polarity (meaning changes in cool surface waters versus warm surface waters within the region) of the oscillation occurring around 1925, 1947, and 1977; the last two reversals corresponded with dramatic shifts in salmon production regimes in the North Pacific Ocean.                                                                                                                                                                                                                                                                                                                                                                                                                                                                                                                                                                                                                                                                                                                                                                                                                                                                                                \n",
       "           evidence-984887   1945/1946: The PDO changed to a \"cool\" phase, the pattern of this regime shift is similar to the 1970s episode with maximum amplitude in the subarctic and subtropical front but with a greater signature near the Japan while the 1970s shift was stronger near the American west coast.                                                                                                                                                                                                                                                                                                                                                                                                                                                                                                                                                                                                                                                                                                                                                                                                                                                                                                                                  \n",
       "claim-2021 evidence-1177431  There is no convincing scientific evidence that human release of carbon dioxide, methane, or other greenhouse gases is causing or will, in the foreseeable future, cause catastrophic heating of the Earth's atmosphere and disruption of the Earth's climate.                                                                                                                                                                                                                                                                                                                                                                                                                                                                                                                                                                                                                                                                                                                                                                                                                                                                                                                                                             \n",
       "           evidence-782448   He has called global warming the \"greatest scam in history\" and made numerous false or misleading claims about climate science.                                                                                                                                                                                                                                                                                                                                                                                                                                                                                                                                                                                                                                                                                                                                                                                                                                                                                                                                                                                                                                                                                            \n",
       "           evidence-540069   International Council of Academies of Engineering and Technological Sciences (CAETS) in 2007, issued a Statement on Environment and Sustainable Growth: As reported by the Intergovernmental Panel on Climate Change (IPCC), most of the observed global warming since the mid-20th century is very likely due to human-produced emission of greenhouse gases and this warming will continue unabated if present anthropogenic emissions continue or, worse, expand without control.                                                                                                                                                                                                                                                                                                                                                                                                                                                                                                                                                                                                                                                                                                                                       \n",
       "           evidence-352655   \"Climate Scientists Virtually Unanimous Anthropogenic Global Warming Is True\".                                                                                                                                                                                                                                                                                                                                                                                                                                                                                                                                                                                                                                                                                                                                                                                                                                                                                                                                                                                                                                                                                                                                             \n",
       "           evidence-1007867  Scientists Reach 100% Consensus on Anthropogenic Global Warming.                                                                                                                                                                                                                                                                                                                                                                                                                                                                                                                                                                                                                                                                                                                                                                                                                                                                                                                                                                                                                                                                                                                                                           \n",
       "claim-2449 evidence-1010750  With average temperature +8.1 °C (47 °F).                                                                                                                                                                                                                                                                                                                                                                                                                                                                                                                                                                                                                                                                                                                                                                                                                                                                                                                                                                                                                                                                                                                                                                                  \n",
       "           evidence-91661    The Iranian / Persian calendar, currently used in Iran and Afghanistan, also has 12 months.                                                                                                                                                                                                                                                                                                                                                                                                                                                                                                                                                                                                                                                                                                                                                                                                                                                                                                                                                                                                                                                                                                                                \n",
       "           evidence-722725   All of these events can have wide variations of more than a month from year to year.                                                                                                                                                                                                                                                                                                                                                                                                                                                                                                                                                                                                                                                                                                                                                                                                                                                                                                                                                                                                                                                                                                                                       \n",
       "           evidence-554161   Its average duration is 365.256363004 days (365 d 6 h 9 min 9.76 s) (at the epoch J2000.0 = January 1, 2000, 12:00:00 TT).                                                                                                                                                                                                                                                                                                                                                                                                                                                                                                                                                                                                                                                                                                                                                                                                                                                                                                                                                                                                                                                                                                 \n",
       "           evidence-430839   It has a duration of approximately 354.37 days.                                                                                                                                                                                                                                                                                                                                                                                                                                                                                                                                                                                                                                                                                                                                                                                                                                                                                                                                                                                                                                                                                                                                                                            \n",
       "claim-851  evidence-226174   Sea levels were high worldwide, and much of the land lay under shallow seas, where tropical reef organisms lived.                                                                                                                                                                                                                                                                                                                                                                                                                                                                                                                                                                                                                                                                                                                                                                                                                                                                                                                                                                                                                                                                                                          \n",
       "           evidence-1049316  The elevation of the land surface varies from the low point of −418 m (−1,371 ft) at the Dead Sea, to a maximum altitude of 8,848 m (29,029 ft) at the top of Mount Everest.                                                                                                                                                                                                                                                                                                                                                                                                                                                                                                                                                                                                                                                                                                                                                                                                                                                                                                                                                                                                                                               \n",
       "           evidence-358301   As a result, the mean annual air temperature at sea level decreases by about 0.4 °C (0.7 °F) per degree of latitude from the equator.                                                                                                                                                                                                                                                                                                                                                                                                                                                                                                                                                                                                                                                                                                                                                                                                                                                                                                                                                                                                                                                                                      \n",
       "           evidence-493329   In the early and middle Ordovician, temperatures were mild, but at the beginning of the Late Ordovician, from 460 to 450 Ma, volcanoes along the margin of the Iapetus Ocean spewed massive amounts of carbon dioxide, a greenhouse gas, into the atmosphere, turning the planet into a hothouse.                                                                                                                                                                                                                                                                                                                                                                                                                                                                                                                                                                                                                                                                                                                                                                                                                                                                                                                          \n",
       "           evidence-610497   The Ordovician saw the highest sea levels of the Paleozoic, and the low relief of the continents led to many shelf deposits being formed under hundreds of metres of water.                                                                                                                                                                                                                                                                                                                                                                                                                                                                                                                                                                                                                                                                                                                                                                                                                                                                                                                                                                                                                                                \n",
       "claim-2773 evidence-974673   The deviation of some tree ring proxy measurements from the instrumental record since the 1950s raises the question of the reliability of tree ring proxies in the period before the instrumental temperature record.                                                                                                                                                                                                                                                                                                                                                                                                                                                                                                                                                                                                                                                                                                                                                                                                                                                                                                                                                                                                      \n",
       "           evidence-602109   As there are few instrumental records before 1850, temperatures before then must be reconstructed based on proxy methods.                                                                                                                                                                                                                                                                                                                                                                                                                                                                                                                                                                                                                                                                                                                                                                                                                                                                                                                                                                                                                                                                                                  \n",
       "claim-949  evidence-707654   The sheet has been of recent concern because of the small possibility of its collapse.                                                                                                                                                                                                                                                                                                                                                                                                                                                                                                                                                                                                                                                                                                                                                                                                                                                                                                                                                                                                                                                                                                                                     \n",
       "           evidence-28478    Climate model projections summarized in the report indicated that during the 21st century the global surface temperature is likely to rise a further 0.3 to 1.7 °C (0.5 to 3.1 °F) in a moderate scenario, or as much as 2.6 to 4.8 °C (4.7 to 8.6 °F) in an extreme scenario, depending on the rate of future greenhouse gas emissions and on climate feedback effects.                                                                                                                                                                                                                                                                                                                                                                                                                                                                                                                                                                                                                                                                                                                                                                                                                                                   \n",
       "           evidence-491579   Pledges made as part of the Cancún Agreements are broadly consistent with cost-effective scenarios that give a \"likely\" chance (66-100% probability) of limiting global warming (in 2100) to below 3 °C, relative to pre-industrial levels.                                                                                                                                                                                                                                                                                                                                                                                                                                                                                                                                                                                                                                                                                                                                                                                                                                                                                                                                                                                \n",
       "claim-1019 evidence-863309   An El Niño is associated with warm and very wet weather months in April–October along the coasts of northern Peru and Ecuador, causing major flooding whenever the event is strong or extreme.                                                                                                                                                                                                                                                                                                                                                                                                                                                                                                                                                                                                                                                                                                                                                                                                                                                                                                                                                                                                                             \n",
       "           evidence-61462    However, over time the term has evolved and now refers to the warm and negative phase of the El Niño–Southern Oscillation and is the warming of the ocean surface or above-average sea surface temperatures in either the central and eastern tropical Pacific Ocean.                                                                                                                                                                                                                                                                                                                                                                                                                                                                                                                                                                                                                                                                                                                                                                                                                                                                                                                                                      \n",
       "           evidence-639818   Scientists have also found the chemical signatures of warmer sea surface temperatures and increased rainfall caused by El Niño in coral specimens that are around 13,000 years old.                                                                                                                                                                                                                                                                                                                                                                                                                                                                                                                                                                                                                                                                                                                                                                                                                                                                                                                                                                                                                                        \n",
       "           evidence-757821   The event temporarily warmed air temperature by 1.5 °C, compared to the usual increase of 0.25 °C associated with El Niño events.                                                                                                                                                                                                                                                                                                                                                                                                                                                                                                                                                                                                                                                                                                                                                                                                                                                                                                                                                                                                                                                                                          \n",
       "           evidence-263527   La Niña is the positive and cold phase of the El Niño–Southern Oscillation, and is associated with cooler-than-average sea surface temperatures in the central and eastern tropical Pacific Ocean.                                                                                                                                                                                                                                                                                                                                                                                                                                                                                                                                                                                                                                                                                                                                                                                                                                                                                                                                                                                                                         \n",
       "claim-2834 evidence-439640   One study using evidence from stomata of fossilized leaves suggests greater variability, with carbon dioxide mole fractions above 300 ppm during the period seven to ten thousand years ago, though others have argued that these findings more likely reflect calibration or contamination problems rather than actual CO 2 variability.                                                                                                                                                                                                                                                                                                                                                                                                                                                                                                                                                                                                                                                                                                                                                                                                                                                                                  \n",
       "claim-1441 evidence-217743   In 2015, all (then) 196 parties to the convention came together for the UN Climate Change Conference in Paris 30 November - 12 December and adopted by consensus the Paris Agreement, aimed at limiting global warming to less than two degrees Celsius, and pursue efforts to limit the rise to 1.5 degrees Celsius.                                                                                                                                                                                                                                                                                                                                                                                                                                                                                                                                                                                                                                                                                                                                                                                                                                                                                                      \n",
       "claim-1181 evidence-222694   If sea level changes are too drastic, time will be insufficient for wave action to accumulate sand into a dune, which will eventually become a barrier island through aggradation.                                                                                                                                                                                                                                                                                                                                                                                                                                                                                                                                                                                                                                                                                                                                                                                                                                                                                                                                                                                                                                         \n",
       "           evidence-905909   He believed that waves moving into shallow water churned up sand, which was deposited in the form of a submarine bar when the waves broke and lost much of their energy.                                                                                                                                                                                                                                                                                                                                                                                                                                                                                                                                                                                                                                                                                                                                                                                                                                                                                                                                                                                                                                                   \n",
       "           evidence-600745   Habili – reef specific to the Red Sea; does not reach near enough to the surface to cause visible surf; may be a hazard to ships (from the Arabic for \"unborn\") Microatoll – community of species of corals; vertical growth limited by average tidal height; growth morphologies offer a low-resolution record of patterns of sea level change; fossilized remains can be dated using radioactive carbon dating and have been used to reconstruct Holocene sea levels Cays – small, low-elevation, sandy islands formed on the surface of coral reefs from eroded material that piles up, forming an area above sea level; can be stabilized by plants to become habitable; occur in tropical environments throughout the Pacific, Atlantic and Indian Oceans (including the Caribbean and on the Great Barrier Reef and Belize Barrier Reef), where they provide habitable and agricultural land Seamount or guyot – formed when a coral reef on a volcanic island subsides; tops of seamounts are rounded and guyots are flat; flat tops of guyots, or tablemounts, are due to erosion by waves, winds, and atmospheric processes Coral reef ecosystems contain distinct zones that host different kinds of habitats.   \n",
       "           evidence-337702   Waves, grazing fish (such as parrotfish), sea urchins, sponges and other forces and organisms act as bioeroders, breaking down coral skeletons into fragments that settle into spaces in the reef structure or form sandy bottoms in associated reef lagoons.                                                                                                                                                                                                                                                                                                                                                                                                                                                                                                                                                                                                                                                                                                                                                                                                                                                                                                                                                              \n",
       "           evidence-1015241  Over time, corals fragment and die, sand and rubble accumulates between the corals, and the shells of clams and other molluscs decay to form a gradually evolving calcium carbonate structure.                                                                                                                                                                                                                                                                                                                                                                                                                                                                                                                                                                                                                                                                                                                                                                                                                                                                                                                                                                                                                             \n",
       "claim-2417 evidence-386828   It is a major aspect of climate change and has been demonstrated by direct temperature measurements and by measurements of various effects of the warming.                                                                                                                                                                                                                                                                                                                                                                                                                                                                                                                                                                                                                                                                                                                                                                                                                                                                                                                                                                                                                                                                 \n",
       "           evidence-535248   Another line of evidence for the warming not being due to the Sun is how temperature changes differ at different levels in the Earth's atmosphere.                                                                                                                                                                                                                                                                                                                                                                                                                                                                                                                                                                                                                                                                                                                                                                                                                                                                                                                                                                                                                                                                         \n",
       "           evidence-1078011  The largest human influence has been the emission of greenhouse gases such as carbon dioxide, methane, and nitrous oxide.                                                                                                                                                                                                                                                                                                                                                                                                                                                                                                                                                                                                                                                                                                                                                                                                                                                                                                                                                                                                                                                                                                  \n",
       "           evidence-975483   As the Sun is the Earth's primary energy source, changes in incoming sunlight directly affect the climate system.                                                                                                                                                                                                                                                                                                                                                                                                                                                                                                                                                                                                                                                                                                                                                                                                                                                                                                                                                                                                                                                                                                          \n",
       "           evidence-177166   As Neptune orbits the Sun, Triton's polar regions take turns facing the Sun, resulting in seasonal changes as one pole, then the other, moves into the sunlight.                                                                                                                                                                                                                                                                                                                                                                                                                                                                                                                                                                                                                                                                                                                                                                                                                                                                                                                                                                                                                                                           \n",
       "claim-2152 evidence-515817   The planet Venus experienced runaway greenhouse effect, resulting in an atmosphere which is 96% carbon dioxide, with surface atmospheric pressure roughly the same as found 900 m (3,000 ft) underwater on Earth.                                                                                                                                                                                                                                                                                                                                                                                                                                                                                                                                                                                                                                                                                                                                                                                                                                                                                                                                                                                                          \n",
       "           evidence-1018575  A runaway greenhouse effect involving carbon dioxide and water vapor has long ago been hypothesized to have occurred on Venus, this idea is still largely accepted[citation needed].                                                                                                                                                                                                                                                                                                                                                                                                                                                                                                                                                                                                                                                                                                                                                                                                                                                                                                                                                                                                                                       \n",
       "           evidence-791159   Venus receives about twice the sunlight that Earth does, which is thought to have contributed to its runaway greenhouse effect.                                                                                                                                                                                                                                                                                                                                                                                                                                                                                                                                                                                                                                                                                                                                                                                                                                                                                                                                                                                                                                                                                            \n",
       "           evidence-1009205  It may have had water oceans in the past, but these would have vaporized as the temperature rose due to a runaway greenhouse effect.                                                                                                                                                                                                                                                                                                                                                                                                                                                                                                                                                                                                                                                                                                                                                                                                                                                                                                                                                                                                                                                                                       \n",
       "           evidence-878835   The CO 2-rich atmosphere generates the strongest greenhouse effect in the Solar System, creating surface temperatures of at least 735 K (462 °C; 864 °F).                                                                                                                                                                                                                                                                                                                                                                                                                                                                                                                                                                                                                                                                                                                                                                                                                                                                                                                                                                                                                                                                  \n",
       "claim-826  evidence-497197   \"Details the findings of a new report that confirms NOAA data about climate change.\"                                                                                                                                                                                                                                                                                                                                                                                                                                                                                                                                                                                                                                                                                                                                                                                                                                                                                                                                                                                                                                                                                                                                       \n",
       "claim-1066 evidence-876634   Since the 1950s, droughts and heat waves have appeared simultaneously with increasing frequency.                                                                                                                                                                                                                                                                                                                                                                                                                                                                                                                                                                                                                                                                                                                                                                                                                                                                                                                                                                                                                                                                                                                           \n",
       "claim-3003 evidence-175982   He also perceived global warming as a growing, man-made danger and likened it to the natural development of Venus into a hot, life-hostile planet through a kind of runaway greenhouse effect.                                                                                                                                                                                                                                                                                                                                                                                                                                                                                                                                                                                                                                                                                                                                                                                                                                                                                                                                                                                                                             \n",
       "           evidence-515817   The planet Venus experienced runaway greenhouse effect, resulting in an atmosphere which is 96% carbon dioxide, with surface atmospheric pressure roughly the same as found 900 m (3,000 ft) underwater on Earth.                                                                                                                                                                                                                                                                                                                                                                                                                                                                                                                                                                                                                                                                                                                                                                                                                                                                                                                                                                                                          \n",
       "           evidence-1009205  It may have had water oceans in the past, but these would have vaporized as the temperature rose due to a runaway greenhouse effect.                                                                                                                                                                                                                                                                                                                                                                                                                                                                                                                                                                                                                                                                                                                                                                                                                                                                                                                                                                                                                                                                                       \n",
       "claim-3059 evidence-368192   Increases in atmospheric concentrations of CO 2 and other long-lived greenhouse gases such as methane, nitrous oxide and ozone have correspondingly strengthened their absorption and emission of infrared radiation, causing the rise in average global temperature since the mid-20th century.                                                                                                                                                                                                                                                                                                                                                                                                                                                                                                                                                                                                                                                                                                                                                                                                                                                                                                                           \n",
       "           evidence-1148684  The strength of CFC absorption bands and the unique susceptibility of the atmosphere at wavelengths where CFCs (indeed all covalent fluorine compounds) absorb creates a “super” greenhouse effect from CFCs and other unreactive fluorine-containing gases such as perfluorocarbons, HFCs, HCFCs, bromofluorocarbons, SF6, and NF3.                                                                                                                                                                                                                                                                                                                                                                                                                                                                                                                                                                                                                                                                                                                                                                                                                                                                                       \n",
       "           evidence-457889   The seven sources of CO 2 from fossil fuel combustion are (with percentage contributions for 2000–2004): Carbon dioxide, methane, nitrous oxide (N 2O) and three groups of fluorinated gases (sulfur hexafluoride (SF 6), hydrofluorocarbons (HFCs), and perfluorocarbons (PFCs)) are the major anthropogenic greenhouse gases, and are regulated under the Kyoto Protocol international treaty, which came into force in 2005.                                                                                                                                                                                                                                                                                                                                                                                                                                                                                                                                                                                                                                                                                                                                                                                            \n",
       "           evidence-91026    Although CFCs are greenhouse gases, they are regulated by the Montreal Protocol, which was motivated by CFCs' contribution to ozone depletion rather than by their contribution to global warming.                                                                                                                                                                                                                                                                                                                                                                                                                                                                                                                                                                                                                                                                                                                                                                                                                                                                                                                                                                                                                         \n",
       "           evidence-813877   The report shows in detail the individual warming contributions (positive forcing) of carbon dioxide, methane, nitrous oxide, halocarbons, other human warming factors, and the warming effects of changes in solar activity.                                                                                                                                                                                                                                                                                                                                                                                                                                                                                                                                                                                                                                                                                                                                                                                                                                                                                                                                                                                              \n",
       "claim-568  evidence-555453   Regime shifts in polar regions include the melting of the Greenland ice sheet and the possible collapse of the thermohaline circulation system.                                                                                                                                                                                                                                                                                                                                                                                                                                                                                                                                                                                                                                                                                                                                                                                                                                                                                                                                                                                                                                                                            \n",
       "\n",
       "                             related  \n",
       "claim      evidence                   \n",
       "claim-1937 evidence-442946   1        \n",
       "           evidence-1194317  1        \n",
       "           evidence-12171    1        \n",
       "claim-126  evidence-338219   1        \n",
       "           evidence-1127398  1        \n",
       "claim-2510 evidence-530063   1        \n",
       "           evidence-984887   1        \n",
       "claim-2021 evidence-1177431  1        \n",
       "           evidence-782448   1        \n",
       "           evidence-540069   1        \n",
       "           evidence-352655   1        \n",
       "           evidence-1007867  1        \n",
       "claim-2449 evidence-1010750  1        \n",
       "           evidence-91661    1        \n",
       "           evidence-722725   1        \n",
       "           evidence-554161   1        \n",
       "           evidence-430839   1        \n",
       "claim-851  evidence-226174   1        \n",
       "           evidence-1049316  1        \n",
       "           evidence-358301   1        \n",
       "           evidence-493329   1        \n",
       "           evidence-610497   1        \n",
       "claim-2773 evidence-974673   1        \n",
       "           evidence-602109   1        \n",
       "claim-949  evidence-707654   1        \n",
       "           evidence-28478    1        \n",
       "           evidence-491579   1        \n",
       "claim-1019 evidence-863309   1        \n",
       "           evidence-61462    1        \n",
       "           evidence-639818   1        \n",
       "           evidence-757821   1        \n",
       "           evidence-263527   1        \n",
       "claim-2834 evidence-439640   1        \n",
       "claim-1441 evidence-217743   1        \n",
       "claim-1181 evidence-222694   1        \n",
       "           evidence-905909   1        \n",
       "           evidence-600745   1        \n",
       "           evidence-337702   1        \n",
       "           evidence-1015241  1        \n",
       "claim-2417 evidence-386828   1        \n",
       "           evidence-535248   1        \n",
       "           evidence-1078011  1        \n",
       "           evidence-975483   1        \n",
       "           evidence-177166   1        \n",
       "claim-2152 evidence-515817   1        \n",
       "           evidence-1018575  1        \n",
       "           evidence-791159   1        \n",
       "           evidence-1009205  1        \n",
       "           evidence-878835   1        \n",
       "claim-826  evidence-497197   1        \n",
       "claim-1066 evidence-876634   1        \n",
       "claim-3003 evidence-175982   1        \n",
       "           evidence-515817   1        \n",
       "           evidence-1009205  1        \n",
       "claim-3059 evidence-368192   1        \n",
       "           evidence-1148684  1        \n",
       "           evidence-457889   1        \n",
       "           evidence-91026    1        \n",
       "           evidence-813877   1        \n",
       "claim-568  evidence-555453   1        "
      ]
     },
     "execution_count": 5,
     "metadata": {},
     "output_type": "execute_result"
    }
   ],
   "source": [
    "train_data_file_path = \\\n",
    "    ROOT_DIR.joinpath(\"./result/train_data/train_claim_evidence_pair_rns.json\")\n",
    "with open(train_data_file_path, mode=\"r\") as f:\n",
    "    train_data = (\n",
    "        pd.read_json(f, orient=\"records\")\n",
    "        .set_index([\"claim\", \"evidence\"])\n",
    "    )\n",
    "print(train_data.shape)\n",
    "train_data.head(60)"
   ]
  },
  {
   "attachments": {},
   "cell_type": "markdown",
   "metadata": {},
   "source": [
    "## Basic preprocessing exploration"
   ]
  },
  {
   "cell_type": "code",
   "execution_count": 6,
   "metadata": {},
   "outputs": [],
   "source": [
    "def get_emb_similarity(claim_texts:list, evidence_texts:list) -> Tuple[float]:\n",
    "    emb_kwargs = {\"convert_to_tensor\": True, \"device\": torch_device}\n",
    "    claim_emb = embedder.encode(sentences=claim_texts, **emb_kwargs)\n",
    "    evidence_emb = embedder.encode(sentences=evidence_texts, **emb_kwargs)\n",
    "    score = util.cos_sim(a=claim_emb, b=evidence_emb)\n",
    "    return score"
   ]
  },
  {
   "attachments": {},
   "cell_type": "markdown",
   "metadata": {},
   "source": [
    "### Lower case\n",
    "\n",
    "Impact of casting to lower case."
   ]
  },
  {
   "cell_type": "code",
   "execution_count": 7,
   "metadata": {},
   "outputs": [
    {
     "name": "stderr",
     "output_type": "stream",
     "text": [
      "/var/folders/j0/q0c6qv3j52qfv9gjdc2q6d1r0000gn/T/com.apple.shortcuts.mac-helper/ipykernel_40802/1524429125.py:1: PerformanceWarning: indexing past lexsort depth may impact performance.\n",
      "  test_A = train_data.loc[(\"claim-2510\", \"evidence-984887\")]\n"
     ]
    },
    {
     "data": {
      "text/html": [
       "<div>\n",
       "<style scoped>\n",
       "    .dataframe tbody tr th:only-of-type {\n",
       "        vertical-align: middle;\n",
       "    }\n",
       "\n",
       "    .dataframe tbody tr th {\n",
       "        vertical-align: top;\n",
       "    }\n",
       "\n",
       "    .dataframe thead th {\n",
       "        text-align: right;\n",
       "    }\n",
       "</style>\n",
       "<table border=\"1\" class=\"dataframe\">\n",
       "  <thead>\n",
       "    <tr style=\"text-align: right;\">\n",
       "      <th></th>\n",
       "      <th></th>\n",
       "      <th>claim_text</th>\n",
       "      <th>evidence_text</th>\n",
       "      <th>related</th>\n",
       "    </tr>\n",
       "    <tr>\n",
       "      <th>claim</th>\n",
       "      <th>evidence</th>\n",
       "      <th></th>\n",
       "      <th></th>\n",
       "      <th></th>\n",
       "    </tr>\n",
       "  </thead>\n",
       "  <tbody>\n",
       "    <tr>\n",
       "      <th>claim-2510</th>\n",
       "      <th>evidence-984887</th>\n",
       "      <td>In 1946, PDO switched to a cool phase.</td>\n",
       "      <td>1945/1946: The PDO changed to a \"cool\" phase, the pattern of this regime shift is similar to the 1970s episode with maximum amplitude in the subarctic and subtropical front but with a greater signature near the Japan while the 1970s shift was stronger near the American west coast.</td>\n",
       "      <td>1</td>\n",
       "    </tr>\n",
       "  </tbody>\n",
       "</table>\n",
       "</div>"
      ],
      "text/plain": [
       "                                                        claim_text   \n",
       "claim      evidence                                                  \n",
       "claim-2510 evidence-984887  In 1946, PDO switched to a cool phase.  \\\n",
       "\n",
       "                                                                                                                                                                                                                                                                                                        evidence_text   \n",
       "claim      evidence                                                                                                                                                                                                                                                                                                     \n",
       "claim-2510 evidence-984887  1945/1946: The PDO changed to a \"cool\" phase, the pattern of this regime shift is similar to the 1970s episode with maximum amplitude in the subarctic and subtropical front but with a greater signature near the Japan while the 1970s shift was stronger near the American west coast.  \\\n",
       "\n",
       "                            related  \n",
       "claim      evidence                  \n",
       "claim-2510 evidence-984887  1        "
      ]
     },
     "execution_count": 7,
     "metadata": {},
     "output_type": "execute_result"
    }
   ],
   "source": [
    "test_A = train_data.loc[(\"claim-2510\", \"evidence-984887\")]\n",
    "test_A"
   ]
  },
  {
   "cell_type": "code",
   "execution_count": 8,
   "metadata": {},
   "outputs": [
    {
     "data": {
      "text/plain": [
       "tensor([[0.9589]], device='mps:0')"
      ]
     },
     "execution_count": 8,
     "metadata": {},
     "output_type": "execute_result"
    }
   ],
   "source": [
    "get_emb_similarity(\n",
    "    claim_texts=test_A[\"claim_text\"].tolist(),\n",
    "    evidence_texts=test_A[\"evidence_text\"].values.tolist()\n",
    ")"
   ]
  },
  {
   "cell_type": "code",
   "execution_count": 9,
   "metadata": {},
   "outputs": [
    {
     "data": {
      "text/plain": [
       "tensor([[0.9589]], device='mps:0')"
      ]
     },
     "execution_count": 9,
     "metadata": {},
     "output_type": "execute_result"
    }
   ],
   "source": [
    "get_emb_similarity(\n",
    "    claim_texts=test_A[\"claim_text\"].str.lower().tolist(),\n",
    "    evidence_texts=test_A[\"evidence_text\"].str.lower().values.tolist()\n",
    ")"
   ]
  },
  {
   "attachments": {},
   "cell_type": "markdown",
   "metadata": {},
   "source": [
    "### Replace special tokens"
   ]
  },
  {
   "cell_type": "code",
   "execution_count": 10,
   "metadata": {},
   "outputs": [
    {
     "data": {
      "text/plain": [
       "['repl_special_token',\n",
       " 'transformer',\n",
       " 'tagger',\n",
       " 'parser',\n",
       " 'attribute_ruler',\n",
       " 'lemmatizer',\n",
       " 'ner']"
      ]
     },
     "execution_count": 10,
     "metadata": {},
     "output_type": "execute_result"
    }
   ],
   "source": [
    "test_nlp = copy.deepcopy(nlp)\n",
    "test_nlp.add_pipe(\"repl_special_token\", first=True)\n",
    "test_nlp.pipe_names"
   ]
  },
  {
   "attachments": {},
   "cell_type": "markdown",
   "metadata": {},
   "source": [
    "#### Test case: CO2, CO 2, carbon dioxide"
   ]
  },
  {
   "cell_type": "code",
   "execution_count": 11,
   "metadata": {},
   "outputs": [
    {
     "name": "stderr",
     "output_type": "stream",
     "text": [
      "/var/folders/j0/q0c6qv3j52qfv9gjdc2q6d1r0000gn/T/com.apple.shortcuts.mac-helper/ipykernel_40802/2445213673.py:1: PerformanceWarning: indexing past lexsort depth may impact performance.\n",
      "  test_A = train_data.loc[(\"claim-1937\", \"evidence-12171\")]\n"
     ]
    },
    {
     "data": {
      "text/html": [
       "<div>\n",
       "<style scoped>\n",
       "    .dataframe tbody tr th:only-of-type {\n",
       "        vertical-align: middle;\n",
       "    }\n",
       "\n",
       "    .dataframe tbody tr th {\n",
       "        vertical-align: top;\n",
       "    }\n",
       "\n",
       "    .dataframe thead th {\n",
       "        text-align: right;\n",
       "    }\n",
       "</style>\n",
       "<table border=\"1\" class=\"dataframe\">\n",
       "  <thead>\n",
       "    <tr style=\"text-align: right;\">\n",
       "      <th></th>\n",
       "      <th></th>\n",
       "      <th>claim_text</th>\n",
       "      <th>evidence_text</th>\n",
       "      <th>related</th>\n",
       "    </tr>\n",
       "    <tr>\n",
       "      <th>claim</th>\n",
       "      <th>evidence</th>\n",
       "      <th></th>\n",
       "      <th></th>\n",
       "      <th></th>\n",
       "    </tr>\n",
       "  </thead>\n",
       "  <tbody>\n",
       "    <tr>\n",
       "      <th>claim-1937</th>\n",
       "      <th>evidence-12171</th>\n",
       "      <td>Not only is there no scientific evidence that CO2 is a pollutant, higher CO2 concentrations actually help ecosystems support more plant and animal life.</td>\n",
       "      <td>Higher carbon dioxide concentrations will favourably affect plant growth and demand for water.</td>\n",
       "      <td>1</td>\n",
       "    </tr>\n",
       "  </tbody>\n",
       "</table>\n",
       "</div>"
      ],
      "text/plain": [
       "                                                                                                                                                                         claim_text   \n",
       "claim      evidence                                                                                                                                                                   \n",
       "claim-1937 evidence-12171  Not only is there no scientific evidence that CO2 is a pollutant, higher CO2 concentrations actually help ecosystems support more plant and animal life.  \\\n",
       "\n",
       "                                                                                                            evidence_text   \n",
       "claim      evidence                                                                                                         \n",
       "claim-1937 evidence-12171  Higher carbon dioxide concentrations will favourably affect plant growth and demand for water.  \\\n",
       "\n",
       "                           related  \n",
       "claim      evidence                 \n",
       "claim-1937 evidence-12171  1        "
      ]
     },
     "execution_count": 11,
     "metadata": {},
     "output_type": "execute_result"
    }
   ],
   "source": [
    "test_A = train_data.loc[(\"claim-1937\", \"evidence-12171\")]\n",
    "test_A"
   ]
  },
  {
   "cell_type": "code",
   "execution_count": 12,
   "metadata": {},
   "outputs": [
    {
     "data": {
      "text/plain": [
       "tensor([[0.9141]], device='mps:0')"
      ]
     },
     "execution_count": 12,
     "metadata": {},
     "output_type": "execute_result"
    }
   ],
   "source": [
    "get_emb_similarity(\n",
    "    claim_texts=test_A[\"claim_text\"].tolist(),\n",
    "    evidence_texts=test_A[\"evidence_text\"].values.tolist()\n",
    ")"
   ]
  },
  {
   "cell_type": "code",
   "execution_count": 13,
   "metadata": {},
   "outputs": [
    {
     "data": {
      "text/html": [
       "<div>\n",
       "<style scoped>\n",
       "    .dataframe tbody tr th:only-of-type {\n",
       "        vertical-align: middle;\n",
       "    }\n",
       "\n",
       "    .dataframe tbody tr th {\n",
       "        vertical-align: top;\n",
       "    }\n",
       "\n",
       "    .dataframe thead th {\n",
       "        text-align: right;\n",
       "    }\n",
       "</style>\n",
       "<table border=\"1\" class=\"dataframe\">\n",
       "  <thead>\n",
       "    <tr style=\"text-align: right;\">\n",
       "      <th></th>\n",
       "      <th></th>\n",
       "      <th>claim_text</th>\n",
       "      <th>evidence_text</th>\n",
       "      <th>related</th>\n",
       "    </tr>\n",
       "    <tr>\n",
       "      <th>claim</th>\n",
       "      <th>evidence</th>\n",
       "      <th></th>\n",
       "      <th></th>\n",
       "      <th></th>\n",
       "    </tr>\n",
       "  </thead>\n",
       "  <tbody>\n",
       "    <tr>\n",
       "      <th>claim-1937</th>\n",
       "      <th>evidence-12171</th>\n",
       "      <td>Not only is there no scientific evidence that carbon dioxide is a pollutant, higher carbon dioxide concentrations actually help ecosystems support more plant and animal life.</td>\n",
       "      <td>Higher carbon dioxide concentrations will favourably affect plant growth and demand for water.</td>\n",
       "      <td>1</td>\n",
       "    </tr>\n",
       "  </tbody>\n",
       "</table>\n",
       "</div>"
      ],
      "text/plain": [
       "                                                                                                                                                                                               claim_text   \n",
       "claim      evidence                                                                                                                                                                                         \n",
       "claim-1937 evidence-12171  Not only is there no scientific evidence that carbon dioxide is a pollutant, higher carbon dioxide concentrations actually help ecosystems support more plant and animal life.  \\\n",
       "\n",
       "                                                                                                            evidence_text   \n",
       "claim      evidence                                                                                                         \n",
       "claim-1937 evidence-12171  Higher carbon dioxide concentrations will favourably affect plant growth and demand for water.  \\\n",
       "\n",
       "                           related  \n",
       "claim      evidence                 \n",
       "claim-1937 evidence-12171  1        "
      ]
     },
     "execution_count": 13,
     "metadata": {},
     "output_type": "execute_result"
    }
   ],
   "source": [
    "test_B = test_A.copy()\n",
    "cols = [\"claim_text\", \"evidence_text\"]\n",
    "test_B[cols] = test_A[cols].applymap(lambda t: test_nlp(t).text)\n",
    "test_B"
   ]
  },
  {
   "cell_type": "code",
   "execution_count": 14,
   "metadata": {},
   "outputs": [
    {
     "data": {
      "text/plain": [
       "tensor([[0.9309]], device='mps:0')"
      ]
     },
     "execution_count": 14,
     "metadata": {},
     "output_type": "execute_result"
    }
   ],
   "source": [
    "get_emb_similarity(\n",
    "    claim_texts=test_B[\"claim_text\"].tolist(),\n",
    "    evidence_texts=test_B[\"evidence_text\"].values.tolist()\n",
    ")"
   ]
  },
  {
   "attachments": {},
   "cell_type": "markdown",
   "metadata": {},
   "source": [
    "#### Test case: temperature symbol"
   ]
  },
  {
   "cell_type": "code",
   "execution_count": 15,
   "metadata": {},
   "outputs": [
    {
     "name": "stderr",
     "output_type": "stream",
     "text": [
      "/var/folders/j0/q0c6qv3j52qfv9gjdc2q6d1r0000gn/T/com.apple.shortcuts.mac-helper/ipykernel_40802/2450502251.py:1: PerformanceWarning: indexing past lexsort depth may impact performance.\n",
      "  test_A = train_data.loc[(\"claim-2449\", \"evidence-1010750\")]\n"
     ]
    },
    {
     "data": {
      "text/html": [
       "<div>\n",
       "<style scoped>\n",
       "    .dataframe tbody tr th:only-of-type {\n",
       "        vertical-align: middle;\n",
       "    }\n",
       "\n",
       "    .dataframe tbody tr th {\n",
       "        vertical-align: top;\n",
       "    }\n",
       "\n",
       "    .dataframe thead th {\n",
       "        text-align: right;\n",
       "    }\n",
       "</style>\n",
       "<table border=\"1\" class=\"dataframe\">\n",
       "  <thead>\n",
       "    <tr style=\"text-align: right;\">\n",
       "      <th></th>\n",
       "      <th></th>\n",
       "      <th>claim_text</th>\n",
       "      <th>evidence_text</th>\n",
       "      <th>related</th>\n",
       "    </tr>\n",
       "    <tr>\n",
       "      <th>claim</th>\n",
       "      <th>evidence</th>\n",
       "      <th></th>\n",
       "      <th></th>\n",
       "      <th></th>\n",
       "    </tr>\n",
       "  </thead>\n",
       "  <tbody>\n",
       "    <tr>\n",
       "      <th>claim-2449</th>\n",
       "      <th>evidence-1010750</th>\n",
       "      <td>\"January 2008 capped a 12 month period of global temperature drops on all of the major well respected indicators.</td>\n",
       "      <td>With average temperature +8.1 °C (47 °F).</td>\n",
       "      <td>1</td>\n",
       "    </tr>\n",
       "  </tbody>\n",
       "</table>\n",
       "</div>"
      ],
      "text/plain": [
       "                                                                                                                                    claim_text   \n",
       "claim      evidence                                                                                                                              \n",
       "claim-2449 evidence-1010750  \"January 2008 capped a 12 month period of global temperature drops on all of the major well respected indicators.  \\\n",
       "\n",
       "                                                         evidence_text   \n",
       "claim      evidence                                                      \n",
       "claim-2449 evidence-1010750  With average temperature +8.1 °C (47 °F).  \\\n",
       "\n",
       "                             related  \n",
       "claim      evidence                   \n",
       "claim-2449 evidence-1010750  1        "
      ]
     },
     "execution_count": 15,
     "metadata": {},
     "output_type": "execute_result"
    }
   ],
   "source": [
    "test_A = train_data.loc[(\"claim-2449\", \"evidence-1010750\")]\n",
    "test_A"
   ]
  },
  {
   "cell_type": "code",
   "execution_count": 16,
   "metadata": {},
   "outputs": [
    {
     "data": {
      "text/plain": [
       "tensor([[0.9069]], device='mps:0')"
      ]
     },
     "execution_count": 16,
     "metadata": {},
     "output_type": "execute_result"
    }
   ],
   "source": [
    "get_emb_similarity(\n",
    "    claim_texts=test_A[\"claim_text\"].tolist(),\n",
    "    evidence_texts=test_A[\"evidence_text\"].values.tolist()\n",
    ")"
   ]
  },
  {
   "cell_type": "code",
   "execution_count": 17,
   "metadata": {},
   "outputs": [
    {
     "data": {
      "text/html": [
       "<div>\n",
       "<style scoped>\n",
       "    .dataframe tbody tr th:only-of-type {\n",
       "        vertical-align: middle;\n",
       "    }\n",
       "\n",
       "    .dataframe tbody tr th {\n",
       "        vertical-align: top;\n",
       "    }\n",
       "\n",
       "    .dataframe thead th {\n",
       "        text-align: right;\n",
       "    }\n",
       "</style>\n",
       "<table border=\"1\" class=\"dataframe\">\n",
       "  <thead>\n",
       "    <tr style=\"text-align: right;\">\n",
       "      <th></th>\n",
       "      <th></th>\n",
       "      <th>claim_text</th>\n",
       "      <th>evidence_text</th>\n",
       "      <th>related</th>\n",
       "    </tr>\n",
       "    <tr>\n",
       "      <th>claim</th>\n",
       "      <th>evidence</th>\n",
       "      <th></th>\n",
       "      <th></th>\n",
       "      <th></th>\n",
       "    </tr>\n",
       "  </thead>\n",
       "  <tbody>\n",
       "    <tr>\n",
       "      <th>claim-2449</th>\n",
       "      <th>evidence-1010750</th>\n",
       "      <td>\"January 2008 capped a 12 month period of global temperature drops on all of the major well respected indicators.</td>\n",
       "      <td>With average temperature +8.1 degree celcius temperature (47 degree fahrenheit temperature).</td>\n",
       "      <td>1</td>\n",
       "    </tr>\n",
       "  </tbody>\n",
       "</table>\n",
       "</div>"
      ],
      "text/plain": [
       "                                                                                                                                    claim_text   \n",
       "claim      evidence                                                                                                                              \n",
       "claim-2449 evidence-1010750  \"January 2008 capped a 12 month period of global temperature drops on all of the major well respected indicators.  \\\n",
       "\n",
       "                                                                                                            evidence_text   \n",
       "claim      evidence                                                                                                         \n",
       "claim-2449 evidence-1010750  With average temperature +8.1 degree celcius temperature (47 degree fahrenheit temperature).  \\\n",
       "\n",
       "                             related  \n",
       "claim      evidence                   \n",
       "claim-2449 evidence-1010750  1        "
      ]
     },
     "execution_count": 17,
     "metadata": {},
     "output_type": "execute_result"
    }
   ],
   "source": [
    "test_B = test_A.copy()\n",
    "cols = [\"claim_text\", \"evidence_text\"]\n",
    "test_B[cols] = test_A[cols].applymap(lambda t: test_nlp(t).text)\n",
    "test_B"
   ]
  },
  {
   "cell_type": "code",
   "execution_count": 18,
   "metadata": {},
   "outputs": [
    {
     "data": {
      "text/plain": [
       "tensor([[0.8969]], device='mps:0')"
      ]
     },
     "execution_count": 18,
     "metadata": {},
     "output_type": "execute_result"
    }
   ],
   "source": [
    "get_emb_similarity(\n",
    "    claim_texts=test_B[\"claim_text\"].tolist(),\n",
    "    evidence_texts=test_B[\"evidence_text\"].values.tolist()\n",
    ")"
   ]
  },
  {
   "attachments": {},
   "cell_type": "markdown",
   "metadata": {},
   "source": [
    "## Preprocessing pipe"
   ]
  },
  {
   "cell_type": "code",
   "execution_count": 19,
   "metadata": {},
   "outputs": [
    {
     "data": {
      "text/plain": [
       "['repl_special_token',\n",
       " 'transformer',\n",
       " 'tagger',\n",
       " 'parser',\n",
       " 'attribute_ruler',\n",
       " 'lemmatizer',\n",
       " 'ner']"
      ]
     },
     "execution_count": 19,
     "metadata": {},
     "output_type": "execute_result"
    }
   ],
   "source": [
    "nlp.add_pipe(\"repl_special_token\", first=True)\n",
    "nlp.pipe_names"
   ]
  },
  {
   "attachments": {},
   "cell_type": "markdown",
   "metadata": {},
   "source": [
    "#### Test case: dispute due to negation"
   ]
  },
  {
   "cell_type": "code",
   "execution_count": 20,
   "metadata": {},
   "outputs": [
    {
     "name": "stderr",
     "output_type": "stream",
     "text": [
      "/var/folders/j0/q0c6qv3j52qfv9gjdc2q6d1r0000gn/T/com.apple.shortcuts.mac-helper/ipykernel_40802/1613035788.py:1: PerformanceWarning: indexing past lexsort depth may impact performance.\n",
      "  test_A = train_data.loc[(\"claim-3003\", \"evidence-515817\")]\n"
     ]
    },
    {
     "data": {
      "text/html": [
       "<div>\n",
       "<style scoped>\n",
       "    .dataframe tbody tr th:only-of-type {\n",
       "        vertical-align: middle;\n",
       "    }\n",
       "\n",
       "    .dataframe tbody tr th {\n",
       "        vertical-align: top;\n",
       "    }\n",
       "\n",
       "    .dataframe thead th {\n",
       "        text-align: right;\n",
       "    }\n",
       "</style>\n",
       "<table border=\"1\" class=\"dataframe\">\n",
       "  <thead>\n",
       "    <tr style=\"text-align: right;\">\n",
       "      <th></th>\n",
       "      <th></th>\n",
       "      <th>claim_text</th>\n",
       "      <th>evidence_text</th>\n",
       "      <th>related</th>\n",
       "    </tr>\n",
       "    <tr>\n",
       "      <th>claim</th>\n",
       "      <th>evidence</th>\n",
       "      <th></th>\n",
       "      <th></th>\n",
       "      <th></th>\n",
       "    </tr>\n",
       "  </thead>\n",
       "  <tbody>\n",
       "    <tr>\n",
       "      <th>claim-3003</th>\n",
       "      <th>evidence-515817</th>\n",
       "      <td>Venus is not hot because of a runaway greenhouse.</td>\n",
       "      <td>The planet Venus experienced runaway greenhouse effect, resulting in an atmosphere which is 96% carbon dioxide, with surface atmospheric pressure roughly the same as found 900 m (3,000 ft) underwater on Earth.</td>\n",
       "      <td>1</td>\n",
       "    </tr>\n",
       "  </tbody>\n",
       "</table>\n",
       "</div>"
      ],
      "text/plain": [
       "                                                                   claim_text   \n",
       "claim      evidence                                                             \n",
       "claim-3003 evidence-515817  Venus is not hot because of a runaway greenhouse.  \\\n",
       "\n",
       "                                                                                                                                                                                                                                evidence_text   \n",
       "claim      evidence                                                                                                                                                                                                                             \n",
       "claim-3003 evidence-515817  The planet Venus experienced runaway greenhouse effect, resulting in an atmosphere which is 96% carbon dioxide, with surface atmospheric pressure roughly the same as found 900 m (3,000 ft) underwater on Earth.  \\\n",
       "\n",
       "                            related  \n",
       "claim      evidence                  \n",
       "claim-3003 evidence-515817  1        "
      ]
     },
     "execution_count": 20,
     "metadata": {},
     "output_type": "execute_result"
    }
   ],
   "source": [
    "test_A = train_data.loc[(\"claim-3003\", \"evidence-515817\")]\n",
    "test_A"
   ]
  },
  {
   "cell_type": "code",
   "execution_count": 21,
   "metadata": {},
   "outputs": [
    {
     "data": {
      "text/plain": [
       "tensor([[0.9335]], device='mps:0')"
      ]
     },
     "execution_count": 21,
     "metadata": {},
     "output_type": "execute_result"
    }
   ],
   "source": [
    "get_emb_similarity(\n",
    "    claim_texts=test_A[\"claim_text\"].tolist(),\n",
    "    evidence_texts=test_A[\"evidence_text\"].values.tolist()\n",
    ")"
   ]
  },
  {
   "cell_type": "code",
   "execution_count": 22,
   "metadata": {},
   "outputs": [
    {
     "data": {
      "text/html": [
       "<div>\n",
       "<style scoped>\n",
       "    .dataframe tbody tr th:only-of-type {\n",
       "        vertical-align: middle;\n",
       "    }\n",
       "\n",
       "    .dataframe tbody tr th {\n",
       "        vertical-align: top;\n",
       "    }\n",
       "\n",
       "    .dataframe thead th {\n",
       "        text-align: right;\n",
       "    }\n",
       "</style>\n",
       "<table border=\"1\" class=\"dataframe\">\n",
       "  <thead>\n",
       "    <tr style=\"text-align: right;\">\n",
       "      <th></th>\n",
       "      <th></th>\n",
       "      <th>claim_text</th>\n",
       "      <th>evidence_text</th>\n",
       "      <th>related</th>\n",
       "    </tr>\n",
       "    <tr>\n",
       "      <th>claim</th>\n",
       "      <th>evidence</th>\n",
       "      <th></th>\n",
       "      <th></th>\n",
       "      <th></th>\n",
       "    </tr>\n",
       "  </thead>\n",
       "  <tbody>\n",
       "    <tr>\n",
       "      <th>claim-3003</th>\n",
       "      <th>evidence-515817</th>\n",
       "      <td>venus be hot because of a runaway greenhouse .</td>\n",
       "      <td>the planet venus experience runaway greenhouse effect , result in an atmosphere which be 96 % carbon dioxide , with surface atmospheric pressure roughly the same as find 900   m ( 3,000   ft ) underwater on earth .</td>\n",
       "      <td>1</td>\n",
       "    </tr>\n",
       "  </tbody>\n",
       "</table>\n",
       "</div>"
      ],
      "text/plain": [
       "                                                                claim_text   \n",
       "claim      evidence                                                          \n",
       "claim-3003 evidence-515817  venus be hot because of a runaway greenhouse .  \\\n",
       "\n",
       "                                                                                                                                                                                                                                     evidence_text   \n",
       "claim      evidence                                                                                                                                                                                                                                  \n",
       "claim-3003 evidence-515817  the planet venus experience runaway greenhouse effect , result in an atmosphere which be 96 % carbon dioxide , with surface atmospheric pressure roughly the same as find 900   m ( 3,000   ft ) underwater on earth .  \\\n",
       "\n",
       "                            related  \n",
       "claim      evidence                  \n",
       "claim-3003 evidence-515817  1        "
      ]
     },
     "execution_count": 22,
     "metadata": {},
     "output_type": "execute_result"
    }
   ],
   "source": [
    "test_B = test_A.copy()\n",
    "cols = [\"claim_text\", \"evidence_text\"]\n",
    "test_B[cols] = test_A[cols].applymap(process_sentence, nlp=nlp)\n",
    "test_B"
   ]
  },
  {
   "cell_type": "code",
   "execution_count": 23,
   "metadata": {},
   "outputs": [
    {
     "data": {
      "text/plain": [
       "tensor([[0.9397]], device='mps:0')"
      ]
     },
     "execution_count": 23,
     "metadata": {},
     "output_type": "execute_result"
    }
   ],
   "source": [
    "get_emb_similarity(\n",
    "    claim_texts=test_B[\"claim_text\"].tolist(),\n",
    "    evidence_texts=test_B[\"evidence_text\"].values.tolist()\n",
    ")"
   ]
  }
 ],
 "metadata": {
  "kernelspec": {
   "display_name": "comp90042_project",
   "language": "python",
   "name": "python3"
  },
  "language_info": {
   "codemirror_mode": {
    "name": "ipython",
    "version": 3
   },
   "file_extension": ".py",
   "mimetype": "text/x-python",
   "name": "python",
   "nbconvert_exporter": "python",
   "pygments_lexer": "ipython3",
   "version": "3.8.16"
  },
  "orig_nbformat": 4
 },
 "nbformat": 4,
 "nbformat_minor": 2
}
